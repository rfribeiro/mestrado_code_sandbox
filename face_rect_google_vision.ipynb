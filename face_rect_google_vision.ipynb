{
 "cells": [
  {
   "cell_type": "code",
   "execution_count": 1,
   "metadata": {},
   "outputs": [],
   "source": [
    "%matplotlib inline\n",
    "\n",
    "import glob\n",
    "import pandas as pd\n",
    "import yaml\n",
    "import numpy as np\n",
    "import cv2\n",
    "import time"
   ]
  },
  {
   "cell_type": "code",
   "execution_count": 2,
   "metadata": {},
   "outputs": [],
   "source": [
    "from google.cloud import vision\n",
    "from google.cloud.vision import types\n",
    "from google.protobuf import text_format\n",
    "import io"
   ]
  },
  {
   "cell_type": "code",
   "execution_count": 3,
   "metadata": {},
   "outputs": [],
   "source": [
    "import os\n",
    "import sys\n",
    "os.environ[\"GOOGLE_APPLICATION_CREDENTIALS\"]='apikey.json'"
   ]
  },
  {
   "cell_type": "code",
   "execution_count": 4,
   "metadata": {},
   "outputs": [],
   "source": [
    "path = '.'\n",
    "prefix = 'E:\\\\MestradoData\\\\'\n",
    "wildcard = '\\\\*_'\n",
    "persons = [[\"p{:03d}\".format(i),\"{:d}\".format(i)] for i in range(45,46)]\n",
    "#classes = [i for i in range(1,20)]\n",
    "classes = [1,6,10]\n",
    "suffix = '_{:d}'\n",
    "type_file = 'rgb'"
   ]
  },
  {
   "cell_type": "code",
   "execution_count": 5,
   "metadata": {},
   "outputs": [
    {
     "data": {
      "text/plain": [
       "[['p045', '45']]"
      ]
     },
     "execution_count": 5,
     "metadata": {},
     "output_type": "execute_result"
    }
   ],
   "source": [
    "persons"
   ]
  },
  {
   "cell_type": "code",
   "execution_count": 6,
   "metadata": {},
   "outputs": [],
   "source": [
    "def get_face_rect_default(pclass, person, data, files_list):\n",
    "    if len(files_list) >= 4:\n",
    "        sample = [pclass, person]\n",
    "        for i in range(4):\n",
    "            sample.append(files_list[i])\n",
    "            sample.append(face_rect[i][1])\n",
    "            sample.append(face_rect[i][0])\n",
    "            sample.append(face_rect[i][1]+face_window)\n",
    "            sample.append(face_rect[i][0]+face_window)\n",
    "        #print(sample)\n",
    "        data.append(sample)"
   ]
  },
  {
   "cell_type": "code",
   "execution_count": 7,
   "metadata": {},
   "outputs": [],
   "source": [
    "def detect_face_google_vision(file_name):\n",
    "    with io.open(file_name, 'rb') as image_file:\n",
    "        content = image_file.read()\n",
    "        \n",
    "    image = types.Image(content=content)\n",
    "    \n",
    "    response = client.face_detection(image=image)\n",
    "    \n",
    "    faces = response.face_annotations\n",
    "    for face in faces:\n",
    "        vertices = (['({},{})'.format(vertex.x, vertex.y)\n",
    "                for vertex in face.bounding_poly.vertices])\n",
    "        print('face bounds: {}'.format(','.join(vertices)))\n",
    "    \n",
    "    return response"
   ]
  },
  {
   "cell_type": "code",
   "execution_count": 8,
   "metadata": {},
   "outputs": [
    {
     "name": "stdout",
     "output_type": "stream",
     "text": [
      "E:\\MestradoData\\p045\\*_1_rgb_1.bmp 1 ['E:\\\\MestradoData\\\\p045\\\\45_1_rgb_1.bmp']\n",
      "face bounds: (142,68),(247,68),(247,190),(142,190)\n",
      "E:\\MestradoData\\p045\\*_1_rgb_31.bmp 1 ['E:\\\\MestradoData\\\\p045\\\\45_1_rgb_31.bmp']\n",
      "face bounds: (138,68),(242,68),(242,189),(138,189)\n",
      "E:\\MestradoData\\p045\\*_1_rgb_61.bmp 1 ['E:\\\\MestradoData\\\\p045\\\\45_1_rgb_61.bmp']\n",
      "face bounds: (141,71),(245,71),(245,192),(141,192)\n",
      "E:\\MestradoData\\p045\\*_1_rgb_91.bmp 1 ['E:\\\\MestradoData\\\\p045\\\\45_1_rgb_91.bmp']\n",
      "face bounds: (143,70),(248,70),(248,193),(143,193)\n",
      "E:\\MestradoData\\p045\\*_1_rgb_121.bmp 1 ['E:\\\\MestradoData\\\\p045\\\\45_1_rgb_121.bmp']\n",
      "face bounds: (143,70),(248,70),(248,193),(143,193)\n",
      "E:\\MestradoData\\p045\\*_1_rgb_151.bmp 1 ['E:\\\\MestradoData\\\\p045\\\\45_1_rgb_151.bmp']\n",
      "face bounds: (143,70),(248,70),(248,193),(143,193)\n",
      "E:\\MestradoData\\p045\\*_1_rgb_181.bmp 1 ['E:\\\\MestradoData\\\\p045\\\\45_1_rgb_181.bmp']\n",
      "face bounds: (142,70),(247,70),(247,192),(142,192)\n",
      "E:\\MestradoData\\p045\\*_1_rgb_211.bmp 1 ['E:\\\\MestradoData\\\\p045\\\\45_1_rgb_211.bmp']\n",
      "face bounds: (142,70),(247,70),(247,192),(142,192)\n",
      "E:\\MestradoData\\p045\\*_1_rgb_241.bmp 1 ['E:\\\\MestradoData\\\\p045\\\\45_1_rgb_241.bmp']\n",
      "face bounds: (143,70),(248,70),(248,192),(143,192)\n",
      "E:\\MestradoData\\p045\\*_1_rgb_271.bmp 1 ['E:\\\\MestradoData\\\\p045\\\\45_1_rgb_271.bmp']\n",
      "face bounds: (142,70),(247,70),(247,192),(142,192)\n",
      "E:\\MestradoData\\p045\\*_6_rgb_1.bmp 1 ['E:\\\\MestradoData\\\\p045\\\\45_6_rgb_1.bmp']\n",
      "face bounds: (125,70),(222,70),(222,183),(125,183)\n",
      "E:\\MestradoData\\p045\\*_6_rgb_31.bmp 1 ['E:\\\\MestradoData\\\\p045\\\\45_6_rgb_31.bmp']\n",
      "face bounds: (125,71),(222,71),(222,184),(125,184)\n",
      "E:\\MestradoData\\p045\\*_6_rgb_61.bmp 1 ['E:\\\\MestradoData\\\\p045\\\\45_6_rgb_61.bmp']\n",
      "face bounds: (124,73),(220,73),(220,184),(124,184)\n",
      "E:\\MestradoData\\p045\\*_6_rgb_91.bmp 1 ['E:\\\\MestradoData\\\\p045\\\\45_6_rgb_91.bmp']\n",
      "face bounds: (125,74),(219,74),(219,183),(125,183)\n",
      "E:\\MestradoData\\p045\\*_6_rgb_121.bmp 1 ['E:\\\\MestradoData\\\\p045\\\\45_6_rgb_121.bmp']\n",
      "face bounds: (123,73),(219,73),(219,185),(123,185)\n",
      "E:\\MestradoData\\p045\\*_6_rgb_151.bmp 1 ['E:\\\\MestradoData\\\\p045\\\\45_6_rgb_151.bmp']\n",
      "face bounds: (124,74),(218,74),(218,184),(124,184)\n",
      "E:\\MestradoData\\p045\\*_6_rgb_181.bmp 1 ['E:\\\\MestradoData\\\\p045\\\\45_6_rgb_181.bmp']\n",
      "face bounds: (121,74),(217,74),(217,186),(121,186)\n",
      "E:\\MestradoData\\p045\\*_6_rgb_211.bmp 1 ['E:\\\\MestradoData\\\\p045\\\\45_6_rgb_211.bmp']\n",
      "face bounds: (120,73),(219,73),(219,189),(120,189)\n",
      "E:\\MestradoData\\p045\\*_6_rgb_241.bmp 1 ['E:\\\\MestradoData\\\\p045\\\\45_6_rgb_241.bmp']\n",
      "face bounds: (121,75),(215,75),(215,185),(121,185)\n",
      "E:\\MestradoData\\p045\\*_6_rgb_271.bmp 1 ['E:\\\\MestradoData\\\\p045\\\\45_6_rgb_271.bmp']\n",
      "face bounds: (128,75),(220,75),(220,182),(128,182)\n",
      "E:\\MestradoData\\p045\\*_10_rgb_1.bmp 1 ['E:\\\\MestradoData\\\\p045\\\\45_10_rgb_1.bmp']\n",
      "face bounds: (145,70),(246,70),(246,188),(145,188)\n",
      "E:\\MestradoData\\p045\\*_10_rgb_31.bmp 1 ['E:\\\\MestradoData\\\\p045\\\\45_10_rgb_31.bmp']\n",
      "face bounds: (146,71),(245,71),(245,186),(146,186)\n",
      "E:\\MestradoData\\p045\\*_10_rgb_61.bmp 1 ['E:\\\\MestradoData\\\\p045\\\\45_10_rgb_61.bmp']\n",
      "face bounds: (145,71),(246,71),(246,188),(145,188)\n",
      "E:\\MestradoData\\p045\\*_10_rgb_91.bmp 1 ['E:\\\\MestradoData\\\\p045\\\\45_10_rgb_91.bmp']\n",
      "face bounds: (147,72),(243,72),(243,184),(147,184)\n",
      "E:\\MestradoData\\p045\\*_10_rgb_121.bmp 1 ['E:\\\\MestradoData\\\\p045\\\\45_10_rgb_121.bmp']\n",
      "face bounds: (146,71),(245,71),(245,185),(146,185)\n",
      "E:\\MestradoData\\p045\\*_10_rgb_151.bmp 1 ['E:\\\\MestradoData\\\\p045\\\\45_10_rgb_151.bmp']\n",
      "face bounds: (144,68),(247,68),(247,188),(144,188)\n",
      "E:\\MestradoData\\p045\\*_10_rgb_181.bmp 1 ['E:\\\\MestradoData\\\\p045\\\\45_10_rgb_181.bmp']\n",
      "face bounds: (146,71),(246,71),(246,188),(146,188)\n",
      "E:\\MestradoData\\p045\\*_10_rgb_211.bmp 1 ['E:\\\\MestradoData\\\\p045\\\\45_10_rgb_211.bmp']\n",
      "face bounds: (145,72),(248,72),(248,191),(145,191)\n",
      "E:\\MestradoData\\p045\\*_10_rgb_241.bmp 1 ['E:\\\\MestradoData\\\\p045\\\\45_10_rgb_241.bmp']\n",
      "face bounds: (147,70),(249,70),(249,189),(147,189)\n",
      "E:\\MestradoData\\p045\\*_10_rgb_271.bmp 1 ['E:\\\\MestradoData\\\\p045\\\\45_10_rgb_271.bmp']\n",
      "face bounds: (147,70),(250,70),(250,189),(147,189)\n",
      "60.87899960809846\n"
     ]
    }
   ],
   "source": [
    "client = vision.ImageAnnotatorClient()\n",
    "\n",
    "tic = time.clock()\n",
    "for c in classes:\n",
    "    for p in persons:\n",
    "        for i in range (1,301,30):\n",
    "            pattern = prefix + p[0] + '\\\\' + '*' +'_'+ str(c) + '_' + type_file + suffix.format(i) + '.bmp'\n",
    "            files_list = glob.glob(pattern)\n",
    "            #print(pattern) \n",
    "            print(pattern, len(files_list), files_list)\n",
    "            \n",
    "            if len(files_list) == 1:\n",
    "                try:\n",
    "                    response = detect_face_google_vision(files_list[0])\n",
    "                    # Save response to file\n",
    "                    saved_file = prefix + p[0] + '\\\\' + p[1] +'_'+ str(c) + '_' + type_file + suffix.format(i) + '.txt'\n",
    "                    f = open(saved_file, 'w')\n",
    "                    f.write(text_format.MessageToString(response))\n",
    "                    f.close()\n",
    "                except Exception as ex:\n",
    "                    print(ex)\n",
    "print(time.clock() - tic)"
   ]
  },
  {
   "cell_type": "code",
   "execution_count": null,
   "metadata": {},
   "outputs": [],
   "source": [
    "# Read response file\n",
    "f = open('b.txt', 'r')\n",
    "resp = types.AnnotateImageResponse() # replace with your own message\n",
    "text_format.Parse(f.read(), resp)\n",
    "f.close()"
   ]
  },
  {
   "cell_type": "code",
   "execution_count": null,
   "metadata": {},
   "outputs": [],
   "source": []
  },
  {
   "cell_type": "code",
   "execution_count": null,
   "metadata": {},
   "outputs": [],
   "source": []
  },
  {
   "cell_type": "code",
   "execution_count": null,
   "metadata": {},
   "outputs": [],
   "source": []
  },
  {
   "cell_type": "code",
   "execution_count": null,
   "metadata": {},
   "outputs": [],
   "source": []
  },
  {
   "cell_type": "code",
   "execution_count": null,
   "metadata": {},
   "outputs": [],
   "source": []
  }
 ],
 "metadata": {
  "kernelspec": {
   "display_name": "Python 3",
   "language": "python",
   "name": "python3"
  },
  "language_info": {
   "codemirror_mode": {
    "name": "ipython",
    "version": 3
   },
   "file_extension": ".py",
   "mimetype": "text/x-python",
   "name": "python",
   "nbconvert_exporter": "python",
   "pygments_lexer": "ipython3",
   "version": "3.5.4"
  }
 },
 "nbformat": 4,
 "nbformat_minor": 2
}
