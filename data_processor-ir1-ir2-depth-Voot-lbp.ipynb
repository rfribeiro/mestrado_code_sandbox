{
 "cells": [
  {
   "cell_type": "code",
   "execution_count": 1,
   "metadata": {
    "collapsed": true
   },
   "outputs": [],
   "source": [
    "import time\n",
    "import glob\n",
    "import pandas as pd\n",
    "import numpy as np\n",
    "import matplotlib.pyplot as plt\n",
    "\n",
    "%matplotlib inline"
   ]
  },
  {
   "cell_type": "code",
   "execution_count": 2,
   "metadata": {
    "collapsed": true
   },
   "outputs": [],
   "source": [
    "from sklearn.ensemble import VotingClassifier\n",
    "from sklearn.svm import SVC\n",
    "from sklearn.ensemble import RandomForestClassifier\n",
    "from sklearn.svm import LinearSVC\n",
    "from sklearn import preprocessing\n",
    "from sklearn.naive_bayes import GaussianNB\n",
    "from sklearn.neural_network import BernoulliRBM\n",
    "from sklearn.pipeline import Pipeline\n",
    "from sklearn.model_selection import GridSearchCV\n",
    "from sklearn.model_selection import train_test_split\n",
    "from sklearn.metrics import classification_report\n",
    "from sklearn.ensemble import GradientBoostingClassifier\n",
    "from sklearn.neighbors import KNeighborsClassifier\n",
    "\n",
    "from sklearn.preprocessing import LabelBinarizer"
   ]
  },
  {
   "cell_type": "code",
   "execution_count": 3,
   "metadata": {
    "collapsed": true
   },
   "outputs": [],
   "source": [
    "shift = 4320\n",
    "shift_lbp = 26"
   ]
  },
  {
   "cell_type": "code",
   "execution_count": 4,
   "metadata": {
    "collapsed": true
   },
   "outputs": [],
   "source": [
    "hog_features = 'C:\\\\Users\\\\rafae\\\\Desktop\\\\Coleta\\\\features\\\\features_hog_*.csv'\n",
    "lbp_features = 'C:\\\\Users\\\\rafae\\\\Desktop\\\\Coleta\\\\features\\\\features_lbp_*.csv'"
   ]
  },
  {
   "cell_type": "code",
   "execution_count": 5,
   "metadata": {},
   "outputs": [
    {
     "name": "stdout",
     "output_type": "stream",
     "text": [
      "235\n",
      "235\n"
     ]
    }
   ],
   "source": [
    "hog_files_list = glob.glob(hog_features)\n",
    "print(len(hog_files_list))\n",
    "\n",
    "lbp_files_list = glob.glob(lbp_features)\n",
    "print(len(lbp_files_list))"
   ]
  },
  {
   "cell_type": "code",
   "execution_count": 6,
   "metadata": {},
   "outputs": [
    {
     "data": {
      "text/plain": [
       "235"
      ]
     },
     "execution_count": 6,
     "metadata": {},
     "output_type": "execute_result"
    }
   ],
   "source": [
    "# read features\n",
    "frames = [pd.read_csv(f, header=0) for f in hog_files_list ]\n",
    "len(frames)\n",
    "\n",
    "# read features\n",
    "lbp = [pd.read_csv(f, header=0) for f in lbp_files_list ]\n",
    "len(lbp)"
   ]
  },
  {
   "cell_type": "code",
   "execution_count": 7,
   "metadata": {
    "collapsed": true
   },
   "outputs": [],
   "source": [
    "ds = pd.concat(frames)\n",
    "ds_lbp = pd.concat(lbp)"
   ]
  },
  {
   "cell_type": "code",
   "execution_count": 8,
   "metadata": {},
   "outputs": [
    {
     "name": "stdout",
     "output_type": "stream",
     "text": [
      "(3522, 17282) (3522, 132)\n"
     ]
    }
   ],
   "source": [
    "print(ds.shape, ds_lbp.shape)"
   ]
  },
  {
   "cell_type": "code",
   "execution_count": 9,
   "metadata": {},
   "outputs": [
    {
     "data": {
      "text/html": [
       "<div>\n",
       "<style>\n",
       "    .dataframe thead tr:only-child th {\n",
       "        text-align: right;\n",
       "    }\n",
       "\n",
       "    .dataframe thead th {\n",
       "        text-align: left;\n",
       "    }\n",
       "\n",
       "    .dataframe tbody tr th {\n",
       "        vertical-align: top;\n",
       "    }\n",
       "</style>\n",
       "<table border=\"1\" class=\"dataframe\">\n",
       "  <thead>\n",
       "    <tr style=\"text-align: right;\">\n",
       "      <th></th>\n",
       "      <th>0</th>\n",
       "      <th>1</th>\n",
       "      <th>2</th>\n",
       "      <th>3</th>\n",
       "      <th>4</th>\n",
       "      <th>5</th>\n",
       "      <th>6</th>\n",
       "      <th>7</th>\n",
       "      <th>8</th>\n",
       "      <th>9</th>\n",
       "      <th>...</th>\n",
       "      <th>17272</th>\n",
       "      <th>17273</th>\n",
       "      <th>17274</th>\n",
       "      <th>17275</th>\n",
       "      <th>17276</th>\n",
       "      <th>17277</th>\n",
       "      <th>17278</th>\n",
       "      <th>17279</th>\n",
       "      <th>17280</th>\n",
       "      <th>17281</th>\n",
       "    </tr>\n",
       "  </thead>\n",
       "  <tbody>\n",
       "    <tr>\n",
       "      <th>0</th>\n",
       "      <td>1</td>\n",
       "      <td>p002</td>\n",
       "      <td>0.024089</td>\n",
       "      <td>0.000000</td>\n",
       "      <td>0.024089</td>\n",
       "      <td>0.000012</td>\n",
       "      <td>0.024089</td>\n",
       "      <td>0.000000</td>\n",
       "      <td>0.004740</td>\n",
       "      <td>0.0</td>\n",
       "      <td>...</td>\n",
       "      <td>0.071793</td>\n",
       "      <td>0.090339</td>\n",
       "      <td>0.127822</td>\n",
       "      <td>0.127822</td>\n",
       "      <td>0.042653</td>\n",
       "      <td>0.053141</td>\n",
       "      <td>0.059538</td>\n",
       "      <td>0.003019</td>\n",
       "      <td>0.019839</td>\n",
       "      <td>0.127822</td>\n",
       "    </tr>\n",
       "    <tr>\n",
       "      <th>1</th>\n",
       "      <td>1</td>\n",
       "      <td>p002</td>\n",
       "      <td>0.030470</td>\n",
       "      <td>0.000000</td>\n",
       "      <td>0.030470</td>\n",
       "      <td>0.000000</td>\n",
       "      <td>0.021741</td>\n",
       "      <td>0.024379</td>\n",
       "      <td>0.007708</td>\n",
       "      <td>0.0</td>\n",
       "      <td>...</td>\n",
       "      <td>0.069514</td>\n",
       "      <td>0.119957</td>\n",
       "      <td>0.119957</td>\n",
       "      <td>0.119957</td>\n",
       "      <td>0.024254</td>\n",
       "      <td>0.051084</td>\n",
       "      <td>0.053452</td>\n",
       "      <td>0.014108</td>\n",
       "      <td>0.010533</td>\n",
       "      <td>0.119957</td>\n",
       "    </tr>\n",
       "    <tr>\n",
       "      <th>2</th>\n",
       "      <td>1</td>\n",
       "      <td>p002</td>\n",
       "      <td>0.034034</td>\n",
       "      <td>0.000000</td>\n",
       "      <td>0.027754</td>\n",
       "      <td>0.015728</td>\n",
       "      <td>0.028088</td>\n",
       "      <td>0.000000</td>\n",
       "      <td>0.000000</td>\n",
       "      <td>0.0</td>\n",
       "      <td>...</td>\n",
       "      <td>0.103166</td>\n",
       "      <td>0.037546</td>\n",
       "      <td>0.044686</td>\n",
       "      <td>0.122575</td>\n",
       "      <td>0.033838</td>\n",
       "      <td>0.104095</td>\n",
       "      <td>0.087389</td>\n",
       "      <td>0.003405</td>\n",
       "      <td>0.009884</td>\n",
       "      <td>0.017647</td>\n",
       "    </tr>\n",
       "    <tr>\n",
       "      <th>3</th>\n",
       "      <td>1</td>\n",
       "      <td>p002</td>\n",
       "      <td>0.039324</td>\n",
       "      <td>0.000000</td>\n",
       "      <td>0.036597</td>\n",
       "      <td>0.000000</td>\n",
       "      <td>0.017261</td>\n",
       "      <td>0.000000</td>\n",
       "      <td>0.024395</td>\n",
       "      <td>0.0</td>\n",
       "      <td>...</td>\n",
       "      <td>0.132490</td>\n",
       "      <td>0.091092</td>\n",
       "      <td>0.132490</td>\n",
       "      <td>0.123109</td>\n",
       "      <td>0.038147</td>\n",
       "      <td>0.132490</td>\n",
       "      <td>0.132490</td>\n",
       "      <td>0.050142</td>\n",
       "      <td>0.042432</td>\n",
       "      <td>0.028560</td>\n",
       "    </tr>\n",
       "    <tr>\n",
       "      <th>4</th>\n",
       "      <td>1</td>\n",
       "      <td>p002</td>\n",
       "      <td>0.029356</td>\n",
       "      <td>0.000067</td>\n",
       "      <td>0.029356</td>\n",
       "      <td>0.010806</td>\n",
       "      <td>0.029356</td>\n",
       "      <td>0.000007</td>\n",
       "      <td>0.013665</td>\n",
       "      <td>0.0</td>\n",
       "      <td>...</td>\n",
       "      <td>0.052366</td>\n",
       "      <td>0.038015</td>\n",
       "      <td>0.034714</td>\n",
       "      <td>0.061695</td>\n",
       "      <td>0.040908</td>\n",
       "      <td>0.070168</td>\n",
       "      <td>0.032586</td>\n",
       "      <td>0.004734</td>\n",
       "      <td>0.009425</td>\n",
       "      <td>0.023819</td>\n",
       "    </tr>\n",
       "  </tbody>\n",
       "</table>\n",
       "<p>5 rows × 17282 columns</p>\n",
       "</div>"
      ],
      "text/plain": [
       "   0     1         2         3         4         5         6         7  \\\n",
       "0  1  p002  0.024089  0.000000  0.024089  0.000012  0.024089  0.000000   \n",
       "1  1  p002  0.030470  0.000000  0.030470  0.000000  0.021741  0.024379   \n",
       "2  1  p002  0.034034  0.000000  0.027754  0.015728  0.028088  0.000000   \n",
       "3  1  p002  0.039324  0.000000  0.036597  0.000000  0.017261  0.000000   \n",
       "4  1  p002  0.029356  0.000067  0.029356  0.010806  0.029356  0.000007   \n",
       "\n",
       "          8    9    ...        17272     17273     17274     17275     17276  \\\n",
       "0  0.004740  0.0    ...     0.071793  0.090339  0.127822  0.127822  0.042653   \n",
       "1  0.007708  0.0    ...     0.069514  0.119957  0.119957  0.119957  0.024254   \n",
       "2  0.000000  0.0    ...     0.103166  0.037546  0.044686  0.122575  0.033838   \n",
       "3  0.024395  0.0    ...     0.132490  0.091092  0.132490  0.123109  0.038147   \n",
       "4  0.013665  0.0    ...     0.052366  0.038015  0.034714  0.061695  0.040908   \n",
       "\n",
       "      17277     17278     17279     17280     17281  \n",
       "0  0.053141  0.059538  0.003019  0.019839  0.127822  \n",
       "1  0.051084  0.053452  0.014108  0.010533  0.119957  \n",
       "2  0.104095  0.087389  0.003405  0.009884  0.017647  \n",
       "3  0.132490  0.132490  0.050142  0.042432  0.028560  \n",
       "4  0.070168  0.032586  0.004734  0.009425  0.023819  \n",
       "\n",
       "[5 rows x 17282 columns]"
      ]
     },
     "execution_count": 9,
     "metadata": {},
     "output_type": "execute_result"
    }
   ],
   "source": [
    "ds.head()"
   ]
  },
  {
   "cell_type": "code",
   "execution_count": 10,
   "metadata": {},
   "outputs": [
    {
     "data": {
      "text/html": [
       "<div>\n",
       "<style>\n",
       "    .dataframe thead tr:only-child th {\n",
       "        text-align: right;\n",
       "    }\n",
       "\n",
       "    .dataframe thead th {\n",
       "        text-align: left;\n",
       "    }\n",
       "\n",
       "    .dataframe tbody tr th {\n",
       "        vertical-align: top;\n",
       "    }\n",
       "</style>\n",
       "<table border=\"1\" class=\"dataframe\">\n",
       "  <thead>\n",
       "    <tr style=\"text-align: right;\">\n",
       "      <th></th>\n",
       "      <th>0</th>\n",
       "      <th>1</th>\n",
       "      <th>2</th>\n",
       "      <th>3</th>\n",
       "      <th>4</th>\n",
       "      <th>5</th>\n",
       "      <th>6</th>\n",
       "      <th>7</th>\n",
       "      <th>8</th>\n",
       "      <th>9</th>\n",
       "      <th>...</th>\n",
       "      <th>122</th>\n",
       "      <th>123</th>\n",
       "      <th>124</th>\n",
       "      <th>125</th>\n",
       "      <th>126</th>\n",
       "      <th>127</th>\n",
       "      <th>128</th>\n",
       "      <th>129</th>\n",
       "      <th>130</th>\n",
       "      <th>131</th>\n",
       "    </tr>\n",
       "  </thead>\n",
       "  <tbody>\n",
       "    <tr>\n",
       "      <th>0</th>\n",
       "      <td>1</td>\n",
       "      <td>p002</td>\n",
       "      <td>0.020433</td>\n",
       "      <td>0.014205</td>\n",
       "      <td>0.016281</td>\n",
       "      <td>0.012566</td>\n",
       "      <td>0.009943</td>\n",
       "      <td>0.016499</td>\n",
       "      <td>0.015406</td>\n",
       "      <td>0.017592</td>\n",
       "      <td>...</td>\n",
       "      <td>0.018029</td>\n",
       "      <td>0.021416</td>\n",
       "      <td>0.011691</td>\n",
       "      <td>0.012019</td>\n",
       "      <td>0.010599</td>\n",
       "      <td>0.009943</td>\n",
       "      <td>0.013221</td>\n",
       "      <td>0.014751</td>\n",
       "      <td>0.045892</td>\n",
       "      <td>0.235468</td>\n",
       "    </tr>\n",
       "    <tr>\n",
       "      <th>1</th>\n",
       "      <td>1</td>\n",
       "      <td>p002</td>\n",
       "      <td>0.017155</td>\n",
       "      <td>0.017155</td>\n",
       "      <td>0.014532</td>\n",
       "      <td>0.013112</td>\n",
       "      <td>0.011910</td>\n",
       "      <td>0.012456</td>\n",
       "      <td>0.010817</td>\n",
       "      <td>0.012128</td>\n",
       "      <td>...</td>\n",
       "      <td>0.018466</td>\n",
       "      <td>0.019777</td>\n",
       "      <td>0.011145</td>\n",
       "      <td>0.011582</td>\n",
       "      <td>0.011254</td>\n",
       "      <td>0.010599</td>\n",
       "      <td>0.010927</td>\n",
       "      <td>0.015188</td>\n",
       "      <td>0.048733</td>\n",
       "      <td>0.236233</td>\n",
       "    </tr>\n",
       "    <tr>\n",
       "      <th>2</th>\n",
       "      <td>1</td>\n",
       "      <td>p002</td>\n",
       "      <td>0.020542</td>\n",
       "      <td>0.015079</td>\n",
       "      <td>0.011473</td>\n",
       "      <td>0.013986</td>\n",
       "      <td>0.012675</td>\n",
       "      <td>0.014095</td>\n",
       "      <td>0.014314</td>\n",
       "      <td>0.015297</td>\n",
       "      <td>...</td>\n",
       "      <td>0.017373</td>\n",
       "      <td>0.018684</td>\n",
       "      <td>0.010490</td>\n",
       "      <td>0.012238</td>\n",
       "      <td>0.012456</td>\n",
       "      <td>0.010599</td>\n",
       "      <td>0.012566</td>\n",
       "      <td>0.014969</td>\n",
       "      <td>0.050153</td>\n",
       "      <td>0.231206</td>\n",
       "    </tr>\n",
       "    <tr>\n",
       "      <th>3</th>\n",
       "      <td>1</td>\n",
       "      <td>p002</td>\n",
       "      <td>0.022509</td>\n",
       "      <td>0.014314</td>\n",
       "      <td>0.013549</td>\n",
       "      <td>0.012456</td>\n",
       "      <td>0.011254</td>\n",
       "      <td>0.011801</td>\n",
       "      <td>0.010162</td>\n",
       "      <td>0.018247</td>\n",
       "      <td>...</td>\n",
       "      <td>0.019122</td>\n",
       "      <td>0.019777</td>\n",
       "      <td>0.010271</td>\n",
       "      <td>0.012456</td>\n",
       "      <td>0.011145</td>\n",
       "      <td>0.010052</td>\n",
       "      <td>0.014642</td>\n",
       "      <td>0.013330</td>\n",
       "      <td>0.052557</td>\n",
       "      <td>0.228475</td>\n",
       "    </tr>\n",
       "    <tr>\n",
       "      <th>4</th>\n",
       "      <td>1</td>\n",
       "      <td>p002</td>\n",
       "      <td>0.019012</td>\n",
       "      <td>0.011364</td>\n",
       "      <td>0.015406</td>\n",
       "      <td>0.012566</td>\n",
       "      <td>0.011364</td>\n",
       "      <td>0.013986</td>\n",
       "      <td>0.015953</td>\n",
       "      <td>0.016390</td>\n",
       "      <td>...</td>\n",
       "      <td>0.017373</td>\n",
       "      <td>0.020323</td>\n",
       "      <td>0.012675</td>\n",
       "      <td>0.011364</td>\n",
       "      <td>0.012893</td>\n",
       "      <td>0.012019</td>\n",
       "      <td>0.012893</td>\n",
       "      <td>0.015079</td>\n",
       "      <td>0.049934</td>\n",
       "      <td>0.220061</td>\n",
       "    </tr>\n",
       "  </tbody>\n",
       "</table>\n",
       "<p>5 rows × 132 columns</p>\n",
       "</div>"
      ],
      "text/plain": [
       "   0     1         2         3         4         5         6         7  \\\n",
       "0  1  p002  0.020433  0.014205  0.016281  0.012566  0.009943  0.016499   \n",
       "1  1  p002  0.017155  0.017155  0.014532  0.013112  0.011910  0.012456   \n",
       "2  1  p002  0.020542  0.015079  0.011473  0.013986  0.012675  0.014095   \n",
       "3  1  p002  0.022509  0.014314  0.013549  0.012456  0.011254  0.011801   \n",
       "4  1  p002  0.019012  0.011364  0.015406  0.012566  0.011364  0.013986   \n",
       "\n",
       "          8         9    ...          122       123       124       125  \\\n",
       "0  0.015406  0.017592    ...     0.018029  0.021416  0.011691  0.012019   \n",
       "1  0.010817  0.012128    ...     0.018466  0.019777  0.011145  0.011582   \n",
       "2  0.014314  0.015297    ...     0.017373  0.018684  0.010490  0.012238   \n",
       "3  0.010162  0.018247    ...     0.019122  0.019777  0.010271  0.012456   \n",
       "4  0.015953  0.016390    ...     0.017373  0.020323  0.012675  0.011364   \n",
       "\n",
       "        126       127       128       129       130       131  \n",
       "0  0.010599  0.009943  0.013221  0.014751  0.045892  0.235468  \n",
       "1  0.011254  0.010599  0.010927  0.015188  0.048733  0.236233  \n",
       "2  0.012456  0.010599  0.012566  0.014969  0.050153  0.231206  \n",
       "3  0.011145  0.010052  0.014642  0.013330  0.052557  0.228475  \n",
       "4  0.012893  0.012019  0.012893  0.015079  0.049934  0.220061  \n",
       "\n",
       "[5 rows x 132 columns]"
      ]
     },
     "execution_count": 10,
     "metadata": {},
     "output_type": "execute_result"
    }
   ],
   "source": [
    "ds_lbp.head()"
   ]
  },
  {
   "cell_type": "code",
   "execution_count": 11,
   "metadata": {
    "collapsed": true
   },
   "outputs": [],
   "source": [
    "yData = ds['0']"
   ]
  },
  {
   "cell_type": "code",
   "execution_count": 12,
   "metadata": {
    "collapsed": true
   },
   "outputs": [],
   "source": [
    "#xData = ds.iloc[:,2:2+shift+shift+shift]\n",
    "xData = pd.concat([ds_lbp.iloc[:,2:2+shift_lbp+shift_lbp], ds.iloc[:,2+shift:2+shift+shift+shift]], axis=1)"
   ]
  },
  {
   "cell_type": "code",
   "execution_count": 13,
   "metadata": {},
   "outputs": [
    {
     "data": {
      "text/plain": [
       "10"
      ]
     },
     "execution_count": 13,
     "metadata": {},
     "output_type": "execute_result"
    }
   ],
   "source": [
    "yData.iloc[20]"
   ]
  },
  {
   "cell_type": "code",
   "execution_count": 14,
   "metadata": {},
   "outputs": [
    {
     "name": "stdout",
     "output_type": "stream",
     "text": [
      "(3522,) (3522, 8692) <class 'pandas.core.series.Series'> <class 'pandas.core.frame.DataFrame'>\n"
     ]
    }
   ],
   "source": [
    "print(yData.shape, xData.shape, type(yData), type(xData))"
   ]
  },
  {
   "cell_type": "code",
   "execution_count": 15,
   "metadata": {
    "collapsed": true
   },
   "outputs": [],
   "source": [
    "from sklearn.metrics import confusion_matrix\n",
    "\n",
    "def plot_confusion_matrix(cm, title='Confusion matrix', cmap=plt.cm.Blues):\n",
    "    plt.imshow(cm, interpolation='nearest', cmap=cmap)\n",
    "    plt.title(title)\n",
    "    plt.colorbar()\n",
    "    tick_marks = np.arange(2)\n",
    "    plt.xticks(tick_marks, rotation=45)\n",
    "    plt.yticks(tick_marks)\n",
    "    plt.tight_layout()\n",
    "    plt.ylabel('True label')\n",
    "    plt.xlabel('Predicted label')"
   ]
  },
  {
   "cell_type": "code",
   "execution_count": 16,
   "metadata": {},
   "outputs": [
    {
     "name": "stderr",
     "output_type": "stream",
     "text": [
      "C:\\ProgramData\\Anaconda3\\lib\\site-packages\\sklearn\\cross_validation.py:41: DeprecationWarning: This module was deprecated in version 0.18 in favor of the model_selection module into which all the refactored classes and functions are moved. Also note that the interface of the new CV iterators are different from that of this module. This module will be removed in 0.20.\n",
      "  \"This module will be removed in 0.20.\", DeprecationWarning)\n"
     ]
    }
   ],
   "source": [
    "from sklearn.metrics import confusion_matrix\n",
    "from sklearn.metrics import classification_report, accuracy_score\n",
    "from sklearn import cross_validation\n",
    "\n",
    "# Compute confusion matrix\n",
    "def plot_confusion(yTest, yTestPred, name):\n",
    "    cm = confusion_matrix(yTest, yTestPred)\n",
    "    np.set_printoptions(precision=2)\n",
    "\n",
    "    # Normalize the confusion matrix by row (i.e by the number of samples in each class)\n",
    "    cm_normalized = (cm.astype('float') / cm.sum(axis=1)[:, np.newaxis])*100\n",
    "    print('Classification report')\n",
    "    print(classification_report(yTest, yTestPred))\n",
    "    print('Normalized confusion matrix')\n",
    "    print(cm_normalized)\n",
    "    plt.figure(figsize=(5, 5))\n",
    "    plot_confusion_matrix(cm_normalized, title='Normalized confusion matrix (%s)' % (name))\n",
    "\n",
    "    plt.show()\n",
    "    # plot confusion matrix"
   ]
  },
  {
   "cell_type": "code",
   "execution_count": 17,
   "metadata": {},
   "outputs": [
    {
     "name": "stdout",
     "output_type": "stream",
     "text": [
      "[ 1  2  3  4  5  6  7  8  9 10 11 12 13 14 15 16 17 18 19]\n"
     ]
    }
   ],
   "source": [
    "le = preprocessing.LabelEncoder()\n",
    "le.fit(yData)\n",
    "print(le.classes_)\n",
    "yDataBin = le.transform(yData)"
   ]
  },
  {
   "cell_type": "code",
   "execution_count": 18,
   "metadata": {},
   "outputs": [
    {
     "name": "stdout",
     "output_type": "stream",
     "text": [
      "(2465, 8692) (1057, 8692) (2465,) (1057,) <class 'tuple'> <class 'tuple'> <class 'tuple'> <class 'tuple'>\n"
     ]
    }
   ],
   "source": [
    "# Split the dataset in two equal parts\n",
    "X_train, X_test, y_train, y_test = train_test_split(xData, yDataBin, test_size=0.3, random_state=0)\n",
    "\n",
    "print(X_train.shape, X_test.shape, y_train.shape, y_test.shape,\n",
    "      type(X_train.shape), type(X_test.shape), type(y_train.shape), type(y_test.shape))"
   ]
  },
  {
   "cell_type": "code",
   "execution_count": 19,
   "metadata": {
    "collapsed": true
   },
   "outputs": [],
   "source": [
    "from sklearn.base import BaseEstimator, TransformerMixin\n",
    "class ColumnSelector(BaseEstimator, TransformerMixin):\n",
    "    \"\"\"\n",
    "    A feature selector for scikit-learn's Pipeline class that returns\n",
    "    specified columns from a numpy array.\n",
    "\n",
    "    \"\"\"\n",
    "    data = {'ir1' : [shift_lbp+shift_lbp, shift_lbp+shift_lbp+shift],\n",
    "            'ir2' : [shift_lbp+shift_lbp+shift, shift_lbp+shift_lbp+shift+shift],\n",
    "            'dep' : [0,shift_lbp+shift_lbp],\n",
    "            'rgb' : [1]}\n",
    "    def __init__(self, key):\n",
    "        print(type(key), key)\n",
    "        self.key = key\n",
    "\n",
    "    def fit(self, X, y=None, **fit_params):\n",
    "        print('fit', X.shape)\n",
    "        return self\n",
    "    \n",
    "    def transform(self, X, y=None, **fit_params):\n",
    "        x = X[:, self.data[self.key][0]:self.data[self.key][1]]\n",
    "        print('trans', X.shape, x.shape, self.data[self.key])\n",
    "        return x"
   ]
  },
  {
   "cell_type": "code",
   "execution_count": 20,
   "metadata": {
    "collapsed": true
   },
   "outputs": [],
   "source": [
    "from sklearn.metrics import make_scorer,precision_recall_fscore_support\n",
    "from sklearn.pipeline import Pipeline\n",
    "from sklearn.ensemble import VotingClassifier\n",
    "\n",
    "def search(X_train, X_test, y_train, y_test):\n",
    "    \n",
    "    pipe1 = Pipeline([\n",
    "               ('sel', ColumnSelector(key='ir1')), # use only IR1 features\n",
    "               ('clf', SVC(probability=True, C=100, gamma=0.001, kernel='rbf'))])\n",
    "\n",
    "    pipe2 = Pipeline([\n",
    "               ('sel', ColumnSelector(key='dep')), # use only Depth features\n",
    "               ('clf', SVC(probability=True))])\n",
    "    \n",
    "    pipe3 = Pipeline([\n",
    "               ('sel', ColumnSelector(key='ir2')), # use only IR2 features\n",
    "               ('clf', SVC(probability=True, C=100, gamma=0.001, kernel='rbf'))])\n",
    "\n",
    "    all = Pipeline([\n",
    "                   ('scaler', preprocessing.StandardScaler()),\n",
    "                   ('eclf', VotingClassifier(estimators=[('ir1',pipe1), ('dep',pipe2), ('ir2',pipe3)], voting='soft', weights=[2,1,2]))\n",
    "    ])\n",
    "    parameters = {\n",
    "    #'eclf__ir1__clf__C':(1.0,10,100,1000),\n",
    "    #'eclf__ir1__clf__C':(1.0,10,100,1000),\n",
    "    'eclf__dep__clf__C':(1.0,10,100,1000),\n",
    "    #'eclf__ir2__clf__C':(1.0,10,100,1000)\n",
    "    }\n",
    "    \n",
    "    clf = GridSearchCV(all, parameters, n_jobs=1, cv=2, scoring=['f1_micro','accuracy'], refit='accuracy' , verbose = 10)\n",
    "    #clf = GridSearchCV(classifier, params, cv=2, scoring=['f1_weighted','accuracy','precision_weighted', 'recall_weighted'], refit='f1_weighted' , verbose = 10)\n",
    "    clf.fit(X_train, y_train)\n",
    "\n",
    "    print(\"Best parameters set found on development set:\")\n",
    "    print()\n",
    "    print(clf.best_params_)\n",
    "    print()\n",
    "    print(\"Grid scores on development set:\")\n",
    "    print(clf.best_score_)\n",
    "    print()\n",
    "    print(clf.cv_results_.keys())\n",
    "    means = clf.cv_results_['mean_test_accuracy']\n",
    "    stds = clf.cv_results_['std_test_accuracy']\n",
    "    for mean, std, params in zip(means, stds, clf.cv_results_['params']):\n",
    "        print(\"%0.3f (+/-%0.03f) for %r\"\n",
    "              % (mean, std * 2, params))\n",
    "    print()\n",
    "\n",
    "    print(\"Detailed classification report:\")\n",
    "    print()\n",
    "    print(\"The model is trained on the full development set.\")\n",
    "    print(\"The scores are computed on the full evaluation set.\")\n",
    "    print()\n",
    "    yTrue, yPred = y_test, clf.predict(X_test)\n",
    "    print(classification_report(yTrue, yPred))\n",
    "    plot_confusion(yTrue, yPred, \"test\")\n",
    "    print()"
   ]
  },
  {
   "cell_type": "code",
   "execution_count": 21,
   "metadata": {},
   "outputs": [
    {
     "name": "stdout",
     "output_type": "stream",
     "text": [
      "<class 'str'> ir1\n",
      "<class 'str'> dep\n",
      "<class 'str'> ir2\n",
      "Fitting 2 folds for each of 4 candidates, totalling 8 fits\n",
      "<class 'str'> ir1\n",
      "<class 'str'> dep\n",
      "<class 'str'> ir2\n",
      "<class 'str'> ir1\n",
      "<class 'str'> dep\n",
      "<class 'str'> ir2\n",
      "[CV] eclf__dep__clf__C=1.0 ...........................................\n",
      "<class 'str'> ir1\n",
      "fit (1227, 8692)\n",
      "trans (1227, 8692) (1227, 4320) [52, 4372]\n",
      "<class 'str'> dep\n",
      "fit (1227, 8692)\n",
      "trans (1227, 8692) (1227, 52) [0, 52]\n",
      "<class 'str'> ir2\n",
      "fit (1227, 8692)\n",
      "trans (1227, 8692) (1227, 4320) [4372, 8692]\n",
      "trans (1238, 8692) (1238, 4320) [52, 4372]\n",
      "trans (1238, 8692) (1238, 52) [0, 52]\n",
      "trans (1238, 8692) (1238, 4320) [4372, 8692]\n",
      "trans (1238, 8692) (1238, 4320) [52, 4372]\n",
      "trans (1238, 8692) (1238, 52) [0, 52]\n",
      "trans (1238, 8692) (1238, 4320) [4372, 8692]\n",
      "trans (1227, 8692) (1227, 4320) [52, 4372]\n",
      "trans (1227, 8692) (1227, 52) [0, 52]\n",
      "trans (1227, 8692) (1227, 4320) [4372, 8692]\n",
      "trans (1227, 8692) (1227, 4320) [52, 4372]\n",
      "trans (1227, 8692) (1227, 52) [0, 52]\n",
      "trans (1227, 8692) (1227, 4320) [4372, 8692]\n",
      "[CV]  eclf__dep__clf__C=1.0, f1_micro=0.8263327948303716, accuracy=0.8263327948303716, total= 3.7min\n",
      "<class 'str'> ir1\n",
      "<class 'str'> dep\n",
      "<class 'str'> ir2\n",
      "[CV] eclf__dep__clf__C=1.0 ...........................................\n"
     ]
    },
    {
     "name": "stderr",
     "output_type": "stream",
     "text": [
      "[Parallel(n_jobs=1)]: Done   1 out of   1 | elapsed:  4.3min remaining:    0.0s\n"
     ]
    },
    {
     "name": "stdout",
     "output_type": "stream",
     "text": [
      "<class 'str'> ir1\n",
      "fit (1238, 8692)\n",
      "trans (1238, 8692) (1238, 4320) [52, 4372]\n",
      "<class 'str'> dep\n",
      "fit (1238, 8692)\n",
      "trans (1238, 8692) (1238, 52) [0, 52]\n",
      "<class 'str'> ir2\n",
      "fit (1238, 8692)\n",
      "trans (1238, 8692) (1238, 4320) [4372, 8692]\n",
      "trans (1227, 8692) (1227, 4320) [52, 4372]\n",
      "trans (1227, 8692) (1227, 52) [0, 52]\n",
      "trans (1227, 8692) (1227, 4320) [4372, 8692]\n",
      "trans (1227, 8692) (1227, 4320) [52, 4372]\n",
      "trans (1227, 8692) (1227, 52) [0, 52]\n",
      "trans (1227, 8692) (1227, 4320) [4372, 8692]\n",
      "trans (1238, 8692) (1238, 4320) [52, 4372]\n",
      "trans (1238, 8692) (1238, 52) [0, 52]\n",
      "trans (1238, 8692) (1238, 4320) [4372, 8692]\n",
      "trans (1238, 8692) (1238, 4320) [52, 4372]\n",
      "trans (1238, 8692) (1238, 52) [0, 52]\n",
      "trans (1238, 8692) (1238, 4320) [4372, 8692]\n",
      "[CV]  eclf__dep__clf__C=1.0, f1_micro=0.8345558272208639, accuracy=0.8345558272208639, total= 3.6min\n",
      "<class 'str'> ir1\n",
      "<class 'str'> dep\n",
      "<class 'str'> ir2\n",
      "[CV] eclf__dep__clf__C=10 ............................................\n"
     ]
    },
    {
     "name": "stderr",
     "output_type": "stream",
     "text": [
      "[Parallel(n_jobs=1)]: Done   2 out of   2 | elapsed:  8.5min remaining:    0.0s\n"
     ]
    },
    {
     "name": "stdout",
     "output_type": "stream",
     "text": [
      "<class 'str'> ir1\n",
      "fit (1227, 8692)\n",
      "trans (1227, 8692) (1227, 4320) [52, 4372]\n",
      "<class 'str'> dep\n",
      "fit (1227, 8692)\n",
      "trans (1227, 8692) (1227, 52) [0, 52]\n",
      "<class 'str'> ir2\n",
      "fit (1227, 8692)\n",
      "trans (1227, 8692) (1227, 4320) [4372, 8692]\n",
      "trans (1238, 8692) (1238, 4320) [52, 4372]\n",
      "trans (1238, 8692) (1238, 52) [0, 52]\n",
      "trans (1238, 8692) (1238, 4320) [4372, 8692]\n",
      "trans (1238, 8692) (1238, 4320) [52, 4372]\n",
      "trans (1238, 8692) (1238, 52) [0, 52]\n",
      "trans (1238, 8692) (1238, 4320) [4372, 8692]\n",
      "trans (1227, 8692) (1227, 4320) [52, 4372]\n",
      "trans (1227, 8692) (1227, 52) [0, 52]\n",
      "trans (1227, 8692) (1227, 4320) [4372, 8692]\n",
      "trans (1227, 8692) (1227, 4320) [52, 4372]\n",
      "trans (1227, 8692) (1227, 52) [0, 52]\n",
      "trans (1227, 8692) (1227, 4320) [4372, 8692]\n",
      "[CV]  eclf__dep__clf__C=10, f1_micro=0.8368336025848142, accuracy=0.8368336025848142, total= 3.5min\n",
      "<class 'str'> ir1\n",
      "<class 'str'> dep\n",
      "<class 'str'> ir2\n",
      "[CV] eclf__dep__clf__C=10 ............................................\n"
     ]
    },
    {
     "name": "stderr",
     "output_type": "stream",
     "text": [
      "[Parallel(n_jobs=1)]: Done   3 out of   3 | elapsed: 12.7min remaining:    0.0s\n"
     ]
    },
    {
     "name": "stdout",
     "output_type": "stream",
     "text": [
      "<class 'str'> ir1\n",
      "fit (1238, 8692)\n",
      "trans (1238, 8692) (1238, 4320) [52, 4372]\n",
      "<class 'str'> dep\n",
      "fit (1238, 8692)\n",
      "trans (1238, 8692) (1238, 52) [0, 52]\n",
      "<class 'str'> ir2\n",
      "fit (1238, 8692)\n",
      "trans (1238, 8692) (1238, 4320) [4372, 8692]\n",
      "trans (1227, 8692) (1227, 4320) [52, 4372]\n",
      "trans (1227, 8692) (1227, 52) [0, 52]\n",
      "trans (1227, 8692) (1227, 4320) [4372, 8692]\n",
      "trans (1227, 8692) (1227, 4320) [52, 4372]\n",
      "trans (1227, 8692) (1227, 52) [0, 52]\n",
      "trans (1227, 8692) (1227, 4320) [4372, 8692]\n",
      "trans (1238, 8692) (1238, 4320) [52, 4372]\n",
      "trans (1238, 8692) (1238, 52) [0, 52]\n",
      "trans (1238, 8692) (1238, 4320) [4372, 8692]\n",
      "trans (1238, 8692) (1238, 4320) [52, 4372]\n",
      "trans (1238, 8692) (1238, 52) [0, 52]\n",
      "trans (1238, 8692) (1238, 4320) [4372, 8692]\n",
      "[CV]  eclf__dep__clf__C=10, f1_micro=0.8459657701711492, accuracy=0.8459657701711492, total= 3.6min\n",
      "<class 'str'> ir1\n",
      "<class 'str'> dep\n",
      "<class 'str'> ir2\n",
      "[CV] eclf__dep__clf__C=100 ...........................................\n"
     ]
    },
    {
     "name": "stderr",
     "output_type": "stream",
     "text": [
      "[Parallel(n_jobs=1)]: Done   4 out of   4 | elapsed: 16.9min remaining:    0.0s\n"
     ]
    },
    {
     "name": "stdout",
     "output_type": "stream",
     "text": [
      "<class 'str'> ir1\n",
      "fit (1227, 8692)\n",
      "trans (1227, 8692) (1227, 4320) [52, 4372]\n",
      "<class 'str'> dep\n",
      "fit (1227, 8692)\n",
      "trans (1227, 8692) (1227, 52) [0, 52]\n",
      "<class 'str'> ir2\n",
      "fit (1227, 8692)\n",
      "trans (1227, 8692) (1227, 4320) [4372, 8692]\n",
      "trans (1238, 8692) (1238, 4320) [52, 4372]\n",
      "trans (1238, 8692) (1238, 52) [0, 52]\n",
      "trans (1238, 8692) (1238, 4320) [4372, 8692]\n",
      "trans (1238, 8692) (1238, 4320) [52, 4372]\n",
      "trans (1238, 8692) (1238, 52) [0, 52]\n",
      "trans (1238, 8692) (1238, 4320) [4372, 8692]\n",
      "trans (1227, 8692) (1227, 4320) [52, 4372]\n",
      "trans (1227, 8692) (1227, 52) [0, 52]\n",
      "trans (1227, 8692) (1227, 4320) [4372, 8692]\n",
      "trans (1227, 8692) (1227, 4320) [52, 4372]\n",
      "trans (1227, 8692) (1227, 52) [0, 52]\n",
      "trans (1227, 8692) (1227, 4320) [4372, 8692]\n",
      "[CV]  eclf__dep__clf__C=100, f1_micro=0.8376413570274637, accuracy=0.8376413570274637, total= 3.5min\n",
      "<class 'str'> ir1\n",
      "<class 'str'> dep\n",
      "<class 'str'> ir2\n",
      "[CV] eclf__dep__clf__C=100 ...........................................\n"
     ]
    },
    {
     "name": "stderr",
     "output_type": "stream",
     "text": [
      "[Parallel(n_jobs=1)]: Done   5 out of   5 | elapsed: 21.0min remaining:    0.0s\n"
     ]
    },
    {
     "name": "stdout",
     "output_type": "stream",
     "text": [
      "<class 'str'> ir1\n",
      "fit (1238, 8692)\n",
      "trans (1238, 8692) (1238, 4320) [52, 4372]\n",
      "<class 'str'> dep\n",
      "fit (1238, 8692)\n",
      "trans (1238, 8692) (1238, 52) [0, 52]\n",
      "<class 'str'> ir2\n",
      "fit (1238, 8692)\n",
      "trans (1238, 8692) (1238, 4320) [4372, 8692]\n",
      "trans (1227, 8692) (1227, 4320) [52, 4372]\n",
      "trans (1227, 8692) (1227, 52) [0, 52]\n",
      "trans (1227, 8692) (1227, 4320) [4372, 8692]\n",
      "trans (1227, 8692) (1227, 4320) [52, 4372]\n",
      "trans (1227, 8692) (1227, 52) [0, 52]\n",
      "trans (1227, 8692) (1227, 4320) [4372, 8692]\n",
      "trans (1238, 8692) (1238, 4320) [52, 4372]\n",
      "trans (1238, 8692) (1238, 52) [0, 52]\n",
      "trans (1238, 8692) (1238, 4320) [4372, 8692]\n",
      "trans (1238, 8692) (1238, 4320) [52, 4372]\n",
      "trans (1238, 8692) (1238, 52) [0, 52]\n",
      "trans (1238, 8692) (1238, 4320) [4372, 8692]\n",
      "[CV]  eclf__dep__clf__C=100, f1_micro=0.8459657701711492, accuracy=0.8459657701711492, total= 3.6min\n",
      "<class 'str'> ir1\n",
      "<class 'str'> dep\n",
      "<class 'str'> ir2\n",
      "[CV] eclf__dep__clf__C=1000 ..........................................\n"
     ]
    },
    {
     "name": "stderr",
     "output_type": "stream",
     "text": [
      "[Parallel(n_jobs=1)]: Done   6 out of   6 | elapsed: 25.2min remaining:    0.0s\n"
     ]
    },
    {
     "name": "stdout",
     "output_type": "stream",
     "text": [
      "<class 'str'> ir1\n",
      "fit (1227, 8692)\n",
      "trans (1227, 8692) (1227, 4320) [52, 4372]\n",
      "<class 'str'> dep\n",
      "fit (1227, 8692)\n",
      "trans (1227, 8692) (1227, 52) [0, 52]\n",
      "<class 'str'> ir2\n",
      "fit (1227, 8692)\n",
      "trans (1227, 8692) (1227, 4320) [4372, 8692]\n",
      "trans (1238, 8692) (1238, 4320) [52, 4372]\n",
      "trans (1238, 8692) (1238, 52) [0, 52]\n",
      "trans (1238, 8692) (1238, 4320) [4372, 8692]\n",
      "trans (1238, 8692) (1238, 4320) [52, 4372]\n",
      "trans (1238, 8692) (1238, 52) [0, 52]\n",
      "trans (1238, 8692) (1238, 4320) [4372, 8692]\n",
      "trans (1227, 8692) (1227, 4320) [52, 4372]\n",
      "trans (1227, 8692) (1227, 52) [0, 52]\n",
      "trans (1227, 8692) (1227, 4320) [4372, 8692]\n",
      "trans (1227, 8692) (1227, 4320) [52, 4372]\n",
      "trans (1227, 8692) (1227, 52) [0, 52]\n",
      "trans (1227, 8692) (1227, 4320) [4372, 8692]\n",
      "[CV]  eclf__dep__clf__C=1000, f1_micro=0.8344103392568659, accuracy=0.8344103392568659, total= 3.5min\n",
      "<class 'str'> ir1\n",
      "<class 'str'> dep\n",
      "<class 'str'> ir2\n",
      "[CV] eclf__dep__clf__C=1000 ..........................................\n"
     ]
    },
    {
     "name": "stderr",
     "output_type": "stream",
     "text": [
      "[Parallel(n_jobs=1)]: Done   7 out of   7 | elapsed: 29.4min remaining:    0.0s\n"
     ]
    },
    {
     "name": "stdout",
     "output_type": "stream",
     "text": [
      "<class 'str'> ir1\n",
      "fit (1238, 8692)\n",
      "trans (1238, 8692) (1238, 4320) [52, 4372]\n",
      "<class 'str'> dep\n",
      "fit (1238, 8692)\n",
      "trans (1238, 8692) (1238, 52) [0, 52]\n",
      "<class 'str'> ir2\n",
      "fit (1238, 8692)\n",
      "trans (1238, 8692) (1238, 4320) [4372, 8692]\n",
      "trans (1227, 8692) (1227, 4320) [52, 4372]\n",
      "trans (1227, 8692) (1227, 52) [0, 52]\n",
      "trans (1227, 8692) (1227, 4320) [4372, 8692]\n",
      "trans (1227, 8692) (1227, 4320) [52, 4372]\n",
      "trans (1227, 8692) (1227, 52) [0, 52]\n",
      "trans (1227, 8692) (1227, 4320) [4372, 8692]\n",
      "trans (1238, 8692) (1238, 4320) [52, 4372]\n",
      "trans (1238, 8692) (1238, 52) [0, 52]\n",
      "trans (1238, 8692) (1238, 4320) [4372, 8692]\n",
      "trans (1238, 8692) (1238, 4320) [52, 4372]\n",
      "trans (1238, 8692) (1238, 52) [0, 52]\n",
      "trans (1238, 8692) (1238, 4320) [4372, 8692]\n",
      "[CV]  eclf__dep__clf__C=1000, f1_micro=0.8435207823960881, accuracy=0.843520782396088, total= 3.6min\n",
      "<class 'str'> ir1\n",
      "<class 'str'> dep\n",
      "<class 'str'> ir2\n"
     ]
    },
    {
     "name": "stderr",
     "output_type": "stream",
     "text": [
      "[Parallel(n_jobs=1)]: Done   8 out of   8 | elapsed: 33.6min remaining:    0.0s\n",
      "[Parallel(n_jobs=1)]: Done   8 out of   8 | elapsed: 33.6min finished\n"
     ]
    },
    {
     "name": "stdout",
     "output_type": "stream",
     "text": [
      "<class 'str'> ir1\n",
      "fit (2465, 8692)\n",
      "trans (2465, 8692) (2465, 4320) [52, 4372]\n",
      "<class 'str'> dep\n",
      "fit (2465, 8692)\n",
      "trans (2465, 8692) (2465, 52) [0, 52]\n",
      "<class 'str'> ir2\n",
      "fit (2465, 8692)\n",
      "trans (2465, 8692) (2465, 4320) [4372, 8692]\n",
      "Best parameters set found on development set:\n",
      "\n",
      "{'eclf__dep__clf__C': 100}\n",
      "\n",
      "Grid scores on development set:\n",
      "0.841784989858\n",
      "\n",
      "dict_keys(['mean_fit_time', 'std_fit_time', 'mean_score_time', 'std_score_time', 'param_eclf__dep__clf__C', 'params', 'split0_test_f1_micro', 'split1_test_f1_micro', 'mean_test_f1_micro', 'std_test_f1_micro', 'rank_test_f1_micro', 'split0_train_f1_micro', 'split1_train_f1_micro', 'mean_train_f1_micro', 'std_train_f1_micro', 'split0_test_accuracy', 'split1_test_accuracy', 'mean_test_accuracy', 'std_test_accuracy', 'rank_test_accuracy', 'split0_train_accuracy', 'split1_train_accuracy', 'mean_train_accuracy', 'std_train_accuracy'])\n",
      "0.830 (+/-0.008) for {'eclf__dep__clf__C': 1.0}\n",
      "0.841 (+/-0.009) for {'eclf__dep__clf__C': 10}\n",
      "0.842 (+/-0.008) for {'eclf__dep__clf__C': 100}\n",
      "0.839 (+/-0.009) for {'eclf__dep__clf__C': 1000}\n",
      "\n",
      "Detailed classification report:\n",
      "\n",
      "The model is trained on the full development set.\n",
      "The scores are computed on the full evaluation set.\n",
      "\n",
      "trans (1057, 8692) (1057, 4320) [52, 4372]\n",
      "trans (1057, 8692) (1057, 52) [0, 52]\n",
      "trans (1057, 8692) (1057, 4320) [4372, 8692]\n",
      "             precision    recall  f1-score   support\n",
      "\n",
      "          0       0.95      0.89      0.92        80\n",
      "          1       0.90      0.96      0.93        57\n",
      "          2       0.96      0.96      0.96        51\n",
      "          3       0.94      0.89      0.91        66\n",
      "          4       0.92      0.98      0.95        62\n",
      "          5       0.91      0.94      0.93        54\n",
      "          6       0.90      0.82      0.86        68\n",
      "          7       0.83      0.89      0.86        65\n",
      "          8       0.92      0.94      0.93        51\n",
      "          9       0.96      0.90      0.93        51\n",
      "         10       0.85      0.96      0.91        55\n",
      "         11       0.93      0.87      0.90        47\n",
      "         12       0.88      0.87      0.87        52\n",
      "         13       0.93      0.98      0.96        44\n",
      "         14       0.93      0.98      0.96        44\n",
      "         15       0.83      0.88      0.85        40\n",
      "         16       0.92      0.94      0.93        52\n",
      "         17       0.94      0.91      0.92        66\n",
      "         18       0.98      0.85      0.91        52\n",
      "\n",
      "avg / total       0.92      0.91      0.91      1057\n",
      "\n",
      "Classification report\n",
      "             precision    recall  f1-score   support\n",
      "\n",
      "          0       0.95      0.89      0.92        80\n",
      "          1       0.90      0.96      0.93        57\n",
      "          2       0.96      0.96      0.96        51\n",
      "          3       0.94      0.89      0.91        66\n",
      "          4       0.92      0.98      0.95        62\n",
      "          5       0.91      0.94      0.93        54\n",
      "          6       0.90      0.82      0.86        68\n",
      "          7       0.83      0.89      0.86        65\n",
      "          8       0.92      0.94      0.93        51\n",
      "          9       0.96      0.90      0.93        51\n",
      "         10       0.85      0.96      0.91        55\n",
      "         11       0.93      0.87      0.90        47\n",
      "         12       0.88      0.87      0.87        52\n",
      "         13       0.93      0.98      0.96        44\n",
      "         14       0.93      0.98      0.96        44\n",
      "         15       0.83      0.88      0.85        40\n",
      "         16       0.92      0.94      0.93        52\n",
      "         17       0.94      0.91      0.92        66\n",
      "         18       0.98      0.85      0.91        52\n",
      "\n",
      "avg / total       0.92      0.91      0.91      1057\n",
      "\n",
      "Normalized confusion matrix\n",
      "[[ 88.75   7.5    0.     1.25   1.25   0.     0.     0.     1.25   0.     0.\n",
      "    0.     0.     0.     0.     0.     0.     0.     0.  ]\n",
      " [  3.51  96.49   0.     0.     0.     0.     0.     0.     0.     0.     0.\n",
      "    0.     0.     0.     0.     0.     0.     0.     0.  ]\n",
      " [  0.     0.    96.08   0.     0.     0.     0.     0.     0.     1.96\n",
      "    0.     0.     0.     0.     0.     0.     0.     0.     1.96]\n",
      " [  0.     0.     0.    89.39   1.52   7.58   0.     0.     0.     0.\n",
      "    1.52   0.     0.     0.     0.     0.     0.     0.     0.  ]\n",
      " [  0.     0.     0.     1.61  98.39   0.     0.     0.     0.     0.     0.\n",
      "    0.     0.     0.     0.     0.     0.     0.     0.  ]\n",
      " [  0.     0.     0.     0.     3.7   94.44   0.     0.     0.     0.     0.\n",
      "    0.     0.     0.     1.85   0.     0.     0.     0.  ]\n",
      " [  0.     0.     0.     0.     0.     0.    82.35  13.24   0.     0.\n",
      "    1.47   0.     0.     0.     0.     0.     0.     2.94   0.  ]\n",
      " [  1.54   0.     0.     0.     0.     0.     1.54  89.23   1.54   0.\n",
      "    1.54   3.08   0.     1.54   0.     0.     0.     0.     0.  ]\n",
      " [  1.96   0.     0.     0.     0.     0.     0.     0.    94.12   0.     0.\n",
      "    1.96   0.     0.     1.96   0.     0.     0.     0.  ]\n",
      " [  0.     0.     0.     0.     0.     0.     0.     0.     0.    90.2\n",
      "    1.96   0.     1.96   0.     0.     3.92   0.     1.96   0.  ]\n",
      " [  0.     0.     0.     0.     0.     0.     0.     0.     0.     0.\n",
      "   96.36   0.     0.     1.82   0.     0.     1.82   0.     0.  ]\n",
      " [  0.     0.     0.     4.26   0.     0.     4.26   0.     0.     0.\n",
      "    2.13  87.23   0.     0.     2.13   0.     0.     0.     0.  ]\n",
      " [  0.     0.     1.92   0.     0.     0.     0.     0.     0.     1.92\n",
      "    0.     0.    86.54   0.     0.     9.62   0.     0.     0.  ]\n",
      " [  0.     0.     0.     0.     0.     0.     0.     0.     0.     0.     0.\n",
      "    0.     0.    97.73   0.     0.     2.27   0.     0.  ]\n",
      " [  0.     0.     0.     0.     0.     0.     0.     0.     0.     0.\n",
      "    2.27   0.     0.     0.    97.73   0.     0.     0.     0.  ]\n",
      " [  0.     0.     0.     0.     0.     0.     0.     0.     0.     0.     0.\n",
      "    0.    12.5    0.     0.    87.5    0.     0.     0.  ]\n",
      " [  0.     0.     1.92   0.     0.     0.     0.     0.     1.92   0.     0.\n",
      "    0.     0.     1.92   0.     0.    94.23   0.     0.  ]\n",
      " [  0.     0.     0.     0.     0.     0.     3.03   0.     0.     0.\n",
      "    4.55   0.     0.     0.     0.     0.     1.52  90.91   0.  ]\n",
      " [  0.     0.     0.     0.     1.92   0.     1.92   5.77   1.92   0.     0.\n",
      "    0.     0.     0.     0.     0.     1.92   1.92  84.62]]\n"
     ]
    },
    {
     "data": {
      "image/png": "[encoded data removed]",
      "text/plain": [
       "<matplotlib.figure.Figure at 0x2558fae9898>"
      ]
     },
     "metadata": {},
     "output_type": "display_data"
    },
    {
     "name": "stdout",
     "output_type": "stream",
     "text": [
      "\n"
     ]
    }
   ],
   "source": [
    "search(X_train, X_test, y_train, y_test)"
   ]
  },
  {
   "cell_type": "code",
   "execution_count": null,
   "metadata": {
    "collapsed": true
   },
   "outputs": [],
   "source": []
  },
  {
   "cell_type": "code",
   "execution_count": null,
   "metadata": {
    "collapsed": true
   },
   "outputs": [],
   "source": [
    "from sklearn.decomposition import PCA\n",
    "\n",
    "pca = PCA()\n",
    "pca.fit(nds.iloc[:,2:])\n",
    "nnds = pca.transform(nds.iloc[:,2:])"
   ]
  },
  {
   "cell_type": "code",
   "execution_count": null,
   "metadata": {
    "collapsed": true
   },
   "outputs": [],
   "source": [
    "from sklearn.metrics import make_scorer,precision_recall_fscore_support\n",
    "\n",
    "def search2(X_train, X_test, y_train, y_test):\n",
    "    \n",
    "    # normalize data\n",
    "    print(\"Normalizing data!\")\n",
    "    #stdScale = preprocessing.StandardScaler().fit(xTrain)\n",
    "    #xTrain = stdScale.transform(xTrain)\n",
    "    #xTest = stdScale.transform(xTest)\n",
    "    \n",
    "    print(\"Grid Search Classifiers!\")\n",
    "    \n",
    "    knc = KNeighborsClassifier()\n",
    "    svc = SVC()\n",
    "    rfc = RandomForestClassifier()\n",
    "    gb = GradientBoostingClassifier(n_estimators=100, learning_rate=1.0,max_depth=1, random_state=0)\n",
    "    clf1 = SVC()\n",
    "    clf2 = RandomForestClassifier(random_state=1)\n",
    "    clf3 = GaussianNB()\n",
    "    vt = VotingClassifier(estimators=[('svc', clf1), ('rf', clf2), ('gnb', clf3)], voting='hard')\n",
    "\n",
    "    kncp = [{'n_neighbors': [3, 5, 7],\n",
    "             'weights': ['uniform','distance'],\n",
    "              'algorithm': ['auto','ball_tree', 'kd_tree', 'brute']}]\n",
    "    svcp = [{'kernel': ['rbf','linear'], \n",
    "             'gamma': [1e-3, 1e-4],\n",
    "             'C': [0.0001, 0.001, 0.01, 0.1, 1.0, 1, 10, 100, 1000]}]\n",
    "    rfcp = [{'n_estimators': [10, 20, 50, 100,200,300], \n",
    "            'max_depth': [None, 1, 10, 100],\n",
    "            'bootstrap': [True, False],\n",
    "            'criterion': [\"gini\", \"entropy\"]}]\n",
    "    gbp = [{#'loss' : ['deviance', 'exponential'],\n",
    "           'n_estimators': [50,100],\n",
    "           'learning_rate': [0.1,1.0,10],\n",
    "           'max_depth' : [3,5,10]\n",
    "            }]\n",
    "           #'min_impurity_decrease': [0.0]}]#, 0.1]}]\n",
    "    vtp = [{'svc__C': [1.0, 100.0], \n",
    "            'rf__n_estimators': [20, 200],}]\n",
    "   \n",
    "    classifiers = [#('kNN', knc, kncp),                                 \n",
    "                    #('Support Vector', svc, svcp),\n",
    "                    #('Random Forest', rfc, rfcp),\n",
    "                    ('Gradient Boosting', gb, gbp),\n",
    "                    ('Vooting', vt, vtp)]\n",
    "    \n",
    "    for name, classifier, params in classifiers:\n",
    "        print(name)\n",
    "        clf = GridSearchCV(classifier, params, cv=2, scoring=['f1_weighted','accuracy','precision_weighted', 'recall_weighted'], refit='f1_weighted' , verbose = 10)\n",
    "\n",
    "        clf.fit(X_train, y_train)\n",
    "\n",
    "        print(\"Best parameters set found on development set:\")\n",
    "        print()\n",
    "        print(clf.best_params_)\n",
    "        print()\n",
    "        print(\"Grid scores on development set:\")\n",
    "        print(clf.best_score_)\n",
    "        print()\n",
    "        print(clf.cv_results_.keys())\n",
    "        #means = clf.cv_results_['mean_test_score']\n",
    "        #stds = clf.cv_results_['std_test_score']\n",
    "        #for mean, std, params in zip(means, stds, clf.cv_results_['params']):\n",
    "        #    print(\"%0.3f (+/-%0.03f) for %r\"\n",
    "        #          % (mean, std * 2, params))\n",
    "        #print()\n",
    "\n",
    "        print(\"Detailed classification report:\")\n",
    "        print()\n",
    "        print(\"The model is trained on the full development set.\")\n",
    "        print(\"The scores are computed on the full evaluation set.\")\n",
    "        print()\n",
    "        yTrue, yPred = y_test, clf.predict(X_test)\n",
    "        print(classification_report(yTrue, yPred))\n",
    "        plot_confusion(yTrue, yPred, name)\n",
    "        print()"
   ]
  },
  {
   "cell_type": "code",
   "execution_count": null,
   "metadata": {
    "collapsed": true
   },
   "outputs": [],
   "source": []
  },
  {
   "cell_type": "code",
   "execution_count": null,
   "metadata": {
    "collapsed": true
   },
   "outputs": [],
   "source": []
  }
 ],
 "metadata": {
  "kernelspec": {
   "display_name": "Python 3",
   "language": "python",
   "name": "python3"
  },
  "language_info": {
   "codemirror_mode": {
    "name": "ipython",
    "version": 3
   },
   "file_extension": ".py",
   "mimetype": "text/x-python",
   "name": "python",
   "nbconvert_exporter": "python",
   "pygments_lexer": "ipython3",
   "version": "3.6.2"
  }
 },
 "nbformat": 4,
 "nbformat_minor": 2
}
