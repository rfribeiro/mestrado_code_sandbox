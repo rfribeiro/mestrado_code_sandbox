{
 "cells": [
  {
   "cell_type": "code",
   "execution_count": 1,
   "metadata": {
    "collapsed": true
   },
   "outputs": [],
   "source": [
    "import cv2\n",
    "import numpy as np\n",
    "import glob\n",
    "import pandas as pd"
   ]
  },
  {
   "cell_type": "code",
   "execution_count": 2,
   "metadata": {
    "collapsed": true
   },
   "outputs": [],
   "source": [
    "save_path = '.\\\\face_model\\\\positive\\\\'\n",
    "image_path = 'E:\\\\Mestrado_Data\\\\'\n",
    "\n",
    "prefix = 'E:\\\\MestradoData\\\\'\n",
    "wildcard = '\\\\*_'\n",
    "persons = [\"p{:03d}\".format(i) for i in range(19,36)]\n",
    "classes = [i for i in range(1,20)]\n",
    "suffix = '_*_{:d}.bmp'\n",
    "type = ['ir1']\n",
    "face_rect = [[120, 35],[120, 35], [80,35], [90, 30]]\n",
    "face_rect_dif = [[0, 0],[0, 0], [-30,0], [-25, -5]]\n",
    "face_window_h = 104\n",
    "face_window_w = 88"
   ]
  },
  {
   "cell_type": "code",
   "execution_count": 3,
   "metadata": {},
   "outputs": [
    {
     "name": "stdout",
     "output_type": "stream",
     "text": [
      "17 ['p019', 'p020', 'p021', 'p022', 'p023', 'p024', 'p025', 'p026', 'p027', 'p028', 'p029', 'p030', 'p031', 'p032', 'p033', 'p034', 'p035']\n"
     ]
    }
   ],
   "source": [
    "print(len(persons), persons)"
   ]
  },
  {
   "cell_type": "code",
   "execution_count": 4,
   "metadata": {
    "collapsed": true
   },
   "outputs": [],
   "source": [
    "# Select ROI\n",
    "showCrosshair = True\n",
    "fromCenter = False"
   ]
  },
  {
   "cell_type": "code",
   "execution_count": 555,
   "metadata": {},
   "outputs": [
    {
     "name": "stdout",
     "output_type": "stream",
     "text": [
      "p033 19\n"
     ]
    }
   ],
   "source": [
    "data = []\n",
    "\n",
    "p = persons[15]\n",
    "c = classes[0]\n",
    "print(p,c)"
   ]
  },
  {
   "cell_type": "code",
   "execution_count": 556,
   "metadata": {},
   "outputs": [],
   "source": [
    "#for c in classes:\n",
    "#for p in persons[1]:\n",
    "img_count = 0\n",
    "for i in range (1,301,10):\n",
    "    pattern = prefix + p + wildcard + str(c) + suffix.format(i)\n",
    "    files_list = glob.glob(pattern)\n",
    "\n",
    "    if len(files_list) >= 4:\n",
    "        # Read image\n",
    "        im = cv2.imread(files_list[1])\n",
    "\n",
    "        #print(pattern, len(files_list), files_list)\n",
    "\n",
    "        r = cv2.selectROI(\"Image\", im, showCrosshair, fromCenter)\n",
    "\n",
    "        if r[0] > 0:\n",
    "            # Crop image\n",
    "            imCrop = im[int(r[1]+face_rect_dif[1][1]):int(r[1]+face_rect_dif[1][1]+face_window_h), int(r[0]+face_rect_dif[1][0]):int(r[0]+face_rect_dif[1][0]+face_window_w)]              \n",
    "\n",
    "            # Display cropped image\n",
    "            cv2.imshow(\"crop\", imCrop)\n",
    "            k = cv2.waitKey(0)\n",
    "            cv2.destroyAllWindows() \n",
    "            if k==13:\n",
    "                img_count = img_count + 1\n",
    "                sample = [c, p]\n",
    "                for i in range(4):\n",
    "                    sample.append(files_list[i])\n",
    "                    sample.append(r[1]+face_rect_dif[i][1])\n",
    "                    sample.append(r[0]+face_rect_dif[i][0])\n",
    "                    sample.append(r[1]+face_rect_dif[i][1]+face_window_h)\n",
    "                    sample.append(r[0]+face_rect_dif[i][0]+face_window_w)\n",
    "                data.append(sample)\n",
    "                #print(sample)\n",
    "                #print(sample[3]-sample[5], sample[4]-sample[6], sample[8]-sample[10], sample[9]-sample[11], sample[13]-sample[15],sample[14]-sample[16])\n",
    "        #print(r, r[1]+face_rect_dif[1][1], r[0]+face_rect_dif[1][0], img_count,files_list[1])\n",
    "\n",
    "    if img_count >= 15:\n",
    "        break;\n",
    "            "
   ]
  },
  {
   "cell_type": "code",
   "execution_count": 557,
   "metadata": {},
   "outputs": [],
   "source": [
    "# save file\n",
    "df = pd.DataFrame(data, columns = ['class','person', \n",
    "                                   'depfile_path','depxs', 'depys', 'depxe','depye',\n",
    "                                   'ir1file_path','ir1xs', 'ir1ys', 'ir1xe','ir1ye',\n",
    "                                   'ir2file_path','ir2xs', 'ir2ys', 'ir2xe','ir2ye',\n",
    "                                   'rgbfile_path','rgbxs', 'rgbys', 'rgbxe','rgbye'])\n",
    "filename = 'training_{:s}_{:d}.csv'.format(p,c)\n",
    "df.to_csv(filename, index=False, encoding='utf-8')"
   ]
  },
  {
   "cell_type": "code",
   "execution_count": null,
   "metadata": {
    "collapsed": true
   },
   "outputs": [],
   "source": [
    "\n",
    "\n",
    "\n",
    "\n",
    "\n",
    "df.shape\n",
    "\n",
    "\n",
    "\n",
    "\n",
    "\n",
    "\n",
    "\n",
    "\n"
   ]
  },
  {
   "cell_type": "code",
   "execution_count": null,
   "metadata": {
    "collapsed": true
   },
   "outputs": [],
   "source": [
    "len(data)"
   ]
  },
  {
   "cell_type": "code",
   "execution_count": null,
   "metadata": {
    "collapsed": true
   },
   "outputs": [],
   "source": []
  },
  {
   "cell_type": "code",
   "execution_count": null,
   "metadata": {
    "collapsed": true
   },
   "outputs": [],
   "source": []
  },
  {
   "cell_type": "code",
   "execution_count": null,
   "metadata": {
    "collapsed": true
   },
   "outputs": [],
   "source": []
  }
 ],
 "metadata": {
  "kernelspec": {
   "display_name": "Python 3",
   "language": "python",
   "name": "python3"
  },
  "language_info": {
   "codemirror_mode": {
    "name": "ipython",
    "version": 3
   },
   "file_extension": ".py",
   "mimetype": "text/x-python",
   "name": "python",
   "nbconvert_exporter": "python",
   "pygments_lexer": "ipython3",
   "version": "3.6.2"
  }
 },
 "nbformat": 4,
 "nbformat_minor": 2
}
