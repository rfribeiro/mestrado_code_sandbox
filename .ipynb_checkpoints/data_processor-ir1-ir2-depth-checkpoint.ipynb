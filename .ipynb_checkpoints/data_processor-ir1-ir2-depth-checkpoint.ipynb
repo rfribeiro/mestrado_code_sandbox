{
 "cells": [
  {
   "cell_type": "code",
   "execution_count": 1,
   "metadata": {
    "collapsed": true
   },
   "outputs": [],
   "source": [
    "import time\n",
    "import glob\n",
    "import pandas as pd\n",
    "import numpy as np\n",
    "import matplotlib.pyplot as plt\n",
    "\n",
    "%matplotlib inline"
   ]
  },
  {
   "cell_type": "code",
   "execution_count": 2,
   "metadata": {
    "collapsed": true
   },
   "outputs": [],
   "source": [
    "from sklearn.ensemble import VotingClassifier\n",
    "from sklearn.svm import SVC\n",
    "from sklearn.ensemble import RandomForestClassifier\n",
    "from sklearn.svm import LinearSVC\n",
    "from sklearn import preprocessing\n",
    "from sklearn.naive_bayes import GaussianNB\n",
    "from sklearn.neural_network import BernoulliRBM\n",
    "from sklearn.pipeline import Pipeline\n",
    "from sklearn.model_selection import GridSearchCV\n",
    "from sklearn.model_selection import train_test_split\n",
    "from sklearn.metrics import classification_report\n",
    "from sklearn.ensemble import GradientBoostingClassifier\n",
    "from sklearn.neighbors import KNeighborsClassifier\n",
    "\n",
    "from sklearn.preprocessing import LabelBinarizer"
   ]
  },
  {
   "cell_type": "code",
   "execution_count": 3,
   "metadata": {
    "collapsed": true
   },
   "outputs": [],
   "source": [
    "shift = 4320"
   ]
  },
  {
   "cell_type": "code",
   "execution_count": 4,
   "metadata": {
    "collapsed": true
   },
   "outputs": [],
   "source": [
    "prefix = 'C:\\\\Users\\\\rafae\\\\Desktop\\\\Coleta\\\\features_hog_*.csv'"
   ]
  },
  {
   "cell_type": "code",
   "execution_count": 5,
   "metadata": {},
   "outputs": [
    {
     "name": "stdout",
     "output_type": "stream",
     "text": [
      "227\n"
     ]
    }
   ],
   "source": [
    "files_list = glob.glob(prefix)\n",
    "print(len(files_list))"
   ]
  },
  {
   "cell_type": "code",
   "execution_count": 6,
   "metadata": {},
   "outputs": [
    {
     "data": {
      "text/plain": [
       "227"
      ]
     },
     "execution_count": 6,
     "metadata": {},
     "output_type": "execute_result"
    }
   ],
   "source": [
    "# read features\n",
    "frames = [pd.read_csv(f, header=0) for f in files_list ]\n",
    "len(frames)"
   ]
  },
  {
   "cell_type": "code",
   "execution_count": 7,
   "metadata": {
    "collapsed": true
   },
   "outputs": [],
   "source": [
    "ds = pd.concat(frames)"
   ]
  },
  {
   "cell_type": "code",
   "execution_count": 8,
   "metadata": {},
   "outputs": [
    {
     "data": {
      "text/plain": [
       "(3402, 17282)"
      ]
     },
     "execution_count": 8,
     "metadata": {},
     "output_type": "execute_result"
    }
   ],
   "source": [
    "ds.shape"
   ]
  },
  {
   "cell_type": "code",
   "execution_count": 9,
   "metadata": {},
   "outputs": [
    {
     "data": {
      "text/html": [
       "<div>\n",
       "<style>\n",
       "    .dataframe thead tr:only-child th {\n",
       "        text-align: right;\n",
       "    }\n",
       "\n",
       "    .dataframe thead th {\n",
       "        text-align: left;\n",
       "    }\n",
       "\n",
       "    .dataframe tbody tr th {\n",
       "        vertical-align: top;\n",
       "    }\n",
       "</style>\n",
       "<table border=\"1\" class=\"dataframe\">\n",
       "  <thead>\n",
       "    <tr style=\"text-align: right;\">\n",
       "      <th></th>\n",
       "      <th>0</th>\n",
       "      <th>1</th>\n",
       "      <th>2</th>\n",
       "      <th>3</th>\n",
       "      <th>4</th>\n",
       "      <th>5</th>\n",
       "      <th>6</th>\n",
       "      <th>7</th>\n",
       "      <th>8</th>\n",
       "      <th>9</th>\n",
       "      <th>...</th>\n",
       "      <th>17272</th>\n",
       "      <th>17273</th>\n",
       "      <th>17274</th>\n",
       "      <th>17275</th>\n",
       "      <th>17276</th>\n",
       "      <th>17277</th>\n",
       "      <th>17278</th>\n",
       "      <th>17279</th>\n",
       "      <th>17280</th>\n",
       "      <th>17281</th>\n",
       "    </tr>\n",
       "  </thead>\n",
       "  <tbody>\n",
       "    <tr>\n",
       "      <th>0</th>\n",
       "      <td>1</td>\n",
       "      <td>p002</td>\n",
       "      <td>0.040434</td>\n",
       "      <td>0.0</td>\n",
       "      <td>0.040434</td>\n",
       "      <td>0.000000</td>\n",
       "      <td>0.040434</td>\n",
       "      <td>0.000000</td>\n",
       "      <td>0.007211</td>\n",
       "      <td>0.0</td>\n",
       "      <td>...</td>\n",
       "      <td>0.071793</td>\n",
       "      <td>0.090339</td>\n",
       "      <td>0.127822</td>\n",
       "      <td>0.127822</td>\n",
       "      <td>0.042653</td>\n",
       "      <td>0.053141</td>\n",
       "      <td>0.059538</td>\n",
       "      <td>0.003019</td>\n",
       "      <td>0.019839</td>\n",
       "      <td>0.127822</td>\n",
       "    </tr>\n",
       "    <tr>\n",
       "      <th>1</th>\n",
       "      <td>1</td>\n",
       "      <td>p002</td>\n",
       "      <td>0.051262</td>\n",
       "      <td>0.0</td>\n",
       "      <td>0.051262</td>\n",
       "      <td>0.000000</td>\n",
       "      <td>0.032784</td>\n",
       "      <td>0.036653</td>\n",
       "      <td>0.011591</td>\n",
       "      <td>0.0</td>\n",
       "      <td>...</td>\n",
       "      <td>0.069514</td>\n",
       "      <td>0.119957</td>\n",
       "      <td>0.119957</td>\n",
       "      <td>0.119957</td>\n",
       "      <td>0.024254</td>\n",
       "      <td>0.051084</td>\n",
       "      <td>0.053452</td>\n",
       "      <td>0.014108</td>\n",
       "      <td>0.010533</td>\n",
       "      <td>0.119957</td>\n",
       "    </tr>\n",
       "    <tr>\n",
       "      <th>2</th>\n",
       "      <td>1</td>\n",
       "      <td>p002</td>\n",
       "      <td>0.055882</td>\n",
       "      <td>0.0</td>\n",
       "      <td>0.041321</td>\n",
       "      <td>0.021778</td>\n",
       "      <td>0.038958</td>\n",
       "      <td>0.000000</td>\n",
       "      <td>0.000000</td>\n",
       "      <td>0.0</td>\n",
       "      <td>...</td>\n",
       "      <td>0.103166</td>\n",
       "      <td>0.037546</td>\n",
       "      <td>0.044686</td>\n",
       "      <td>0.122575</td>\n",
       "      <td>0.033838</td>\n",
       "      <td>0.104095</td>\n",
       "      <td>0.087389</td>\n",
       "      <td>0.003405</td>\n",
       "      <td>0.009884</td>\n",
       "      <td>0.017647</td>\n",
       "    </tr>\n",
       "    <tr>\n",
       "      <th>3</th>\n",
       "      <td>1</td>\n",
       "      <td>p002</td>\n",
       "      <td>0.061119</td>\n",
       "      <td>0.0</td>\n",
       "      <td>0.049430</td>\n",
       "      <td>0.000000</td>\n",
       "      <td>0.023301</td>\n",
       "      <td>0.000000</td>\n",
       "      <td>0.032953</td>\n",
       "      <td>0.0</td>\n",
       "      <td>...</td>\n",
       "      <td>0.132490</td>\n",
       "      <td>0.091092</td>\n",
       "      <td>0.132490</td>\n",
       "      <td>0.123109</td>\n",
       "      <td>0.038147</td>\n",
       "      <td>0.132490</td>\n",
       "      <td>0.132490</td>\n",
       "      <td>0.050142</td>\n",
       "      <td>0.042432</td>\n",
       "      <td>0.028560</td>\n",
       "    </tr>\n",
       "    <tr>\n",
       "      <th>4</th>\n",
       "      <td>1</td>\n",
       "      <td>p002</td>\n",
       "      <td>0.049711</td>\n",
       "      <td>0.0</td>\n",
       "      <td>0.049711</td>\n",
       "      <td>0.017234</td>\n",
       "      <td>0.049711</td>\n",
       "      <td>0.000000</td>\n",
       "      <td>0.021800</td>\n",
       "      <td>0.0</td>\n",
       "      <td>...</td>\n",
       "      <td>0.052366</td>\n",
       "      <td>0.038015</td>\n",
       "      <td>0.034714</td>\n",
       "      <td>0.061695</td>\n",
       "      <td>0.040908</td>\n",
       "      <td>0.070168</td>\n",
       "      <td>0.032586</td>\n",
       "      <td>0.004734</td>\n",
       "      <td>0.009425</td>\n",
       "      <td>0.023819</td>\n",
       "    </tr>\n",
       "  </tbody>\n",
       "</table>\n",
       "<p>5 rows × 17282 columns</p>\n",
       "</div>"
      ],
      "text/plain": [
       "   0     1         2    3         4         5         6         7         8  \\\n",
       "0  1  p002  0.040434  0.0  0.040434  0.000000  0.040434  0.000000  0.007211   \n",
       "1  1  p002  0.051262  0.0  0.051262  0.000000  0.032784  0.036653  0.011591   \n",
       "2  1  p002  0.055882  0.0  0.041321  0.021778  0.038958  0.000000  0.000000   \n",
       "3  1  p002  0.061119  0.0  0.049430  0.000000  0.023301  0.000000  0.032953   \n",
       "4  1  p002  0.049711  0.0  0.049711  0.017234  0.049711  0.000000  0.021800   \n",
       "\n",
       "     9    ...        17272     17273     17274     17275     17276     17277  \\\n",
       "0  0.0    ...     0.071793  0.090339  0.127822  0.127822  0.042653  0.053141   \n",
       "1  0.0    ...     0.069514  0.119957  0.119957  0.119957  0.024254  0.051084   \n",
       "2  0.0    ...     0.103166  0.037546  0.044686  0.122575  0.033838  0.104095   \n",
       "3  0.0    ...     0.132490  0.091092  0.132490  0.123109  0.038147  0.132490   \n",
       "4  0.0    ...     0.052366  0.038015  0.034714  0.061695  0.040908  0.070168   \n",
       "\n",
       "      17278     17279     17280     17281  \n",
       "0  0.059538  0.003019  0.019839  0.127822  \n",
       "1  0.053452  0.014108  0.010533  0.119957  \n",
       "2  0.087389  0.003405  0.009884  0.017647  \n",
       "3  0.132490  0.050142  0.042432  0.028560  \n",
       "4  0.032586  0.004734  0.009425  0.023819  \n",
       "\n",
       "[5 rows x 17282 columns]"
      ]
     },
     "execution_count": 9,
     "metadata": {},
     "output_type": "execute_result"
    }
   ],
   "source": [
    "ds.head()"
   ]
  },
  {
   "cell_type": "code",
   "execution_count": 10,
   "metadata": {
    "collapsed": true
   },
   "outputs": [],
   "source": [
    "yData = ds['0']"
   ]
  },
  {
   "cell_type": "code",
   "execution_count": 11,
   "metadata": {
    "collapsed": true
   },
   "outputs": [],
   "source": [
    "xData = ds.iloc[:,2:2+shift+shift]"
   ]
  },
  {
   "cell_type": "code",
   "execution_count": 12,
   "metadata": {},
   "outputs": [
    {
     "data": {
      "text/plain": [
       "10"
      ]
     },
     "execution_count": 12,
     "metadata": {},
     "output_type": "execute_result"
    }
   ],
   "source": [
    "yData.iloc[20]"
   ]
  },
  {
   "cell_type": "code",
   "execution_count": 13,
   "metadata": {},
   "outputs": [
    {
     "name": "stdout",
     "output_type": "stream",
     "text": [
      "(3402,) (3402, 8640) <class 'pandas.core.series.Series'> <class 'pandas.core.frame.DataFrame'>\n"
     ]
    }
   ],
   "source": [
    "print(yData.shape, xData.shape, type(yData), type(xData))"
   ]
  },
  {
   "cell_type": "code",
   "execution_count": 14,
   "metadata": {
    "collapsed": true
   },
   "outputs": [],
   "source": [
    "from sklearn.metrics import confusion_matrix\n",
    "\n",
    "def plot_confusion_matrix(cm, title='Confusion matrix', cmap=plt.cm.Blues):\n",
    "    plt.imshow(cm, interpolation='nearest', cmap=cmap)\n",
    "    plt.title(title)\n",
    "    plt.colorbar()\n",
    "    tick_marks = np.arange(2)\n",
    "    plt.xticks(tick_marks, rotation=45)\n",
    "    plt.yticks(tick_marks)\n",
    "    plt.tight_layout()\n",
    "    plt.ylabel('True label')\n",
    "    plt.xlabel('Predicted label')"
   ]
  },
  {
   "cell_type": "code",
   "execution_count": 15,
   "metadata": {},
   "outputs": [
    {
     "name": "stderr",
     "output_type": "stream",
     "text": [
      "C:\\ProgramData\\Anaconda3\\lib\\site-packages\\sklearn\\cross_validation.py:41: DeprecationWarning: This module was deprecated in version 0.18 in favor of the model_selection module into which all the refactored classes and functions are moved. Also note that the interface of the new CV iterators are different from that of this module. This module will be removed in 0.20.\n",
      "  \"This module will be removed in 0.20.\", DeprecationWarning)\n"
     ]
    }
   ],
   "source": [
    "from sklearn.metrics import confusion_matrix\n",
    "from sklearn.metrics import classification_report, accuracy_score\n",
    "from sklearn import cross_validation\n",
    "\n",
    "# Compute confusion matrix\n",
    "def plot_confusion(yTest, yTestPred, name):\n",
    "    cm = confusion_matrix(yTest, yTestPred)\n",
    "    np.set_printoptions(precision=2)\n",
    "\n",
    "    # Normalize the confusion matrix by row (i.e by the number of samples in each class)\n",
    "    cm_normalized = (cm.astype('float') / cm.sum(axis=1)[:, np.newaxis])*100\n",
    "    print('Classification report')\n",
    "    print(classification_report(yTest, yTestPred))\n",
    "    print('Normalized confusion matrix')\n",
    "    print(cm_normalized)\n",
    "    #plt.figure(figsize=(5, 5))\n",
    "    #plot_confusion_matrix(cm_normalized, title='Normalized confusion matrix (%s)' % (name))\n",
    "\n",
    "    #plt.show()\n",
    "    # plot confusion matrix"
   ]
  },
  {
   "cell_type": "code",
   "execution_count": 25,
   "metadata": {},
   "outputs": [],
   "source": [
    "from sklearn.metrics import make_scorer,precision_recall_fscore_support\n",
    "\n",
    "def search(X_train, X_test, y_train, y_test):\n",
    "    \n",
    "    # normalize data\n",
    "    print(\"Normalizing data!\")\n",
    "    #stdScale = preprocessing.StandardScaler().fit(xTrain)\n",
    "    #xTrain = stdScale.transform(xTrain)\n",
    "    #xTest = stdScale.transform(xTest)\n",
    "    \n",
    "    print(\"Grid Search Classifiers!\")\n",
    "    \n",
    "    knc = KNeighborsClassifier()\n",
    "    svc = SVC()\n",
    "    rfc = RandomForestClassifier()\n",
    "    gb = GradientBoostingClassifier(n_estimators=100, learning_rate=1.0,max_depth=1, random_state=0)\n",
    "    clf1 = SVC()\n",
    "    clf2 = RandomForestClassifier(random_state=1)\n",
    "    clf3 = GaussianNB()\n",
    "    vt = VotingClassifier(estimators=[('svc', clf1), ('rf', clf2), ('gnb', clf3)], voting='hard')\n",
    "\n",
    "    kncp = [{'n_neighbors': [3, 5, 7],\n",
    "             'weights': ['uniform','distance'],\n",
    "              'algorithm': ['auto','ball_tree', 'kd_tree', 'brute']}]\n",
    "    svcp = [{'kernel': ['rbf','linear'], \n",
    "             'gamma': [1e-3, 1e-4],\n",
    "             'C': [0.0001, 0.001, 0.01, 0.1, 1.0, 1, 10, 100, 1000]}]\n",
    "    rfcp = [{'n_estimators': [10, 20, 50, 100,200,300], \n",
    "            'max_depth': [None, 1, 10, 100],\n",
    "            'bootstrap': [True, False],\n",
    "            'criterion': [\"gini\", \"entropy\"]}]\n",
    "    gbp = [{#'loss' : ['deviance', 'exponential'],\n",
    "           'n_estimators': [50,100],\n",
    "           'learning_rate': [0.1,1.0,10],\n",
    "           'max_depth' : [3,5,10]\n",
    "            }]\n",
    "           #'min_impurity_decrease': [0.0]}]#, 0.1]}]\n",
    "    vtp = [{'svc__C': [1.0, 100.0], \n",
    "            'rf__n_estimators': [20, 200],}]\n",
    "   \n",
    "    classifiers = [#('kNN', knc, kncp),                                 \n",
    "                    #('Support Vector', svc, svcp),\n",
    "                    #('Random Forest', rfc, rfcp),\n",
    "                    ('Gradient Boosting', gb, gbp),\n",
    "                    ('Vooting', vt, vtp)]\n",
    "    \n",
    "    for name, classifier, params in classifiers:\n",
    "        print(name)\n",
    "        clf = GridSearchCV(classifier, params, cv=2, scoring=['f1_weighted','accuracy','precision_weighted', 'recall_weighted'], refit='f1_weighted' , verbose = 10)\n",
    "\n",
    "        clf.fit(X_train, y_train)\n",
    "\n",
    "        print(\"Best parameters set found on development set:\")\n",
    "        print()\n",
    "        print(clf.best_params_)\n",
    "        print()\n",
    "        print(\"Grid scores on development set:\")\n",
    "        print(clf.best_score_)\n",
    "        print()\n",
    "        print(clf.cv_results_.keys())\n",
    "        #means = clf.cv_results_['mean_test_score']\n",
    "        #stds = clf.cv_results_['std_test_score']\n",
    "        #for mean, std, params in zip(means, stds, clf.cv_results_['params']):\n",
    "        #    print(\"%0.3f (+/-%0.03f) for %r\"\n",
    "        #          % (mean, std * 2, params))\n",
    "        #print()\n",
    "\n",
    "        print(\"Detailed classification report:\")\n",
    "        print()\n",
    "        print(\"The model is trained on the full development set.\")\n",
    "        print(\"The scores are computed on the full evaluation set.\")\n",
    "        print()\n",
    "        yTrue, yPred = y_test, clf.predict(X_test)\n",
    "        print(classification_report(yTrue, yPred))\n",
    "        plot_confusion(yTrue, yPred, name)\n",
    "        print()"
   ]
  },
  {
   "cell_type": "code",
   "execution_count": 21,
   "metadata": {},
   "outputs": [
    {
     "name": "stdout",
     "output_type": "stream",
     "text": [
      "[ 1  2  3  4  5  6  7  8  9 10 11 12 13 14 15 16 17 18 19]\n"
     ]
    }
   ],
   "source": [
    "le = preprocessing.LabelEncoder()\n",
    "le.fit(yData)\n",
    "print(le.classes_)\n",
    "yDataBin = le.transform(yData)"
   ]
  },
  {
   "cell_type": "code",
   "execution_count": 22,
   "metadata": {},
   "outputs": [
    {
     "name": "stdout",
     "output_type": "stream",
     "text": [
      "(2381, 8640) (1021, 8640) (2381,) (1021,) <class 'tuple'> <class 'tuple'> <class 'tuple'> <class 'tuple'>\n"
     ]
    }
   ],
   "source": [
    "# Split the dataset in two equal parts\n",
    "X_train, X_test, y_train, y_test = train_test_split(xData, yDataBin, test_size=0.3, random_state=0)\n",
    "\n",
    "print(X_train.shape, X_test.shape, y_train.shape, y_test.shape,\n",
    "      type(X_train.shape), type(X_test.shape), type(y_train.shape), type(y_test.shape))"
   ]
  },
  {
   "cell_type": "code",
   "execution_count": 26,
   "metadata": {},
   "outputs": [
    {
     "name": "stdout",
     "output_type": "stream",
     "text": [
      "Normalizing data!\n",
      "Grid Search Classifiers!\n",
      "Gradient Boosting\n",
      "Fitting 2 folds for each of 18 candidates, totalling 36 fits\n",
      "[CV] learning_rate=0.1, max_depth=3, n_estimators=50 .................\n",
      "[CV]  learning_rate=0.1, max_depth=3, n_estimators=50, f1_weighted=0.5950124849860656, accuracy=0.5926236378876781, precision_weighted=0.6133796981482771, recall_weighted=0.5926236378876781, total= 7.5min\n",
      "[CV] learning_rate=0.1, max_depth=3, n_estimators=50 .................\n"
     ]
    },
    {
     "name": "stderr",
     "output_type": "stream",
     "text": [
      "[Parallel(n_jobs=1)]: Done   1 out of   1 | elapsed:  7.5min remaining:    0.0s\n"
     ]
    },
    {
     "name": "stdout",
     "output_type": "stream",
     "text": [
      "[CV]  learning_rate=0.1, max_depth=3, n_estimators=50, f1_weighted=0.6063313608072967, accuracy=0.6018518518518519, precision_weighted=0.6201656268851697, recall_weighted=0.6018518518518519, total= 7.7min\n",
      "[CV] learning_rate=0.1, max_depth=3, n_estimators=100 ................\n"
     ]
    },
    {
     "name": "stderr",
     "output_type": "stream",
     "text": [
      "[Parallel(n_jobs=1)]: Done   2 out of   2 | elapsed: 15.2min remaining:    0.0s\n"
     ]
    },
    {
     "name": "stdout",
     "output_type": "stream",
     "text": [
      "[CV]  learning_rate=0.1, max_depth=3, n_estimators=100, f1_weighted=0.6265450101658819, accuracy=0.6236378876781223, precision_weighted=0.646519106808275, recall_weighted=0.6236378876781223, total=20.6min\n",
      "[CV] learning_rate=0.1, max_depth=3, n_estimators=100 ................\n"
     ]
    },
    {
     "name": "stderr",
     "output_type": "stream",
     "text": [
      "[Parallel(n_jobs=1)]: Done   3 out of   3 | elapsed: 35.8min remaining:    0.0s\n"
     ]
    },
    {
     "name": "stdout",
     "output_type": "stream",
     "text": [
      "[CV]  learning_rate=0.1, max_depth=3, n_estimators=100, f1_weighted=0.6265033599921459, accuracy=0.6203703703703703, precision_weighted=0.6447532864189176, recall_weighted=0.6203703703703703, total=16.3min\n",
      "[CV] learning_rate=0.1, max_depth=5, n_estimators=50 .................\n"
     ]
    },
    {
     "name": "stderr",
     "output_type": "stream",
     "text": [
      "[Parallel(n_jobs=1)]: Done   4 out of   4 | elapsed: 52.1min remaining:    0.0s\n"
     ]
    },
    {
     "name": "stdout",
     "output_type": "stream",
     "text": [
      "[CV]  learning_rate=0.1, max_depth=5, n_estimators=50, f1_weighted=0.623745683808954, accuracy=0.6152556580050293, precision_weighted=0.6546432536152008, recall_weighted=0.6152556580050293, total=14.8min\n",
      "[CV] learning_rate=0.1, max_depth=5, n_estimators=50 .................\n"
     ]
    },
    {
     "name": "stderr",
     "output_type": "stream",
     "text": [
      "[Parallel(n_jobs=1)]: Done   5 out of   5 | elapsed: 66.9min remaining:    0.0s\n"
     ]
    },
    {
     "name": "stdout",
     "output_type": "stream",
     "text": [
      "[CV]  learning_rate=0.1, max_depth=5, n_estimators=50, f1_weighted=0.6201974139942678, accuracy=0.6144781144781145, precision_weighted=0.637293512763203, recall_weighted=0.6144781144781145, total=16.4min\n",
      "[CV] learning_rate=0.1, max_depth=5, n_estimators=100 ................\n"
     ]
    },
    {
     "name": "stderr",
     "output_type": "stream",
     "text": [
      "[Parallel(n_jobs=1)]: Done   6 out of   6 | elapsed: 83.4min remaining:    0.0s\n"
     ]
    },
    {
     "name": "stdout",
     "output_type": "stream",
     "text": [
      "[CV]  learning_rate=0.1, max_depth=5, n_estimators=100, f1_weighted=0.6436377231679515, accuracy=0.6387259010896899, precision_weighted=0.6625031153169741, recall_weighted=0.6387259010896899, total=24.4min\n",
      "[CV] learning_rate=0.1, max_depth=5, n_estimators=100 ................\n"
     ]
    },
    {
     "name": "stderr",
     "output_type": "stream",
     "text": [
      "[Parallel(n_jobs=1)]: Done   7 out of   7 | elapsed: 107.8min remaining:    0.0s\n"
     ]
    },
    {
     "name": "stdout",
     "output_type": "stream",
     "text": [
      "[CV]  learning_rate=0.1, max_depth=5, n_estimators=100, f1_weighted=0.6529962349676464, accuracy=0.6481481481481481, precision_weighted=0.6671423787871101, recall_weighted=0.6481481481481481, total=31.0min\n",
      "[CV] learning_rate=0.1, max_depth=10, n_estimators=50 ................\n"
     ]
    },
    {
     "name": "stderr",
     "output_type": "stream",
     "text": [
      "[Parallel(n_jobs=1)]: Done   8 out of   8 | elapsed: 138.8min remaining:    0.0s\n"
     ]
    },
    {
     "name": "stdout",
     "output_type": "stream",
     "text": [
      "[CV]  learning_rate=0.1, max_depth=10, n_estimators=50, f1_weighted=0.5151254576921502, accuracy=0.5138306789606035, precision_weighted=0.5264690936841782, recall_weighted=0.5138306789606035, total=28.6min\n",
      "[CV] learning_rate=0.1, max_depth=10, n_estimators=50 ................\n"
     ]
    },
    {
     "name": "stderr",
     "output_type": "stream",
     "text": [
      "[Parallel(n_jobs=1)]: Done   9 out of   9 | elapsed: 167.4min remaining:    0.0s\n"
     ]
    },
    {
     "name": "stdout",
     "output_type": "stream",
     "text": [
      "[CV]  learning_rate=0.1, max_depth=10, n_estimators=50, f1_weighted=0.5593525663762425, accuracy=0.5580808080808081, precision_weighted=0.5663594754291698, recall_weighted=0.5580808080808081, total=24.2min\n",
      "[CV] learning_rate=0.1, max_depth=10, n_estimators=100 ...............\n",
      "[CV]  learning_rate=0.1, max_depth=10, n_estimators=100, f1_weighted=0.5156431148929564, accuracy=0.5155071248952221, precision_weighted=0.5236236199691642, recall_weighted=0.5155071248952221, total=24.7min\n",
      "[CV] learning_rate=0.1, max_depth=10, n_estimators=100 ...............\n",
      "[CV]  learning_rate=0.1, max_depth=10, n_estimators=100, f1_weighted=0.55955571107301, accuracy=0.5580808080808081, precision_weighted=0.5675968053777921, recall_weighted=0.5580808080808081, total=23.1min\n",
      "[CV] learning_rate=1.0, max_depth=3, n_estimators=50 .................\n",
      "[CV]  learning_rate=1.0, max_depth=3, n_estimators=50, f1_weighted=0.3377594927936048, accuracy=0.3352891869237217, precision_weighted=0.3579095718693781, recall_weighted=0.3352891869237217, total= 2.3min\n",
      "[CV] learning_rate=1.0, max_depth=3, n_estimators=50 .................\n",
      "[CV]  learning_rate=1.0, max_depth=3, n_estimators=50, f1_weighted=0.2783249773985182, accuracy=0.2735690235690236, precision_weighted=0.30640856017093754, recall_weighted=0.2735690235690236, total= 2.4min\n",
      "[CV] learning_rate=1.0, max_depth=3, n_estimators=100 ................\n",
      "[CV]  learning_rate=1.0, max_depth=3, n_estimators=100, f1_weighted=0.3377594927936048, accuracy=0.3352891869237217, precision_weighted=0.3579095718693781, recall_weighted=0.3352891869237217, total= 2.5min\n",
      "[CV] learning_rate=1.0, max_depth=3, n_estimators=100 ................\n",
      "[CV]  learning_rate=1.0, max_depth=3, n_estimators=100, f1_weighted=0.2783249773985182, accuracy=0.2735690235690236, precision_weighted=0.30640856017093754, recall_weighted=0.2735690235690236, total= 3.1min\n",
      "[CV] learning_rate=1.0, max_depth=5, n_estimators=50 .................\n",
      "[CV]  learning_rate=1.0, max_depth=5, n_estimators=50, f1_weighted=0.36411178720654097, accuracy=0.35456831517183574, precision_weighted=0.40851599186859344, recall_weighted=0.35456831517183574, total= 1.5min\n",
      "[CV] learning_rate=1.0, max_depth=5, n_estimators=50 .................\n",
      "[CV]  learning_rate=1.0, max_depth=5, n_estimators=50, f1_weighted=0.3051879707317439, accuracy=0.2845117845117845, precision_weighted=0.35919911988486364, recall_weighted=0.2845117845117845, total= 1.7min\n",
      "[CV] learning_rate=1.0, max_depth=5, n_estimators=100 ................\n",
      "[CV]  learning_rate=1.0, max_depth=5, n_estimators=100, f1_weighted=0.36411178720654097, accuracy=0.35456831517183574, precision_weighted=0.40851599186859344, recall_weighted=0.35456831517183574, total= 1.5min\n",
      "[CV] learning_rate=1.0, max_depth=5, n_estimators=100 ................\n",
      "[CV]  learning_rate=1.0, max_depth=5, n_estimators=100, f1_weighted=0.3051879707317439, accuracy=0.2845117845117845, precision_weighted=0.35919911988486364, recall_weighted=0.2845117845117845, total= 1.9min\n",
      "[CV] learning_rate=1.0, max_depth=10, n_estimators=50 ................\n",
      "[CV]  learning_rate=1.0, max_depth=10, n_estimators=50, f1_weighted=0.382350959094934, accuracy=0.36797988264878456, precision_weighted=0.45516189687124825, recall_weighted=0.36797988264878456, total= 1.2min\n",
      "[CV] learning_rate=1.0, max_depth=10, n_estimators=50 ................\n",
      "[CV]  learning_rate=1.0, max_depth=10, n_estimators=50, f1_weighted=0.3150782215127856, accuracy=0.2988215488215488, precision_weighted=0.38234839115684655, recall_weighted=0.2988215488215488, total= 1.6min\n",
      "[CV] learning_rate=1.0, max_depth=10, n_estimators=100 ...............\n",
      "[CV]  learning_rate=1.0, max_depth=10, n_estimators=100, f1_weighted=0.382350959094934, accuracy=0.36797988264878456, precision_weighted=0.45516189687124825, recall_weighted=0.36797988264878456, total= 1.2min\n",
      "[CV] learning_rate=1.0, max_depth=10, n_estimators=100 ...............\n",
      "[CV]  learning_rate=1.0, max_depth=10, n_estimators=100, f1_weighted=0.3150782215127856, accuracy=0.2988215488215488, precision_weighted=0.38234839115684655, recall_weighted=0.2988215488215488, total= 1.6min\n",
      "[CV] learning_rate=10, max_depth=3, n_estimators=50 ..................\n"
     ]
    },
    {
     "name": "stderr",
     "output_type": "stream",
     "text": [
      "C:\\ProgramData\\Anaconda3\\lib\\site-packages\\sklearn\\metrics\\classification.py:1135: UndefinedMetricWarning: F-score is ill-defined and being set to 0.0 in labels with no predicted samples.\n",
      "  'precision', 'predicted', average, warn_for)\n",
      "C:\\ProgramData\\Anaconda3\\lib\\site-packages\\sklearn\\metrics\\classification.py:1135: UndefinedMetricWarning: Precision is ill-defined and being set to 0.0 in labels with no predicted samples.\n",
      "  'precision', 'predicted', average, warn_for)\n"
     ]
    },
    {
     "name": "stdout",
     "output_type": "stream",
     "text": [
      "[CV]  learning_rate=10, max_depth=3, n_estimators=50, f1_weighted=0.004941179871087088, accuracy=0.037720033528918694, precision_weighted=0.0027326502830089905, recall_weighted=0.037720033528918694, total= 6.9min\n",
      "[CV] learning_rate=10, max_depth=3, n_estimators=50 ..................\n"
     ]
    },
    {
     "name": "stderr",
     "output_type": "stream",
     "text": [
      "C:\\ProgramData\\Anaconda3\\lib\\site-packages\\sklearn\\metrics\\classification.py:1135: UndefinedMetricWarning: F-score is ill-defined and being set to 0.0 in labels with no predicted samples.\n",
      "  'precision', 'predicted', average, warn_for)\n",
      "C:\\ProgramData\\Anaconda3\\lib\\site-packages\\sklearn\\metrics\\classification.py:1135: UndefinedMetricWarning: Precision is ill-defined and being set to 0.0 in labels with no predicted samples.\n",
      "  'precision', 'predicted', average, warn_for)\n"
     ]
    },
    {
     "name": "stdout",
     "output_type": "stream",
     "text": [
      "[CV]  learning_rate=10, max_depth=3, n_estimators=50, f1_weighted=0.005380008523344651, accuracy=0.041245791245791245, precision_weighted=0.0032458988942115053, recall_weighted=0.041245791245791245, total= 6.9min\n",
      "[CV] learning_rate=10, max_depth=3, n_estimators=100 .................\n"
     ]
    },
    {
     "name": "stderr",
     "output_type": "stream",
     "text": [
      "C:\\ProgramData\\Anaconda3\\lib\\site-packages\\sklearn\\metrics\\classification.py:1135: UndefinedMetricWarning: F-score is ill-defined and being set to 0.0 in labels with no predicted samples.\n",
      "  'precision', 'predicted', average, warn_for)\n",
      "C:\\ProgramData\\Anaconda3\\lib\\site-packages\\sklearn\\metrics\\classification.py:1135: UndefinedMetricWarning: Precision is ill-defined and being set to 0.0 in labels with no predicted samples.\n",
      "  'precision', 'predicted', average, warn_for)\n"
     ]
    },
    {
     "name": "stdout",
     "output_type": "stream",
     "text": [
      "[CV]  learning_rate=10, max_depth=3, n_estimators=100, f1_weighted=0.004941179871087088, accuracy=0.037720033528918694, precision_weighted=0.0027326502830089905, recall_weighted=0.037720033528918694, total=13.7min\n",
      "[CV] learning_rate=10, max_depth=3, n_estimators=100 .................\n"
     ]
    },
    {
     "name": "stderr",
     "output_type": "stream",
     "text": [
      "C:\\ProgramData\\Anaconda3\\lib\\site-packages\\sklearn\\metrics\\classification.py:1135: UndefinedMetricWarning: F-score is ill-defined and being set to 0.0 in labels with no predicted samples.\n",
      "  'precision', 'predicted', average, warn_for)\n",
      "C:\\ProgramData\\Anaconda3\\lib\\site-packages\\sklearn\\metrics\\classification.py:1135: UndefinedMetricWarning: Precision is ill-defined and being set to 0.0 in labels with no predicted samples.\n",
      "  'precision', 'predicted', average, warn_for)\n"
     ]
    },
    {
     "name": "stdout",
     "output_type": "stream",
     "text": [
      "[CV]  learning_rate=10, max_depth=3, n_estimators=100, f1_weighted=0.005380008523344651, accuracy=0.041245791245791245, precision_weighted=0.0032458988942115053, recall_weighted=0.041245791245791245, total=13.7min\n",
      "[CV] learning_rate=10, max_depth=5, n_estimators=50 ..................\n"
     ]
    },
    {
     "name": "stderr",
     "output_type": "stream",
     "text": [
      "C:\\ProgramData\\Anaconda3\\lib\\site-packages\\sklearn\\metrics\\classification.py:1135: UndefinedMetricWarning: F-score is ill-defined and being set to 0.0 in labels with no predicted samples.\n",
      "  'precision', 'predicted', average, warn_for)\n",
      "C:\\ProgramData\\Anaconda3\\lib\\site-packages\\sklearn\\metrics\\classification.py:1135: UndefinedMetricWarning: Precision is ill-defined and being set to 0.0 in labels with no predicted samples.\n",
      "  'precision', 'predicted', average, warn_for)\n"
     ]
    },
    {
     "name": "stdout",
     "output_type": "stream",
     "text": [
      "[CV]  learning_rate=10, max_depth=5, n_estimators=50, f1_weighted=0.003945103120312966, accuracy=0.01592623637887678, precision_weighted=0.05326754592442829, recall_weighted=0.01592623637887678, total=12.2min\n",
      "[CV] learning_rate=10, max_depth=5, n_estimators=50 ..................\n"
     ]
    },
    {
     "name": "stderr",
     "output_type": "stream",
     "text": [
      "C:\\ProgramData\\Anaconda3\\lib\\site-packages\\sklearn\\metrics\\classification.py:1135: UndefinedMetricWarning: F-score is ill-defined and being set to 0.0 in labels with no predicted samples.\n",
      "  'precision', 'predicted', average, warn_for)\n",
      "C:\\ProgramData\\Anaconda3\\lib\\site-packages\\sklearn\\metrics\\classification.py:1135: UndefinedMetricWarning: Precision is ill-defined and being set to 0.0 in labels with no predicted samples.\n",
      "  'precision', 'predicted', average, warn_for)\n"
     ]
    },
    {
     "name": "stdout",
     "output_type": "stream",
     "text": [
      "[CV]  learning_rate=10, max_depth=5, n_estimators=50, f1_weighted=0.004005722460658083, accuracy=0.03535353535353535, precision_weighted=0.0021231422505307855, recall_weighted=0.03535353535353535, total=11.3min\n",
      "[CV] learning_rate=10, max_depth=5, n_estimators=100 .................\n"
     ]
    },
    {
     "name": "stderr",
     "output_type": "stream",
     "text": [
      "C:\\ProgramData\\Anaconda3\\lib\\site-packages\\sklearn\\metrics\\classification.py:1135: UndefinedMetricWarning: F-score is ill-defined and being set to 0.0 in labels with no predicted samples.\n",
      "  'precision', 'predicted', average, warn_for)\n",
      "C:\\ProgramData\\Anaconda3\\lib\\site-packages\\sklearn\\metrics\\classification.py:1135: UndefinedMetricWarning: Precision is ill-defined and being set to 0.0 in labels with no predicted samples.\n",
      "  'precision', 'predicted', average, warn_for)\n"
     ]
    },
    {
     "name": "stdout",
     "output_type": "stream",
     "text": [
      "[CV]  learning_rate=10, max_depth=5, n_estimators=100, f1_weighted=0.003945103120312966, accuracy=0.01592623637887678, precision_weighted=0.05326754592442829, recall_weighted=0.01592623637887678, total=24.3min\n",
      "[CV] learning_rate=10, max_depth=5, n_estimators=100 .................\n"
     ]
    },
    {
     "name": "stderr",
     "output_type": "stream",
     "text": [
      "C:\\ProgramData\\Anaconda3\\lib\\site-packages\\sklearn\\metrics\\classification.py:1135: UndefinedMetricWarning: F-score is ill-defined and being set to 0.0 in labels with no predicted samples.\n",
      "  'precision', 'predicted', average, warn_for)\n",
      "C:\\ProgramData\\Anaconda3\\lib\\site-packages\\sklearn\\metrics\\classification.py:1135: UndefinedMetricWarning: Precision is ill-defined and being set to 0.0 in labels with no predicted samples.\n",
      "  'precision', 'predicted', average, warn_for)\n"
     ]
    },
    {
     "name": "stdout",
     "output_type": "stream",
     "text": [
      "[CV]  learning_rate=10, max_depth=5, n_estimators=100, f1_weighted=0.004005722460658083, accuracy=0.03535353535353535, precision_weighted=0.0021231422505307855, recall_weighted=0.03535353535353535, total=23.1min\n",
      "[CV] learning_rate=10, max_depth=10, n_estimators=50 .................\n"
     ]
    },
    {
     "name": "stderr",
     "output_type": "stream",
     "text": [
      "C:\\ProgramData\\Anaconda3\\lib\\site-packages\\sklearn\\metrics\\classification.py:1135: UndefinedMetricWarning: F-score is ill-defined and being set to 0.0 in labels with no predicted samples.\n",
      "  'precision', 'predicted', average, warn_for)\n",
      "C:\\ProgramData\\Anaconda3\\lib\\site-packages\\sklearn\\metrics\\classification.py:1135: UndefinedMetricWarning: Precision is ill-defined and being set to 0.0 in labels with no predicted samples.\n",
      "  'precision', 'predicted', average, warn_for)\n"
     ]
    },
    {
     "name": "stdout",
     "output_type": "stream",
     "text": [
      "[CV]  learning_rate=10, max_depth=10, n_estimators=50, f1_weighted=0.007779757390367457, accuracy=0.03520536462699078, precision_weighted=0.0050720836631483876, recall_weighted=0.03520536462699078, total=22.2min\n",
      "[CV] learning_rate=10, max_depth=10, n_estimators=50 .................\n"
     ]
    },
    {
     "name": "stderr",
     "output_type": "stream",
     "text": [
      "C:\\ProgramData\\Anaconda3\\lib\\site-packages\\sklearn\\metrics\\classification.py:1135: UndefinedMetricWarning: F-score is ill-defined and being set to 0.0 in labels with no predicted samples.\n",
      "  'precision', 'predicted', average, warn_for)\n",
      "C:\\ProgramData\\Anaconda3\\lib\\site-packages\\sklearn\\metrics\\classification.py:1135: UndefinedMetricWarning: Precision is ill-defined and being set to 0.0 in labels with no predicted samples.\n",
      "  'precision', 'predicted', average, warn_for)\n"
     ]
    },
    {
     "name": "stdout",
     "output_type": "stream",
     "text": [
      "[CV]  learning_rate=10, max_depth=10, n_estimators=50, f1_weighted=0.003768115942028985, accuracy=0.03282828282828283, precision_weighted=0.001998769987699877, recall_weighted=0.03282828282828283, total=23.6min\n",
      "[CV] learning_rate=10, max_depth=10, n_estimators=100 ................\n"
     ]
    },
    {
     "name": "stderr",
     "output_type": "stream",
     "text": [
      "C:\\ProgramData\\Anaconda3\\lib\\site-packages\\sklearn\\metrics\\classification.py:1135: UndefinedMetricWarning: F-score is ill-defined and being set to 0.0 in labels with no predicted samples.\n",
      "  'precision', 'predicted', average, warn_for)\n",
      "C:\\ProgramData\\Anaconda3\\lib\\site-packages\\sklearn\\metrics\\classification.py:1135: UndefinedMetricWarning: Precision is ill-defined and being set to 0.0 in labels with no predicted samples.\n",
      "  'precision', 'predicted', average, warn_for)\n"
     ]
    },
    {
     "name": "stdout",
     "output_type": "stream",
     "text": [
      "[CV]  learning_rate=10, max_depth=10, n_estimators=100, f1_weighted=0.007779757390367457, accuracy=0.03520536462699078, precision_weighted=0.0050720836631483876, recall_weighted=0.03520536462699078, total=45.0min\n",
      "[CV] learning_rate=10, max_depth=10, n_estimators=100 ................\n"
     ]
    },
    {
     "name": "stderr",
     "output_type": "stream",
     "text": [
      "C:\\ProgramData\\Anaconda3\\lib\\site-packages\\sklearn\\metrics\\classification.py:1135: UndefinedMetricWarning: F-score is ill-defined and being set to 0.0 in labels with no predicted samples.\n",
      "  'precision', 'predicted', average, warn_for)\n",
      "C:\\ProgramData\\Anaconda3\\lib\\site-packages\\sklearn\\metrics\\classification.py:1135: UndefinedMetricWarning: Precision is ill-defined and being set to 0.0 in labels with no predicted samples.\n",
      "  'precision', 'predicted', average, warn_for)\n"
     ]
    },
    {
     "name": "stdout",
     "output_type": "stream",
     "text": [
      "[CV]  learning_rate=10, max_depth=10, n_estimators=100, f1_weighted=0.003768115942028985, accuracy=0.03282828282828283, precision_weighted=0.001998769987699877, recall_weighted=0.03282828282828283, total=44.9min\n"
     ]
    },
    {
     "name": "stderr",
     "output_type": "stream",
     "text": [
      "[Parallel(n_jobs=1)]: Done  36 out of  36 | elapsed: 510.4min finished\n"
     ]
    },
    {
     "name": "stdout",
     "output_type": "stream",
     "text": [
      "Best parameters set found on development set:\n",
      "\n",
      "{'learning_rate': 0.1, 'max_depth': 5, 'n_estimators': 100}\n",
      "\n",
      "Grid scores on development set:\n",
      "0.648307152827\n",
      "\n",
      "dict_keys(['mean_fit_time', 'std_fit_time', 'mean_score_time', 'std_score_time', 'param_learning_rate', 'param_max_depth', 'param_n_estimators', 'params', 'split0_test_f1_weighted', 'split1_test_f1_weighted', 'mean_test_f1_weighted', 'std_test_f1_weighted', 'rank_test_f1_weighted', 'split0_train_f1_weighted', 'split1_train_f1_weighted', 'mean_train_f1_weighted', 'std_train_f1_weighted', 'split0_test_accuracy', 'split1_test_accuracy', 'mean_test_accuracy', 'std_test_accuracy', 'rank_test_accuracy', 'split0_train_accuracy', 'split1_train_accuracy', 'mean_train_accuracy', 'std_train_accuracy', 'split0_test_precision_weighted', 'split1_test_precision_weighted', 'mean_test_precision_weighted', 'std_test_precision_weighted', 'rank_test_precision_weighted', 'split0_train_precision_weighted', 'split1_train_precision_weighted', 'mean_train_precision_weighted', 'std_train_precision_weighted', 'split0_test_recall_weighted', 'split1_test_recall_weighted', 'mean_test_recall_weighted', 'std_test_recall_weighted', 'rank_test_recall_weighted', 'split0_train_recall_weighted', 'split1_train_recall_weighted', 'mean_train_recall_weighted', 'std_train_recall_weighted'])\n",
      "Detailed classification report:\n",
      "\n",
      "The model is trained on the full development set.\n",
      "The scores are computed on the full evaluation set.\n",
      "\n",
      "             precision    recall  f1-score   support\n",
      "\n",
      "          0       0.81      0.81      0.81        75\n",
      "          1       0.82      0.78      0.80        51\n",
      "          2       0.86      0.89      0.88        56\n",
      "          3       0.94      0.74      0.83        46\n",
      "          4       0.93      0.95      0.94        58\n",
      "          5       0.89      0.78      0.83        51\n",
      "          6       0.82      0.75      0.78        55\n",
      "          7       0.84      0.73      0.78        59\n",
      "          8       0.96      0.80      0.87        55\n",
      "          9       0.82      0.77      0.79        52\n",
      "         10       0.75      0.79      0.77        48\n",
      "         11       0.80      0.69      0.74        51\n",
      "         12       0.69      0.81      0.74        52\n",
      "         13       0.65      0.72      0.69        47\n",
      "         14       0.65      0.76      0.70        51\n",
      "         15       0.86      0.75      0.80        51\n",
      "         16       0.67      0.76      0.71        55\n",
      "         17       0.51      0.73      0.60        52\n",
      "         18       0.87      0.84      0.85        56\n",
      "\n",
      "avg / total       0.80      0.78      0.79      1021\n",
      "\n",
      "Classification report\n",
      "             precision    recall  f1-score   support\n",
      "\n",
      "          0       0.81      0.81      0.81        75\n",
      "          1       0.82      0.78      0.80        51\n",
      "          2       0.86      0.89      0.88        56\n",
      "          3       0.94      0.74      0.83        46\n",
      "          4       0.93      0.95      0.94        58\n",
      "          5       0.89      0.78      0.83        51\n",
      "          6       0.82      0.75      0.78        55\n",
      "          7       0.84      0.73      0.78        59\n",
      "          8       0.96      0.80      0.87        55\n",
      "          9       0.82      0.77      0.79        52\n",
      "         10       0.75      0.79      0.77        48\n",
      "         11       0.80      0.69      0.74        51\n",
      "         12       0.69      0.81      0.74        52\n",
      "         13       0.65      0.72      0.69        47\n",
      "         14       0.65      0.76      0.70        51\n",
      "         15       0.86      0.75      0.80        51\n",
      "         16       0.67      0.76      0.71        55\n",
      "         17       0.51      0.73      0.60        52\n",
      "         18       0.87      0.84      0.85        56\n",
      "\n",
      "avg / total       0.80      0.78      0.79      1021\n",
      "\n",
      "Normalized confusion matrix\n",
      "[[ 81.33  12.     0.     0.     0.     0.     0.     0.     0.     0.     0.\n",
      "    0.     0.     0.     1.33   0.     4.     1.33   0.  ]\n",
      " [ 11.76  78.43   0.     0.     0.     0.     0.     0.     0.     0.     0.\n",
      "    0.     0.     1.96   0.     0.     1.96   1.96   3.92]\n",
      " [  0.     0.    89.29   0.     0.     0.     0.     0.     0.     7.14\n",
      "    0.     0.     1.79   0.     1.79   0.     0.     0.     0.  ]\n",
      " [  2.17   0.     0.    73.91   2.17   8.7    4.35   0.     0.     0.     0.\n",
      "    2.17   0.     0.     4.35   0.     0.     2.17   0.  ]\n",
      " [  0.     0.     0.     0.    94.83   0.     0.     0.     0.     0.     0.\n",
      "    0.     0.     0.     1.72   0.     1.72   1.72   0.  ]\n",
      " [  0.     0.     0.     0.     3.92  78.43   3.92   0.     1.96   0.     0.\n",
      "    3.92   0.     1.96   1.96   0.     0.     3.92   0.  ]\n",
      " [  5.45   0.     0.     0.     0.     1.82  74.55   9.09   0.     0.\n",
      "    3.64   3.64   0.     0.     0.     0.     0.     1.82   0.  ]\n",
      " [  0.     0.     1.69   0.     0.     0.     0.    72.88   0.     0.\n",
      "    1.69   0.     0.     6.78   1.69   0.     3.39  10.17   1.69]\n",
      " [  1.82   0.     1.82   0.     0.     0.     0.     0.    80.     0.     0.\n",
      "    0.     9.09   0.     0.     1.82   1.82   1.82   1.82]\n",
      " [  1.92   0.     1.92   0.     0.     0.     0.     0.     0.    76.92\n",
      "    0.     0.     7.69   5.77   0.     3.85   1.92   0.     0.  ]\n",
      " [  0.     0.     2.08   0.     0.     0.     0.     2.08   0.     0.\n",
      "   79.17   0.     0.     2.08   4.17   0.     0.     8.33   2.08]\n",
      " [  0.     0.     0.     1.96   1.96   0.     3.92   0.     0.     0.\n",
      "    1.96  68.63   0.     3.92   5.88   0.     1.96   9.8    0.  ]\n",
      " [  1.92   0.     3.85   0.     0.     0.     0.     0.     1.92   3.85\n",
      "    0.     0.    80.77   0.     1.92   3.85   0.     1.92   0.  ]\n",
      " [  0.     0.     0.     2.13   0.     0.     0.     0.     0.     0.\n",
      "    2.13   0.     0.    72.34   6.38   0.    12.77   4.26   0.  ]\n",
      " [  0.     0.     0.     0.     0.     0.     1.96   0.     0.     0.\n",
      "    3.92   3.92   0.     1.96  76.47   0.     0.     9.8    1.96]\n",
      " [  0.     0.     0.     0.     0.     0.     0.     0.     0.     3.92\n",
      "    0.     0.    17.65   0.     0.    74.51   3.92   0.     0.  ]\n",
      " [  1.82   0.     0.     0.     0.     0.     0.     0.     0.     1.82\n",
      "    5.45   0.     0.     9.09   0.     0.    76.36   5.45   0.  ]\n",
      " [  0.     0.     0.     0.     0.     0.     3.85   0.     0.     0.\n",
      "    5.77   3.85   0.     0.     7.69   1.92   1.92  73.08   1.92]\n",
      " [  0.     0.     3.57   0.     0.     0.     0.     3.57   0.     0.     0.\n",
      "    0.     0.     0.     1.79   0.     3.57   3.57  83.93]]\n",
      "\n",
      "Vooting\n",
      "Fitting 2 folds for each of 4 candidates, totalling 8 fits\n",
      "[CV] rf__n_estimators=20, svc__C=1.0 .................................\n",
      "[CV]  rf__n_estimators=20, svc__C=1.0, f1_weighted=0.5399231815726695, accuracy=0.5448449287510477, precision_weighted=0.6519904020124818, recall_weighted=0.5448449287510477, total= 2.0min\n",
      "[CV] rf__n_estimators=20, svc__C=1.0 .................................\n"
     ]
    },
    {
     "name": "stderr",
     "output_type": "stream",
     "text": [
      "[Parallel(n_jobs=1)]: Done   1 out of   1 | elapsed:  3.4min remaining:    0.0s\n"
     ]
    },
    {
     "name": "stdout",
     "output_type": "stream",
     "text": [
      "[CV]  rf__n_estimators=20, svc__C=1.0, f1_weighted=0.5664149989274117, accuracy=0.5791245791245792, precision_weighted=0.6521400170159529, recall_weighted=0.5791245791245792, total= 2.0min\n",
      "[CV] rf__n_estimators=20, svc__C=100.0 ...............................\n"
     ]
    },
    {
     "name": "stderr",
     "output_type": "stream",
     "text": [
      "[Parallel(n_jobs=1)]: Done   2 out of   2 | elapsed:  6.8min remaining:    0.0s\n"
     ]
    },
    {
     "name": "stdout",
     "output_type": "stream",
     "text": [
      "[CV]  rf__n_estimators=20, svc__C=100.0, f1_weighted=0.7757847972550578, accuracy=0.7778709136630344, precision_weighted=0.7927856166678084, recall_weighted=0.7778709136630344, total= 1.8min\n",
      "[CV] rf__n_estimators=20, svc__C=100.0 ...............................\n"
     ]
    },
    {
     "name": "stderr",
     "output_type": "stream",
     "text": [
      "[Parallel(n_jobs=1)]: Done   3 out of   3 | elapsed:  9.9min remaining:    0.0s\n"
     ]
    },
    {
     "name": "stdout",
     "output_type": "stream",
     "text": [
      "[CV]  rf__n_estimators=20, svc__C=100.0, f1_weighted=0.7694046043754718, accuracy=0.7718855218855218, precision_weighted=0.7881572415503391, recall_weighted=0.7718855218855218, total= 1.8min\n",
      "[CV] rf__n_estimators=200, svc__C=1.0 ................................\n"
     ]
    },
    {
     "name": "stderr",
     "output_type": "stream",
     "text": [
      "[Parallel(n_jobs=1)]: Done   4 out of   4 | elapsed: 13.1min remaining:    0.0s\n"
     ]
    },
    {
     "name": "stdout",
     "output_type": "stream",
     "text": [
      "[CV]  rf__n_estimators=200, svc__C=1.0, f1_weighted=0.6257673677536524, accuracy=0.622799664710813, precision_weighted=0.7083688345075877, recall_weighted=0.622799664710813, total= 2.2min\n",
      "[CV] rf__n_estimators=200, svc__C=1.0 ................................\n"
     ]
    },
    {
     "name": "stderr",
     "output_type": "stream",
     "text": [
      "[Parallel(n_jobs=1)]: Done   5 out of   5 | elapsed: 16.7min remaining:    0.0s\n"
     ]
    },
    {
     "name": "stdout",
     "output_type": "stream",
     "text": [
      "[CV]  rf__n_estimators=200, svc__C=1.0, f1_weighted=0.6425204664829359, accuracy=0.6523569023569024, precision_weighted=0.7070320964152857, recall_weighted=0.6523569023569024, total= 2.2min\n",
      "[CV] rf__n_estimators=200, svc__C=100.0 ..............................\n"
     ]
    },
    {
     "name": "stderr",
     "output_type": "stream",
     "text": [
      "[Parallel(n_jobs=1)]: Done   6 out of   6 | elapsed: 20.3min remaining:    0.0s\n"
     ]
    },
    {
     "name": "stdout",
     "output_type": "stream",
     "text": [
      "[CV]  rf__n_estimators=200, svc__C=100.0, f1_weighted=0.8441876181918979, accuracy=0.8449287510477788, precision_weighted=0.848842408073923, recall_weighted=0.8449287510477788, total= 2.0min\n",
      "[CV] rf__n_estimators=200, svc__C=100.0 ..............................\n"
     ]
    },
    {
     "name": "stderr",
     "output_type": "stream",
     "text": [
      "[Parallel(n_jobs=1)]: Done   7 out of   7 | elapsed: 23.7min remaining:    0.0s\n"
     ]
    },
    {
     "name": "stdout",
     "output_type": "stream",
     "text": [
      "[CV]  rf__n_estimators=200, svc__C=100.0, f1_weighted=0.8318383555832627, accuracy=0.8341750841750841, precision_weighted=0.836139461492827, recall_weighted=0.8341750841750841, total= 2.0min\n"
     ]
    },
    {
     "name": "stderr",
     "output_type": "stream",
     "text": [
      "[Parallel(n_jobs=1)]: Done   8 out of   8 | elapsed: 27.1min remaining:    0.0s\n",
      "[Parallel(n_jobs=1)]: Done   8 out of   8 | elapsed: 27.1min finished\n"
     ]
    },
    {
     "name": "stdout",
     "output_type": "stream",
     "text": [
      "Best parameters set found on development set:\n",
      "\n",
      "{'rf__n_estimators': 200, 'svc__C': 100.0}\n",
      "\n",
      "Grid scores on development set:\n",
      "0.838025953354\n",
      "\n",
      "dict_keys(['mean_fit_time', 'std_fit_time', 'mean_score_time', 'std_score_time', 'param_rf__n_estimators', 'param_svc__C', 'params', 'split0_test_f1_weighted', 'split1_test_f1_weighted', 'mean_test_f1_weighted', 'std_test_f1_weighted', 'rank_test_f1_weighted', 'split0_train_f1_weighted', 'split1_train_f1_weighted', 'mean_train_f1_weighted', 'std_train_f1_weighted', 'split0_test_accuracy', 'split1_test_accuracy', 'mean_test_accuracy', 'std_test_accuracy', 'rank_test_accuracy', 'split0_train_accuracy', 'split1_train_accuracy', 'mean_train_accuracy', 'std_train_accuracy', 'split0_test_precision_weighted', 'split1_test_precision_weighted', 'mean_test_precision_weighted', 'std_test_precision_weighted', 'rank_test_precision_weighted', 'split0_train_precision_weighted', 'split1_train_precision_weighted', 'mean_train_precision_weighted', 'std_train_precision_weighted', 'split0_test_recall_weighted', 'split1_test_recall_weighted', 'mean_test_recall_weighted', 'std_test_recall_weighted', 'rank_test_recall_weighted', 'split0_train_recall_weighted', 'split1_train_recall_weighted', 'mean_train_recall_weighted', 'std_train_recall_weighted'])\n",
      "Detailed classification report:\n",
      "\n",
      "The model is trained on the full development set.\n",
      "The scores are computed on the full evaluation set.\n",
      "\n",
      "             precision    recall  f1-score   support\n",
      "\n",
      "          0       0.93      0.95      0.94        75\n",
      "          1       0.92      0.92      0.92        51\n",
      "          2       0.86      1.00      0.93        56\n",
      "          3       0.88      0.91      0.89        46\n",
      "          4       0.95      1.00      0.97        58\n",
      "          5       0.89      0.94      0.91        51\n",
      "          6       0.86      0.80      0.83        55\n",
      "          7       0.82      0.93      0.87        59\n",
      "          8       0.98      0.91      0.94        55\n",
      "          9       0.92      0.88      0.90        52\n",
      "         10       0.84      0.96      0.89        48\n",
      "         11       0.91      0.82      0.87        51\n",
      "         12       0.81      0.88      0.84        52\n",
      "         13       0.88      0.91      0.90        47\n",
      "         14       0.96      0.88      0.92        51\n",
      "         15       0.93      0.82      0.87        51\n",
      "         16       0.94      0.93      0.94        55\n",
      "         17       0.98      0.77      0.86        52\n",
      "         18       0.96      0.91      0.94        56\n",
      "\n",
      "avg / total       0.91      0.90      0.90      1021\n",
      "\n",
      "Classification report\n",
      "             precision    recall  f1-score   support\n",
      "\n",
      "          0       0.93      0.95      0.94        75\n",
      "          1       0.92      0.92      0.92        51\n",
      "          2       0.86      1.00      0.93        56\n",
      "          3       0.88      0.91      0.89        46\n",
      "          4       0.95      1.00      0.97        58\n",
      "          5       0.89      0.94      0.91        51\n",
      "          6       0.86      0.80      0.83        55\n",
      "          7       0.82      0.93      0.87        59\n",
      "          8       0.98      0.91      0.94        55\n",
      "          9       0.92      0.88      0.90        52\n",
      "         10       0.84      0.96      0.89        48\n",
      "         11       0.91      0.82      0.87        51\n",
      "         12       0.81      0.88      0.84        52\n",
      "         13       0.88      0.91      0.90        47\n",
      "         14       0.96      0.88      0.92        51\n",
      "         15       0.93      0.82      0.87        51\n",
      "         16       0.94      0.93      0.94        55\n",
      "         17       0.98      0.77      0.86        52\n",
      "         18       0.96      0.91      0.94        56\n",
      "\n",
      "avg / total       0.91      0.90      0.90      1021\n",
      "\n",
      "Normalized confusion matrix\n",
      "[[  94.67    5.33    0.      0.      0.      0.      0.      0.      0.\n",
      "     0.      0.      0.      0.      0.      0.      0.      0.      0.\n",
      "     0.  ]\n",
      " [   7.84   92.16    0.      0.      0.      0.      0.      0.      0.\n",
      "     0.      0.      0.      0.      0.      0.      0.      0.      0.\n",
      "     0.  ]\n",
      " [   0.      0.    100.      0.      0.      0.      0.      0.      0.\n",
      "     0.      0.      0.      0.      0.      0.      0.      0.      0.\n",
      "     0.  ]\n",
      " [   0.      0.      0.     91.3     4.35    2.17    0.      0.      0.\n",
      "     0.      0.      2.17    0.      0.      0.      0.      0.      0.\n",
      "     0.  ]\n",
      " [   0.      0.      0.      0.    100.      0.      0.      0.      0.\n",
      "     0.      0.      0.      0.      0.      0.      0.      0.      0.\n",
      "     0.  ]\n",
      " [   0.      0.      0.      1.96    1.96   94.12    0.      0.      0.\n",
      "     0.      0.      1.96    0.      0.      0.      0.      0.      0.\n",
      "     0.  ]\n",
      " [   0.      0.      0.      0.      0.      3.64   80.     12.73    0.\n",
      "     0.      1.82    0.      0.      0.      0.      0.      0.      1.82\n",
      "     0.  ]\n",
      " [   0.      0.      0.      0.      0.      0.      3.39   93.22    0.\n",
      "     0.      0.      0.      0.      3.39    0.      0.      0.      0.\n",
      "     0.  ]\n",
      " [   1.82    0.      0.      0.      0.      0.      0.      0.     90.91\n",
      "     1.82    0.      0.      1.82    0.      0.      0.      0.      0.\n",
      "     3.64]\n",
      " [   0.      0.      5.77    0.      0.      0.      0.      0.      1.92\n",
      "    88.46    0.      0.      1.92    0.      0.      1.92    0.      0.\n",
      "     0.  ]\n",
      " [   0.      0.      0.      0.      0.      0.      0.      0.      0.\n",
      "     0.     95.83    0.      2.08    0.      0.      0.      2.08    0.\n",
      "     0.  ]\n",
      " [   0.      0.      0.      1.96    0.      3.92    5.88    0.      0.\n",
      "     0.      3.92   82.35    0.      0.      1.96    0.      0.      0.\n",
      "     0.  ]\n",
      " [   0.      0.      5.77    0.      0.      0.      0.      0.      0.\n",
      "     1.92    0.      0.     88.46    0.      0.      3.85    0.      0.\n",
      "     0.  ]\n",
      " [   0.      0.      0.      0.      0.      0.      2.13    4.26    0.\n",
      "     0.      0.      0.      0.     91.49    0.      0.      2.13    0.\n",
      "     0.  ]\n",
      " [   0.      0.      0.      1.96    0.      1.96    0.      0.      0.\n",
      "     0.      3.92    1.96    0.      1.96   88.24    0.      0.      0.\n",
      "     0.  ]\n",
      " [   0.      0.      5.88    0.      0.      0.      0.      0.      0.\n",
      "     0.      0.      0.     11.76    0.      0.     82.35    0.      0.\n",
      "     0.  ]\n",
      " [   0.      0.      0.      0.      0.      0.      0.      0.      0.\n",
      "     0.      0.      0.      1.82    5.45    0.      0.     92.73    0.\n",
      "     0.  ]\n",
      " [   0.      0.      0.      5.77    0.      0.      0.      1.92    0.\n",
      "     0.      7.69    1.92    1.92    0.      1.92    0.      1.92   76.92\n",
      "     0.  ]\n",
      " [   0.      0.      0.      0.      0.      0.      1.79    3.57    0.\n",
      "     3.57    0.      0.      0.      0.      0.      0.      0.      0.\n",
      "    91.07]]\n",
      "\n"
     ]
    }
   ],
   "source": [
    "search(X_train, X_test, y_train, y_test)"
   ]
  },
  {
   "cell_type": "code",
   "execution_count": null,
   "metadata": {
    "collapsed": true
   },
   "outputs": [],
   "source": [
    "from sklearn.decomposition import PCA\n",
    "\n",
    "pca = PCA()\n",
    "pca.fit(nds.iloc[:,2:])\n",
    "nnds = pca.transform(nds.iloc[:,2:])"
   ]
  },
  {
   "cell_type": "code",
   "execution_count": null,
   "metadata": {
    "collapsed": true
   },
   "outputs": [],
   "source": []
  },
  {
   "cell_type": "code",
   "execution_count": null,
   "metadata": {
    "collapsed": true
   },
   "outputs": [],
   "source": []
  }
 ],
 "metadata": {
  "kernelspec": {
   "display_name": "Python 3",
   "language": "python",
   "name": "python3"
  },
  "language_info": {
   "codemirror_mode": {
    "name": "ipython",
    "version": 3
   },
   "file_extension": ".py",
   "mimetype": "text/x-python",
   "name": "python",
   "nbconvert_exporter": "python",
   "pygments_lexer": "ipython3",
   "version": "3.6.2"
  }
 },
 "nbformat": 4,
 "nbformat_minor": 2
}
