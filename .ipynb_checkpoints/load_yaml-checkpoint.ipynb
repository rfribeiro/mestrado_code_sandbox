{
 "cells": [
  {
   "cell_type": "code",
   "execution_count": 11,
   "metadata": {
    "collapsed": true
   },
   "outputs": [],
   "source": [
    "import yaml\n",
    "import numpy as np\n",
    "import cv2\n",
    "import pandas as pd"
   ]
  },
  {
   "cell_type": "code",
   "execution_count": 2,
   "metadata": {
    "collapsed": true
   },
   "outputs": [],
   "source": [
    "skip_lines = 3"
   ]
  },
  {
   "cell_type": "code",
   "execution_count": 3,
   "metadata": {
    "collapsed": true
   },
   "outputs": [],
   "source": [
    "with open('C:\\\\Users\\\\rafae\\\\Desktop\\\\Coleta\\\\p031\\\\31_12_points_53.yaml') as infile:\n",
    "    for i in range(skip_lines):\n",
    "        _ = infile.readline()\n",
    "    data = yaml.load(infile)"
   ]
  },
  {
   "cell_type": "code",
   "execution_count": 16,
   "metadata": {},
   "outputs": [],
   "source": [
    "ds = pd.read_csv('C:\\\\Users\\\\rafae\\\\Desktop\\\\Coleta\\\\faces\\\\training_p002_10.csv', header=0)"
   ]
  },
  {
   "cell_type": "code",
   "execution_count": 17,
   "metadata": {
    "collapsed": true
   },
   "outputs": [],
   "source": [
    "import yaml\n",
    "skip_lines = 3\n",
    "def read_yaml_depth(file):\n",
    "    file_yaml = file.replace('bmp', 'yaml')\n",
    "    print(file_yaml)\n",
    "    with open(file_yaml) as infile:\n",
    "        for i in range(skip_lines):\n",
    "            _ = infile.readline()\n",
    "        data = yaml.load(infile)\n",
    "    return np.reshape(data['data'], (data['rows'], data['cols']))"
   ]
  },
  {
   "cell_type": "code",
   "execution_count": 18,
   "metadata": {},
   "outputs": [
    {
     "data": {
      "text/html": [
       "<div>\n",
       "<style>\n",
       "    .dataframe thead tr:only-child th {\n",
       "        text-align: right;\n",
       "    }\n",
       "\n",
       "    .dataframe thead th {\n",
       "        text-align: left;\n",
       "    }\n",
       "\n",
       "    .dataframe tbody tr th {\n",
       "        vertical-align: top;\n",
       "    }\n",
       "</style>\n",
       "<table border=\"1\" class=\"dataframe\">\n",
       "  <thead>\n",
       "    <tr style=\"text-align: right;\">\n",
       "      <th></th>\n",
       "      <th>class</th>\n",
       "      <th>person</th>\n",
       "      <th>depfile_path</th>\n",
       "      <th>depxs</th>\n",
       "      <th>depys</th>\n",
       "      <th>depxe</th>\n",
       "      <th>depye</th>\n",
       "      <th>ir1file_path</th>\n",
       "      <th>ir1xs</th>\n",
       "      <th>ir1ys</th>\n",
       "      <th>...</th>\n",
       "      <th>ir2file_path</th>\n",
       "      <th>ir2xs</th>\n",
       "      <th>ir2ys</th>\n",
       "      <th>ir2xe</th>\n",
       "      <th>ir2ye</th>\n",
       "      <th>rgbfile_path</th>\n",
       "      <th>rgbxs</th>\n",
       "      <th>rgbys</th>\n",
       "      <th>rgbxe</th>\n",
       "      <th>rgbye</th>\n",
       "    </tr>\n",
       "  </thead>\n",
       "  <tbody>\n",
       "    <tr>\n",
       "      <th>0</th>\n",
       "      <td>10</td>\n",
       "      <td>p002</td>\n",
       "      <td>E:\\MestradoData\\p002\\02_10_depth_1.bmp</td>\n",
       "      <td>76</td>\n",
       "      <td>158</td>\n",
       "      <td>180</td>\n",
       "      <td>246</td>\n",
       "      <td>E:\\MestradoData\\p002\\02_10_ir1_1.bmp</td>\n",
       "      <td>76</td>\n",
       "      <td>158</td>\n",
       "      <td>...</td>\n",
       "      <td>E:\\MestradoData\\p002\\02_10_ir2_1.bmp</td>\n",
       "      <td>76</td>\n",
       "      <td>128</td>\n",
       "      <td>180</td>\n",
       "      <td>216</td>\n",
       "      <td>E:\\MestradoData\\p002\\02_10_rgb_1.bmp</td>\n",
       "      <td>71</td>\n",
       "      <td>133</td>\n",
       "      <td>175</td>\n",
       "      <td>221</td>\n",
       "    </tr>\n",
       "    <tr>\n",
       "      <th>1</th>\n",
       "      <td>10</td>\n",
       "      <td>p002</td>\n",
       "      <td>E:\\MestradoData\\p002\\02_10_depth_11.bmp</td>\n",
       "      <td>76</td>\n",
       "      <td>148</td>\n",
       "      <td>180</td>\n",
       "      <td>236</td>\n",
       "      <td>E:\\MestradoData\\p002\\02_10_ir1_11.bmp</td>\n",
       "      <td>76</td>\n",
       "      <td>148</td>\n",
       "      <td>...</td>\n",
       "      <td>E:\\MestradoData\\p002\\02_10_ir2_11.bmp</td>\n",
       "      <td>76</td>\n",
       "      <td>118</td>\n",
       "      <td>180</td>\n",
       "      <td>206</td>\n",
       "      <td>E:\\MestradoData\\p002\\02_10_rgb_11.bmp</td>\n",
       "      <td>71</td>\n",
       "      <td>123</td>\n",
       "      <td>175</td>\n",
       "      <td>211</td>\n",
       "    </tr>\n",
       "    <tr>\n",
       "      <th>2</th>\n",
       "      <td>10</td>\n",
       "      <td>p002</td>\n",
       "      <td>E:\\MestradoData\\p002\\02_10_depth_21.bmp</td>\n",
       "      <td>69</td>\n",
       "      <td>149</td>\n",
       "      <td>173</td>\n",
       "      <td>237</td>\n",
       "      <td>E:\\MestradoData\\p002\\02_10_ir1_21.bmp</td>\n",
       "      <td>69</td>\n",
       "      <td>149</td>\n",
       "      <td>...</td>\n",
       "      <td>E:\\MestradoData\\p002\\02_10_ir2_21.bmp</td>\n",
       "      <td>69</td>\n",
       "      <td>119</td>\n",
       "      <td>173</td>\n",
       "      <td>207</td>\n",
       "      <td>E:\\MestradoData\\p002\\02_10_rgb_21.bmp</td>\n",
       "      <td>64</td>\n",
       "      <td>124</td>\n",
       "      <td>168</td>\n",
       "      <td>212</td>\n",
       "    </tr>\n",
       "    <tr>\n",
       "      <th>3</th>\n",
       "      <td>10</td>\n",
       "      <td>p002</td>\n",
       "      <td>E:\\MestradoData\\p002\\02_10_depth_31.bmp</td>\n",
       "      <td>71</td>\n",
       "      <td>147</td>\n",
       "      <td>175</td>\n",
       "      <td>235</td>\n",
       "      <td>E:\\MestradoData\\p002\\02_10_ir1_31.bmp</td>\n",
       "      <td>71</td>\n",
       "      <td>147</td>\n",
       "      <td>...</td>\n",
       "      <td>E:\\MestradoData\\p002\\02_10_ir2_31.bmp</td>\n",
       "      <td>71</td>\n",
       "      <td>117</td>\n",
       "      <td>175</td>\n",
       "      <td>205</td>\n",
       "      <td>E:\\MestradoData\\p002\\02_10_rgb_31.bmp</td>\n",
       "      <td>66</td>\n",
       "      <td>122</td>\n",
       "      <td>170</td>\n",
       "      <td>210</td>\n",
       "    </tr>\n",
       "    <tr>\n",
       "      <th>4</th>\n",
       "      <td>10</td>\n",
       "      <td>p002</td>\n",
       "      <td>E:\\MestradoData\\p002\\02_10_depth_41.bmp</td>\n",
       "      <td>71</td>\n",
       "      <td>151</td>\n",
       "      <td>175</td>\n",
       "      <td>239</td>\n",
       "      <td>E:\\MestradoData\\p002\\02_10_ir1_41.bmp</td>\n",
       "      <td>71</td>\n",
       "      <td>151</td>\n",
       "      <td>...</td>\n",
       "      <td>E:\\MestradoData\\p002\\02_10_ir2_41.bmp</td>\n",
       "      <td>71</td>\n",
       "      <td>121</td>\n",
       "      <td>175</td>\n",
       "      <td>209</td>\n",
       "      <td>E:\\MestradoData\\p002\\02_10_rgb_41.bmp</td>\n",
       "      <td>66</td>\n",
       "      <td>126</td>\n",
       "      <td>170</td>\n",
       "      <td>214</td>\n",
       "    </tr>\n",
       "  </tbody>\n",
       "</table>\n",
       "<p>5 rows × 22 columns</p>\n",
       "</div>"
      ],
      "text/plain": [
       "   class person                             depfile_path  depxs  depys  depxe  \\\n",
       "0     10   p002   E:\\MestradoData\\p002\\02_10_depth_1.bmp     76    158    180   \n",
       "1     10   p002  E:\\MestradoData\\p002\\02_10_depth_11.bmp     76    148    180   \n",
       "2     10   p002  E:\\MestradoData\\p002\\02_10_depth_21.bmp     69    149    173   \n",
       "3     10   p002  E:\\MestradoData\\p002\\02_10_depth_31.bmp     71    147    175   \n",
       "4     10   p002  E:\\MestradoData\\p002\\02_10_depth_41.bmp     71    151    175   \n",
       "\n",
       "   depye                           ir1file_path  ir1xs  ir1ys  ...    \\\n",
       "0    246   E:\\MestradoData\\p002\\02_10_ir1_1.bmp     76    158  ...     \n",
       "1    236  E:\\MestradoData\\p002\\02_10_ir1_11.bmp     76    148  ...     \n",
       "2    237  E:\\MestradoData\\p002\\02_10_ir1_21.bmp     69    149  ...     \n",
       "3    235  E:\\MestradoData\\p002\\02_10_ir1_31.bmp     71    147  ...     \n",
       "4    239  E:\\MestradoData\\p002\\02_10_ir1_41.bmp     71    151  ...     \n",
       "\n",
       "                            ir2file_path  ir2xs ir2ys  ir2xe  ir2ye  \\\n",
       "0   E:\\MestradoData\\p002\\02_10_ir2_1.bmp     76   128    180    216   \n",
       "1  E:\\MestradoData\\p002\\02_10_ir2_11.bmp     76   118    180    206   \n",
       "2  E:\\MestradoData\\p002\\02_10_ir2_21.bmp     69   119    173    207   \n",
       "3  E:\\MestradoData\\p002\\02_10_ir2_31.bmp     71   117    175    205   \n",
       "4  E:\\MestradoData\\p002\\02_10_ir2_41.bmp     71   121    175    209   \n",
       "\n",
       "                            rgbfile_path  rgbxs rgbys  rgbxe  rgbye  \n",
       "0   E:\\MestradoData\\p002\\02_10_rgb_1.bmp     71   133    175    221  \n",
       "1  E:\\MestradoData\\p002\\02_10_rgb_11.bmp     71   123    175    211  \n",
       "2  E:\\MestradoData\\p002\\02_10_rgb_21.bmp     64   124    168    212  \n",
       "3  E:\\MestradoData\\p002\\02_10_rgb_31.bmp     66   122    170    210  \n",
       "4  E:\\MestradoData\\p002\\02_10_rgb_41.bmp     66   126    170    214  \n",
       "\n",
       "[5 rows x 22 columns]"
      ]
     },
     "execution_count": 18,
     "metadata": {},
     "output_type": "execute_result"
    }
   ],
   "source": [
    "ds.head()"
   ]
  },
  {
   "cell_type": "code",
   "execution_count": null,
   "metadata": {},
   "outputs": [
    {
     "name": "stdout",
     "output_type": "stream",
     "text": [
      "E:\\MestradoData\\p002\\02_10_depth_1.yaml\n",
      "E:\\MestradoData\\p002\\02_10_depth_11.yaml\n",
      "E:\\MestradoData\\p002\\02_10_depth_21.yaml\n",
      "E:\\MestradoData\\p002\\02_10_depth_31.yaml\n"
     ]
    }
   ],
   "source": [
    "for index, row in ds.iterrows():\n",
    "    depr = read_yaml_depth(row['depfile_path'])\n",
    "    depr = depr[row['depxs']:row['depxe'],row['depys']:row['depye']]\n",
    "    z_scores_np = (depr - depr.mean()) / depr.std()\n",
    "    cv2.imshow(\"HOG Image\", np.concatenate((z_scores_np, depr), axis = 1))\n",
    "    cv2.waitKey(0)\n",
    "    cv2.destroyAllWindows()\n",
    "    \n",
    "    ir1 = cv2.imread(row['ir1file_path'],0)\n",
    "    ir1 = ir1[row['ir1xs']:row['ir1xe'],row['ir1ys']:row['ir1ye']]\n",
    "    z_scores_np = (ir1 - ir1.mean()) / ir1.std()\n",
    "    cv2.imshow(\"HOG Image\", np.concatenate((z_scores_np, ir1), axis = 1))\n",
    "    cv2.waitKey(0)\n",
    "    cv2.destroyAllWindows()"
   ]
  },
  {
   "cell_type": "code",
   "execution_count": 5,
   "metadata": {
    "collapsed": true
   },
   "outputs": [],
   "source": [
    "a = np.reshape(data['data'], (data['rows'], data['cols']))"
   ]
  },
  {
   "cell_type": "code",
   "execution_count": 6,
   "metadata": {},
   "outputs": [
    {
     "data": {
      "text/plain": [
       "(240, 320)"
      ]
     },
     "execution_count": 6,
     "metadata": {},
     "output_type": "execute_result"
    }
   ],
   "source": [
    "a.shape"
   ]
  },
  {
   "cell_type": "code",
   "execution_count": 7,
   "metadata": {
    "collapsed": true
   },
   "outputs": [],
   "source": [
    "z_scores_np = (a - a.mean()) / a.std()"
   ]
  },
  {
   "cell_type": "code",
   "execution_count": 8,
   "metadata": {
    "collapsed": true
   },
   "outputs": [],
   "source": [
    "cv2.imshow(\"HOG Image\", z_scores_np)"
   ]
  },
  {
   "cell_type": "code",
   "execution_count": 9,
   "metadata": {
    "collapsed": true
   },
   "outputs": [],
   "source": [
    "cv2.destroyAllWindows()"
   ]
  },
  {
   "cell_type": "code",
   "execution_count": 9,
   "metadata": {
    "collapsed": true
   },
   "outputs": [],
   "source": [
    "img = cv2.imread('C:\\\\Users\\\\rafae\\\\Desktop\\\\Coleta\\\\p011\\\\11_12_ir1_53.bmp',0)"
   ]
  },
  {
   "cell_type": "code",
   "execution_count": 10,
   "metadata": {},
   "outputs": [
    {
     "data": {
      "text/plain": [
       "(240, 320)"
      ]
     },
     "execution_count": 10,
     "metadata": {},
     "output_type": "execute_result"
    }
   ],
   "source": [
    "img.shape"
   ]
  },
  {
   "cell_type": "code",
   "execution_count": 11,
   "metadata": {},
   "outputs": [
    {
     "data": {
      "text/plain": [
       "numpy.ndarray"
      ]
     },
     "execution_count": 11,
     "metadata": {},
     "output_type": "execute_result"
    }
   ],
   "source": [
    "type(img)"
   ]
  },
  {
   "cell_type": "code",
   "execution_count": 12,
   "metadata": {},
   "outputs": [
    {
     "data": {
      "text/plain": [
       "numpy.ndarray"
      ]
     },
     "execution_count": 12,
     "metadata": {},
     "output_type": "execute_result"
    }
   ],
   "source": [
    "type(a)"
   ]
  },
  {
   "cell_type": "code",
   "execution_count": null,
   "metadata": {
    "collapsed": true
   },
   "outputs": [],
   "source": []
  }
 ],
 "metadata": {
  "kernelspec": {
   "display_name": "Python 3",
   "language": "python",
   "name": "python3"
  },
  "language_info": {
   "codemirror_mode": {
    "name": "ipython",
    "version": 3
   },
   "file_extension": ".py",
   "mimetype": "text/x-python",
   "name": "python",
   "nbconvert_exporter": "python",
   "pygments_lexer": "ipython3",
   "version": "3.6.2"
  }
 },
 "nbformat": 4,
 "nbformat_minor": 2
}
