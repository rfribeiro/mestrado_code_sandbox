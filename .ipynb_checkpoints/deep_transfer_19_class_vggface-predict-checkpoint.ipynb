{
 "cells": [
  {
   "cell_type": "code",
   "execution_count": 1,
   "metadata": {},
   "outputs": [],
   "source": [
    "%matplotlib inline\n",
    "from matplotlib import pyplot as plt\n",
    "from PIL import Image\n",
    "import numpy as np\n",
    "import os \n",
    "#import cv2\n",
    "from tqdm import tqdm_notebook\n",
    "from random import shuffle\n",
    "import shutil\n",
    "import pandas as pd"
   ]
  },
  {
   "cell_type": "code",
   "execution_count": 2,
   "metadata": {},
   "outputs": [
    {
     "name": "stderr",
     "output_type": "stream",
     "text": [
      "C:\\Users\\rafae\\Anaconda3\\envs\\tf_vggface\\lib\\site-packages\\h5py\\__init__.py:36: FutureWarning: Conversion of the second argument of issubdtype from `float` to `np.floating` is deprecated. In future, it will be treated as `np.float64 == np.dtype(float).type`.\n",
      "  from ._conv import register_converters as _register_converters\n",
      "Using TensorFlow backend.\n"
     ]
    }
   ],
   "source": [
    "import keras.applications\n",
    "from keras.preprocessing import image\n",
    "from keras.applications.resnet50 import preprocess_input, decode_predictions\n",
    "from keras.layers import Input\n",
    "from keras.layers import Dropout, Flatten, Dense, GlobalAveragePooling2D\n",
    "from keras.models import Model\n",
    "from keras import optimizers\n",
    "\n",
    "from keras_vggface.vggface import VGGFace"
   ]
  },
  {
   "cell_type": "code",
   "execution_count": 33,
   "metadata": {},
   "outputs": [],
   "source": [
    "import keras\n",
    "#from keras_tqdm import TQDMNotebookCallback\n",
    "from keras.callbacks import Callback\n",
    "\n",
    "model_weights_checkpoint = 'vgg_face_19_classes2.h5'\n",
    "\n",
    "## Callback for loss logging per epoch\n",
    "class LossHistory(Callback):\n",
    "    def on_train_begin(self, logs={}):\n",
    "        self.losses = []\n",
    "        self.val_losses = []\n",
    "        \n",
    "    def on_epoch_end(self, batch, logs={}):\n",
    "        self.losses.append(logs.get('loss'))\n",
    "        self.val_losses.append(logs.get('val_loss'))\n",
    "        \n",
    "history = LossHistory()\n",
    "\n",
    "## Callback for early stopping the training\n",
    "early_stopping = keras.callbacks.EarlyStopping(monitor='val_loss',\n",
    "                              min_delta=0,\n",
    "                              patience=4,\n",
    "                              verbose=0, mode='auto')\n",
    "\n",
    "checkpoint = keras.callbacks.ModelCheckpoint(model_weights_checkpoint, monitor='val_loss', verbose=1, save_best_only=False, mode='auto')\n",
    "\n",
    "class Metrics(keras.callbacks.Callback):\n",
    "    def on_epoch_end(self, batch, logs={}):\n",
    "        predict = np.asarray(self.model.predict(self.validation_data[0]))\n",
    "        targ = self.validation_data[1]\n",
    "        self.f1s=f1(targ, predict)\n",
    "        return\n",
    "f1score = Metrics()"
   ]
  },
  {
   "cell_type": "code",
   "execution_count": 44,
   "metadata": {},
   "outputs": [],
   "source": [
    "from keras import backend as K\n",
    "\n",
    "def f1_score(y_true, y_pred):\n",
    "\n",
    "    # Count positive samples.\n",
    "    c1 = K.sum(K.round(K.clip(y_true * y_pred, 0, 1)))\n",
    "    c2 = K.sum(K.round(K.clip(y_pred, 0, 1)))\n",
    "    c3 = K.sum(K.round(K.clip(y_true, 0, 1)))\n",
    "\n",
    "    # If there are no true samples, fix the F1 score at 0.\n",
    "    if c3 == 0:\n",
    "        return 0\n",
    "\n",
    "    # How many selected items are relevant?\n",
    "    precision = c1 / c2\n",
    "\n",
    "    # How many relevant items are selected?\n",
    "    recall = c1 / c3\n",
    "\n",
    "    # Calculate f1_score\n",
    "    f1_score = 2 * (precision * recall) / (precision + recall)\n",
    "    return f1_score\n",
    "\n",
    "\n",
    "def precision(y_true, y_pred):\n",
    "\n",
    "    # Count positive samples.\n",
    "    c1 = K.sum(K.round(K.clip(y_true * y_pred, 0, 1)))\n",
    "    c2 = K.sum(K.round(K.clip(y_pred, 0, 1)))\n",
    "    c3 = K.sum(K.round(K.clip(y_true, 0, 1)))\n",
    "\n",
    "    # If there are no true samples, fix the F1 score at 0.\n",
    "    if c3 == 0:\n",
    "        return 0\n",
    "\n",
    "    # How many selected items are relevant?\n",
    "    precision = c1 / c2\n",
    "\n",
    "    return precision\n",
    "\n",
    "\n",
    "def recall(y_true, y_pred):\n",
    "\n",
    "    # Count positive samples.\n",
    "    c1 = K.sum(K.round(K.clip(y_true * y_pred, 0, 1)))\n",
    "    c3 = K.sum(K.round(K.clip(y_true, 0, 1)))\n",
    "\n",
    "    # If there are no true samples, fix the F1 score at 0.\n",
    "    if c3 == 0:\n",
    "        return 0\n",
    "\n",
    "    recall = c1 / c3\n",
    "\n",
    "    return recall"
   ]
  },
  {
   "cell_type": "code",
   "execution_count": 35,
   "metadata": {},
   "outputs": [],
   "source": [
    "img_width, img_height = 224, 224\n",
    "n_classes = 19"
   ]
  },
  {
   "cell_type": "code",
   "execution_count": 36,
   "metadata": {},
   "outputs": [],
   "source": [
    "# this could also be the output a different Keras model or layer\n",
    "input_tensor = Input(shape=(img_width, img_height, 3))  # this assumes K.image_data_format() == 'channels_last'"
   ]
  },
  {
   "cell_type": "code",
   "execution_count": 37,
   "metadata": {},
   "outputs": [],
   "source": [
    "#base_model = keras.applications.InceptionResNetV2(weights='imagenet', include_top=False)\n",
    "#base_model = keras.applications.ResNet50(include_top=False, weights='imagenet')#, input_tensor=input_tensor)\n",
    "#base_model = keras.applications.VGG16(weights='imagenet', include_top=False, input_tensor=input_tensor)\n",
    "\n",
    "base_model = VGGFace(include_top=False, input_shape=(img_width, img_height, 3), pooling='avg')"
   ]
  },
  {
   "cell_type": "code",
   "execution_count": 38,
   "metadata": {},
   "outputs": [
    {
     "name": "stdout",
     "output_type": "stream",
     "text": [
      "_________________________________________________________________\n",
      "Layer (type)                 Output Shape              Param #   \n",
      "=================================================================\n",
      "input_4 (InputLayer)         (None, 224, 224, 3)       0         \n",
      "_________________________________________________________________\n",
      "conv1_1 (Conv2D)             (None, 224, 224, 64)      1792      \n",
      "_________________________________________________________________\n",
      "conv1_2 (Conv2D)             (None, 224, 224, 64)      36928     \n",
      "_________________________________________________________________\n",
      "pool1 (MaxPooling2D)         (None, 112, 112, 64)      0         \n",
      "_________________________________________________________________\n",
      "conv2_1 (Conv2D)             (None, 112, 112, 128)     73856     \n",
      "_________________________________________________________________\n",
      "conv2_2 (Conv2D)             (None, 112, 112, 128)     147584    \n",
      "_________________________________________________________________\n",
      "pool2 (MaxPooling2D)         (None, 56, 56, 128)       0         \n",
      "_________________________________________________________________\n",
      "conv3_1 (Conv2D)             (None, 56, 56, 256)       295168    \n",
      "_________________________________________________________________\n",
      "conv3_2 (Conv2D)             (None, 56, 56, 256)       590080    \n",
      "_________________________________________________________________\n",
      "conv3_3 (Conv2D)             (None, 56, 56, 256)       590080    \n",
      "_________________________________________________________________\n",
      "pool3 (MaxPooling2D)         (None, 28, 28, 256)       0         \n",
      "_________________________________________________________________\n",
      "conv4_1 (Conv2D)             (None, 28, 28, 512)       1180160   \n",
      "_________________________________________________________________\n",
      "conv4_2 (Conv2D)             (None, 28, 28, 512)       2359808   \n",
      "_________________________________________________________________\n",
      "conv4_3 (Conv2D)             (None, 28, 28, 512)       2359808   \n",
      "_________________________________________________________________\n",
      "pool4 (MaxPooling2D)         (None, 14, 14, 512)       0         \n",
      "_________________________________________________________________\n",
      "conv5_1 (Conv2D)             (None, 14, 14, 512)       2359808   \n",
      "_________________________________________________________________\n",
      "conv5_2 (Conv2D)             (None, 14, 14, 512)       2359808   \n",
      "_________________________________________________________________\n",
      "conv5_3 (Conv2D)             (None, 14, 14, 512)       2359808   \n",
      "_________________________________________________________________\n",
      "pool5 (MaxPooling2D)         (None, 7, 7, 512)         0         \n",
      "_________________________________________________________________\n",
      "global_average_pooling2d_2 ( (None, 512)               0         \n",
      "=================================================================\n",
      "Total params: 14,714,688\n",
      "Trainable params: 14,714,688\n",
      "Non-trainable params: 0\n",
      "_________________________________________________________________\n"
     ]
    }
   ],
   "source": [
    "base_model.summary()"
   ]
  },
  {
   "cell_type": "code",
   "execution_count": 39,
   "metadata": {},
   "outputs": [],
   "source": [
    "# add a global spatial average pooling layer\n",
    "x = base_model.get_layer('pool5').output"
   ]
  },
  {
   "cell_type": "code",
   "execution_count": 40,
   "metadata": {},
   "outputs": [],
   "source": [
    "# let's add a fully-connected layer\n",
    "x = Flatten()(x)\n",
    "x = Dense(1024, activation='relu')(x)\n",
    "x = Dropout(0.5)(x)\n",
    "#x = Dense(512, activation='relu')(x)\n",
    "#x = Dropout(0.5)(x)\n",
    "x = Dense(512, activation='relu')(x)\n",
    "x = Dropout(0.25)(x)\n",
    "# and a logistic layer -- let's say we have 200 classes\n",
    "predictions = Dense(n_classes, activation='softmax')(x)"
   ]
  },
  {
   "cell_type": "code",
   "execution_count": 41,
   "metadata": {},
   "outputs": [],
   "source": [
    "# this is the model we will train\n",
    "model = Model(inputs=base_model.input, outputs=predictions)"
   ]
  },
  {
   "cell_type": "code",
   "execution_count": 42,
   "metadata": {},
   "outputs": [],
   "source": [
    "# first: train only the top layers (which were randomly initialized)\n",
    "# i.e. freeze all convolutional InceptionV3 layers\n",
    "for layer in base_model.layers:\n",
    "    layer.trainable = False"
   ]
  },
  {
   "cell_type": "code",
   "execution_count": 45,
   "metadata": {},
   "outputs": [],
   "source": [
    "# compile the model (should be done *after* setting layers to non-trainable)\n",
    "#model.compile(optimizer='sgd', loss='categorical_crossentropy')\n",
    "# compile the model with a SGD/momentum optimizer\n",
    "# and a very slow learning rate.\n",
    "model.compile(loss='binary_crossentropy',\n",
    "              optimizer=optimizers.SGD(lr=1e-4, momentum=0.9),\n",
    "              metrics=['accuracy', precision, recall, f1_score])"
   ]
  },
  {
   "cell_type": "code",
   "execution_count": 46,
   "metadata": {},
   "outputs": [
    {
     "name": "stdout",
     "output_type": "stream",
     "text": [
      "_________________________________________________________________\n",
      "Layer (type)                 Output Shape              Param #   \n",
      "=================================================================\n",
      "input_4 (InputLayer)         (None, 224, 224, 3)       0         \n",
      "_________________________________________________________________\n",
      "conv1_1 (Conv2D)             (None, 224, 224, 64)      1792      \n",
      "_________________________________________________________________\n",
      "conv1_2 (Conv2D)             (None, 224, 224, 64)      36928     \n",
      "_________________________________________________________________\n",
      "pool1 (MaxPooling2D)         (None, 112, 112, 64)      0         \n",
      "_________________________________________________________________\n",
      "conv2_1 (Conv2D)             (None, 112, 112, 128)     73856     \n",
      "_________________________________________________________________\n",
      "conv2_2 (Conv2D)             (None, 112, 112, 128)     147584    \n",
      "_________________________________________________________________\n",
      "pool2 (MaxPooling2D)         (None, 56, 56, 128)       0         \n",
      "_________________________________________________________________\n",
      "conv3_1 (Conv2D)             (None, 56, 56, 256)       295168    \n",
      "_________________________________________________________________\n",
      "conv3_2 (Conv2D)             (None, 56, 56, 256)       590080    \n",
      "_________________________________________________________________\n",
      "conv3_3 (Conv2D)             (None, 56, 56, 256)       590080    \n",
      "_________________________________________________________________\n",
      "pool3 (MaxPooling2D)         (None, 28, 28, 256)       0         \n",
      "_________________________________________________________________\n",
      "conv4_1 (Conv2D)             (None, 28, 28, 512)       1180160   \n",
      "_________________________________________________________________\n",
      "conv4_2 (Conv2D)             (None, 28, 28, 512)       2359808   \n",
      "_________________________________________________________________\n",
      "conv4_3 (Conv2D)             (None, 28, 28, 512)       2359808   \n",
      "_________________________________________________________________\n",
      "pool4 (MaxPooling2D)         (None, 14, 14, 512)       0         \n",
      "_________________________________________________________________\n",
      "conv5_1 (Conv2D)             (None, 14, 14, 512)       2359808   \n",
      "_________________________________________________________________\n",
      "conv5_2 (Conv2D)             (None, 14, 14, 512)       2359808   \n",
      "_________________________________________________________________\n",
      "conv5_3 (Conv2D)             (None, 14, 14, 512)       2359808   \n",
      "_________________________________________________________________\n",
      "pool5 (MaxPooling2D)         (None, 7, 7, 512)         0         \n",
      "_________________________________________________________________\n",
      "flatten_2 (Flatten)          (None, 25088)             0         \n",
      "_________________________________________________________________\n",
      "dense_4 (Dense)              (None, 1024)              25691136  \n",
      "_________________________________________________________________\n",
      "dropout_3 (Dropout)          (None, 1024)              0         \n",
      "_________________________________________________________________\n",
      "dense_5 (Dense)              (None, 512)               524800    \n",
      "_________________________________________________________________\n",
      "dropout_4 (Dropout)          (None, 512)               0         \n",
      "_________________________________________________________________\n",
      "dense_6 (Dense)              (None, 19)                9747      \n",
      "=================================================================\n",
      "Total params: 40,940,371\n",
      "Trainable params: 26,225,683\n",
      "Non-trainable params: 14,714,688\n",
      "_________________________________________________________________\n"
     ]
    }
   ],
   "source": [
    "model.summary()"
   ]
  },
  {
   "cell_type": "code",
   "execution_count": 47,
   "metadata": {},
   "outputs": [],
   "source": [
    "from keras.preprocessing.image import ImageDataGenerator"
   ]
  },
  {
   "cell_type": "code",
   "execution_count": 52,
   "metadata": {},
   "outputs": [],
   "source": [
    "train_data_dir = 'C:\\\\Users\\\\rafae\\\\Desktop\\\\Coleta\\\\data\\\\ir\\\\train'\n",
    "validation_data_dir = 'C:\\\\Users\\\\rafae\\\\Desktop\\\\Coleta\\\\data\\\\ir\\\\validation'\n",
    "nb_train_samples = 31576\n",
    "nb_validation_samples = 6048\n",
    "epochs = 50\n",
    "batch_size = 32\n",
    "samples_per_epoch= 5000"
   ]
  },
  {
   "cell_type": "code",
   "execution_count": 50,
   "metadata": {},
   "outputs": [],
   "source": [
    "# prepare data augmentation configuration\n",
    "train_datagen = ImageDataGenerator(\n",
    "    rescale=1. / 255,\n",
    "    zoom_range=0.2,\n",
    "    width_shift_range=0.2,\n",
    "    height_shift_range=0.2)\n",
    "\n",
    "test_datagen = ImageDataGenerator(rescale=1. / 255)"
   ]
  },
  {
   "cell_type": "code",
   "execution_count": 51,
   "metadata": {},
   "outputs": [
    {
     "name": "stdout",
     "output_type": "stream",
     "text": [
      "Found 31576 images belonging to 19 classes.\n",
      "Found 6048 images belonging to 19 classes.\n"
     ]
    }
   ],
   "source": [
    "train_generator = train_datagen.flow_from_directory(\n",
    "    train_data_dir,\n",
    "    target_size=(img_height, img_width),\n",
    "    batch_size=batch_size,\n",
    "    class_mode='categorical')\n",
    "\n",
    "validation_generator = test_datagen.flow_from_directory(\n",
    "    validation_data_dir,\n",
    "    target_size=(img_height, img_width),\n",
    "    batch_size=batch_size,\n",
    "    class_mode='categorical')"
   ]
  },
  {
   "cell_type": "code",
   "execution_count": null,
   "metadata": {},
   "outputs": [
    {
     "name": "stdout",
     "output_type": "stream",
     "text": [
      "Epoch 1/50\n"
     ]
    },
    {
     "name": "stdout",
     "output_type": "stream",
     "text": [
      "  85/3947 [..............................] - ETA: 5:02:40 - loss: 0.2062 - acc: 0.9474 - precision: nan - recall: 0.0000e+00 - f1_score: n - ETA: 4:05:58 - loss: 0.2064 - acc: 0.9474 - precision: nan - recall: 0.0000e+00 - f1_score: n - ETA: 3:47:05 - loss: 0.2065 - acc: 0.9474 - precision: nan - recall: 0.0000e+00 - f1_score: n - ETA: 3:37:40 - loss: 0.2065 - acc: 0.9474 - precision: nan - recall: 0.0000e+00 - f1_score: n - ETA: 3:31:55 - loss: 0.2065 - acc: 0.9474 - precision: nan - recall: 0.0000e+00 - f1_score: n - ETA: 3:28:07 - loss: 0.2063 - acc: 0.9474 - precision: nan - recall: 0.0000e+00 - f1_score: n - ETA: 3:25:23 - loss: 0.2064 - acc: 0.9474 - precision: nan - recall: 0.0000e+00 - f1_score: n - ETA: 3:23:22 - loss: 0.2063 - acc: 0.9474 - precision: nan - recall: 0.0000e+00 - f1_score: n - ETA: 3:21:45 - loss: 0.2065 - acc: 0.9474 - precision: nan - recall: 0.0000e+00 - f1_score: n - ETA: 3:20:27 - loss: 0.2066 - acc: 0.9474 - precision: nan - recall: 0.0000e+00 - f1_score: n - ETA: 3:19:23 - loss: 0.2066 - acc: 0.9474 - precision: nan - recall: 0.0000e+00 - f1_score: n - ETA: 3:18:30 - loss: 0.2068 - acc: 0.9474 - precision: nan - recall: 0.0000e+00 - f1_score: n - ETA: 3:17:45 - loss: 0.2067 - acc: 0.9474 - precision: nan - recall: 0.0000e+00 - f1_score: n - ETA: 3:17:07 - loss: 0.2065 - acc: 0.9474 - precision: nan - recall: 0.0000e+00 - f1_score: n - ETA: 3:16:34 - loss: 0.2066 - acc: 0.9474 - precision: nan - recall: 0.0000e+00 - f1_score: n - ETA: 3:16:07 - loss: 0.2066 - acc: 0.9474 - precision: nan - recall: 0.0000e+00 - f1_score: n - ETA: 3:15:40 - loss: 0.2065 - acc: 0.9474 - precision: nan - recall: 0.0000e+00 - f1_score: n - ETA: 3:15:15 - loss: 0.2065 - acc: 0.9474 - precision: nan - recall: 0.0000e+00 - f1_score: n - ETA: 3:14:58 - loss: 0.2064 - acc: 0.9474 - precision: nan - recall: 0.0000e+00 - f1_score: n - ETA: 3:14:39 - loss: 0.2065 - acc: 0.9474 - precision: nan - recall: 0.0000e+00 - f1_score: n - ETA: 3:14:19 - loss: 0.2065 - acc: 0.9474 - precision: nan - recall: 0.0000e+00 - f1_score: n - ETA: 3:14:06 - loss: 0.2066 - acc: 0.9474 - precision: nan - recall: 0.0000e+00 - f1_score: n - ETA: 3:13:49 - loss: 0.2065 - acc: 0.9474 - precision: nan - recall: 0.0000e+00 - f1_score: n - ETA: 3:13:33 - loss: 0.2065 - acc: 0.9474 - precision: nan - recall: 0.0000e+00 - f1_score: n - ETA: 3:13:18 - loss: 0.2066 - acc: 0.9474 - precision: nan - recall: 0.0000e+00 - f1_score: n - ETA: 3:13:04 - loss: 0.2065 - acc: 0.9474 - precision: nan - recall: 0.0000e+00 - f1_score: n - ETA: 3:12:51 - loss: 0.2065 - acc: 0.9474 - precision: nan - recall: 0.0000e+00 - f1_score: n - ETA: 3:12:40 - loss: 0.2065 - acc: 0.9474 - precision: nan - recall: 0.0000e+00 - f1_score: n - ETA: 3:12:28 - loss: 0.2066 - acc: 0.9474 - precision: nan - recall: 0.0000e+00 - f1_score: n - ETA: 3:12:16 - loss: 0.2066 - acc: 0.9474 - precision: nan - recall: 0.0000e+00 - f1_score: n - ETA: 3:12:06 - loss: 0.2066 - acc: 0.9474 - precision: nan - recall: 0.0000e+00 - f1_score: n - ETA: 3:11:55 - loss: 0.2066 - acc: 0.9474 - precision: nan - recall: 0.0000e+00 - f1_score: n - ETA: 3:11:45 - loss: 0.2066 - acc: 0.9474 - precision: nan - recall: 0.0000e+00 - f1_score: n - ETA: 3:11:35 - loss: 0.2066 - acc: 0.9474 - precision: nan - recall: 0.0000e+00 - f1_score: n - ETA: 3:11:27 - loss: 0.2066 - acc: 0.9474 - precision: nan - recall: 0.0000e+00 - f1_score: n - ETA: 3:11:19 - loss: 0.2066 - acc: 0.9474 - precision: nan - recall: 0.0000e+00 - f1_score: n - ETA: 3:11:11 - loss: 0.2066 - acc: 0.9474 - precision: nan - recall: 0.0000e+00 - f1_score: n - ETA: 3:11:03 - loss: 0.2065 - acc: 0.9474 - precision: nan - recall: 0.0000e+00 - f1_score: n - ETA: 3:10:55 - loss: 0.2065 - acc: 0.9474 - precision: nan - recall: 0.0000e+00 - f1_score: n - ETA: 3:10:48 - loss: 0.2065 - acc: 0.9474 - precision: nan - recall: 0.0000e+00 - f1_score: n - ETA: 3:10:40 - loss: 0.2065 - acc: 0.9474 - precision: nan - recall: 0.0000e+00 - f1_score: n - ETA: 3:10:33 - loss: 0.2065 - acc: 0.9474 - precision: nan - recall: 0.0000e+00 - f1_score: n - ETA: 3:10:26 - loss: 0.2065 - acc: 0.9474 - precision: nan - recall: 0.0000e+00 - f1_score: n - ETA: 3:10:20 - loss: 0.2065 - acc: 0.9474 - precision: nan - recall: 0.0000e+00 - f1_score: n - ETA: 3:10:13 - loss: 0.2065 - acc: 0.9474 - precision: nan - recall: 0.0000e+00 - f1_score: n - ETA: 3:10:07 - loss: 0.2065 - acc: 0.9474 - precision: nan - recall: 0.0000e+00 - f1_score: n - ETA: 3:10:00 - loss: 0.2064 - acc: 0.9474 - precision: nan - recall: 0.0000e+00 - f1_score: n - ETA: 3:09:55 - loss: 0.2064 - acc: 0.9474 - precision: nan - recall: 0.0000e+00 - f1_score: n - ETA: 3:09:48 - loss: 0.2064 - acc: 0.9474 - precision: nan - recall: 0.0000e+00 - f1_score: n - ETA: 3:09:42 - loss: 0.2065 - acc: 0.9474 - precision: nan - recall: 0.0000e+00 - f1_score: n - ETA: 3:09:37 - loss: 0.2064 - acc: 0.9474 - precision: nan - recall: 0.0000e+00 - f1_score: n - ETA: 3:09:32 - loss: 0.2064 - acc: 0.9474 - precision: nan - recall: 0.0000e+00 - f1_score: n - ETA: 3:09:26 - loss: 0.2064 - acc: 0.9474 - precision: nan - recall: 0.0000e+00 - f1_score: n - ETA: 3:09:21 - loss: 0.2065 - acc: 0.9474 - precision: nan - recall: 0.0000e+00 - f1_score: n - ETA: 3:09:16 - loss: 0.2064 - acc: 0.9474 - precision: nan - recall: 0.0000e+00 - f1_score: n - ETA: 3:09:11 - loss: 0.2064 - acc: 0.9474 - precision: nan - recall: 0.0000e+00 - f1_score: n - ETA: 3:09:07 - loss: 0.2064 - acc: 0.9474 - precision: nan - recall: 0.0000e+00 - f1_score: n - ETA: 3:09:04 - loss: 0.2064 - acc: 0.9474 - precision: nan - recall: 0.0000e+00 - f1_score: n - ETA: 3:09:01 - loss: 0.2064 - acc: 0.9474 - precision: nan - recall: 0.0000e+00 - f1_score: n - ETA: 3:08:56 - loss: 0.2064 - acc: 0.9474 - precision: nan - recall: 0.0000e+00 - f1_score: n - ETA: 3:08:51 - loss: 0.2064 - acc: 0.9474 - precision: nan - recall: 0.0000e+00 - f1_score: n - ETA: 3:08:48 - loss: 0.2064 - acc: 0.9474 - precision: nan - recall: 0.0000e+00 - f1_score: n - ETA: 3:08:44 - loss: 0.2064 - acc: 0.9474 - precision: nan - recall: 0.0000e+00 - f1_score: n - ETA: 3:08:40 - loss: 0.2064 - acc: 0.9474 - precision: nan - recall: 0.0000e+00 - f1_score: n - ETA: 3:08:36 - loss: 0.2063 - acc: 0.9474 - precision: nan - recall: 0.0000e+00 - f1_score: n - ETA: 3:08:31 - loss: 0.2063 - acc: 0.9474 - precision: nan - recall: 0.0000e+00 - f1_score: n - ETA: 3:08:27 - loss: 0.2063 - acc: 0.9474 - precision: nan - recall: 0.0000e+00 - f1_score: n - ETA: 3:08:22 - loss: 0.2063 - acc: 0.9474 - precision: nan - recall: 0.0000e+00 - f1_score: n - ETA: 3:08:19 - loss: 0.2063 - acc: 0.9474 - precision: nan - recall: 0.0000e+00 - f1_score: n - ETA: 3:08:15 - loss: 0.2063 - acc: 0.9474 - precision: nan - recall: 0.0000e+00 - f1_score: n - ETA: 3:08:11 - loss: 0.2063 - acc: 0.9474 - precision: nan - recall: 0.0000e+00 - f1_score: n - ETA: 3:08:07 - loss: 0.2063 - acc: 0.9474 - precision: nan - recall: 0.0000e+00 - f1_score: n - ETA: 3:08:03 - loss: 0.2063 - acc: 0.9474 - precision: nan - recall: 0.0000e+00 - f1_score: n - ETA: 3:07:58 - loss: 0.2063 - acc: 0.9474 - precision: nan - recall: 0.0000e+00 - f1_score: n - ETA: 3:07:54 - loss: 0.2063 - acc: 0.9474 - precision: nan - recall: 0.0000e+00 - f1_score: n - ETA: 3:07:51 - loss: 0.2063 - acc: 0.9474 - precision: nan - recall: 0.0000e+00 - f1_score: n - ETA: 3:07:48 - loss: 0.2063 - acc: 0.9474 - precision: nan - recall: 0.0000e+00 - f1_score: n - ETA: 3:07:44 - loss: 0.2063 - acc: 0.9474 - precision: nan - recall: 0.0000e+00 - f1_score: n - ETA: 3:07:42 - loss: 0.2063 - acc: 0.9474 - precision: nan - recall: 0.0000e+00 - f1_score: n - ETA: 3:07:42 - loss: 0.2063 - acc: 0.9474 - precision: nan - recall: 0.0000e+00 - f1_score: n - ETA: 3:07:39 - loss: 0.2063 - acc: 0.9474 - precision: nan - recall: 0.0000e+00 - f1_score: n - ETA: 3:07:36 - loss: 0.2063 - acc: 0.9474 - precision: nan - recall: 0.0000e+00 - f1_score: n - ETA: 3:07:34 - loss: 0.2063 - acc: 0.9474 - precision: nan - recall: 0.0000e+00 - f1_score: n - ETA: 3:07:31 - loss: 0.2063 - acc: 0.9474 - precision: nan - recall: 0.0000e+00 - f1_score: n - ETA: 3:07:28 - loss: 0.2063 - acc: 0.9474 - precision: nan - recall: 0.0000e+00 - f1_score: nan\b\b\b\b\b\b\b\b\b\b\b\b\b\b\b\b\b\b\b\b\b\b\b\b\b\b\b\b\b\b\b\b\b\b\b\b\b\b\b\b\b\b\b\b\b\b\b\b\b\b\b\b\b\b\b\b\b\b\b\b\b\b\b\b\b\b\b\b\b\b\b\b\b\b\b\b\b\b\b\b\b\b\b\b\b\b\b\b\b\b\b\b\b\b\b\b\b\b\b\b\b\b\b\b\b\b\b\b\b\b\b\b\b\b\b\b\b\b\b\b\b\b\b\b\b\b\b\b\b\b\b\b\b\b\b\b\b\b\b\b"
     ]
    },
    {
     "name": "stdout",
     "output_type": "stream",
     "text": [
      " 170/3947 [>.............................] - ETA: 3:06:53 - loss: 0.2063 - acc: 0.9474 - precision: nan - recall: 0.0000e+00 - f1_score: n - ETA: 3:06:50 - loss: 0.2063 - acc: 0.9474 - precision: nan - recall: 0.0000e+00 - f1_score: n - ETA: 3:06:46 - loss: 0.2063 - acc: 0.9474 - precision: nan - recall: 0.0000e+00 - f1_score: n - ETA: 3:06:42 - loss: 0.2063 - acc: 0.9474 - precision: nan - recall: 0.0000e+00 - f1_score: n - ETA: 3:06:40 - loss: 0.2063 - acc: 0.9474 - precision: nan - recall: 0.0000e+00 - f1_score: n - ETA: 3:06:38 - loss: 0.2063 - acc: 0.9474 - precision: nan - recall: 0.0000e+00 - f1_score: n - ETA: 3:06:35 - loss: 0.2063 - acc: 0.9474 - precision: nan - recall: 0.0000e+00 - f1_score: n - ETA: 3:06:32 - loss: 0.2063 - acc: 0.9474 - precision: nan - recall: 0.0000e+00 - f1_score: n - ETA: 3:06:30 - loss: 0.2064 - acc: 0.9474 - precision: nan - recall: 0.0000e+00 - f1_score: n - ETA: 3:06:27 - loss: 0.2064 - acc: 0.9474 - precision: nan - recall: 0.0000e+00 - f1_score: n - ETA: 3:06:27 - loss: 0.2064 - acc: 0.9474 - precision: nan - recall: 0.0000e+00 - f1_score: n - ETA: 3:06:25 - loss: 0.2064 - acc: 0.9474 - precision: nan - recall: 0.0000e+00 - f1_score: n - ETA: 3:06:23 - loss: 0.2064 - acc: 0.9474 - precision: nan - recall: 0.0000e+00 - f1_score: n - ETA: 3:06:21 - loss: 0.2064 - acc: 0.9474 - precision: nan - recall: 0.0000e+00 - f1_score: n - ETA: 3:06:18 - loss: 0.2064 - acc: 0.9474 - precision: nan - recall: 0.0000e+00 - f1_score: n - ETA: 3:06:15 - loss: 0.2064 - acc: 0.9474 - precision: nan - recall: 0.0000e+00 - f1_score: n - ETA: 3:06:12 - loss: 0.2064 - acc: 0.9474 - precision: nan - recall: 0.0000e+00 - f1_score: n - ETA: 3:06:10 - loss: 0.2064 - acc: 0.9474 - precision: nan - recall: 0.0000e+00 - f1_score: n - ETA: 3:06:08 - loss: 0.2064 - acc: 0.9474 - precision: nan - recall: 0.0000e+00 - f1_score: n - ETA: 3:06:06 - loss: 0.2064 - acc: 0.9474 - precision: nan - recall: 0.0000e+00 - f1_score: n - ETA: 3:06:04 - loss: 0.2064 - acc: 0.9474 - precision: nan - recall: 0.0000e+00 - f1_score: n - ETA: 3:06:03 - loss: 0.2064 - acc: 0.9474 - precision: nan - recall: 0.0000e+00 - f1_score: n - ETA: 3:06:01 - loss: 0.2064 - acc: 0.9474 - precision: nan - recall: 0.0000e+00 - f1_score: n - ETA: 3:05:58 - loss: 0.2064 - acc: 0.9474 - precision: nan - recall: 0.0000e+00 - f1_score: n - ETA: 3:05:55 - loss: 0.2064 - acc: 0.9474 - precision: nan - recall: 0.0000e+00 - f1_score: n - ETA: 3:05:52 - loss: 0.2064 - acc: 0.9474 - precision: nan - recall: 0.0000e+00 - f1_score: n - ETA: 3:05:51 - loss: 0.2064 - acc: 0.9474 - precision: nan - recall: 0.0000e+00 - f1_score: n - ETA: 3:05:49 - loss: 0.2064 - acc: 0.9474 - precision: nan - recall: 0.0000e+00 - f1_score: n - ETA: 3:05:46 - loss: 0.2064 - acc: 0.9474 - precision: nan - recall: 0.0000e+00 - f1_score: n - ETA: 3:05:42 - loss: 0.2064 - acc: 0.9474 - precision: nan - recall: 0.0000e+00 - f1_score: n - ETA: 3:05:39 - loss: 0.2064 - acc: 0.9474 - precision: nan - recall: 0.0000e+00 - f1_score: n - ETA: 3:05:35 - loss: 0.2064 - acc: 0.9474 - precision: nan - recall: 0.0000e+00 - f1_score: n - ETA: 3:05:31 - loss: 0.2064 - acc: 0.9474 - precision: nan - recall: 0.0000e+00 - f1_score: n - ETA: 3:05:28 - loss: 0.2064 - acc: 0.9474 - precision: nan - recall: 0.0000e+00 - f1_score: n - ETA: 3:05:24 - loss: 0.2064 - acc: 0.9474 - precision: nan - recall: 0.0000e+00 - f1_score: n - ETA: 3:05:20 - loss: 0.2064 - acc: 0.9474 - precision: nan - recall: 0.0000e+00 - f1_score: n - ETA: 3:05:17 - loss: 0.2064 - acc: 0.9474 - precision: nan - recall: 0.0000e+00 - f1_score: n - ETA: 3:05:13 - loss: 0.2064 - acc: 0.9474 - precision: nan - recall: 0.0000e+00 - f1_score: n - ETA: 3:05:09 - loss: 0.2064 - acc: 0.9474 - precision: nan - recall: 0.0000e+00 - f1_score: n - ETA: 3:05:06 - loss: 0.2064 - acc: 0.9474 - precision: nan - recall: 0.0000e+00 - f1_score: n - ETA: 3:05:02 - loss: 0.2064 - acc: 0.9474 - precision: nan - recall: 0.0000e+00 - f1_score: n - ETA: 3:04:59 - loss: 0.2064 - acc: 0.9474 - precision: nan - recall: 0.0000e+00 - f1_score: n - ETA: 3:04:56 - loss: 0.2065 - acc: 0.9474 - precision: nan - recall: 0.0000e+00 - f1_score: n - ETA: 3:04:52 - loss: 0.2065 - acc: 0.9474 - precision: nan - recall: 0.0000e+00 - f1_score: n - ETA: 3:04:49 - loss: 0.2065 - acc: 0.9474 - precision: nan - recall: 0.0000e+00 - f1_score: n - ETA: 3:04:45 - loss: 0.2065 - acc: 0.9474 - precision: nan - recall: 0.0000e+00 - f1_score: n - ETA: 3:04:42 - loss: 0.2065 - acc: 0.9474 - precision: nan - recall: 0.0000e+00 - f1_score: n - ETA: 3:04:38 - loss: 0.2065 - acc: 0.9474 - precision: nan - recall: 0.0000e+00 - f1_score: n - ETA: 3:04:35 - loss: 0.2065 - acc: 0.9474 - precision: nan - recall: 0.0000e+00 - f1_score: n - ETA: 3:04:32 - loss: 0.2065 - acc: 0.9474 - precision: nan - recall: 0.0000e+00 - f1_score: n - ETA: 3:04:28 - loss: 0.2065 - acc: 0.9474 - precision: nan - recall: 0.0000e+00 - f1_score: n - ETA: 3:04:25 - loss: 0.2065 - acc: 0.9474 - precision: nan - recall: 0.0000e+00 - f1_score: n - ETA: 3:04:22 - loss: 0.2065 - acc: 0.9474 - precision: nan - recall: 0.0000e+00 - f1_score: n - ETA: 3:04:18 - loss: 0.2065 - acc: 0.9474 - precision: nan - recall: 0.0000e+00 - f1_score: n - ETA: 3:04:15 - loss: 0.2064 - acc: 0.9474 - precision: nan - recall: 0.0000e+00 - f1_score: n - ETA: 3:04:12 - loss: 0.2064 - acc: 0.9474 - precision: nan - recall: 0.0000e+00 - f1_score: n - ETA: 3:04:08 - loss: 0.2064 - acc: 0.9474 - precision: nan - recall: 0.0000e+00 - f1_score: n - ETA: 3:04:05 - loss: 0.2064 - acc: 0.9474 - precision: nan - recall: 0.0000e+00 - f1_score: n - ETA: 3:04:02 - loss: 0.2064 - acc: 0.9474 - precision: nan - recall: 0.0000e+00 - f1_score: n - ETA: 3:03:58 - loss: 0.2064 - acc: 0.9474 - precision: nan - recall: 0.0000e+00 - f1_score: n - ETA: 3:03:55 - loss: 0.2064 - acc: 0.9474 - precision: nan - recall: 0.0000e+00 - f1_score: n - ETA: 3:03:51 - loss: 0.2064 - acc: 0.9474 - precision: nan - recall: 0.0000e+00 - f1_score: n - ETA: 3:03:48 - loss: 0.2064 - acc: 0.9474 - precision: nan - recall: 0.0000e+00 - f1_score: n - ETA: 3:03:45 - loss: 0.2064 - acc: 0.9474 - precision: nan - recall: 0.0000e+00 - f1_score: n - ETA: 3:03:41 - loss: 0.2064 - acc: 0.9474 - precision: nan - recall: 0.0000e+00 - f1_score: n - ETA: 3:03:38 - loss: 0.2064 - acc: 0.9474 - precision: nan - recall: 0.0000e+00 - f1_score: n - ETA: 3:03:35 - loss: 0.2064 - acc: 0.9474 - precision: nan - recall: 0.0000e+00 - f1_score: n - ETA: 3:03:31 - loss: 0.2064 - acc: 0.9474 - precision: nan - recall: 0.0000e+00 - f1_score: n - ETA: 3:03:28 - loss: 0.2064 - acc: 0.9474 - precision: nan - recall: 0.0000e+00 - f1_score: n - ETA: 3:03:25 - loss: 0.2064 - acc: 0.9474 - precision: nan - recall: 0.0000e+00 - f1_score: n - ETA: 3:03:22 - loss: 0.2064 - acc: 0.9474 - precision: nan - recall: 0.0000e+00 - f1_score: n - ETA: 3:03:18 - loss: 0.2064 - acc: 0.9474 - precision: nan - recall: 0.0000e+00 - f1_score: n - ETA: 3:03:15 - loss: 0.2064 - acc: 0.9474 - precision: nan - recall: 0.0000e+00 - f1_score: n - ETA: 3:03:12 - loss: 0.2064 - acc: 0.9474 - precision: nan - recall: 0.0000e+00 - f1_score: n - ETA: 3:03:08 - loss: 0.2064 - acc: 0.9474 - precision: nan - recall: 0.0000e+00 - f1_score: n - ETA: 3:03:05 - loss: 0.2064 - acc: 0.9474 - precision: nan - recall: 0.0000e+00 - f1_score: n - ETA: 3:03:02 - loss: 0.2064 - acc: 0.9474 - precision: nan - recall: 0.0000e+00 - f1_score: n - ETA: 3:02:59 - loss: 0.2064 - acc: 0.9474 - precision: nan - recall: 0.0000e+00 - f1_score: n - ETA: 3:02:56 - loss: 0.2064 - acc: 0.9474 - precision: nan - recall: 0.0000e+00 - f1_score: n - ETA: 3:02:52 - loss: 0.2064 - acc: 0.9474 - precision: nan - recall: 0.0000e+00 - f1_score: n - ETA: 3:02:49 - loss: 0.2064 - acc: 0.9474 - precision: nan - recall: 0.0000e+00 - f1_score: n - ETA: 3:02:46 - loss: 0.2064 - acc: 0.9474 - precision: nan - recall: 0.0000e+00 - f1_score: n - ETA: 3:02:43 - loss: 0.2064 - acc: 0.9474 - precision: nan - recall: 0.0000e+00 - f1_score: n - ETA: 3:02:40 - loss: 0.2064 - acc: 0.9474 - precision: nan - recall: 0.0000e+00 - f1_score: n - ETA: 3:02:36 - loss: 0.2064 - acc: 0.9474 - precision: nan - recall: 0.0000e+00 - f1_score: nan"
     ]
    },
    {
     "name": "stdout",
     "output_type": "stream",
     "text": [
      " 255/3947 [>.............................] - ETA: 3:02:33 - loss: 0.2064 - acc: 0.9474 - precision: nan - recall: 0.0000e+00 - f1_score: n - ETA: 3:02:30 - loss: 0.2064 - acc: 0.9474 - precision: nan - recall: 0.0000e+00 - f1_score: n - ETA: 3:02:27 - loss: 0.2064 - acc: 0.9474 - precision: nan - recall: 0.0000e+00 - f1_score: n - ETA: 3:02:24 - loss: 0.2064 - acc: 0.9474 - precision: nan - recall: 0.0000e+00 - f1_score: n - ETA: 3:02:21 - loss: 0.2064 - acc: 0.9474 - precision: nan - recall: 0.0000e+00 - f1_score: n - ETA: 3:02:17 - loss: 0.2064 - acc: 0.9474 - precision: nan - recall: 0.0000e+00 - f1_score: n - ETA: 3:02:14 - loss: 0.2064 - acc: 0.9474 - precision: nan - recall: 0.0000e+00 - f1_score: n - ETA: 3:02:11 - loss: 0.2064 - acc: 0.9474 - precision: nan - recall: 0.0000e+00 - f1_score: n - ETA: 3:02:08 - loss: 0.2064 - acc: 0.9474 - precision: nan - recall: 0.0000e+00 - f1_score: n - ETA: 3:02:05 - loss: 0.2064 - acc: 0.9474 - precision: nan - recall: 0.0000e+00 - f1_score: n - ETA: 3:02:02 - loss: 0.2064 - acc: 0.9474 - precision: nan - recall: 0.0000e+00 - f1_score: n - ETA: 3:01:59 - loss: 0.2064 - acc: 0.9474 - precision: nan - recall: 0.0000e+00 - f1_score: n - ETA: 3:01:56 - loss: 0.2064 - acc: 0.9474 - precision: nan - recall: 0.0000e+00 - f1_score: n - ETA: 3:01:52 - loss: 0.2064 - acc: 0.9474 - precision: nan - recall: 0.0000e+00 - f1_score: n - ETA: 3:01:49 - loss: 0.2064 - acc: 0.9474 - precision: nan - recall: 0.0000e+00 - f1_score: n - ETA: 3:01:46 - loss: 0.2064 - acc: 0.9474 - precision: nan - recall: 0.0000e+00 - f1_score: n - ETA: 3:01:43 - loss: 0.2064 - acc: 0.9474 - precision: nan - recall: 0.0000e+00 - f1_score: n - ETA: 3:01:40 - loss: 0.2064 - acc: 0.9474 - precision: nan - recall: 0.0000e+00 - f1_score: n - ETA: 3:01:36 - loss: 0.2064 - acc: 0.9474 - precision: nan - recall: 0.0000e+00 - f1_score: n - ETA: 3:01:33 - loss: 0.2064 - acc: 0.9474 - precision: nan - recall: 0.0000e+00 - f1_score: n - ETA: 3:01:30 - loss: 0.2064 - acc: 0.9474 - precision: nan - recall: 0.0000e+00 - f1_score: n - ETA: 3:01:27 - loss: 0.2064 - acc: 0.9474 - precision: nan - recall: 0.0000e+00 - f1_score: n - ETA: 3:01:23 - loss: 0.2064 - acc: 0.9474 - precision: nan - recall: 0.0000e+00 - f1_score: n - ETA: 3:01:20 - loss: 0.2064 - acc: 0.9474 - precision: nan - recall: 0.0000e+00 - f1_score: n - ETA: 3:01:17 - loss: 0.2064 - acc: 0.9474 - precision: nan - recall: 0.0000e+00 - f1_score: n - ETA: 3:01:14 - loss: 0.2064 - acc: 0.9474 - precision: nan - recall: 0.0000e+00 - f1_score: n - ETA: 3:01:11 - loss: 0.2064 - acc: 0.9474 - precision: nan - recall: 0.0000e+00 - f1_score: n - ETA: 3:01:07 - loss: 0.2064 - acc: 0.9474 - precision: nan - recall: 0.0000e+00 - f1_score: n - ETA: 3:01:04 - loss: 0.2064 - acc: 0.9474 - precision: nan - recall: 0.0000e+00 - f1_score: n - ETA: 3:01:01 - loss: 0.2064 - acc: 0.9474 - precision: nan - recall: 0.0000e+00 - f1_score: n - ETA: 3:00:58 - loss: 0.2064 - acc: 0.9474 - precision: nan - recall: 0.0000e+00 - f1_score: n - ETA: 3:00:55 - loss: 0.2064 - acc: 0.9474 - precision: nan - recall: 0.0000e+00 - f1_score: n - ETA: 3:00:52 - loss: 0.2064 - acc: 0.9474 - precision: nan - recall: 0.0000e+00 - f1_score: n - ETA: 3:00:49 - loss: 0.2064 - acc: 0.9474 - precision: nan - recall: 0.0000e+00 - f1_score: n - ETA: 3:00:45 - loss: 0.2064 - acc: 0.9474 - precision: nan - recall: 0.0000e+00 - f1_score: n - ETA: 3:00:42 - loss: 0.2064 - acc: 0.9474 - precision: nan - recall: 0.0000e+00 - f1_score: n - ETA: 3:00:39 - loss: 0.2064 - acc: 0.9474 - precision: nan - recall: 0.0000e+00 - f1_score: n - ETA: 3:00:36 - loss: 0.2064 - acc: 0.9474 - precision: nan - recall: 0.0000e+00 - f1_score: n - ETA: 3:00:33 - loss: 0.2064 - acc: 0.9474 - precision: nan - recall: 0.0000e+00 - f1_score: n - ETA: 3:00:30 - loss: 0.2064 - acc: 0.9474 - precision: nan - recall: 0.0000e+00 - f1_score: n - ETA: 3:00:26 - loss: 0.2064 - acc: 0.9474 - precision: nan - recall: 0.0000e+00 - f1_score: n - ETA: 3:00:23 - loss: 0.2064 - acc: 0.9474 - precision: nan - recall: 0.0000e+00 - f1_score: n - ETA: 3:00:20 - loss: 0.2064 - acc: 0.9474 - precision: nan - recall: 0.0000e+00 - f1_score: n - ETA: 3:00:17 - loss: 0.2064 - acc: 0.9474 - precision: nan - recall: 0.0000e+00 - f1_score: n - ETA: 3:00:14 - loss: 0.2064 - acc: 0.9474 - precision: nan - recall: 0.0000e+00 - f1_score: n - ETA: 3:00:11 - loss: 0.2064 - acc: 0.9474 - precision: nan - recall: 0.0000e+00 - f1_score: n - ETA: 3:00:08 - loss: 0.2064 - acc: 0.9474 - precision: nan - recall: 0.0000e+00 - f1_score: n - ETA: 3:00:05 - loss: 0.2064 - acc: 0.9474 - precision: nan - recall: 0.0000e+00 - f1_score: n - ETA: 3:00:02 - loss: 0.2064 - acc: 0.9474 - precision: nan - recall: 0.0000e+00 - f1_score: n - ETA: 2:59:58 - loss: 0.2064 - acc: 0.9474 - precision: nan - recall: 0.0000e+00 - f1_score: n - ETA: 2:59:55 - loss: 0.2064 - acc: 0.9474 - precision: nan - recall: 0.0000e+00 - f1_score: n - ETA: 2:59:52 - loss: 0.2064 - acc: 0.9474 - precision: nan - recall: 0.0000e+00 - f1_score: n - ETA: 2:59:49 - loss: 0.2064 - acc: 0.9474 - precision: nan - recall: 0.0000e+00 - f1_score: n - ETA: 2:59:46 - loss: 0.2064 - acc: 0.9474 - precision: nan - recall: 0.0000e+00 - f1_score: n - ETA: 2:59:43 - loss: 0.2064 - acc: 0.9474 - precision: nan - recall: 0.0000e+00 - f1_score: n - ETA: 2:59:40 - loss: 0.2064 - acc: 0.9474 - precision: nan - recall: 0.0000e+00 - f1_score: n - ETA: 2:59:36 - loss: 0.2064 - acc: 0.9474 - precision: nan - recall: 0.0000e+00 - f1_score: n - ETA: 2:59:33 - loss: 0.2064 - acc: 0.9474 - precision: nan - recall: 0.0000e+00 - f1_score: n - ETA: 2:59:30 - loss: 0.2064 - acc: 0.9474 - precision: nan - recall: 0.0000e+00 - f1_score: n - ETA: 2:59:27 - loss: 0.2064 - acc: 0.9474 - precision: nan - recall: 0.0000e+00 - f1_score: n - ETA: 2:59:24 - loss: 0.2064 - acc: 0.9474 - precision: nan - recall: 0.0000e+00 - f1_score: n - ETA: 2:59:21 - loss: 0.2064 - acc: 0.9474 - precision: nan - recall: 0.0000e+00 - f1_score: n - ETA: 2:59:18 - loss: 0.2064 - acc: 0.9474 - precision: nan - recall: 0.0000e+00 - f1_score: n - ETA: 2:59:15 - loss: 0.2064 - acc: 0.9474 - precision: nan - recall: 0.0000e+00 - f1_score: n - ETA: 2:59:11 - loss: 0.2064 - acc: 0.9474 - precision: nan - recall: 0.0000e+00 - f1_score: n - ETA: 2:59:08 - loss: 0.2064 - acc: 0.9474 - precision: nan - recall: 0.0000e+00 - f1_score: n - ETA: 2:59:05 - loss: 0.2064 - acc: 0.9474 - precision: nan - recall: 0.0000e+00 - f1_score: n - ETA: 2:59:02 - loss: 0.2064 - acc: 0.9474 - precision: nan - recall: 0.0000e+00 - f1_score: n - ETA: 2:58:59 - loss: 0.2064 - acc: 0.9474 - precision: nan - recall: 0.0000e+00 - f1_score: n - ETA: 2:58:56 - loss: 0.2064 - acc: 0.9474 - precision: nan - recall: 0.0000e+00 - f1_score: n - ETA: 2:58:53 - loss: 0.2064 - acc: 0.9474 - precision: nan - recall: 0.0000e+00 - f1_score: n - ETA: 2:58:50 - loss: 0.2064 - acc: 0.9474 - precision: nan - recall: 0.0000e+00 - f1_score: n - ETA: 2:58:47 - loss: 0.2064 - acc: 0.9474 - precision: nan - recall: 0.0000e+00 - f1_score: n - ETA: 2:58:44 - loss: 0.2064 - acc: 0.9474 - precision: nan - recall: 0.0000e+00 - f1_score: n - ETA: 2:58:41 - loss: 0.2064 - acc: 0.9474 - precision: nan - recall: 0.0000e+00 - f1_score: n - ETA: 2:58:38 - loss: 0.2064 - acc: 0.9474 - precision: nan - recall: 0.0000e+00 - f1_score: n - ETA: 2:58:34 - loss: 0.2064 - acc: 0.9474 - precision: nan - recall: 0.0000e+00 - f1_score: n - ETA: 2:58:31 - loss: 0.2064 - acc: 0.9474 - precision: nan - recall: 0.0000e+00 - f1_score: n - ETA: 2:58:28 - loss: 0.2064 - acc: 0.9474 - precision: nan - recall: 0.0000e+00 - f1_score: n - ETA: 2:58:25 - loss: 0.2064 - acc: 0.9474 - precision: nan - recall: 0.0000e+00 - f1_score: n - ETA: 2:58:22 - loss: 0.2064 - acc: 0.9474 - precision: nan - recall: 0.0000e+00 - f1_score: n - ETA: 2:58:19 - loss: 0.2064 - acc: 0.9474 - precision: nan - recall: 0.0000e+00 - f1_score: n - ETA: 2:58:16 - loss: 0.2064 - acc: 0.9474 - precision: nan - recall: 0.0000e+00 - f1_score: n - ETA: 2:58:13 - loss: 0.2064 - acc: 0.9474 - precision: nan - recall: 0.0000e+00 - f1_score: n - ETA: 2:58:10 - loss: 0.2064 - acc: 0.9474 - precision: nan - recall: 0.0000e+00 - f1_score: nan"
     ]
    },
    {
     "name": "stdout",
     "output_type": "stream",
     "text": [
      " 340/3947 [=>............................] - ETA: 2:58:07 - loss: 0.2064 - acc: 0.9474 - precision: nan - recall: 0.0000e+00 - f1_score: n - ETA: 2:58:04 - loss: 0.2064 - acc: 0.9474 - precision: nan - recall: 0.0000e+00 - f1_score: n - ETA: 2:58:01 - loss: 0.2064 - acc: 0.9474 - precision: nan - recall: 0.0000e+00 - f1_score: n - ETA: 2:57:58 - loss: 0.2064 - acc: 0.9474 - precision: nan - recall: 0.0000e+00 - f1_score: n - ETA: 2:57:55 - loss: 0.2064 - acc: 0.9474 - precision: nan - recall: 0.0000e+00 - f1_score: n - ETA: 2:57:52 - loss: 0.2064 - acc: 0.9474 - precision: nan - recall: 0.0000e+00 - f1_score: n - ETA: 2:57:49 - loss: 0.2064 - acc: 0.9474 - precision: nan - recall: 0.0000e+00 - f1_score: n - ETA: 2:57:46 - loss: 0.2064 - acc: 0.9474 - precision: nan - recall: 0.0000e+00 - f1_score: n - ETA: 2:57:43 - loss: 0.2064 - acc: 0.9474 - precision: nan - recall: 0.0000e+00 - f1_score: n - ETA: 2:57:40 - loss: 0.2064 - acc: 0.9474 - precision: nan - recall: 0.0000e+00 - f1_score: n - ETA: 2:57:37 - loss: 0.2064 - acc: 0.9474 - precision: nan - recall: 0.0000e+00 - f1_score: n - ETA: 2:57:34 - loss: 0.2064 - acc: 0.9474 - precision: nan - recall: 0.0000e+00 - f1_score: n - ETA: 2:57:31 - loss: 0.2064 - acc: 0.9474 - precision: nan - recall: 0.0000e+00 - f1_score: n - ETA: 2:57:28 - loss: 0.2064 - acc: 0.9474 - precision: nan - recall: 0.0000e+00 - f1_score: n - ETA: 2:57:25 - loss: 0.2064 - acc: 0.9474 - precision: nan - recall: 0.0000e+00 - f1_score: n - ETA: 2:57:21 - loss: 0.2064 - acc: 0.9474 - precision: nan - recall: 0.0000e+00 - f1_score: n - ETA: 2:57:18 - loss: 0.2064 - acc: 0.9474 - precision: nan - recall: 0.0000e+00 - f1_score: n - ETA: 2:57:15 - loss: 0.2064 - acc: 0.9474 - precision: nan - recall: 0.0000e+00 - f1_score: n - ETA: 2:57:12 - loss: 0.2064 - acc: 0.9474 - precision: nan - recall: 0.0000e+00 - f1_score: n - ETA: 2:57:09 - loss: 0.2064 - acc: 0.9474 - precision: nan - recall: 0.0000e+00 - f1_score: n - ETA: 2:57:06 - loss: 0.2064 - acc: 0.9474 - precision: nan - recall: 0.0000e+00 - f1_score: n - ETA: 2:57:03 - loss: 0.2064 - acc: 0.9474 - precision: nan - recall: 0.0000e+00 - f1_score: n - ETA: 2:57:00 - loss: 0.2064 - acc: 0.9474 - precision: nan - recall: 0.0000e+00 - f1_score: n - ETA: 2:56:57 - loss: 0.2064 - acc: 0.9474 - precision: nan - recall: 0.0000e+00 - f1_score: n - ETA: 2:56:54 - loss: 0.2064 - acc: 0.9474 - precision: nan - recall: 0.0000e+00 - f1_score: n - ETA: 2:56:51 - loss: 0.2064 - acc: 0.9474 - precision: nan - recall: 0.0000e+00 - f1_score: n - ETA: 2:56:48 - loss: 0.2064 - acc: 0.9474 - precision: nan - recall: 0.0000e+00 - f1_score: n - ETA: 2:56:45 - loss: 0.2064 - acc: 0.9474 - precision: nan - recall: 0.0000e+00 - f1_score: n - ETA: 2:56:42 - loss: 0.2064 - acc: 0.9474 - precision: nan - recall: 0.0000e+00 - f1_score: n - ETA: 2:56:39 - loss: 0.2064 - acc: 0.9474 - precision: nan - recall: 0.0000e+00 - f1_score: n - ETA: 2:56:36 - loss: 0.2064 - acc: 0.9474 - precision: nan - recall: 0.0000e+00 - f1_score: n - ETA: 2:56:33 - loss: 0.2064 - acc: 0.9474 - precision: nan - recall: 0.0000e+00 - f1_score: n - ETA: 2:56:30 - loss: 0.2064 - acc: 0.9474 - precision: nan - recall: 0.0000e+00 - f1_score: n - ETA: 2:56:26 - loss: 0.2064 - acc: 0.9474 - precision: nan - recall: 0.0000e+00 - f1_score: n - ETA: 2:56:24 - loss: 0.2064 - acc: 0.9474 - precision: nan - recall: 0.0000e+00 - f1_score: n - ETA: 2:56:20 - loss: 0.2064 - acc: 0.9474 - precision: nan - recall: 0.0000e+00 - f1_score: n - ETA: 2:56:17 - loss: 0.2064 - acc: 0.9474 - precision: nan - recall: 0.0000e+00 - f1_score: n - ETA: 2:56:14 - loss: 0.2064 - acc: 0.9474 - precision: nan - recall: 0.0000e+00 - f1_score: n - ETA: 2:56:12 - loss: 0.2064 - acc: 0.9474 - precision: nan - recall: 0.0000e+00 - f1_score: n - ETA: 2:56:09 - loss: 0.2064 - acc: 0.9474 - precision: nan - recall: 0.0000e+00 - f1_score: n - ETA: 2:56:06 - loss: 0.2064 - acc: 0.9474 - precision: nan - recall: 0.0000e+00 - f1_score: n - ETA: 2:56:03 - loss: 0.2064 - acc: 0.9474 - precision: nan - recall: 0.0000e+00 - f1_score: n - ETA: 2:56:00 - loss: 0.2064 - acc: 0.9474 - precision: nan - recall: 0.0000e+00 - f1_score: n - ETA: 2:55:57 - loss: 0.2064 - acc: 0.9474 - precision: nan - recall: 0.0000e+00 - f1_score: n - ETA: 2:55:54 - loss: 0.2064 - acc: 0.9474 - precision: nan - recall: 0.0000e+00 - f1_score: n - ETA: 2:55:51 - loss: 0.2064 - acc: 0.9474 - precision: nan - recall: 0.0000e+00 - f1_score: n - ETA: 2:55:48 - loss: 0.2064 - acc: 0.9474 - precision: nan - recall: 0.0000e+00 - f1_score: n - ETA: 2:55:45 - loss: 0.2064 - acc: 0.9474 - precision: nan - recall: 0.0000e+00 - f1_score: n - ETA: 2:55:42 - loss: 0.2064 - acc: 0.9474 - precision: nan - recall: 0.0000e+00 - f1_score: n - ETA: 2:55:39 - loss: 0.2064 - acc: 0.9474 - precision: nan - recall: 0.0000e+00 - f1_score: n - ETA: 2:55:36 - loss: 0.2064 - acc: 0.9474 - precision: nan - recall: 0.0000e+00 - f1_score: n - ETA: 2:55:33 - loss: 0.2064 - acc: 0.9474 - precision: nan - recall: 0.0000e+00 - f1_score: n - ETA: 2:55:30 - loss: 0.2064 - acc: 0.9474 - precision: nan - recall: 0.0000e+00 - f1_score: n - ETA: 2:55:27 - loss: 0.2064 - acc: 0.9474 - precision: nan - recall: 0.0000e+00 - f1_score: n - ETA: 2:55:24 - loss: 0.2064 - acc: 0.9474 - precision: nan - recall: 0.0000e+00 - f1_score: n - ETA: 2:55:21 - loss: 0.2065 - acc: 0.9474 - precision: nan - recall: 0.0000e+00 - f1_score: n - ETA: 2:55:18 - loss: 0.2064 - acc: 0.9474 - precision: nan - recall: 0.0000e+00 - f1_score: n - ETA: 2:55:14 - loss: 0.2064 - acc: 0.9474 - precision: nan - recall: 0.0000e+00 - f1_score: n - ETA: 2:55:11 - loss: 0.2064 - acc: 0.9474 - precision: nan - recall: 0.0000e+00 - f1_score: n - ETA: 2:55:08 - loss: 0.2064 - acc: 0.9474 - precision: nan - recall: 0.0000e+00 - f1_score: n - ETA: 2:55:05 - loss: 0.2065 - acc: 0.9474 - precision: nan - recall: 0.0000e+00 - f1_score: n - ETA: 2:55:02 - loss: 0.2065 - acc: 0.9474 - precision: nan - recall: 0.0000e+00 - f1_score: n - ETA: 2:54:59 - loss: 0.2065 - acc: 0.9474 - precision: nan - recall: 0.0000e+00 - f1_score: n - ETA: 2:54:56 - loss: 0.2064 - acc: 0.9474 - precision: nan - recall: 0.0000e+00 - f1_score: n - ETA: 2:54:53 - loss: 0.2064 - acc: 0.9474 - precision: nan - recall: 0.0000e+00 - f1_score: n - ETA: 2:54:50 - loss: 0.2065 - acc: 0.9474 - precision: nan - recall: 0.0000e+00 - f1_score: n - ETA: 2:54:47 - loss: 0.2065 - acc: 0.9474 - precision: nan - recall: 0.0000e+00 - f1_score: n - ETA: 2:54:44 - loss: 0.2065 - acc: 0.9474 - precision: nan - recall: 0.0000e+00 - f1_score: n - ETA: 2:54:41 - loss: 0.2065 - acc: 0.9474 - precision: nan - recall: 0.0000e+00 - f1_score: n - ETA: 2:54:38 - loss: 0.2065 - acc: 0.9474 - precision: nan - recall: 0.0000e+00 - f1_score: n - ETA: 2:54:35 - loss: 0.2065 - acc: 0.9474 - precision: nan - recall: 0.0000e+00 - f1_score: n - ETA: 2:54:32 - loss: 0.2065 - acc: 0.9474 - precision: nan - recall: 0.0000e+00 - f1_score: n - ETA: 2:54:29 - loss: 0.2065 - acc: 0.9474 - precision: nan - recall: 0.0000e+00 - f1_score: n - ETA: 2:54:26 - loss: 0.2065 - acc: 0.9474 - precision: nan - recall: 0.0000e+00 - f1_score: n - ETA: 2:54:23 - loss: 0.2065 - acc: 0.9474 - precision: nan - recall: 0.0000e+00 - f1_score: n - ETA: 2:54:20 - loss: 0.2065 - acc: 0.9474 - precision: nan - recall: 0.0000e+00 - f1_score: n - ETA: 2:54:17 - loss: 0.2065 - acc: 0.9474 - precision: nan - recall: 0.0000e+00 - f1_score: n - ETA: 2:54:14 - loss: 0.2065 - acc: 0.9474 - precision: nan - recall: 0.0000e+00 - f1_score: n - ETA: 2:54:11 - loss: 0.2065 - acc: 0.9474 - precision: nan - recall: 0.0000e+00 - f1_score: n - ETA: 2:54:08 - loss: 0.2065 - acc: 0.9474 - precision: nan - recall: 0.0000e+00 - f1_score: n - ETA: 2:54:05 - loss: 0.2065 - acc: 0.9474 - precision: nan - recall: 0.0000e+00 - f1_score: n - ETA: 2:54:02 - loss: 0.2065 - acc: 0.9474 - precision: nan - recall: 0.0000e+00 - f1_score: n - ETA: 2:53:59 - loss: 0.2065 - acc: 0.9474 - precision: nan - recall: 0.0000e+00 - f1_score: n - ETA: 2:53:56 - loss: 0.2065 - acc: 0.9474 - precision: nan - recall: 0.0000e+00 - f1_score: n - ETA: 2:53:53 - loss: 0.2065 - acc: 0.9474 - precision: nan - recall: 0.0000e+00 - f1_score: nan"
     ]
    },
    {
     "name": "stdout",
     "output_type": "stream",
     "text": [
      " 425/3947 [==>...........................] - ETA: 2:53:50 - loss: 0.2065 - acc: 0.9474 - precision: nan - recall: 0.0000e+00 - f1_score: n - ETA: 2:53:47 - loss: 0.2065 - acc: 0.9474 - precision: nan - recall: 0.0000e+00 - f1_score: n - ETA: 2:53:44 - loss: 0.2065 - acc: 0.9474 - precision: nan - recall: 0.0000e+00 - f1_score: n - ETA: 2:53:41 - loss: 0.2065 - acc: 0.9474 - precision: nan - recall: 0.0000e+00 - f1_score: n - ETA: 2:53:38 - loss: 0.2065 - acc: 0.9474 - precision: nan - recall: 0.0000e+00 - f1_score: n - ETA: 2:53:35 - loss: 0.2065 - acc: 0.9474 - precision: nan - recall: 0.0000e+00 - f1_score: n - ETA: 2:53:32 - loss: 0.2065 - acc: 0.9474 - precision: nan - recall: 0.0000e+00 - f1_score: n - ETA: 2:53:29 - loss: 0.2065 - acc: 0.9474 - precision: nan - recall: 0.0000e+00 - f1_score: n - ETA: 2:53:26 - loss: 0.2065 - acc: 0.9474 - precision: nan - recall: 0.0000e+00 - f1_score: n - ETA: 2:53:23 - loss: 0.2065 - acc: 0.9474 - precision: nan - recall: 0.0000e+00 - f1_score: n - ETA: 2:53:20 - loss: 0.2065 - acc: 0.9474 - precision: nan - recall: 0.0000e+00 - f1_score: n - ETA: 2:53:17 - loss: 0.2065 - acc: 0.9474 - precision: nan - recall: 0.0000e+00 - f1_score: n - ETA: 2:53:14 - loss: 0.2065 - acc: 0.9474 - precision: nan - recall: 0.0000e+00 - f1_score: n - ETA: 2:53:11 - loss: 0.2065 - acc: 0.9474 - precision: nan - recall: 0.0000e+00 - f1_score: n - ETA: 2:53:08 - loss: 0.2065 - acc: 0.9474 - precision: nan - recall: 0.0000e+00 - f1_score: n - ETA: 2:53:05 - loss: 0.2065 - acc: 0.9474 - precision: nan - recall: 0.0000e+00 - f1_score: n - ETA: 2:53:02 - loss: 0.2065 - acc: 0.9474 - precision: nan - recall: 0.0000e+00 - f1_score: n - ETA: 2:52:59 - loss: 0.2065 - acc: 0.9474 - precision: nan - recall: 0.0000e+00 - f1_score: n - ETA: 2:52:56 - loss: 0.2065 - acc: 0.9474 - precision: nan - recall: 0.0000e+00 - f1_score: n - ETA: 2:52:53 - loss: 0.2065 - acc: 0.9474 - precision: nan - recall: 0.0000e+00 - f1_score: n - ETA: 2:52:51 - loss: 0.2065 - acc: 0.9474 - precision: nan - recall: 0.0000e+00 - f1_score: n - ETA: 2:52:48 - loss: 0.2065 - acc: 0.9474 - precision: nan - recall: 0.0000e+00 - f1_score: n - ETA: 2:52:45 - loss: 0.2065 - acc: 0.9474 - precision: nan - recall: 0.0000e+00 - f1_score: n - ETA: 2:52:42 - loss: 0.2065 - acc: 0.9474 - precision: nan - recall: 0.0000e+00 - f1_score: n - ETA: 2:52:39 - loss: 0.2065 - acc: 0.9474 - precision: nan - recall: 0.0000e+00 - f1_score: n - ETA: 2:52:36 - loss: 0.2065 - acc: 0.9474 - precision: nan - recall: 0.0000e+00 - f1_score: n - ETA: 2:52:33 - loss: 0.2065 - acc: 0.9474 - precision: nan - recall: 0.0000e+00 - f1_score: n - ETA: 2:52:30 - loss: 0.2065 - acc: 0.9474 - precision: nan - recall: 0.0000e+00 - f1_score: n - ETA: 2:52:27 - loss: 0.2065 - acc: 0.9474 - precision: nan - recall: 0.0000e+00 - f1_score: n - ETA: 2:52:24 - loss: 0.2065 - acc: 0.9474 - precision: nan - recall: 0.0000e+00 - f1_score: n - ETA: 2:52:21 - loss: 0.2065 - acc: 0.9474 - precision: nan - recall: 0.0000e+00 - f1_score: n - ETA: 2:52:18 - loss: 0.2065 - acc: 0.9474 - precision: nan - recall: 0.0000e+00 - f1_score: n - ETA: 2:52:15 - loss: 0.2065 - acc: 0.9474 - precision: nan - recall: 0.0000e+00 - f1_score: n - ETA: 2:52:12 - loss: 0.2065 - acc: 0.9474 - precision: nan - recall: 0.0000e+00 - f1_score: n - ETA: 2:52:09 - loss: 0.2065 - acc: 0.9474 - precision: nan - recall: 0.0000e+00 - f1_score: n - ETA: 2:52:06 - loss: 0.2065 - acc: 0.9474 - precision: nan - recall: 0.0000e+00 - f1_score: n - ETA: 2:52:03 - loss: 0.2065 - acc: 0.9474 - precision: nan - recall: 0.0000e+00 - f1_score: n - ETA: 2:52:00 - loss: 0.2065 - acc: 0.9474 - precision: nan - recall: 0.0000e+00 - f1_score: n - ETA: 2:51:57 - loss: 0.2065 - acc: 0.9474 - precision: nan - recall: 0.0000e+00 - f1_score: n - ETA: 2:51:54 - loss: 0.2065 - acc: 0.9474 - precision: nan - recall: 0.0000e+00 - f1_score: n - ETA: 2:51:51 - loss: 0.2065 - acc: 0.9474 - precision: nan - recall: 0.0000e+00 - f1_score: n - ETA: 2:51:48 - loss: 0.2065 - acc: 0.9474 - precision: nan - recall: 0.0000e+00 - f1_score: n - ETA: 2:51:45 - loss: 0.2065 - acc: 0.9474 - precision: nan - recall: 0.0000e+00 - f1_score: n - ETA: 2:51:42 - loss: 0.2065 - acc: 0.9474 - precision: nan - recall: 0.0000e+00 - f1_score: n - ETA: 2:51:39 - loss: 0.2065 - acc: 0.9474 - precision: nan - recall: 0.0000e+00 - f1_score: n - ETA: 2:51:36 - loss: 0.2065 - acc: 0.9474 - precision: nan - recall: 0.0000e+00 - f1_score: n - ETA: 2:51:33 - loss: 0.2065 - acc: 0.9474 - precision: nan - recall: 0.0000e+00 - f1_score: n - ETA: 2:51:30 - loss: 0.2065 - acc: 0.9474 - precision: nan - recall: 0.0000e+00 - f1_score: n - ETA: 2:51:27 - loss: 0.2065 - acc: 0.9474 - precision: nan - recall: 0.0000e+00 - f1_score: n - ETA: 2:51:24 - loss: 0.2065 - acc: 0.9474 - precision: nan - recall: 0.0000e+00 - f1_score: n - ETA: 2:51:22 - loss: 0.2065 - acc: 0.9474 - precision: nan - recall: 0.0000e+00 - f1_score: n - ETA: 2:51:19 - loss: 0.2065 - acc: 0.9474 - precision: nan - recall: 0.0000e+00 - f1_score: n - ETA: 2:51:16 - loss: 0.2065 - acc: 0.9474 - precision: nan - recall: 0.0000e+00 - f1_score: n - ETA: 2:51:13 - loss: 0.2065 - acc: 0.9474 - precision: nan - recall: 0.0000e+00 - f1_score: n - ETA: 2:51:10 - loss: 0.2065 - acc: 0.9474 - precision: nan - recall: 0.0000e+00 - f1_score: n - ETA: 2:51:07 - loss: 0.2065 - acc: 0.9474 - precision: nan - recall: 0.0000e+00 - f1_score: n - ETA: 2:51:04 - loss: 0.2065 - acc: 0.9474 - precision: nan - recall: 0.0000e+00 - f1_score: n - ETA: 2:51:01 - loss: 0.2065 - acc: 0.9474 - precision: nan - recall: 0.0000e+00 - f1_score: n - ETA: 2:50:58 - loss: 0.2065 - acc: 0.9474 - precision: nan - recall: 0.0000e+00 - f1_score: n - ETA: 2:50:55 - loss: 0.2065 - acc: 0.9474 - precision: nan - recall: 0.0000e+00 - f1_score: n - ETA: 2:50:52 - loss: 0.2065 - acc: 0.9474 - precision: nan - recall: 0.0000e+00 - f1_score: n - ETA: 2:50:49 - loss: 0.2065 - acc: 0.9474 - precision: nan - recall: 0.0000e+00 - f1_score: n - ETA: 2:50:46 - loss: 0.2065 - acc: 0.9474 - precision: nan - recall: 0.0000e+00 - f1_score: n - ETA: 2:50:43 - loss: 0.2065 - acc: 0.9474 - precision: nan - recall: 0.0000e+00 - f1_score: n - ETA: 2:50:40 - loss: 0.2065 - acc: 0.9474 - precision: nan - recall: 0.0000e+00 - f1_score: n - ETA: 2:50:37 - loss: 0.2065 - acc: 0.9474 - precision: nan - recall: 0.0000e+00 - f1_score: n - ETA: 2:50:34 - loss: 0.2065 - acc: 0.9474 - precision: nan - recall: 0.0000e+00 - f1_score: n - ETA: 2:50:31 - loss: 0.2065 - acc: 0.9474 - precision: nan - recall: 0.0000e+00 - f1_score: n - ETA: 2:50:28 - loss: 0.2065 - acc: 0.9474 - precision: nan - recall: 0.0000e+00 - f1_score: n - ETA: 2:50:25 - loss: 0.2065 - acc: 0.9474 - precision: nan - recall: 0.0000e+00 - f1_score: n - ETA: 2:50:22 - loss: 0.2065 - acc: 0.9474 - precision: nan - recall: 0.0000e+00 - f1_score: n - ETA: 2:50:19 - loss: 0.2065 - acc: 0.9474 - precision: nan - recall: 0.0000e+00 - f1_score: n - ETA: 2:50:17 - loss: 0.2065 - acc: 0.9474 - precision: nan - recall: 0.0000e+00 - f1_score: n - ETA: 2:50:14 - loss: 0.2065 - acc: 0.9474 - precision: nan - recall: 0.0000e+00 - f1_score: n - ETA: 2:50:11 - loss: 0.2065 - acc: 0.9474 - precision: nan - recall: 0.0000e+00 - f1_score: n - ETA: 2:50:08 - loss: 0.2065 - acc: 0.9474 - precision: nan - recall: 0.0000e+00 - f1_score: n - ETA: 2:50:05 - loss: 0.2065 - acc: 0.9474 - precision: nan - recall: 0.0000e+00 - f1_score: n - ETA: 2:50:02 - loss: 0.2065 - acc: 0.9474 - precision: nan - recall: 0.0000e+00 - f1_score: n - ETA: 2:49:59 - loss: 0.2065 - acc: 0.9474 - precision: nan - recall: 0.0000e+00 - f1_score: n - ETA: 2:49:56 - loss: 0.2065 - acc: 0.9474 - precision: nan - recall: 0.0000e+00 - f1_score: n - ETA: 2:49:53 - loss: 0.2065 - acc: 0.9474 - precision: nan - recall: 0.0000e+00 - f1_score: n - ETA: 2:49:50 - loss: 0.2065 - acc: 0.9474 - precision: nan - recall: 0.0000e+00 - f1_score: n - ETA: 2:49:47 - loss: 0.2065 - acc: 0.9474 - precision: nan - recall: 0.0000e+00 - f1_score: n - ETA: 2:49:44 - loss: 0.2065 - acc: 0.9474 - precision: nan - recall: 0.0000e+00 - f1_score: n - ETA: 2:49:41 - loss: 0.2065 - acc: 0.9474 - precision: nan - recall: 0.0000e+00 - f1_score: nan"
     ]
    },
    {
     "name": "stdout",
     "output_type": "stream",
     "text": [
      " 510/3947 [==>...........................] - ETA: 2:49:38 - loss: 0.2065 - acc: 0.9474 - precision: nan - recall: 0.0000e+00 - f1_score: n - ETA: 2:49:36 - loss: 0.2065 - acc: 0.9474 - precision: nan - recall: 0.0000e+00 - f1_score: n - ETA: 2:49:33 - loss: 0.2065 - acc: 0.9474 - precision: nan - recall: 0.0000e+00 - f1_score: n - ETA: 2:49:30 - loss: 0.2065 - acc: 0.9474 - precision: nan - recall: 0.0000e+00 - f1_score: n - ETA: 2:49:27 - loss: 0.2065 - acc: 0.9474 - precision: nan - recall: 0.0000e+00 - f1_score: n - ETA: 2:49:24 - loss: 0.2065 - acc: 0.9474 - precision: nan - recall: 0.0000e+00 - f1_score: n - ETA: 2:49:21 - loss: 0.2065 - acc: 0.9474 - precision: nan - recall: 0.0000e+00 - f1_score: n - ETA: 2:49:18 - loss: 0.2065 - acc: 0.9474 - precision: nan - recall: 0.0000e+00 - f1_score: n - ETA: 2:49:15 - loss: 0.2065 - acc: 0.9474 - precision: nan - recall: 0.0000e+00 - f1_score: n - ETA: 2:49:12 - loss: 0.2065 - acc: 0.9474 - precision: nan - recall: 0.0000e+00 - f1_score: n - ETA: 2:49:09 - loss: 0.2065 - acc: 0.9474 - precision: nan - recall: 0.0000e+00 - f1_score: n - ETA: 2:49:06 - loss: 0.2065 - acc: 0.9474 - precision: nan - recall: 0.0000e+00 - f1_score: n - ETA: 2:49:03 - loss: 0.2065 - acc: 0.9474 - precision: nan - recall: 0.0000e+00 - f1_score: n - ETA: 2:49:00 - loss: 0.2065 - acc: 0.9474 - precision: nan - recall: 0.0000e+00 - f1_score: n - ETA: 2:48:57 - loss: 0.2065 - acc: 0.9474 - precision: nan - recall: 0.0000e+00 - f1_score: n - ETA: 2:48:55 - loss: 0.2065 - acc: 0.9474 - precision: nan - recall: 0.0000e+00 - f1_score: n - ETA: 2:48:52 - loss: 0.2065 - acc: 0.9474 - precision: nan - recall: 0.0000e+00 - f1_score: n - ETA: 2:48:49 - loss: 0.2065 - acc: 0.9474 - precision: nan - recall: 0.0000e+00 - f1_score: n - ETA: 2:48:46 - loss: 0.2065 - acc: 0.9474 - precision: nan - recall: 0.0000e+00 - f1_score: n - ETA: 2:48:43 - loss: 0.2065 - acc: 0.9474 - precision: nan - recall: 0.0000e+00 - f1_score: n - ETA: 2:48:40 - loss: 0.2065 - acc: 0.9474 - precision: nan - recall: 0.0000e+00 - f1_score: n - ETA: 2:48:37 - loss: 0.2065 - acc: 0.9474 - precision: nan - recall: 0.0000e+00 - f1_score: n - ETA: 2:48:34 - loss: 0.2065 - acc: 0.9474 - precision: nan - recall: 0.0000e+00 - f1_score: n - ETA: 2:48:31 - loss: 0.2065 - acc: 0.9474 - precision: nan - recall: 0.0000e+00 - f1_score: n - ETA: 2:48:28 - loss: 0.2065 - acc: 0.9474 - precision: nan - recall: 0.0000e+00 - f1_score: n - ETA: 2:48:25 - loss: 0.2065 - acc: 0.9474 - precision: nan - recall: 0.0000e+00 - f1_score: n - ETA: 2:48:22 - loss: 0.2065 - acc: 0.9474 - precision: nan - recall: 0.0000e+00 - f1_score: n - ETA: 2:48:19 - loss: 0.2065 - acc: 0.9474 - precision: nan - recall: 0.0000e+00 - f1_score: n - ETA: 2:48:16 - loss: 0.2065 - acc: 0.9474 - precision: nan - recall: 0.0000e+00 - f1_score: n - ETA: 2:48:13 - loss: 0.2065 - acc: 0.9474 - precision: nan - recall: 0.0000e+00 - f1_score: n - ETA: 2:48:10 - loss: 0.2065 - acc: 0.9474 - precision: nan - recall: 0.0000e+00 - f1_score: n - ETA: 2:48:07 - loss: 0.2065 - acc: 0.9474 - precision: nan - recall: 0.0000e+00 - f1_score: n - ETA: 2:48:05 - loss: 0.2065 - acc: 0.9474 - precision: nan - recall: 0.0000e+00 - f1_score: n - ETA: 2:48:02 - loss: 0.2065 - acc: 0.9474 - precision: nan - recall: 0.0000e+00 - f1_score: n - ETA: 2:47:59 - loss: 0.2065 - acc: 0.9474 - precision: nan - recall: 0.0000e+00 - f1_score: n - ETA: 2:47:56 - loss: 0.2065 - acc: 0.9474 - precision: nan - recall: 0.0000e+00 - f1_score: n - ETA: 2:47:53 - loss: 0.2065 - acc: 0.9474 - precision: nan - recall: 0.0000e+00 - f1_score: n - ETA: 2:47:50 - loss: 0.2065 - acc: 0.9474 - precision: nan - recall: 0.0000e+00 - f1_score: n - ETA: 2:47:47 - loss: 0.2065 - acc: 0.9474 - precision: nan - recall: 0.0000e+00 - f1_score: n - ETA: 2:47:44 - loss: 0.2065 - acc: 0.9474 - precision: nan - recall: 0.0000e+00 - f1_score: n - ETA: 2:47:41 - loss: 0.2065 - acc: 0.9474 - precision: nan - recall: 0.0000e+00 - f1_score: n - ETA: 2:47:38 - loss: 0.2065 - acc: 0.9474 - precision: nan - recall: 0.0000e+00 - f1_score: n - ETA: 2:47:35 - loss: 0.2065 - acc: 0.9474 - precision: nan - recall: 0.0000e+00 - f1_score: n - ETA: 2:47:32 - loss: 0.2065 - acc: 0.9474 - precision: nan - recall: 0.0000e+00 - f1_score: n - ETA: 2:47:29 - loss: 0.2065 - acc: 0.9474 - precision: nan - recall: 0.0000e+00 - f1_score: n - ETA: 2:47:26 - loss: 0.2065 - acc: 0.9474 - precision: nan - recall: 0.0000e+00 - f1_score: n - ETA: 2:47:23 - loss: 0.2065 - acc: 0.9474 - precision: nan - recall: 0.0000e+00 - f1_score: n - ETA: 2:47:20 - loss: 0.2065 - acc: 0.9474 - precision: nan - recall: 0.0000e+00 - f1_score: n - ETA: 2:47:18 - loss: 0.2065 - acc: 0.9474 - precision: nan - recall: 0.0000e+00 - f1_score: n - ETA: 2:47:15 - loss: 0.2065 - acc: 0.9474 - precision: nan - recall: 0.0000e+00 - f1_score: n - ETA: 2:47:12 - loss: 0.2065 - acc: 0.9474 - precision: nan - recall: 0.0000e+00 - f1_score: n - ETA: 2:47:09 - loss: 0.2065 - acc: 0.9474 - precision: nan - recall: 0.0000e+00 - f1_score: n - ETA: 2:47:06 - loss: 0.2065 - acc: 0.9474 - precision: nan - recall: 0.0000e+00 - f1_score: n - ETA: 2:47:03 - loss: 0.2065 - acc: 0.9474 - precision: nan - recall: 0.0000e+00 - f1_score: n - ETA: 2:47:00 - loss: 0.2065 - acc: 0.9474 - precision: nan - recall: 0.0000e+00 - f1_score: n - ETA: 2:46:57 - loss: 0.2065 - acc: 0.9474 - precision: nan - recall: 0.0000e+00 - f1_score: n - ETA: 2:46:54 - loss: 0.2065 - acc: 0.9474 - precision: nan - recall: 0.0000e+00 - f1_score: n - ETA: 2:46:51 - loss: 0.2065 - acc: 0.9474 - precision: nan - recall: 0.0000e+00 - f1_score: n - ETA: 2:46:48 - loss: 0.2065 - acc: 0.9474 - precision: nan - recall: 0.0000e+00 - f1_score: n - ETA: 2:46:45 - loss: 0.2065 - acc: 0.9474 - precision: nan - recall: 0.0000e+00 - f1_score: n - ETA: 2:46:42 - loss: 0.2065 - acc: 0.9474 - precision: nan - recall: 0.0000e+00 - f1_score: n - ETA: 2:46:39 - loss: 0.2065 - acc: 0.9474 - precision: nan - recall: 0.0000e+00 - f1_score: n - ETA: 2:46:36 - loss: 0.2065 - acc: 0.9474 - precision: nan - recall: 0.0000e+00 - f1_score: n - ETA: 2:46:33 - loss: 0.2065 - acc: 0.9474 - precision: nan - recall: 0.0000e+00 - f1_score: n - ETA: 2:46:31 - loss: 0.2065 - acc: 0.9474 - precision: nan - recall: 0.0000e+00 - f1_score: n - ETA: 2:46:28 - loss: 0.2065 - acc: 0.9474 - precision: nan - recall: 0.0000e+00 - f1_score: n - ETA: 2:46:25 - loss: 0.2065 - acc: 0.9474 - precision: nan - recall: 0.0000e+00 - f1_score: n - ETA: 2:46:22 - loss: 0.2065 - acc: 0.9474 - precision: nan - recall: 0.0000e+00 - f1_score: n - ETA: 2:46:19 - loss: 0.2065 - acc: 0.9474 - precision: nan - recall: 0.0000e+00 - f1_score: n - ETA: 2:46:16 - loss: 0.2065 - acc: 0.9474 - precision: nan - recall: 0.0000e+00 - f1_score: n - ETA: 2:46:13 - loss: 0.2065 - acc: 0.9474 - precision: nan - recall: 0.0000e+00 - f1_score: n - ETA: 2:46:10 - loss: 0.2065 - acc: 0.9474 - precision: nan - recall: 0.0000e+00 - f1_score: n - ETA: 2:46:07 - loss: 0.2065 - acc: 0.9474 - precision: nan - recall: 0.0000e+00 - f1_score: n - ETA: 2:46:04 - loss: 0.2065 - acc: 0.9474 - precision: nan - recall: 0.0000e+00 - f1_score: n - ETA: 2:46:01 - loss: 0.2065 - acc: 0.9474 - precision: nan - recall: 0.0000e+00 - f1_score: n - ETA: 2:45:58 - loss: 0.2065 - acc: 0.9474 - precision: nan - recall: 0.0000e+00 - f1_score: n - ETA: 2:45:55 - loss: 0.2065 - acc: 0.9474 - precision: nan - recall: 0.0000e+00 - f1_score: n - ETA: 2:45:52 - loss: 0.2065 - acc: 0.9474 - precision: nan - recall: 0.0000e+00 - f1_score: n - ETA: 2:45:49 - loss: 0.2065 - acc: 0.9474 - precision: nan - recall: 0.0000e+00 - f1_score: n - ETA: 2:45:46 - loss: 0.2064 - acc: 0.9474 - precision: nan - recall: 0.0000e+00 - f1_score: n - ETA: 2:45:44 - loss: 0.2065 - acc: 0.9474 - precision: nan - recall: 0.0000e+00 - f1_score: n - ETA: 2:45:41 - loss: 0.2065 - acc: 0.9474 - precision: nan - recall: 0.0000e+00 - f1_score: n - ETA: 2:45:38 - loss: 0.2065 - acc: 0.9474 - precision: nan - recall: 0.0000e+00 - f1_score: n - ETA: 2:45:35 - loss: 0.2065 - acc: 0.9474 - precision: nan - recall: 0.0000e+00 - f1_score: n - ETA: 2:45:32 - loss: 0.2065 - acc: 0.9474 - precision: nan - recall: 0.0000e+00 - f1_score: nan"
     ]
    },
    {
     "name": "stdout",
     "output_type": "stream",
     "text": [
      " 595/3947 [===>..........................] - ETA: 2:45:29 - loss: 0.2065 - acc: 0.9474 - precision: nan - recall: 0.0000e+00 - f1_score: n - ETA: 2:45:26 - loss: 0.2065 - acc: 0.9474 - precision: nan - recall: 0.0000e+00 - f1_score: n - ETA: 2:45:23 - loss: 0.2065 - acc: 0.9474 - precision: nan - recall: 0.0000e+00 - f1_score: n - ETA: 2:45:20 - loss: 0.2065 - acc: 0.9474 - precision: nan - recall: 0.0000e+00 - f1_score: n - ETA: 2:45:17 - loss: 0.2065 - acc: 0.9474 - precision: nan - recall: 0.0000e+00 - f1_score: n - ETA: 2:45:14 - loss: 0.2065 - acc: 0.9474 - precision: nan - recall: 0.0000e+00 - f1_score: n - ETA: 2:45:11 - loss: 0.2065 - acc: 0.9474 - precision: nan - recall: 0.0000e+00 - f1_score: n - ETA: 2:45:08 - loss: 0.2065 - acc: 0.9474 - precision: nan - recall: 0.0000e+00 - f1_score: n - ETA: 2:45:05 - loss: 0.2064 - acc: 0.9474 - precision: nan - recall: 0.0000e+00 - f1_score: n - ETA: 2:45:03 - loss: 0.2065 - acc: 0.9474 - precision: nan - recall: 0.0000e+00 - f1_score: n - ETA: 2:45:00 - loss: 0.2065 - acc: 0.9474 - precision: nan - recall: 0.0000e+00 - f1_score: n - ETA: 2:44:57 - loss: 0.2065 - acc: 0.9474 - precision: nan - recall: 0.0000e+00 - f1_score: n - ETA: 2:44:54 - loss: 0.2065 - acc: 0.9474 - precision: nan - recall: 0.0000e+00 - f1_score: n - ETA: 2:44:51 - loss: 0.2065 - acc: 0.9474 - precision: nan - recall: 0.0000e+00 - f1_score: n - ETA: 2:44:48 - loss: 0.2065 - acc: 0.9474 - precision: nan - recall: 0.0000e+00 - f1_score: n - ETA: 2:44:45 - loss: 0.2064 - acc: 0.9474 - precision: nan - recall: 0.0000e+00 - f1_score: n - ETA: 2:44:42 - loss: 0.2065 - acc: 0.9474 - precision: nan - recall: 0.0000e+00 - f1_score: n - ETA: 2:44:39 - loss: 0.2064 - acc: 0.9474 - precision: nan - recall: 0.0000e+00 - f1_score: n - ETA: 2:44:36 - loss: 0.2065 - acc: 0.9474 - precision: nan - recall: 0.0000e+00 - f1_score: n - ETA: 2:44:33 - loss: 0.2064 - acc: 0.9474 - precision: nan - recall: 0.0000e+00 - f1_score: n - ETA: 2:44:30 - loss: 0.2064 - acc: 0.9474 - precision: nan - recall: 0.0000e+00 - f1_score: n - ETA: 2:44:27 - loss: 0.2064 - acc: 0.9474 - precision: nan - recall: 0.0000e+00 - f1_score: n - ETA: 2:44:24 - loss: 0.2064 - acc: 0.9474 - precision: nan - recall: 0.0000e+00 - f1_score: n - ETA: 2:44:22 - loss: 0.2064 - acc: 0.9474 - precision: nan - recall: 0.0000e+00 - f1_score: n - ETA: 2:44:19 - loss: 0.2064 - acc: 0.9474 - precision: nan - recall: 0.0000e+00 - f1_score: n - ETA: 2:44:16 - loss: 0.2064 - acc: 0.9474 - precision: nan - recall: 0.0000e+00 - f1_score: n - ETA: 2:44:13 - loss: 0.2064 - acc: 0.9474 - precision: nan - recall: 0.0000e+00 - f1_score: n - ETA: 2:44:10 - loss: 0.2064 - acc: 0.9474 - precision: nan - recall: 0.0000e+00 - f1_score: n - ETA: 2:44:07 - loss: 0.2064 - acc: 0.9474 - precision: nan - recall: 0.0000e+00 - f1_score: n - ETA: 2:44:04 - loss: 0.2064 - acc: 0.9474 - precision: nan - recall: 0.0000e+00 - f1_score: n - ETA: 2:44:01 - loss: 0.2064 - acc: 0.9474 - precision: nan - recall: 0.0000e+00 - f1_score: n - ETA: 2:43:58 - loss: 0.2064 - acc: 0.9474 - precision: nan - recall: 0.0000e+00 - f1_score: n - ETA: 2:43:55 - loss: 0.2064 - acc: 0.9474 - precision: nan - recall: 0.0000e+00 - f1_score: n - ETA: 2:43:52 - loss: 0.2064 - acc: 0.9474 - precision: nan - recall: 0.0000e+00 - f1_score: n - ETA: 2:43:49 - loss: 0.2064 - acc: 0.9474 - precision: nan - recall: 0.0000e+00 - f1_score: n - ETA: 2:43:47 - loss: 0.2064 - acc: 0.9474 - precision: nan - recall: 0.0000e+00 - f1_score: n - ETA: 2:43:44 - loss: 0.2064 - acc: 0.9474 - precision: nan - recall: 0.0000e+00 - f1_score: n - ETA: 2:43:41 - loss: 0.2064 - acc: 0.9474 - precision: nan - recall: 0.0000e+00 - f1_score: n - ETA: 2:43:38 - loss: 0.2064 - acc: 0.9474 - precision: nan - recall: 0.0000e+00 - f1_score: n - ETA: 2:43:35 - loss: 0.2064 - acc: 0.9474 - precision: nan - recall: 0.0000e+00 - f1_score: n - ETA: 2:43:32 - loss: 0.2064 - acc: 0.9474 - precision: nan - recall: 0.0000e+00 - f1_score: n - ETA: 2:43:29 - loss: 0.2064 - acc: 0.9474 - precision: nan - recall: 0.0000e+00 - f1_score: n - ETA: 2:43:26 - loss: 0.2064 - acc: 0.9474 - precision: nan - recall: 0.0000e+00 - f1_score: n - ETA: 2:43:23 - loss: 0.2064 - acc: 0.9474 - precision: nan - recall: 0.0000e+00 - f1_score: n - ETA: 2:43:20 - loss: 0.2064 - acc: 0.9474 - precision: nan - recall: 0.0000e+00 - f1_score: n - ETA: 2:43:17 - loss: 0.2064 - acc: 0.9474 - precision: nan - recall: 0.0000e+00 - f1_score: n - ETA: 2:43:15 - loss: 0.2064 - acc: 0.9474 - precision: nan - recall: 0.0000e+00 - f1_score: n - ETA: 2:43:12 - loss: 0.2064 - acc: 0.9474 - precision: nan - recall: 0.0000e+00 - f1_score: n - ETA: 2:43:09 - loss: 0.2064 - acc: 0.9474 - precision: nan - recall: 0.0000e+00 - f1_score: n - ETA: 2:43:06 - loss: 0.2064 - acc: 0.9474 - precision: nan - recall: 0.0000e+00 - f1_score: n - ETA: 2:43:03 - loss: 0.2064 - acc: 0.9474 - precision: nan - recall: 0.0000e+00 - f1_score: n - ETA: 2:43:00 - loss: 0.2064 - acc: 0.9474 - precision: nan - recall: 0.0000e+00 - f1_score: n - ETA: 2:42:57 - loss: 0.2064 - acc: 0.9474 - precision: nan - recall: 0.0000e+00 - f1_score: n - ETA: 2:42:54 - loss: 0.2064 - acc: 0.9474 - precision: nan - recall: 0.0000e+00 - f1_score: n - ETA: 2:42:51 - loss: 0.2064 - acc: 0.9474 - precision: nan - recall: 0.0000e+00 - f1_score: n - ETA: 2:42:48 - loss: 0.2064 - acc: 0.9474 - precision: nan - recall: 0.0000e+00 - f1_score: n - ETA: 2:42:45 - loss: 0.2064 - acc: 0.9474 - precision: nan - recall: 0.0000e+00 - f1_score: n - ETA: 2:42:42 - loss: 0.2064 - acc: 0.9474 - precision: nan - recall: 0.0000e+00 - f1_score: n - ETA: 2:42:39 - loss: 0.2064 - acc: 0.9474 - precision: nan - recall: 0.0000e+00 - f1_score: n - ETA: 2:42:36 - loss: 0.2064 - acc: 0.9474 - precision: nan - recall: 0.0000e+00 - f1_score: n - ETA: 2:42:34 - loss: 0.2064 - acc: 0.9474 - precision: nan - recall: 0.0000e+00 - f1_score: n - ETA: 2:42:31 - loss: 0.2064 - acc: 0.9474 - precision: nan - recall: 0.0000e+00 - f1_score: n - ETA: 2:42:28 - loss: 0.2064 - acc: 0.9474 - precision: nan - recall: 0.0000e+00 - f1_score: n - ETA: 2:42:25 - loss: 0.2064 - acc: 0.9474 - precision: nan - recall: 0.0000e+00 - f1_score: n - ETA: 2:42:22 - loss: 0.2064 - acc: 0.9474 - precision: nan - recall: 0.0000e+00 - f1_score: n - ETA: 2:42:19 - loss: 0.2064 - acc: 0.9474 - precision: nan - recall: 0.0000e+00 - f1_score: n - ETA: 2:42:16 - loss: 0.2064 - acc: 0.9474 - precision: nan - recall: 0.0000e+00 - f1_score: n - ETA: 2:42:13 - loss: 0.2064 - acc: 0.9474 - precision: nan - recall: 0.0000e+00 - f1_score: n - ETA: 2:42:10 - loss: 0.2064 - acc: 0.9474 - precision: nan - recall: 0.0000e+00 - f1_score: n - ETA: 2:42:07 - loss: 0.2064 - acc: 0.9474 - precision: nan - recall: 0.0000e+00 - f1_score: n - ETA: 2:42:04 - loss: 0.2064 - acc: 0.9474 - precision: nan - recall: 0.0000e+00 - f1_score: n - ETA: 2:42:01 - loss: 0.2064 - acc: 0.9474 - precision: nan - recall: 0.0000e+00 - f1_score: n - ETA: 2:41:58 - loss: 0.2064 - acc: 0.9474 - precision: nan - recall: 0.0000e+00 - f1_score: n - ETA: 2:41:55 - loss: 0.2064 - acc: 0.9474 - precision: nan - recall: 0.0000e+00 - f1_score: n - ETA: 2:41:52 - loss: 0.2064 - acc: 0.9474 - precision: nan - recall: 0.0000e+00 - f1_score: n - ETA: 2:41:50 - loss: 0.2064 - acc: 0.9474 - precision: nan - recall: 0.0000e+00 - f1_score: n - ETA: 2:41:47 - loss: 0.2064 - acc: 0.9474 - precision: nan - recall: 0.0000e+00 - f1_score: n - ETA: 2:41:44 - loss: 0.2064 - acc: 0.9474 - precision: nan - recall: 0.0000e+00 - f1_score: n - ETA: 2:41:41 - loss: 0.2064 - acc: 0.9474 - precision: nan - recall: 0.0000e+00 - f1_score: n - ETA: 2:41:38 - loss: 0.2064 - acc: 0.9474 - precision: nan - recall: 0.0000e+00 - f1_score: n - ETA: 2:41:35 - loss: 0.2064 - acc: 0.9474 - precision: nan - recall: 0.0000e+00 - f1_score: n - ETA: 2:41:32 - loss: 0.2064 - acc: 0.9474 - precision: nan - recall: 0.0000e+00 - f1_score: n - ETA: 2:41:30 - loss: 0.2064 - acc: 0.9474 - precision: nan - recall: 0.0000e+00 - f1_score: n - ETA: 2:41:27 - loss: 0.2064 - acc: 0.9474 - precision: nan - recall: 0.0000e+00 - f1_score: n - ETA: 2:41:24 - loss: 0.2064 - acc: 0.9474 - precision: nan - recall: 0.0000e+00 - f1_score: nan"
     ]
    },
    {
     "name": "stdout",
     "output_type": "stream",
     "text": [
      " 680/3947 [====>.........................] - ETA: 2:41:21 - loss: 0.2064 - acc: 0.9474 - precision: nan - recall: 0.0000e+00 - f1_score: n - ETA: 2:41:18 - loss: 0.2064 - acc: 0.9474 - precision: nan - recall: 0.0000e+00 - f1_score: n - ETA: 2:41:15 - loss: 0.2064 - acc: 0.9474 - precision: nan - recall: 0.0000e+00 - f1_score: n - ETA: 2:41:12 - loss: 0.2064 - acc: 0.9474 - precision: nan - recall: 0.0000e+00 - f1_score: n - ETA: 2:41:09 - loss: 0.2064 - acc: 0.9474 - precision: nan - recall: 0.0000e+00 - f1_score: n - ETA: 2:41:06 - loss: 0.2064 - acc: 0.9474 - precision: nan - recall: 0.0000e+00 - f1_score: n - ETA: 2:41:04 - loss: 0.2064 - acc: 0.9474 - precision: nan - recall: 0.0000e+00 - f1_score: n - ETA: 2:41:01 - loss: 0.2064 - acc: 0.9474 - precision: nan - recall: 0.0000e+00 - f1_score: n - ETA: 2:40:58 - loss: 0.2064 - acc: 0.9474 - precision: nan - recall: 0.0000e+00 - f1_score: n - ETA: 2:40:55 - loss: 0.2064 - acc: 0.9474 - precision: nan - recall: 0.0000e+00 - f1_score: n - ETA: 2:40:52 - loss: 0.2064 - acc: 0.9474 - precision: nan - recall: 0.0000e+00 - f1_score: n - ETA: 2:40:49 - loss: 0.2064 - acc: 0.9474 - precision: nan - recall: 0.0000e+00 - f1_score: n - ETA: 2:40:46 - loss: 0.2064 - acc: 0.9474 - precision: nan - recall: 0.0000e+00 - f1_score: n - ETA: 2:40:43 - loss: 0.2064 - acc: 0.9474 - precision: nan - recall: 0.0000e+00 - f1_score: n - ETA: 2:40:40 - loss: 0.2064 - acc: 0.9474 - precision: nan - recall: 0.0000e+00 - f1_score: n - ETA: 2:40:37 - loss: 0.2064 - acc: 0.9474 - precision: nan - recall: 0.0000e+00 - f1_score: n - ETA: 2:40:34 - loss: 0.2064 - acc: 0.9474 - precision: nan - recall: 0.0000e+00 - f1_score: n - ETA: 2:40:31 - loss: 0.2064 - acc: 0.9474 - precision: nan - recall: 0.0000e+00 - f1_score: n - ETA: 2:40:28 - loss: 0.2064 - acc: 0.9474 - precision: nan - recall: 0.0000e+00 - f1_score: n - ETA: 2:40:25 - loss: 0.2064 - acc: 0.9474 - precision: nan - recall: 0.0000e+00 - f1_score: n - ETA: 2:40:22 - loss: 0.2064 - acc: 0.9474 - precision: nan - recall: 0.0000e+00 - f1_score: n - ETA: 2:40:20 - loss: 0.2064 - acc: 0.9474 - precision: nan - recall: 0.0000e+00 - f1_score: n - ETA: 2:40:17 - loss: 0.2064 - acc: 0.9474 - precision: nan - recall: 0.0000e+00 - f1_score: n - ETA: 2:40:14 - loss: 0.2064 - acc: 0.9474 - precision: nan - recall: 0.0000e+00 - f1_score: n - ETA: 2:40:11 - loss: 0.2064 - acc: 0.9474 - precision: nan - recall: 0.0000e+00 - f1_score: n - ETA: 2:40:08 - loss: 0.2064 - acc: 0.9474 - precision: nan - recall: 0.0000e+00 - f1_score: n - ETA: 2:40:05 - loss: 0.2064 - acc: 0.9474 - precision: nan - recall: 0.0000e+00 - f1_score: n - ETA: 2:40:02 - loss: 0.2064 - acc: 0.9474 - precision: nan - recall: 0.0000e+00 - f1_score: n - ETA: 2:39:59 - loss: 0.2064 - acc: 0.9474 - precision: nan - recall: 0.0000e+00 - f1_score: n - ETA: 2:39:56 - loss: 0.2064 - acc: 0.9474 - precision: nan - recall: 0.0000e+00 - f1_score: n - ETA: 2:39:53 - loss: 0.2064 - acc: 0.9474 - precision: nan - recall: 0.0000e+00 - f1_score: n - ETA: 2:39:50 - loss: 0.2064 - acc: 0.9474 - precision: nan - recall: 0.0000e+00 - f1_score: n - ETA: 2:39:48 - loss: 0.2064 - acc: 0.9474 - precision: nan - recall: 0.0000e+00 - f1_score: n - ETA: 2:39:45 - loss: 0.2064 - acc: 0.9474 - precision: nan - recall: 0.0000e+00 - f1_score: n - ETA: 2:39:42 - loss: 0.2064 - acc: 0.9474 - precision: nan - recall: 0.0000e+00 - f1_score: n - ETA: 2:39:39 - loss: 0.2064 - acc: 0.9474 - precision: nan - recall: 0.0000e+00 - f1_score: n - ETA: 2:39:36 - loss: 0.2064 - acc: 0.9474 - precision: nan - recall: 0.0000e+00 - f1_score: n - ETA: 2:39:33 - loss: 0.2064 - acc: 0.9474 - precision: nan - recall: 0.0000e+00 - f1_score: n - ETA: 2:39:30 - loss: 0.2064 - acc: 0.9474 - precision: nan - recall: 0.0000e+00 - f1_score: n - ETA: 2:39:27 - loss: 0.2064 - acc: 0.9474 - precision: nan - recall: 0.0000e+00 - f1_score: n - ETA: 2:39:24 - loss: 0.2064 - acc: 0.9474 - precision: nan - recall: 0.0000e+00 - f1_score: n - ETA: 2:39:21 - loss: 0.2064 - acc: 0.9474 - precision: nan - recall: 0.0000e+00 - f1_score: n - ETA: 2:39:18 - loss: 0.2064 - acc: 0.9474 - precision: nan - recall: 0.0000e+00 - f1_score: n - ETA: 2:39:15 - loss: 0.2064 - acc: 0.9474 - precision: nan - recall: 0.0000e+00 - f1_score: n - ETA: 2:39:12 - loss: 0.2064 - acc: 0.9474 - precision: nan - recall: 0.0000e+00 - f1_score: n - ETA: 2:39:10 - loss: 0.2064 - acc: 0.9474 - precision: nan - recall: 0.0000e+00 - f1_score: n - ETA: 2:39:07 - loss: 0.2064 - acc: 0.9474 - precision: nan - recall: 0.0000e+00 - f1_score: n - ETA: 2:39:04 - loss: 0.2064 - acc: 0.9474 - precision: nan - recall: 0.0000e+00 - f1_score: n - ETA: 2:39:01 - loss: 0.2064 - acc: 0.9474 - precision: nan - recall: 0.0000e+00 - f1_score: n - ETA: 2:38:58 - loss: 0.2064 - acc: 0.9474 - precision: nan - recall: 0.0000e+00 - f1_score: n - ETA: 2:38:55 - loss: 0.2064 - acc: 0.9474 - precision: nan - recall: 0.0000e+00 - f1_score: n - ETA: 2:38:52 - loss: 0.2064 - acc: 0.9474 - precision: nan - recall: 0.0000e+00 - f1_score: n - ETA: 2:38:49 - loss: 0.2064 - acc: 0.9474 - precision: nan - recall: 0.0000e+00 - f1_score: n - ETA: 2:38:46 - loss: 0.2064 - acc: 0.9474 - precision: nan - recall: 0.0000e+00 - f1_score: n - ETA: 2:38:43 - loss: 0.2064 - acc: 0.9474 - precision: nan - recall: 0.0000e+00 - f1_score: n - ETA: 2:38:40 - loss: 0.2064 - acc: 0.9474 - precision: nan - recall: 0.0000e+00 - f1_score: n - ETA: 2:38:37 - loss: 0.2064 - acc: 0.9474 - precision: nan - recall: 0.0000e+00 - f1_score: n - ETA: 2:38:34 - loss: 0.2064 - acc: 0.9474 - precision: nan - recall: 0.0000e+00 - f1_score: n - ETA: 2:38:31 - loss: 0.2064 - acc: 0.9474 - precision: nan - recall: 0.0000e+00 - f1_score: n - ETA: 2:38:29 - loss: 0.2064 - acc: 0.9474 - precision: nan - recall: 0.0000e+00 - f1_score: n - ETA: 2:38:26 - loss: 0.2064 - acc: 0.9474 - precision: nan - recall: 0.0000e+00 - f1_score: n - ETA: 2:38:23 - loss: 0.2064 - acc: 0.9474 - precision: nan - recall: 0.0000e+00 - f1_score: n - ETA: 2:38:20 - loss: 0.2064 - acc: 0.9474 - precision: nan - recall: 0.0000e+00 - f1_score: n - ETA: 2:38:17 - loss: 0.2064 - acc: 0.9474 - precision: nan - recall: 0.0000e+00 - f1_score: n - ETA: 2:38:14 - loss: 0.2064 - acc: 0.9474 - precision: nan - recall: 0.0000e+00 - f1_score: n - ETA: 2:38:11 - loss: 0.2064 - acc: 0.9474 - precision: nan - recall: 0.0000e+00 - f1_score: n - ETA: 2:38:08 - loss: 0.2064 - acc: 0.9474 - precision: nan - recall: 0.0000e+00 - f1_score: n - ETA: 2:38:05 - loss: 0.2064 - acc: 0.9474 - precision: nan - recall: 0.0000e+00 - f1_score: n - ETA: 2:38:02 - loss: 0.2064 - acc: 0.9474 - precision: nan - recall: 0.0000e+00 - f1_score: n - ETA: 2:37:59 - loss: 0.2064 - acc: 0.9474 - precision: nan - recall: 0.0000e+00 - f1_score: n - ETA: 2:37:56 - loss: 0.2064 - acc: 0.9474 - precision: nan - recall: 0.0000e+00 - f1_score: n - ETA: 2:37:54 - loss: 0.2064 - acc: 0.9474 - precision: nan - recall: 0.0000e+00 - f1_score: n - ETA: 2:37:51 - loss: 0.2064 - acc: 0.9474 - precision: nan - recall: 0.0000e+00 - f1_score: n - ETA: 2:37:48 - loss: 0.2064 - acc: 0.9474 - precision: nan - recall: 0.0000e+00 - f1_score: n - ETA: 2:37:45 - loss: 0.2064 - acc: 0.9474 - precision: nan - recall: 0.0000e+00 - f1_score: n - ETA: 2:37:42 - loss: 0.2064 - acc: 0.9474 - precision: nan - recall: 0.0000e+00 - f1_score: n - ETA: 2:37:39 - loss: 0.2064 - acc: 0.9474 - precision: nan - recall: 0.0000e+00 - f1_score: n - ETA: 2:37:36 - loss: 0.2064 - acc: 0.9474 - precision: nan - recall: 0.0000e+00 - f1_score: n - ETA: 2:37:33 - loss: 0.2064 - acc: 0.9474 - precision: nan - recall: 0.0000e+00 - f1_score: n - ETA: 2:37:30 - loss: 0.2064 - acc: 0.9474 - precision: nan - recall: 0.0000e+00 - f1_score: n - ETA: 2:37:27 - loss: 0.2064 - acc: 0.9474 - precision: nan - recall: 0.0000e+00 - f1_score: n - ETA: 2:37:24 - loss: 0.2064 - acc: 0.9474 - precision: nan - recall: 0.0000e+00 - f1_score: n - ETA: 2:37:21 - loss: 0.2064 - acc: 0.9474 - precision: nan - recall: 0.0000e+00 - f1_score: n - ETA: 2:37:18 - loss: 0.2064 - acc: 0.9474 - precision: nan - recall: 0.0000e+00 - f1_score: n - ETA: 2:37:15 - loss: 0.2064 - acc: 0.9474 - precision: nan - recall: 0.0000e+00 - f1_score: nan"
     ]
    },
    {
     "name": "stdout",
     "output_type": "stream",
     "text": [
      " 765/3947 [====>.........................] - ETA: 2:37:13 - loss: 0.2064 - acc: 0.9474 - precision: nan - recall: 0.0000e+00 - f1_score: n - ETA: 2:37:10 - loss: 0.2064 - acc: 0.9474 - precision: nan - recall: 0.0000e+00 - f1_score: n - ETA: 2:37:07 - loss: 0.2064 - acc: 0.9474 - precision: nan - recall: 0.0000e+00 - f1_score: n - ETA: 2:37:04 - loss: 0.2064 - acc: 0.9474 - precision: nan - recall: 0.0000e+00 - f1_score: n - ETA: 2:37:01 - loss: 0.2064 - acc: 0.9474 - precision: nan - recall: 0.0000e+00 - f1_score: n - ETA: 2:36:58 - loss: 0.2064 - acc: 0.9474 - precision: nan - recall: 0.0000e+00 - f1_score: n - ETA: 2:36:55 - loss: 0.2064 - acc: 0.9474 - precision: nan - recall: 0.0000e+00 - f1_score: n - ETA: 2:36:52 - loss: 0.2064 - acc: 0.9474 - precision: nan - recall: 0.0000e+00 - f1_score: n - ETA: 2:36:49 - loss: 0.2064 - acc: 0.9474 - precision: nan - recall: 0.0000e+00 - f1_score: n - ETA: 2:36:46 - loss: 0.2064 - acc: 0.9474 - precision: nan - recall: 0.0000e+00 - f1_score: n - ETA: 2:36:43 - loss: 0.2064 - acc: 0.9474 - precision: nan - recall: 0.0000e+00 - f1_score: n - ETA: 2:36:40 - loss: 0.2064 - acc: 0.9474 - precision: nan - recall: 0.0000e+00 - f1_score: n - ETA: 2:36:37 - loss: 0.2064 - acc: 0.9474 - precision: nan - recall: 0.0000e+00 - f1_score: n - ETA: 2:36:34 - loss: 0.2064 - acc: 0.9474 - precision: nan - recall: 0.0000e+00 - f1_score: n - ETA: 2:36:32 - loss: 0.2064 - acc: 0.9474 - precision: nan - recall: 0.0000e+00 - f1_score: n - ETA: 2:36:29 - loss: 0.2064 - acc: 0.9474 - precision: nan - recall: 0.0000e+00 - f1_score: n - ETA: 2:36:26 - loss: 0.2064 - acc: 0.9474 - precision: nan - recall: 0.0000e+00 - f1_score: n - ETA: 2:36:23 - loss: 0.2064 - acc: 0.9474 - precision: nan - recall: 0.0000e+00 - f1_score: n - ETA: 2:36:20 - loss: 0.2064 - acc: 0.9474 - precision: nan - recall: 0.0000e+00 - f1_score: n - ETA: 2:36:17 - loss: 0.2064 - acc: 0.9474 - precision: nan - recall: 0.0000e+00 - f1_score: n - ETA: 2:36:14 - loss: 0.2064 - acc: 0.9474 - precision: nan - recall: 0.0000e+00 - f1_score: n - ETA: 2:36:11 - loss: 0.2064 - acc: 0.9474 - precision: nan - recall: 0.0000e+00 - f1_score: n - ETA: 2:36:08 - loss: 0.2064 - acc: 0.9474 - precision: nan - recall: 0.0000e+00 - f1_score: n - ETA: 2:36:05 - loss: 0.2064 - acc: 0.9474 - precision: nan - recall: 0.0000e+00 - f1_score: n - ETA: 2:36:02 - loss: 0.2064 - acc: 0.9474 - precision: nan - recall: 0.0000e+00 - f1_score: n - ETA: 2:35:59 - loss: 0.2064 - acc: 0.9474 - precision: nan - recall: 0.0000e+00 - f1_score: n - ETA: 2:35:56 - loss: 0.2064 - acc: 0.9474 - precision: nan - recall: 0.0000e+00 - f1_score: n - ETA: 2:35:53 - loss: 0.2064 - acc: 0.9474 - precision: nan - recall: 0.0000e+00 - f1_score: n - ETA: 2:35:51 - loss: 0.2064 - acc: 0.9474 - precision: nan - recall: 0.0000e+00 - f1_score: n - ETA: 2:35:48 - loss: 0.2064 - acc: 0.9474 - precision: nan - recall: 0.0000e+00 - f1_score: n - ETA: 2:35:45 - loss: 0.2064 - acc: 0.9474 - precision: nan - recall: 0.0000e+00 - f1_score: n - ETA: 2:35:42 - loss: 0.2064 - acc: 0.9474 - precision: nan - recall: 0.0000e+00 - f1_score: n - ETA: 2:35:39 - loss: 0.2064 - acc: 0.9474 - precision: nan - recall: 0.0000e+00 - f1_score: n - ETA: 2:35:36 - loss: 0.2064 - acc: 0.9474 - precision: nan - recall: 0.0000e+00 - f1_score: n - ETA: 2:35:33 - loss: 0.2064 - acc: 0.9474 - precision: nan - recall: 0.0000e+00 - f1_score: n - ETA: 2:35:30 - loss: 0.2064 - acc: 0.9474 - precision: nan - recall: 0.0000e+00 - f1_score: n - ETA: 2:35:27 - loss: 0.2064 - acc: 0.9474 - precision: nan - recall: 0.0000e+00 - f1_score: n - ETA: 2:35:24 - loss: 0.2064 - acc: 0.9474 - precision: nan - recall: 0.0000e+00 - f1_score: n - ETA: 2:35:21 - loss: 0.2064 - acc: 0.9474 - precision: nan - recall: 0.0000e+00 - f1_score: n - ETA: 2:35:18 - loss: 0.2064 - acc: 0.9474 - precision: nan - recall: 0.0000e+00 - f1_score: n - ETA: 2:35:15 - loss: 0.2064 - acc: 0.9474 - precision: nan - recall: 0.0000e+00 - f1_score: n - ETA: 2:35:13 - loss: 0.2064 - acc: 0.9474 - precision: nan - recall: 0.0000e+00 - f1_score: n - ETA: 2:35:10 - loss: 0.2064 - acc: 0.9474 - precision: nan - recall: 0.0000e+00 - f1_score: n - ETA: 2:35:07 - loss: 0.2064 - acc: 0.9474 - precision: nan - recall: 0.0000e+00 - f1_score: n - ETA: 2:35:04 - loss: 0.2064 - acc: 0.9474 - precision: nan - recall: 0.0000e+00 - f1_score: n - ETA: 2:35:01 - loss: 0.2064 - acc: 0.9474 - precision: nan - recall: 0.0000e+00 - f1_score: n - ETA: 2:34:58 - loss: 0.2064 - acc: 0.9474 - precision: nan - recall: 0.0000e+00 - f1_score: n - ETA: 2:34:55 - loss: 0.2064 - acc: 0.9474 - precision: nan - recall: 0.0000e+00 - f1_score: n - ETA: 2:34:52 - loss: 0.2064 - acc: 0.9474 - precision: nan - recall: 0.0000e+00 - f1_score: n - ETA: 2:34:49 - loss: 0.2064 - acc: 0.9474 - precision: nan - recall: 0.0000e+00 - f1_score: n - ETA: 2:34:46 - loss: 0.2064 - acc: 0.9474 - precision: nan - recall: 0.0000e+00 - f1_score: n - ETA: 2:34:43 - loss: 0.2064 - acc: 0.9474 - precision: nan - recall: 0.0000e+00 - f1_score: n - ETA: 2:34:40 - loss: 0.2064 - acc: 0.9474 - precision: nan - recall: 0.0000e+00 - f1_score: n - ETA: 2:34:38 - loss: 0.2064 - acc: 0.9474 - precision: nan - recall: 0.0000e+00 - f1_score: n - ETA: 2:34:35 - loss: 0.2064 - acc: 0.9474 - precision: nan - recall: 0.0000e+00 - f1_score: n - ETA: 2:34:32 - loss: 0.2064 - acc: 0.9474 - precision: nan - recall: 0.0000e+00 - f1_score: n - ETA: 2:34:29 - loss: 0.2064 - acc: 0.9474 - precision: nan - recall: 0.0000e+00 - f1_score: n - ETA: 2:34:26 - loss: 0.2064 - acc: 0.9474 - precision: nan - recall: 0.0000e+00 - f1_score: n - ETA: 2:34:23 - loss: 0.2064 - acc: 0.9474 - precision: nan - recall: 0.0000e+00 - f1_score: n - ETA: 2:34:20 - loss: 0.2064 - acc: 0.9474 - precision: nan - recall: 0.0000e+00 - f1_score: n - ETA: 2:34:17 - loss: 0.2064 - acc: 0.9474 - precision: nan - recall: 0.0000e+00 - f1_score: n - ETA: 2:34:14 - loss: 0.2064 - acc: 0.9474 - precision: nan - recall: 0.0000e+00 - f1_score: n - ETA: 2:34:11 - loss: 0.2064 - acc: 0.9474 - precision: nan - recall: 0.0000e+00 - f1_score: n - ETA: 2:34:08 - loss: 0.2064 - acc: 0.9474 - precision: nan - recall: 0.0000e+00 - f1_score: n - ETA: 2:34:05 - loss: 0.2064 - acc: 0.9474 - precision: nan - recall: 0.0000e+00 - f1_score: n - ETA: 2:34:03 - loss: 0.2064 - acc: 0.9474 - precision: nan - recall: 0.0000e+00 - f1_score: n - ETA: 2:34:00 - loss: 0.2064 - acc: 0.9474 - precision: nan - recall: 0.0000e+00 - f1_score: n - ETA: 2:33:57 - loss: 0.2064 - acc: 0.9474 - precision: nan - recall: 0.0000e+00 - f1_score: n - ETA: 2:33:54 - loss: 0.2064 - acc: 0.9474 - precision: nan - recall: 0.0000e+00 - f1_score: n - ETA: 2:33:51 - loss: 0.2064 - acc: 0.9474 - precision: nan - recall: 0.0000e+00 - f1_score: n - ETA: 2:33:48 - loss: 0.2064 - acc: 0.9474 - precision: nan - recall: 0.0000e+00 - f1_score: n - ETA: 2:33:45 - loss: 0.2064 - acc: 0.9474 - precision: nan - recall: 0.0000e+00 - f1_score: n - ETA: 2:33:42 - loss: 0.2064 - acc: 0.9474 - precision: nan - recall: 0.0000e+00 - f1_score: n - ETA: 2:33:39 - loss: 0.2064 - acc: 0.9474 - precision: nan - recall: 0.0000e+00 - f1_score: n - ETA: 2:33:36 - loss: 0.2064 - acc: 0.9474 - precision: nan - recall: 0.0000e+00 - f1_score: n - ETA: 2:33:33 - loss: 0.2064 - acc: 0.9474 - precision: nan - recall: 0.0000e+00 - f1_score: n - ETA: 2:33:30 - loss: 0.2064 - acc: 0.9474 - precision: nan - recall: 0.0000e+00 - f1_score: n - ETA: 2:33:27 - loss: 0.2064 - acc: 0.9474 - precision: nan - recall: 0.0000e+00 - f1_score: n - ETA: 2:33:25 - loss: 0.2064 - acc: 0.9474 - precision: nan - recall: 0.0000e+00 - f1_score: n - ETA: 2:33:22 - loss: 0.2064 - acc: 0.9474 - precision: nan - recall: 0.0000e+00 - f1_score: n - ETA: 2:33:19 - loss: 0.2064 - acc: 0.9474 - precision: nan - recall: 0.0000e+00 - f1_score: n - ETA: 2:33:16 - loss: 0.2064 - acc: 0.9474 - precision: nan - recall: 0.0000e+00 - f1_score: n - ETA: 2:33:13 - loss: 0.2064 - acc: 0.9474 - precision: nan - recall: 0.0000e+00 - f1_score: n - ETA: 2:33:10 - loss: 0.2064 - acc: 0.9474 - precision: nan - recall: 0.0000e+00 - f1_score: n - ETA: 2:33:07 - loss: 0.2064 - acc: 0.9474 - precision: nan - recall: 0.0000e+00 - f1_score: nan"
     ]
    },
    {
     "name": "stdout",
     "output_type": "stream",
     "text": [
      " 850/3947 [=====>........................] - ETA: 2:33:04 - loss: 0.2064 - acc: 0.9474 - precision: nan - recall: 0.0000e+00 - f1_score: n - ETA: 2:33:01 - loss: 0.2064 - acc: 0.9474 - precision: nan - recall: 0.0000e+00 - f1_score: n - ETA: 2:32:58 - loss: 0.2064 - acc: 0.9474 - precision: nan - recall: 0.0000e+00 - f1_score: n - ETA: 2:32:55 - loss: 0.2064 - acc: 0.9474 - precision: nan - recall: 0.0000e+00 - f1_score: n - ETA: 2:32:52 - loss: 0.2064 - acc: 0.9474 - precision: nan - recall: 0.0000e+00 - f1_score: n - ETA: 2:32:50 - loss: 0.2064 - acc: 0.9474 - precision: nan - recall: 0.0000e+00 - f1_score: n - ETA: 2:32:47 - loss: 0.2064 - acc: 0.9474 - precision: nan - recall: 0.0000e+00 - f1_score: n - ETA: 2:32:44 - loss: 0.2064 - acc: 0.9474 - precision: nan - recall: 0.0000e+00 - f1_score: n - ETA: 2:32:41 - loss: 0.2064 - acc: 0.9474 - precision: nan - recall: 0.0000e+00 - f1_score: n - ETA: 2:32:38 - loss: 0.2064 - acc: 0.9474 - precision: nan - recall: 0.0000e+00 - f1_score: n - ETA: 2:32:35 - loss: 0.2064 - acc: 0.9474 - precision: nan - recall: 0.0000e+00 - f1_score: n - ETA: 2:32:32 - loss: 0.2064 - acc: 0.9474 - precision: nan - recall: 0.0000e+00 - f1_score: n - ETA: 2:32:29 - loss: 0.2064 - acc: 0.9474 - precision: nan - recall: 0.0000e+00 - f1_score: n - ETA: 2:32:26 - loss: 0.2064 - acc: 0.9474 - precision: nan - recall: 0.0000e+00 - f1_score: n - ETA: 2:32:23 - loss: 0.2064 - acc: 0.9474 - precision: nan - recall: 0.0000e+00 - f1_score: n - ETA: 2:32:20 - loss: 0.2064 - acc: 0.9474 - precision: nan - recall: 0.0000e+00 - f1_score: n - ETA: 2:32:18 - loss: 0.2064 - acc: 0.9474 - precision: nan - recall: 0.0000e+00 - f1_score: n - ETA: 2:32:15 - loss: 0.2064 - acc: 0.9474 - precision: nan - recall: 0.0000e+00 - f1_score: n - ETA: 2:32:12 - loss: 0.2064 - acc: 0.9474 - precision: nan - recall: 0.0000e+00 - f1_score: n - ETA: 2:32:09 - loss: 0.2064 - acc: 0.9474 - precision: nan - recall: 0.0000e+00 - f1_score: n - ETA: 2:32:06 - loss: 0.2064 - acc: 0.9474 - precision: nan - recall: 0.0000e+00 - f1_score: n - ETA: 2:32:03 - loss: 0.2064 - acc: 0.9474 - precision: nan - recall: 0.0000e+00 - f1_score: n - ETA: 2:32:00 - loss: 0.2064 - acc: 0.9474 - precision: nan - recall: 0.0000e+00 - f1_score: n - ETA: 2:31:57 - loss: 0.2064 - acc: 0.9474 - precision: nan - recall: 0.0000e+00 - f1_score: n - ETA: 2:31:54 - loss: 0.2064 - acc: 0.9474 - precision: nan - recall: 0.0000e+00 - f1_score: n - ETA: 2:31:51 - loss: 0.2064 - acc: 0.9474 - precision: nan - recall: 0.0000e+00 - f1_score: n - ETA: 2:31:48 - loss: 0.2064 - acc: 0.9474 - precision: nan - recall: 0.0000e+00 - f1_score: n - ETA: 2:31:46 - loss: 0.2064 - acc: 0.9474 - precision: nan - recall: 0.0000e+00 - f1_score: n - ETA: 2:31:43 - loss: 0.2064 - acc: 0.9474 - precision: nan - recall: 0.0000e+00 - f1_score: n - ETA: 2:31:40 - loss: 0.2064 - acc: 0.9474 - precision: nan - recall: 0.0000e+00 - f1_score: n - ETA: 2:31:37 - loss: 0.2064 - acc: 0.9474 - precision: nan - recall: 0.0000e+00 - f1_score: n - ETA: 2:31:34 - loss: 0.2064 - acc: 0.9474 - precision: nan - recall: 0.0000e+00 - f1_score: n - ETA: 2:31:31 - loss: 0.2064 - acc: 0.9474 - precision: nan - recall: 0.0000e+00 - f1_score: n - ETA: 2:31:28 - loss: 0.2064 - acc: 0.9474 - precision: nan - recall: 0.0000e+00 - f1_score: n - ETA: 2:31:25 - loss: 0.2064 - acc: 0.9474 - precision: nan - recall: 0.0000e+00 - f1_score: n - ETA: 2:31:23 - loss: 0.2064 - acc: 0.9474 - precision: nan - recall: 0.0000e+00 - f1_score: n - ETA: 2:31:20 - loss: 0.2064 - acc: 0.9474 - precision: nan - recall: 0.0000e+00 - f1_score: n - ETA: 2:31:17 - loss: 0.2064 - acc: 0.9474 - precision: nan - recall: 0.0000e+00 - f1_score: n - ETA: 2:31:14 - loss: 0.2064 - acc: 0.9474 - precision: nan - recall: 0.0000e+00 - f1_score: n - ETA: 2:31:11 - loss: 0.2064 - acc: 0.9474 - precision: nan - recall: 0.0000e+00 - f1_score: n - ETA: 2:31:08 - loss: 0.2064 - acc: 0.9474 - precision: nan - recall: 0.0000e+00 - f1_score: n - ETA: 2:31:05 - loss: 0.2064 - acc: 0.9474 - precision: nan - recall: 0.0000e+00 - f1_score: n - ETA: 2:31:02 - loss: 0.2064 - acc: 0.9474 - precision: nan - recall: 0.0000e+00 - f1_score: n - ETA: 2:30:59 - loss: 0.2064 - acc: 0.9474 - precision: nan - recall: 0.0000e+00 - f1_score: n - ETA: 2:30:56 - loss: 0.2064 - acc: 0.9474 - precision: nan - recall: 0.0000e+00 - f1_score: n - ETA: 2:30:53 - loss: 0.2064 - acc: 0.9474 - precision: nan - recall: 0.0000e+00 - f1_score: n - ETA: 2:30:51 - loss: 0.2064 - acc: 0.9474 - precision: nan - recall: 0.0000e+00 - f1_score: n - ETA: 2:30:48 - loss: 0.2064 - acc: 0.9474 - precision: nan - recall: 0.0000e+00 - f1_score: n - ETA: 2:30:45 - loss: 0.2064 - acc: 0.9474 - precision: nan - recall: 0.0000e+00 - f1_score: n - ETA: 2:30:42 - loss: 0.2064 - acc: 0.9474 - precision: nan - recall: 0.0000e+00 - f1_score: n - ETA: 2:30:39 - loss: 0.2064 - acc: 0.9474 - precision: nan - recall: 0.0000e+00 - f1_score: n - ETA: 2:30:36 - loss: 0.2064 - acc: 0.9474 - precision: nan - recall: 0.0000e+00 - f1_score: n - ETA: 2:30:33 - loss: 0.2064 - acc: 0.9474 - precision: nan - recall: 0.0000e+00 - f1_score: n - ETA: 2:30:30 - loss: 0.2064 - acc: 0.9474 - precision: nan - recall: 0.0000e+00 - f1_score: n - ETA: 2:30:27 - loss: 0.2064 - acc: 0.9474 - precision: nan - recall: 0.0000e+00 - f1_score: n - ETA: 2:30:25 - loss: 0.2064 - acc: 0.9474 - precision: nan - recall: 0.0000e+00 - f1_score: n - ETA: 2:30:22 - loss: 0.2064 - acc: 0.9474 - precision: nan - recall: 0.0000e+00 - f1_score: n - ETA: 2:30:19 - loss: 0.2064 - acc: 0.9474 - precision: nan - recall: 0.0000e+00 - f1_score: n - ETA: 2:30:16 - loss: 0.2064 - acc: 0.9474 - precision: nan - recall: 0.0000e+00 - f1_score: n - ETA: 2:30:13 - loss: 0.2064 - acc: 0.9474 - precision: nan - recall: 0.0000e+00 - f1_score: n - ETA: 2:30:10 - loss: 0.2064 - acc: 0.9474 - precision: nan - recall: 0.0000e+00 - f1_score: n - ETA: 2:30:07 - loss: 0.2064 - acc: 0.9474 - precision: nan - recall: 0.0000e+00 - f1_score: n - ETA: 2:30:04 - loss: 0.2064 - acc: 0.9474 - precision: nan - recall: 0.0000e+00 - f1_score: n - ETA: 2:30:01 - loss: 0.2064 - acc: 0.9474 - precision: nan - recall: 0.0000e+00 - f1_score: n - ETA: 2:29:58 - loss: 0.2064 - acc: 0.9474 - precision: nan - recall: 0.0000e+00 - f1_score: n - ETA: 2:29:56 - loss: 0.2064 - acc: 0.9474 - precision: nan - recall: 0.0000e+00 - f1_score: n - ETA: 2:29:53 - loss: 0.2064 - acc: 0.9474 - precision: nan - recall: 0.0000e+00 - f1_score: n - ETA: 2:29:50 - loss: 0.2064 - acc: 0.9474 - precision: nan - recall: 0.0000e+00 - f1_score: n - ETA: 2:29:47 - loss: 0.2064 - acc: 0.9474 - precision: nan - recall: 0.0000e+00 - f1_score: n - ETA: 2:29:44 - loss: 0.2064 - acc: 0.9474 - precision: nan - recall: 0.0000e+00 - f1_score: n - ETA: 2:29:41 - loss: 0.2064 - acc: 0.9474 - precision: nan - recall: 0.0000e+00 - f1_score: n - ETA: 2:29:38 - loss: 0.2064 - acc: 0.9474 - precision: nan - recall: 0.0000e+00 - f1_score: n - ETA: 2:29:35 - loss: 0.2064 - acc: 0.9474 - precision: nan - recall: 0.0000e+00 - f1_score: n - ETA: 2:29:33 - loss: 0.2064 - acc: 0.9474 - precision: nan - recall: 0.0000e+00 - f1_score: n - ETA: 2:29:30 - loss: 0.2064 - acc: 0.9474 - precision: nan - recall: 0.0000e+00 - f1_score: n - ETA: 2:29:27 - loss: 0.2064 - acc: 0.9474 - precision: nan - recall: 0.0000e+00 - f1_score: n - ETA: 2:29:24 - loss: 0.2064 - acc: 0.9474 - precision: nan - recall: 0.0000e+00 - f1_score: n - ETA: 2:29:21 - loss: 0.2064 - acc: 0.9474 - precision: nan - recall: 0.0000e+00 - f1_score: n - ETA: 2:29:18 - loss: 0.2064 - acc: 0.9474 - precision: nan - recall: 0.0000e+00 - f1_score: n - ETA: 2:29:15 - loss: 0.2064 - acc: 0.9474 - precision: nan - recall: 0.0000e+00 - f1_score: n - ETA: 2:29:12 - loss: 0.2064 - acc: 0.9474 - precision: nan - recall: 0.0000e+00 - f1_score: n - ETA: 2:29:09 - loss: 0.2064 - acc: 0.9474 - precision: nan - recall: 0.0000e+00 - f1_score: n - ETA: 2:29:06 - loss: 0.2064 - acc: 0.9474 - precision: nan - recall: 0.0000e+00 - f1_score: n - ETA: 2:29:03 - loss: 0.2064 - acc: 0.9474 - precision: nan - recall: 0.0000e+00 - f1_score: n - ETA: 2:29:01 - loss: 0.2064 - acc: 0.9474 - precision: nan - recall: 0.0000e+00 - f1_score: nan"
     ]
    },
    {
     "name": "stdout",
     "output_type": "stream",
     "text": [
      " 935/3947 [======>.......................] - ETA: 2:28:58 - loss: 0.2064 - acc: 0.9474 - precision: nan - recall: 0.0000e+00 - f1_score: n - ETA: 2:28:55 - loss: 0.2064 - acc: 0.9474 - precision: nan - recall: 0.0000e+00 - f1_score: n - ETA: 2:28:52 - loss: 0.2064 - acc: 0.9474 - precision: nan - recall: 0.0000e+00 - f1_score: n - ETA: 2:28:49 - loss: 0.2064 - acc: 0.9474 - precision: nan - recall: 0.0000e+00 - f1_score: n - ETA: 2:28:46 - loss: 0.2064 - acc: 0.9474 - precision: nan - recall: 0.0000e+00 - f1_score: n - ETA: 2:28:43 - loss: 0.2064 - acc: 0.9474 - precision: nan - recall: 0.0000e+00 - f1_score: n - ETA: 2:28:40 - loss: 0.2064 - acc: 0.9474 - precision: nan - recall: 0.0000e+00 - f1_score: n - ETA: 2:28:37 - loss: 0.2064 - acc: 0.9474 - precision: nan - recall: 0.0000e+00 - f1_score: n - ETA: 2:28:35 - loss: 0.2064 - acc: 0.9474 - precision: nan - recall: 0.0000e+00 - f1_score: n - ETA: 2:28:32 - loss: 0.2064 - acc: 0.9474 - precision: nan - recall: 0.0000e+00 - f1_score: n - ETA: 2:28:29 - loss: 0.2064 - acc: 0.9474 - precision: nan - recall: 0.0000e+00 - f1_score: n - ETA: 2:28:26 - loss: 0.2064 - acc: 0.9474 - precision: nan - recall: 0.0000e+00 - f1_score: n - ETA: 2:28:23 - loss: 0.2064 - acc: 0.9474 - precision: nan - recall: 0.0000e+00 - f1_score: n - ETA: 2:28:20 - loss: 0.2064 - acc: 0.9474 - precision: nan - recall: 0.0000e+00 - f1_score: n - ETA: 2:28:17 - loss: 0.2064 - acc: 0.9474 - precision: nan - recall: 0.0000e+00 - f1_score: n - ETA: 2:28:14 - loss: 0.2064 - acc: 0.9474 - precision: nan - recall: 0.0000e+00 - f1_score: n - ETA: 2:28:11 - loss: 0.2064 - acc: 0.9474 - precision: nan - recall: 0.0000e+00 - f1_score: n - ETA: 2:28:08 - loss: 0.2064 - acc: 0.9474 - precision: nan - recall: 0.0000e+00 - f1_score: n - ETA: 2:28:06 - loss: 0.2064 - acc: 0.9474 - precision: nan - recall: 0.0000e+00 - f1_score: n - ETA: 2:28:03 - loss: 0.2064 - acc: 0.9474 - precision: nan - recall: 0.0000e+00 - f1_score: n - ETA: 2:28:00 - loss: 0.2064 - acc: 0.9474 - precision: nan - recall: 0.0000e+00 - f1_score: n - ETA: 2:27:57 - loss: 0.2064 - acc: 0.9474 - precision: nan - recall: 0.0000e+00 - f1_score: n - ETA: 2:27:54 - loss: 0.2064 - acc: 0.9474 - precision: nan - recall: 0.0000e+00 - f1_score: n - ETA: 2:27:51 - loss: 0.2064 - acc: 0.9474 - precision: nan - recall: 0.0000e+00 - f1_score: n - ETA: 2:27:48 - loss: 0.2064 - acc: 0.9474 - precision: nan - recall: 0.0000e+00 - f1_score: n - ETA: 2:27:45 - loss: 0.2064 - acc: 0.9474 - precision: nan - recall: 0.0000e+00 - f1_score: n - ETA: 2:27:42 - loss: 0.2064 - acc: 0.9474 - precision: nan - recall: 0.0000e+00 - f1_score: n - ETA: 2:27:39 - loss: 0.2064 - acc: 0.9474 - precision: nan - recall: 0.0000e+00 - f1_score: n - ETA: 2:27:37 - loss: 0.2064 - acc: 0.9474 - precision: nan - recall: 0.0000e+00 - f1_score: n - ETA: 2:27:34 - loss: 0.2064 - acc: 0.9474 - precision: nan - recall: 0.0000e+00 - f1_score: n - ETA: 2:27:31 - loss: 0.2064 - acc: 0.9474 - precision: nan - recall: 0.0000e+00 - f1_score: n - ETA: 2:27:28 - loss: 0.2064 - acc: 0.9474 - precision: nan - recall: 0.0000e+00 - f1_score: n - ETA: 2:27:25 - loss: 0.2064 - acc: 0.9474 - precision: nan - recall: 0.0000e+00 - f1_score: n - ETA: 2:27:22 - loss: 0.2064 - acc: 0.9474 - precision: nan - recall: 0.0000e+00 - f1_score: n - ETA: 2:27:19 - loss: 0.2064 - acc: 0.9474 - precision: nan - recall: 0.0000e+00 - f1_score: n - ETA: 2:27:16 - loss: 0.2064 - acc: 0.9474 - precision: nan - recall: 0.0000e+00 - f1_score: n - ETA: 2:27:13 - loss: 0.2064 - acc: 0.9474 - precision: nan - recall: 0.0000e+00 - f1_score: n - ETA: 2:27:11 - loss: 0.2064 - acc: 0.9474 - precision: nan - recall: 0.0000e+00 - f1_score: n - ETA: 2:27:08 - loss: 0.2064 - acc: 0.9474 - precision: nan - recall: 0.0000e+00 - f1_score: n - ETA: 2:27:05 - loss: 0.2064 - acc: 0.9474 - precision: nan - recall: 0.0000e+00 - f1_score: n - ETA: 2:27:02 - loss: 0.2064 - acc: 0.9474 - precision: nan - recall: 0.0000e+00 - f1_score: n - ETA: 2:26:59 - loss: 0.2064 - acc: 0.9474 - precision: nan - recall: 0.0000e+00 - f1_score: n - ETA: 2:26:56 - loss: 0.2064 - acc: 0.9474 - precision: nan - recall: 0.0000e+00 - f1_score: n - ETA: 2:26:53 - loss: 0.2064 - acc: 0.9474 - precision: nan - recall: 0.0000e+00 - f1_score: n - ETA: 2:26:50 - loss: 0.2064 - acc: 0.9474 - precision: nan - recall: 0.0000e+00 - f1_score: n - ETA: 2:26:47 - loss: 0.2064 - acc: 0.9474 - precision: nan - recall: 0.0000e+00 - f1_score: n - ETA: 2:26:44 - loss: 0.2064 - acc: 0.9474 - precision: nan - recall: 0.0000e+00 - f1_score: n - ETA: 2:26:42 - loss: 0.2064 - acc: 0.9474 - precision: nan - recall: 0.0000e+00 - f1_score: n - ETA: 2:26:39 - loss: 0.2064 - acc: 0.9474 - precision: nan - recall: 0.0000e+00 - f1_score: n - ETA: 2:26:36 - loss: 0.2064 - acc: 0.9474 - precision: nan - recall: 0.0000e+00 - f1_score: n - ETA: 2:26:33 - loss: 0.2064 - acc: 0.9474 - precision: nan - recall: 0.0000e+00 - f1_score: n - ETA: 2:26:30 - loss: 0.2064 - acc: 0.9474 - precision: nan - recall: 0.0000e+00 - f1_score: n - ETA: 2:26:27 - loss: 0.2064 - acc: 0.9474 - precision: nan - recall: 0.0000e+00 - f1_score: n - ETA: 2:26:24 - loss: 0.2064 - acc: 0.9474 - precision: nan - recall: 0.0000e+00 - f1_score: n - ETA: 2:26:21 - loss: 0.2064 - acc: 0.9474 - precision: nan - recall: 0.0000e+00 - f1_score: n - ETA: 2:26:18 - loss: 0.2064 - acc: 0.9474 - precision: nan - recall: 0.0000e+00 - f1_score: n - ETA: 2:26:16 - loss: 0.2064 - acc: 0.9474 - precision: nan - recall: 0.0000e+00 - f1_score: n - ETA: 2:26:13 - loss: 0.2064 - acc: 0.9474 - precision: nan - recall: 0.0000e+00 - f1_score: n - ETA: 2:26:10 - loss: 0.2064 - acc: 0.9474 - precision: nan - recall: 0.0000e+00 - f1_score: n - ETA: 2:26:07 - loss: 0.2064 - acc: 0.9474 - precision: nan - recall: 0.0000e+00 - f1_score: n - ETA: 2:26:04 - loss: 0.2064 - acc: 0.9474 - precision: nan - recall: 0.0000e+00 - f1_score: n - ETA: 2:26:01 - loss: 0.2064 - acc: 0.9474 - precision: nan - recall: 0.0000e+00 - f1_score: n - ETA: 2:25:58 - loss: 0.2064 - acc: 0.9474 - precision: nan - recall: 0.0000e+00 - f1_score: n - ETA: 2:25:55 - loss: 0.2064 - acc: 0.9474 - precision: nan - recall: 0.0000e+00 - f1_score: n - ETA: 2:25:52 - loss: 0.2064 - acc: 0.9474 - precision: nan - recall: 0.0000e+00 - f1_score: n - ETA: 2:25:50 - loss: 0.2064 - acc: 0.9474 - precision: nan - recall: 0.0000e+00 - f1_score: n - ETA: 2:25:47 - loss: 0.2064 - acc: 0.9474 - precision: nan - recall: 0.0000e+00 - f1_score: n - ETA: 2:25:44 - loss: 0.2064 - acc: 0.9474 - precision: nan - recall: 0.0000e+00 - f1_score: n - ETA: 2:25:41 - loss: 0.2064 - acc: 0.9474 - precision: nan - recall: 0.0000e+00 - f1_score: n - ETA: 2:25:38 - loss: 0.2064 - acc: 0.9474 - precision: nan - recall: 0.0000e+00 - f1_score: n - ETA: 2:25:35 - loss: 0.2064 - acc: 0.9474 - precision: nan - recall: 0.0000e+00 - f1_score: n - ETA: 2:25:32 - loss: 0.2064 - acc: 0.9474 - precision: nan - recall: 0.0000e+00 - f1_score: n - ETA: 2:25:29 - loss: 0.2064 - acc: 0.9474 - precision: nan - recall: 0.0000e+00 - f1_score: n - ETA: 2:25:26 - loss: 0.2064 - acc: 0.9474 - precision: nan - recall: 0.0000e+00 - f1_score: n - ETA: 2:25:24 - loss: 0.2064 - acc: 0.9474 - precision: nan - recall: 0.0000e+00 - f1_score: n - ETA: 2:25:21 - loss: 0.2064 - acc: 0.9474 - precision: nan - recall: 0.0000e+00 - f1_score: n - ETA: 2:25:18 - loss: 0.2064 - acc: 0.9474 - precision: nan - recall: 0.0000e+00 - f1_score: n - ETA: 2:25:15 - loss: 0.2064 - acc: 0.9474 - precision: nan - recall: 0.0000e+00 - f1_score: n - ETA: 2:25:12 - loss: 0.2064 - acc: 0.9474 - precision: nan - recall: 0.0000e+00 - f1_score: n - ETA: 2:25:09 - loss: 0.2064 - acc: 0.9474 - precision: nan - recall: 0.0000e+00 - f1_score: n - ETA: 2:25:06 - loss: 0.2064 - acc: 0.9474 - precision: nan - recall: 0.0000e+00 - f1_score: n - ETA: 2:25:03 - loss: 0.2064 - acc: 0.9474 - precision: nan - recall: 0.0000e+00 - f1_score: n - ETA: 2:25:00 - loss: 0.2064 - acc: 0.9474 - precision: nan - recall: 0.0000e+00 - f1_score: n - ETA: 2:24:57 - loss: 0.2064 - acc: 0.9474 - precision: nan - recall: 0.0000e+00 - f1_score: n - ETA: 2:24:55 - loss: 0.2064 - acc: 0.9474 - precision: nan - recall: 0.0000e+00 - f1_score: nan"
     ]
    },
    {
     "name": "stdout",
     "output_type": "stream",
     "text": [
      "1020/3947 [======>.......................] - ETA: 2:24:52 - loss: 0.2064 - acc: 0.9474 - precision: nan - recall: 0.0000e+00 - f1_score: n - ETA: 2:24:49 - loss: 0.2064 - acc: 0.9474 - precision: nan - recall: 0.0000e+00 - f1_score: n - ETA: 2:24:46 - loss: 0.2064 - acc: 0.9474 - precision: nan - recall: 0.0000e+00 - f1_score: n - ETA: 2:24:43 - loss: 0.2064 - acc: 0.9474 - precision: nan - recall: 0.0000e+00 - f1_score: n - ETA: 2:24:40 - loss: 0.2064 - acc: 0.9474 - precision: nan - recall: 0.0000e+00 - f1_score: n - ETA: 2:24:37 - loss: 0.2064 - acc: 0.9474 - precision: nan - recall: 0.0000e+00 - f1_score: n - ETA: 2:24:34 - loss: 0.2064 - acc: 0.9474 - precision: nan - recall: 0.0000e+00 - f1_score: n - ETA: 2:24:31 - loss: 0.2064 - acc: 0.9474 - precision: nan - recall: 0.0000e+00 - f1_score: n - ETA: 2:24:29 - loss: 0.2064 - acc: 0.9474 - precision: nan - recall: 0.0000e+00 - f1_score: n - ETA: 2:24:26 - loss: 0.2064 - acc: 0.9474 - precision: nan - recall: 0.0000e+00 - f1_score: n - ETA: 2:24:23 - loss: 0.2064 - acc: 0.9474 - precision: nan - recall: 0.0000e+00 - f1_score: n - ETA: 2:24:20 - loss: 0.2064 - acc: 0.9474 - precision: nan - recall: 0.0000e+00 - f1_score: n - ETA: 2:24:17 - loss: 0.2064 - acc: 0.9474 - precision: nan - recall: 0.0000e+00 - f1_score: n - ETA: 2:24:14 - loss: 0.2064 - acc: 0.9474 - precision: nan - recall: 0.0000e+00 - f1_score: n - ETA: 2:24:11 - loss: 0.2064 - acc: 0.9474 - precision: nan - recall: 0.0000e+00 - f1_score: n - ETA: 2:24:08 - loss: 0.2064 - acc: 0.9474 - precision: nan - recall: 0.0000e+00 - f1_score: n - ETA: 2:24:05 - loss: 0.2064 - acc: 0.9474 - precision: nan - recall: 0.0000e+00 - f1_score: n - ETA: 2:24:02 - loss: 0.2064 - acc: 0.9474 - precision: nan - recall: 0.0000e+00 - f1_score: n - ETA: 2:24:00 - loss: 0.2064 - acc: 0.9474 - precision: nan - recall: 0.0000e+00 - f1_score: n - ETA: 2:23:57 - loss: 0.2064 - acc: 0.9474 - precision: nan - recall: 0.0000e+00 - f1_score: n - ETA: 2:23:54 - loss: 0.2064 - acc: 0.9474 - precision: nan - recall: 0.0000e+00 - f1_score: n - ETA: 2:23:51 - loss: 0.2064 - acc: 0.9474 - precision: nan - recall: 0.0000e+00 - f1_score: n - ETA: 2:23:48 - loss: 0.2064 - acc: 0.9474 - precision: nan - recall: 0.0000e+00 - f1_score: n - ETA: 2:23:45 - loss: 0.2064 - acc: 0.9474 - precision: nan - recall: 0.0000e+00 - f1_score: n - ETA: 2:23:42 - loss: 0.2064 - acc: 0.9474 - precision: nan - recall: 0.0000e+00 - f1_score: n - ETA: 2:23:39 - loss: 0.2064 - acc: 0.9474 - precision: nan - recall: 0.0000e+00 - f1_score: n - ETA: 2:23:36 - loss: 0.2064 - acc: 0.9474 - precision: nan - recall: 0.0000e+00 - f1_score: n - ETA: 2:23:34 - loss: 0.2064 - acc: 0.9474 - precision: nan - recall: 0.0000e+00 - f1_score: n - ETA: 2:23:31 - loss: 0.2064 - acc: 0.9474 - precision: nan - recall: 0.0000e+00 - f1_score: n - ETA: 2:23:28 - loss: 0.2064 - acc: 0.9474 - precision: nan - recall: 0.0000e+00 - f1_score: n - ETA: 2:23:25 - loss: 0.2064 - acc: 0.9474 - precision: nan - recall: 0.0000e+00 - f1_score: n - ETA: 2:23:22 - loss: 0.2064 - acc: 0.9474 - precision: nan - recall: 0.0000e+00 - f1_score: n - ETA: 2:23:19 - loss: 0.2064 - acc: 0.9474 - precision: nan - recall: 0.0000e+00 - f1_score: n - ETA: 2:23:16 - loss: 0.2064 - acc: 0.9474 - precision: nan - recall: 0.0000e+00 - f1_score: n - ETA: 2:23:13 - loss: 0.2064 - acc: 0.9474 - precision: nan - recall: 0.0000e+00 - f1_score: n - ETA: 2:23:10 - loss: 0.2064 - acc: 0.9474 - precision: nan - recall: 0.0000e+00 - f1_score: n - ETA: 2:23:08 - loss: 0.2064 - acc: 0.9474 - precision: nan - recall: 0.0000e+00 - f1_score: n - ETA: 2:23:05 - loss: 0.2064 - acc: 0.9474 - precision: nan - recall: 0.0000e+00 - f1_score: n - ETA: 2:23:02 - loss: 0.2064 - acc: 0.9474 - precision: nan - recall: 0.0000e+00 - f1_score: n - ETA: 2:22:59 - loss: 0.2064 - acc: 0.9474 - precision: nan - recall: 0.0000e+00 - f1_score: n - ETA: 2:22:56 - loss: 0.2064 - acc: 0.9474 - precision: nan - recall: 0.0000e+00 - f1_score: n - ETA: 2:22:53 - loss: 0.2064 - acc: 0.9474 - precision: nan - recall: 0.0000e+00 - f1_score: n - ETA: 2:22:50 - loss: 0.2064 - acc: 0.9474 - precision: nan - recall: 0.0000e+00 - f1_score: n - ETA: 2:22:47 - loss: 0.2064 - acc: 0.9474 - precision: nan - recall: 0.0000e+00 - f1_score: n - ETA: 2:22:44 - loss: 0.2064 - acc: 0.9474 - precision: nan - recall: 0.0000e+00 - f1_score: n - ETA: 2:22:42 - loss: 0.2064 - acc: 0.9474 - precision: nan - recall: 0.0000e+00 - f1_score: n - ETA: 2:22:39 - loss: 0.2064 - acc: 0.9474 - precision: nan - recall: 0.0000e+00 - f1_score: n - ETA: 2:22:36 - loss: 0.2064 - acc: 0.9474 - precision: nan - recall: 0.0000e+00 - f1_score: n - ETA: 2:22:33 - loss: 0.2064 - acc: 0.9474 - precision: nan - recall: 0.0000e+00 - f1_score: n - ETA: 2:22:30 - loss: 0.2064 - acc: 0.9474 - precision: nan - recall: 0.0000e+00 - f1_score: n - ETA: 2:22:27 - loss: 0.2064 - acc: 0.9474 - precision: nan - recall: 0.0000e+00 - f1_score: n - ETA: 2:22:24 - loss: 0.2064 - acc: 0.9474 - precision: nan - recall: 0.0000e+00 - f1_score: n - ETA: 2:22:21 - loss: 0.2064 - acc: 0.9474 - precision: nan - recall: 0.0000e+00 - f1_score: n - ETA: 2:22:18 - loss: 0.2064 - acc: 0.9474 - precision: nan - recall: 0.0000e+00 - f1_score: n - ETA: 2:22:16 - loss: 0.2064 - acc: 0.9474 - precision: nan - recall: 0.0000e+00 - f1_score: n - ETA: 2:22:13 - loss: 0.2064 - acc: 0.9474 - precision: nan - recall: 0.0000e+00 - f1_score: n - ETA: 2:22:10 - loss: 0.2064 - acc: 0.9474 - precision: nan - recall: 0.0000e+00 - f1_score: n - ETA: 2:22:07 - loss: 0.2064 - acc: 0.9474 - precision: nan - recall: 0.0000e+00 - f1_score: n - ETA: 2:22:04 - loss: 0.2064 - acc: 0.9474 - precision: nan - recall: 0.0000e+00 - f1_score: n - ETA: 2:22:01 - loss: 0.2064 - acc: 0.9474 - precision: nan - recall: 0.0000e+00 - f1_score: n - ETA: 2:21:58 - loss: 0.2064 - acc: 0.9474 - precision: nan - recall: 0.0000e+00 - f1_score: n - ETA: 2:21:55 - loss: 0.2064 - acc: 0.9474 - precision: nan - recall: 0.0000e+00 - f1_score: n - ETA: 2:21:53 - loss: 0.2064 - acc: 0.9474 - precision: nan - recall: 0.0000e+00 - f1_score: n - ETA: 2:21:50 - loss: 0.2064 - acc: 0.9474 - precision: nan - recall: 0.0000e+00 - f1_score: n - ETA: 2:21:47 - loss: 0.2064 - acc: 0.9474 - precision: nan - recall: 0.0000e+00 - f1_score: n - ETA: 2:21:44 - loss: 0.2064 - acc: 0.9474 - precision: nan - recall: 0.0000e+00 - f1_score: n - ETA: 2:21:41 - loss: 0.2064 - acc: 0.9474 - precision: nan - recall: 0.0000e+00 - f1_score: n - ETA: 2:21:38 - loss: 0.2064 - acc: 0.9474 - precision: nan - recall: 0.0000e+00 - f1_score: n - ETA: 2:21:35 - loss: 0.2064 - acc: 0.9474 - precision: nan - recall: 0.0000e+00 - f1_score: n - ETA: 2:21:32 - loss: 0.2064 - acc: 0.9474 - precision: nan - recall: 0.0000e+00 - f1_score: n - ETA: 2:21:29 - loss: 0.2064 - acc: 0.9474 - precision: nan - recall: 0.0000e+00 - f1_score: n - ETA: 2:21:27 - loss: 0.2064 - acc: 0.9474 - precision: nan - recall: 0.0000e+00 - f1_score: n - ETA: 2:21:24 - loss: 0.2064 - acc: 0.9474 - precision: nan - recall: 0.0000e+00 - f1_score: n - ETA: 2:21:21 - loss: 0.2064 - acc: 0.9474 - precision: nan - recall: 0.0000e+00 - f1_score: n - ETA: 2:21:18 - loss: 0.2064 - acc: 0.9474 - precision: nan - recall: 0.0000e+00 - f1_score: n - ETA: 2:21:15 - loss: 0.2064 - acc: 0.9474 - precision: nan - recall: 0.0000e+00 - f1_score: n - ETA: 2:21:12 - loss: 0.2064 - acc: 0.9474 - precision: nan - recall: 0.0000e+00 - f1_score: n - ETA: 2:21:09 - loss: 0.2064 - acc: 0.9474 - precision: nan - recall: 0.0000e+00 - f1_score: n - ETA: 2:21:06 - loss: 0.2064 - acc: 0.9474 - precision: nan - recall: 0.0000e+00 - f1_score: n - ETA: 2:21:03 - loss: 0.2064 - acc: 0.9474 - precision: nan - recall: 0.0000e+00 - f1_score: n - ETA: 2:21:01 - loss: 0.2064 - acc: 0.9474 - precision: nan - recall: 0.0000e+00 - f1_score: n - ETA: 2:20:58 - loss: 0.2064 - acc: 0.9474 - precision: nan - recall: 0.0000e+00 - f1_score: n - ETA: 2:20:55 - loss: 0.2064 - acc: 0.9474 - precision: nan - recall: 0.0000e+00 - f1_score: n - ETA: 2:20:52 - loss: 0.2064 - acc: 0.9474 - precision: nan - recall: 0.0000e+00 - f1_score: n - ETA: 2:20:49 - loss: 0.2064 - acc: 0.9474 - precision: nan - recall: 0.0000e+00 - f1_score: nan"
     ]
    },
    {
     "name": "stdout",
     "output_type": "stream",
     "text": [
      "1105/3947 [=======>......................] - ETA: 2:20:46 - loss: 0.2064 - acc: 0.9474 - precision: nan - recall: 0.0000e+00 - f1_score: n - ETA: 2:20:43 - loss: 0.2064 - acc: 0.9474 - precision: nan - recall: 0.0000e+00 - f1_score: n - ETA: 2:20:40 - loss: 0.2064 - acc: 0.9474 - precision: nan - recall: 0.0000e+00 - f1_score: n - ETA: 2:20:38 - loss: 0.2064 - acc: 0.9474 - precision: nan - recall: 0.0000e+00 - f1_score: n - ETA: 2:20:35 - loss: 0.2064 - acc: 0.9474 - precision: nan - recall: 0.0000e+00 - f1_score: n - ETA: 2:20:32 - loss: 0.2064 - acc: 0.9474 - precision: nan - recall: 0.0000e+00 - f1_score: n - ETA: 2:20:29 - loss: 0.2064 - acc: 0.9474 - precision: nan - recall: 0.0000e+00 - f1_score: n - ETA: 2:20:26 - loss: 0.2064 - acc: 0.9474 - precision: nan - recall: 0.0000e+00 - f1_score: n - ETA: 2:20:23 - loss: 0.2064 - acc: 0.9474 - precision: nan - recall: 0.0000e+00 - f1_score: n - ETA: 2:20:20 - loss: 0.2064 - acc: 0.9474 - precision: nan - recall: 0.0000e+00 - f1_score: n - ETA: 2:20:17 - loss: 0.2064 - acc: 0.9474 - precision: nan - recall: 0.0000e+00 - f1_score: n - ETA: 2:20:14 - loss: 0.2064 - acc: 0.9474 - precision: nan - recall: 0.0000e+00 - f1_score: n - ETA: 2:20:12 - loss: 0.2064 - acc: 0.9474 - precision: nan - recall: 0.0000e+00 - f1_score: n - ETA: 2:20:09 - loss: 0.2064 - acc: 0.9474 - precision: nan - recall: 0.0000e+00 - f1_score: n - ETA: 2:20:06 - loss: 0.2064 - acc: 0.9474 - precision: nan - recall: 0.0000e+00 - f1_score: n - ETA: 2:20:03 - loss: 0.2064 - acc: 0.9474 - precision: nan - recall: 0.0000e+00 - f1_score: n - ETA: 2:20:00 - loss: 0.2064 - acc: 0.9474 - precision: nan - recall: 0.0000e+00 - f1_score: n - ETA: 2:19:57 - loss: 0.2064 - acc: 0.9474 - precision: nan - recall: 0.0000e+00 - f1_score: n - ETA: 2:19:54 - loss: 0.2064 - acc: 0.9474 - precision: nan - recall: 0.0000e+00 - f1_score: n - ETA: 2:19:51 - loss: 0.2064 - acc: 0.9474 - precision: nan - recall: 0.0000e+00 - f1_score: n - ETA: 2:19:48 - loss: 0.2064 - acc: 0.9474 - precision: nan - recall: 0.0000e+00 - f1_score: n - ETA: 2:19:46 - loss: 0.2064 - acc: 0.9474 - precision: nan - recall: 0.0000e+00 - f1_score: n - ETA: 2:19:43 - loss: 0.2064 - acc: 0.9474 - precision: nan - recall: 0.0000e+00 - f1_score: n - ETA: 2:19:40 - loss: 0.2064 - acc: 0.9474 - precision: nan - recall: 0.0000e+00 - f1_score: n - ETA: 2:19:37 - loss: 0.2064 - acc: 0.9474 - precision: nan - recall: 0.0000e+00 - f1_score: n - ETA: 2:19:34 - loss: 0.2064 - acc: 0.9474 - precision: nan - recall: 0.0000e+00 - f1_score: n - ETA: 2:19:31 - loss: 0.2064 - acc: 0.9474 - precision: nan - recall: 0.0000e+00 - f1_score: n - ETA: 2:19:28 - loss: 0.2064 - acc: 0.9474 - precision: nan - recall: 0.0000e+00 - f1_score: n - ETA: 2:19:25 - loss: 0.2064 - acc: 0.9474 - precision: nan - recall: 0.0000e+00 - f1_score: n - ETA: 2:19:22 - loss: 0.2064 - acc: 0.9474 - precision: nan - recall: 0.0000e+00 - f1_score: n - ETA: 2:19:20 - loss: 0.2064 - acc: 0.9474 - precision: nan - recall: 0.0000e+00 - f1_score: n - ETA: 2:19:17 - loss: 0.2064 - acc: 0.9474 - precision: nan - recall: 0.0000e+00 - f1_score: n - ETA: 2:19:14 - loss: 0.2064 - acc: 0.9474 - precision: nan - recall: 0.0000e+00 - f1_score: n - ETA: 2:19:11 - loss: 0.2064 - acc: 0.9474 - precision: nan - recall: 0.0000e+00 - f1_score: n - ETA: 2:19:08 - loss: 0.2064 - acc: 0.9474 - precision: nan - recall: 0.0000e+00 - f1_score: n - ETA: 2:19:05 - loss: 0.2064 - acc: 0.9474 - precision: nan - recall: 0.0000e+00 - f1_score: n - ETA: 2:19:02 - loss: 0.2064 - acc: 0.9474 - precision: nan - recall: 0.0000e+00 - f1_score: n - ETA: 2:18:59 - loss: 0.2064 - acc: 0.9474 - precision: nan - recall: 0.0000e+00 - f1_score: n - ETA: 2:18:56 - loss: 0.2064 - acc: 0.9474 - precision: nan - recall: 0.0000e+00 - f1_score: n - ETA: 2:18:53 - loss: 0.2064 - acc: 0.9474 - precision: nan - recall: 0.0000e+00 - f1_score: n - ETA: 2:18:51 - loss: 0.2064 - acc: 0.9474 - precision: nan - recall: 0.0000e+00 - f1_score: n - ETA: 2:18:48 - loss: 0.2064 - acc: 0.9474 - precision: nan - recall: 0.0000e+00 - f1_score: n - ETA: 2:18:45 - loss: 0.2064 - acc: 0.9474 - precision: nan - recall: 0.0000e+00 - f1_score: n - ETA: 2:18:42 - loss: 0.2064 - acc: 0.9474 - precision: nan - recall: 0.0000e+00 - f1_score: n - ETA: 2:18:39 - loss: 0.2064 - acc: 0.9474 - precision: nan - recall: 0.0000e+00 - f1_score: n - ETA: 2:18:36 - loss: 0.2064 - acc: 0.9474 - precision: nan - recall: 0.0000e+00 - f1_score: n - ETA: 2:18:33 - loss: 0.2064 - acc: 0.9474 - precision: nan - recall: 0.0000e+00 - f1_score: n - ETA: 2:18:30 - loss: 0.2064 - acc: 0.9474 - precision: nan - recall: 0.0000e+00 - f1_score: n - ETA: 2:18:27 - loss: 0.2064 - acc: 0.9474 - precision: nan - recall: 0.0000e+00 - f1_score: n - ETA: 2:18:25 - loss: 0.2064 - acc: 0.9474 - precision: nan - recall: 0.0000e+00 - f1_score: n - ETA: 2:18:22 - loss: 0.2064 - acc: 0.9474 - precision: nan - recall: 0.0000e+00 - f1_score: n - ETA: 2:18:19 - loss: 0.2064 - acc: 0.9474 - precision: nan - recall: 0.0000e+00 - f1_score: n - ETA: 2:18:16 - loss: 0.2064 - acc: 0.9474 - precision: nan - recall: 0.0000e+00 - f1_score: n - ETA: 2:18:13 - loss: 0.2064 - acc: 0.9474 - precision: nan - recall: 0.0000e+00 - f1_score: n - ETA: 2:18:10 - loss: 0.2064 - acc: 0.9474 - precision: nan - recall: 0.0000e+00 - f1_score: n - ETA: 2:18:07 - loss: 0.2064 - acc: 0.9474 - precision: nan - recall: 0.0000e+00 - f1_score: n - ETA: 2:18:04 - loss: 0.2064 - acc: 0.9474 - precision: nan - recall: 0.0000e+00 - f1_score: n - ETA: 2:18:01 - loss: 0.2064 - acc: 0.9474 - precision: nan - recall: 0.0000e+00 - f1_score: n - ETA: 2:17:59 - loss: 0.2064 - acc: 0.9474 - precision: nan - recall: 0.0000e+00 - f1_score: n - ETA: 2:17:56 - loss: 0.2064 - acc: 0.9474 - precision: nan - recall: 0.0000e+00 - f1_score: n - ETA: 2:17:53 - loss: 0.2064 - acc: 0.9474 - precision: nan - recall: 0.0000e+00 - f1_score: n - ETA: 2:17:50 - loss: 0.2064 - acc: 0.9474 - precision: nan - recall: 0.0000e+00 - f1_score: n - ETA: 2:17:47 - loss: 0.2064 - acc: 0.9474 - precision: nan - recall: 0.0000e+00 - f1_score: n - ETA: 2:17:44 - loss: 0.2064 - acc: 0.9474 - precision: nan - recall: 0.0000e+00 - f1_score: n - ETA: 2:17:41 - loss: 0.2064 - acc: 0.9474 - precision: nan - recall: 0.0000e+00 - f1_score: n - ETA: 2:17:39 - loss: 0.2064 - acc: 0.9474 - precision: nan - recall: 0.0000e+00 - f1_score: n - ETA: 2:17:36 - loss: 0.2064 - acc: 0.9474 - precision: nan - recall: 0.0000e+00 - f1_score: n - ETA: 2:17:33 - loss: 0.2064 - acc: 0.9474 - precision: nan - recall: 0.0000e+00 - f1_score: n - ETA: 2:17:30 - loss: 0.2064 - acc: 0.9474 - precision: nan - recall: 0.0000e+00 - f1_score: n - ETA: 2:17:27 - loss: 0.2064 - acc: 0.9474 - precision: nan - recall: 0.0000e+00 - f1_score: n - ETA: 2:17:24 - loss: 0.2064 - acc: 0.9474 - precision: nan - recall: 0.0000e+00 - f1_score: n - ETA: 2:17:21 - loss: 0.2064 - acc: 0.9474 - precision: nan - recall: 0.0000e+00 - f1_score: n - ETA: 2:17:18 - loss: 0.2064 - acc: 0.9474 - precision: nan - recall: 0.0000e+00 - f1_score: n - ETA: 2:17:15 - loss: 0.2064 - acc: 0.9474 - precision: nan - recall: 0.0000e+00 - f1_score: n - ETA: 2:17:13 - loss: 0.2064 - acc: 0.9474 - precision: nan - recall: 0.0000e+00 - f1_score: n - ETA: 2:17:10 - loss: 0.2064 - acc: 0.9474 - precision: nan - recall: 0.0000e+00 - f1_score: n - ETA: 2:17:07 - loss: 0.2064 - acc: 0.9474 - precision: nan - recall: 0.0000e+00 - f1_score: n - ETA: 2:17:04 - loss: 0.2064 - acc: 0.9474 - precision: nan - recall: 0.0000e+00 - f1_score: n - ETA: 2:17:01 - loss: 0.2064 - acc: 0.9474 - precision: nan - recall: 0.0000e+00 - f1_score: n - ETA: 2:16:58 - loss: 0.2064 - acc: 0.9474 - precision: nan - recall: 0.0000e+00 - f1_score: n - ETA: 2:16:55 - loss: 0.2064 - acc: 0.9474 - precision: nan - recall: 0.0000e+00 - f1_score: n - ETA: 2:16:52 - loss: 0.2064 - acc: 0.9474 - precision: nan - recall: 0.0000e+00 - f1_score: n - ETA: 2:16:49 - loss: 0.2064 - acc: 0.9474 - precision: nan - recall: 0.0000e+00 - f1_score: n - ETA: 2:16:47 - loss: 0.2064 - acc: 0.9474 - precision: nan - recall: 0.0000e+00 - f1_score: n - ETA: 2:16:44 - loss: 0.2064 - acc: 0.9474 - precision: nan - recall: 0.0000e+00 - f1_score: nan"
     ]
    },
    {
     "name": "stdout",
     "output_type": "stream",
     "text": [
      "1190/3947 [========>.....................] - ETA: 2:16:41 - loss: 0.2064 - acc: 0.9474 - precision: nan - recall: 0.0000e+00 - f1_score: n - ETA: 2:16:38 - loss: 0.2064 - acc: 0.9474 - precision: nan - recall: 0.0000e+00 - f1_score: n - ETA: 2:16:35 - loss: 0.2064 - acc: 0.9474 - precision: nan - recall: 0.0000e+00 - f1_score: n - ETA: 2:16:32 - loss: 0.2064 - acc: 0.9474 - precision: nan - recall: 0.0000e+00 - f1_score: n - ETA: 2:16:29 - loss: 0.2064 - acc: 0.9474 - precision: nan - recall: 0.0000e+00 - f1_score: n - ETA: 2:16:26 - loss: 0.2064 - acc: 0.9474 - precision: nan - recall: 0.0000e+00 - f1_score: n - ETA: 2:16:23 - loss: 0.2064 - acc: 0.9474 - precision: nan - recall: 0.0000e+00 - f1_score: n - ETA: 2:16:21 - loss: 0.2064 - acc: 0.9474 - precision: nan - recall: 0.0000e+00 - f1_score: n - ETA: 2:16:18 - loss: 0.2064 - acc: 0.9474 - precision: nan - recall: 0.0000e+00 - f1_score: n - ETA: 2:16:15 - loss: 0.2064 - acc: 0.9474 - precision: nan - recall: 0.0000e+00 - f1_score: n - ETA: 2:16:12 - loss: 0.2064 - acc: 0.9474 - precision: nan - recall: 0.0000e+00 - f1_score: n - ETA: 2:16:09 - loss: 0.2064 - acc: 0.9474 - precision: nan - recall: 0.0000e+00 - f1_score: n - ETA: 2:16:06 - loss: 0.2064 - acc: 0.9474 - precision: nan - recall: 0.0000e+00 - f1_score: n - ETA: 2:16:03 - loss: 0.2064 - acc: 0.9474 - precision: nan - recall: 0.0000e+00 - f1_score: n - ETA: 2:16:00 - loss: 0.2064 - acc: 0.9474 - precision: nan - recall: 0.0000e+00 - f1_score: n - ETA: 2:15:57 - loss: 0.2064 - acc: 0.9474 - precision: nan - recall: 0.0000e+00 - f1_score: n - ETA: 2:15:55 - loss: 0.2064 - acc: 0.9474 - precision: nan - recall: 0.0000e+00 - f1_score: n - ETA: 2:15:52 - loss: 0.2064 - acc: 0.9474 - precision: nan - recall: 0.0000e+00 - f1_score: n - ETA: 2:15:49 - loss: 0.2064 - acc: 0.9474 - precision: nan - recall: 0.0000e+00 - f1_score: n - ETA: 2:15:46 - loss: 0.2064 - acc: 0.9474 - precision: nan - recall: 0.0000e+00 - f1_score: n - ETA: 2:15:43 - loss: 0.2064 - acc: 0.9474 - precision: nan - recall: 0.0000e+00 - f1_score: n - ETA: 2:15:40 - loss: 0.2064 - acc: 0.9474 - precision: nan - recall: 0.0000e+00 - f1_score: n - ETA: 2:15:37 - loss: 0.2064 - acc: 0.9474 - precision: nan - recall: 0.0000e+00 - f1_score: n - ETA: 2:15:34 - loss: 0.2064 - acc: 0.9474 - precision: nan - recall: 0.0000e+00 - f1_score: n - ETA: 2:15:31 - loss: 0.2064 - acc: 0.9474 - precision: nan - recall: 0.0000e+00 - f1_score: n - ETA: 2:15:29 - loss: 0.2064 - acc: 0.9474 - precision: nan - recall: 0.0000e+00 - f1_score: n - ETA: 2:15:26 - loss: 0.2064 - acc: 0.9474 - precision: nan - recall: 0.0000e+00 - f1_score: n - ETA: 2:15:23 - loss: 0.2064 - acc: 0.9474 - precision: nan - recall: 0.0000e+00 - f1_score: n - ETA: 2:15:20 - loss: 0.2064 - acc: 0.9474 - precision: nan - recall: 0.0000e+00 - f1_score: n - ETA: 2:15:17 - loss: 0.2064 - acc: 0.9474 - precision: nan - recall: 0.0000e+00 - f1_score: n - ETA: 2:15:14 - loss: 0.2064 - acc: 0.9474 - precision: nan - recall: 0.0000e+00 - f1_score: n - ETA: 2:15:11 - loss: 0.2064 - acc: 0.9474 - precision: nan - recall: 0.0000e+00 - f1_score: n - ETA: 2:15:08 - loss: 0.2064 - acc: 0.9474 - precision: nan - recall: 0.0000e+00 - f1_score: n - ETA: 2:15:05 - loss: 0.2064 - acc: 0.9474 - precision: nan - recall: 0.0000e+00 - f1_score: n - ETA: 2:15:03 - loss: 0.2064 - acc: 0.9474 - precision: nan - recall: 0.0000e+00 - f1_score: n - ETA: 2:15:00 - loss: 0.2064 - acc: 0.9474 - precision: nan - recall: 0.0000e+00 - f1_score: n - ETA: 2:14:57 - loss: 0.2064 - acc: 0.9474 - precision: nan - recall: 0.0000e+00 - f1_score: n - ETA: 2:14:54 - loss: 0.2064 - acc: 0.9474 - precision: nan - recall: 0.0000e+00 - f1_score: n - ETA: 2:14:51 - loss: 0.2064 - acc: 0.9474 - precision: nan - recall: 0.0000e+00 - f1_score: n - ETA: 2:14:48 - loss: 0.2064 - acc: 0.9474 - precision: nan - recall: 0.0000e+00 - f1_score: n - ETA: 2:14:45 - loss: 0.2064 - acc: 0.9474 - precision: nan - recall: 0.0000e+00 - f1_score: n - ETA: 2:14:42 - loss: 0.2064 - acc: 0.9474 - precision: nan - recall: 0.0000e+00 - f1_score: n - ETA: 2:14:39 - loss: 0.2064 - acc: 0.9474 - precision: nan - recall: 0.0000e+00 - f1_score: n - ETA: 2:14:37 - loss: 0.2064 - acc: 0.9474 - precision: nan - recall: 0.0000e+00 - f1_score: n - ETA: 2:14:34 - loss: 0.2064 - acc: 0.9474 - precision: nan - recall: 0.0000e+00 - f1_score: n - ETA: 2:14:31 - loss: 0.2064 - acc: 0.9474 - precision: nan - recall: 0.0000e+00 - f1_score: n - ETA: 2:14:28 - loss: 0.2064 - acc: 0.9474 - precision: nan - recall: 0.0000e+00 - f1_score: n - ETA: 2:14:25 - loss: 0.2064 - acc: 0.9474 - precision: nan - recall: 0.0000e+00 - f1_score: n - ETA: 2:14:22 - loss: 0.2064 - acc: 0.9474 - precision: nan - recall: 0.0000e+00 - f1_score: n - ETA: 2:14:19 - loss: 0.2064 - acc: 0.9474 - precision: nan - recall: 0.0000e+00 - f1_score: n - ETA: 2:14:16 - loss: 0.2064 - acc: 0.9474 - precision: nan - recall: 0.0000e+00 - f1_score: n - ETA: 2:14:13 - loss: 0.2064 - acc: 0.9474 - precision: nan - recall: 0.0000e+00 - f1_score: n - ETA: 2:14:09 - loss: 0.2064 - acc: 0.9474 - precision: nan - recall: 0.0000e+00 - f1_score: n - ETA: 2:14:06 - loss: 0.2064 - acc: 0.9474 - precision: nan - recall: 0.0000e+00 - f1_score: n - ETA: 2:14:03 - loss: 0.2064 - acc: 0.9474 - precision: nan - recall: 0.0000e+00 - f1_score: n - ETA: 2:14:00 - loss: 0.2064 - acc: 0.9474 - precision: nan - recall: 0.0000e+00 - f1_score: n - ETA: 2:13:57 - loss: 0.2064 - acc: 0.9474 - precision: nan - recall: 0.0000e+00 - f1_score: n - ETA: 2:13:54 - loss: 0.2064 - acc: 0.9474 - precision: nan - recall: 0.0000e+00 - f1_score: n - ETA: 2:13:52 - loss: 0.2064 - acc: 0.9474 - precision: nan - recall: 0.0000e+00 - f1_score: n - ETA: 2:13:49 - loss: 0.2064 - acc: 0.9474 - precision: nan - recall: 0.0000e+00 - f1_score: n - ETA: 2:13:46 - loss: 0.2064 - acc: 0.9474 - precision: nan - recall: 0.0000e+00 - f1_score: n - ETA: 2:13:43 - loss: 0.2064 - acc: 0.9474 - precision: nan - recall: 0.0000e+00 - f1_score: n - ETA: 2:13:40 - loss: 0.2064 - acc: 0.9474 - precision: nan - recall: 0.0000e+00 - f1_score: n - ETA: 2:13:37 - loss: 0.2064 - acc: 0.9474 - precision: nan - recall: 0.0000e+00 - f1_score: n - ETA: 2:13:34 - loss: 0.2064 - acc: 0.9474 - precision: nan - recall: 0.0000e+00 - f1_score: n - ETA: 2:13:31 - loss: 0.2064 - acc: 0.9474 - precision: nan - recall: 0.0000e+00 - f1_score: n - ETA: 2:13:28 - loss: 0.2064 - acc: 0.9474 - precision: nan - recall: 0.0000e+00 - f1_score: n - ETA: 2:13:26 - loss: 0.2064 - acc: 0.9474 - precision: nan - recall: 0.0000e+00 - f1_score: n - ETA: 2:13:23 - loss: 0.2064 - acc: 0.9474 - precision: nan - recall: 0.0000e+00 - f1_score: n - ETA: 2:13:20 - loss: 0.2064 - acc: 0.9474 - precision: nan - recall: 0.0000e+00 - f1_score: n - ETA: 2:13:17 - loss: 0.2064 - acc: 0.9474 - precision: nan - recall: 0.0000e+00 - f1_score: n - ETA: 2:13:14 - loss: 0.2064 - acc: 0.9474 - precision: nan - recall: 0.0000e+00 - f1_score: n - ETA: 2:13:11 - loss: 0.2064 - acc: 0.9474 - precision: nan - recall: 0.0000e+00 - f1_score: n - ETA: 2:13:08 - loss: 0.2064 - acc: 0.9474 - precision: nan - recall: 0.0000e+00 - f1_score: n - ETA: 2:13:05 - loss: 0.2064 - acc: 0.9474 - precision: nan - recall: 0.0000e+00 - f1_score: n - ETA: 2:13:02 - loss: 0.2064 - acc: 0.9474 - precision: nan - recall: 0.0000e+00 - f1_score: n - ETA: 2:13:00 - loss: 0.2064 - acc: 0.9474 - precision: nan - recall: 0.0000e+00 - f1_score: n - ETA: 2:12:57 - loss: 0.2064 - acc: 0.9474 - precision: nan - recall: 0.0000e+00 - f1_score: n - ETA: 2:12:54 - loss: 0.2064 - acc: 0.9474 - precision: nan - recall: 0.0000e+00 - f1_score: n - ETA: 2:12:51 - loss: 0.2064 - acc: 0.9474 - precision: nan - recall: 0.0000e+00 - f1_score: n - ETA: 2:12:48 - loss: 0.2064 - acc: 0.9474 - precision: nan - recall: 0.0000e+00 - f1_score: n - ETA: 2:12:45 - loss: 0.2064 - acc: 0.9474 - precision: nan - recall: 0.0000e+00 - f1_score: n - ETA: 2:12:42 - loss: 0.2064 - acc: 0.9474 - precision: nan - recall: 0.0000e+00 - f1_score: n - ETA: 2:12:39 - loss: 0.2064 - acc: 0.9474 - precision: nan - recall: 0.0000e+00 - f1_score: n - ETA: 2:12:36 - loss: 0.2064 - acc: 0.9474 - precision: nan - recall: 0.0000e+00 - f1_score: nan"
     ]
    },
    {
     "name": "stdout",
     "output_type": "stream",
     "text": [
      "1275/3947 [========>.....................] - ETA: 2:12:34 - loss: 0.2064 - acc: 0.9474 - precision: nan - recall: 0.0000e+00 - f1_score: n - ETA: 2:12:31 - loss: 0.2064 - acc: 0.9474 - precision: nan - recall: 0.0000e+00 - f1_score: n - ETA: 2:12:28 - loss: 0.2064 - acc: 0.9474 - precision: nan - recall: 0.0000e+00 - f1_score: n - ETA: 2:12:25 - loss: 0.2064 - acc: 0.9474 - precision: nan - recall: 0.0000e+00 - f1_score: n - ETA: 2:12:22 - loss: 0.2064 - acc: 0.9474 - precision: nan - recall: 0.0000e+00 - f1_score: n - ETA: 2:12:19 - loss: 0.2064 - acc: 0.9474 - precision: nan - recall: 0.0000e+00 - f1_score: n - ETA: 2:12:16 - loss: 0.2064 - acc: 0.9474 - precision: nan - recall: 0.0000e+00 - f1_score: n - ETA: 2:12:13 - loss: 0.2064 - acc: 0.9474 - precision: nan - recall: 0.0000e+00 - f1_score: n - ETA: 2:12:10 - loss: 0.2064 - acc: 0.9474 - precision: nan - recall: 0.0000e+00 - f1_score: n - ETA: 2:12:08 - loss: 0.2064 - acc: 0.9474 - precision: nan - recall: 0.0000e+00 - f1_score: n - ETA: 2:12:05 - loss: 0.2064 - acc: 0.9474 - precision: nan - recall: 0.0000e+00 - f1_score: n - ETA: 2:12:02 - loss: 0.2064 - acc: 0.9474 - precision: nan - recall: 0.0000e+00 - f1_score: n - ETA: 2:11:59 - loss: 0.2064 - acc: 0.9474 - precision: nan - recall: 0.0000e+00 - f1_score: n - ETA: 2:11:56 - loss: 0.2064 - acc: 0.9474 - precision: nan - recall: 0.0000e+00 - f1_score: n - ETA: 2:11:53 - loss: 0.2064 - acc: 0.9474 - precision: nan - recall: 0.0000e+00 - f1_score: n - ETA: 2:11:50 - loss: 0.2064 - acc: 0.9474 - precision: nan - recall: 0.0000e+00 - f1_score: n - ETA: 2:11:47 - loss: 0.2064 - acc: 0.9474 - precision: nan - recall: 0.0000e+00 - f1_score: n - ETA: 2:11:44 - loss: 0.2064 - acc: 0.9474 - precision: nan - recall: 0.0000e+00 - f1_score: n - ETA: 2:11:42 - loss: 0.2064 - acc: 0.9474 - precision: nan - recall: 0.0000e+00 - f1_score: n - ETA: 2:11:39 - loss: 0.2064 - acc: 0.9474 - precision: nan - recall: 0.0000e+00 - f1_score: n - ETA: 2:11:36 - loss: 0.2064 - acc: 0.9474 - precision: nan - recall: 0.0000e+00 - f1_score: n - ETA: 2:11:33 - loss: 0.2064 - acc: 0.9474 - precision: nan - recall: 0.0000e+00 - f1_score: n - ETA: 2:11:30 - loss: 0.2064 - acc: 0.9474 - precision: nan - recall: 0.0000e+00 - f1_score: n - ETA: 2:11:27 - loss: 0.2064 - acc: 0.9474 - precision: nan - recall: 0.0000e+00 - f1_score: n - ETA: 2:11:24 - loss: 0.2064 - acc: 0.9474 - precision: nan - recall: 0.0000e+00 - f1_score: n - ETA: 2:11:21 - loss: 0.2064 - acc: 0.9474 - precision: nan - recall: 0.0000e+00 - f1_score: n - ETA: 2:11:18 - loss: 0.2064 - acc: 0.9474 - precision: nan - recall: 0.0000e+00 - f1_score: n - ETA: 2:11:16 - loss: 0.2064 - acc: 0.9474 - precision: nan - recall: 0.0000e+00 - f1_score: n - ETA: 2:11:13 - loss: 0.2064 - acc: 0.9474 - precision: nan - recall: 0.0000e+00 - f1_score: n - ETA: 2:11:10 - loss: 0.2064 - acc: 0.9474 - precision: nan - recall: 0.0000e+00 - f1_score: n - ETA: 2:11:07 - loss: 0.2064 - acc: 0.9474 - precision: nan - recall: 0.0000e+00 - f1_score: n - ETA: 2:11:04 - loss: 0.2064 - acc: 0.9474 - precision: nan - recall: 0.0000e+00 - f1_score: n - ETA: 2:11:01 - loss: 0.2064 - acc: 0.9474 - precision: nan - recall: 0.0000e+00 - f1_score: n - ETA: 2:10:58 - loss: 0.2064 - acc: 0.9474 - precision: nan - recall: 0.0000e+00 - f1_score: n - ETA: 2:10:55 - loss: 0.2064 - acc: 0.9474 - precision: nan - recall: 0.0000e+00 - f1_score: n - ETA: 2:10:52 - loss: 0.2064 - acc: 0.9474 - precision: nan - recall: 0.0000e+00 - f1_score: n - ETA: 2:10:50 - loss: 0.2064 - acc: 0.9474 - precision: nan - recall: 0.0000e+00 - f1_score: n - ETA: 2:10:47 - loss: 0.2064 - acc: 0.9474 - precision: nan - recall: 0.0000e+00 - f1_score: n - ETA: 2:10:44 - loss: 0.2064 - acc: 0.9474 - precision: nan - recall: 0.0000e+00 - f1_score: n - ETA: 2:10:41 - loss: 0.2064 - acc: 0.9474 - precision: nan - recall: 0.0000e+00 - f1_score: n - ETA: 2:10:38 - loss: 0.2064 - acc: 0.9474 - precision: nan - recall: 0.0000e+00 - f1_score: n - ETA: 2:10:35 - loss: 0.2064 - acc: 0.9474 - precision: nan - recall: 0.0000e+00 - f1_score: n - ETA: 2:10:32 - loss: 0.2064 - acc: 0.9474 - precision: nan - recall: 0.0000e+00 - f1_score: n - ETA: 2:10:29 - loss: 0.2064 - acc: 0.9474 - precision: nan - recall: 0.0000e+00 - f1_score: n - ETA: 2:10:26 - loss: 0.2064 - acc: 0.9474 - precision: nan - recall: 0.0000e+00 - f1_score: n - ETA: 2:10:24 - loss: 0.2064 - acc: 0.9474 - precision: nan - recall: 0.0000e+00 - f1_score: n - ETA: 2:10:21 - loss: 0.2064 - acc: 0.9474 - precision: nan - recall: 0.0000e+00 - f1_score: n - ETA: 2:10:18 - loss: 0.2064 - acc: 0.9474 - precision: nan - recall: 0.0000e+00 - f1_score: n - ETA: 2:10:15 - loss: 0.2064 - acc: 0.9474 - precision: nan - recall: 0.0000e+00 - f1_score: n - ETA: 2:10:12 - loss: 0.2064 - acc: 0.9474 - precision: nan - recall: 0.0000e+00 - f1_score: n - ETA: 2:10:09 - loss: 0.2064 - acc: 0.9474 - precision: nan - recall: 0.0000e+00 - f1_score: n - ETA: 2:10:06 - loss: 0.2064 - acc: 0.9474 - precision: nan - recall: 0.0000e+00 - f1_score: n - ETA: 2:10:03 - loss: 0.2064 - acc: 0.9474 - precision: nan - recall: 0.0000e+00 - f1_score: n - ETA: 2:10:00 - loss: 0.2064 - acc: 0.9474 - precision: nan - recall: 0.0000e+00 - f1_score: n - ETA: 2:09:58 - loss: 0.2064 - acc: 0.9474 - precision: nan - recall: 0.0000e+00 - f1_score: n - ETA: 2:09:55 - loss: 0.2064 - acc: 0.9474 - precision: nan - recall: 0.0000e+00 - f1_score: n - ETA: 2:09:52 - loss: 0.2064 - acc: 0.9474 - precision: nan - recall: 0.0000e+00 - f1_score: n - ETA: 2:09:49 - loss: 0.2064 - acc: 0.9474 - precision: nan - recall: 0.0000e+00 - f1_score: n - ETA: 2:09:46 - loss: 0.2064 - acc: 0.9474 - precision: nan - recall: 0.0000e+00 - f1_score: n - ETA: 2:09:43 - loss: 0.2064 - acc: 0.9474 - precision: nan - recall: 0.0000e+00 - f1_score: n - ETA: 2:09:40 - loss: 0.2064 - acc: 0.9474 - precision: nan - recall: 0.0000e+00 - f1_score: n - ETA: 2:09:37 - loss: 0.2064 - acc: 0.9474 - precision: nan - recall: 0.0000e+00 - f1_score: n - ETA: 2:09:34 - loss: 0.2064 - acc: 0.9474 - precision: nan - recall: 0.0000e+00 - f1_score: n - ETA: 2:09:32 - loss: 0.2064 - acc: 0.9474 - precision: nan - recall: 0.0000e+00 - f1_score: n - ETA: 2:09:29 - loss: 0.2064 - acc: 0.9474 - precision: nan - recall: 0.0000e+00 - f1_score: n - ETA: 2:09:26 - loss: 0.2064 - acc: 0.9474 - precision: nan - recall: 0.0000e+00 - f1_score: n - ETA: 2:09:23 - loss: 0.2064 - acc: 0.9474 - precision: nan - recall: 0.0000e+00 - f1_score: n - ETA: 2:09:20 - loss: 0.2064 - acc: 0.9474 - precision: nan - recall: 0.0000e+00 - f1_score: n - ETA: 2:09:17 - loss: 0.2064 - acc: 0.9474 - precision: nan - recall: 0.0000e+00 - f1_score: n - ETA: 2:09:14 - loss: 0.2064 - acc: 0.9474 - precision: nan - recall: 0.0000e+00 - f1_score: n - ETA: 2:09:11 - loss: 0.2064 - acc: 0.9474 - precision: nan - recall: 0.0000e+00 - f1_score: n - ETA: 2:09:08 - loss: 0.2064 - acc: 0.9474 - precision: nan - recall: 0.0000e+00 - f1_score: n - ETA: 2:09:06 - loss: 0.2064 - acc: 0.9474 - precision: nan - recall: 0.0000e+00 - f1_score: n - ETA: 2:09:03 - loss: 0.2064 - acc: 0.9474 - precision: nan - recall: 0.0000e+00 - f1_score: n - ETA: 2:09:00 - loss: 0.2064 - acc: 0.9474 - precision: nan - recall: 0.0000e+00 - f1_score: n - ETA: 2:08:57 - loss: 0.2064 - acc: 0.9474 - precision: nan - recall: 0.0000e+00 - f1_score: n - ETA: 2:08:54 - loss: 0.2064 - acc: 0.9474 - precision: nan - recall: 0.0000e+00 - f1_score: n - ETA: 2:08:51 - loss: 0.2064 - acc: 0.9474 - precision: nan - recall: 0.0000e+00 - f1_score: n - ETA: 2:08:48 - loss: 0.2064 - acc: 0.9474 - precision: nan - recall: 0.0000e+00 - f1_score: n - ETA: 2:08:45 - loss: 0.2064 - acc: 0.9474 - precision: nan - recall: 0.0000e+00 - f1_score: n - ETA: 2:08:42 - loss: 0.2064 - acc: 0.9474 - precision: nan - recall: 0.0000e+00 - f1_score: n - ETA: 2:08:40 - loss: 0.2064 - acc: 0.9474 - precision: nan - recall: 0.0000e+00 - f1_score: n - ETA: 2:08:37 - loss: 0.2064 - acc: 0.9474 - precision: nan - recall: 0.0000e+00 - f1_score: n - ETA: 2:08:34 - loss: 0.2064 - acc: 0.9474 - precision: nan - recall: 0.0000e+00 - f1_score: n - ETA: 2:08:31 - loss: 0.2064 - acc: 0.9474 - precision: nan - recall: 0.0000e+00 - f1_score: nan"
     ]
    },
    {
     "name": "stdout",
     "output_type": "stream",
     "text": [
      "1360/3947 [=========>....................] - ETA: 2:08:28 - loss: 0.2064 - acc: 0.9474 - precision: nan - recall: 0.0000e+00 - f1_score: n - ETA: 2:08:25 - loss: 0.2064 - acc: 0.9474 - precision: nan - recall: 0.0000e+00 - f1_score: n - ETA: 2:08:22 - loss: 0.2064 - acc: 0.9474 - precision: nan - recall: 0.0000e+00 - f1_score: n - ETA: 2:08:19 - loss: 0.2064 - acc: 0.9474 - precision: nan - recall: 0.0000e+00 - f1_score: n - ETA: 2:08:16 - loss: 0.2064 - acc: 0.9474 - precision: nan - recall: 0.0000e+00 - f1_score: n - ETA: 2:08:13 - loss: 0.2064 - acc: 0.9474 - precision: nan - recall: 0.0000e+00 - f1_score: n - ETA: 2:08:11 - loss: 0.2064 - acc: 0.9474 - precision: nan - recall: 0.0000e+00 - f1_score: n - ETA: 2:08:08 - loss: 0.2064 - acc: 0.9474 - precision: nan - recall: 0.0000e+00 - f1_score: n - ETA: 2:08:05 - loss: 0.2064 - acc: 0.9474 - precision: nan - recall: 0.0000e+00 - f1_score: n - ETA: 2:08:02 - loss: 0.2064 - acc: 0.9474 - precision: nan - recall: 0.0000e+00 - f1_score: n - ETA: 2:07:59 - loss: 0.2064 - acc: 0.9474 - precision: nan - recall: 0.0000e+00 - f1_score: n - ETA: 2:07:56 - loss: 0.2064 - acc: 0.9474 - precision: nan - recall: 0.0000e+00 - f1_score: n - ETA: 2:07:53 - loss: 0.2064 - acc: 0.9474 - precision: nan - recall: 0.0000e+00 - f1_score: n - ETA: 2:07:50 - loss: 0.2064 - acc: 0.9474 - precision: nan - recall: 0.0000e+00 - f1_score: n - ETA: 2:07:47 - loss: 0.2064 - acc: 0.9474 - precision: nan - recall: 0.0000e+00 - f1_score: n - ETA: 2:07:45 - loss: 0.2064 - acc: 0.9474 - precision: nan - recall: 0.0000e+00 - f1_score: n - ETA: 2:07:42 - loss: 0.2064 - acc: 0.9474 - precision: nan - recall: 0.0000e+00 - f1_score: n - ETA: 2:07:39 - loss: 0.2064 - acc: 0.9474 - precision: nan - recall: 0.0000e+00 - f1_score: n - ETA: 2:07:36 - loss: 0.2064 - acc: 0.9474 - precision: nan - recall: 0.0000e+00 - f1_score: n - ETA: 2:07:33 - loss: 0.2064 - acc: 0.9474 - precision: nan - recall: 0.0000e+00 - f1_score: n - ETA: 2:07:30 - loss: 0.2064 - acc: 0.9474 - precision: nan - recall: 0.0000e+00 - f1_score: n - ETA: 2:07:27 - loss: 0.2064 - acc: 0.9474 - precision: nan - recall: 0.0000e+00 - f1_score: n - ETA: 2:07:24 - loss: 0.2064 - acc: 0.9474 - precision: nan - recall: 0.0000e+00 - f1_score: n - ETA: 2:07:21 - loss: 0.2064 - acc: 0.9474 - precision: nan - recall: 0.0000e+00 - f1_score: n - ETA: 2:07:19 - loss: 0.2064 - acc: 0.9474 - precision: nan - recall: 0.0000e+00 - f1_score: n - ETA: 2:07:16 - loss: 0.2064 - acc: 0.9474 - precision: nan - recall: 0.0000e+00 - f1_score: n - ETA: 2:07:13 - loss: 0.2064 - acc: 0.9474 - precision: nan - recall: 0.0000e+00 - f1_score: n - ETA: 2:07:10 - loss: 0.2064 - acc: 0.9474 - precision: nan - recall: 0.0000e+00 - f1_score: n - ETA: 2:07:07 - loss: 0.2064 - acc: 0.9474 - precision: nan - recall: 0.0000e+00 - f1_score: n - ETA: 2:07:04 - loss: 0.2064 - acc: 0.9474 - precision: nan - recall: 0.0000e+00 - f1_score: n - ETA: 2:07:01 - loss: 0.2064 - acc: 0.9474 - precision: nan - recall: 0.0000e+00 - f1_score: n - ETA: 2:06:58 - loss: 0.2064 - acc: 0.9474 - precision: nan - recall: 0.0000e+00 - f1_score: n - ETA: 2:06:55 - loss: 0.2064 - acc: 0.9474 - precision: nan - recall: 0.0000e+00 - f1_score: n - ETA: 2:06:52 - loss: 0.2064 - acc: 0.9474 - precision: nan - recall: 0.0000e+00 - f1_score: n - ETA: 2:06:50 - loss: 0.2064 - acc: 0.9474 - precision: nan - recall: 0.0000e+00 - f1_score: n - ETA: 2:06:47 - loss: 0.2064 - acc: 0.9474 - precision: nan - recall: 0.0000e+00 - f1_score: n - ETA: 2:06:44 - loss: 0.2064 - acc: 0.9474 - precision: nan - recall: 0.0000e+00 - f1_score: n - ETA: 2:06:41 - loss: 0.2064 - acc: 0.9474 - precision: nan - recall: 0.0000e+00 - f1_score: n - ETA: 2:06:38 - loss: 0.2064 - acc: 0.9474 - precision: nan - recall: 0.0000e+00 - f1_score: n - ETA: 2:06:35 - loss: 0.2064 - acc: 0.9474 - precision: nan - recall: 0.0000e+00 - f1_score: n - ETA: 2:06:32 - loss: 0.2064 - acc: 0.9474 - precision: nan - recall: 0.0000e+00 - f1_score: n - ETA: 2:06:29 - loss: 0.2064 - acc: 0.9474 - precision: nan - recall: 0.0000e+00 - f1_score: n - ETA: 2:06:26 - loss: 0.2064 - acc: 0.9474 - precision: nan - recall: 0.0000e+00 - f1_score: n - ETA: 2:06:24 - loss: 0.2064 - acc: 0.9474 - precision: nan - recall: 0.0000e+00 - f1_score: n - ETA: 2:06:21 - loss: 0.2064 - acc: 0.9474 - precision: nan - recall: 0.0000e+00 - f1_score: n - ETA: 2:06:18 - loss: 0.2064 - acc: 0.9474 - precision: nan - recall: 0.0000e+00 - f1_score: n - ETA: 2:06:15 - loss: 0.2064 - acc: 0.9474 - precision: nan - recall: 0.0000e+00 - f1_score: n - ETA: 2:06:12 - loss: 0.2064 - acc: 0.9474 - precision: nan - recall: 0.0000e+00 - f1_score: n - ETA: 2:06:09 - loss: 0.2064 - acc: 0.9474 - precision: nan - recall: 0.0000e+00 - f1_score: n - ETA: 2:06:06 - loss: 0.2064 - acc: 0.9474 - precision: nan - recall: 0.0000e+00 - f1_score: n - ETA: 2:06:03 - loss: 0.2064 - acc: 0.9474 - precision: nan - recall: 0.0000e+00 - f1_score: n - ETA: 2:06:00 - loss: 0.2064 - acc: 0.9474 - precision: nan - recall: 0.0000e+00 - f1_score: n - ETA: 2:05:57 - loss: 0.2064 - acc: 0.9474 - precision: nan - recall: 0.0000e+00 - f1_score: n - ETA: 2:05:55 - loss: 0.2064 - acc: 0.9474 - precision: nan - recall: 0.0000e+00 - f1_score: n - ETA: 2:05:52 - loss: 0.2064 - acc: 0.9474 - precision: nan - recall: 0.0000e+00 - f1_score: n - ETA: 2:05:49 - loss: 0.2064 - acc: 0.9474 - precision: nan - recall: 0.0000e+00 - f1_score: n - ETA: 2:05:46 - loss: 0.2064 - acc: 0.9474 - precision: nan - recall: 0.0000e+00 - f1_score: n - ETA: 2:05:43 - loss: 0.2064 - acc: 0.9474 - precision: nan - recall: 0.0000e+00 - f1_score: n - ETA: 2:05:40 - loss: 0.2064 - acc: 0.9474 - precision: nan - recall: 0.0000e+00 - f1_score: n - ETA: 2:05:37 - loss: 0.2064 - acc: 0.9474 - precision: nan - recall: 0.0000e+00 - f1_score: n - ETA: 2:05:34 - loss: 0.2064 - acc: 0.9474 - precision: nan - recall: 0.0000e+00 - f1_score: n - ETA: 2:05:31 - loss: 0.2064 - acc: 0.9474 - precision: nan - recall: 0.0000e+00 - f1_score: n - ETA: 2:05:29 - loss: 0.2064 - acc: 0.9474 - precision: nan - recall: 0.0000e+00 - f1_score: n - ETA: 2:05:26 - loss: 0.2064 - acc: 0.9474 - precision: nan - recall: 0.0000e+00 - f1_score: n - ETA: 2:05:23 - loss: 0.2064 - acc: 0.9474 - precision: nan - recall: 0.0000e+00 - f1_score: n - ETA: 2:05:20 - loss: 0.2064 - acc: 0.9474 - precision: nan - recall: 0.0000e+00 - f1_score: n - ETA: 2:05:17 - loss: 0.2064 - acc: 0.9474 - precision: nan - recall: 0.0000e+00 - f1_score: n - ETA: 2:05:14 - loss: 0.2064 - acc: 0.9474 - precision: nan - recall: 0.0000e+00 - f1_score: n - ETA: 2:05:11 - loss: 0.2064 - acc: 0.9474 - precision: nan - recall: 0.0000e+00 - f1_score: n - ETA: 2:05:08 - loss: 0.2064 - acc: 0.9474 - precision: nan - recall: 0.0000e+00 - f1_score: n - ETA: 2:05:05 - loss: 0.2064 - acc: 0.9474 - precision: nan - recall: 0.0000e+00 - f1_score: n - ETA: 2:05:02 - loss: 0.2064 - acc: 0.9474 - precision: nan - recall: 0.0000e+00 - f1_score: n - ETA: 2:05:00 - loss: 0.2064 - acc: 0.9474 - precision: nan - recall: 0.0000e+00 - f1_score: n - ETA: 2:04:57 - loss: 0.2064 - acc: 0.9474 - precision: nan - recall: 0.0000e+00 - f1_score: n - ETA: 2:04:54 - loss: 0.2064 - acc: 0.9474 - precision: nan - recall: 0.0000e+00 - f1_score: n - ETA: 2:04:51 - loss: 0.2064 - acc: 0.9474 - precision: nan - recall: 0.0000e+00 - f1_score: n - ETA: 2:04:48 - loss: 0.2064 - acc: 0.9474 - precision: nan - recall: 0.0000e+00 - f1_score: n - ETA: 2:04:45 - loss: 0.2064 - acc: 0.9474 - precision: nan - recall: 0.0000e+00 - f1_score: n - ETA: 2:04:42 - loss: 0.2064 - acc: 0.9474 - precision: nan - recall: 0.0000e+00 - f1_score: n - ETA: 2:04:39 - loss: 0.2064 - acc: 0.9474 - precision: nan - recall: 0.0000e+00 - f1_score: n - ETA: 2:04:36 - loss: 0.2064 - acc: 0.9474 - precision: nan - recall: 0.0000e+00 - f1_score: n - ETA: 2:04:34 - loss: 0.2064 - acc: 0.9474 - precision: nan - recall: 0.0000e+00 - f1_score: n - ETA: 2:04:31 - loss: 0.2064 - acc: 0.9474 - precision: nan - recall: 0.0000e+00 - f1_score: n - ETA: 2:04:28 - loss: 0.2064 - acc: 0.9474 - precision: nan - recall: 0.0000e+00 - f1_score: n - ETA: 2:04:25 - loss: 0.2064 - acc: 0.9474 - precision: nan - recall: 0.0000e+00 - f1_score: nan"
     ]
    },
    {
     "name": "stdout",
     "output_type": "stream",
     "text": [
      "1375/3947 [=========>....................] - ETA: 2:04:22 - loss: 0.2064 - acc: 0.9474 - precision: nan - recall: 0.0000e+00 - f1_score: n - ETA: 2:04:19 - loss: 0.2064 - acc: 0.9474 - precision: nan - recall: 0.0000e+00 - f1_score: n - ETA: 2:04:16 - loss: 0.2064 - acc: 0.9474 - precision: nan - recall: 0.0000e+00 - f1_score: n - ETA: 2:04:13 - loss: 0.2064 - acc: 0.9474 - precision: nan - recall: 0.0000e+00 - f1_score: n - ETA: 2:04:10 - loss: 0.2064 - acc: 0.9474 - precision: nan - recall: 0.0000e+00 - f1_score: n - ETA: 2:04:08 - loss: 0.2064 - acc: 0.9474 - precision: nan - recall: 0.0000e+00 - f1_score: n - ETA: 2:04:05 - loss: 0.2064 - acc: 0.9474 - precision: nan - recall: 0.0000e+00 - f1_score: n - ETA: 2:04:02 - loss: 0.2064 - acc: 0.9474 - precision: nan - recall: 0.0000e+00 - f1_score: n - ETA: 2:03:59 - loss: 0.2064 - acc: 0.9474 - precision: nan - recall: 0.0000e+00 - f1_score: n - ETA: 2:03:56 - loss: 0.2064 - acc: 0.9474 - precision: nan - recall: 0.0000e+00 - f1_score: n - ETA: 2:03:53 - loss: 0.2064 - acc: 0.9474 - precision: nan - recall: 0.0000e+00 - f1_score: n - ETA: 2:03:50 - loss: 0.2064 - acc: 0.9474 - precision: nan - recall: 0.0000e+00 - f1_score: n - ETA: 2:03:47 - loss: 0.2064 - acc: 0.9474 - precision: nan - recall: 0.0000e+00 - f1_score: n - ETA: 2:03:44 - loss: 0.2064 - acc: 0.9474 - precision: nan - recall: 0.0000e+00 - f1_score: n - ETA: 2:03:42 - loss: 0.2064 - acc: 0.9474 - precision: nan - recall: 0.0000e+00 - f1_score: nan"
     ]
    }
   ],
   "source": [
    "# train the model on the new data for a few epochs\n",
    "#model.fit_generator(...)\n",
    "\n",
    "# fine-tune the model\n",
    "hist = model.fit_generator(\n",
    "    train_generator,\n",
    "    #samples_per_epoch=nb_train_samples,\n",
    "    steps_per_epoch = nb_train_samples*4 // batch_size,\n",
    "    epochs=epochs,\n",
    "    validation_data=validation_generator,\n",
    "    validation_steps=nb_validation_samples // batch_size,\n",
    "    callbacks = [checkpoint, history,early_stopping,f1score ])"
   ]
  },
  {
   "cell_type": "code",
   "execution_count": 19,
   "metadata": {},
   "outputs": [],
   "source": [
    "model.save(\"deep_transfer_19_class_vggface2.h5\")"
   ]
  },
  {
   "cell_type": "code",
   "execution_count": 24,
   "metadata": {},
   "outputs": [],
   "source": [
    "from keras.preprocessing import image\n",
    "\n",
    "#img_path = 'E:\\\\MestradoData\\\\preprocessed\\\\all\\\\01\\\\44_1_rgb_191.png'\n",
    "#img_path = 'E:\\\\MestradoData\\\\preprocessed\\\\all\\\\06\\\\44_6_rgb_191.png'\n",
    "img_path = 'E:\\\\MestradoData\\\\preprocessed\\\\all\\\\10\\\\41_10_rgb_191.png'\n",
    "\n",
    "#img_path = 'E:\\\\MestradoData\\\\preprocessed\\\\all\\\\01\\\\42_1_rgb_191.png'\n",
    "#img_path = 'E:\\\\MestradoData\\\\preprocessed\\\\all\\\\06\\\\42_6_rgb_291.png'3\n",
    "#img_path = 'E:\\\\MestradoData\\\\preprocessed\\\\all\\\\10\\\\42_10_rgb_191.png'\n",
    "\n",
    "img = image.load_img(img_path, target_size=(img_width, img_height))\n",
    "x = image.img_to_array(img)\n",
    "x = np.expand_dims(x, axis=0)"
   ]
  },
  {
   "cell_type": "code",
   "execution_count": null,
   "metadata": {},
   "outputs": [],
   "source": []
  },
  {
   "cell_type": "code",
   "execution_count": 21,
   "metadata": {},
   "outputs": [
    {
     "name": "stdout",
     "output_type": "stream",
     "text": [
      "0:00:08.545732 [[6.1772603e-08 2.1253580e-08 1.2053442e-16 2.7633104e-01 1.2420863e-05\n",
      "  2.5400885e-16 6.4583300e-13 1.6714368e-05 5.6201261e-01 2.1979380e-11\n",
      "  7.6374627e-12 1.1278007e-12 5.7156553e-13 2.1793273e-06 2.6648394e-07\n",
      "  2.9818403e-19 3.5798797e-12 1.6162300e-01 1.6529859e-06]]\n"
     ]
    }
   ],
   "source": [
    "import datetime\n",
    "a = datetime.datetime.now()\n",
    "result = model.predict(x)\n",
    "b = datetime.datetime.now()\n",
    "print(b-a, result)"
   ]
  },
  {
   "cell_type": "code",
   "execution_count": 23,
   "metadata": {},
   "outputs": [
    {
     "name": "stdout",
     "output_type": "stream",
     "text": [
      "0:00:00.328308 [[2.16849935e-06 5.53285282e-12 5.32773015e-07 9.99997258e-01\n",
      "  9.50789669e-10 1.04915723e-13 4.70656779e-15 1.74598691e-09\n",
      "  2.15925597e-10 3.41081552e-10 1.04133624e-09 1.04791967e-12\n",
      "  1.22550372e-21 1.06659881e-08 3.80524501e-09 3.72054052e-18\n",
      "  1.14496665e-18 9.09198203e-11 1.46021778e-10]]\n"
     ]
    }
   ],
   "source": [
    "import datetime\n",
    "a = datetime.datetime.now()\n",
    "result = model.predict(x)\n",
    "b = datetime.datetime.now()\n",
    "print(b-a, result)"
   ]
  },
  {
   "cell_type": "code",
   "execution_count": 25,
   "metadata": {},
   "outputs": [
    {
     "name": "stdout",
     "output_type": "stream",
     "text": [
      "0:00:00.340106 [[4.6673226e-10 2.0655102e-06 6.1294672e-17 1.2851404e-08 4.6184720e-19\n",
      "  6.1643624e-12 1.3722536e-15 1.4799523e-08 4.8515517e-07 9.9741167e-01\n",
      "  9.9342479e-12 3.5498277e-12 1.1206666e-09 2.1845771e-07 2.1706303e-03\n",
      "  4.4314883e-19 8.1546752e-26 5.2070791e-15 4.1488881e-04]]\n"
     ]
    }
   ],
   "source": [
    "import datetime\n",
    "a = datetime.datetime.now()\n",
    "result = model.predict(x)\n",
    "b = datetime.datetime.now()\n",
    "print(b-a, result)"
   ]
  },
  {
   "cell_type": "code",
   "execution_count": 30,
   "metadata": {},
   "outputs": [
    {
     "name": "stdout",
     "output_type": "stream",
     "text": [
      "Found 570 images belonging to 19 classes.\n"
     ]
    }
   ],
   "source": [
    "test_data_dir = 'C:\\\\Users\\\\rafae\\\\Desktop\\\\Coleta\\\\data\\\\rgb\\\\test'\n",
    "test_datagen = ImageDataGenerator(rescale=1. / 255)\n",
    "test_generator = test_datagen.flow_from_directory(\n",
    "    test_data_dir,\n",
    "    target_size=(img_height, img_width),\n",
    "    batch_size=batch_size,\n",
    "    class_mode='categorical')"
   ]
  },
  {
   "cell_type": "code",
   "execution_count": 32,
   "metadata": {},
   "outputs": [
    {
     "name": "stdout",
     "output_type": "stream",
     "text": [
      "Accuracy =  [0.20631253609531805, 0.947368445731046]\n"
     ]
    }
   ],
   "source": [
    "score = model.evaluate_generator(test_generator)\n",
    "print(\"Accuracy = \", score)"
   ]
  },
  {
   "cell_type": "code",
   "execution_count": 28,
   "metadata": {},
   "outputs": [
    {
     "data": {
      "text/plain": [
       "{'acc': [0.9473684430122375,\n",
       "  0.9473684430122375,\n",
       "  0.9473684430122375,\n",
       "  0.9473684430122375,\n",
       "  0.9473684430122375],\n",
       " 'loss': [0.20656499186562077,\n",
       "  0.20642362635296124,\n",
       "  0.206456933735176,\n",
       "  0.20632706959851277,\n",
       "  0.20640257131173884],\n",
       " 'val_acc': [0.9473684430122375,\n",
       "  0.9473684430122375,\n",
       "  0.9473684430122375,\n",
       "  0.9473684430122375,\n",
       "  0.9473684430122375],\n",
       " 'val_loss': [0.20619786048636718,\n",
       "  0.20637297016732833,\n",
       "  0.20646257084958694,\n",
       "  0.20648416263215683,\n",
       "  0.20628180573968327]}"
      ]
     },
     "execution_count": 28,
     "metadata": {},
     "output_type": "execute_result"
    }
   ],
   "source": [
    "hist.history"
   ]
  },
  {
   "cell_type": "code",
   "execution_count": null,
   "metadata": {},
   "outputs": [],
   "source": [
    "from sklearn.metrics import classification_report, accuracy_score\n",
    "predictions = model.predict_generator(\n",
    "    test_generator,\n",
    "    steps = np.math.ceil(test_generator.samples / test_generator.batch_size),\n",
    "    verbose = 1,\n",
    "    workers = 2,\n",
    "    max_q_size=10,\n",
    "    pickle_safe=True\n",
    "    )\n",
    "predicted_classes = np.argmax(predictions, axis=1)\n",
    "true_classes = test_generator.classes\n",
    "class_labels = list(test_generator.class_indices.keys())\n",
    "report = classification_report(true_classes, predicted_classes, target_names=class_labels)\n",
    "accuracy = accuracy_score(true_classes, predicted_classes)"
   ]
  }
 ],
 "metadata": {
  "kernelspec": {
   "display_name": "Python 3",
   "language": "python",
   "name": "python3"
  },
  "language_info": {
   "codemirror_mode": {
    "name": "ipython",
    "version": 3
   },
   "file_extension": ".py",
   "mimetype": "text/x-python",
   "name": "python",
   "nbconvert_exporter": "python",
   "pygments_lexer": "ipython3",
   "version": "3.5.4"
  }
 },
 "nbformat": 4,
 "nbformat_minor": 2
}
