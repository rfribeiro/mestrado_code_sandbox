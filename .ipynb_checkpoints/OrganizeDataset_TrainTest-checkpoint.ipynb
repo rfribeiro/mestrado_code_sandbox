{
 "cells": [
  {
   "cell_type": "code",
   "execution_count": null,
   "metadata": {},
   "outputs": [],
   "source": [
    "%matplotlib inline\n",
    "from matplotlib import pyplot as plt\n",
    "from PIL import Image\n",
    "import numpy as np\n",
    "import os \n",
    "import cv2\n",
    "from tqdm import tqdm_notebook\n",
    "from random import shuffle, seed\n",
    "import shutil\n",
    "import pandas as pd\n",
    "import glob"
   ]
  },
  {
   "cell_type": "code",
   "execution_count": null,
   "metadata": {},
   "outputs": [],
   "source": [
    "def organize_datasets(path_to_data, n=38, ratio=0.2):\n",
    "    files_types = ['depth', 'ir1', 'ir2', 'rgb']\n",
    "    seed(10)\n",
    "    subjects = ['{:02d}'.format(i) for i in range(1,n)]\n",
    "    classes = ['{:02d}'.format(c) for c in range(1,20)]\n",
    "    #print(classes)\n",
    "    \n",
    "    shutil.rmtree(os.path.join(path_to_data,'data'))\n",
    "    print(os.path.join(path_to_data,'data'), 'removed')\n",
    "        \n",
    "    shuffle(subjects)\n",
    "    #print(subjects)\n",
    "    \n",
    "    n = int(len(subjects) * ratio)\n",
    "    val, train = subjects[:n], subjects[n:]\n",
    "        \n",
    "    for file_type in files_types:      \n",
    "        \n",
    "        for c in classes: \n",
    "            os.makedirs(os.path.join(path_to_data,'data',file_type,'train',c))\n",
    "            os.makedirs(os.path.join(path_to_data,'data',file_type,'validation',c))\n",
    "\n",
    "            print('folders created !')\n",
    "\n",
    "            for t in tqdm_notebook(train):\n",
    "                files_list = glob.glob(path_to_data + '\\\\all\\\\' + c + '\\\\' + t + '*' + file_type + '*')\n",
    "                print(path_to_data + '\\\\all\\\\' + c + '\\\\' + t + '*' + file_type + '*', len(files_list))\n",
    "                for f in files_list:\n",
    "                    shutil.copy2(f, os.path.join(path_to_data, 'data', file_type, 'train', c))\n",
    "\n",
    "            for v in tqdm_notebook(val):\n",
    "                files_list = glob.glob(path_to_data + '\\\\all\\\\' + c + '\\\\' + v + '*' + file_type + '*')\n",
    "                print(path_to_data + '\\\\all\\\\' + c + '\\\\' + v + '*' + file_type + '*', len(files_list))\n",
    "                for f in files_list:\n",
    "                    shutil.copy2(f, os.path.join(path_to_data, 'data', file_type, 'validation', c))\n",
    "\n",
    "    print('Data copied!')"
   ]
  },
  {
   "cell_type": "code",
   "execution_count": null,
   "metadata": {},
   "outputs": [],
   "source": [
    "organize_datasets(path_to_data='E:\\\\MestradoData\\\\preprocessed', n=38, ratio=0.2)"
   ]
  }
 ],
 "metadata": {
  "kernelspec": {
   "display_name": "Python 3",
   "language": "python",
   "name": "python3"
  },
  "language_info": {
   "codemirror_mode": {
    "name": "ipython",
    "version": 3
   },
   "file_extension": ".py",
   "mimetype": "text/x-python",
   "name": "python",
   "nbconvert_exporter": "python",
   "pygments_lexer": "ipython3",
   "version": "3.5.4"
  }
 },
 "nbformat": 4,
 "nbformat_minor": 2
}
