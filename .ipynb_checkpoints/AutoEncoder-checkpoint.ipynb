{
 "cells": [
  {
   "cell_type": "code",
   "execution_count": 1,
   "metadata": {},
   "outputs": [
    {
     "name": "stderr",
     "output_type": "stream",
     "text": [
      "Using TensorFlow backend.\n"
     ]
    }
   ],
   "source": [
    "from keras.layers import Input, Dense, Conv2D, MaxPooling2D, UpSampling2D\n",
    "from keras.models import Model\n",
    "from keras import backend as K\n",
    "import numpy as np"
   ]
  },
  {
   "cell_type": "code",
   "execution_count": 14,
   "metadata": {},
   "outputs": [],
   "source": [
    "%matplotlib inline\n",
    "from matplotlib import pyplot as plt\n",
    "from PIL import Image\n",
    "import numpy as np\n",
    "import os \n",
    "import cv2\n",
    "from tqdm import tqdm_notebook\n",
    "from random import shuffle, seed\n",
    "import shutil\n",
    "import pandas as pd\n",
    "import glob"
   ]
  },
  {
   "cell_type": "code",
   "execution_count": 30,
   "metadata": {},
   "outputs": [],
   "source": [
    "def organize_datasets(path_to_data, n=38, ratio=0.2):\n",
    "    files_types = ['depth', 'ir1', 'ir2', 'rgb']\n",
    "    seed(10)\n",
    "    subjects = ['{:02d}'.format(i) for i in range(1,n)]\n",
    "    classes = ['{:02d}'.format(c) for c in range(1,20)]\n",
    "    #print(classes)\n",
    "    \n",
    "    shutil.rmtree(os.path.join(path_to_data,'data'))\n",
    "    print(os.path.join(path_to_data,'data'), 'removed')\n",
    "        \n",
    "    shuffle(subjects)\n",
    "    #print(subjects)\n",
    "    \n",
    "    n = int(len(subjects) * ratio)\n",
    "    val, train = subjects[:n], subjects[n:]\n",
    "        \n",
    "    for file_type in files_types:      \n",
    "        \n",
    "        for c in classes: \n",
    "            os.makedirs(os.path.join(path_to_data,'data',file_type,'train',c))\n",
    "            os.makedirs(os.path.join(path_to_data,'data',file_type,'validation',c))\n",
    "\n",
    "            print('folders created !')\n",
    "\n",
    "            for t in tqdm_notebook(train):\n",
    "                files_list = glob.glob(path_to_data + '\\\\all\\\\' + c + '\\\\' + t + '*' + file_type + '*')\n",
    "                print(path_to_data + '\\\\all\\\\' + c + '\\\\' + t + '*' + file_type + '*', len(files_list))\n",
    "                for f in files_list:\n",
    "                    shutil.copy2(f, os.path.join(path_to_data, 'data', file_type, 'train', c))\n",
    "\n",
    "            for v in tqdm_notebook(val):\n",
    "                files_list = glob.glob(path_to_data + '\\\\all\\\\' + c + '\\\\' + v + '*' + file_type + '*')\n",
    "                print(path_to_data + '\\\\all\\\\' + c + '\\\\' + v + '*' + file_type + '*', len(files_list))\n",
    "                for f in files_list:\n",
    "                    shutil.copy2(f, os.path.join(path_to_data, 'data', file_type, 'validation', c))\n",
    "\n",
    "    print('Data copied!')"
   ]
  },
  {
   "cell_type": "code",
   "execution_count": null,
   "metadata": {},
   "outputs": [],
   "source": []
  },
  {
   "cell_type": "code",
   "execution_count": null,
   "metadata": {},
   "outputs": [
    {
     "name": "stdout",
     "output_type": "stream",
     "text": [
      "E:\\MestradoData\\preprocessed\\data removed\n",
      "folders created !\n"
     ]
    },
    {
     "data": {
      "application/vnd.jupyter.widget-view+json": {
       "model_id": "3916a0565ab340b48694fa206639eb6a",
       "version_major": 2,
       "version_minor": 0
      },
      "text/html": [
       "<p>Failed to display Jupyter Widget of type <code>HBox</code>.</p>\n",
       "<p>\n",
       "  If you're reading this message in the Jupyter Notebook or JupyterLab Notebook, it may mean\n",
       "  that the widgets JavaScript is still loading. If this message persists, it\n",
       "  likely means that the widgets JavaScript library is either not installed or\n",
       "  not enabled. See the <a href=\"https://ipywidgets.readthedocs.io/en/stable/user_install.html\">Jupyter\n",
       "  Widgets Documentation</a> for setup instructions.\n",
       "</p>\n",
       "<p>\n",
       "  If you're reading this message in another frontend (for example, a static\n",
       "  rendering on GitHub or <a href=\"https://nbviewer.jupyter.org/\">NBViewer</a>),\n",
       "  it may mean that your frontend doesn't currently support widgets.\n",
       "</p>\n"
      ],
      "text/plain": [
       "HBox(children=(IntProgress(value=0, max=30), HTML(value='')))"
      ]
     },
     "metadata": {},
     "output_type": "display_data"
    },
    {
     "name": "stdout",
     "output_type": "stream",
     "text": [
      "E:\\MestradoData\\preprocessed\\all\\01\\35*depth* 30\n",
      "E:\\MestradoData\\preprocessed\\all\\01\\05*depth* 30\n",
      "E:\\MestradoData\\preprocessed\\all\\01\\26*depth* 30\n",
      "E:\\MestradoData\\preprocessed\\all\\01\\07*depth* 30\n",
      "E:\\MestradoData\\preprocessed\\all\\01\\25*depth* 30\n",
      "E:\\MestradoData\\preprocessed\\all\\01\\10*depth* 30\n",
      "E:\\MestradoData\\preprocessed\\all\\01\\20*depth* 30\n",
      "E:\\MestradoData\\preprocessed\\all\\01\\22*depth* 30\n",
      "E:\\MestradoData\\preprocessed\\all\\01\\32*depth* 30\n",
      "E:\\MestradoData\\preprocessed\\all\\01\\24*depth* 30\n",
      "E:\\MestradoData\\preprocessed\\all\\01\\12*depth* 30\n",
      "\n"
     ]
    },
    {
     "name": "stderr",
     "output_type": "stream",
     "text": [
      "Exception in thread Thread-49:\n",
      "Traceback (most recent call last):\n",
      "  File \"C:\\Users\\rafae\\AppData\\Local\\conda\\conda\\envs\\tensorflow\\lib\\threading.py\", line 914, in _bootstrap_inner\n",
      "    self.run()\n",
      "  File \"C:\\Users\\rafae\\AppData\\Local\\conda\\conda\\envs\\tensorflow\\lib\\site-packages\\tqdm\\_tqdm.py\", line 144, in run\n",
      "    for instance in self.tqdm_cls._instances:\n",
      "  File \"C:\\Users\\rafae\\AppData\\Local\\conda\\conda\\envs\\tensorflow\\lib\\_weakrefset.py\", line 60, in __iter__\n",
      "    for itemref in self.data:\n",
      "RuntimeError: Set changed size during iteration\n",
      "\n"
     ]
    },
    {
     "name": "stdout",
     "output_type": "stream",
     "text": [
      "E:\\MestradoData\\preprocessed\\all\\01\\08*depth* 30\n",
      "E:\\MestradoData\\preprocessed\\all\\01\\36*depth* 0\n",
      "E:\\MestradoData\\preprocessed\\all\\01\\11*depth* 30\n",
      "E:\\MestradoData\\preprocessed\\all\\01\\29*depth* 30\n",
      "E:\\MestradoData\\preprocessed\\all\\01\\17*depth* 30\n",
      "E:\\MestradoData\\preprocessed\\all\\01\\02*depth* 30\n",
      "E:\\MestradoData\\preprocessed\\all\\01\\06*depth* 30\n",
      "E:\\MestradoData\\preprocessed\\all\\01\\21*depth* 30\n",
      "E:\\MestradoData\\preprocessed\\all\\01\\09*depth* 30\n",
      "E:\\MestradoData\\preprocessed\\all\\01\\30*depth* 30\n",
      "E:\\MestradoData\\preprocessed\\all\\01\\16*depth* 30\n",
      "E:\\MestradoData\\preprocessed\\all\\01\\27*depth* 30\n",
      "E:\\MestradoData\\preprocessed\\all\\01\\15*depth* 30\n",
      "E:\\MestradoData\\preprocessed\\all\\01\\14*depth* 30\n",
      "E:\\MestradoData\\preprocessed\\all\\01\\01*depth* 30\n",
      "E:\\MestradoData\\preprocessed\\all\\01\\31*depth* 30\n",
      "E:\\MestradoData\\preprocessed\\all\\01\\28*depth* 30\n",
      "E:\\MestradoData\\preprocessed\\all\\01\\03*depth* 30\n",
      "E:\\MestradoData\\preprocessed\\all\\01\\37*depth* 0\n",
      "\n"
     ]
    },
    {
     "data": {
      "application/vnd.jupyter.widget-view+json": {
       "model_id": "c6db76d823f04b3aa600e6d0051460a1",
       "version_major": 2,
       "version_minor": 0
      },
      "text/html": [
       "<p>Failed to display Jupyter Widget of type <code>HBox</code>.</p>\n",
       "<p>\n",
       "  If you're reading this message in the Jupyter Notebook or JupyterLab Notebook, it may mean\n",
       "  that the widgets JavaScript is still loading. If this message persists, it\n",
       "  likely means that the widgets JavaScript library is either not installed or\n",
       "  not enabled. See the <a href=\"https://ipywidgets.readthedocs.io/en/stable/user_install.html\">Jupyter\n",
       "  Widgets Documentation</a> for setup instructions.\n",
       "</p>\n",
       "<p>\n",
       "  If you're reading this message in another frontend (for example, a static\n",
       "  rendering on GitHub or <a href=\"https://nbviewer.jupyter.org/\">NBViewer</a>),\n",
       "  it may mean that your frontend doesn't currently support widgets.\n",
       "</p>\n"
      ],
      "text/plain": [
       "HBox(children=(IntProgress(value=0, max=7), HTML(value='')))"
      ]
     },
     "metadata": {},
     "output_type": "display_data"
    },
    {
     "name": "stdout",
     "output_type": "stream",
     "text": [
      "E:\\MestradoData\\preprocessed\\all\\01\\13*depth* 30\n",
      "E:\\MestradoData\\preprocessed\\all\\01\\18*depth* 30\n",
      "E:\\MestradoData\\preprocessed\\all\\01\\33*depth* 30\n",
      "E:\\MestradoData\\preprocessed\\all\\01\\19*depth* 30\n",
      "E:\\MestradoData\\preprocessed\\all\\01\\34*depth* 30\n",
      "E:\\MestradoData\\preprocessed\\all\\01\\23*depth* 30\n",
      "E:\\MestradoData\\preprocessed\\all\\01\\04*depth* 30\n",
      "\n",
      "folders created !\n"
     ]
    },
    {
     "data": {
      "application/vnd.jupyter.widget-view+json": {
       "model_id": "f6e2689092934a70bcdc96fa91fda166",
       "version_major": 2,
       "version_minor": 0
      },
      "text/html": [
       "<p>Failed to display Jupyter Widget of type <code>HBox</code>.</p>\n",
       "<p>\n",
       "  If you're reading this message in the Jupyter Notebook or JupyterLab Notebook, it may mean\n",
       "  that the widgets JavaScript is still loading. If this message persists, it\n",
       "  likely means that the widgets JavaScript library is either not installed or\n",
       "  not enabled. See the <a href=\"https://ipywidgets.readthedocs.io/en/stable/user_install.html\">Jupyter\n",
       "  Widgets Documentation</a> for setup instructions.\n",
       "</p>\n",
       "<p>\n",
       "  If you're reading this message in another frontend (for example, a static\n",
       "  rendering on GitHub or <a href=\"https://nbviewer.jupyter.org/\">NBViewer</a>),\n",
       "  it may mean that your frontend doesn't currently support widgets.\n",
       "</p>\n"
      ],
      "text/plain": [
       "HBox(children=(IntProgress(value=0, max=30), HTML(value='')))"
      ]
     },
     "metadata": {},
     "output_type": "display_data"
    },
    {
     "name": "stdout",
     "output_type": "stream",
     "text": [
      "E:\\MestradoData\\preprocessed\\all\\02\\35*depth* 30\n",
      "E:\\MestradoData\\preprocessed\\all\\02\\05*depth* 30\n",
      "E:\\MestradoData\\preprocessed\\all\\02\\26*depth* 30\n",
      "E:\\MestradoData\\preprocessed\\all\\02\\07*depth* 30\n",
      "E:\\MestradoData\\preprocessed\\all\\02\\25*depth* 30\n",
      "E:\\MestradoData\\preprocessed\\all\\02\\10*depth* 30\n",
      "E:\\MestradoData\\preprocessed\\all\\02\\20*depth* 30\n",
      "E:\\MestradoData\\preprocessed\\all\\02\\22*depth* 30\n",
      "E:\\MestradoData\\preprocessed\\all\\02\\32*depth* 30\n",
      "E:\\MestradoData\\preprocessed\\all\\02\\24*depth* 30\n",
      "E:\\MestradoData\\preprocessed\\all\\02\\12*depth* 30\n",
      "E:\\MestradoData\\preprocessed\\all\\02\\08*depth* 30\n",
      "E:\\MestradoData\\preprocessed\\all\\02\\36*depth* 0\n",
      "E:\\MestradoData\\preprocessed\\all\\02\\11*depth* 30\n",
      "E:\\MestradoData\\preprocessed\\all\\02\\29*depth* 30\n",
      "E:\\MestradoData\\preprocessed\\all\\02\\17*depth* 30\n",
      "E:\\MestradoData\\preprocessed\\all\\02\\02*depth* 30\n",
      "E:\\MestradoData\\preprocessed\\all\\02\\06*depth* 30\n",
      "E:\\MestradoData\\preprocessed\\all\\02\\21*depth* 30\n",
      "E:\\MestradoData\\preprocessed\\all\\02\\09*depth* 30\n",
      "E:\\MestradoData\\preprocessed\\all\\02\\30*depth* 30\n",
      "E:\\MestradoData\\preprocessed\\all\\02\\16*depth* 30\n",
      "E:\\MestradoData\\preprocessed\\all\\02\\27*depth* 30\n",
      "E:\\MestradoData\\preprocessed\\all\\02\\15*depth* 30\n",
      "E:\\MestradoData\\preprocessed\\all\\02\\14*depth* 30\n",
      "E:\\MestradoData\\preprocessed\\all\\02\\01*depth* 30\n",
      "E:\\MestradoData\\preprocessed\\all\\02\\31*depth* 30\n",
      "E:\\MestradoData\\preprocessed\\all\\02\\28*depth* 30\n",
      "E:\\MestradoData\\preprocessed\\all\\02\\03*depth* 30\n",
      "E:\\MestradoData\\preprocessed\\all\\02\\37*depth* 0\n",
      "\n"
     ]
    },
    {
     "data": {
      "application/vnd.jupyter.widget-view+json": {
       "model_id": "ae232393d71e418ea3b498d495328187",
       "version_major": 2,
       "version_minor": 0
      },
      "text/html": [
       "<p>Failed to display Jupyter Widget of type <code>HBox</code>.</p>\n",
       "<p>\n",
       "  If you're reading this message in the Jupyter Notebook or JupyterLab Notebook, it may mean\n",
       "  that the widgets JavaScript is still loading. If this message persists, it\n",
       "  likely means that the widgets JavaScript library is either not installed or\n",
       "  not enabled. See the <a href=\"https://ipywidgets.readthedocs.io/en/stable/user_install.html\">Jupyter\n",
       "  Widgets Documentation</a> for setup instructions.\n",
       "</p>\n",
       "<p>\n",
       "  If you're reading this message in another frontend (for example, a static\n",
       "  rendering on GitHub or <a href=\"https://nbviewer.jupyter.org/\">NBViewer</a>),\n",
       "  it may mean that your frontend doesn't currently support widgets.\n",
       "</p>\n"
      ],
      "text/plain": [
       "HBox(children=(IntProgress(value=0, max=7), HTML(value='')))"
      ]
     },
     "metadata": {},
     "output_type": "display_data"
    },
    {
     "name": "stdout",
     "output_type": "stream",
     "text": [
      "E:\\MestradoData\\preprocessed\\all\\02\\13*depth* 30\n",
      "E:\\MestradoData\\preprocessed\\all\\02\\18*depth* 30\n",
      "E:\\MestradoData\\preprocessed\\all\\02\\33*depth* 30\n",
      "E:\\MestradoData\\preprocessed\\all\\02\\19*depth* 30\n",
      "E:\\MestradoData\\preprocessed\\all\\02\\34*depth* 30\n",
      "E:\\MestradoData\\preprocessed\\all\\02\\23*depth* 30\n",
      "E:\\MestradoData\\preprocessed\\all\\02\\04*depth* 30\n",
      "\n",
      "folders created !\n"
     ]
    },
    {
     "data": {
      "application/vnd.jupyter.widget-view+json": {
       "model_id": "de46f800688846ad876fdd25cd8d6a27",
       "version_major": 2,
       "version_minor": 0
      },
      "text/html": [
       "<p>Failed to display Jupyter Widget of type <code>HBox</code>.</p>\n",
       "<p>\n",
       "  If you're reading this message in the Jupyter Notebook or JupyterLab Notebook, it may mean\n",
       "  that the widgets JavaScript is still loading. If this message persists, it\n",
       "  likely means that the widgets JavaScript library is either not installed or\n",
       "  not enabled. See the <a href=\"https://ipywidgets.readthedocs.io/en/stable/user_install.html\">Jupyter\n",
       "  Widgets Documentation</a> for setup instructions.\n",
       "</p>\n",
       "<p>\n",
       "  If you're reading this message in another frontend (for example, a static\n",
       "  rendering on GitHub or <a href=\"https://nbviewer.jupyter.org/\">NBViewer</a>),\n",
       "  it may mean that your frontend doesn't currently support widgets.\n",
       "</p>\n"
      ],
      "text/plain": [
       "HBox(children=(IntProgress(value=0, max=30), HTML(value='')))"
      ]
     },
     "metadata": {},
     "output_type": "display_data"
    },
    {
     "name": "stdout",
     "output_type": "stream",
     "text": [
      "E:\\MestradoData\\preprocessed\\all\\03\\35*depth* 30\n",
      "E:\\MestradoData\\preprocessed\\all\\03\\05*depth* 30\n",
      "E:\\MestradoData\\preprocessed\\all\\03\\26*depth* 30\n",
      "E:\\MestradoData\\preprocessed\\all\\03\\07*depth* 30\n",
      "E:\\MestradoData\\preprocessed\\all\\03\\25*depth* 30\n",
      "E:\\MestradoData\\preprocessed\\all\\03\\10*depth* 30\n",
      "E:\\MestradoData\\preprocessed\\all\\03\\20*depth* 30\n",
      "E:\\MestradoData\\preprocessed\\all\\03\\22*depth* 30\n",
      "E:\\MestradoData\\preprocessed\\all\\03\\32*depth* 30\n",
      "E:\\MestradoData\\preprocessed\\all\\03\\24*depth* 30\n",
      "E:\\MestradoData\\preprocessed\\all\\03\\12*depth* 30\n",
      "E:\\MestradoData\\preprocessed\\all\\03\\08*depth* 30\n",
      "E:\\MestradoData\\preprocessed\\all\\03\\36*depth* 0\n",
      "E:\\MestradoData\\preprocessed\\all\\03\\11*depth* 27\n",
      "E:\\MestradoData\\preprocessed\\all\\03\\29*depth* 30\n",
      "E:\\MestradoData\\preprocessed\\all\\03\\17*depth* 30\n",
      "E:\\MestradoData\\preprocessed\\all\\03\\02*depth* 30\n",
      "E:\\MestradoData\\preprocessed\\all\\03\\06*depth* 30\n",
      "E:\\MestradoData\\preprocessed\\all\\03\\21*depth* 30\n",
      "E:\\MestradoData\\preprocessed\\all\\03\\09*depth* 30\n",
      "E:\\MestradoData\\preprocessed\\all\\03\\30*depth* 30\n",
      "E:\\MestradoData\\preprocessed\\all\\03\\16*depth* 30\n",
      "E:\\MestradoData\\preprocessed\\all\\03\\27*depth* 30\n",
      "E:\\MestradoData\\preprocessed\\all\\03\\15*depth* 30\n",
      "E:\\MestradoData\\preprocessed\\all\\03\\14*depth* 30\n",
      "E:\\MestradoData\\preprocessed\\all\\03\\01*depth* 30\n",
      "E:\\MestradoData\\preprocessed\\all\\03\\31*depth* 30\n",
      "E:\\MestradoData\\preprocessed\\all\\03\\28*depth* 30\n",
      "E:\\MestradoData\\preprocessed\\all\\03\\03*depth* 30\n",
      "E:\\MestradoData\\preprocessed\\all\\03\\37*depth* 0\n",
      "\n"
     ]
    },
    {
     "data": {
      "application/vnd.jupyter.widget-view+json": {
       "model_id": "51d0582bce634942888c7783238b11ea",
       "version_major": 2,
       "version_minor": 0
      },
      "text/html": [
       "<p>Failed to display Jupyter Widget of type <code>HBox</code>.</p>\n",
       "<p>\n",
       "  If you're reading this message in the Jupyter Notebook or JupyterLab Notebook, it may mean\n",
       "  that the widgets JavaScript is still loading. If this message persists, it\n",
       "  likely means that the widgets JavaScript library is either not installed or\n",
       "  not enabled. See the <a href=\"https://ipywidgets.readthedocs.io/en/stable/user_install.html\">Jupyter\n",
       "  Widgets Documentation</a> for setup instructions.\n",
       "</p>\n",
       "<p>\n",
       "  If you're reading this message in another frontend (for example, a static\n",
       "  rendering on GitHub or <a href=\"https://nbviewer.jupyter.org/\">NBViewer</a>),\n",
       "  it may mean that your frontend doesn't currently support widgets.\n",
       "</p>\n"
      ],
      "text/plain": [
       "HBox(children=(IntProgress(value=0, max=7), HTML(value='')))"
      ]
     },
     "metadata": {},
     "output_type": "display_data"
    },
    {
     "name": "stdout",
     "output_type": "stream",
     "text": [
      "E:\\MestradoData\\preprocessed\\all\\03\\13*depth* 0\n",
      "E:\\MestradoData\\preprocessed\\all\\03\\18*depth* 0\n",
      "E:\\MestradoData\\preprocessed\\all\\03\\33*depth* 30\n",
      "E:\\MestradoData\\preprocessed\\all\\03\\19*depth* 30\n",
      "E:\\MestradoData\\preprocessed\\all\\03\\34*depth* 30\n",
      "E:\\MestradoData\\preprocessed\\all\\03\\23*depth* 30\n",
      "E:\\MestradoData\\preprocessed\\all\\03\\04*depth* 30\n",
      "\n",
      "folders created !\n"
     ]
    },
    {
     "data": {
      "application/vnd.jupyter.widget-view+json": {
       "model_id": "e99036230583429a95724040ecbe373f",
       "version_major": 2,
       "version_minor": 0
      },
      "text/html": [
       "<p>Failed to display Jupyter Widget of type <code>HBox</code>.</p>\n",
       "<p>\n",
       "  If you're reading this message in the Jupyter Notebook or JupyterLab Notebook, it may mean\n",
       "  that the widgets JavaScript is still loading. If this message persists, it\n",
       "  likely means that the widgets JavaScript library is either not installed or\n",
       "  not enabled. See the <a href=\"https://ipywidgets.readthedocs.io/en/stable/user_install.html\">Jupyter\n",
       "  Widgets Documentation</a> for setup instructions.\n",
       "</p>\n",
       "<p>\n",
       "  If you're reading this message in another frontend (for example, a static\n",
       "  rendering on GitHub or <a href=\"https://nbviewer.jupyter.org/\">NBViewer</a>),\n",
       "  it may mean that your frontend doesn't currently support widgets.\n",
       "</p>\n"
      ],
      "text/plain": [
       "HBox(children=(IntProgress(value=0, max=30), HTML(value='')))"
      ]
     },
     "metadata": {},
     "output_type": "display_data"
    },
    {
     "name": "stdout",
     "output_type": "stream",
     "text": [
      "E:\\MestradoData\\preprocessed\\all\\04\\35*depth* 30\n",
      "E:\\MestradoData\\preprocessed\\all\\04\\05*depth* 30\n",
      "E:\\MestradoData\\preprocessed\\all\\04\\26*depth* 30\n",
      "E:\\MestradoData\\preprocessed\\all\\04\\07*depth* 30\n",
      "E:\\MestradoData\\preprocessed\\all\\04\\25*depth* 30\n",
      "E:\\MestradoData\\preprocessed\\all\\04\\10*depth* 30\n",
      "E:\\MestradoData\\preprocessed\\all\\04\\20*depth* 30\n",
      "E:\\MestradoData\\preprocessed\\all\\04\\22*depth* 30\n",
      "E:\\MestradoData\\preprocessed\\all\\04\\32*depth* 30\n",
      "E:\\MestradoData\\preprocessed\\all\\04\\24*depth* 30\n",
      "E:\\MestradoData\\preprocessed\\all\\04\\12*depth* 30\n",
      "E:\\MestradoData\\preprocessed\\all\\04\\08*depth* 30\n",
      "E:\\MestradoData\\preprocessed\\all\\04\\36*depth* 0\n",
      "E:\\MestradoData\\preprocessed\\all\\04\\11*depth* 27\n",
      "E:\\MestradoData\\preprocessed\\all\\04\\29*depth* 30\n",
      "E:\\MestradoData\\preprocessed\\all\\04\\17*depth* 30\n",
      "E:\\MestradoData\\preprocessed\\all\\04\\02*depth* 30\n",
      "E:\\MestradoData\\preprocessed\\all\\04\\06*depth* 30\n",
      "E:\\MestradoData\\preprocessed\\all\\04\\21*depth* 30\n",
      "E:\\MestradoData\\preprocessed\\all\\04\\09*depth* 30\n",
      "E:\\MestradoData\\preprocessed\\all\\04\\30*depth* 30\n",
      "E:\\MestradoData\\preprocessed\\all\\04\\16*depth* 30\n",
      "E:\\MestradoData\\preprocessed\\all\\04\\27*depth* 30\n",
      "E:\\MestradoData\\preprocessed\\all\\04\\15*depth* 30\n",
      "E:\\MestradoData\\preprocessed\\all\\04\\14*depth* 30\n",
      "E:\\MestradoData\\preprocessed\\all\\04\\01*depth* 30\n",
      "E:\\MestradoData\\preprocessed\\all\\04\\31*depth* 30\n",
      "E:\\MestradoData\\preprocessed\\all\\04\\28*depth* 30\n",
      "E:\\MestradoData\\preprocessed\\all\\04\\03*depth* 30\n",
      "E:\\MestradoData\\preprocessed\\all\\04\\37*depth* 0\n",
      "\n"
     ]
    },
    {
     "data": {
      "application/vnd.jupyter.widget-view+json": {
       "model_id": "1f47956a23ab4ed79fd0e9affed60e3f",
       "version_major": 2,
       "version_minor": 0
      },
      "text/html": [
       "<p>Failed to display Jupyter Widget of type <code>HBox</code>.</p>\n",
       "<p>\n",
       "  If you're reading this message in the Jupyter Notebook or JupyterLab Notebook, it may mean\n",
       "  that the widgets JavaScript is still loading. If this message persists, it\n",
       "  likely means that the widgets JavaScript library is either not installed or\n",
       "  not enabled. See the <a href=\"https://ipywidgets.readthedocs.io/en/stable/user_install.html\">Jupyter\n",
       "  Widgets Documentation</a> for setup instructions.\n",
       "</p>\n",
       "<p>\n",
       "  If you're reading this message in another frontend (for example, a static\n",
       "  rendering on GitHub or <a href=\"https://nbviewer.jupyter.org/\">NBViewer</a>),\n",
       "  it may mean that your frontend doesn't currently support widgets.\n",
       "</p>\n"
      ],
      "text/plain": [
       "HBox(children=(IntProgress(value=0, max=7), HTML(value='')))"
      ]
     },
     "metadata": {},
     "output_type": "display_data"
    },
    {
     "name": "stdout",
     "output_type": "stream",
     "text": [
      "E:\\MestradoData\\preprocessed\\all\\04\\13*depth* 0\n",
      "E:\\MestradoData\\preprocessed\\all\\04\\18*depth* 0\n",
      "E:\\MestradoData\\preprocessed\\all\\04\\33*depth* 30\n",
      "E:\\MestradoData\\preprocessed\\all\\04\\19*depth* 30\n",
      "E:\\MestradoData\\preprocessed\\all\\04\\34*depth* 30\n",
      "E:\\MestradoData\\preprocessed\\all\\04\\23*depth* 30\n",
      "E:\\MestradoData\\preprocessed\\all\\04\\04*depth* 30\n",
      "\n",
      "folders created !\n"
     ]
    },
    {
     "data": {
      "application/vnd.jupyter.widget-view+json": {
       "model_id": "898f0c909de94d06a99310c95a1c113e",
       "version_major": 2,
       "version_minor": 0
      },
      "text/html": [
       "<p>Failed to display Jupyter Widget of type <code>HBox</code>.</p>\n",
       "<p>\n",
       "  If you're reading this message in the Jupyter Notebook or JupyterLab Notebook, it may mean\n",
       "  that the widgets JavaScript is still loading. If this message persists, it\n",
       "  likely means that the widgets JavaScript library is either not installed or\n",
       "  not enabled. See the <a href=\"https://ipywidgets.readthedocs.io/en/stable/user_install.html\">Jupyter\n",
       "  Widgets Documentation</a> for setup instructions.\n",
       "</p>\n",
       "<p>\n",
       "  If you're reading this message in another frontend (for example, a static\n",
       "  rendering on GitHub or <a href=\"https://nbviewer.jupyter.org/\">NBViewer</a>),\n",
       "  it may mean that your frontend doesn't currently support widgets.\n",
       "</p>\n"
      ],
      "text/plain": [
       "HBox(children=(IntProgress(value=0, max=30), HTML(value='')))"
      ]
     },
     "metadata": {},
     "output_type": "display_data"
    },
    {
     "name": "stdout",
     "output_type": "stream",
     "text": [
      "E:\\MestradoData\\preprocessed\\all\\05\\35*depth* 30\n",
      "E:\\MestradoData\\preprocessed\\all\\05\\05*depth* 30\n",
      "E:\\MestradoData\\preprocessed\\all\\05\\26*depth* 30\n",
      "E:\\MestradoData\\preprocessed\\all\\05\\07*depth* 30\n",
      "E:\\MestradoData\\preprocessed\\all\\05\\25*depth* 30\n",
      "E:\\MestradoData\\preprocessed\\all\\05\\10*depth* 30\n",
      "E:\\MestradoData\\preprocessed\\all\\05\\20*depth* 30\n",
      "E:\\MestradoData\\preprocessed\\all\\05\\22*depth* 23\n",
      "E:\\MestradoData\\preprocessed\\all\\05\\32*depth* 30\n",
      "E:\\MestradoData\\preprocessed\\all\\05\\24*depth* 30\n",
      "E:\\MestradoData\\preprocessed\\all\\05\\12*depth* 30\n",
      "E:\\MestradoData\\preprocessed\\all\\05\\08*depth* 30\n",
      "E:\\MestradoData\\preprocessed\\all\\05\\36*depth* 0\n",
      "E:\\MestradoData\\preprocessed\\all\\05\\11*depth* 30\n",
      "E:\\MestradoData\\preprocessed\\all\\05\\29*depth* 30\n",
      "E:\\MestradoData\\preprocessed\\all\\05\\17*depth* 30\n",
      "E:\\MestradoData\\preprocessed\\all\\05\\02*depth* 30\n",
      "E:\\MestradoData\\preprocessed\\all\\05\\06*depth* 30\n",
      "E:\\MestradoData\\preprocessed\\all\\05\\21*depth* 30\n",
      "E:\\MestradoData\\preprocessed\\all\\05\\09*depth* 30\n",
      "E:\\MestradoData\\preprocessed\\all\\05\\30*depth* 30\n",
      "E:\\MestradoData\\preprocessed\\all\\05\\16*depth* 30\n",
      "E:\\MestradoData\\preprocessed\\all\\05\\27*depth* 30\n",
      "E:\\MestradoData\\preprocessed\\all\\05\\15*depth* 30\n",
      "E:\\MestradoData\\preprocessed\\all\\05\\14*depth* 30\n",
      "E:\\MestradoData\\preprocessed\\all\\05\\01*depth* 30\n",
      "E:\\MestradoData\\preprocessed\\all\\05\\31*depth* 30\n",
      "E:\\MestradoData\\preprocessed\\all\\05\\28*depth* 30\n",
      "E:\\MestradoData\\preprocessed\\all\\05\\03*depth* 30\n",
      "E:\\MestradoData\\preprocessed\\all\\05\\37*depth* 0\n",
      "\n"
     ]
    },
    {
     "data": {
      "application/vnd.jupyter.widget-view+json": {
       "model_id": "8d92c039630f4d5ba876943b045453b6",
       "version_major": 2,
       "version_minor": 0
      },
      "text/html": [
       "<p>Failed to display Jupyter Widget of type <code>HBox</code>.</p>\n",
       "<p>\n",
       "  If you're reading this message in the Jupyter Notebook or JupyterLab Notebook, it may mean\n",
       "  that the widgets JavaScript is still loading. If this message persists, it\n",
       "  likely means that the widgets JavaScript library is either not installed or\n",
       "  not enabled. See the <a href=\"https://ipywidgets.readthedocs.io/en/stable/user_install.html\">Jupyter\n",
       "  Widgets Documentation</a> for setup instructions.\n",
       "</p>\n",
       "<p>\n",
       "  If you're reading this message in another frontend (for example, a static\n",
       "  rendering on GitHub or <a href=\"https://nbviewer.jupyter.org/\">NBViewer</a>),\n",
       "  it may mean that your frontend doesn't currently support widgets.\n",
       "</p>\n"
      ],
      "text/plain": [
       "HBox(children=(IntProgress(value=0, max=7), HTML(value='')))"
      ]
     },
     "metadata": {},
     "output_type": "display_data"
    },
    {
     "name": "stdout",
     "output_type": "stream",
     "text": [
      "E:\\MestradoData\\preprocessed\\all\\05\\13*depth* 30\n",
      "E:\\MestradoData\\preprocessed\\all\\05\\18*depth* 30\n",
      "E:\\MestradoData\\preprocessed\\all\\05\\33*depth* 30\n",
      "E:\\MestradoData\\preprocessed\\all\\05\\19*depth* 0\n",
      "E:\\MestradoData\\preprocessed\\all\\05\\34*depth* 27\n",
      "E:\\MestradoData\\preprocessed\\all\\05\\23*depth* 30\n",
      "E:\\MestradoData\\preprocessed\\all\\05\\04*depth* 30\n",
      "\n",
      "folders created !\n"
     ]
    },
    {
     "data": {
      "application/vnd.jupyter.widget-view+json": {
       "model_id": "1f2a4650d81946bb98a52dd4bd21c284",
       "version_major": 2,
       "version_minor": 0
      },
      "text/html": [
       "<p>Failed to display Jupyter Widget of type <code>HBox</code>.</p>\n",
       "<p>\n",
       "  If you're reading this message in the Jupyter Notebook or JupyterLab Notebook, it may mean\n",
       "  that the widgets JavaScript is still loading. If this message persists, it\n",
       "  likely means that the widgets JavaScript library is either not installed or\n",
       "  not enabled. See the <a href=\"https://ipywidgets.readthedocs.io/en/stable/user_install.html\">Jupyter\n",
       "  Widgets Documentation</a> for setup instructions.\n",
       "</p>\n",
       "<p>\n",
       "  If you're reading this message in another frontend (for example, a static\n",
       "  rendering on GitHub or <a href=\"https://nbviewer.jupyter.org/\">NBViewer</a>),\n",
       "  it may mean that your frontend doesn't currently support widgets.\n",
       "</p>\n"
      ],
      "text/plain": [
       "HBox(children=(IntProgress(value=0, max=30), HTML(value='')))"
      ]
     },
     "metadata": {},
     "output_type": "display_data"
    },
    {
     "name": "stdout",
     "output_type": "stream",
     "text": [
      "E:\\MestradoData\\preprocessed\\all\\06\\35*depth* 30\n",
      "E:\\MestradoData\\preprocessed\\all\\06\\05*depth* 30\n",
      "E:\\MestradoData\\preprocessed\\all\\06\\26*depth* 30\n",
      "E:\\MestradoData\\preprocessed\\all\\06\\07*depth* 30\n",
      "E:\\MestradoData\\preprocessed\\all\\06\\25*depth* 30\n",
      "E:\\MestradoData\\preprocessed\\all\\06\\10*depth* 30\n",
      "E:\\MestradoData\\preprocessed\\all\\06\\20*depth* 30\n",
      "E:\\MestradoData\\preprocessed\\all\\06\\22*depth* 21\n",
      "E:\\MestradoData\\preprocessed\\all\\06\\32*depth* 30\n",
      "E:\\MestradoData\\preprocessed\\all\\06\\24*depth* 30\n",
      "E:\\MestradoData\\preprocessed\\all\\06\\12*depth* 30\n",
      "E:\\MestradoData\\preprocessed\\all\\06\\08*depth* 30\n",
      "E:\\MestradoData\\preprocessed\\all\\06\\36*depth* 0\n",
      "E:\\MestradoData\\preprocessed\\all\\06\\11*depth* 30\n",
      "E:\\MestradoData\\preprocessed\\all\\06\\29*depth* 30\n",
      "E:\\MestradoData\\preprocessed\\all\\06\\17*depth* 30\n",
      "E:\\MestradoData\\preprocessed\\all\\06\\02*depth* 30\n",
      "E:\\MestradoData\\preprocessed\\all\\06\\06*depth* 30\n",
      "E:\\MestradoData\\preprocessed\\all\\06\\21*depth* 30\n",
      "E:\\MestradoData\\preprocessed\\all\\06\\09*depth* 30\n",
      "E:\\MestradoData\\preprocessed\\all\\06\\30*depth* 30\n",
      "E:\\MestradoData\\preprocessed\\all\\06\\16*depth* 30\n",
      "E:\\MestradoData\\preprocessed\\all\\06\\27*depth* 30\n",
      "E:\\MestradoData\\preprocessed\\all\\06\\15*depth* 30\n",
      "E:\\MestradoData\\preprocessed\\all\\06\\14*depth* 30\n",
      "E:\\MestradoData\\preprocessed\\all\\06\\01*depth* 30\n",
      "E:\\MestradoData\\preprocessed\\all\\06\\31*depth* 30\n",
      "E:\\MestradoData\\preprocessed\\all\\06\\28*depth* 30\n",
      "E:\\MestradoData\\preprocessed\\all\\06\\03*depth* 30\n",
      "E:\\MestradoData\\preprocessed\\all\\06\\37*depth* 0\n",
      "\n"
     ]
    },
    {
     "data": {
      "application/vnd.jupyter.widget-view+json": {
       "model_id": "00df6dc5af134975af105344d4eb90d8",
       "version_major": 2,
       "version_minor": 0
      },
      "text/html": [
       "<p>Failed to display Jupyter Widget of type <code>HBox</code>.</p>\n",
       "<p>\n",
       "  If you're reading this message in the Jupyter Notebook or JupyterLab Notebook, it may mean\n",
       "  that the widgets JavaScript is still loading. If this message persists, it\n",
       "  likely means that the widgets JavaScript library is either not installed or\n",
       "  not enabled. See the <a href=\"https://ipywidgets.readthedocs.io/en/stable/user_install.html\">Jupyter\n",
       "  Widgets Documentation</a> for setup instructions.\n",
       "</p>\n",
       "<p>\n",
       "  If you're reading this message in another frontend (for example, a static\n",
       "  rendering on GitHub or <a href=\"https://nbviewer.jupyter.org/\">NBViewer</a>),\n",
       "  it may mean that your frontend doesn't currently support widgets.\n",
       "</p>\n"
      ],
      "text/plain": [
       "HBox(children=(IntProgress(value=0, max=7), HTML(value='')))"
      ]
     },
     "metadata": {},
     "output_type": "display_data"
    },
    {
     "name": "stdout",
     "output_type": "stream",
     "text": [
      "E:\\MestradoData\\preprocessed\\all\\06\\13*depth* 30\n",
      "E:\\MestradoData\\preprocessed\\all\\06\\18*depth* 30\n",
      "E:\\MestradoData\\preprocessed\\all\\06\\33*depth* 30\n",
      "E:\\MestradoData\\preprocessed\\all\\06\\19*depth* 0\n",
      "E:\\MestradoData\\preprocessed\\all\\06\\34*depth* 27\n",
      "E:\\MestradoData\\preprocessed\\all\\06\\23*depth* 30\n",
      "E:\\MestradoData\\preprocessed\\all\\06\\04*depth* 30\n",
      "\n",
      "folders created !\n"
     ]
    },
    {
     "data": {
      "application/vnd.jupyter.widget-view+json": {
       "model_id": "dc17df68efae45469a5d1277b9ed422a",
       "version_major": 2,
       "version_minor": 0
      },
      "text/html": [
       "<p>Failed to display Jupyter Widget of type <code>HBox</code>.</p>\n",
       "<p>\n",
       "  If you're reading this message in the Jupyter Notebook or JupyterLab Notebook, it may mean\n",
       "  that the widgets JavaScript is still loading. If this message persists, it\n",
       "  likely means that the widgets JavaScript library is either not installed or\n",
       "  not enabled. See the <a href=\"https://ipywidgets.readthedocs.io/en/stable/user_install.html\">Jupyter\n",
       "  Widgets Documentation</a> for setup instructions.\n",
       "</p>\n",
       "<p>\n",
       "  If you're reading this message in another frontend (for example, a static\n",
       "  rendering on GitHub or <a href=\"https://nbviewer.jupyter.org/\">NBViewer</a>),\n",
       "  it may mean that your frontend doesn't currently support widgets.\n",
       "</p>\n"
      ],
      "text/plain": [
       "HBox(children=(IntProgress(value=0, max=30), HTML(value='')))"
      ]
     },
     "metadata": {},
     "output_type": "display_data"
    },
    {
     "name": "stdout",
     "output_type": "stream",
     "text": [
      "E:\\MestradoData\\preprocessed\\all\\07\\35*depth* 30\n",
      "E:\\MestradoData\\preprocessed\\all\\07\\05*depth* 30\n",
      "E:\\MestradoData\\preprocessed\\all\\07\\26*depth* 30\n",
      "E:\\MestradoData\\preprocessed\\all\\07\\07*depth* 30\n",
      "E:\\MestradoData\\preprocessed\\all\\07\\25*depth* 30\n",
      "E:\\MestradoData\\preprocessed\\all\\07\\10*depth* 30\n",
      "E:\\MestradoData\\preprocessed\\all\\07\\20*depth* 30\n",
      "E:\\MestradoData\\preprocessed\\all\\07\\22*depth* 30\n",
      "E:\\MestradoData\\preprocessed\\all\\07\\32*depth* 30\n",
      "E:\\MestradoData\\preprocessed\\all\\07\\24*depth* 30\n",
      "E:\\MestradoData\\preprocessed\\all\\07\\12*depth* 30\n",
      "E:\\MestradoData\\preprocessed\\all\\07\\08*depth* 30\n",
      "E:\\MestradoData\\preprocessed\\all\\07\\36*depth* 0\n",
      "E:\\MestradoData\\preprocessed\\all\\07\\11*depth* 27\n",
      "E:\\MestradoData\\preprocessed\\all\\07\\29*depth* 30\n",
      "E:\\MestradoData\\preprocessed\\all\\07\\17*depth* 30\n",
      "E:\\MestradoData\\preprocessed\\all\\07\\02*depth* 30\n",
      "E:\\MestradoData\\preprocessed\\all\\07\\06*depth* 30\n",
      "E:\\MestradoData\\preprocessed\\all\\07\\21*depth* 30\n",
      "E:\\MestradoData\\preprocessed\\all\\07\\09*depth* 30\n",
      "E:\\MestradoData\\preprocessed\\all\\07\\30*depth* 30\n",
      "E:\\MestradoData\\preprocessed\\all\\07\\16*depth* 30\n",
      "E:\\MestradoData\\preprocessed\\all\\07\\27*depth* 30\n",
      "E:\\MestradoData\\preprocessed\\all\\07\\15*depth* 30\n",
      "E:\\MestradoData\\preprocessed\\all\\07\\14*depth* 30\n",
      "E:\\MestradoData\\preprocessed\\all\\07\\01*depth* 30\n",
      "E:\\MestradoData\\preprocessed\\all\\07\\31*depth* 30\n",
      "E:\\MestradoData\\preprocessed\\all\\07\\28*depth* 30\n",
      "E:\\MestradoData\\preprocessed\\all\\07\\03*depth* 30\n",
      "E:\\MestradoData\\preprocessed\\all\\07\\37*depth* 0\n",
      "\n"
     ]
    },
    {
     "data": {
      "application/vnd.jupyter.widget-view+json": {
       "model_id": "ab029001b474413fa2a03a0c12adfc25",
       "version_major": 2,
       "version_minor": 0
      },
      "text/html": [
       "<p>Failed to display Jupyter Widget of type <code>HBox</code>.</p>\n",
       "<p>\n",
       "  If you're reading this message in the Jupyter Notebook or JupyterLab Notebook, it may mean\n",
       "  that the widgets JavaScript is still loading. If this message persists, it\n",
       "  likely means that the widgets JavaScript library is either not installed or\n",
       "  not enabled. See the <a href=\"https://ipywidgets.readthedocs.io/en/stable/user_install.html\">Jupyter\n",
       "  Widgets Documentation</a> for setup instructions.\n",
       "</p>\n",
       "<p>\n",
       "  If you're reading this message in another frontend (for example, a static\n",
       "  rendering on GitHub or <a href=\"https://nbviewer.jupyter.org/\">NBViewer</a>),\n",
       "  it may mean that your frontend doesn't currently support widgets.\n",
       "</p>\n"
      ],
      "text/plain": [
       "HBox(children=(IntProgress(value=0, max=7), HTML(value='')))"
      ]
     },
     "metadata": {},
     "output_type": "display_data"
    },
    {
     "name": "stdout",
     "output_type": "stream",
     "text": [
      "E:\\MestradoData\\preprocessed\\all\\07\\13*depth* 0\n",
      "E:\\MestradoData\\preprocessed\\all\\07\\18*depth* 0\n",
      "E:\\MestradoData\\preprocessed\\all\\07\\33*depth* 30\n",
      "E:\\MestradoData\\preprocessed\\all\\07\\19*depth* 30\n",
      "E:\\MestradoData\\preprocessed\\all\\07\\34*depth* 30\n",
      "E:\\MestradoData\\preprocessed\\all\\07\\23*depth* 30\n",
      "E:\\MestradoData\\preprocessed\\all\\07\\04*depth* 30\n",
      "\n",
      "folders created !\n"
     ]
    },
    {
     "data": {
      "application/vnd.jupyter.widget-view+json": {
       "model_id": "ddd1d0c249bc4980853b5018ce673fe9",
       "version_major": 2,
       "version_minor": 0
      },
      "text/html": [
       "<p>Failed to display Jupyter Widget of type <code>HBox</code>.</p>\n",
       "<p>\n",
       "  If you're reading this message in the Jupyter Notebook or JupyterLab Notebook, it may mean\n",
       "  that the widgets JavaScript is still loading. If this message persists, it\n",
       "  likely means that the widgets JavaScript library is either not installed or\n",
       "  not enabled. See the <a href=\"https://ipywidgets.readthedocs.io/en/stable/user_install.html\">Jupyter\n",
       "  Widgets Documentation</a> for setup instructions.\n",
       "</p>\n",
       "<p>\n",
       "  If you're reading this message in another frontend (for example, a static\n",
       "  rendering on GitHub or <a href=\"https://nbviewer.jupyter.org/\">NBViewer</a>),\n",
       "  it may mean that your frontend doesn't currently support widgets.\n",
       "</p>\n"
      ],
      "text/plain": [
       "HBox(children=(IntProgress(value=0, max=30), HTML(value='')))"
      ]
     },
     "metadata": {},
     "output_type": "display_data"
    },
    {
     "name": "stdout",
     "output_type": "stream",
     "text": [
      "E:\\MestradoData\\preprocessed\\all\\08\\35*depth* 30\n",
      "E:\\MestradoData\\preprocessed\\all\\08\\05*depth* 30\n",
      "E:\\MestradoData\\preprocessed\\all\\08\\26*depth* 30\n",
      "E:\\MestradoData\\preprocessed\\all\\08\\07*depth* 30\n",
      "E:\\MestradoData\\preprocessed\\all\\08\\25*depth* 30\n",
      "E:\\MestradoData\\preprocessed\\all\\08\\10*depth* 30\n",
      "E:\\MestradoData\\preprocessed\\all\\08\\20*depth* 30\n",
      "E:\\MestradoData\\preprocessed\\all\\08\\22*depth* 30\n",
      "E:\\MestradoData\\preprocessed\\all\\08\\32*depth* 30\n",
      "E:\\MestradoData\\preprocessed\\all\\08\\24*depth* 30\n",
      "E:\\MestradoData\\preprocessed\\all\\08\\12*depth* 30\n",
      "E:\\MestradoData\\preprocessed\\all\\08\\08*depth* 30\n",
      "E:\\MestradoData\\preprocessed\\all\\08\\36*depth* 0\n",
      "E:\\MestradoData\\preprocessed\\all\\08\\11*depth* 27\n",
      "E:\\MestradoData\\preprocessed\\all\\08\\29*depth* 30\n",
      "E:\\MestradoData\\preprocessed\\all\\08\\17*depth* 30\n",
      "E:\\MestradoData\\preprocessed\\all\\08\\02*depth* 30\n",
      "E:\\MestradoData\\preprocessed\\all\\08\\06*depth* 30\n",
      "E:\\MestradoData\\preprocessed\\all\\08\\21*depth* 30\n",
      "E:\\MestradoData\\preprocessed\\all\\08\\09*depth* 30\n",
      "E:\\MestradoData\\preprocessed\\all\\08\\30*depth* 30\n",
      "E:\\MestradoData\\preprocessed\\all\\08\\16*depth* 30\n",
      "E:\\MestradoData\\preprocessed\\all\\08\\27*depth* 30\n",
      "E:\\MestradoData\\preprocessed\\all\\08\\15*depth* 30\n",
      "E:\\MestradoData\\preprocessed\\all\\08\\14*depth* 30\n",
      "E:\\MestradoData\\preprocessed\\all\\08\\01*depth* 30\n",
      "E:\\MestradoData\\preprocessed\\all\\08\\31*depth* 30\n",
      "E:\\MestradoData\\preprocessed\\all\\08\\28*depth* 30\n",
      "E:\\MestradoData\\preprocessed\\all\\08\\03*depth* 30\n",
      "E:\\MestradoData\\preprocessed\\all\\08\\37*depth* 0\n",
      "\n"
     ]
    },
    {
     "data": {
      "application/vnd.jupyter.widget-view+json": {
       "model_id": "b4293f650a77447a80948f7b5b5fa13e",
       "version_major": 2,
       "version_minor": 0
      },
      "text/html": [
       "<p>Failed to display Jupyter Widget of type <code>HBox</code>.</p>\n",
       "<p>\n",
       "  If you're reading this message in the Jupyter Notebook or JupyterLab Notebook, it may mean\n",
       "  that the widgets JavaScript is still loading. If this message persists, it\n",
       "  likely means that the widgets JavaScript library is either not installed or\n",
       "  not enabled. See the <a href=\"https://ipywidgets.readthedocs.io/en/stable/user_install.html\">Jupyter\n",
       "  Widgets Documentation</a> for setup instructions.\n",
       "</p>\n",
       "<p>\n",
       "  If you're reading this message in another frontend (for example, a static\n",
       "  rendering on GitHub or <a href=\"https://nbviewer.jupyter.org/\">NBViewer</a>),\n",
       "  it may mean that your frontend doesn't currently support widgets.\n",
       "</p>\n"
      ],
      "text/plain": [
       "HBox(children=(IntProgress(value=0, max=7), HTML(value='')))"
      ]
     },
     "metadata": {},
     "output_type": "display_data"
    },
    {
     "name": "stdout",
     "output_type": "stream",
     "text": [
      "E:\\MestradoData\\preprocessed\\all\\08\\13*depth* 0\n",
      "E:\\MestradoData\\preprocessed\\all\\08\\18*depth* 0\n",
      "E:\\MestradoData\\preprocessed\\all\\08\\33*depth* 30\n",
      "E:\\MestradoData\\preprocessed\\all\\08\\19*depth* 30\n",
      "E:\\MestradoData\\preprocessed\\all\\08\\34*depth* 30\n",
      "E:\\MestradoData\\preprocessed\\all\\08\\23*depth* 30\n",
      "E:\\MestradoData\\preprocessed\\all\\08\\04*depth* 30\n",
      "\n",
      "folders created !\n"
     ]
    },
    {
     "data": {
      "application/vnd.jupyter.widget-view+json": {
       "model_id": "37bcca6995524afdb63822fe9e40e231",
       "version_major": 2,
       "version_minor": 0
      },
      "text/html": [
       "<p>Failed to display Jupyter Widget of type <code>HBox</code>.</p>\n",
       "<p>\n",
       "  If you're reading this message in the Jupyter Notebook or JupyterLab Notebook, it may mean\n",
       "  that the widgets JavaScript is still loading. If this message persists, it\n",
       "  likely means that the widgets JavaScript library is either not installed or\n",
       "  not enabled. See the <a href=\"https://ipywidgets.readthedocs.io/en/stable/user_install.html\">Jupyter\n",
       "  Widgets Documentation</a> for setup instructions.\n",
       "</p>\n",
       "<p>\n",
       "  If you're reading this message in another frontend (for example, a static\n",
       "  rendering on GitHub or <a href=\"https://nbviewer.jupyter.org/\">NBViewer</a>),\n",
       "  it may mean that your frontend doesn't currently support widgets.\n",
       "</p>\n"
      ],
      "text/plain": [
       "HBox(children=(IntProgress(value=0, max=30), HTML(value='')))"
      ]
     },
     "metadata": {},
     "output_type": "display_data"
    },
    {
     "name": "stdout",
     "output_type": "stream",
     "text": [
      "E:\\MestradoData\\preprocessed\\all\\09\\35*depth* 30\n",
      "E:\\MestradoData\\preprocessed\\all\\09\\05*depth* 30\n",
      "E:\\MestradoData\\preprocessed\\all\\09\\26*depth* 30\n",
      "E:\\MestradoData\\preprocessed\\all\\09\\07*depth* 30\n",
      "E:\\MestradoData\\preprocessed\\all\\09\\25*depth* 30\n",
      "E:\\MestradoData\\preprocessed\\all\\09\\10*depth* 30\n",
      "E:\\MestradoData\\preprocessed\\all\\09\\20*depth* 30\n",
      "E:\\MestradoData\\preprocessed\\all\\09\\22*depth* 30\n",
      "E:\\MestradoData\\preprocessed\\all\\09\\32*depth* 30\n",
      "E:\\MestradoData\\preprocessed\\all\\09\\24*depth* 30\n",
      "E:\\MestradoData\\preprocessed\\all\\09\\12*depth* 30\n",
      "E:\\MestradoData\\preprocessed\\all\\09\\08*depth* 30\n",
      "E:\\MestradoData\\preprocessed\\all\\09\\36*depth* 0\n",
      "E:\\MestradoData\\preprocessed\\all\\09\\11*depth* 27\n",
      "E:\\MestradoData\\preprocessed\\all\\09\\29*depth* 30\n",
      "E:\\MestradoData\\preprocessed\\all\\09\\17*depth* 30\n",
      "E:\\MestradoData\\preprocessed\\all\\09\\02*depth* 30\n",
      "E:\\MestradoData\\preprocessed\\all\\09\\06*depth* 30\n",
      "E:\\MestradoData\\preprocessed\\all\\09\\21*depth* 30\n",
      "E:\\MestradoData\\preprocessed\\all\\09\\09*depth* 30\n",
      "E:\\MestradoData\\preprocessed\\all\\09\\30*depth* 30\n",
      "E:\\MestradoData\\preprocessed\\all\\09\\16*depth* 30\n",
      "E:\\MestradoData\\preprocessed\\all\\09\\27*depth* 30\n",
      "E:\\MestradoData\\preprocessed\\all\\09\\15*depth* 30\n",
      "E:\\MestradoData\\preprocessed\\all\\09\\14*depth* 30\n",
      "E:\\MestradoData\\preprocessed\\all\\09\\01*depth* 30\n",
      "E:\\MestradoData\\preprocessed\\all\\09\\31*depth* 30\n",
      "E:\\MestradoData\\preprocessed\\all\\09\\28*depth* 30\n",
      "E:\\MestradoData\\preprocessed\\all\\09\\03*depth* 30\n",
      "E:\\MestradoData\\preprocessed\\all\\09\\37*depth* 0\n",
      "\n"
     ]
    },
    {
     "data": {
      "application/vnd.jupyter.widget-view+json": {
       "model_id": "856879ae8253441289062dcc5ce82c11",
       "version_major": 2,
       "version_minor": 0
      },
      "text/html": [
       "<p>Failed to display Jupyter Widget of type <code>HBox</code>.</p>\n",
       "<p>\n",
       "  If you're reading this message in the Jupyter Notebook or JupyterLab Notebook, it may mean\n",
       "  that the widgets JavaScript is still loading. If this message persists, it\n",
       "  likely means that the widgets JavaScript library is either not installed or\n",
       "  not enabled. See the <a href=\"https://ipywidgets.readthedocs.io/en/stable/user_install.html\">Jupyter\n",
       "  Widgets Documentation</a> for setup instructions.\n",
       "</p>\n",
       "<p>\n",
       "  If you're reading this message in another frontend (for example, a static\n",
       "  rendering on GitHub or <a href=\"https://nbviewer.jupyter.org/\">NBViewer</a>),\n",
       "  it may mean that your frontend doesn't currently support widgets.\n",
       "</p>\n"
      ],
      "text/plain": [
       "HBox(children=(IntProgress(value=0, max=7), HTML(value='')))"
      ]
     },
     "metadata": {},
     "output_type": "display_data"
    },
    {
     "name": "stdout",
     "output_type": "stream",
     "text": [
      "E:\\MestradoData\\preprocessed\\all\\09\\13*depth* 0\n",
      "E:\\MestradoData\\preprocessed\\all\\09\\18*depth* 0\n",
      "E:\\MestradoData\\preprocessed\\all\\09\\33*depth* 30\n",
      "E:\\MestradoData\\preprocessed\\all\\09\\19*depth* 30\n",
      "E:\\MestradoData\\preprocessed\\all\\09\\34*depth* 30\n",
      "E:\\MestradoData\\preprocessed\\all\\09\\23*depth* 30\n",
      "E:\\MestradoData\\preprocessed\\all\\09\\04*depth* 30\n",
      "\n",
      "folders created !\n"
     ]
    },
    {
     "data": {
      "application/vnd.jupyter.widget-view+json": {
       "model_id": "dbddd8424e514afe83363f7133d895dc",
       "version_major": 2,
       "version_minor": 0
      },
      "text/html": [
       "<p>Failed to display Jupyter Widget of type <code>HBox</code>.</p>\n",
       "<p>\n",
       "  If you're reading this message in the Jupyter Notebook or JupyterLab Notebook, it may mean\n",
       "  that the widgets JavaScript is still loading. If this message persists, it\n",
       "  likely means that the widgets JavaScript library is either not installed or\n",
       "  not enabled. See the <a href=\"https://ipywidgets.readthedocs.io/en/stable/user_install.html\">Jupyter\n",
       "  Widgets Documentation</a> for setup instructions.\n",
       "</p>\n",
       "<p>\n",
       "  If you're reading this message in another frontend (for example, a static\n",
       "  rendering on GitHub or <a href=\"https://nbviewer.jupyter.org/\">NBViewer</a>),\n",
       "  it may mean that your frontend doesn't currently support widgets.\n",
       "</p>\n"
      ],
      "text/plain": [
       "HBox(children=(IntProgress(value=0, max=30), HTML(value='')))"
      ]
     },
     "metadata": {},
     "output_type": "display_data"
    },
    {
     "name": "stdout",
     "output_type": "stream",
     "text": [
      "E:\\MestradoData\\preprocessed\\all\\10\\35*depth* 30\n",
      "E:\\MestradoData\\preprocessed\\all\\10\\05*depth* 30\n",
      "E:\\MestradoData\\preprocessed\\all\\10\\26*depth* 30\n",
      "E:\\MestradoData\\preprocessed\\all\\10\\07*depth* 30\n",
      "E:\\MestradoData\\preprocessed\\all\\10\\25*depth* 30\n",
      "E:\\MestradoData\\preprocessed\\all\\10\\10*depth* 30\n",
      "E:\\MestradoData\\preprocessed\\all\\10\\20*depth* 30\n",
      "E:\\MestradoData\\preprocessed\\all\\10\\22*depth* 30\n",
      "E:\\MestradoData\\preprocessed\\all\\10\\32*depth* 30\n",
      "E:\\MestradoData\\preprocessed\\all\\10\\24*depth* 30\n",
      "E:\\MestradoData\\preprocessed\\all\\10\\12*depth* 30\n",
      "E:\\MestradoData\\preprocessed\\all\\10\\08*depth* 30\n",
      "E:\\MestradoData\\preprocessed\\all\\10\\36*depth* 0\n",
      "E:\\MestradoData\\preprocessed\\all\\10\\11*depth* 27\n",
      "E:\\MestradoData\\preprocessed\\all\\10\\29*depth* 30\n",
      "E:\\MestradoData\\preprocessed\\all\\10\\17*depth* 30\n",
      "E:\\MestradoData\\preprocessed\\all\\10\\02*depth* 30\n",
      "E:\\MestradoData\\preprocessed\\all\\10\\06*depth* 30\n",
      "E:\\MestradoData\\preprocessed\\all\\10\\21*depth* 30\n",
      "E:\\MestradoData\\preprocessed\\all\\10\\09*depth* 30\n",
      "E:\\MestradoData\\preprocessed\\all\\10\\30*depth* 30\n",
      "E:\\MestradoData\\preprocessed\\all\\10\\16*depth* 30\n",
      "E:\\MestradoData\\preprocessed\\all\\10\\27*depth* 30\n",
      "E:\\MestradoData\\preprocessed\\all\\10\\15*depth* 30\n",
      "E:\\MestradoData\\preprocessed\\all\\10\\14*depth* 30\n",
      "E:\\MestradoData\\preprocessed\\all\\10\\01*depth* 30\n",
      "E:\\MestradoData\\preprocessed\\all\\10\\31*depth* 30\n",
      "E:\\MestradoData\\preprocessed\\all\\10\\28*depth* 30\n",
      "E:\\MestradoData\\preprocessed\\all\\10\\03*depth* 30\n",
      "E:\\MestradoData\\preprocessed\\all\\10\\37*depth* 0\n",
      "\n"
     ]
    },
    {
     "data": {
      "application/vnd.jupyter.widget-view+json": {
       "model_id": "a7c6450e05f6496eba8d94ff4a7319fc",
       "version_major": 2,
       "version_minor": 0
      },
      "text/html": [
       "<p>Failed to display Jupyter Widget of type <code>HBox</code>.</p>\n",
       "<p>\n",
       "  If you're reading this message in the Jupyter Notebook or JupyterLab Notebook, it may mean\n",
       "  that the widgets JavaScript is still loading. If this message persists, it\n",
       "  likely means that the widgets JavaScript library is either not installed or\n",
       "  not enabled. See the <a href=\"https://ipywidgets.readthedocs.io/en/stable/user_install.html\">Jupyter\n",
       "  Widgets Documentation</a> for setup instructions.\n",
       "</p>\n",
       "<p>\n",
       "  If you're reading this message in another frontend (for example, a static\n",
       "  rendering on GitHub or <a href=\"https://nbviewer.jupyter.org/\">NBViewer</a>),\n",
       "  it may mean that your frontend doesn't currently support widgets.\n",
       "</p>\n"
      ],
      "text/plain": [
       "HBox(children=(IntProgress(value=0, max=7), HTML(value='')))"
      ]
     },
     "metadata": {},
     "output_type": "display_data"
    },
    {
     "name": "stdout",
     "output_type": "stream",
     "text": [
      "E:\\MestradoData\\preprocessed\\all\\10\\13*depth* 0\n",
      "E:\\MestradoData\\preprocessed\\all\\10\\18*depth* 0\n",
      "E:\\MestradoData\\preprocessed\\all\\10\\33*depth* 30\n",
      "E:\\MestradoData\\preprocessed\\all\\10\\19*depth* 30\n",
      "E:\\MestradoData\\preprocessed\\all\\10\\34*depth* 30\n",
      "E:\\MestradoData\\preprocessed\\all\\10\\23*depth* 30\n",
      "E:\\MestradoData\\preprocessed\\all\\10\\04*depth* 30\n",
      "\n",
      "folders created !\n"
     ]
    },
    {
     "data": {
      "application/vnd.jupyter.widget-view+json": {
       "model_id": "733d36ef7c32460eb2e2b6482c6b0ff8",
       "version_major": 2,
       "version_minor": 0
      },
      "text/html": [
       "<p>Failed to display Jupyter Widget of type <code>HBox</code>.</p>\n",
       "<p>\n",
       "  If you're reading this message in the Jupyter Notebook or JupyterLab Notebook, it may mean\n",
       "  that the widgets JavaScript is still loading. If this message persists, it\n",
       "  likely means that the widgets JavaScript library is either not installed or\n",
       "  not enabled. See the <a href=\"https://ipywidgets.readthedocs.io/en/stable/user_install.html\">Jupyter\n",
       "  Widgets Documentation</a> for setup instructions.\n",
       "</p>\n",
       "<p>\n",
       "  If you're reading this message in another frontend (for example, a static\n",
       "  rendering on GitHub or <a href=\"https://nbviewer.jupyter.org/\">NBViewer</a>),\n",
       "  it may mean that your frontend doesn't currently support widgets.\n",
       "</p>\n"
      ],
      "text/plain": [
       "HBox(children=(IntProgress(value=0, max=30), HTML(value='')))"
      ]
     },
     "metadata": {},
     "output_type": "display_data"
    },
    {
     "name": "stdout",
     "output_type": "stream",
     "text": [
      "E:\\MestradoData\\preprocessed\\all\\11\\35*depth* 30\n",
      "E:\\MestradoData\\preprocessed\\all\\11\\05*depth* 30\n",
      "E:\\MestradoData\\preprocessed\\all\\11\\26*depth* 30\n",
      "E:\\MestradoData\\preprocessed\\all\\11\\07*depth* 30\n",
      "E:\\MestradoData\\preprocessed\\all\\11\\25*depth* 30\n",
      "E:\\MestradoData\\preprocessed\\all\\11\\10*depth* 30\n",
      "E:\\MestradoData\\preprocessed\\all\\11\\20*depth* 30\n",
      "E:\\MestradoData\\preprocessed\\all\\11\\22*depth* 30\n",
      "E:\\MestradoData\\preprocessed\\all\\11\\32*depth* 30\n",
      "E:\\MestradoData\\preprocessed\\all\\11\\24*depth* 30\n",
      "E:\\MestradoData\\preprocessed\\all\\11\\12*depth* 30\n",
      "E:\\MestradoData\\preprocessed\\all\\11\\08*depth* 30\n",
      "E:\\MestradoData\\preprocessed\\all\\11\\36*depth* 0\n",
      "E:\\MestradoData\\preprocessed\\all\\11\\11*depth* 27\n",
      "E:\\MestradoData\\preprocessed\\all\\11\\29*depth* 30\n",
      "E:\\MestradoData\\preprocessed\\all\\11\\17*depth* 30\n",
      "E:\\MestradoData\\preprocessed\\all\\11\\02*depth* 30\n",
      "E:\\MestradoData\\preprocessed\\all\\11\\06*depth* 30\n",
      "E:\\MestradoData\\preprocessed\\all\\11\\21*depth* 30\n",
      "E:\\MestradoData\\preprocessed\\all\\11\\09*depth* 30\n",
      "E:\\MestradoData\\preprocessed\\all\\11\\30*depth* 30\n",
      "E:\\MestradoData\\preprocessed\\all\\11\\16*depth* 30\n",
      "E:\\MestradoData\\preprocessed\\all\\11\\27*depth* 30\n",
      "E:\\MestradoData\\preprocessed\\all\\11\\15*depth* 30\n",
      "E:\\MestradoData\\preprocessed\\all\\11\\14*depth* 30\n",
      "E:\\MestradoData\\preprocessed\\all\\11\\01*depth* 30\n",
      "E:\\MestradoData\\preprocessed\\all\\11\\31*depth* 30\n",
      "E:\\MestradoData\\preprocessed\\all\\11\\28*depth* 30\n",
      "E:\\MestradoData\\preprocessed\\all\\11\\03*depth* 30\n",
      "E:\\MestradoData\\preprocessed\\all\\11\\37*depth* 0\n",
      "\n"
     ]
    },
    {
     "data": {
      "application/vnd.jupyter.widget-view+json": {
       "model_id": "85db7b3bf0794a0cbcf6ce443f773667",
       "version_major": 2,
       "version_minor": 0
      },
      "text/html": [
       "<p>Failed to display Jupyter Widget of type <code>HBox</code>.</p>\n",
       "<p>\n",
       "  If you're reading this message in the Jupyter Notebook or JupyterLab Notebook, it may mean\n",
       "  that the widgets JavaScript is still loading. If this message persists, it\n",
       "  likely means that the widgets JavaScript library is either not installed or\n",
       "  not enabled. See the <a href=\"https://ipywidgets.readthedocs.io/en/stable/user_install.html\">Jupyter\n",
       "  Widgets Documentation</a> for setup instructions.\n",
       "</p>\n",
       "<p>\n",
       "  If you're reading this message in another frontend (for example, a static\n",
       "  rendering on GitHub or <a href=\"https://nbviewer.jupyter.org/\">NBViewer</a>),\n",
       "  it may mean that your frontend doesn't currently support widgets.\n",
       "</p>\n"
      ],
      "text/plain": [
       "HBox(children=(IntProgress(value=0, max=7), HTML(value='')))"
      ]
     },
     "metadata": {},
     "output_type": "display_data"
    },
    {
     "name": "stdout",
     "output_type": "stream",
     "text": [
      "E:\\MestradoData\\preprocessed\\all\\11\\13*depth* 0\n",
      "E:\\MestradoData\\preprocessed\\all\\11\\18*depth* 0\n",
      "E:\\MestradoData\\preprocessed\\all\\11\\33*depth* 30\n",
      "E:\\MestradoData\\preprocessed\\all\\11\\19*depth* 30\n",
      "E:\\MestradoData\\preprocessed\\all\\11\\34*depth* 30\n",
      "E:\\MestradoData\\preprocessed\\all\\11\\23*depth* 30\n",
      "E:\\MestradoData\\preprocessed\\all\\11\\04*depth* 30\n",
      "\n",
      "folders created !\n"
     ]
    },
    {
     "data": {
      "application/vnd.jupyter.widget-view+json": {
       "model_id": "b87c990b2bde4758b24ccd15dbc80f11",
       "version_major": 2,
       "version_minor": 0
      },
      "text/html": [
       "<p>Failed to display Jupyter Widget of type <code>HBox</code>.</p>\n",
       "<p>\n",
       "  If you're reading this message in the Jupyter Notebook or JupyterLab Notebook, it may mean\n",
       "  that the widgets JavaScript is still loading. If this message persists, it\n",
       "  likely means that the widgets JavaScript library is either not installed or\n",
       "  not enabled. See the <a href=\"https://ipywidgets.readthedocs.io/en/stable/user_install.html\">Jupyter\n",
       "  Widgets Documentation</a> for setup instructions.\n",
       "</p>\n",
       "<p>\n",
       "  If you're reading this message in another frontend (for example, a static\n",
       "  rendering on GitHub or <a href=\"https://nbviewer.jupyter.org/\">NBViewer</a>),\n",
       "  it may mean that your frontend doesn't currently support widgets.\n",
       "</p>\n"
      ],
      "text/plain": [
       "HBox(children=(IntProgress(value=0, max=30), HTML(value='')))"
      ]
     },
     "metadata": {},
     "output_type": "display_data"
    },
    {
     "name": "stdout",
     "output_type": "stream",
     "text": [
      "E:\\MestradoData\\preprocessed\\all\\12\\35*depth* 30\n",
      "E:\\MestradoData\\preprocessed\\all\\12\\05*depth* 30\n",
      "E:\\MestradoData\\preprocessed\\all\\12\\26*depth* 30\n",
      "E:\\MestradoData\\preprocessed\\all\\12\\07*depth* 30\n",
      "E:\\MestradoData\\preprocessed\\all\\12\\25*depth* 30\n",
      "E:\\MestradoData\\preprocessed\\all\\12\\10*depth* 30\n",
      "E:\\MestradoData\\preprocessed\\all\\12\\20*depth* 30\n",
      "E:\\MestradoData\\preprocessed\\all\\12\\22*depth* 30\n",
      "E:\\MestradoData\\preprocessed\\all\\12\\32*depth* 30\n",
      "E:\\MestradoData\\preprocessed\\all\\12\\24*depth* 30\n",
      "E:\\MestradoData\\preprocessed\\all\\12\\12*depth* 30\n",
      "E:\\MestradoData\\preprocessed\\all\\12\\08*depth* 30\n",
      "E:\\MestradoData\\preprocessed\\all\\12\\36*depth* 0\n",
      "E:\\MestradoData\\preprocessed\\all\\12\\11*depth* 27\n",
      "E:\\MestradoData\\preprocessed\\all\\12\\29*depth* 30\n",
      "E:\\MestradoData\\preprocessed\\all\\12\\17*depth* 30\n",
      "E:\\MestradoData\\preprocessed\\all\\12\\02*depth* 30\n",
      "E:\\MestradoData\\preprocessed\\all\\12\\06*depth* 30\n",
      "E:\\MestradoData\\preprocessed\\all\\12\\21*depth* 30\n",
      "E:\\MestradoData\\preprocessed\\all\\12\\09*depth* 30\n",
      "E:\\MestradoData\\preprocessed\\all\\12\\30*depth* 30\n",
      "E:\\MestradoData\\preprocessed\\all\\12\\16*depth* 30\n",
      "E:\\MestradoData\\preprocessed\\all\\12\\27*depth* 30\n",
      "E:\\MestradoData\\preprocessed\\all\\12\\15*depth* 30\n",
      "E:\\MestradoData\\preprocessed\\all\\12\\14*depth* 30\n",
      "E:\\MestradoData\\preprocessed\\all\\12\\01*depth* 30\n",
      "E:\\MestradoData\\preprocessed\\all\\12\\31*depth* 30\n",
      "E:\\MestradoData\\preprocessed\\all\\12\\28*depth* 30\n",
      "E:\\MestradoData\\preprocessed\\all\\12\\03*depth* 30\n",
      "E:\\MestradoData\\preprocessed\\all\\12\\37*depth* 0\n",
      "\n"
     ]
    },
    {
     "data": {
      "application/vnd.jupyter.widget-view+json": {
       "model_id": "d8ff8312d6c04d7c9ed689b0d8d98318",
       "version_major": 2,
       "version_minor": 0
      },
      "text/html": [
       "<p>Failed to display Jupyter Widget of type <code>HBox</code>.</p>\n",
       "<p>\n",
       "  If you're reading this message in the Jupyter Notebook or JupyterLab Notebook, it may mean\n",
       "  that the widgets JavaScript is still loading. If this message persists, it\n",
       "  likely means that the widgets JavaScript library is either not installed or\n",
       "  not enabled. See the <a href=\"https://ipywidgets.readthedocs.io/en/stable/user_install.html\">Jupyter\n",
       "  Widgets Documentation</a> for setup instructions.\n",
       "</p>\n",
       "<p>\n",
       "  If you're reading this message in another frontend (for example, a static\n",
       "  rendering on GitHub or <a href=\"https://nbviewer.jupyter.org/\">NBViewer</a>),\n",
       "  it may mean that your frontend doesn't currently support widgets.\n",
       "</p>\n"
      ],
      "text/plain": [
       "HBox(children=(IntProgress(value=0, max=7), HTML(value='')))"
      ]
     },
     "metadata": {},
     "output_type": "display_data"
    },
    {
     "name": "stdout",
     "output_type": "stream",
     "text": [
      "E:\\MestradoData\\preprocessed\\all\\12\\13*depth* 0\n",
      "E:\\MestradoData\\preprocessed\\all\\12\\18*depth* 0\n",
      "E:\\MestradoData\\preprocessed\\all\\12\\33*depth* 30\n",
      "E:\\MestradoData\\preprocessed\\all\\12\\19*depth* 30\n",
      "E:\\MestradoData\\preprocessed\\all\\12\\34*depth* 30\n",
      "E:\\MestradoData\\preprocessed\\all\\12\\23*depth* 30\n",
      "E:\\MestradoData\\preprocessed\\all\\12\\04*depth* 30\n",
      "\n",
      "folders created !\n"
     ]
    },
    {
     "data": {
      "application/vnd.jupyter.widget-view+json": {
       "model_id": "2aecaf92e9764de9bd63e5868dc2783c",
       "version_major": 2,
       "version_minor": 0
      },
      "text/html": [
       "<p>Failed to display Jupyter Widget of type <code>HBox</code>.</p>\n",
       "<p>\n",
       "  If you're reading this message in the Jupyter Notebook or JupyterLab Notebook, it may mean\n",
       "  that the widgets JavaScript is still loading. If this message persists, it\n",
       "  likely means that the widgets JavaScript library is either not installed or\n",
       "  not enabled. See the <a href=\"https://ipywidgets.readthedocs.io/en/stable/user_install.html\">Jupyter\n",
       "  Widgets Documentation</a> for setup instructions.\n",
       "</p>\n",
       "<p>\n",
       "  If you're reading this message in another frontend (for example, a static\n",
       "  rendering on GitHub or <a href=\"https://nbviewer.jupyter.org/\">NBViewer</a>),\n",
       "  it may mean that your frontend doesn't currently support widgets.\n",
       "</p>\n"
      ],
      "text/plain": [
       "HBox(children=(IntProgress(value=0, max=30), HTML(value='')))"
      ]
     },
     "metadata": {},
     "output_type": "display_data"
    },
    {
     "name": "stdout",
     "output_type": "stream",
     "text": [
      "E:\\MestradoData\\preprocessed\\all\\13\\35*depth* 30\n",
      "E:\\MestradoData\\preprocessed\\all\\13\\05*depth* 30\n",
      "E:\\MestradoData\\preprocessed\\all\\13\\26*depth* 30\n",
      "E:\\MestradoData\\preprocessed\\all\\13\\07*depth* 30\n",
      "E:\\MestradoData\\preprocessed\\all\\13\\25*depth* 30\n",
      "E:\\MestradoData\\preprocessed\\all\\13\\10*depth* 30\n",
      "E:\\MestradoData\\preprocessed\\all\\13\\20*depth* 30\n",
      "E:\\MestradoData\\preprocessed\\all\\13\\22*depth* 30\n",
      "E:\\MestradoData\\preprocessed\\all\\13\\32*depth* 30\n",
      "E:\\MestradoData\\preprocessed\\all\\13\\24*depth* 30\n",
      "E:\\MestradoData\\preprocessed\\all\\13\\12*depth* 30\n",
      "E:\\MestradoData\\preprocessed\\all\\13\\08*depth* 30\n",
      "E:\\MestradoData\\preprocessed\\all\\13\\36*depth* 0\n",
      "E:\\MestradoData\\preprocessed\\all\\13\\11*depth* 27\n",
      "E:\\MestradoData\\preprocessed\\all\\13\\29*depth* 30\n",
      "E:\\MestradoData\\preprocessed\\all\\13\\17*depth* 30\n",
      "E:\\MestradoData\\preprocessed\\all\\13\\02*depth* 30\n",
      "E:\\MestradoData\\preprocessed\\all\\13\\06*depth* 30\n",
      "E:\\MestradoData\\preprocessed\\all\\13\\21*depth* 30\n",
      "E:\\MestradoData\\preprocessed\\all\\13\\09*depth* 30\n",
      "E:\\MestradoData\\preprocessed\\all\\13\\30*depth* 30\n",
      "E:\\MestradoData\\preprocessed\\all\\13\\16*depth* 30\n",
      "E:\\MestradoData\\preprocessed\\all\\13\\27*depth* 30\n",
      "E:\\MestradoData\\preprocessed\\all\\13\\15*depth* 30\n",
      "E:\\MestradoData\\preprocessed\\all\\13\\14*depth* 30\n",
      "E:\\MestradoData\\preprocessed\\all\\13\\01*depth* 30\n",
      "E:\\MestradoData\\preprocessed\\all\\13\\31*depth* 30\n",
      "E:\\MestradoData\\preprocessed\\all\\13\\28*depth* 30\n",
      "E:\\MestradoData\\preprocessed\\all\\13\\03*depth* 30\n",
      "E:\\MestradoData\\preprocessed\\all\\13\\37*depth* 0\n",
      "\n"
     ]
    },
    {
     "data": {
      "application/vnd.jupyter.widget-view+json": {
       "model_id": "0637481da2c946ec9850791356da05dd",
       "version_major": 2,
       "version_minor": 0
      },
      "text/html": [
       "<p>Failed to display Jupyter Widget of type <code>HBox</code>.</p>\n",
       "<p>\n",
       "  If you're reading this message in the Jupyter Notebook or JupyterLab Notebook, it may mean\n",
       "  that the widgets JavaScript is still loading. If this message persists, it\n",
       "  likely means that the widgets JavaScript library is either not installed or\n",
       "  not enabled. See the <a href=\"https://ipywidgets.readthedocs.io/en/stable/user_install.html\">Jupyter\n",
       "  Widgets Documentation</a> for setup instructions.\n",
       "</p>\n",
       "<p>\n",
       "  If you're reading this message in another frontend (for example, a static\n",
       "  rendering on GitHub or <a href=\"https://nbviewer.jupyter.org/\">NBViewer</a>),\n",
       "  it may mean that your frontend doesn't currently support widgets.\n",
       "</p>\n"
      ],
      "text/plain": [
       "HBox(children=(IntProgress(value=0, max=7), HTML(value='')))"
      ]
     },
     "metadata": {},
     "output_type": "display_data"
    },
    {
     "name": "stdout",
     "output_type": "stream",
     "text": [
      "E:\\MestradoData\\preprocessed\\all\\13\\13*depth* 0\n",
      "E:\\MestradoData\\preprocessed\\all\\13\\18*depth* 0\n",
      "E:\\MestradoData\\preprocessed\\all\\13\\33*depth* 30\n",
      "E:\\MestradoData\\preprocessed\\all\\13\\19*depth* 30\n",
      "E:\\MestradoData\\preprocessed\\all\\13\\34*depth* 30\n",
      "E:\\MestradoData\\preprocessed\\all\\13\\23*depth* 30\n",
      "E:\\MestradoData\\preprocessed\\all\\13\\04*depth* 30\n",
      "\n",
      "folders created !\n"
     ]
    },
    {
     "data": {
      "application/vnd.jupyter.widget-view+json": {
       "model_id": "a60d9fa43ab145e7820c848d25432eab",
       "version_major": 2,
       "version_minor": 0
      },
      "text/html": [
       "<p>Failed to display Jupyter Widget of type <code>HBox</code>.</p>\n",
       "<p>\n",
       "  If you're reading this message in the Jupyter Notebook or JupyterLab Notebook, it may mean\n",
       "  that the widgets JavaScript is still loading. If this message persists, it\n",
       "  likely means that the widgets JavaScript library is either not installed or\n",
       "  not enabled. See the <a href=\"https://ipywidgets.readthedocs.io/en/stable/user_install.html\">Jupyter\n",
       "  Widgets Documentation</a> for setup instructions.\n",
       "</p>\n",
       "<p>\n",
       "  If you're reading this message in another frontend (for example, a static\n",
       "  rendering on GitHub or <a href=\"https://nbviewer.jupyter.org/\">NBViewer</a>),\n",
       "  it may mean that your frontend doesn't currently support widgets.\n",
       "</p>\n"
      ],
      "text/plain": [
       "HBox(children=(IntProgress(value=0, max=30), HTML(value='')))"
      ]
     },
     "metadata": {},
     "output_type": "display_data"
    },
    {
     "name": "stdout",
     "output_type": "stream",
     "text": [
      "E:\\MestradoData\\preprocessed\\all\\14\\35*depth* 30\n",
      "E:\\MestradoData\\preprocessed\\all\\14\\05*depth* 30\n",
      "E:\\MestradoData\\preprocessed\\all\\14\\26*depth* 30\n",
      "E:\\MestradoData\\preprocessed\\all\\14\\07*depth* 30\n",
      "E:\\MestradoData\\preprocessed\\all\\14\\25*depth* 30\n",
      "E:\\MestradoData\\preprocessed\\all\\14\\10*depth* 30\n",
      "E:\\MestradoData\\preprocessed\\all\\14\\20*depth* 30\n",
      "E:\\MestradoData\\preprocessed\\all\\14\\22*depth* 30\n",
      "E:\\MestradoData\\preprocessed\\all\\14\\32*depth* 30\n",
      "E:\\MestradoData\\preprocessed\\all\\14\\24*depth* 30\n",
      "E:\\MestradoData\\preprocessed\\all\\14\\12*depth* 30\n",
      "E:\\MestradoData\\preprocessed\\all\\14\\08*depth* 30\n",
      "E:\\MestradoData\\preprocessed\\all\\14\\36*depth* 0\n",
      "E:\\MestradoData\\preprocessed\\all\\14\\11*depth* 27\n",
      "E:\\MestradoData\\preprocessed\\all\\14\\29*depth* 30\n",
      "E:\\MestradoData\\preprocessed\\all\\14\\17*depth* 30\n",
      "E:\\MestradoData\\preprocessed\\all\\14\\02*depth* 30\n",
      "E:\\MestradoData\\preprocessed\\all\\14\\06*depth* 30\n",
      "E:\\MestradoData\\preprocessed\\all\\14\\21*depth* 30\n",
      "E:\\MestradoData\\preprocessed\\all\\14\\09*depth* 30\n",
      "E:\\MestradoData\\preprocessed\\all\\14\\30*depth* 30\n",
      "E:\\MestradoData\\preprocessed\\all\\14\\16*depth* 30\n",
      "E:\\MestradoData\\preprocessed\\all\\14\\27*depth* 30\n",
      "E:\\MestradoData\\preprocessed\\all\\14\\15*depth* 30\n",
      "E:\\MestradoData\\preprocessed\\all\\14\\14*depth* 30\n",
      "E:\\MestradoData\\preprocessed\\all\\14\\01*depth* 30\n",
      "E:\\MestradoData\\preprocessed\\all\\14\\31*depth* 30\n",
      "E:\\MestradoData\\preprocessed\\all\\14\\28*depth* 30\n",
      "E:\\MestradoData\\preprocessed\\all\\14\\03*depth* 30\n",
      "E:\\MestradoData\\preprocessed\\all\\14\\37*depth* 0\n",
      "\n"
     ]
    },
    {
     "data": {
      "application/vnd.jupyter.widget-view+json": {
       "model_id": "fe17025356cd400fbd45ddf992ee7ea9",
       "version_major": 2,
       "version_minor": 0
      },
      "text/html": [
       "<p>Failed to display Jupyter Widget of type <code>HBox</code>.</p>\n",
       "<p>\n",
       "  If you're reading this message in the Jupyter Notebook or JupyterLab Notebook, it may mean\n",
       "  that the widgets JavaScript is still loading. If this message persists, it\n",
       "  likely means that the widgets JavaScript library is either not installed or\n",
       "  not enabled. See the <a href=\"https://ipywidgets.readthedocs.io/en/stable/user_install.html\">Jupyter\n",
       "  Widgets Documentation</a> for setup instructions.\n",
       "</p>\n",
       "<p>\n",
       "  If you're reading this message in another frontend (for example, a static\n",
       "  rendering on GitHub or <a href=\"https://nbviewer.jupyter.org/\">NBViewer</a>),\n",
       "  it may mean that your frontend doesn't currently support widgets.\n",
       "</p>\n"
      ],
      "text/plain": [
       "HBox(children=(IntProgress(value=0, max=7), HTML(value='')))"
      ]
     },
     "metadata": {},
     "output_type": "display_data"
    },
    {
     "name": "stdout",
     "output_type": "stream",
     "text": [
      "E:\\MestradoData\\preprocessed\\all\\14\\13*depth* 0\n",
      "E:\\MestradoData\\preprocessed\\all\\14\\18*depth* 0\n",
      "E:\\MestradoData\\preprocessed\\all\\14\\33*depth* 0\n",
      "E:\\MestradoData\\preprocessed\\all\\14\\19*depth* 30\n",
      "E:\\MestradoData\\preprocessed\\all\\14\\34*depth* 30\n",
      "E:\\MestradoData\\preprocessed\\all\\14\\23*depth* 30\n",
      "E:\\MestradoData\\preprocessed\\all\\14\\04*depth* 30\n",
      "\n",
      "folders created !\n"
     ]
    },
    {
     "data": {
      "application/vnd.jupyter.widget-view+json": {
       "model_id": "636addd0cf784a9da5dcb7524102444d",
       "version_major": 2,
       "version_minor": 0
      },
      "text/html": [
       "<p>Failed to display Jupyter Widget of type <code>HBox</code>.</p>\n",
       "<p>\n",
       "  If you're reading this message in the Jupyter Notebook or JupyterLab Notebook, it may mean\n",
       "  that the widgets JavaScript is still loading. If this message persists, it\n",
       "  likely means that the widgets JavaScript library is either not installed or\n",
       "  not enabled. See the <a href=\"https://ipywidgets.readthedocs.io/en/stable/user_install.html\">Jupyter\n",
       "  Widgets Documentation</a> for setup instructions.\n",
       "</p>\n",
       "<p>\n",
       "  If you're reading this message in another frontend (for example, a static\n",
       "  rendering on GitHub or <a href=\"https://nbviewer.jupyter.org/\">NBViewer</a>),\n",
       "  it may mean that your frontend doesn't currently support widgets.\n",
       "</p>\n"
      ],
      "text/plain": [
       "HBox(children=(IntProgress(value=0, max=30), HTML(value='')))"
      ]
     },
     "metadata": {},
     "output_type": "display_data"
    },
    {
     "name": "stdout",
     "output_type": "stream",
     "text": [
      "E:\\MestradoData\\preprocessed\\all\\15\\35*depth* 30\n",
      "E:\\MestradoData\\preprocessed\\all\\15\\05*depth* 0\n",
      "E:\\MestradoData\\preprocessed\\all\\15\\26*depth* 30\n",
      "E:\\MestradoData\\preprocessed\\all\\15\\07*depth* 30\n",
      "E:\\MestradoData\\preprocessed\\all\\15\\25*depth* 30\n",
      "E:\\MestradoData\\preprocessed\\all\\15\\10*depth* 30\n",
      "E:\\MestradoData\\preprocessed\\all\\15\\20*depth* 30\n",
      "E:\\MestradoData\\preprocessed\\all\\15\\22*depth* 30\n",
      "E:\\MestradoData\\preprocessed\\all\\15\\32*depth* 30\n",
      "E:\\MestradoData\\preprocessed\\all\\15\\24*depth* 30\n",
      "E:\\MestradoData\\preprocessed\\all\\15\\12*depth* 30\n",
      "E:\\MestradoData\\preprocessed\\all\\15\\08*depth* 30\n",
      "E:\\MestradoData\\preprocessed\\all\\15\\36*depth* 0\n",
      "E:\\MestradoData\\preprocessed\\all\\15\\11*depth* 27\n",
      "E:\\MestradoData\\preprocessed\\all\\15\\29*depth* 30\n",
      "E:\\MestradoData\\preprocessed\\all\\15\\17*depth* 30\n",
      "E:\\MestradoData\\preprocessed\\all\\15\\02*depth* 30\n",
      "E:\\MestradoData\\preprocessed\\all\\15\\06*depth* 30\n",
      "E:\\MestradoData\\preprocessed\\all\\15\\21*depth* 30\n",
      "E:\\MestradoData\\preprocessed\\all\\15\\09*depth* 30\n",
      "E:\\MestradoData\\preprocessed\\all\\15\\30*depth* 30\n",
      "E:\\MestradoData\\preprocessed\\all\\15\\16*depth* 30\n",
      "E:\\MestradoData\\preprocessed\\all\\15\\27*depth* 30\n",
      "E:\\MestradoData\\preprocessed\\all\\15\\15*depth* 30\n",
      "E:\\MestradoData\\preprocessed\\all\\15\\14*depth* 30\n",
      "E:\\MestradoData\\preprocessed\\all\\15\\01*depth* 30\n",
      "E:\\MestradoData\\preprocessed\\all\\15\\31*depth* 30\n",
      "E:\\MestradoData\\preprocessed\\all\\15\\28*depth* 30\n",
      "E:\\MestradoData\\preprocessed\\all\\15\\03*depth* 30\n",
      "E:\\MestradoData\\preprocessed\\all\\15\\37*depth* 0\n",
      "\n"
     ]
    },
    {
     "data": {
      "application/vnd.jupyter.widget-view+json": {
       "model_id": "e8558d47f9904b85a1178b467af7afe0",
       "version_major": 2,
       "version_minor": 0
      },
      "text/html": [
       "<p>Failed to display Jupyter Widget of type <code>HBox</code>.</p>\n",
       "<p>\n",
       "  If you're reading this message in the Jupyter Notebook or JupyterLab Notebook, it may mean\n",
       "  that the widgets JavaScript is still loading. If this message persists, it\n",
       "  likely means that the widgets JavaScript library is either not installed or\n",
       "  not enabled. See the <a href=\"https://ipywidgets.readthedocs.io/en/stable/user_install.html\">Jupyter\n",
       "  Widgets Documentation</a> for setup instructions.\n",
       "</p>\n",
       "<p>\n",
       "  If you're reading this message in another frontend (for example, a static\n",
       "  rendering on GitHub or <a href=\"https://nbviewer.jupyter.org/\">NBViewer</a>),\n",
       "  it may mean that your frontend doesn't currently support widgets.\n",
       "</p>\n"
      ],
      "text/plain": [
       "HBox(children=(IntProgress(value=0, max=7), HTML(value='')))"
      ]
     },
     "metadata": {},
     "output_type": "display_data"
    },
    {
     "name": "stdout",
     "output_type": "stream",
     "text": [
      "E:\\MestradoData\\preprocessed\\all\\15\\13*depth* 0\n",
      "E:\\MestradoData\\preprocessed\\all\\15\\18*depth* 0\n",
      "E:\\MestradoData\\preprocessed\\all\\15\\33*depth* 0\n",
      "E:\\MestradoData\\preprocessed\\all\\15\\19*depth* 30\n",
      "E:\\MestradoData\\preprocessed\\all\\15\\34*depth* 30\n",
      "E:\\MestradoData\\preprocessed\\all\\15\\23*depth* 30\n",
      "E:\\MestradoData\\preprocessed\\all\\15\\04*depth* 30\n",
      "\n",
      "folders created !\n"
     ]
    },
    {
     "data": {
      "application/vnd.jupyter.widget-view+json": {
       "model_id": "e3375001bde5406b9a321bddb86f6ddb",
       "version_major": 2,
       "version_minor": 0
      },
      "text/html": [
       "<p>Failed to display Jupyter Widget of type <code>HBox</code>.</p>\n",
       "<p>\n",
       "  If you're reading this message in the Jupyter Notebook or JupyterLab Notebook, it may mean\n",
       "  that the widgets JavaScript is still loading. If this message persists, it\n",
       "  likely means that the widgets JavaScript library is either not installed or\n",
       "  not enabled. See the <a href=\"https://ipywidgets.readthedocs.io/en/stable/user_install.html\">Jupyter\n",
       "  Widgets Documentation</a> for setup instructions.\n",
       "</p>\n",
       "<p>\n",
       "  If you're reading this message in another frontend (for example, a static\n",
       "  rendering on GitHub or <a href=\"https://nbviewer.jupyter.org/\">NBViewer</a>),\n",
       "  it may mean that your frontend doesn't currently support widgets.\n",
       "</p>\n"
      ],
      "text/plain": [
       "HBox(children=(IntProgress(value=0, max=30), HTML(value='')))"
      ]
     },
     "metadata": {},
     "output_type": "display_data"
    },
    {
     "name": "stdout",
     "output_type": "stream",
     "text": [
      "E:\\MestradoData\\preprocessed\\all\\16\\35*depth* 30\n",
      "E:\\MestradoData\\preprocessed\\all\\16\\05*depth* 0\n",
      "E:\\MestradoData\\preprocessed\\all\\16\\26*depth* 30\n",
      "E:\\MestradoData\\preprocessed\\all\\16\\07*depth* 30\n",
      "E:\\MestradoData\\preprocessed\\all\\16\\25*depth* 30\n",
      "E:\\MestradoData\\preprocessed\\all\\16\\10*depth* 30\n",
      "E:\\MestradoData\\preprocessed\\all\\16\\20*depth* 30\n",
      "E:\\MestradoData\\preprocessed\\all\\16\\22*depth* 30\n",
      "E:\\MestradoData\\preprocessed\\all\\16\\32*depth* 30\n",
      "E:\\MestradoData\\preprocessed\\all\\16\\24*depth* 30\n",
      "E:\\MestradoData\\preprocessed\\all\\16\\12*depth* 30\n",
      "E:\\MestradoData\\preprocessed\\all\\16\\08*depth* 30\n",
      "E:\\MestradoData\\preprocessed\\all\\16\\36*depth* 0\n",
      "E:\\MestradoData\\preprocessed\\all\\16\\11*depth* 27\n",
      "E:\\MestradoData\\preprocessed\\all\\16\\29*depth* 30\n",
      "E:\\MestradoData\\preprocessed\\all\\16\\17*depth* 30\n",
      "E:\\MestradoData\\preprocessed\\all\\16\\02*depth* 30\n",
      "E:\\MestradoData\\preprocessed\\all\\16\\06*depth* 30\n",
      "E:\\MestradoData\\preprocessed\\all\\16\\21*depth* 30\n",
      "E:\\MestradoData\\preprocessed\\all\\16\\09*depth* 30\n",
      "E:\\MestradoData\\preprocessed\\all\\16\\30*depth* 30\n",
      "E:\\MestradoData\\preprocessed\\all\\16\\16*depth* 30\n",
      "E:\\MestradoData\\preprocessed\\all\\16\\27*depth* 30\n",
      "E:\\MestradoData\\preprocessed\\all\\16\\15*depth* 30\n",
      "E:\\MestradoData\\preprocessed\\all\\16\\14*depth* 30\n",
      "E:\\MestradoData\\preprocessed\\all\\16\\01*depth* 30\n",
      "E:\\MestradoData\\preprocessed\\all\\16\\31*depth* 30\n",
      "E:\\MestradoData\\preprocessed\\all\\16\\28*depth* 30\n",
      "E:\\MestradoData\\preprocessed\\all\\16\\03*depth* 30\n",
      "E:\\MestradoData\\preprocessed\\all\\16\\37*depth* 0\n",
      "\n"
     ]
    },
    {
     "data": {
      "application/vnd.jupyter.widget-view+json": {
       "model_id": "483536080b094212a1ca139ed4c8ba43",
       "version_major": 2,
       "version_minor": 0
      },
      "text/html": [
       "<p>Failed to display Jupyter Widget of type <code>HBox</code>.</p>\n",
       "<p>\n",
       "  If you're reading this message in the Jupyter Notebook or JupyterLab Notebook, it may mean\n",
       "  that the widgets JavaScript is still loading. If this message persists, it\n",
       "  likely means that the widgets JavaScript library is either not installed or\n",
       "  not enabled. See the <a href=\"https://ipywidgets.readthedocs.io/en/stable/user_install.html\">Jupyter\n",
       "  Widgets Documentation</a> for setup instructions.\n",
       "</p>\n",
       "<p>\n",
       "  If you're reading this message in another frontend (for example, a static\n",
       "  rendering on GitHub or <a href=\"https://nbviewer.jupyter.org/\">NBViewer</a>),\n",
       "  it may mean that your frontend doesn't currently support widgets.\n",
       "</p>\n"
      ],
      "text/plain": [
       "HBox(children=(IntProgress(value=0, max=7), HTML(value='')))"
      ]
     },
     "metadata": {},
     "output_type": "display_data"
    },
    {
     "name": "stdout",
     "output_type": "stream",
     "text": [
      "E:\\MestradoData\\preprocessed\\all\\16\\13*depth* 0\n",
      "E:\\MestradoData\\preprocessed\\all\\16\\18*depth* 0\n",
      "E:\\MestradoData\\preprocessed\\all\\16\\33*depth* 0\n",
      "E:\\MestradoData\\preprocessed\\all\\16\\19*depth* 30\n",
      "E:\\MestradoData\\preprocessed\\all\\16\\34*depth* 30\n",
      "E:\\MestradoData\\preprocessed\\all\\16\\23*depth* 30\n",
      "E:\\MestradoData\\preprocessed\\all\\16\\04*depth* 30\n",
      "\n",
      "folders created !\n"
     ]
    },
    {
     "data": {
      "application/vnd.jupyter.widget-view+json": {
       "model_id": "d12b0581f3a34ec595e3fd0950d1c2c6",
       "version_major": 2,
       "version_minor": 0
      },
      "text/html": [
       "<p>Failed to display Jupyter Widget of type <code>HBox</code>.</p>\n",
       "<p>\n",
       "  If you're reading this message in the Jupyter Notebook or JupyterLab Notebook, it may mean\n",
       "  that the widgets JavaScript is still loading. If this message persists, it\n",
       "  likely means that the widgets JavaScript library is either not installed or\n",
       "  not enabled. See the <a href=\"https://ipywidgets.readthedocs.io/en/stable/user_install.html\">Jupyter\n",
       "  Widgets Documentation</a> for setup instructions.\n",
       "</p>\n",
       "<p>\n",
       "  If you're reading this message in another frontend (for example, a static\n",
       "  rendering on GitHub or <a href=\"https://nbviewer.jupyter.org/\">NBViewer</a>),\n",
       "  it may mean that your frontend doesn't currently support widgets.\n",
       "</p>\n"
      ],
      "text/plain": [
       "HBox(children=(IntProgress(value=0, max=30), HTML(value='')))"
      ]
     },
     "metadata": {},
     "output_type": "display_data"
    },
    {
     "name": "stdout",
     "output_type": "stream",
     "text": [
      "E:\\MestradoData\\preprocessed\\all\\17\\35*depth* 30\n",
      "E:\\MestradoData\\preprocessed\\all\\17\\05*depth* 0\n",
      "E:\\MestradoData\\preprocessed\\all\\17\\26*depth* 30\n",
      "E:\\MestradoData\\preprocessed\\all\\17\\07*depth* 30\n",
      "E:\\MestradoData\\preprocessed\\all\\17\\25*depth* 30\n",
      "E:\\MestradoData\\preprocessed\\all\\17\\10*depth* 30\n",
      "E:\\MestradoData\\preprocessed\\all\\17\\20*depth* 30\n",
      "E:\\MestradoData\\preprocessed\\all\\17\\22*depth* 30\n",
      "E:\\MestradoData\\preprocessed\\all\\17\\32*depth* 30\n",
      "E:\\MestradoData\\preprocessed\\all\\17\\24*depth* 0\n",
      "E:\\MestradoData\\preprocessed\\all\\17\\12*depth* 30\n",
      "E:\\MestradoData\\preprocessed\\all\\17\\08*depth* 30\n",
      "E:\\MestradoData\\preprocessed\\all\\17\\36*depth* 0\n",
      "E:\\MestradoData\\preprocessed\\all\\17\\11*depth* 27\n",
      "E:\\MestradoData\\preprocessed\\all\\17\\29*depth* 30\n",
      "E:\\MestradoData\\preprocessed\\all\\17\\17*depth* 30\n",
      "E:\\MestradoData\\preprocessed\\all\\17\\02*depth* 30\n",
      "E:\\MestradoData\\preprocessed\\all\\17\\06*depth* 30\n",
      "E:\\MestradoData\\preprocessed\\all\\17\\21*depth* 30\n",
      "E:\\MestradoData\\preprocessed\\all\\17\\09*depth* 30\n",
      "E:\\MestradoData\\preprocessed\\all\\17\\30*depth* 30\n",
      "E:\\MestradoData\\preprocessed\\all\\17\\16*depth* 30\n",
      "E:\\MestradoData\\preprocessed\\all\\17\\27*depth* 30\n",
      "E:\\MestradoData\\preprocessed\\all\\17\\15*depth* 30\n",
      "E:\\MestradoData\\preprocessed\\all\\17\\14*depth* 30\n",
      "E:\\MestradoData\\preprocessed\\all\\17\\01*depth* 30\n",
      "E:\\MestradoData\\preprocessed\\all\\17\\31*depth* 30\n",
      "E:\\MestradoData\\preprocessed\\all\\17\\28*depth* 30\n",
      "E:\\MestradoData\\preprocessed\\all\\17\\03*depth* 30\n",
      "E:\\MestradoData\\preprocessed\\all\\17\\37*depth* 0\n",
      "\n"
     ]
    },
    {
     "data": {
      "application/vnd.jupyter.widget-view+json": {
       "model_id": "0f09c7a9e41a4553b3b0ff1bfbba51e8",
       "version_major": 2,
       "version_minor": 0
      },
      "text/html": [
       "<p>Failed to display Jupyter Widget of type <code>HBox</code>.</p>\n",
       "<p>\n",
       "  If you're reading this message in the Jupyter Notebook or JupyterLab Notebook, it may mean\n",
       "  that the widgets JavaScript is still loading. If this message persists, it\n",
       "  likely means that the widgets JavaScript library is either not installed or\n",
       "  not enabled. See the <a href=\"https://ipywidgets.readthedocs.io/en/stable/user_install.html\">Jupyter\n",
       "  Widgets Documentation</a> for setup instructions.\n",
       "</p>\n",
       "<p>\n",
       "  If you're reading this message in another frontend (for example, a static\n",
       "  rendering on GitHub or <a href=\"https://nbviewer.jupyter.org/\">NBViewer</a>),\n",
       "  it may mean that your frontend doesn't currently support widgets.\n",
       "</p>\n"
      ],
      "text/plain": [
       "HBox(children=(IntProgress(value=0, max=7), HTML(value='')))"
      ]
     },
     "metadata": {},
     "output_type": "display_data"
    },
    {
     "name": "stdout",
     "output_type": "stream",
     "text": [
      "E:\\MestradoData\\preprocessed\\all\\17\\13*depth* 0\n",
      "E:\\MestradoData\\preprocessed\\all\\17\\18*depth* 0\n",
      "E:\\MestradoData\\preprocessed\\all\\17\\33*depth* 0\n",
      "E:\\MestradoData\\preprocessed\\all\\17\\19*depth* 30\n",
      "E:\\MestradoData\\preprocessed\\all\\17\\34*depth* 30\n",
      "E:\\MestradoData\\preprocessed\\all\\17\\23*depth* 30\n",
      "E:\\MestradoData\\preprocessed\\all\\17\\04*depth* 30\n",
      "\n",
      "folders created !\n"
     ]
    },
    {
     "data": {
      "application/vnd.jupyter.widget-view+json": {
       "model_id": "618ebbe96e4e4927ae2eab2bedf07970",
       "version_major": 2,
       "version_minor": 0
      },
      "text/html": [
       "<p>Failed to display Jupyter Widget of type <code>HBox</code>.</p>\n",
       "<p>\n",
       "  If you're reading this message in the Jupyter Notebook or JupyterLab Notebook, it may mean\n",
       "  that the widgets JavaScript is still loading. If this message persists, it\n",
       "  likely means that the widgets JavaScript library is either not installed or\n",
       "  not enabled. See the <a href=\"https://ipywidgets.readthedocs.io/en/stable/user_install.html\">Jupyter\n",
       "  Widgets Documentation</a> for setup instructions.\n",
       "</p>\n",
       "<p>\n",
       "  If you're reading this message in another frontend (for example, a static\n",
       "  rendering on GitHub or <a href=\"https://nbviewer.jupyter.org/\">NBViewer</a>),\n",
       "  it may mean that your frontend doesn't currently support widgets.\n",
       "</p>\n"
      ],
      "text/plain": [
       "HBox(children=(IntProgress(value=0, max=30), HTML(value='')))"
      ]
     },
     "metadata": {},
     "output_type": "display_data"
    },
    {
     "name": "stdout",
     "output_type": "stream",
     "text": [
      "E:\\MestradoData\\preprocessed\\all\\18\\35*depth* 30\n",
      "E:\\MestradoData\\preprocessed\\all\\18\\05*depth* 0\n",
      "E:\\MestradoData\\preprocessed\\all\\18\\26*depth* 30\n",
      "E:\\MestradoData\\preprocessed\\all\\18\\07*depth* 30\n",
      "E:\\MestradoData\\preprocessed\\all\\18\\25*depth* 30\n",
      "E:\\MestradoData\\preprocessed\\all\\18\\10*depth* 30\n",
      "E:\\MestradoData\\preprocessed\\all\\18\\20*depth* 30\n",
      "E:\\MestradoData\\preprocessed\\all\\18\\22*depth* 30\n",
      "E:\\MestradoData\\preprocessed\\all\\18\\32*depth* 30\n",
      "E:\\MestradoData\\preprocessed\\all\\18\\24*depth* 0\n",
      "E:\\MestradoData\\preprocessed\\all\\18\\12*depth* 30\n",
      "E:\\MestradoData\\preprocessed\\all\\18\\08*depth* 30\n",
      "E:\\MestradoData\\preprocessed\\all\\18\\36*depth* 0\n",
      "E:\\MestradoData\\preprocessed\\all\\18\\11*depth* 27\n",
      "E:\\MestradoData\\preprocessed\\all\\18\\29*depth* 30\n",
      "E:\\MestradoData\\preprocessed\\all\\18\\17*depth* 30\n",
      "E:\\MestradoData\\preprocessed\\all\\18\\02*depth* 30\n",
      "E:\\MestradoData\\preprocessed\\all\\18\\06*depth* 30\n",
      "E:\\MestradoData\\preprocessed\\all\\18\\21*depth* 30\n",
      "E:\\MestradoData\\preprocessed\\all\\18\\09*depth* 30\n",
      "E:\\MestradoData\\preprocessed\\all\\18\\30*depth* 30\n",
      "E:\\MestradoData\\preprocessed\\all\\18\\16*depth* 30\n",
      "E:\\MestradoData\\preprocessed\\all\\18\\27*depth* 30\n",
      "E:\\MestradoData\\preprocessed\\all\\18\\15*depth* 30\n",
      "E:\\MestradoData\\preprocessed\\all\\18\\14*depth* 30\n",
      "E:\\MestradoData\\preprocessed\\all\\18\\01*depth* 30\n",
      "E:\\MestradoData\\preprocessed\\all\\18\\31*depth* 30\n",
      "E:\\MestradoData\\preprocessed\\all\\18\\28*depth* 30\n",
      "E:\\MestradoData\\preprocessed\\all\\18\\03*depth* 30\n",
      "E:\\MestradoData\\preprocessed\\all\\18\\37*depth* 0\n",
      "\n"
     ]
    },
    {
     "data": {
      "application/vnd.jupyter.widget-view+json": {
       "model_id": "a829ed30554f4abe80d84d58ba143c4f",
       "version_major": 2,
       "version_minor": 0
      },
      "text/html": [
       "<p>Failed to display Jupyter Widget of type <code>HBox</code>.</p>\n",
       "<p>\n",
       "  If you're reading this message in the Jupyter Notebook or JupyterLab Notebook, it may mean\n",
       "  that the widgets JavaScript is still loading. If this message persists, it\n",
       "  likely means that the widgets JavaScript library is either not installed or\n",
       "  not enabled. See the <a href=\"https://ipywidgets.readthedocs.io/en/stable/user_install.html\">Jupyter\n",
       "  Widgets Documentation</a> for setup instructions.\n",
       "</p>\n",
       "<p>\n",
       "  If you're reading this message in another frontend (for example, a static\n",
       "  rendering on GitHub or <a href=\"https://nbviewer.jupyter.org/\">NBViewer</a>),\n",
       "  it may mean that your frontend doesn't currently support widgets.\n",
       "</p>\n"
      ],
      "text/plain": [
       "HBox(children=(IntProgress(value=0, max=7), HTML(value='')))"
      ]
     },
     "metadata": {},
     "output_type": "display_data"
    },
    {
     "name": "stdout",
     "output_type": "stream",
     "text": [
      "E:\\MestradoData\\preprocessed\\all\\18\\13*depth* 0\n",
      "E:\\MestradoData\\preprocessed\\all\\18\\18*depth* 0\n",
      "E:\\MestradoData\\preprocessed\\all\\18\\33*depth* 0\n",
      "E:\\MestradoData\\preprocessed\\all\\18\\19*depth* 30\n",
      "E:\\MestradoData\\preprocessed\\all\\18\\34*depth* 30\n",
      "E:\\MestradoData\\preprocessed\\all\\18\\23*depth* 30\n",
      "E:\\MestradoData\\preprocessed\\all\\18\\04*depth* 30\n",
      "\n",
      "folders created !\n"
     ]
    },
    {
     "data": {
      "application/vnd.jupyter.widget-view+json": {
       "model_id": "c7c6608c3f72405ab1188a1ef3dd9cb6",
       "version_major": 2,
       "version_minor": 0
      },
      "text/html": [
       "<p>Failed to display Jupyter Widget of type <code>HBox</code>.</p>\n",
       "<p>\n",
       "  If you're reading this message in the Jupyter Notebook or JupyterLab Notebook, it may mean\n",
       "  that the widgets JavaScript is still loading. If this message persists, it\n",
       "  likely means that the widgets JavaScript library is either not installed or\n",
       "  not enabled. See the <a href=\"https://ipywidgets.readthedocs.io/en/stable/user_install.html\">Jupyter\n",
       "  Widgets Documentation</a> for setup instructions.\n",
       "</p>\n",
       "<p>\n",
       "  If you're reading this message in another frontend (for example, a static\n",
       "  rendering on GitHub or <a href=\"https://nbviewer.jupyter.org/\">NBViewer</a>),\n",
       "  it may mean that your frontend doesn't currently support widgets.\n",
       "</p>\n"
      ],
      "text/plain": [
       "HBox(children=(IntProgress(value=0, max=30), HTML(value='')))"
      ]
     },
     "metadata": {},
     "output_type": "display_data"
    },
    {
     "name": "stdout",
     "output_type": "stream",
     "text": [
      "E:\\MestradoData\\preprocessed\\all\\19\\35*depth* 30\n",
      "E:\\MestradoData\\preprocessed\\all\\19\\05*depth* 0\n",
      "E:\\MestradoData\\preprocessed\\all\\19\\26*depth* 30\n",
      "E:\\MestradoData\\preprocessed\\all\\19\\07*depth* 30\n",
      "E:\\MestradoData\\preprocessed\\all\\19\\25*depth* 30\n",
      "E:\\MestradoData\\preprocessed\\all\\19\\10*depth* 30\n",
      "E:\\MestradoData\\preprocessed\\all\\19\\20*depth* 30\n",
      "E:\\MestradoData\\preprocessed\\all\\19\\22*depth* 30\n",
      "E:\\MestradoData\\preprocessed\\all\\19\\32*depth* 30\n",
      "E:\\MestradoData\\preprocessed\\all\\19\\24*depth* 0\n",
      "E:\\MestradoData\\preprocessed\\all\\19\\12*depth* 30\n",
      "E:\\MestradoData\\preprocessed\\all\\19\\08*depth* 30\n",
      "E:\\MestradoData\\preprocessed\\all\\19\\36*depth* 0\n",
      "E:\\MestradoData\\preprocessed\\all\\19\\11*depth* 27\n",
      "E:\\MestradoData\\preprocessed\\all\\19\\29*depth* 30\n",
      "E:\\MestradoData\\preprocessed\\all\\19\\17*depth* 30\n",
      "E:\\MestradoData\\preprocessed\\all\\19\\02*depth* 30\n",
      "E:\\MestradoData\\preprocessed\\all\\19\\06*depth* 30\n",
      "E:\\MestradoData\\preprocessed\\all\\19\\21*depth* 30\n",
      "E:\\MestradoData\\preprocessed\\all\\19\\09*depth* 30\n",
      "E:\\MestradoData\\preprocessed\\all\\19\\30*depth* 30\n",
      "E:\\MestradoData\\preprocessed\\all\\19\\16*depth* 30\n",
      "E:\\MestradoData\\preprocessed\\all\\19\\27*depth* 30\n",
      "E:\\MestradoData\\preprocessed\\all\\19\\15*depth* 30\n",
      "E:\\MestradoData\\preprocessed\\all\\19\\14*depth* 30\n",
      "E:\\MestradoData\\preprocessed\\all\\19\\01*depth* 30\n",
      "E:\\MestradoData\\preprocessed\\all\\19\\31*depth* 30\n",
      "E:\\MestradoData\\preprocessed\\all\\19\\28*depth* 30\n",
      "E:\\MestradoData\\preprocessed\\all\\19\\03*depth* 30\n",
      "E:\\MestradoData\\preprocessed\\all\\19\\37*depth* 0\n",
      "\n"
     ]
    },
    {
     "data": {
      "application/vnd.jupyter.widget-view+json": {
       "model_id": "5737f81dd73549c6aca2709529d68240",
       "version_major": 2,
       "version_minor": 0
      },
      "text/html": [
       "<p>Failed to display Jupyter Widget of type <code>HBox</code>.</p>\n",
       "<p>\n",
       "  If you're reading this message in the Jupyter Notebook or JupyterLab Notebook, it may mean\n",
       "  that the widgets JavaScript is still loading. If this message persists, it\n",
       "  likely means that the widgets JavaScript library is either not installed or\n",
       "  not enabled. See the <a href=\"https://ipywidgets.readthedocs.io/en/stable/user_install.html\">Jupyter\n",
       "  Widgets Documentation</a> for setup instructions.\n",
       "</p>\n",
       "<p>\n",
       "  If you're reading this message in another frontend (for example, a static\n",
       "  rendering on GitHub or <a href=\"https://nbviewer.jupyter.org/\">NBViewer</a>),\n",
       "  it may mean that your frontend doesn't currently support widgets.\n",
       "</p>\n"
      ],
      "text/plain": [
       "HBox(children=(IntProgress(value=0, max=7), HTML(value='')))"
      ]
     },
     "metadata": {},
     "output_type": "display_data"
    },
    {
     "name": "stdout",
     "output_type": "stream",
     "text": [
      "E:\\MestradoData\\preprocessed\\all\\19\\13*depth* 0\n",
      "E:\\MestradoData\\preprocessed\\all\\19\\18*depth* 0\n",
      "E:\\MestradoData\\preprocessed\\all\\19\\33*depth* 0\n",
      "E:\\MestradoData\\preprocessed\\all\\19\\19*depth* 30\n",
      "E:\\MestradoData\\preprocessed\\all\\19\\34*depth* 30\n",
      "E:\\MestradoData\\preprocessed\\all\\19\\23*depth* 30\n",
      "E:\\MestradoData\\preprocessed\\all\\19\\04*depth* 30\n",
      "\n",
      "folders created !\n"
     ]
    },
    {
     "data": {
      "application/vnd.jupyter.widget-view+json": {
       "model_id": "45b2c4f1aec047e99b8d3a24a98cfc5d",
       "version_major": 2,
       "version_minor": 0
      },
      "text/html": [
       "<p>Failed to display Jupyter Widget of type <code>HBox</code>.</p>\n",
       "<p>\n",
       "  If you're reading this message in the Jupyter Notebook or JupyterLab Notebook, it may mean\n",
       "  that the widgets JavaScript is still loading. If this message persists, it\n",
       "  likely means that the widgets JavaScript library is either not installed or\n",
       "  not enabled. See the <a href=\"https://ipywidgets.readthedocs.io/en/stable/user_install.html\">Jupyter\n",
       "  Widgets Documentation</a> for setup instructions.\n",
       "</p>\n",
       "<p>\n",
       "  If you're reading this message in another frontend (for example, a static\n",
       "  rendering on GitHub or <a href=\"https://nbviewer.jupyter.org/\">NBViewer</a>),\n",
       "  it may mean that your frontend doesn't currently support widgets.\n",
       "</p>\n"
      ],
      "text/plain": [
       "HBox(children=(IntProgress(value=0, max=30), HTML(value='')))"
      ]
     },
     "metadata": {},
     "output_type": "display_data"
    },
    {
     "name": "stdout",
     "output_type": "stream",
     "text": [
      "E:\\MestradoData\\preprocessed\\all\\01\\35*ir1* 30\n",
      "E:\\MestradoData\\preprocessed\\all\\01\\05*ir1* 30\n",
      "E:\\MestradoData\\preprocessed\\all\\01\\26*ir1* 30\n",
      "E:\\MestradoData\\preprocessed\\all\\01\\07*ir1* 30\n",
      "E:\\MestradoData\\preprocessed\\all\\01\\25*ir1* 30\n",
      "E:\\MestradoData\\preprocessed\\all\\01\\10*ir1* 30\n",
      "E:\\MestradoData\\preprocessed\\all\\01\\20*ir1* 30\n",
      "E:\\MestradoData\\preprocessed\\all\\01\\22*ir1* 30\n",
      "E:\\MestradoData\\preprocessed\\all\\01\\32*ir1* 30\n",
      "E:\\MestradoData\\preprocessed\\all\\01\\24*ir1* 30\n",
      "E:\\MestradoData\\preprocessed\\all\\01\\12*ir1* 30\n",
      "E:\\MestradoData\\preprocessed\\all\\01\\08*ir1* 30\n",
      "E:\\MestradoData\\preprocessed\\all\\01\\36*ir1* 0\n",
      "E:\\MestradoData\\preprocessed\\all\\01\\11*ir1* 30\n",
      "E:\\MestradoData\\preprocessed\\all\\01\\29*ir1* 30\n",
      "E:\\MestradoData\\preprocessed\\all\\01\\17*ir1* 30\n",
      "E:\\MestradoData\\preprocessed\\all\\01\\02*ir1* 30\n",
      "E:\\MestradoData\\preprocessed\\all\\01\\06*ir1* 30\n",
      "E:\\MestradoData\\preprocessed\\all\\01\\21*ir1* 30\n",
      "E:\\MestradoData\\preprocessed\\all\\01\\09*ir1* 30\n",
      "E:\\MestradoData\\preprocessed\\all\\01\\30*ir1* 30\n",
      "E:\\MestradoData\\preprocessed\\all\\01\\16*ir1* 30\n",
      "E:\\MestradoData\\preprocessed\\all\\01\\27*ir1* 30\n",
      "E:\\MestradoData\\preprocessed\\all\\01\\15*ir1* 30\n",
      "E:\\MestradoData\\preprocessed\\all\\01\\14*ir1* 30\n",
      "E:\\MestradoData\\preprocessed\\all\\01\\01*ir1* 30\n",
      "E:\\MestradoData\\preprocessed\\all\\01\\31*ir1* 30\n",
      "E:\\MestradoData\\preprocessed\\all\\01\\28*ir1* 30\n",
      "E:\\MestradoData\\preprocessed\\all\\01\\03*ir1* 30\n",
      "E:\\MestradoData\\preprocessed\\all\\01\\37*ir1* 0\n",
      "\n"
     ]
    },
    {
     "data": {
      "application/vnd.jupyter.widget-view+json": {
       "model_id": "e0acc8e2d8f04fffbdf753b144a7799f",
       "version_major": 2,
       "version_minor": 0
      },
      "text/html": [
       "<p>Failed to display Jupyter Widget of type <code>HBox</code>.</p>\n",
       "<p>\n",
       "  If you're reading this message in the Jupyter Notebook or JupyterLab Notebook, it may mean\n",
       "  that the widgets JavaScript is still loading. If this message persists, it\n",
       "  likely means that the widgets JavaScript library is either not installed or\n",
       "  not enabled. See the <a href=\"https://ipywidgets.readthedocs.io/en/stable/user_install.html\">Jupyter\n",
       "  Widgets Documentation</a> for setup instructions.\n",
       "</p>\n",
       "<p>\n",
       "  If you're reading this message in another frontend (for example, a static\n",
       "  rendering on GitHub or <a href=\"https://nbviewer.jupyter.org/\">NBViewer</a>),\n",
       "  it may mean that your frontend doesn't currently support widgets.\n",
       "</p>\n"
      ],
      "text/plain": [
       "HBox(children=(IntProgress(value=0, max=7), HTML(value='')))"
      ]
     },
     "metadata": {},
     "output_type": "display_data"
    },
    {
     "name": "stdout",
     "output_type": "stream",
     "text": [
      "E:\\MestradoData\\preprocessed\\all\\01\\13*ir1* 30\n",
      "E:\\MestradoData\\preprocessed\\all\\01\\18*ir1* 30\n",
      "E:\\MestradoData\\preprocessed\\all\\01\\33*ir1* 30\n",
      "E:\\MestradoData\\preprocessed\\all\\01\\19*ir1* 30\n",
      "E:\\MestradoData\\preprocessed\\all\\01\\34*ir1* 30\n",
      "E:\\MestradoData\\preprocessed\\all\\01\\23*ir1* 30\n",
      "E:\\MestradoData\\preprocessed\\all\\01\\04*ir1* 30\n",
      "\n",
      "folders created !\n"
     ]
    },
    {
     "data": {
      "application/vnd.jupyter.widget-view+json": {
       "model_id": "ad3e803be7a9406db767b3cb6d466961",
       "version_major": 2,
       "version_minor": 0
      },
      "text/html": [
       "<p>Failed to display Jupyter Widget of type <code>HBox</code>.</p>\n",
       "<p>\n",
       "  If you're reading this message in the Jupyter Notebook or JupyterLab Notebook, it may mean\n",
       "  that the widgets JavaScript is still loading. If this message persists, it\n",
       "  likely means that the widgets JavaScript library is either not installed or\n",
       "  not enabled. See the <a href=\"https://ipywidgets.readthedocs.io/en/stable/user_install.html\">Jupyter\n",
       "  Widgets Documentation</a> for setup instructions.\n",
       "</p>\n",
       "<p>\n",
       "  If you're reading this message in another frontend (for example, a static\n",
       "  rendering on GitHub or <a href=\"https://nbviewer.jupyter.org/\">NBViewer</a>),\n",
       "  it may mean that your frontend doesn't currently support widgets.\n",
       "</p>\n"
      ],
      "text/plain": [
       "HBox(children=(IntProgress(value=0, max=30), HTML(value='')))"
      ]
     },
     "metadata": {},
     "output_type": "display_data"
    },
    {
     "name": "stdout",
     "output_type": "stream",
     "text": [
      "E:\\MestradoData\\preprocessed\\all\\02\\35*ir1* 30\n",
      "E:\\MestradoData\\preprocessed\\all\\02\\05*ir1* 30\n",
      "E:\\MestradoData\\preprocessed\\all\\02\\26*ir1* 30\n",
      "E:\\MestradoData\\preprocessed\\all\\02\\07*ir1* 30\n",
      "E:\\MestradoData\\preprocessed\\all\\02\\25*ir1* 30\n",
      "E:\\MestradoData\\preprocessed\\all\\02\\10*ir1* 30\n",
      "E:\\MestradoData\\preprocessed\\all\\02\\20*ir1* 30\n",
      "E:\\MestradoData\\preprocessed\\all\\02\\22*ir1* 30\n",
      "E:\\MestradoData\\preprocessed\\all\\02\\32*ir1* 30\n",
      "E:\\MestradoData\\preprocessed\\all\\02\\24*ir1* 30\n",
      "E:\\MestradoData\\preprocessed\\all\\02\\12*ir1* 30\n",
      "E:\\MestradoData\\preprocessed\\all\\02\\08*ir1* 30\n",
      "E:\\MestradoData\\preprocessed\\all\\02\\36*ir1* 0\n",
      "E:\\MestradoData\\preprocessed\\all\\02\\11*ir1* 30\n",
      "E:\\MestradoData\\preprocessed\\all\\02\\29*ir1* 30\n",
      "E:\\MestradoData\\preprocessed\\all\\02\\17*ir1* 30\n",
      "E:\\MestradoData\\preprocessed\\all\\02\\02*ir1* 30\n",
      "E:\\MestradoData\\preprocessed\\all\\02\\06*ir1* 30\n",
      "E:\\MestradoData\\preprocessed\\all\\02\\21*ir1* 30\n",
      "E:\\MestradoData\\preprocessed\\all\\02\\09*ir1* 30\n",
      "E:\\MestradoData\\preprocessed\\all\\02\\30*ir1* 30\n",
      "E:\\MestradoData\\preprocessed\\all\\02\\16*ir1* 30\n",
      "E:\\MestradoData\\preprocessed\\all\\02\\27*ir1* 30\n",
      "E:\\MestradoData\\preprocessed\\all\\02\\15*ir1* 30\n",
      "E:\\MestradoData\\preprocessed\\all\\02\\14*ir1* 30\n",
      "E:\\MestradoData\\preprocessed\\all\\02\\01*ir1* 30\n",
      "E:\\MestradoData\\preprocessed\\all\\02\\31*ir1* 30\n",
      "E:\\MestradoData\\preprocessed\\all\\02\\28*ir1* 30\n",
      "E:\\MestradoData\\preprocessed\\all\\02\\03*ir1* 30\n",
      "E:\\MestradoData\\preprocessed\\all\\02\\37*ir1* 0\n",
      "\n"
     ]
    },
    {
     "data": {
      "application/vnd.jupyter.widget-view+json": {
       "model_id": "051a55f6c7e9421f9bdc64b60eec2473",
       "version_major": 2,
       "version_minor": 0
      },
      "text/html": [
       "<p>Failed to display Jupyter Widget of type <code>HBox</code>.</p>\n",
       "<p>\n",
       "  If you're reading this message in the Jupyter Notebook or JupyterLab Notebook, it may mean\n",
       "  that the widgets JavaScript is still loading. If this message persists, it\n",
       "  likely means that the widgets JavaScript library is either not installed or\n",
       "  not enabled. See the <a href=\"https://ipywidgets.readthedocs.io/en/stable/user_install.html\">Jupyter\n",
       "  Widgets Documentation</a> for setup instructions.\n",
       "</p>\n",
       "<p>\n",
       "  If you're reading this message in another frontend (for example, a static\n",
       "  rendering on GitHub or <a href=\"https://nbviewer.jupyter.org/\">NBViewer</a>),\n",
       "  it may mean that your frontend doesn't currently support widgets.\n",
       "</p>\n"
      ],
      "text/plain": [
       "HBox(children=(IntProgress(value=0, max=7), HTML(value='')))"
      ]
     },
     "metadata": {},
     "output_type": "display_data"
    },
    {
     "name": "stdout",
     "output_type": "stream",
     "text": [
      "E:\\MestradoData\\preprocessed\\all\\02\\13*ir1* 30\n",
      "E:\\MestradoData\\preprocessed\\all\\02\\18*ir1* 30\n",
      "E:\\MestradoData\\preprocessed\\all\\02\\33*ir1* 30\n",
      "E:\\MestradoData\\preprocessed\\all\\02\\19*ir1* 30\n",
      "E:\\MestradoData\\preprocessed\\all\\02\\34*ir1* 30\n",
      "E:\\MestradoData\\preprocessed\\all\\02\\23*ir1* 30\n",
      "E:\\MestradoData\\preprocessed\\all\\02\\04*ir1* 30\n",
      "\n",
      "folders created !\n"
     ]
    },
    {
     "data": {
      "application/vnd.jupyter.widget-view+json": {
       "model_id": "f4287aaeac374bf58763ab09c96a9840",
       "version_major": 2,
       "version_minor": 0
      },
      "text/html": [
       "<p>Failed to display Jupyter Widget of type <code>HBox</code>.</p>\n",
       "<p>\n",
       "  If you're reading this message in the Jupyter Notebook or JupyterLab Notebook, it may mean\n",
       "  that the widgets JavaScript is still loading. If this message persists, it\n",
       "  likely means that the widgets JavaScript library is either not installed or\n",
       "  not enabled. See the <a href=\"https://ipywidgets.readthedocs.io/en/stable/user_install.html\">Jupyter\n",
       "  Widgets Documentation</a> for setup instructions.\n",
       "</p>\n",
       "<p>\n",
       "  If you're reading this message in another frontend (for example, a static\n",
       "  rendering on GitHub or <a href=\"https://nbviewer.jupyter.org/\">NBViewer</a>),\n",
       "  it may mean that your frontend doesn't currently support widgets.\n",
       "</p>\n"
      ],
      "text/plain": [
       "HBox(children=(IntProgress(value=0, max=30), HTML(value='')))"
      ]
     },
     "metadata": {},
     "output_type": "display_data"
    },
    {
     "name": "stdout",
     "output_type": "stream",
     "text": [
      "E:\\MestradoData\\preprocessed\\all\\03\\35*ir1* 30\n",
      "E:\\MestradoData\\preprocessed\\all\\03\\05*ir1* 30\n",
      "E:\\MestradoData\\preprocessed\\all\\03\\26*ir1* 30\n",
      "E:\\MestradoData\\preprocessed\\all\\03\\07*ir1* 30\n",
      "E:\\MestradoData\\preprocessed\\all\\03\\25*ir1* 30\n",
      "E:\\MestradoData\\preprocessed\\all\\03\\10*ir1* 30\n",
      "E:\\MestradoData\\preprocessed\\all\\03\\20*ir1* 30\n",
      "E:\\MestradoData\\preprocessed\\all\\03\\22*ir1* 30\n",
      "E:\\MestradoData\\preprocessed\\all\\03\\32*ir1* 30\n",
      "E:\\MestradoData\\preprocessed\\all\\03\\24*ir1* 30\n",
      "E:\\MestradoData\\preprocessed\\all\\03\\12*ir1* 30\n",
      "E:\\MestradoData\\preprocessed\\all\\03\\08*ir1* 30\n",
      "E:\\MestradoData\\preprocessed\\all\\03\\36*ir1* 0\n",
      "E:\\MestradoData\\preprocessed\\all\\03\\11*ir1* 27\n",
      "E:\\MestradoData\\preprocessed\\all\\03\\29*ir1* 30\n",
      "E:\\MestradoData\\preprocessed\\all\\03\\17*ir1* 30\n",
      "E:\\MestradoData\\preprocessed\\all\\03\\02*ir1* 30\n",
      "E:\\MestradoData\\preprocessed\\all\\03\\06*ir1* 30\n",
      "E:\\MestradoData\\preprocessed\\all\\03\\21*ir1* 30\n",
      "E:\\MestradoData\\preprocessed\\all\\03\\09*ir1* 30\n",
      "E:\\MestradoData\\preprocessed\\all\\03\\30*ir1* 30\n",
      "E:\\MestradoData\\preprocessed\\all\\03\\16*ir1* 30\n",
      "E:\\MestradoData\\preprocessed\\all\\03\\27*ir1* 30\n",
      "E:\\MestradoData\\preprocessed\\all\\03\\15*ir1* 30\n",
      "E:\\MestradoData\\preprocessed\\all\\03\\14*ir1* 30\n",
      "E:\\MestradoData\\preprocessed\\all\\03\\01*ir1* 30\n",
      "E:\\MestradoData\\preprocessed\\all\\03\\31*ir1* 30\n",
      "E:\\MestradoData\\preprocessed\\all\\03\\28*ir1* 30\n",
      "E:\\MestradoData\\preprocessed\\all\\03\\03*ir1* 30\n",
      "E:\\MestradoData\\preprocessed\\all\\03\\37*ir1* 0\n",
      "\n"
     ]
    },
    {
     "data": {
      "application/vnd.jupyter.widget-view+json": {
       "model_id": "220161ad1664436e94251230979bf458",
       "version_major": 2,
       "version_minor": 0
      },
      "text/html": [
       "<p>Failed to display Jupyter Widget of type <code>HBox</code>.</p>\n",
       "<p>\n",
       "  If you're reading this message in the Jupyter Notebook or JupyterLab Notebook, it may mean\n",
       "  that the widgets JavaScript is still loading. If this message persists, it\n",
       "  likely means that the widgets JavaScript library is either not installed or\n",
       "  not enabled. See the <a href=\"https://ipywidgets.readthedocs.io/en/stable/user_install.html\">Jupyter\n",
       "  Widgets Documentation</a> for setup instructions.\n",
       "</p>\n",
       "<p>\n",
       "  If you're reading this message in another frontend (for example, a static\n",
       "  rendering on GitHub or <a href=\"https://nbviewer.jupyter.org/\">NBViewer</a>),\n",
       "  it may mean that your frontend doesn't currently support widgets.\n",
       "</p>\n"
      ],
      "text/plain": [
       "HBox(children=(IntProgress(value=0, max=7), HTML(value='')))"
      ]
     },
     "metadata": {},
     "output_type": "display_data"
    },
    {
     "name": "stdout",
     "output_type": "stream",
     "text": [
      "E:\\MestradoData\\preprocessed\\all\\03\\13*ir1* 0\n",
      "E:\\MestradoData\\preprocessed\\all\\03\\18*ir1* 0\n",
      "E:\\MestradoData\\preprocessed\\all\\03\\33*ir1* 30\n",
      "E:\\MestradoData\\preprocessed\\all\\03\\19*ir1* 30\n",
      "E:\\MestradoData\\preprocessed\\all\\03\\34*ir1* 30\n",
      "E:\\MestradoData\\preprocessed\\all\\03\\23*ir1* 30\n",
      "E:\\MestradoData\\preprocessed\\all\\03\\04*ir1* 30\n",
      "\n",
      "folders created !\n"
     ]
    },
    {
     "data": {
      "application/vnd.jupyter.widget-view+json": {
       "model_id": "4052b449dbcf4ea3b25044123af77f63",
       "version_major": 2,
       "version_minor": 0
      },
      "text/html": [
       "<p>Failed to display Jupyter Widget of type <code>HBox</code>.</p>\n",
       "<p>\n",
       "  If you're reading this message in the Jupyter Notebook or JupyterLab Notebook, it may mean\n",
       "  that the widgets JavaScript is still loading. If this message persists, it\n",
       "  likely means that the widgets JavaScript library is either not installed or\n",
       "  not enabled. See the <a href=\"https://ipywidgets.readthedocs.io/en/stable/user_install.html\">Jupyter\n",
       "  Widgets Documentation</a> for setup instructions.\n",
       "</p>\n",
       "<p>\n",
       "  If you're reading this message in another frontend (for example, a static\n",
       "  rendering on GitHub or <a href=\"https://nbviewer.jupyter.org/\">NBViewer</a>),\n",
       "  it may mean that your frontend doesn't currently support widgets.\n",
       "</p>\n"
      ],
      "text/plain": [
       "HBox(children=(IntProgress(value=0, max=30), HTML(value='')))"
      ]
     },
     "metadata": {},
     "output_type": "display_data"
    },
    {
     "name": "stdout",
     "output_type": "stream",
     "text": [
      "E:\\MestradoData\\preprocessed\\all\\04\\35*ir1* 30\n",
      "E:\\MestradoData\\preprocessed\\all\\04\\05*ir1* 30\n",
      "E:\\MestradoData\\preprocessed\\all\\04\\26*ir1* 30\n",
      "E:\\MestradoData\\preprocessed\\all\\04\\07*ir1* 30\n",
      "E:\\MestradoData\\preprocessed\\all\\04\\25*ir1* 30\n",
      "E:\\MestradoData\\preprocessed\\all\\04\\10*ir1* 30\n",
      "E:\\MestradoData\\preprocessed\\all\\04\\20*ir1* 30\n",
      "E:\\MestradoData\\preprocessed\\all\\04\\22*ir1* 30\n",
      "E:\\MestradoData\\preprocessed\\all\\04\\32*ir1* 30\n",
      "E:\\MestradoData\\preprocessed\\all\\04\\24*ir1* 30\n",
      "E:\\MestradoData\\preprocessed\\all\\04\\12*ir1* 30\n",
      "E:\\MestradoData\\preprocessed\\all\\04\\08*ir1* 30\n",
      "E:\\MestradoData\\preprocessed\\all\\04\\36*ir1* 0\n",
      "E:\\MestradoData\\preprocessed\\all\\04\\11*ir1* 27\n",
      "E:\\MestradoData\\preprocessed\\all\\04\\29*ir1* 30\n",
      "E:\\MestradoData\\preprocessed\\all\\04\\17*ir1* 30\n",
      "E:\\MestradoData\\preprocessed\\all\\04\\02*ir1* 30\n",
      "E:\\MestradoData\\preprocessed\\all\\04\\06*ir1* 30\n",
      "E:\\MestradoData\\preprocessed\\all\\04\\21*ir1* 30\n",
      "E:\\MestradoData\\preprocessed\\all\\04\\09*ir1* 30\n",
      "E:\\MestradoData\\preprocessed\\all\\04\\30*ir1* 30\n",
      "E:\\MestradoData\\preprocessed\\all\\04\\16*ir1* 30\n",
      "E:\\MestradoData\\preprocessed\\all\\04\\27*ir1* 30\n",
      "E:\\MestradoData\\preprocessed\\all\\04\\15*ir1* 30\n",
      "E:\\MestradoData\\preprocessed\\all\\04\\14*ir1* 30\n",
      "E:\\MestradoData\\preprocessed\\all\\04\\01*ir1* 30\n",
      "E:\\MestradoData\\preprocessed\\all\\04\\31*ir1* 30\n",
      "E:\\MestradoData\\preprocessed\\all\\04\\28*ir1* 30\n",
      "E:\\MestradoData\\preprocessed\\all\\04\\03*ir1* 30\n",
      "E:\\MestradoData\\preprocessed\\all\\04\\37*ir1* 0\n",
      "\n"
     ]
    },
    {
     "data": {
      "application/vnd.jupyter.widget-view+json": {
       "model_id": "8acc295f33a142f18bde28b882bc5be7",
       "version_major": 2,
       "version_minor": 0
      },
      "text/html": [
       "<p>Failed to display Jupyter Widget of type <code>HBox</code>.</p>\n",
       "<p>\n",
       "  If you're reading this message in the Jupyter Notebook or JupyterLab Notebook, it may mean\n",
       "  that the widgets JavaScript is still loading. If this message persists, it\n",
       "  likely means that the widgets JavaScript library is either not installed or\n",
       "  not enabled. See the <a href=\"https://ipywidgets.readthedocs.io/en/stable/user_install.html\">Jupyter\n",
       "  Widgets Documentation</a> for setup instructions.\n",
       "</p>\n",
       "<p>\n",
       "  If you're reading this message in another frontend (for example, a static\n",
       "  rendering on GitHub or <a href=\"https://nbviewer.jupyter.org/\">NBViewer</a>),\n",
       "  it may mean that your frontend doesn't currently support widgets.\n",
       "</p>\n"
      ],
      "text/plain": [
       "HBox(children=(IntProgress(value=0, max=7), HTML(value='')))"
      ]
     },
     "metadata": {},
     "output_type": "display_data"
    },
    {
     "name": "stdout",
     "output_type": "stream",
     "text": [
      "E:\\MestradoData\\preprocessed\\all\\04\\13*ir1* 0\n",
      "E:\\MestradoData\\preprocessed\\all\\04\\18*ir1* 0\n",
      "E:\\MestradoData\\preprocessed\\all\\04\\33*ir1* 30\n",
      "E:\\MestradoData\\preprocessed\\all\\04\\19*ir1* 30\n",
      "E:\\MestradoData\\preprocessed\\all\\04\\34*ir1* 30\n",
      "E:\\MestradoData\\preprocessed\\all\\04\\23*ir1* 30\n",
      "E:\\MestradoData\\preprocessed\\all\\04\\04*ir1* 30\n",
      "\n",
      "folders created !\n"
     ]
    },
    {
     "data": {
      "application/vnd.jupyter.widget-view+json": {
       "model_id": "5e18567badf544e2bfe9a469f346fa74",
       "version_major": 2,
       "version_minor": 0
      },
      "text/html": [
       "<p>Failed to display Jupyter Widget of type <code>HBox</code>.</p>\n",
       "<p>\n",
       "  If you're reading this message in the Jupyter Notebook or JupyterLab Notebook, it may mean\n",
       "  that the widgets JavaScript is still loading. If this message persists, it\n",
       "  likely means that the widgets JavaScript library is either not installed or\n",
       "  not enabled. See the <a href=\"https://ipywidgets.readthedocs.io/en/stable/user_install.html\">Jupyter\n",
       "  Widgets Documentation</a> for setup instructions.\n",
       "</p>\n",
       "<p>\n",
       "  If you're reading this message in another frontend (for example, a static\n",
       "  rendering on GitHub or <a href=\"https://nbviewer.jupyter.org/\">NBViewer</a>),\n",
       "  it may mean that your frontend doesn't currently support widgets.\n",
       "</p>\n"
      ],
      "text/plain": [
       "HBox(children=(IntProgress(value=0, max=30), HTML(value='')))"
      ]
     },
     "metadata": {},
     "output_type": "display_data"
    },
    {
     "name": "stdout",
     "output_type": "stream",
     "text": [
      "E:\\MestradoData\\preprocessed\\all\\05\\35*ir1* 30\n",
      "E:\\MestradoData\\preprocessed\\all\\05\\05*ir1* 30\n",
      "E:\\MestradoData\\preprocessed\\all\\05\\26*ir1* 30\n",
      "E:\\MestradoData\\preprocessed\\all\\05\\07*ir1* 30\n",
      "E:\\MestradoData\\preprocessed\\all\\05\\25*ir1* 30\n",
      "E:\\MestradoData\\preprocessed\\all\\05\\10*ir1* 30\n",
      "E:\\MestradoData\\preprocessed\\all\\05\\20*ir1* 30\n",
      "E:\\MestradoData\\preprocessed\\all\\05\\22*ir1* 23\n",
      "E:\\MestradoData\\preprocessed\\all\\05\\32*ir1* 30\n",
      "E:\\MestradoData\\preprocessed\\all\\05\\24*ir1* 30\n",
      "E:\\MestradoData\\preprocessed\\all\\05\\12*ir1* 30\n",
      "E:\\MestradoData\\preprocessed\\all\\05\\08*ir1* 30\n",
      "E:\\MestradoData\\preprocessed\\all\\05\\36*ir1* 0\n",
      "E:\\MestradoData\\preprocessed\\all\\05\\11*ir1* 30\n",
      "E:\\MestradoData\\preprocessed\\all\\05\\29*ir1* 30\n",
      "E:\\MestradoData\\preprocessed\\all\\05\\17*ir1* 30\n",
      "E:\\MestradoData\\preprocessed\\all\\05\\02*ir1* 30\n",
      "E:\\MestradoData\\preprocessed\\all\\05\\06*ir1* 30\n",
      "E:\\MestradoData\\preprocessed\\all\\05\\21*ir1* 30\n",
      "E:\\MestradoData\\preprocessed\\all\\05\\09*ir1* 30\n",
      "E:\\MestradoData\\preprocessed\\all\\05\\30*ir1* 30\n",
      "E:\\MestradoData\\preprocessed\\all\\05\\16*ir1* 30\n",
      "E:\\MestradoData\\preprocessed\\all\\05\\27*ir1* 30\n",
      "E:\\MestradoData\\preprocessed\\all\\05\\15*ir1* 30\n",
      "E:\\MestradoData\\preprocessed\\all\\05\\14*ir1* 30\n",
      "E:\\MestradoData\\preprocessed\\all\\05\\01*ir1* 30\n",
      "E:\\MestradoData\\preprocessed\\all\\05\\31*ir1* 30\n",
      "E:\\MestradoData\\preprocessed\\all\\05\\28*ir1* 30\n",
      "E:\\MestradoData\\preprocessed\\all\\05\\03*ir1* 30\n",
      "E:\\MestradoData\\preprocessed\\all\\05\\37*ir1* 0\n",
      "\n"
     ]
    },
    {
     "data": {
      "application/vnd.jupyter.widget-view+json": {
       "model_id": "31381bdf617c451ab00c677b2f22602b",
       "version_major": 2,
       "version_minor": 0
      },
      "text/html": [
       "<p>Failed to display Jupyter Widget of type <code>HBox</code>.</p>\n",
       "<p>\n",
       "  If you're reading this message in the Jupyter Notebook or JupyterLab Notebook, it may mean\n",
       "  that the widgets JavaScript is still loading. If this message persists, it\n",
       "  likely means that the widgets JavaScript library is either not installed or\n",
       "  not enabled. See the <a href=\"https://ipywidgets.readthedocs.io/en/stable/user_install.html\">Jupyter\n",
       "  Widgets Documentation</a> for setup instructions.\n",
       "</p>\n",
       "<p>\n",
       "  If you're reading this message in another frontend (for example, a static\n",
       "  rendering on GitHub or <a href=\"https://nbviewer.jupyter.org/\">NBViewer</a>),\n",
       "  it may mean that your frontend doesn't currently support widgets.\n",
       "</p>\n"
      ],
      "text/plain": [
       "HBox(children=(IntProgress(value=0, max=7), HTML(value='')))"
      ]
     },
     "metadata": {},
     "output_type": "display_data"
    },
    {
     "name": "stdout",
     "output_type": "stream",
     "text": [
      "E:\\MestradoData\\preprocessed\\all\\05\\13*ir1* 30\n",
      "E:\\MestradoData\\preprocessed\\all\\05\\18*ir1* 30\n",
      "E:\\MestradoData\\preprocessed\\all\\05\\33*ir1* 30\n",
      "E:\\MestradoData\\preprocessed\\all\\05\\19*ir1* 0\n",
      "E:\\MestradoData\\preprocessed\\all\\05\\34*ir1* 27\n",
      "E:\\MestradoData\\preprocessed\\all\\05\\23*ir1* 30\n",
      "E:\\MestradoData\\preprocessed\\all\\05\\04*ir1* 30\n",
      "\n",
      "folders created !\n"
     ]
    },
    {
     "data": {
      "application/vnd.jupyter.widget-view+json": {
       "model_id": "79a3b164e8064c12b5060ea2a7449e13",
       "version_major": 2,
       "version_minor": 0
      },
      "text/html": [
       "<p>Failed to display Jupyter Widget of type <code>HBox</code>.</p>\n",
       "<p>\n",
       "  If you're reading this message in the Jupyter Notebook or JupyterLab Notebook, it may mean\n",
       "  that the widgets JavaScript is still loading. If this message persists, it\n",
       "  likely means that the widgets JavaScript library is either not installed or\n",
       "  not enabled. See the <a href=\"https://ipywidgets.readthedocs.io/en/stable/user_install.html\">Jupyter\n",
       "  Widgets Documentation</a> for setup instructions.\n",
       "</p>\n",
       "<p>\n",
       "  If you're reading this message in another frontend (for example, a static\n",
       "  rendering on GitHub or <a href=\"https://nbviewer.jupyter.org/\">NBViewer</a>),\n",
       "  it may mean that your frontend doesn't currently support widgets.\n",
       "</p>\n"
      ],
      "text/plain": [
       "HBox(children=(IntProgress(value=0, max=30), HTML(value='')))"
      ]
     },
     "metadata": {},
     "output_type": "display_data"
    },
    {
     "name": "stdout",
     "output_type": "stream",
     "text": [
      "E:\\MestradoData\\preprocessed\\all\\06\\35*ir1* 30\n",
      "E:\\MestradoData\\preprocessed\\all\\06\\05*ir1* 30\n",
      "E:\\MestradoData\\preprocessed\\all\\06\\26*ir1* 30\n",
      "E:\\MestradoData\\preprocessed\\all\\06\\07*ir1* 30\n",
      "E:\\MestradoData\\preprocessed\\all\\06\\25*ir1* 30\n",
      "E:\\MestradoData\\preprocessed\\all\\06\\10*ir1* 30\n",
      "E:\\MestradoData\\preprocessed\\all\\06\\20*ir1* 30\n",
      "E:\\MestradoData\\preprocessed\\all\\06\\22*ir1* 30\n",
      "E:\\MestradoData\\preprocessed\\all\\06\\32*ir1* 30\n",
      "E:\\MestradoData\\preprocessed\\all\\06\\24*ir1* 30\n",
      "E:\\MestradoData\\preprocessed\\all\\06\\12*ir1* 30\n",
      "E:\\MestradoData\\preprocessed\\all\\06\\08*ir1* 30\n",
      "E:\\MestradoData\\preprocessed\\all\\06\\36*ir1* 0\n",
      "E:\\MestradoData\\preprocessed\\all\\06\\11*ir1* 30\n",
      "E:\\MestradoData\\preprocessed\\all\\06\\29*ir1* 30\n",
      "E:\\MestradoData\\preprocessed\\all\\06\\17*ir1* 30\n",
      "E:\\MestradoData\\preprocessed\\all\\06\\02*ir1* 30\n",
      "E:\\MestradoData\\preprocessed\\all\\06\\06*ir1* 30\n",
      "E:\\MestradoData\\preprocessed\\all\\06\\21*ir1* 30\n",
      "E:\\MestradoData\\preprocessed\\all\\06\\09*ir1* 30\n",
      "E:\\MestradoData\\preprocessed\\all\\06\\30*ir1* 30\n",
      "E:\\MestradoData\\preprocessed\\all\\06\\16*ir1* 30\n",
      "E:\\MestradoData\\preprocessed\\all\\06\\27*ir1* 30\n",
      "E:\\MestradoData\\preprocessed\\all\\06\\15*ir1* 30\n",
      "E:\\MestradoData\\preprocessed\\all\\06\\14*ir1* 30\n",
      "E:\\MestradoData\\preprocessed\\all\\06\\01*ir1* 30\n",
      "E:\\MestradoData\\preprocessed\\all\\06\\31*ir1* 30\n",
      "E:\\MestradoData\\preprocessed\\all\\06\\28*ir1* 30\n",
      "E:\\MestradoData\\preprocessed\\all\\06\\03*ir1* 30\n",
      "E:\\MestradoData\\preprocessed\\all\\06\\37*ir1* 0\n",
      "\n"
     ]
    },
    {
     "data": {
      "application/vnd.jupyter.widget-view+json": {
       "model_id": "8c0aafb6a95e4b91a1a0a7c99e1c12f9",
       "version_major": 2,
       "version_minor": 0
      },
      "text/html": [
       "<p>Failed to display Jupyter Widget of type <code>HBox</code>.</p>\n",
       "<p>\n",
       "  If you're reading this message in the Jupyter Notebook or JupyterLab Notebook, it may mean\n",
       "  that the widgets JavaScript is still loading. If this message persists, it\n",
       "  likely means that the widgets JavaScript library is either not installed or\n",
       "  not enabled. See the <a href=\"https://ipywidgets.readthedocs.io/en/stable/user_install.html\">Jupyter\n",
       "  Widgets Documentation</a> for setup instructions.\n",
       "</p>\n",
       "<p>\n",
       "  If you're reading this message in another frontend (for example, a static\n",
       "  rendering on GitHub or <a href=\"https://nbviewer.jupyter.org/\">NBViewer</a>),\n",
       "  it may mean that your frontend doesn't currently support widgets.\n",
       "</p>\n"
      ],
      "text/plain": [
       "HBox(children=(IntProgress(value=0, max=7), HTML(value='')))"
      ]
     },
     "metadata": {},
     "output_type": "display_data"
    },
    {
     "name": "stdout",
     "output_type": "stream",
     "text": [
      "E:\\MestradoData\\preprocessed\\all\\06\\13*ir1* 30\n",
      "E:\\MestradoData\\preprocessed\\all\\06\\18*ir1* 30\n",
      "E:\\MestradoData\\preprocessed\\all\\06\\33*ir1* 30\n",
      "E:\\MestradoData\\preprocessed\\all\\06\\19*ir1* 30\n",
      "E:\\MestradoData\\preprocessed\\all\\06\\34*ir1* 27\n",
      "E:\\MestradoData\\preprocessed\\all\\06\\23*ir1* 30\n",
      "E:\\MestradoData\\preprocessed\\all\\06\\04*ir1* 30\n",
      "\n",
      "folders created !\n"
     ]
    },
    {
     "data": {
      "application/vnd.jupyter.widget-view+json": {
       "model_id": "aebe561bed3d48fcadfdd3124cc433c8",
       "version_major": 2,
       "version_minor": 0
      },
      "text/html": [
       "<p>Failed to display Jupyter Widget of type <code>HBox</code>.</p>\n",
       "<p>\n",
       "  If you're reading this message in the Jupyter Notebook or JupyterLab Notebook, it may mean\n",
       "  that the widgets JavaScript is still loading. If this message persists, it\n",
       "  likely means that the widgets JavaScript library is either not installed or\n",
       "  not enabled. See the <a href=\"https://ipywidgets.readthedocs.io/en/stable/user_install.html\">Jupyter\n",
       "  Widgets Documentation</a> for setup instructions.\n",
       "</p>\n",
       "<p>\n",
       "  If you're reading this message in another frontend (for example, a static\n",
       "  rendering on GitHub or <a href=\"https://nbviewer.jupyter.org/\">NBViewer</a>),\n",
       "  it may mean that your frontend doesn't currently support widgets.\n",
       "</p>\n"
      ],
      "text/plain": [
       "HBox(children=(IntProgress(value=0, max=30), HTML(value='')))"
      ]
     },
     "metadata": {},
     "output_type": "display_data"
    },
    {
     "name": "stdout",
     "output_type": "stream",
     "text": [
      "E:\\MestradoData\\preprocessed\\all\\07\\35*ir1* 30\n",
      "E:\\MestradoData\\preprocessed\\all\\07\\05*ir1* 30\n",
      "E:\\MestradoData\\preprocessed\\all\\07\\26*ir1* 30\n",
      "E:\\MestradoData\\preprocessed\\all\\07\\07*ir1* 30\n",
      "E:\\MestradoData\\preprocessed\\all\\07\\25*ir1* 30\n",
      "E:\\MestradoData\\preprocessed\\all\\07\\10*ir1* 30\n",
      "E:\\MestradoData\\preprocessed\\all\\07\\20*ir1* 30\n",
      "E:\\MestradoData\\preprocessed\\all\\07\\22*ir1* 30\n",
      "E:\\MestradoData\\preprocessed\\all\\07\\32*ir1* 30\n",
      "E:\\MestradoData\\preprocessed\\all\\07\\24*ir1* 30\n",
      "E:\\MestradoData\\preprocessed\\all\\07\\12*ir1* 30\n",
      "E:\\MestradoData\\preprocessed\\all\\07\\08*ir1* 30\n",
      "E:\\MestradoData\\preprocessed\\all\\07\\36*ir1* 0\n",
      "E:\\MestradoData\\preprocessed\\all\\07\\11*ir1* 27\n",
      "E:\\MestradoData\\preprocessed\\all\\07\\29*ir1* 30\n",
      "E:\\MestradoData\\preprocessed\\all\\07\\17*ir1* 30\n",
      "E:\\MestradoData\\preprocessed\\all\\07\\02*ir1* 30\n",
      "E:\\MestradoData\\preprocessed\\all\\07\\06*ir1* 30\n",
      "E:\\MestradoData\\preprocessed\\all\\07\\21*ir1* 30\n",
      "E:\\MestradoData\\preprocessed\\all\\07\\09*ir1* 30\n",
      "E:\\MestradoData\\preprocessed\\all\\07\\30*ir1* 30\n",
      "E:\\MestradoData\\preprocessed\\all\\07\\16*ir1* 30\n",
      "E:\\MestradoData\\preprocessed\\all\\07\\27*ir1* 30\n",
      "E:\\MestradoData\\preprocessed\\all\\07\\15*ir1* 30\n",
      "E:\\MestradoData\\preprocessed\\all\\07\\14*ir1* 30\n",
      "E:\\MestradoData\\preprocessed\\all\\07\\01*ir1* 30\n",
      "E:\\MestradoData\\preprocessed\\all\\07\\31*ir1* 30\n",
      "E:\\MestradoData\\preprocessed\\all\\07\\28*ir1* 30\n",
      "E:\\MestradoData\\preprocessed\\all\\07\\03*ir1* 30\n",
      "E:\\MestradoData\\preprocessed\\all\\07\\37*ir1* 0\n",
      "\n"
     ]
    },
    {
     "data": {
      "application/vnd.jupyter.widget-view+json": {
       "model_id": "d39ea1a1a8ce4d64908e297a608e52f2",
       "version_major": 2,
       "version_minor": 0
      },
      "text/html": [
       "<p>Failed to display Jupyter Widget of type <code>HBox</code>.</p>\n",
       "<p>\n",
       "  If you're reading this message in the Jupyter Notebook or JupyterLab Notebook, it may mean\n",
       "  that the widgets JavaScript is still loading. If this message persists, it\n",
       "  likely means that the widgets JavaScript library is either not installed or\n",
       "  not enabled. See the <a href=\"https://ipywidgets.readthedocs.io/en/stable/user_install.html\">Jupyter\n",
       "  Widgets Documentation</a> for setup instructions.\n",
       "</p>\n",
       "<p>\n",
       "  If you're reading this message in another frontend (for example, a static\n",
       "  rendering on GitHub or <a href=\"https://nbviewer.jupyter.org/\">NBViewer</a>),\n",
       "  it may mean that your frontend doesn't currently support widgets.\n",
       "</p>\n"
      ],
      "text/plain": [
       "HBox(children=(IntProgress(value=0, max=7), HTML(value='')))"
      ]
     },
     "metadata": {},
     "output_type": "display_data"
    },
    {
     "name": "stdout",
     "output_type": "stream",
     "text": [
      "E:\\MestradoData\\preprocessed\\all\\07\\13*ir1* 0\n",
      "E:\\MestradoData\\preprocessed\\all\\07\\18*ir1* 0\n",
      "E:\\MestradoData\\preprocessed\\all\\07\\33*ir1* 30\n",
      "E:\\MestradoData\\preprocessed\\all\\07\\19*ir1* 30\n",
      "E:\\MestradoData\\preprocessed\\all\\07\\34*ir1* 30\n",
      "E:\\MestradoData\\preprocessed\\all\\07\\23*ir1* 30\n",
      "E:\\MestradoData\\preprocessed\\all\\07\\04*ir1* 30\n",
      "\n",
      "folders created !\n"
     ]
    },
    {
     "data": {
      "application/vnd.jupyter.widget-view+json": {
       "model_id": "fa26c8bc7f0e420f9c4475565d365433",
       "version_major": 2,
       "version_minor": 0
      },
      "text/html": [
       "<p>Failed to display Jupyter Widget of type <code>HBox</code>.</p>\n",
       "<p>\n",
       "  If you're reading this message in the Jupyter Notebook or JupyterLab Notebook, it may mean\n",
       "  that the widgets JavaScript is still loading. If this message persists, it\n",
       "  likely means that the widgets JavaScript library is either not installed or\n",
       "  not enabled. See the <a href=\"https://ipywidgets.readthedocs.io/en/stable/user_install.html\">Jupyter\n",
       "  Widgets Documentation</a> for setup instructions.\n",
       "</p>\n",
       "<p>\n",
       "  If you're reading this message in another frontend (for example, a static\n",
       "  rendering on GitHub or <a href=\"https://nbviewer.jupyter.org/\">NBViewer</a>),\n",
       "  it may mean that your frontend doesn't currently support widgets.\n",
       "</p>\n"
      ],
      "text/plain": [
       "HBox(children=(IntProgress(value=0, max=30), HTML(value='')))"
      ]
     },
     "metadata": {},
     "output_type": "display_data"
    },
    {
     "name": "stdout",
     "output_type": "stream",
     "text": [
      "E:\\MestradoData\\preprocessed\\all\\08\\35*ir1* 30\n",
      "E:\\MestradoData\\preprocessed\\all\\08\\05*ir1* 30\n",
      "E:\\MestradoData\\preprocessed\\all\\08\\26*ir1* 30\n",
      "E:\\MestradoData\\preprocessed\\all\\08\\07*ir1* 30\n",
      "E:\\MestradoData\\preprocessed\\all\\08\\25*ir1* 30\n",
      "E:\\MestradoData\\preprocessed\\all\\08\\10*ir1* 30\n",
      "E:\\MestradoData\\preprocessed\\all\\08\\20*ir1* 30\n",
      "E:\\MestradoData\\preprocessed\\all\\08\\22*ir1* 30\n",
      "E:\\MestradoData\\preprocessed\\all\\08\\32*ir1* 30\n",
      "E:\\MestradoData\\preprocessed\\all\\08\\24*ir1* 30\n",
      "E:\\MestradoData\\preprocessed\\all\\08\\12*ir1* 30\n",
      "E:\\MestradoData\\preprocessed\\all\\08\\08*ir1* 30\n",
      "E:\\MestradoData\\preprocessed\\all\\08\\36*ir1* 0\n",
      "E:\\MestradoData\\preprocessed\\all\\08\\11*ir1* 27\n",
      "E:\\MestradoData\\preprocessed\\all\\08\\29*ir1* 30\n",
      "E:\\MestradoData\\preprocessed\\all\\08\\17*ir1* 30\n",
      "E:\\MestradoData\\preprocessed\\all\\08\\02*ir1* 30\n",
      "E:\\MestradoData\\preprocessed\\all\\08\\06*ir1* 30\n",
      "E:\\MestradoData\\preprocessed\\all\\08\\21*ir1* 30\n",
      "E:\\MestradoData\\preprocessed\\all\\08\\09*ir1* 30\n",
      "E:\\MestradoData\\preprocessed\\all\\08\\30*ir1* 30\n",
      "E:\\MestradoData\\preprocessed\\all\\08\\16*ir1* 30\n",
      "E:\\MestradoData\\preprocessed\\all\\08\\27*ir1* 30\n",
      "E:\\MestradoData\\preprocessed\\all\\08\\15*ir1* 30\n",
      "E:\\MestradoData\\preprocessed\\all\\08\\14*ir1* 30\n",
      "E:\\MestradoData\\preprocessed\\all\\08\\01*ir1* 30\n",
      "E:\\MestradoData\\preprocessed\\all\\08\\31*ir1* 30\n",
      "E:\\MestradoData\\preprocessed\\all\\08\\28*ir1* 30\n",
      "E:\\MestradoData\\preprocessed\\all\\08\\03*ir1* 30\n",
      "E:\\MestradoData\\preprocessed\\all\\08\\37*ir1* 0\n",
      "\n"
     ]
    },
    {
     "data": {
      "application/vnd.jupyter.widget-view+json": {
       "model_id": "2b3ea84fba5c498a9fc00cac64f35588",
       "version_major": 2,
       "version_minor": 0
      },
      "text/html": [
       "<p>Failed to display Jupyter Widget of type <code>HBox</code>.</p>\n",
       "<p>\n",
       "  If you're reading this message in the Jupyter Notebook or JupyterLab Notebook, it may mean\n",
       "  that the widgets JavaScript is still loading. If this message persists, it\n",
       "  likely means that the widgets JavaScript library is either not installed or\n",
       "  not enabled. See the <a href=\"https://ipywidgets.readthedocs.io/en/stable/user_install.html\">Jupyter\n",
       "  Widgets Documentation</a> for setup instructions.\n",
       "</p>\n",
       "<p>\n",
       "  If you're reading this message in another frontend (for example, a static\n",
       "  rendering on GitHub or <a href=\"https://nbviewer.jupyter.org/\">NBViewer</a>),\n",
       "  it may mean that your frontend doesn't currently support widgets.\n",
       "</p>\n"
      ],
      "text/plain": [
       "HBox(children=(IntProgress(value=0, max=7), HTML(value='')))"
      ]
     },
     "metadata": {},
     "output_type": "display_data"
    },
    {
     "name": "stdout",
     "output_type": "stream",
     "text": [
      "E:\\MestradoData\\preprocessed\\all\\08\\13*ir1* 0\n",
      "E:\\MestradoData\\preprocessed\\all\\08\\18*ir1* 0\n",
      "E:\\MestradoData\\preprocessed\\all\\08\\33*ir1* 30\n",
      "E:\\MestradoData\\preprocessed\\all\\08\\19*ir1* 30\n",
      "E:\\MestradoData\\preprocessed\\all\\08\\34*ir1* 30\n",
      "E:\\MestradoData\\preprocessed\\all\\08\\23*ir1* 30\n",
      "E:\\MestradoData\\preprocessed\\all\\08\\04*ir1* 30\n",
      "\n",
      "folders created !\n"
     ]
    },
    {
     "data": {
      "application/vnd.jupyter.widget-view+json": {
       "model_id": "f6aaca9fd17f491a8ce2dd526e938f34",
       "version_major": 2,
       "version_minor": 0
      },
      "text/html": [
       "<p>Failed to display Jupyter Widget of type <code>HBox</code>.</p>\n",
       "<p>\n",
       "  If you're reading this message in the Jupyter Notebook or JupyterLab Notebook, it may mean\n",
       "  that the widgets JavaScript is still loading. If this message persists, it\n",
       "  likely means that the widgets JavaScript library is either not installed or\n",
       "  not enabled. See the <a href=\"https://ipywidgets.readthedocs.io/en/stable/user_install.html\">Jupyter\n",
       "  Widgets Documentation</a> for setup instructions.\n",
       "</p>\n",
       "<p>\n",
       "  If you're reading this message in another frontend (for example, a static\n",
       "  rendering on GitHub or <a href=\"https://nbviewer.jupyter.org/\">NBViewer</a>),\n",
       "  it may mean that your frontend doesn't currently support widgets.\n",
       "</p>\n"
      ],
      "text/plain": [
       "HBox(children=(IntProgress(value=0, max=30), HTML(value='')))"
      ]
     },
     "metadata": {},
     "output_type": "display_data"
    },
    {
     "name": "stdout",
     "output_type": "stream",
     "text": [
      "E:\\MestradoData\\preprocessed\\all\\09\\35*ir1* 30\n",
      "E:\\MestradoData\\preprocessed\\all\\09\\05*ir1* 30\n",
      "E:\\MestradoData\\preprocessed\\all\\09\\26*ir1* 30\n",
      "E:\\MestradoData\\preprocessed\\all\\09\\07*ir1* 30\n",
      "E:\\MestradoData\\preprocessed\\all\\09\\25*ir1* 30\n",
      "E:\\MestradoData\\preprocessed\\all\\09\\10*ir1* 30\n",
      "E:\\MestradoData\\preprocessed\\all\\09\\20*ir1* 30\n",
      "E:\\MestradoData\\preprocessed\\all\\09\\22*ir1* 30\n",
      "E:\\MestradoData\\preprocessed\\all\\09\\32*ir1* 30\n",
      "E:\\MestradoData\\preprocessed\\all\\09\\24*ir1* 30\n",
      "E:\\MestradoData\\preprocessed\\all\\09\\12*ir1* 30\n",
      "E:\\MestradoData\\preprocessed\\all\\09\\08*ir1* 30\n",
      "E:\\MestradoData\\preprocessed\\all\\09\\36*ir1* 0\n",
      "E:\\MestradoData\\preprocessed\\all\\09\\11*ir1* 27\n",
      "E:\\MestradoData\\preprocessed\\all\\09\\29*ir1* 30\n",
      "E:\\MestradoData\\preprocessed\\all\\09\\17*ir1* 30\n",
      "E:\\MestradoData\\preprocessed\\all\\09\\02*ir1* 30\n",
      "E:\\MestradoData\\preprocessed\\all\\09\\06*ir1* 30\n",
      "E:\\MestradoData\\preprocessed\\all\\09\\21*ir1* 30\n",
      "E:\\MestradoData\\preprocessed\\all\\09\\09*ir1* 30\n",
      "E:\\MestradoData\\preprocessed\\all\\09\\30*ir1* 30\n",
      "E:\\MestradoData\\preprocessed\\all\\09\\16*ir1* 30\n",
      "E:\\MestradoData\\preprocessed\\all\\09\\27*ir1* 30\n",
      "E:\\MestradoData\\preprocessed\\all\\09\\15*ir1* 30\n",
      "E:\\MestradoData\\preprocessed\\all\\09\\14*ir1* 30\n",
      "E:\\MestradoData\\preprocessed\\all\\09\\01*ir1* 30\n",
      "E:\\MestradoData\\preprocessed\\all\\09\\31*ir1* 30\n",
      "E:\\MestradoData\\preprocessed\\all\\09\\28*ir1* 30\n",
      "E:\\MestradoData\\preprocessed\\all\\09\\03*ir1* 30\n",
      "E:\\MestradoData\\preprocessed\\all\\09\\37*ir1* 0\n",
      "\n"
     ]
    },
    {
     "data": {
      "application/vnd.jupyter.widget-view+json": {
       "model_id": "0bdff9cb4652436f8e720cc7a19c3a1d",
       "version_major": 2,
       "version_minor": 0
      },
      "text/html": [
       "<p>Failed to display Jupyter Widget of type <code>HBox</code>.</p>\n",
       "<p>\n",
       "  If you're reading this message in the Jupyter Notebook or JupyterLab Notebook, it may mean\n",
       "  that the widgets JavaScript is still loading. If this message persists, it\n",
       "  likely means that the widgets JavaScript library is either not installed or\n",
       "  not enabled. See the <a href=\"https://ipywidgets.readthedocs.io/en/stable/user_install.html\">Jupyter\n",
       "  Widgets Documentation</a> for setup instructions.\n",
       "</p>\n",
       "<p>\n",
       "  If you're reading this message in another frontend (for example, a static\n",
       "  rendering on GitHub or <a href=\"https://nbviewer.jupyter.org/\">NBViewer</a>),\n",
       "  it may mean that your frontend doesn't currently support widgets.\n",
       "</p>\n"
      ],
      "text/plain": [
       "HBox(children=(IntProgress(value=0, max=7), HTML(value='')))"
      ]
     },
     "metadata": {},
     "output_type": "display_data"
    },
    {
     "name": "stdout",
     "output_type": "stream",
     "text": [
      "E:\\MestradoData\\preprocessed\\all\\09\\13*ir1* 0\n",
      "E:\\MestradoData\\preprocessed\\all\\09\\18*ir1* 0\n",
      "E:\\MestradoData\\preprocessed\\all\\09\\33*ir1* 30\n",
      "E:\\MestradoData\\preprocessed\\all\\09\\19*ir1* 30\n",
      "E:\\MestradoData\\preprocessed\\all\\09\\34*ir1* 30\n",
      "E:\\MestradoData\\preprocessed\\all\\09\\23*ir1* 30\n",
      "E:\\MestradoData\\preprocessed\\all\\09\\04*ir1* 30\n",
      "\n",
      "folders created !\n"
     ]
    },
    {
     "data": {
      "application/vnd.jupyter.widget-view+json": {
       "model_id": "d75df7cf7ea14bf9a9c67281ed899151",
       "version_major": 2,
       "version_minor": 0
      },
      "text/html": [
       "<p>Failed to display Jupyter Widget of type <code>HBox</code>.</p>\n",
       "<p>\n",
       "  If you're reading this message in the Jupyter Notebook or JupyterLab Notebook, it may mean\n",
       "  that the widgets JavaScript is still loading. If this message persists, it\n",
       "  likely means that the widgets JavaScript library is either not installed or\n",
       "  not enabled. See the <a href=\"https://ipywidgets.readthedocs.io/en/stable/user_install.html\">Jupyter\n",
       "  Widgets Documentation</a> for setup instructions.\n",
       "</p>\n",
       "<p>\n",
       "  If you're reading this message in another frontend (for example, a static\n",
       "  rendering on GitHub or <a href=\"https://nbviewer.jupyter.org/\">NBViewer</a>),\n",
       "  it may mean that your frontend doesn't currently support widgets.\n",
       "</p>\n"
      ],
      "text/plain": [
       "HBox(children=(IntProgress(value=0, max=30), HTML(value='')))"
      ]
     },
     "metadata": {},
     "output_type": "display_data"
    },
    {
     "name": "stdout",
     "output_type": "stream",
     "text": [
      "E:\\MestradoData\\preprocessed\\all\\10\\35*ir1* 30\n",
      "E:\\MestradoData\\preprocessed\\all\\10\\05*ir1* 30\n",
      "E:\\MestradoData\\preprocessed\\all\\10\\26*ir1* 30\n",
      "E:\\MestradoData\\preprocessed\\all\\10\\07*ir1* 30\n",
      "E:\\MestradoData\\preprocessed\\all\\10\\25*ir1* 30\n",
      "E:\\MestradoData\\preprocessed\\all\\10\\10*ir1* 30\n",
      "E:\\MestradoData\\preprocessed\\all\\10\\20*ir1* 30\n",
      "E:\\MestradoData\\preprocessed\\all\\10\\22*ir1* 30\n",
      "E:\\MestradoData\\preprocessed\\all\\10\\32*ir1* 30\n",
      "E:\\MestradoData\\preprocessed\\all\\10\\24*ir1* 30\n",
      "E:\\MestradoData\\preprocessed\\all\\10\\12*ir1* 30\n",
      "E:\\MestradoData\\preprocessed\\all\\10\\08*ir1* 30\n",
      "E:\\MestradoData\\preprocessed\\all\\10\\36*ir1* 0\n",
      "E:\\MestradoData\\preprocessed\\all\\10\\11*ir1* 27\n",
      "E:\\MestradoData\\preprocessed\\all\\10\\29*ir1* 30\n",
      "E:\\MestradoData\\preprocessed\\all\\10\\17*ir1* 30\n",
      "E:\\MestradoData\\preprocessed\\all\\10\\02*ir1* 30\n",
      "E:\\MestradoData\\preprocessed\\all\\10\\06*ir1* 30\n",
      "E:\\MestradoData\\preprocessed\\all\\10\\21*ir1* 30\n",
      "E:\\MestradoData\\preprocessed\\all\\10\\09*ir1* 30\n",
      "E:\\MestradoData\\preprocessed\\all\\10\\30*ir1* 30\n",
      "E:\\MestradoData\\preprocessed\\all\\10\\16*ir1* 30\n",
      "E:\\MestradoData\\preprocessed\\all\\10\\27*ir1* 30\n",
      "E:\\MestradoData\\preprocessed\\all\\10\\15*ir1* 30\n",
      "E:\\MestradoData\\preprocessed\\all\\10\\14*ir1* 30\n",
      "E:\\MestradoData\\preprocessed\\all\\10\\01*ir1* 30\n",
      "E:\\MestradoData\\preprocessed\\all\\10\\31*ir1* 30\n",
      "E:\\MestradoData\\preprocessed\\all\\10\\28*ir1* 30\n",
      "E:\\MestradoData\\preprocessed\\all\\10\\03*ir1* 30\n",
      "E:\\MestradoData\\preprocessed\\all\\10\\37*ir1* 0\n",
      "\n"
     ]
    },
    {
     "data": {
      "application/vnd.jupyter.widget-view+json": {
       "model_id": "360b2f15d7e14d3b8c530644106264e9",
       "version_major": 2,
       "version_minor": 0
      },
      "text/html": [
       "<p>Failed to display Jupyter Widget of type <code>HBox</code>.</p>\n",
       "<p>\n",
       "  If you're reading this message in the Jupyter Notebook or JupyterLab Notebook, it may mean\n",
       "  that the widgets JavaScript is still loading. If this message persists, it\n",
       "  likely means that the widgets JavaScript library is either not installed or\n",
       "  not enabled. See the <a href=\"https://ipywidgets.readthedocs.io/en/stable/user_install.html\">Jupyter\n",
       "  Widgets Documentation</a> for setup instructions.\n",
       "</p>\n",
       "<p>\n",
       "  If you're reading this message in another frontend (for example, a static\n",
       "  rendering on GitHub or <a href=\"https://nbviewer.jupyter.org/\">NBViewer</a>),\n",
       "  it may mean that your frontend doesn't currently support widgets.\n",
       "</p>\n"
      ],
      "text/plain": [
       "HBox(children=(IntProgress(value=0, max=7), HTML(value='')))"
      ]
     },
     "metadata": {},
     "output_type": "display_data"
    },
    {
     "name": "stdout",
     "output_type": "stream",
     "text": [
      "E:\\MestradoData\\preprocessed\\all\\10\\13*ir1* 0\n",
      "E:\\MestradoData\\preprocessed\\all\\10\\18*ir1* 0\n",
      "E:\\MestradoData\\preprocessed\\all\\10\\33*ir1* 30\n",
      "E:\\MestradoData\\preprocessed\\all\\10\\19*ir1* 30\n",
      "E:\\MestradoData\\preprocessed\\all\\10\\34*ir1* 30\n",
      "E:\\MestradoData\\preprocessed\\all\\10\\23*ir1* 30\n",
      "E:\\MestradoData\\preprocessed\\all\\10\\04*ir1* 30\n",
      "\n",
      "folders created !\n"
     ]
    },
    {
     "data": {
      "application/vnd.jupyter.widget-view+json": {
       "model_id": "901a656a28034351a9b4cedc1ea2a7bb",
       "version_major": 2,
       "version_minor": 0
      },
      "text/html": [
       "<p>Failed to display Jupyter Widget of type <code>HBox</code>.</p>\n",
       "<p>\n",
       "  If you're reading this message in the Jupyter Notebook or JupyterLab Notebook, it may mean\n",
       "  that the widgets JavaScript is still loading. If this message persists, it\n",
       "  likely means that the widgets JavaScript library is either not installed or\n",
       "  not enabled. See the <a href=\"https://ipywidgets.readthedocs.io/en/stable/user_install.html\">Jupyter\n",
       "  Widgets Documentation</a> for setup instructions.\n",
       "</p>\n",
       "<p>\n",
       "  If you're reading this message in another frontend (for example, a static\n",
       "  rendering on GitHub or <a href=\"https://nbviewer.jupyter.org/\">NBViewer</a>),\n",
       "  it may mean that your frontend doesn't currently support widgets.\n",
       "</p>\n"
      ],
      "text/plain": [
       "HBox(children=(IntProgress(value=0, max=30), HTML(value='')))"
      ]
     },
     "metadata": {},
     "output_type": "display_data"
    },
    {
     "name": "stdout",
     "output_type": "stream",
     "text": [
      "E:\\MestradoData\\preprocessed\\all\\11\\35*ir1* 30\n",
      "E:\\MestradoData\\preprocessed\\all\\11\\05*ir1* 30\n",
      "E:\\MestradoData\\preprocessed\\all\\11\\26*ir1* 30\n",
      "E:\\MestradoData\\preprocessed\\all\\11\\07*ir1* 30\n",
      "E:\\MestradoData\\preprocessed\\all\\11\\25*ir1* 30\n",
      "E:\\MestradoData\\preprocessed\\all\\11\\10*ir1* 30\n",
      "E:\\MestradoData\\preprocessed\\all\\11\\20*ir1* 30\n",
      "E:\\MestradoData\\preprocessed\\all\\11\\22*ir1* 30\n",
      "E:\\MestradoData\\preprocessed\\all\\11\\32*ir1* 30\n",
      "E:\\MestradoData\\preprocessed\\all\\11\\24*ir1* 30\n",
      "E:\\MestradoData\\preprocessed\\all\\11\\12*ir1* 30\n",
      "E:\\MestradoData\\preprocessed\\all\\11\\08*ir1* 30\n",
      "E:\\MestradoData\\preprocessed\\all\\11\\36*ir1* 0\n",
      "E:\\MestradoData\\preprocessed\\all\\11\\11*ir1* 27\n",
      "E:\\MestradoData\\preprocessed\\all\\11\\29*ir1* 30\n",
      "E:\\MestradoData\\preprocessed\\all\\11\\17*ir1* 30\n",
      "E:\\MestradoData\\preprocessed\\all\\11\\02*ir1* 30\n",
      "E:\\MestradoData\\preprocessed\\all\\11\\06*ir1* 30\n",
      "E:\\MestradoData\\preprocessed\\all\\11\\21*ir1* 30\n",
      "E:\\MestradoData\\preprocessed\\all\\11\\09*ir1* 30\n",
      "E:\\MestradoData\\preprocessed\\all\\11\\30*ir1* 30\n",
      "E:\\MestradoData\\preprocessed\\all\\11\\16*ir1* 30\n",
      "E:\\MestradoData\\preprocessed\\all\\11\\27*ir1* 30\n",
      "E:\\MestradoData\\preprocessed\\all\\11\\15*ir1* 30\n",
      "E:\\MestradoData\\preprocessed\\all\\11\\14*ir1* 30\n",
      "E:\\MestradoData\\preprocessed\\all\\11\\01*ir1* 30\n",
      "E:\\MestradoData\\preprocessed\\all\\11\\31*ir1* 30\n",
      "E:\\MestradoData\\preprocessed\\all\\11\\28*ir1* 30\n",
      "E:\\MestradoData\\preprocessed\\all\\11\\03*ir1* 30\n",
      "E:\\MestradoData\\preprocessed\\all\\11\\37*ir1* 0\n",
      "\n"
     ]
    },
    {
     "data": {
      "application/vnd.jupyter.widget-view+json": {
       "model_id": "d6870038de1c4d1a8903e2461a4ae7e1",
       "version_major": 2,
       "version_minor": 0
      },
      "text/html": [
       "<p>Failed to display Jupyter Widget of type <code>HBox</code>.</p>\n",
       "<p>\n",
       "  If you're reading this message in the Jupyter Notebook or JupyterLab Notebook, it may mean\n",
       "  that the widgets JavaScript is still loading. If this message persists, it\n",
       "  likely means that the widgets JavaScript library is either not installed or\n",
       "  not enabled. See the <a href=\"https://ipywidgets.readthedocs.io/en/stable/user_install.html\">Jupyter\n",
       "  Widgets Documentation</a> for setup instructions.\n",
       "</p>\n",
       "<p>\n",
       "  If you're reading this message in another frontend (for example, a static\n",
       "  rendering on GitHub or <a href=\"https://nbviewer.jupyter.org/\">NBViewer</a>),\n",
       "  it may mean that your frontend doesn't currently support widgets.\n",
       "</p>\n"
      ],
      "text/plain": [
       "HBox(children=(IntProgress(value=0, max=7), HTML(value='')))"
      ]
     },
     "metadata": {},
     "output_type": "display_data"
    },
    {
     "name": "stdout",
     "output_type": "stream",
     "text": [
      "E:\\MestradoData\\preprocessed\\all\\11\\13*ir1* 0\n",
      "E:\\MestradoData\\preprocessed\\all\\11\\18*ir1* 0\n",
      "E:\\MestradoData\\preprocessed\\all\\11\\33*ir1* 30\n",
      "E:\\MestradoData\\preprocessed\\all\\11\\19*ir1* 30\n",
      "E:\\MestradoData\\preprocessed\\all\\11\\34*ir1* 30\n",
      "E:\\MestradoData\\preprocessed\\all\\11\\23*ir1* 30\n",
      "E:\\MestradoData\\preprocessed\\all\\11\\04*ir1* 30\n",
      "\n",
      "folders created !\n"
     ]
    },
    {
     "data": {
      "application/vnd.jupyter.widget-view+json": {
       "model_id": "52344031f79f419881b1102b1be58ec3",
       "version_major": 2,
       "version_minor": 0
      },
      "text/html": [
       "<p>Failed to display Jupyter Widget of type <code>HBox</code>.</p>\n",
       "<p>\n",
       "  If you're reading this message in the Jupyter Notebook or JupyterLab Notebook, it may mean\n",
       "  that the widgets JavaScript is still loading. If this message persists, it\n",
       "  likely means that the widgets JavaScript library is either not installed or\n",
       "  not enabled. See the <a href=\"https://ipywidgets.readthedocs.io/en/stable/user_install.html\">Jupyter\n",
       "  Widgets Documentation</a> for setup instructions.\n",
       "</p>\n",
       "<p>\n",
       "  If you're reading this message in another frontend (for example, a static\n",
       "  rendering on GitHub or <a href=\"https://nbviewer.jupyter.org/\">NBViewer</a>),\n",
       "  it may mean that your frontend doesn't currently support widgets.\n",
       "</p>\n"
      ],
      "text/plain": [
       "HBox(children=(IntProgress(value=0, max=30), HTML(value='')))"
      ]
     },
     "metadata": {},
     "output_type": "display_data"
    },
    {
     "name": "stdout",
     "output_type": "stream",
     "text": [
      "E:\\MestradoData\\preprocessed\\all\\12\\35*ir1* 30\n",
      "E:\\MestradoData\\preprocessed\\all\\12\\05*ir1* 30\n",
      "E:\\MestradoData\\preprocessed\\all\\12\\26*ir1* 30\n",
      "E:\\MestradoData\\preprocessed\\all\\12\\07*ir1* 30\n",
      "E:\\MestradoData\\preprocessed\\all\\12\\25*ir1* 30\n",
      "E:\\MestradoData\\preprocessed\\all\\12\\10*ir1* 30\n",
      "E:\\MestradoData\\preprocessed\\all\\12\\20*ir1* 30\n",
      "E:\\MestradoData\\preprocessed\\all\\12\\22*ir1* 30\n",
      "E:\\MestradoData\\preprocessed\\all\\12\\32*ir1* 30\n",
      "E:\\MestradoData\\preprocessed\\all\\12\\24*ir1* 30\n",
      "E:\\MestradoData\\preprocessed\\all\\12\\12*ir1* 30\n",
      "E:\\MestradoData\\preprocessed\\all\\12\\08*ir1* 30\n",
      "E:\\MestradoData\\preprocessed\\all\\12\\36*ir1* 0\n",
      "E:\\MestradoData\\preprocessed\\all\\12\\11*ir1* 27\n",
      "E:\\MestradoData\\preprocessed\\all\\12\\29*ir1* 30\n",
      "E:\\MestradoData\\preprocessed\\all\\12\\17*ir1* 30\n",
      "E:\\MestradoData\\preprocessed\\all\\12\\02*ir1* 30\n",
      "E:\\MestradoData\\preprocessed\\all\\12\\06*ir1* 30\n",
      "E:\\MestradoData\\preprocessed\\all\\12\\21*ir1* 30\n",
      "E:\\MestradoData\\preprocessed\\all\\12\\09*ir1* 30\n",
      "E:\\MestradoData\\preprocessed\\all\\12\\30*ir1* 30\n",
      "E:\\MestradoData\\preprocessed\\all\\12\\16*ir1* 30\n",
      "E:\\MestradoData\\preprocessed\\all\\12\\27*ir1* 30\n",
      "E:\\MestradoData\\preprocessed\\all\\12\\15*ir1* 30\n",
      "E:\\MestradoData\\preprocessed\\all\\12\\14*ir1* 30\n",
      "E:\\MestradoData\\preprocessed\\all\\12\\01*ir1* 30\n",
      "E:\\MestradoData\\preprocessed\\all\\12\\31*ir1* 30\n",
      "E:\\MestradoData\\preprocessed\\all\\12\\28*ir1* 30\n",
      "E:\\MestradoData\\preprocessed\\all\\12\\03*ir1* 30\n",
      "E:\\MestradoData\\preprocessed\\all\\12\\37*ir1* 0\n",
      "\n"
     ]
    },
    {
     "data": {
      "application/vnd.jupyter.widget-view+json": {
       "model_id": "6e02ae16ac5b4a90a68acc05053adb55",
       "version_major": 2,
       "version_minor": 0
      },
      "text/html": [
       "<p>Failed to display Jupyter Widget of type <code>HBox</code>.</p>\n",
       "<p>\n",
       "  If you're reading this message in the Jupyter Notebook or JupyterLab Notebook, it may mean\n",
       "  that the widgets JavaScript is still loading. If this message persists, it\n",
       "  likely means that the widgets JavaScript library is either not installed or\n",
       "  not enabled. See the <a href=\"https://ipywidgets.readthedocs.io/en/stable/user_install.html\">Jupyter\n",
       "  Widgets Documentation</a> for setup instructions.\n",
       "</p>\n",
       "<p>\n",
       "  If you're reading this message in another frontend (for example, a static\n",
       "  rendering on GitHub or <a href=\"https://nbviewer.jupyter.org/\">NBViewer</a>),\n",
       "  it may mean that your frontend doesn't currently support widgets.\n",
       "</p>\n"
      ],
      "text/plain": [
       "HBox(children=(IntProgress(value=0, max=7), HTML(value='')))"
      ]
     },
     "metadata": {},
     "output_type": "display_data"
    },
    {
     "name": "stdout",
     "output_type": "stream",
     "text": [
      "E:\\MestradoData\\preprocessed\\all\\12\\13*ir1* 0\n",
      "E:\\MestradoData\\preprocessed\\all\\12\\18*ir1* 0\n",
      "E:\\MestradoData\\preprocessed\\all\\12\\33*ir1* 30\n",
      "E:\\MestradoData\\preprocessed\\all\\12\\19*ir1* 30\n",
      "E:\\MestradoData\\preprocessed\\all\\12\\34*ir1* 30\n",
      "E:\\MestradoData\\preprocessed\\all\\12\\23*ir1* 30\n",
      "E:\\MestradoData\\preprocessed\\all\\12\\04*ir1* 30\n",
      "\n",
      "folders created !\n"
     ]
    },
    {
     "data": {
      "application/vnd.jupyter.widget-view+json": {
       "model_id": "9352a4a55d1a4ab4a3b9b5ad14e5b389",
       "version_major": 2,
       "version_minor": 0
      },
      "text/html": [
       "<p>Failed to display Jupyter Widget of type <code>HBox</code>.</p>\n",
       "<p>\n",
       "  If you're reading this message in the Jupyter Notebook or JupyterLab Notebook, it may mean\n",
       "  that the widgets JavaScript is still loading. If this message persists, it\n",
       "  likely means that the widgets JavaScript library is either not installed or\n",
       "  not enabled. See the <a href=\"https://ipywidgets.readthedocs.io/en/stable/user_install.html\">Jupyter\n",
       "  Widgets Documentation</a> for setup instructions.\n",
       "</p>\n",
       "<p>\n",
       "  If you're reading this message in another frontend (for example, a static\n",
       "  rendering on GitHub or <a href=\"https://nbviewer.jupyter.org/\">NBViewer</a>),\n",
       "  it may mean that your frontend doesn't currently support widgets.\n",
       "</p>\n"
      ],
      "text/plain": [
       "HBox(children=(IntProgress(value=0, max=30), HTML(value='')))"
      ]
     },
     "metadata": {},
     "output_type": "display_data"
    },
    {
     "name": "stdout",
     "output_type": "stream",
     "text": [
      "E:\\MestradoData\\preprocessed\\all\\13\\35*ir1* 30\n",
      "E:\\MestradoData\\preprocessed\\all\\13\\05*ir1* 30\n",
      "E:\\MestradoData\\preprocessed\\all\\13\\26*ir1* 30\n",
      "E:\\MestradoData\\preprocessed\\all\\13\\07*ir1* 30\n",
      "E:\\MestradoData\\preprocessed\\all\\13\\25*ir1* 30\n",
      "E:\\MestradoData\\preprocessed\\all\\13\\10*ir1* 30\n",
      "E:\\MestradoData\\preprocessed\\all\\13\\20*ir1* 30\n",
      "E:\\MestradoData\\preprocessed\\all\\13\\22*ir1* 30\n",
      "E:\\MestradoData\\preprocessed\\all\\13\\32*ir1* 30\n",
      "E:\\MestradoData\\preprocessed\\all\\13\\24*ir1* 30\n",
      "E:\\MestradoData\\preprocessed\\all\\13\\12*ir1* 30\n",
      "E:\\MestradoData\\preprocessed\\all\\13\\08*ir1* 30\n",
      "E:\\MestradoData\\preprocessed\\all\\13\\36*ir1* 0\n",
      "E:\\MestradoData\\preprocessed\\all\\13\\11*ir1* 27\n",
      "E:\\MestradoData\\preprocessed\\all\\13\\29*ir1* 30\n",
      "E:\\MestradoData\\preprocessed\\all\\13\\17*ir1* 30\n",
      "E:\\MestradoData\\preprocessed\\all\\13\\02*ir1* 30\n",
      "E:\\MestradoData\\preprocessed\\all\\13\\06*ir1* 30\n",
      "E:\\MestradoData\\preprocessed\\all\\13\\21*ir1* 30\n",
      "E:\\MestradoData\\preprocessed\\all\\13\\09*ir1* 30\n",
      "E:\\MestradoData\\preprocessed\\all\\13\\30*ir1* 30\n",
      "E:\\MestradoData\\preprocessed\\all\\13\\16*ir1* 30\n",
      "E:\\MestradoData\\preprocessed\\all\\13\\27*ir1* 30\n",
      "E:\\MestradoData\\preprocessed\\all\\13\\15*ir1* 30\n",
      "E:\\MestradoData\\preprocessed\\all\\13\\14*ir1* 30\n",
      "E:\\MestradoData\\preprocessed\\all\\13\\01*ir1* 30\n",
      "E:\\MestradoData\\preprocessed\\all\\13\\31*ir1* 30\n",
      "E:\\MestradoData\\preprocessed\\all\\13\\28*ir1* 30\n",
      "E:\\MestradoData\\preprocessed\\all\\13\\03*ir1* 30\n",
      "E:\\MestradoData\\preprocessed\\all\\13\\37*ir1* 0\n",
      "\n"
     ]
    },
    {
     "data": {
      "application/vnd.jupyter.widget-view+json": {
       "model_id": "96f8dca1d7b24fdcabb97b5386709120",
       "version_major": 2,
       "version_minor": 0
      },
      "text/html": [
       "<p>Failed to display Jupyter Widget of type <code>HBox</code>.</p>\n",
       "<p>\n",
       "  If you're reading this message in the Jupyter Notebook or JupyterLab Notebook, it may mean\n",
       "  that the widgets JavaScript is still loading. If this message persists, it\n",
       "  likely means that the widgets JavaScript library is either not installed or\n",
       "  not enabled. See the <a href=\"https://ipywidgets.readthedocs.io/en/stable/user_install.html\">Jupyter\n",
       "  Widgets Documentation</a> for setup instructions.\n",
       "</p>\n",
       "<p>\n",
       "  If you're reading this message in another frontend (for example, a static\n",
       "  rendering on GitHub or <a href=\"https://nbviewer.jupyter.org/\">NBViewer</a>),\n",
       "  it may mean that your frontend doesn't currently support widgets.\n",
       "</p>\n"
      ],
      "text/plain": [
       "HBox(children=(IntProgress(value=0, max=7), HTML(value='')))"
      ]
     },
     "metadata": {},
     "output_type": "display_data"
    },
    {
     "name": "stdout",
     "output_type": "stream",
     "text": [
      "E:\\MestradoData\\preprocessed\\all\\13\\13*ir1* 0\n",
      "E:\\MestradoData\\preprocessed\\all\\13\\18*ir1* 0\n",
      "E:\\MestradoData\\preprocessed\\all\\13\\33*ir1* 30\n",
      "E:\\MestradoData\\preprocessed\\all\\13\\19*ir1* 30\n",
      "E:\\MestradoData\\preprocessed\\all\\13\\34*ir1* 30\n",
      "E:\\MestradoData\\preprocessed\\all\\13\\23*ir1* 30\n",
      "E:\\MestradoData\\preprocessed\\all\\13\\04*ir1* 30\n",
      "\n",
      "folders created !\n"
     ]
    },
    {
     "data": {
      "application/vnd.jupyter.widget-view+json": {
       "model_id": "16fcad8c9cee49b183a9439ac488b388",
       "version_major": 2,
       "version_minor": 0
      },
      "text/html": [
       "<p>Failed to display Jupyter Widget of type <code>HBox</code>.</p>\n",
       "<p>\n",
       "  If you're reading this message in the Jupyter Notebook or JupyterLab Notebook, it may mean\n",
       "  that the widgets JavaScript is still loading. If this message persists, it\n",
       "  likely means that the widgets JavaScript library is either not installed or\n",
       "  not enabled. See the <a href=\"https://ipywidgets.readthedocs.io/en/stable/user_install.html\">Jupyter\n",
       "  Widgets Documentation</a> for setup instructions.\n",
       "</p>\n",
       "<p>\n",
       "  If you're reading this message in another frontend (for example, a static\n",
       "  rendering on GitHub or <a href=\"https://nbviewer.jupyter.org/\">NBViewer</a>),\n",
       "  it may mean that your frontend doesn't currently support widgets.\n",
       "</p>\n"
      ],
      "text/plain": [
       "HBox(children=(IntProgress(value=0, max=30), HTML(value='')))"
      ]
     },
     "metadata": {},
     "output_type": "display_data"
    },
    {
     "name": "stdout",
     "output_type": "stream",
     "text": [
      "E:\\MestradoData\\preprocessed\\all\\14\\35*ir1* 30\n",
      "E:\\MestradoData\\preprocessed\\all\\14\\05*ir1* 30\n",
      "E:\\MestradoData\\preprocessed\\all\\14\\26*ir1* 30\n",
      "E:\\MestradoData\\preprocessed\\all\\14\\07*ir1* 30\n",
      "E:\\MestradoData\\preprocessed\\all\\14\\25*ir1* 30\n",
      "E:\\MestradoData\\preprocessed\\all\\14\\10*ir1* 30\n",
      "E:\\MestradoData\\preprocessed\\all\\14\\20*ir1* 30\n",
      "E:\\MestradoData\\preprocessed\\all\\14\\22*ir1* 30\n",
      "E:\\MestradoData\\preprocessed\\all\\14\\32*ir1* 30\n",
      "E:\\MestradoData\\preprocessed\\all\\14\\24*ir1* 30\n",
      "E:\\MestradoData\\preprocessed\\all\\14\\12*ir1* 30\n",
      "E:\\MestradoData\\preprocessed\\all\\14\\08*ir1* 30\n",
      "E:\\MestradoData\\preprocessed\\all\\14\\36*ir1* 0\n",
      "E:\\MestradoData\\preprocessed\\all\\14\\11*ir1* 27\n",
      "E:\\MestradoData\\preprocessed\\all\\14\\29*ir1* 30\n",
      "E:\\MestradoData\\preprocessed\\all\\14\\17*ir1* 30\n",
      "E:\\MestradoData\\preprocessed\\all\\14\\02*ir1* 30\n",
      "E:\\MestradoData\\preprocessed\\all\\14\\06*ir1* 30\n",
      "E:\\MestradoData\\preprocessed\\all\\14\\21*ir1* 30\n",
      "E:\\MestradoData\\preprocessed\\all\\14\\09*ir1* 30\n",
      "E:\\MestradoData\\preprocessed\\all\\14\\30*ir1* 30\n",
      "E:\\MestradoData\\preprocessed\\all\\14\\16*ir1* 30\n",
      "E:\\MestradoData\\preprocessed\\all\\14\\27*ir1* 30\n",
      "E:\\MestradoData\\preprocessed\\all\\14\\15*ir1* 30\n",
      "E:\\MestradoData\\preprocessed\\all\\14\\14*ir1* 30\n",
      "E:\\MestradoData\\preprocessed\\all\\14\\01*ir1* 30\n",
      "E:\\MestradoData\\preprocessed\\all\\14\\31*ir1* 30\n",
      "E:\\MestradoData\\preprocessed\\all\\14\\28*ir1* 30\n",
      "E:\\MestradoData\\preprocessed\\all\\14\\03*ir1* 30\n",
      "E:\\MestradoData\\preprocessed\\all\\14\\37*ir1* 0\n",
      "\n"
     ]
    },
    {
     "data": {
      "application/vnd.jupyter.widget-view+json": {
       "model_id": "5dd0856adb6d4a8d91120ddd8be86c59",
       "version_major": 2,
       "version_minor": 0
      },
      "text/html": [
       "<p>Failed to display Jupyter Widget of type <code>HBox</code>.</p>\n",
       "<p>\n",
       "  If you're reading this message in the Jupyter Notebook or JupyterLab Notebook, it may mean\n",
       "  that the widgets JavaScript is still loading. If this message persists, it\n",
       "  likely means that the widgets JavaScript library is either not installed or\n",
       "  not enabled. See the <a href=\"https://ipywidgets.readthedocs.io/en/stable/user_install.html\">Jupyter\n",
       "  Widgets Documentation</a> for setup instructions.\n",
       "</p>\n",
       "<p>\n",
       "  If you're reading this message in another frontend (for example, a static\n",
       "  rendering on GitHub or <a href=\"https://nbviewer.jupyter.org/\">NBViewer</a>),\n",
       "  it may mean that your frontend doesn't currently support widgets.\n",
       "</p>\n"
      ],
      "text/plain": [
       "HBox(children=(IntProgress(value=0, max=7), HTML(value='')))"
      ]
     },
     "metadata": {},
     "output_type": "display_data"
    },
    {
     "name": "stdout",
     "output_type": "stream",
     "text": [
      "E:\\MestradoData\\preprocessed\\all\\14\\13*ir1* 0\n",
      "E:\\MestradoData\\preprocessed\\all\\14\\18*ir1* 0\n",
      "E:\\MestradoData\\preprocessed\\all\\14\\33*ir1* 0\n",
      "E:\\MestradoData\\preprocessed\\all\\14\\19*ir1* 30\n",
      "E:\\MestradoData\\preprocessed\\all\\14\\34*ir1* 30\n",
      "E:\\MestradoData\\preprocessed\\all\\14\\23*ir1* 30\n",
      "E:\\MestradoData\\preprocessed\\all\\14\\04*ir1* 30\n",
      "\n",
      "folders created !\n"
     ]
    },
    {
     "data": {
      "application/vnd.jupyter.widget-view+json": {
       "model_id": "a194dd54f9464612a9163fb47748c848",
       "version_major": 2,
       "version_minor": 0
      },
      "text/html": [
       "<p>Failed to display Jupyter Widget of type <code>HBox</code>.</p>\n",
       "<p>\n",
       "  If you're reading this message in the Jupyter Notebook or JupyterLab Notebook, it may mean\n",
       "  that the widgets JavaScript is still loading. If this message persists, it\n",
       "  likely means that the widgets JavaScript library is either not installed or\n",
       "  not enabled. See the <a href=\"https://ipywidgets.readthedocs.io/en/stable/user_install.html\">Jupyter\n",
       "  Widgets Documentation</a> for setup instructions.\n",
       "</p>\n",
       "<p>\n",
       "  If you're reading this message in another frontend (for example, a static\n",
       "  rendering on GitHub or <a href=\"https://nbviewer.jupyter.org/\">NBViewer</a>),\n",
       "  it may mean that your frontend doesn't currently support widgets.\n",
       "</p>\n"
      ],
      "text/plain": [
       "HBox(children=(IntProgress(value=0, max=30), HTML(value='')))"
      ]
     },
     "metadata": {},
     "output_type": "display_data"
    },
    {
     "name": "stdout",
     "output_type": "stream",
     "text": [
      "E:\\MestradoData\\preprocessed\\all\\15\\35*ir1* 30\n",
      "E:\\MestradoData\\preprocessed\\all\\15\\05*ir1* 0\n",
      "E:\\MestradoData\\preprocessed\\all\\15\\26*ir1* 30\n",
      "E:\\MestradoData\\preprocessed\\all\\15\\07*ir1* 30\n",
      "E:\\MestradoData\\preprocessed\\all\\15\\25*ir1* 30\n",
      "E:\\MestradoData\\preprocessed\\all\\15\\10*ir1* 30\n",
      "E:\\MestradoData\\preprocessed\\all\\15\\20*ir1* 30\n",
      "E:\\MestradoData\\preprocessed\\all\\15\\22*ir1* 30\n",
      "E:\\MestradoData\\preprocessed\\all\\15\\32*ir1* 30\n",
      "E:\\MestradoData\\preprocessed\\all\\15\\24*ir1* 30\n",
      "E:\\MestradoData\\preprocessed\\all\\15\\12*ir1* 30\n",
      "E:\\MestradoData\\preprocessed\\all\\15\\08*ir1* 30\n",
      "E:\\MestradoData\\preprocessed\\all\\15\\36*ir1* 0\n",
      "E:\\MestradoData\\preprocessed\\all\\15\\11*ir1* 27\n",
      "E:\\MestradoData\\preprocessed\\all\\15\\29*ir1* 30\n",
      "E:\\MestradoData\\preprocessed\\all\\15\\17*ir1* 30\n",
      "E:\\MestradoData\\preprocessed\\all\\15\\02*ir1* 30\n",
      "E:\\MestradoData\\preprocessed\\all\\15\\06*ir1* 30\n",
      "E:\\MestradoData\\preprocessed\\all\\15\\21*ir1* 30\n",
      "E:\\MestradoData\\preprocessed\\all\\15\\09*ir1* 30\n",
      "E:\\MestradoData\\preprocessed\\all\\15\\30*ir1* 30\n",
      "E:\\MestradoData\\preprocessed\\all\\15\\16*ir1* 30\n",
      "E:\\MestradoData\\preprocessed\\all\\15\\27*ir1* 30\n",
      "E:\\MestradoData\\preprocessed\\all\\15\\15*ir1* 30\n",
      "E:\\MestradoData\\preprocessed\\all\\15\\14*ir1* 30\n",
      "E:\\MestradoData\\preprocessed\\all\\15\\01*ir1* 30\n",
      "E:\\MestradoData\\preprocessed\\all\\15\\31*ir1* 30\n",
      "E:\\MestradoData\\preprocessed\\all\\15\\28*ir1* 30\n",
      "E:\\MestradoData\\preprocessed\\all\\15\\03*ir1* 30\n",
      "E:\\MestradoData\\preprocessed\\all\\15\\37*ir1* 0\n",
      "\n"
     ]
    },
    {
     "data": {
      "application/vnd.jupyter.widget-view+json": {
       "model_id": "bcd7a484ae6e4f799401971458668753",
       "version_major": 2,
       "version_minor": 0
      },
      "text/html": [
       "<p>Failed to display Jupyter Widget of type <code>HBox</code>.</p>\n",
       "<p>\n",
       "  If you're reading this message in the Jupyter Notebook or JupyterLab Notebook, it may mean\n",
       "  that the widgets JavaScript is still loading. If this message persists, it\n",
       "  likely means that the widgets JavaScript library is either not installed or\n",
       "  not enabled. See the <a href=\"https://ipywidgets.readthedocs.io/en/stable/user_install.html\">Jupyter\n",
       "  Widgets Documentation</a> for setup instructions.\n",
       "</p>\n",
       "<p>\n",
       "  If you're reading this message in another frontend (for example, a static\n",
       "  rendering on GitHub or <a href=\"https://nbviewer.jupyter.org/\">NBViewer</a>),\n",
       "  it may mean that your frontend doesn't currently support widgets.\n",
       "</p>\n"
      ],
      "text/plain": [
       "HBox(children=(IntProgress(value=0, max=7), HTML(value='')))"
      ]
     },
     "metadata": {},
     "output_type": "display_data"
    },
    {
     "name": "stdout",
     "output_type": "stream",
     "text": [
      "E:\\MestradoData\\preprocessed\\all\\15\\13*ir1* 0\n",
      "E:\\MestradoData\\preprocessed\\all\\15\\18*ir1* 0\n",
      "E:\\MestradoData\\preprocessed\\all\\15\\33*ir1* 30\n",
      "E:\\MestradoData\\preprocessed\\all\\15\\19*ir1* 30\n",
      "E:\\MestradoData\\preprocessed\\all\\15\\34*ir1* 30\n",
      "E:\\MestradoData\\preprocessed\\all\\15\\23*ir1* 30\n",
      "E:\\MestradoData\\preprocessed\\all\\15\\04*ir1* 30\n",
      "\n",
      "folders created !\n"
     ]
    },
    {
     "data": {
      "application/vnd.jupyter.widget-view+json": {
       "model_id": "7ca79aac3cc04f1d8e0fb3f8465ddd7c",
       "version_major": 2,
       "version_minor": 0
      },
      "text/html": [
       "<p>Failed to display Jupyter Widget of type <code>HBox</code>.</p>\n",
       "<p>\n",
       "  If you're reading this message in the Jupyter Notebook or JupyterLab Notebook, it may mean\n",
       "  that the widgets JavaScript is still loading. If this message persists, it\n",
       "  likely means that the widgets JavaScript library is either not installed or\n",
       "  not enabled. See the <a href=\"https://ipywidgets.readthedocs.io/en/stable/user_install.html\">Jupyter\n",
       "  Widgets Documentation</a> for setup instructions.\n",
       "</p>\n",
       "<p>\n",
       "  If you're reading this message in another frontend (for example, a static\n",
       "  rendering on GitHub or <a href=\"https://nbviewer.jupyter.org/\">NBViewer</a>),\n",
       "  it may mean that your frontend doesn't currently support widgets.\n",
       "</p>\n"
      ],
      "text/plain": [
       "HBox(children=(IntProgress(value=0, max=30), HTML(value='')))"
      ]
     },
     "metadata": {},
     "output_type": "display_data"
    },
    {
     "name": "stdout",
     "output_type": "stream",
     "text": [
      "E:\\MestradoData\\preprocessed\\all\\16\\35*ir1* 30\n",
      "E:\\MestradoData\\preprocessed\\all\\16\\05*ir1* 30\n",
      "E:\\MestradoData\\preprocessed\\all\\16\\26*ir1* 30\n",
      "E:\\MestradoData\\preprocessed\\all\\16\\07*ir1* 30\n",
      "E:\\MestradoData\\preprocessed\\all\\16\\25*ir1* 30\n",
      "E:\\MestradoData\\preprocessed\\all\\16\\10*ir1* 30\n",
      "E:\\MestradoData\\preprocessed\\all\\16\\20*ir1* 30\n",
      "E:\\MestradoData\\preprocessed\\all\\16\\22*ir1* 30\n",
      "E:\\MestradoData\\preprocessed\\all\\16\\32*ir1* 30\n",
      "E:\\MestradoData\\preprocessed\\all\\16\\24*ir1* 30\n",
      "E:\\MestradoData\\preprocessed\\all\\16\\12*ir1* 30\n",
      "E:\\MestradoData\\preprocessed\\all\\16\\08*ir1* 30\n",
      "E:\\MestradoData\\preprocessed\\all\\16\\36*ir1* 0\n",
      "E:\\MestradoData\\preprocessed\\all\\16\\11*ir1* 27\n",
      "E:\\MestradoData\\preprocessed\\all\\16\\29*ir1* 30\n",
      "E:\\MestradoData\\preprocessed\\all\\16\\17*ir1* 30\n",
      "E:\\MestradoData\\preprocessed\\all\\16\\02*ir1* 30\n",
      "E:\\MestradoData\\preprocessed\\all\\16\\06*ir1* 30\n",
      "E:\\MestradoData\\preprocessed\\all\\16\\21*ir1* 30\n",
      "E:\\MestradoData\\preprocessed\\all\\16\\09*ir1* 30\n",
      "E:\\MestradoData\\preprocessed\\all\\16\\30*ir1* 30\n",
      "E:\\MestradoData\\preprocessed\\all\\16\\16*ir1* 30\n",
      "E:\\MestradoData\\preprocessed\\all\\16\\27*ir1* 30\n",
      "E:\\MestradoData\\preprocessed\\all\\16\\15*ir1* 30\n",
      "E:\\MestradoData\\preprocessed\\all\\16\\14*ir1* 30\n",
      "E:\\MestradoData\\preprocessed\\all\\16\\01*ir1* 30\n",
      "E:\\MestradoData\\preprocessed\\all\\16\\31*ir1* 30\n",
      "E:\\MestradoData\\preprocessed\\all\\16\\28*ir1* 30\n",
      "E:\\MestradoData\\preprocessed\\all\\16\\03*ir1* 30\n",
      "E:\\MestradoData\\preprocessed\\all\\16\\37*ir1* 0\n",
      "\n"
     ]
    },
    {
     "data": {
      "application/vnd.jupyter.widget-view+json": {
       "model_id": "fbbb0e7c65a34f2cae43f543fa893658",
       "version_major": 2,
       "version_minor": 0
      },
      "text/html": [
       "<p>Failed to display Jupyter Widget of type <code>HBox</code>.</p>\n",
       "<p>\n",
       "  If you're reading this message in the Jupyter Notebook or JupyterLab Notebook, it may mean\n",
       "  that the widgets JavaScript is still loading. If this message persists, it\n",
       "  likely means that the widgets JavaScript library is either not installed or\n",
       "  not enabled. See the <a href=\"https://ipywidgets.readthedocs.io/en/stable/user_install.html\">Jupyter\n",
       "  Widgets Documentation</a> for setup instructions.\n",
       "</p>\n",
       "<p>\n",
       "  If you're reading this message in another frontend (for example, a static\n",
       "  rendering on GitHub or <a href=\"https://nbviewer.jupyter.org/\">NBViewer</a>),\n",
       "  it may mean that your frontend doesn't currently support widgets.\n",
       "</p>\n"
      ],
      "text/plain": [
       "HBox(children=(IntProgress(value=0, max=7), HTML(value='')))"
      ]
     },
     "metadata": {},
     "output_type": "display_data"
    },
    {
     "name": "stdout",
     "output_type": "stream",
     "text": [
      "E:\\MestradoData\\preprocessed\\all\\16\\13*ir1* 0\n",
      "E:\\MestradoData\\preprocessed\\all\\16\\18*ir1* 0\n",
      "E:\\MestradoData\\preprocessed\\all\\16\\33*ir1* 30\n",
      "E:\\MestradoData\\preprocessed\\all\\16\\19*ir1* 30\n",
      "E:\\MestradoData\\preprocessed\\all\\16\\34*ir1* 30\n",
      "E:\\MestradoData\\preprocessed\\all\\16\\23*ir1* 30\n",
      "E:\\MestradoData\\preprocessed\\all\\16\\04*ir1* 30\n",
      "\n",
      "folders created !\n"
     ]
    },
    {
     "data": {
      "application/vnd.jupyter.widget-view+json": {
       "model_id": "9be8f9926c2b4ffd8ccd94799f1233a9",
       "version_major": 2,
       "version_minor": 0
      },
      "text/html": [
       "<p>Failed to display Jupyter Widget of type <code>HBox</code>.</p>\n",
       "<p>\n",
       "  If you're reading this message in the Jupyter Notebook or JupyterLab Notebook, it may mean\n",
       "  that the widgets JavaScript is still loading. If this message persists, it\n",
       "  likely means that the widgets JavaScript library is either not installed or\n",
       "  not enabled. See the <a href=\"https://ipywidgets.readthedocs.io/en/stable/user_install.html\">Jupyter\n",
       "  Widgets Documentation</a> for setup instructions.\n",
       "</p>\n",
       "<p>\n",
       "  If you're reading this message in another frontend (for example, a static\n",
       "  rendering on GitHub or <a href=\"https://nbviewer.jupyter.org/\">NBViewer</a>),\n",
       "  it may mean that your frontend doesn't currently support widgets.\n",
       "</p>\n"
      ],
      "text/plain": [
       "HBox(children=(IntProgress(value=0, max=30), HTML(value='')))"
      ]
     },
     "metadata": {},
     "output_type": "display_data"
    },
    {
     "name": "stdout",
     "output_type": "stream",
     "text": [
      "E:\\MestradoData\\preprocessed\\all\\17\\35*ir1* 30\n",
      "E:\\MestradoData\\preprocessed\\all\\17\\05*ir1* 30\n",
      "E:\\MestradoData\\preprocessed\\all\\17\\26*ir1* 30\n",
      "E:\\MestradoData\\preprocessed\\all\\17\\07*ir1* 30\n",
      "E:\\MestradoData\\preprocessed\\all\\17\\25*ir1* 30\n",
      "E:\\MestradoData\\preprocessed\\all\\17\\10*ir1* 30\n",
      "E:\\MestradoData\\preprocessed\\all\\17\\20*ir1* 30\n",
      "E:\\MestradoData\\preprocessed\\all\\17\\22*ir1* 30\n",
      "E:\\MestradoData\\preprocessed\\all\\17\\32*ir1* 30\n",
      "E:\\MestradoData\\preprocessed\\all\\17\\24*ir1* 0\n",
      "E:\\MestradoData\\preprocessed\\all\\17\\12*ir1* 30\n",
      "E:\\MestradoData\\preprocessed\\all\\17\\08*ir1* 30\n",
      "E:\\MestradoData\\preprocessed\\all\\17\\36*ir1* 0\n",
      "E:\\MestradoData\\preprocessed\\all\\17\\11*ir1* 27\n",
      "E:\\MestradoData\\preprocessed\\all\\17\\29*ir1* 30\n",
      "E:\\MestradoData\\preprocessed\\all\\17\\17*ir1* 30\n",
      "E:\\MestradoData\\preprocessed\\all\\17\\02*ir1* 30\n",
      "E:\\MestradoData\\preprocessed\\all\\17\\06*ir1* 30\n",
      "E:\\MestradoData\\preprocessed\\all\\17\\21*ir1* 30\n",
      "E:\\MestradoData\\preprocessed\\all\\17\\09*ir1* 30\n",
      "E:\\MestradoData\\preprocessed\\all\\17\\30*ir1* 30\n",
      "E:\\MestradoData\\preprocessed\\all\\17\\16*ir1* 30\n",
      "E:\\MestradoData\\preprocessed\\all\\17\\27*ir1* 30\n",
      "E:\\MestradoData\\preprocessed\\all\\17\\15*ir1* 30\n",
      "E:\\MestradoData\\preprocessed\\all\\17\\14*ir1* 30\n",
      "E:\\MestradoData\\preprocessed\\all\\17\\01*ir1* 30\n",
      "E:\\MestradoData\\preprocessed\\all\\17\\31*ir1* 30\n",
      "E:\\MestradoData\\preprocessed\\all\\17\\28*ir1* 30\n",
      "E:\\MestradoData\\preprocessed\\all\\17\\03*ir1* 30\n",
      "E:\\MestradoData\\preprocessed\\all\\17\\37*ir1* 0\n",
      "\n"
     ]
    },
    {
     "data": {
      "application/vnd.jupyter.widget-view+json": {
       "model_id": "5fd7131f0e8342dca6375cc715c1149d",
       "version_major": 2,
       "version_minor": 0
      },
      "text/html": [
       "<p>Failed to display Jupyter Widget of type <code>HBox</code>.</p>\n",
       "<p>\n",
       "  If you're reading this message in the Jupyter Notebook or JupyterLab Notebook, it may mean\n",
       "  that the widgets JavaScript is still loading. If this message persists, it\n",
       "  likely means that the widgets JavaScript library is either not installed or\n",
       "  not enabled. See the <a href=\"https://ipywidgets.readthedocs.io/en/stable/user_install.html\">Jupyter\n",
       "  Widgets Documentation</a> for setup instructions.\n",
       "</p>\n",
       "<p>\n",
       "  If you're reading this message in another frontend (for example, a static\n",
       "  rendering on GitHub or <a href=\"https://nbviewer.jupyter.org/\">NBViewer</a>),\n",
       "  it may mean that your frontend doesn't currently support widgets.\n",
       "</p>\n"
      ],
      "text/plain": [
       "HBox(children=(IntProgress(value=0, max=7), HTML(value='')))"
      ]
     },
     "metadata": {},
     "output_type": "display_data"
    },
    {
     "name": "stdout",
     "output_type": "stream",
     "text": [
      "E:\\MestradoData\\preprocessed\\all\\17\\13*ir1* 0\n",
      "E:\\MestradoData\\preprocessed\\all\\17\\18*ir1* 0\n",
      "E:\\MestradoData\\preprocessed\\all\\17\\33*ir1* 30\n",
      "E:\\MestradoData\\preprocessed\\all\\17\\19*ir1* 30\n",
      "E:\\MestradoData\\preprocessed\\all\\17\\34*ir1* 30\n",
      "E:\\MestradoData\\preprocessed\\all\\17\\23*ir1* 30\n",
      "E:\\MestradoData\\preprocessed\\all\\17\\04*ir1* 30\n",
      "\n",
      "folders created !\n"
     ]
    },
    {
     "data": {
      "application/vnd.jupyter.widget-view+json": {
       "model_id": "171e4a64cd05499cb0c45d5878d3288b",
       "version_major": 2,
       "version_minor": 0
      },
      "text/html": [
       "<p>Failed to display Jupyter Widget of type <code>HBox</code>.</p>\n",
       "<p>\n",
       "  If you're reading this message in the Jupyter Notebook or JupyterLab Notebook, it may mean\n",
       "  that the widgets JavaScript is still loading. If this message persists, it\n",
       "  likely means that the widgets JavaScript library is either not installed or\n",
       "  not enabled. See the <a href=\"https://ipywidgets.readthedocs.io/en/stable/user_install.html\">Jupyter\n",
       "  Widgets Documentation</a> for setup instructions.\n",
       "</p>\n",
       "<p>\n",
       "  If you're reading this message in another frontend (for example, a static\n",
       "  rendering on GitHub or <a href=\"https://nbviewer.jupyter.org/\">NBViewer</a>),\n",
       "  it may mean that your frontend doesn't currently support widgets.\n",
       "</p>\n"
      ],
      "text/plain": [
       "HBox(children=(IntProgress(value=0, max=30), HTML(value='')))"
      ]
     },
     "metadata": {},
     "output_type": "display_data"
    },
    {
     "name": "stdout",
     "output_type": "stream",
     "text": [
      "E:\\MestradoData\\preprocessed\\all\\18\\35*ir1* 30\n",
      "E:\\MestradoData\\preprocessed\\all\\18\\05*ir1* 30\n",
      "E:\\MestradoData\\preprocessed\\all\\18\\26*ir1* 30\n",
      "E:\\MestradoData\\preprocessed\\all\\18\\07*ir1* 30\n",
      "E:\\MestradoData\\preprocessed\\all\\18\\25*ir1* 30\n",
      "E:\\MestradoData\\preprocessed\\all\\18\\10*ir1* 30\n",
      "E:\\MestradoData\\preprocessed\\all\\18\\20*ir1* 30\n",
      "E:\\MestradoData\\preprocessed\\all\\18\\22*ir1* 30\n",
      "E:\\MestradoData\\preprocessed\\all\\18\\32*ir1* 30\n",
      "E:\\MestradoData\\preprocessed\\all\\18\\24*ir1* 0\n",
      "E:\\MestradoData\\preprocessed\\all\\18\\12*ir1* 30\n",
      "E:\\MestradoData\\preprocessed\\all\\18\\08*ir1* 30\n",
      "E:\\MestradoData\\preprocessed\\all\\18\\36*ir1* 0\n",
      "E:\\MestradoData\\preprocessed\\all\\18\\11*ir1* 27\n",
      "E:\\MestradoData\\preprocessed\\all\\18\\29*ir1* 30\n",
      "E:\\MestradoData\\preprocessed\\all\\18\\17*ir1* 30\n",
      "E:\\MestradoData\\preprocessed\\all\\18\\02*ir1* 30\n",
      "E:\\MestradoData\\preprocessed\\all\\18\\06*ir1* 30\n",
      "E:\\MestradoData\\preprocessed\\all\\18\\21*ir1* 30\n",
      "E:\\MestradoData\\preprocessed\\all\\18\\09*ir1* 30\n",
      "E:\\MestradoData\\preprocessed\\all\\18\\30*ir1* 30\n",
      "E:\\MestradoData\\preprocessed\\all\\18\\16*ir1* 30\n",
      "E:\\MestradoData\\preprocessed\\all\\18\\27*ir1* 30\n",
      "E:\\MestradoData\\preprocessed\\all\\18\\15*ir1* 30\n",
      "E:\\MestradoData\\preprocessed\\all\\18\\14*ir1* 30\n",
      "E:\\MestradoData\\preprocessed\\all\\18\\01*ir1* 30\n",
      "E:\\MestradoData\\preprocessed\\all\\18\\31*ir1* 30\n",
      "E:\\MestradoData\\preprocessed\\all\\18\\28*ir1* 30\n",
      "E:\\MestradoData\\preprocessed\\all\\18\\03*ir1* 30\n",
      "E:\\MestradoData\\preprocessed\\all\\18\\37*ir1* 0\n",
      "\n"
     ]
    },
    {
     "data": {
      "application/vnd.jupyter.widget-view+json": {
       "model_id": "15f8e7db8ba048bc8347f1ce205362ad",
       "version_major": 2,
       "version_minor": 0
      },
      "text/html": [
       "<p>Failed to display Jupyter Widget of type <code>HBox</code>.</p>\n",
       "<p>\n",
       "  If you're reading this message in the Jupyter Notebook or JupyterLab Notebook, it may mean\n",
       "  that the widgets JavaScript is still loading. If this message persists, it\n",
       "  likely means that the widgets JavaScript library is either not installed or\n",
       "  not enabled. See the <a href=\"https://ipywidgets.readthedocs.io/en/stable/user_install.html\">Jupyter\n",
       "  Widgets Documentation</a> for setup instructions.\n",
       "</p>\n",
       "<p>\n",
       "  If you're reading this message in another frontend (for example, a static\n",
       "  rendering on GitHub or <a href=\"https://nbviewer.jupyter.org/\">NBViewer</a>),\n",
       "  it may mean that your frontend doesn't currently support widgets.\n",
       "</p>\n"
      ],
      "text/plain": [
       "HBox(children=(IntProgress(value=0, max=7), HTML(value='')))"
      ]
     },
     "metadata": {},
     "output_type": "display_data"
    },
    {
     "name": "stdout",
     "output_type": "stream",
     "text": [
      "E:\\MestradoData\\preprocessed\\all\\18\\13*ir1* 0\n",
      "E:\\MestradoData\\preprocessed\\all\\18\\18*ir1* 0\n",
      "E:\\MestradoData\\preprocessed\\all\\18\\33*ir1* 30\n",
      "E:\\MestradoData\\preprocessed\\all\\18\\19*ir1* 30\n",
      "E:\\MestradoData\\preprocessed\\all\\18\\34*ir1* 30\n",
      "E:\\MestradoData\\preprocessed\\all\\18\\23*ir1* 30\n",
      "E:\\MestradoData\\preprocessed\\all\\18\\04*ir1* 30\n",
      "\n",
      "folders created !\n"
     ]
    },
    {
     "data": {
      "application/vnd.jupyter.widget-view+json": {
       "model_id": "80658d6351fc466da97d4de8363d797d",
       "version_major": 2,
       "version_minor": 0
      },
      "text/html": [
       "<p>Failed to display Jupyter Widget of type <code>HBox</code>.</p>\n",
       "<p>\n",
       "  If you're reading this message in the Jupyter Notebook or JupyterLab Notebook, it may mean\n",
       "  that the widgets JavaScript is still loading. If this message persists, it\n",
       "  likely means that the widgets JavaScript library is either not installed or\n",
       "  not enabled. See the <a href=\"https://ipywidgets.readthedocs.io/en/stable/user_install.html\">Jupyter\n",
       "  Widgets Documentation</a> for setup instructions.\n",
       "</p>\n",
       "<p>\n",
       "  If you're reading this message in another frontend (for example, a static\n",
       "  rendering on GitHub or <a href=\"https://nbviewer.jupyter.org/\">NBViewer</a>),\n",
       "  it may mean that your frontend doesn't currently support widgets.\n",
       "</p>\n"
      ],
      "text/plain": [
       "HBox(children=(IntProgress(value=0, max=30), HTML(value='')))"
      ]
     },
     "metadata": {},
     "output_type": "display_data"
    },
    {
     "name": "stdout",
     "output_type": "stream",
     "text": [
      "E:\\MestradoData\\preprocessed\\all\\19\\35*ir1* 30\n",
      "E:\\MestradoData\\preprocessed\\all\\19\\05*ir1* 30\n",
      "E:\\MestradoData\\preprocessed\\all\\19\\26*ir1* 30\n",
      "E:\\MestradoData\\preprocessed\\all\\19\\07*ir1* 30\n",
      "E:\\MestradoData\\preprocessed\\all\\19\\25*ir1* 30\n",
      "E:\\MestradoData\\preprocessed\\all\\19\\10*ir1* 30\n",
      "E:\\MestradoData\\preprocessed\\all\\19\\20*ir1* 30\n",
      "E:\\MestradoData\\preprocessed\\all\\19\\22*ir1* 30\n",
      "E:\\MestradoData\\preprocessed\\all\\19\\32*ir1* 30\n",
      "E:\\MestradoData\\preprocessed\\all\\19\\24*ir1* 0\n",
      "E:\\MestradoData\\preprocessed\\all\\19\\12*ir1* 30\n",
      "E:\\MestradoData\\preprocessed\\all\\19\\08*ir1* 30\n",
      "E:\\MestradoData\\preprocessed\\all\\19\\36*ir1* 0\n",
      "E:\\MestradoData\\preprocessed\\all\\19\\11*ir1* 27\n",
      "E:\\MestradoData\\preprocessed\\all\\19\\29*ir1* 30\n",
      "E:\\MestradoData\\preprocessed\\all\\19\\17*ir1* 30\n",
      "E:\\MestradoData\\preprocessed\\all\\19\\02*ir1* 30\n",
      "E:\\MestradoData\\preprocessed\\all\\19\\06*ir1* 30\n",
      "E:\\MestradoData\\preprocessed\\all\\19\\21*ir1* 30\n",
      "E:\\MestradoData\\preprocessed\\all\\19\\09*ir1* 30\n",
      "E:\\MestradoData\\preprocessed\\all\\19\\30*ir1* 30\n",
      "E:\\MestradoData\\preprocessed\\all\\19\\16*ir1* 30\n",
      "E:\\MestradoData\\preprocessed\\all\\19\\27*ir1* 30\n",
      "E:\\MestradoData\\preprocessed\\all\\19\\15*ir1* 30\n",
      "E:\\MestradoData\\preprocessed\\all\\19\\14*ir1* 30\n",
      "E:\\MestradoData\\preprocessed\\all\\19\\01*ir1* 30\n",
      "E:\\MestradoData\\preprocessed\\all\\19\\31*ir1* 30\n",
      "E:\\MestradoData\\preprocessed\\all\\19\\28*ir1* 30\n",
      "E:\\MestradoData\\preprocessed\\all\\19\\03*ir1* 30\n",
      "E:\\MestradoData\\preprocessed\\all\\19\\37*ir1* 0\n",
      "\n"
     ]
    },
    {
     "data": {
      "application/vnd.jupyter.widget-view+json": {
       "model_id": "893693678cf74079b1ed1f5ba7240aeb",
       "version_major": 2,
       "version_minor": 0
      },
      "text/html": [
       "<p>Failed to display Jupyter Widget of type <code>HBox</code>.</p>\n",
       "<p>\n",
       "  If you're reading this message in the Jupyter Notebook or JupyterLab Notebook, it may mean\n",
       "  that the widgets JavaScript is still loading. If this message persists, it\n",
       "  likely means that the widgets JavaScript library is either not installed or\n",
       "  not enabled. See the <a href=\"https://ipywidgets.readthedocs.io/en/stable/user_install.html\">Jupyter\n",
       "  Widgets Documentation</a> for setup instructions.\n",
       "</p>\n",
       "<p>\n",
       "  If you're reading this message in another frontend (for example, a static\n",
       "  rendering on GitHub or <a href=\"https://nbviewer.jupyter.org/\">NBViewer</a>),\n",
       "  it may mean that your frontend doesn't currently support widgets.\n",
       "</p>\n"
      ],
      "text/plain": [
       "HBox(children=(IntProgress(value=0, max=7), HTML(value='')))"
      ]
     },
     "metadata": {},
     "output_type": "display_data"
    },
    {
     "name": "stdout",
     "output_type": "stream",
     "text": [
      "E:\\MestradoData\\preprocessed\\all\\19\\13*ir1* 0\n",
      "E:\\MestradoData\\preprocessed\\all\\19\\18*ir1* 0\n",
      "E:\\MestradoData\\preprocessed\\all\\19\\33*ir1* 30\n",
      "E:\\MestradoData\\preprocessed\\all\\19\\19*ir1* 30\n",
      "E:\\MestradoData\\preprocessed\\all\\19\\34*ir1* 30\n",
      "E:\\MestradoData\\preprocessed\\all\\19\\23*ir1* 30\n",
      "E:\\MestradoData\\preprocessed\\all\\19\\04*ir1* 30\n",
      "\n",
      "folders created !\n"
     ]
    },
    {
     "data": {
      "application/vnd.jupyter.widget-view+json": {
       "model_id": "bbfa709aea9a4e54b2a2d720430d6da3",
       "version_major": 2,
       "version_minor": 0
      },
      "text/html": [
       "<p>Failed to display Jupyter Widget of type <code>HBox</code>.</p>\n",
       "<p>\n",
       "  If you're reading this message in the Jupyter Notebook or JupyterLab Notebook, it may mean\n",
       "  that the widgets JavaScript is still loading. If this message persists, it\n",
       "  likely means that the widgets JavaScript library is either not installed or\n",
       "  not enabled. See the <a href=\"https://ipywidgets.readthedocs.io/en/stable/user_install.html\">Jupyter\n",
       "  Widgets Documentation</a> for setup instructions.\n",
       "</p>\n",
       "<p>\n",
       "  If you're reading this message in another frontend (for example, a static\n",
       "  rendering on GitHub or <a href=\"https://nbviewer.jupyter.org/\">NBViewer</a>),\n",
       "  it may mean that your frontend doesn't currently support widgets.\n",
       "</p>\n"
      ],
      "text/plain": [
       "HBox(children=(IntProgress(value=0, max=30), HTML(value='')))"
      ]
     },
     "metadata": {},
     "output_type": "display_data"
    },
    {
     "name": "stdout",
     "output_type": "stream",
     "text": [
      "E:\\MestradoData\\preprocessed\\all\\01\\35*ir2* 30\n",
      "E:\\MestradoData\\preprocessed\\all\\01\\05*ir2* 30\n",
      "E:\\MestradoData\\preprocessed\\all\\01\\26*ir2* 30\n",
      "E:\\MestradoData\\preprocessed\\all\\01\\07*ir2* 30\n",
      "E:\\MestradoData\\preprocessed\\all\\01\\25*ir2* 30\n",
      "E:\\MestradoData\\preprocessed\\all\\01\\10*ir2* 30\n",
      "E:\\MestradoData\\preprocessed\\all\\01\\20*ir2* 30\n",
      "E:\\MestradoData\\preprocessed\\all\\01\\22*ir2* 30\n",
      "E:\\MestradoData\\preprocessed\\all\\01\\32*ir2* 30\n",
      "E:\\MestradoData\\preprocessed\\all\\01\\24*ir2* 30\n",
      "E:\\MestradoData\\preprocessed\\all\\01\\12*ir2* 30\n",
      "E:\\MestradoData\\preprocessed\\all\\01\\08*ir2* 30\n",
      "E:\\MestradoData\\preprocessed\\all\\01\\36*ir2* 0\n",
      "E:\\MestradoData\\preprocessed\\all\\01\\11*ir2* 30\n",
      "E:\\MestradoData\\preprocessed\\all\\01\\29*ir2* 30\n",
      "E:\\MestradoData\\preprocessed\\all\\01\\17*ir2* 30\n",
      "E:\\MestradoData\\preprocessed\\all\\01\\02*ir2* 30\n",
      "E:\\MestradoData\\preprocessed\\all\\01\\06*ir2* 30\n",
      "E:\\MestradoData\\preprocessed\\all\\01\\21*ir2* 30\n",
      "E:\\MestradoData\\preprocessed\\all\\01\\09*ir2* 30\n",
      "E:\\MestradoData\\preprocessed\\all\\01\\30*ir2* 30\n",
      "E:\\MestradoData\\preprocessed\\all\\01\\16*ir2* 30\n",
      "E:\\MestradoData\\preprocessed\\all\\01\\27*ir2* 30\n",
      "E:\\MestradoData\\preprocessed\\all\\01\\15*ir2* 30\n",
      "E:\\MestradoData\\preprocessed\\all\\01\\14*ir2* 30\n",
      "E:\\MestradoData\\preprocessed\\all\\01\\01*ir2* 30\n",
      "E:\\MestradoData\\preprocessed\\all\\01\\31*ir2* 30\n",
      "E:\\MestradoData\\preprocessed\\all\\01\\28*ir2* 30\n",
      "E:\\MestradoData\\preprocessed\\all\\01\\03*ir2* 30\n",
      "E:\\MestradoData\\preprocessed\\all\\01\\37*ir2* 0\n",
      "\n"
     ]
    },
    {
     "data": {
      "application/vnd.jupyter.widget-view+json": {
       "model_id": "2c237b8db790475086446b8bbb47bffe",
       "version_major": 2,
       "version_minor": 0
      },
      "text/html": [
       "<p>Failed to display Jupyter Widget of type <code>HBox</code>.</p>\n",
       "<p>\n",
       "  If you're reading this message in the Jupyter Notebook or JupyterLab Notebook, it may mean\n",
       "  that the widgets JavaScript is still loading. If this message persists, it\n",
       "  likely means that the widgets JavaScript library is either not installed or\n",
       "  not enabled. See the <a href=\"https://ipywidgets.readthedocs.io/en/stable/user_install.html\">Jupyter\n",
       "  Widgets Documentation</a> for setup instructions.\n",
       "</p>\n",
       "<p>\n",
       "  If you're reading this message in another frontend (for example, a static\n",
       "  rendering on GitHub or <a href=\"https://nbviewer.jupyter.org/\">NBViewer</a>),\n",
       "  it may mean that your frontend doesn't currently support widgets.\n",
       "</p>\n"
      ],
      "text/plain": [
       "HBox(children=(IntProgress(value=0, max=7), HTML(value='')))"
      ]
     },
     "metadata": {},
     "output_type": "display_data"
    },
    {
     "name": "stdout",
     "output_type": "stream",
     "text": [
      "E:\\MestradoData\\preprocessed\\all\\01\\13*ir2* 30\n",
      "E:\\MestradoData\\preprocessed\\all\\01\\18*ir2* 30\n",
      "E:\\MestradoData\\preprocessed\\all\\01\\33*ir2* 30\n",
      "E:\\MestradoData\\preprocessed\\all\\01\\19*ir2* 30\n",
      "E:\\MestradoData\\preprocessed\\all\\01\\34*ir2* 30\n",
      "E:\\MestradoData\\preprocessed\\all\\01\\23*ir2* 30\n",
      "E:\\MestradoData\\preprocessed\\all\\01\\04*ir2* 30\n",
      "\n",
      "folders created !\n"
     ]
    },
    {
     "data": {
      "application/vnd.jupyter.widget-view+json": {
       "model_id": "9d0750db16b8433b9bbe207d9a59fa06",
       "version_major": 2,
       "version_minor": 0
      },
      "text/html": [
       "<p>Failed to display Jupyter Widget of type <code>HBox</code>.</p>\n",
       "<p>\n",
       "  If you're reading this message in the Jupyter Notebook or JupyterLab Notebook, it may mean\n",
       "  that the widgets JavaScript is still loading. If this message persists, it\n",
       "  likely means that the widgets JavaScript library is either not installed or\n",
       "  not enabled. See the <a href=\"https://ipywidgets.readthedocs.io/en/stable/user_install.html\">Jupyter\n",
       "  Widgets Documentation</a> for setup instructions.\n",
       "</p>\n",
       "<p>\n",
       "  If you're reading this message in another frontend (for example, a static\n",
       "  rendering on GitHub or <a href=\"https://nbviewer.jupyter.org/\">NBViewer</a>),\n",
       "  it may mean that your frontend doesn't currently support widgets.\n",
       "</p>\n"
      ],
      "text/plain": [
       "HBox(children=(IntProgress(value=0, max=30), HTML(value='')))"
      ]
     },
     "metadata": {},
     "output_type": "display_data"
    },
    {
     "name": "stdout",
     "output_type": "stream",
     "text": [
      "E:\\MestradoData\\preprocessed\\all\\02\\35*ir2* 30\n",
      "E:\\MestradoData\\preprocessed\\all\\02\\05*ir2* 30\n",
      "E:\\MestradoData\\preprocessed\\all\\02\\26*ir2* 30\n",
      "E:\\MestradoData\\preprocessed\\all\\02\\07*ir2* 30\n",
      "E:\\MestradoData\\preprocessed\\all\\02\\25*ir2* 30\n",
      "E:\\MestradoData\\preprocessed\\all\\02\\10*ir2* 30\n",
      "E:\\MestradoData\\preprocessed\\all\\02\\20*ir2* 30\n",
      "E:\\MestradoData\\preprocessed\\all\\02\\22*ir2* 30\n",
      "E:\\MestradoData\\preprocessed\\all\\02\\32*ir2* 30\n",
      "E:\\MestradoData\\preprocessed\\all\\02\\24*ir2* 30\n",
      "E:\\MestradoData\\preprocessed\\all\\02\\12*ir2* 30\n",
      "E:\\MestradoData\\preprocessed\\all\\02\\08*ir2* 30\n",
      "E:\\MestradoData\\preprocessed\\all\\02\\36*ir2* 0\n",
      "E:\\MestradoData\\preprocessed\\all\\02\\11*ir2* 30\n",
      "E:\\MestradoData\\preprocessed\\all\\02\\29*ir2* 30\n",
      "E:\\MestradoData\\preprocessed\\all\\02\\17*ir2* 30\n",
      "E:\\MestradoData\\preprocessed\\all\\02\\02*ir2* 30\n",
      "E:\\MestradoData\\preprocessed\\all\\02\\06*ir2* 30\n",
      "E:\\MestradoData\\preprocessed\\all\\02\\21*ir2* 30\n",
      "E:\\MestradoData\\preprocessed\\all\\02\\09*ir2* 30\n",
      "E:\\MestradoData\\preprocessed\\all\\02\\30*ir2* 30\n",
      "E:\\MestradoData\\preprocessed\\all\\02\\16*ir2* 30\n",
      "E:\\MestradoData\\preprocessed\\all\\02\\27*ir2* 30\n",
      "E:\\MestradoData\\preprocessed\\all\\02\\15*ir2* 30\n",
      "E:\\MestradoData\\preprocessed\\all\\02\\14*ir2* 30\n",
      "E:\\MestradoData\\preprocessed\\all\\02\\01*ir2* 30\n",
      "E:\\MestradoData\\preprocessed\\all\\02\\31*ir2* 30\n",
      "E:\\MestradoData\\preprocessed\\all\\02\\28*ir2* 30\n",
      "E:\\MestradoData\\preprocessed\\all\\02\\03*ir2* 30\n",
      "E:\\MestradoData\\preprocessed\\all\\02\\37*ir2* 0\n",
      "\n"
     ]
    },
    {
     "data": {
      "application/vnd.jupyter.widget-view+json": {
       "model_id": "e19d1d5ace6946fe81ebecc17a05f758",
       "version_major": 2,
       "version_minor": 0
      },
      "text/html": [
       "<p>Failed to display Jupyter Widget of type <code>HBox</code>.</p>\n",
       "<p>\n",
       "  If you're reading this message in the Jupyter Notebook or JupyterLab Notebook, it may mean\n",
       "  that the widgets JavaScript is still loading. If this message persists, it\n",
       "  likely means that the widgets JavaScript library is either not installed or\n",
       "  not enabled. See the <a href=\"https://ipywidgets.readthedocs.io/en/stable/user_install.html\">Jupyter\n",
       "  Widgets Documentation</a> for setup instructions.\n",
       "</p>\n",
       "<p>\n",
       "  If you're reading this message in another frontend (for example, a static\n",
       "  rendering on GitHub or <a href=\"https://nbviewer.jupyter.org/\">NBViewer</a>),\n",
       "  it may mean that your frontend doesn't currently support widgets.\n",
       "</p>\n"
      ],
      "text/plain": [
       "HBox(children=(IntProgress(value=0, max=7), HTML(value='')))"
      ]
     },
     "metadata": {},
     "output_type": "display_data"
    },
    {
     "name": "stdout",
     "output_type": "stream",
     "text": [
      "E:\\MestradoData\\preprocessed\\all\\02\\13*ir2* 30\n",
      "E:\\MestradoData\\preprocessed\\all\\02\\18*ir2* 30\n",
      "E:\\MestradoData\\preprocessed\\all\\02\\33*ir2* 30\n",
      "E:\\MestradoData\\preprocessed\\all\\02\\19*ir2* 30\n",
      "E:\\MestradoData\\preprocessed\\all\\02\\34*ir2* 30\n",
      "E:\\MestradoData\\preprocessed\\all\\02\\23*ir2* 30\n",
      "E:\\MestradoData\\preprocessed\\all\\02\\04*ir2* 30\n",
      "\n",
      "folders created !\n"
     ]
    },
    {
     "data": {
      "application/vnd.jupyter.widget-view+json": {
       "model_id": "2cd9f4e0ba854753b9663f9a2cc49f88",
       "version_major": 2,
       "version_minor": 0
      },
      "text/html": [
       "<p>Failed to display Jupyter Widget of type <code>HBox</code>.</p>\n",
       "<p>\n",
       "  If you're reading this message in the Jupyter Notebook or JupyterLab Notebook, it may mean\n",
       "  that the widgets JavaScript is still loading. If this message persists, it\n",
       "  likely means that the widgets JavaScript library is either not installed or\n",
       "  not enabled. See the <a href=\"https://ipywidgets.readthedocs.io/en/stable/user_install.html\">Jupyter\n",
       "  Widgets Documentation</a> for setup instructions.\n",
       "</p>\n",
       "<p>\n",
       "  If you're reading this message in another frontend (for example, a static\n",
       "  rendering on GitHub or <a href=\"https://nbviewer.jupyter.org/\">NBViewer</a>),\n",
       "  it may mean that your frontend doesn't currently support widgets.\n",
       "</p>\n"
      ],
      "text/plain": [
       "HBox(children=(IntProgress(value=0, max=30), HTML(value='')))"
      ]
     },
     "metadata": {},
     "output_type": "display_data"
    },
    {
     "name": "stdout",
     "output_type": "stream",
     "text": [
      "E:\\MestradoData\\preprocessed\\all\\03\\35*ir2* 30\n",
      "E:\\MestradoData\\preprocessed\\all\\03\\05*ir2* 30\n",
      "E:\\MestradoData\\preprocessed\\all\\03\\26*ir2* 30\n",
      "E:\\MestradoData\\preprocessed\\all\\03\\07*ir2* 30\n",
      "E:\\MestradoData\\preprocessed\\all\\03\\25*ir2* 30\n",
      "E:\\MestradoData\\preprocessed\\all\\03\\10*ir2* 30\n",
      "E:\\MestradoData\\preprocessed\\all\\03\\20*ir2* 30\n",
      "E:\\MestradoData\\preprocessed\\all\\03\\22*ir2* 30\n",
      "E:\\MestradoData\\preprocessed\\all\\03\\32*ir2* 30\n",
      "E:\\MestradoData\\preprocessed\\all\\03\\24*ir2* 30\n",
      "E:\\MestradoData\\preprocessed\\all\\03\\12*ir2* 30\n",
      "E:\\MestradoData\\preprocessed\\all\\03\\08*ir2* 30\n",
      "E:\\MestradoData\\preprocessed\\all\\03\\36*ir2* 0\n",
      "E:\\MestradoData\\preprocessed\\all\\03\\11*ir2* 27\n",
      "E:\\MestradoData\\preprocessed\\all\\03\\29*ir2* 30\n",
      "E:\\MestradoData\\preprocessed\\all\\03\\17*ir2* 30\n",
      "E:\\MestradoData\\preprocessed\\all\\03\\02*ir2* 30\n",
      "E:\\MestradoData\\preprocessed\\all\\03\\06*ir2* 30\n",
      "E:\\MestradoData\\preprocessed\\all\\03\\21*ir2* 30\n",
      "E:\\MestradoData\\preprocessed\\all\\03\\09*ir2* 30\n",
      "E:\\MestradoData\\preprocessed\\all\\03\\30*ir2* 30\n",
      "E:\\MestradoData\\preprocessed\\all\\03\\16*ir2* 30\n",
      "E:\\MestradoData\\preprocessed\\all\\03\\27*ir2* 30\n",
      "E:\\MestradoData\\preprocessed\\all\\03\\15*ir2* 30\n",
      "E:\\MestradoData\\preprocessed\\all\\03\\14*ir2* 30\n",
      "E:\\MestradoData\\preprocessed\\all\\03\\01*ir2* 30\n",
      "E:\\MestradoData\\preprocessed\\all\\03\\31*ir2* 30\n",
      "E:\\MestradoData\\preprocessed\\all\\03\\28*ir2* 30\n",
      "E:\\MestradoData\\preprocessed\\all\\03\\03*ir2* 30\n",
      "E:\\MestradoData\\preprocessed\\all\\03\\37*ir2* 0\n",
      "\n"
     ]
    },
    {
     "data": {
      "application/vnd.jupyter.widget-view+json": {
       "model_id": "ba674445bdef4897be77511e55cde101",
       "version_major": 2,
       "version_minor": 0
      },
      "text/html": [
       "<p>Failed to display Jupyter Widget of type <code>HBox</code>.</p>\n",
       "<p>\n",
       "  If you're reading this message in the Jupyter Notebook or JupyterLab Notebook, it may mean\n",
       "  that the widgets JavaScript is still loading. If this message persists, it\n",
       "  likely means that the widgets JavaScript library is either not installed or\n",
       "  not enabled. See the <a href=\"https://ipywidgets.readthedocs.io/en/stable/user_install.html\">Jupyter\n",
       "  Widgets Documentation</a> for setup instructions.\n",
       "</p>\n",
       "<p>\n",
       "  If you're reading this message in another frontend (for example, a static\n",
       "  rendering on GitHub or <a href=\"https://nbviewer.jupyter.org/\">NBViewer</a>),\n",
       "  it may mean that your frontend doesn't currently support widgets.\n",
       "</p>\n"
      ],
      "text/plain": [
       "HBox(children=(IntProgress(value=0, max=7), HTML(value='')))"
      ]
     },
     "metadata": {},
     "output_type": "display_data"
    },
    {
     "name": "stdout",
     "output_type": "stream",
     "text": [
      "E:\\MestradoData\\preprocessed\\all\\03\\13*ir2* 0\n",
      "E:\\MestradoData\\preprocessed\\all\\03\\18*ir2* 0\n",
      "E:\\MestradoData\\preprocessed\\all\\03\\33*ir2* 30\n",
      "E:\\MestradoData\\preprocessed\\all\\03\\19*ir2* 30\n",
      "E:\\MestradoData\\preprocessed\\all\\03\\34*ir2* 30\n",
      "E:\\MestradoData\\preprocessed\\all\\03\\23*ir2* 30\n",
      "E:\\MestradoData\\preprocessed\\all\\03\\04*ir2* 30\n",
      "\n",
      "folders created !\n"
     ]
    },
    {
     "data": {
      "application/vnd.jupyter.widget-view+json": {
       "model_id": "7e6a866e58944058a3439619669eb3ec",
       "version_major": 2,
       "version_minor": 0
      },
      "text/html": [
       "<p>Failed to display Jupyter Widget of type <code>HBox</code>.</p>\n",
       "<p>\n",
       "  If you're reading this message in the Jupyter Notebook or JupyterLab Notebook, it may mean\n",
       "  that the widgets JavaScript is still loading. If this message persists, it\n",
       "  likely means that the widgets JavaScript library is either not installed or\n",
       "  not enabled. See the <a href=\"https://ipywidgets.readthedocs.io/en/stable/user_install.html\">Jupyter\n",
       "  Widgets Documentation</a> for setup instructions.\n",
       "</p>\n",
       "<p>\n",
       "  If you're reading this message in another frontend (for example, a static\n",
       "  rendering on GitHub or <a href=\"https://nbviewer.jupyter.org/\">NBViewer</a>),\n",
       "  it may mean that your frontend doesn't currently support widgets.\n",
       "</p>\n"
      ],
      "text/plain": [
       "HBox(children=(IntProgress(value=0, max=30), HTML(value='')))"
      ]
     },
     "metadata": {},
     "output_type": "display_data"
    },
    {
     "name": "stdout",
     "output_type": "stream",
     "text": [
      "E:\\MestradoData\\preprocessed\\all\\04\\35*ir2* 30\n",
      "E:\\MestradoData\\preprocessed\\all\\04\\05*ir2* 30\n",
      "E:\\MestradoData\\preprocessed\\all\\04\\26*ir2* 30\n",
      "E:\\MestradoData\\preprocessed\\all\\04\\07*ir2* 30\n",
      "E:\\MestradoData\\preprocessed\\all\\04\\25*ir2* 30\n",
      "E:\\MestradoData\\preprocessed\\all\\04\\10*ir2* 30\n",
      "E:\\MestradoData\\preprocessed\\all\\04\\20*ir2* 30\n",
      "E:\\MestradoData\\preprocessed\\all\\04\\22*ir2* 30\n",
      "E:\\MestradoData\\preprocessed\\all\\04\\32*ir2* 30\n",
      "E:\\MestradoData\\preprocessed\\all\\04\\24*ir2* 30\n",
      "E:\\MestradoData\\preprocessed\\all\\04\\12*ir2* 30\n",
      "E:\\MestradoData\\preprocessed\\all\\04\\08*ir2* 30\n",
      "E:\\MestradoData\\preprocessed\\all\\04\\36*ir2* 0\n",
      "E:\\MestradoData\\preprocessed\\all\\04\\11*ir2* 27\n",
      "E:\\MestradoData\\preprocessed\\all\\04\\29*ir2* 30\n",
      "E:\\MestradoData\\preprocessed\\all\\04\\17*ir2* 30\n",
      "E:\\MestradoData\\preprocessed\\all\\04\\02*ir2* 30\n",
      "E:\\MestradoData\\preprocessed\\all\\04\\06*ir2* 30\n",
      "E:\\MestradoData\\preprocessed\\all\\04\\21*ir2* 30\n",
      "E:\\MestradoData\\preprocessed\\all\\04\\09*ir2* 30\n",
      "E:\\MestradoData\\preprocessed\\all\\04\\30*ir2* 30\n",
      "E:\\MestradoData\\preprocessed\\all\\04\\16*ir2* 30\n",
      "E:\\MestradoData\\preprocessed\\all\\04\\27*ir2* 30\n",
      "E:\\MestradoData\\preprocessed\\all\\04\\15*ir2* 30\n",
      "E:\\MestradoData\\preprocessed\\all\\04\\14*ir2* 30\n",
      "E:\\MestradoData\\preprocessed\\all\\04\\01*ir2* 30\n",
      "E:\\MestradoData\\preprocessed\\all\\04\\31*ir2* 30\n",
      "E:\\MestradoData\\preprocessed\\all\\04\\28*ir2* 30\n",
      "E:\\MestradoData\\preprocessed\\all\\04\\03*ir2* 30\n",
      "E:\\MestradoData\\preprocessed\\all\\04\\37*ir2* 0\n",
      "\n"
     ]
    },
    {
     "data": {
      "application/vnd.jupyter.widget-view+json": {
       "model_id": "72ed551eef884e90a67016317a5f4bd8",
       "version_major": 2,
       "version_minor": 0
      },
      "text/html": [
       "<p>Failed to display Jupyter Widget of type <code>HBox</code>.</p>\n",
       "<p>\n",
       "  If you're reading this message in the Jupyter Notebook or JupyterLab Notebook, it may mean\n",
       "  that the widgets JavaScript is still loading. If this message persists, it\n",
       "  likely means that the widgets JavaScript library is either not installed or\n",
       "  not enabled. See the <a href=\"https://ipywidgets.readthedocs.io/en/stable/user_install.html\">Jupyter\n",
       "  Widgets Documentation</a> for setup instructions.\n",
       "</p>\n",
       "<p>\n",
       "  If you're reading this message in another frontend (for example, a static\n",
       "  rendering on GitHub or <a href=\"https://nbviewer.jupyter.org/\">NBViewer</a>),\n",
       "  it may mean that your frontend doesn't currently support widgets.\n",
       "</p>\n"
      ],
      "text/plain": [
       "HBox(children=(IntProgress(value=0, max=7), HTML(value='')))"
      ]
     },
     "metadata": {},
     "output_type": "display_data"
    },
    {
     "name": "stdout",
     "output_type": "stream",
     "text": [
      "E:\\MestradoData\\preprocessed\\all\\04\\13*ir2* 0\n",
      "E:\\MestradoData\\preprocessed\\all\\04\\18*ir2* 0\n",
      "E:\\MestradoData\\preprocessed\\all\\04\\33*ir2* 30\n",
      "E:\\MestradoData\\preprocessed\\all\\04\\19*ir2* 30\n",
      "E:\\MestradoData\\preprocessed\\all\\04\\34*ir2* 30\n",
      "E:\\MestradoData\\preprocessed\\all\\04\\23*ir2* 30\n",
      "E:\\MestradoData\\preprocessed\\all\\04\\04*ir2* 30\n",
      "\n",
      "folders created !\n"
     ]
    },
    {
     "data": {
      "application/vnd.jupyter.widget-view+json": {
       "model_id": "12fc9b98f8e447d781a566085bd32513",
       "version_major": 2,
       "version_minor": 0
      },
      "text/html": [
       "<p>Failed to display Jupyter Widget of type <code>HBox</code>.</p>\n",
       "<p>\n",
       "  If you're reading this message in the Jupyter Notebook or JupyterLab Notebook, it may mean\n",
       "  that the widgets JavaScript is still loading. If this message persists, it\n",
       "  likely means that the widgets JavaScript library is either not installed or\n",
       "  not enabled. See the <a href=\"https://ipywidgets.readthedocs.io/en/stable/user_install.html\">Jupyter\n",
       "  Widgets Documentation</a> for setup instructions.\n",
       "</p>\n",
       "<p>\n",
       "  If you're reading this message in another frontend (for example, a static\n",
       "  rendering on GitHub or <a href=\"https://nbviewer.jupyter.org/\">NBViewer</a>),\n",
       "  it may mean that your frontend doesn't currently support widgets.\n",
       "</p>\n"
      ],
      "text/plain": [
       "HBox(children=(IntProgress(value=0, max=30), HTML(value='')))"
      ]
     },
     "metadata": {},
     "output_type": "display_data"
    },
    {
     "name": "stdout",
     "output_type": "stream",
     "text": [
      "E:\\MestradoData\\preprocessed\\all\\05\\35*ir2* 30\n",
      "E:\\MestradoData\\preprocessed\\all\\05\\05*ir2* 30\n",
      "E:\\MestradoData\\preprocessed\\all\\05\\26*ir2* 30\n",
      "E:\\MestradoData\\preprocessed\\all\\05\\07*ir2* 30\n",
      "E:\\MestradoData\\preprocessed\\all\\05\\25*ir2* 30\n",
      "E:\\MestradoData\\preprocessed\\all\\05\\10*ir2* 30\n",
      "E:\\MestradoData\\preprocessed\\all\\05\\20*ir2* 30\n",
      "E:\\MestradoData\\preprocessed\\all\\05\\22*ir2* 23\n",
      "E:\\MestradoData\\preprocessed\\all\\05\\32*ir2* 30\n",
      "E:\\MestradoData\\preprocessed\\all\\05\\24*ir2* 30\n",
      "E:\\MestradoData\\preprocessed\\all\\05\\12*ir2* 30\n",
      "E:\\MestradoData\\preprocessed\\all\\05\\08*ir2* 30\n",
      "E:\\MestradoData\\preprocessed\\all\\05\\36*ir2* 0\n",
      "E:\\MestradoData\\preprocessed\\all\\05\\11*ir2* 30\n",
      "E:\\MestradoData\\preprocessed\\all\\05\\29*ir2* 30\n",
      "E:\\MestradoData\\preprocessed\\all\\05\\17*ir2* 30\n",
      "E:\\MestradoData\\preprocessed\\all\\05\\02*ir2* 30\n",
      "E:\\MestradoData\\preprocessed\\all\\05\\06*ir2* 30\n",
      "E:\\MestradoData\\preprocessed\\all\\05\\21*ir2* 30\n",
      "E:\\MestradoData\\preprocessed\\all\\05\\09*ir2* 30\n",
      "E:\\MestradoData\\preprocessed\\all\\05\\30*ir2* 30\n",
      "E:\\MestradoData\\preprocessed\\all\\05\\16*ir2* 30\n",
      "E:\\MestradoData\\preprocessed\\all\\05\\27*ir2* 30\n",
      "E:\\MestradoData\\preprocessed\\all\\05\\15*ir2* 30\n",
      "E:\\MestradoData\\preprocessed\\all\\05\\14*ir2* 30\n",
      "E:\\MestradoData\\preprocessed\\all\\05\\01*ir2* 30\n",
      "E:\\MestradoData\\preprocessed\\all\\05\\31*ir2* 30\n",
      "E:\\MestradoData\\preprocessed\\all\\05\\28*ir2* 30\n",
      "E:\\MestradoData\\preprocessed\\all\\05\\03*ir2* 30\n",
      "E:\\MestradoData\\preprocessed\\all\\05\\37*ir2* 0\n",
      "\n"
     ]
    },
    {
     "data": {
      "application/vnd.jupyter.widget-view+json": {
       "model_id": "99d4f15573f1466f97dc110a8fd924d5",
       "version_major": 2,
       "version_minor": 0
      },
      "text/html": [
       "<p>Failed to display Jupyter Widget of type <code>HBox</code>.</p>\n",
       "<p>\n",
       "  If you're reading this message in the Jupyter Notebook or JupyterLab Notebook, it may mean\n",
       "  that the widgets JavaScript is still loading. If this message persists, it\n",
       "  likely means that the widgets JavaScript library is either not installed or\n",
       "  not enabled. See the <a href=\"https://ipywidgets.readthedocs.io/en/stable/user_install.html\">Jupyter\n",
       "  Widgets Documentation</a> for setup instructions.\n",
       "</p>\n",
       "<p>\n",
       "  If you're reading this message in another frontend (for example, a static\n",
       "  rendering on GitHub or <a href=\"https://nbviewer.jupyter.org/\">NBViewer</a>),\n",
       "  it may mean that your frontend doesn't currently support widgets.\n",
       "</p>\n"
      ],
      "text/plain": [
       "HBox(children=(IntProgress(value=0, max=7), HTML(value='')))"
      ]
     },
     "metadata": {},
     "output_type": "display_data"
    },
    {
     "name": "stdout",
     "output_type": "stream",
     "text": [
      "E:\\MestradoData\\preprocessed\\all\\05\\13*ir2* 30\n",
      "E:\\MestradoData\\preprocessed\\all\\05\\18*ir2* 30\n",
      "E:\\MestradoData\\preprocessed\\all\\05\\33*ir2* 30\n",
      "E:\\MestradoData\\preprocessed\\all\\05\\19*ir2* 0\n",
      "E:\\MestradoData\\preprocessed\\all\\05\\34*ir2* 27\n",
      "E:\\MestradoData\\preprocessed\\all\\05\\23*ir2* 30\n",
      "E:\\MestradoData\\preprocessed\\all\\05\\04*ir2* 30\n",
      "\n",
      "folders created !\n"
     ]
    },
    {
     "data": {
      "application/vnd.jupyter.widget-view+json": {
       "model_id": "dbe6ea65990f4e51ac70366ff7c58b8a",
       "version_major": 2,
       "version_minor": 0
      },
      "text/html": [
       "<p>Failed to display Jupyter Widget of type <code>HBox</code>.</p>\n",
       "<p>\n",
       "  If you're reading this message in the Jupyter Notebook or JupyterLab Notebook, it may mean\n",
       "  that the widgets JavaScript is still loading. If this message persists, it\n",
       "  likely means that the widgets JavaScript library is either not installed or\n",
       "  not enabled. See the <a href=\"https://ipywidgets.readthedocs.io/en/stable/user_install.html\">Jupyter\n",
       "  Widgets Documentation</a> for setup instructions.\n",
       "</p>\n",
       "<p>\n",
       "  If you're reading this message in another frontend (for example, a static\n",
       "  rendering on GitHub or <a href=\"https://nbviewer.jupyter.org/\">NBViewer</a>),\n",
       "  it may mean that your frontend doesn't currently support widgets.\n",
       "</p>\n"
      ],
      "text/plain": [
       "HBox(children=(IntProgress(value=0, max=30), HTML(value='')))"
      ]
     },
     "metadata": {},
     "output_type": "display_data"
    },
    {
     "name": "stdout",
     "output_type": "stream",
     "text": [
      "E:\\MestradoData\\preprocessed\\all\\06\\35*ir2* 30\n",
      "E:\\MestradoData\\preprocessed\\all\\06\\05*ir2* 30\n",
      "E:\\MestradoData\\preprocessed\\all\\06\\26*ir2* 30\n",
      "E:\\MestradoData\\preprocessed\\all\\06\\07*ir2* 30\n",
      "E:\\MestradoData\\preprocessed\\all\\06\\25*ir2* 30\n",
      "E:\\MestradoData\\preprocessed\\all\\06\\10*ir2* 30\n",
      "E:\\MestradoData\\preprocessed\\all\\06\\20*ir2* 30\n",
      "E:\\MestradoData\\preprocessed\\all\\06\\22*ir2* 30\n",
      "E:\\MestradoData\\preprocessed\\all\\06\\32*ir2* 30\n",
      "E:\\MestradoData\\preprocessed\\all\\06\\24*ir2* 30\n",
      "E:\\MestradoData\\preprocessed\\all\\06\\12*ir2* 30\n",
      "E:\\MestradoData\\preprocessed\\all\\06\\08*ir2* 30\n",
      "E:\\MestradoData\\preprocessed\\all\\06\\36*ir2* 0\n",
      "E:\\MestradoData\\preprocessed\\all\\06\\11*ir2* 30\n",
      "E:\\MestradoData\\preprocessed\\all\\06\\29*ir2* 30\n",
      "E:\\MestradoData\\preprocessed\\all\\06\\17*ir2* 30\n",
      "E:\\MestradoData\\preprocessed\\all\\06\\02*ir2* 30\n",
      "E:\\MestradoData\\preprocessed\\all\\06\\06*ir2* 30\n",
      "E:\\MestradoData\\preprocessed\\all\\06\\21*ir2* 30\n",
      "E:\\MestradoData\\preprocessed\\all\\06\\09*ir2* 30\n",
      "E:\\MestradoData\\preprocessed\\all\\06\\30*ir2* 30\n",
      "E:\\MestradoData\\preprocessed\\all\\06\\16*ir2* 30\n",
      "E:\\MestradoData\\preprocessed\\all\\06\\27*ir2* 30\n",
      "E:\\MestradoData\\preprocessed\\all\\06\\15*ir2* 30\n",
      "E:\\MestradoData\\preprocessed\\all\\06\\14*ir2* 30\n",
      "E:\\MestradoData\\preprocessed\\all\\06\\01*ir2* 30\n",
      "E:\\MestradoData\\preprocessed\\all\\06\\31*ir2* 30\n",
      "E:\\MestradoData\\preprocessed\\all\\06\\28*ir2* 30\n",
      "E:\\MestradoData\\preprocessed\\all\\06\\03*ir2* 30\n",
      "E:\\MestradoData\\preprocessed\\all\\06\\37*ir2* 0\n",
      "\n"
     ]
    },
    {
     "data": {
      "application/vnd.jupyter.widget-view+json": {
       "model_id": "cad7af8e53a14c20b202d90e3a8930a9",
       "version_major": 2,
       "version_minor": 0
      },
      "text/html": [
       "<p>Failed to display Jupyter Widget of type <code>HBox</code>.</p>\n",
       "<p>\n",
       "  If you're reading this message in the Jupyter Notebook or JupyterLab Notebook, it may mean\n",
       "  that the widgets JavaScript is still loading. If this message persists, it\n",
       "  likely means that the widgets JavaScript library is either not installed or\n",
       "  not enabled. See the <a href=\"https://ipywidgets.readthedocs.io/en/stable/user_install.html\">Jupyter\n",
       "  Widgets Documentation</a> for setup instructions.\n",
       "</p>\n",
       "<p>\n",
       "  If you're reading this message in another frontend (for example, a static\n",
       "  rendering on GitHub or <a href=\"https://nbviewer.jupyter.org/\">NBViewer</a>),\n",
       "  it may mean that your frontend doesn't currently support widgets.\n",
       "</p>\n"
      ],
      "text/plain": [
       "HBox(children=(IntProgress(value=0, max=7), HTML(value='')))"
      ]
     },
     "metadata": {},
     "output_type": "display_data"
    },
    {
     "name": "stdout",
     "output_type": "stream",
     "text": [
      "E:\\MestradoData\\preprocessed\\all\\06\\13*ir2* 30\n",
      "E:\\MestradoData\\preprocessed\\all\\06\\18*ir2* 30\n",
      "E:\\MestradoData\\preprocessed\\all\\06\\33*ir2* 30\n",
      "E:\\MestradoData\\preprocessed\\all\\06\\19*ir2* 30\n",
      "E:\\MestradoData\\preprocessed\\all\\06\\34*ir2* 27\n",
      "E:\\MestradoData\\preprocessed\\all\\06\\23*ir2* 30\n",
      "E:\\MestradoData\\preprocessed\\all\\06\\04*ir2* 30\n",
      "\n",
      "folders created !\n"
     ]
    },
    {
     "data": {
      "application/vnd.jupyter.widget-view+json": {
       "model_id": "0ba8d86125f14913a8bd2e3951709145",
       "version_major": 2,
       "version_minor": 0
      },
      "text/html": [
       "<p>Failed to display Jupyter Widget of type <code>HBox</code>.</p>\n",
       "<p>\n",
       "  If you're reading this message in the Jupyter Notebook or JupyterLab Notebook, it may mean\n",
       "  that the widgets JavaScript is still loading. If this message persists, it\n",
       "  likely means that the widgets JavaScript library is either not installed or\n",
       "  not enabled. See the <a href=\"https://ipywidgets.readthedocs.io/en/stable/user_install.html\">Jupyter\n",
       "  Widgets Documentation</a> for setup instructions.\n",
       "</p>\n",
       "<p>\n",
       "  If you're reading this message in another frontend (for example, a static\n",
       "  rendering on GitHub or <a href=\"https://nbviewer.jupyter.org/\">NBViewer</a>),\n",
       "  it may mean that your frontend doesn't currently support widgets.\n",
       "</p>\n"
      ],
      "text/plain": [
       "HBox(children=(IntProgress(value=0, max=30), HTML(value='')))"
      ]
     },
     "metadata": {},
     "output_type": "display_data"
    },
    {
     "name": "stdout",
     "output_type": "stream",
     "text": [
      "E:\\MestradoData\\preprocessed\\all\\07\\35*ir2* 30\n",
      "E:\\MestradoData\\preprocessed\\all\\07\\05*ir2* 30\n",
      "E:\\MestradoData\\preprocessed\\all\\07\\26*ir2* 30\n",
      "E:\\MestradoData\\preprocessed\\all\\07\\07*ir2* 30\n",
      "E:\\MestradoData\\preprocessed\\all\\07\\25*ir2* 30\n",
      "E:\\MestradoData\\preprocessed\\all\\07\\10*ir2* 30\n",
      "E:\\MestradoData\\preprocessed\\all\\07\\20*ir2* 30\n",
      "E:\\MestradoData\\preprocessed\\all\\07\\22*ir2* 30\n",
      "E:\\MestradoData\\preprocessed\\all\\07\\32*ir2* 30\n",
      "E:\\MestradoData\\preprocessed\\all\\07\\24*ir2* 30\n",
      "E:\\MestradoData\\preprocessed\\all\\07\\12*ir2* 30\n",
      "E:\\MestradoData\\preprocessed\\all\\07\\08*ir2* 30\n",
      "E:\\MestradoData\\preprocessed\\all\\07\\36*ir2* 0\n",
      "E:\\MestradoData\\preprocessed\\all\\07\\11*ir2* 27\n",
      "E:\\MestradoData\\preprocessed\\all\\07\\29*ir2* 30\n",
      "E:\\MestradoData\\preprocessed\\all\\07\\17*ir2* 30\n",
      "E:\\MestradoData\\preprocessed\\all\\07\\02*ir2* 30\n",
      "E:\\MestradoData\\preprocessed\\all\\07\\06*ir2* 30\n",
      "E:\\MestradoData\\preprocessed\\all\\07\\21*ir2* 30\n",
      "E:\\MestradoData\\preprocessed\\all\\07\\09*ir2* 30\n",
      "E:\\MestradoData\\preprocessed\\all\\07\\30*ir2* 30\n",
      "E:\\MestradoData\\preprocessed\\all\\07\\16*ir2* 30\n",
      "E:\\MestradoData\\preprocessed\\all\\07\\27*ir2* 30\n",
      "E:\\MestradoData\\preprocessed\\all\\07\\15*ir2* 30\n",
      "E:\\MestradoData\\preprocessed\\all\\07\\14*ir2* 30\n",
      "E:\\MestradoData\\preprocessed\\all\\07\\01*ir2* 30\n",
      "E:\\MestradoData\\preprocessed\\all\\07\\31*ir2* 30\n",
      "E:\\MestradoData\\preprocessed\\all\\07\\28*ir2* 30\n",
      "E:\\MestradoData\\preprocessed\\all\\07\\03*ir2* 30\n",
      "E:\\MestradoData\\preprocessed\\all\\07\\37*ir2* 0\n",
      "\n"
     ]
    },
    {
     "data": {
      "application/vnd.jupyter.widget-view+json": {
       "model_id": "11bd8aa8660c48baae270abba72067ae",
       "version_major": 2,
       "version_minor": 0
      },
      "text/html": [
       "<p>Failed to display Jupyter Widget of type <code>HBox</code>.</p>\n",
       "<p>\n",
       "  If you're reading this message in the Jupyter Notebook or JupyterLab Notebook, it may mean\n",
       "  that the widgets JavaScript is still loading. If this message persists, it\n",
       "  likely means that the widgets JavaScript library is either not installed or\n",
       "  not enabled. See the <a href=\"https://ipywidgets.readthedocs.io/en/stable/user_install.html\">Jupyter\n",
       "  Widgets Documentation</a> for setup instructions.\n",
       "</p>\n",
       "<p>\n",
       "  If you're reading this message in another frontend (for example, a static\n",
       "  rendering on GitHub or <a href=\"https://nbviewer.jupyter.org/\">NBViewer</a>),\n",
       "  it may mean that your frontend doesn't currently support widgets.\n",
       "</p>\n"
      ],
      "text/plain": [
       "HBox(children=(IntProgress(value=0, max=7), HTML(value='')))"
      ]
     },
     "metadata": {},
     "output_type": "display_data"
    },
    {
     "name": "stdout",
     "output_type": "stream",
     "text": [
      "E:\\MestradoData\\preprocessed\\all\\07\\13*ir2* 0\n",
      "E:\\MestradoData\\preprocessed\\all\\07\\18*ir2* 0\n",
      "E:\\MestradoData\\preprocessed\\all\\07\\33*ir2* 30\n",
      "E:\\MestradoData\\preprocessed\\all\\07\\19*ir2* 30\n",
      "E:\\MestradoData\\preprocessed\\all\\07\\34*ir2* 30\n",
      "E:\\MestradoData\\preprocessed\\all\\07\\23*ir2* 30\n",
      "E:\\MestradoData\\preprocessed\\all\\07\\04*ir2* 30\n",
      "\n",
      "folders created !\n"
     ]
    },
    {
     "data": {
      "application/vnd.jupyter.widget-view+json": {
       "model_id": "ecc725e217f6467daba41b43a4078e55",
       "version_major": 2,
       "version_minor": 0
      },
      "text/html": [
       "<p>Failed to display Jupyter Widget of type <code>HBox</code>.</p>\n",
       "<p>\n",
       "  If you're reading this message in the Jupyter Notebook or JupyterLab Notebook, it may mean\n",
       "  that the widgets JavaScript is still loading. If this message persists, it\n",
       "  likely means that the widgets JavaScript library is either not installed or\n",
       "  not enabled. See the <a href=\"https://ipywidgets.readthedocs.io/en/stable/user_install.html\">Jupyter\n",
       "  Widgets Documentation</a> for setup instructions.\n",
       "</p>\n",
       "<p>\n",
       "  If you're reading this message in another frontend (for example, a static\n",
       "  rendering on GitHub or <a href=\"https://nbviewer.jupyter.org/\">NBViewer</a>),\n",
       "  it may mean that your frontend doesn't currently support widgets.\n",
       "</p>\n"
      ],
      "text/plain": [
       "HBox(children=(IntProgress(value=0, max=30), HTML(value='')))"
      ]
     },
     "metadata": {},
     "output_type": "display_data"
    },
    {
     "name": "stdout",
     "output_type": "stream",
     "text": [
      "E:\\MestradoData\\preprocessed\\all\\08\\35*ir2* 30\n",
      "E:\\MestradoData\\preprocessed\\all\\08\\05*ir2* 30\n",
      "E:\\MestradoData\\preprocessed\\all\\08\\26*ir2* 30\n",
      "E:\\MestradoData\\preprocessed\\all\\08\\07*ir2* 30\n",
      "E:\\MestradoData\\preprocessed\\all\\08\\25*ir2* 30\n",
      "E:\\MestradoData\\preprocessed\\all\\08\\10*ir2* 30\n",
      "E:\\MestradoData\\preprocessed\\all\\08\\20*ir2* 30\n",
      "E:\\MestradoData\\preprocessed\\all\\08\\22*ir2* 30\n",
      "E:\\MestradoData\\preprocessed\\all\\08\\32*ir2* 30\n",
      "E:\\MestradoData\\preprocessed\\all\\08\\24*ir2* 30\n",
      "E:\\MestradoData\\preprocessed\\all\\08\\12*ir2* 30\n",
      "E:\\MestradoData\\preprocessed\\all\\08\\08*ir2* 30\n",
      "E:\\MestradoData\\preprocessed\\all\\08\\36*ir2* 0\n",
      "E:\\MestradoData\\preprocessed\\all\\08\\11*ir2* 27\n",
      "E:\\MestradoData\\preprocessed\\all\\08\\29*ir2* 30\n",
      "E:\\MestradoData\\preprocessed\\all\\08\\17*ir2* 30\n",
      "E:\\MestradoData\\preprocessed\\all\\08\\02*ir2* 30\n",
      "E:\\MestradoData\\preprocessed\\all\\08\\06*ir2* 30\n",
      "E:\\MestradoData\\preprocessed\\all\\08\\21*ir2* 30\n",
      "E:\\MestradoData\\preprocessed\\all\\08\\09*ir2* 30\n",
      "E:\\MestradoData\\preprocessed\\all\\08\\30*ir2* 30\n",
      "E:\\MestradoData\\preprocessed\\all\\08\\16*ir2* 30\n",
      "E:\\MestradoData\\preprocessed\\all\\08\\27*ir2* 30\n",
      "E:\\MestradoData\\preprocessed\\all\\08\\15*ir2* 30\n",
      "E:\\MestradoData\\preprocessed\\all\\08\\14*ir2* 30\n",
      "E:\\MestradoData\\preprocessed\\all\\08\\01*ir2* 30\n",
      "E:\\MestradoData\\preprocessed\\all\\08\\31*ir2* 30\n",
      "E:\\MestradoData\\preprocessed\\all\\08\\28*ir2* 30\n",
      "E:\\MestradoData\\preprocessed\\all\\08\\03*ir2* 30\n",
      "E:\\MestradoData\\preprocessed\\all\\08\\37*ir2* 0\n",
      "\n"
     ]
    },
    {
     "data": {
      "application/vnd.jupyter.widget-view+json": {
       "model_id": "b10f55a75b6a49c8a2af7095697dcc89",
       "version_major": 2,
       "version_minor": 0
      },
      "text/html": [
       "<p>Failed to display Jupyter Widget of type <code>HBox</code>.</p>\n",
       "<p>\n",
       "  If you're reading this message in the Jupyter Notebook or JupyterLab Notebook, it may mean\n",
       "  that the widgets JavaScript is still loading. If this message persists, it\n",
       "  likely means that the widgets JavaScript library is either not installed or\n",
       "  not enabled. See the <a href=\"https://ipywidgets.readthedocs.io/en/stable/user_install.html\">Jupyter\n",
       "  Widgets Documentation</a> for setup instructions.\n",
       "</p>\n",
       "<p>\n",
       "  If you're reading this message in another frontend (for example, a static\n",
       "  rendering on GitHub or <a href=\"https://nbviewer.jupyter.org/\">NBViewer</a>),\n",
       "  it may mean that your frontend doesn't currently support widgets.\n",
       "</p>\n"
      ],
      "text/plain": [
       "HBox(children=(IntProgress(value=0, max=7), HTML(value='')))"
      ]
     },
     "metadata": {},
     "output_type": "display_data"
    },
    {
     "name": "stdout",
     "output_type": "stream",
     "text": [
      "E:\\MestradoData\\preprocessed\\all\\08\\13*ir2* 0\n",
      "E:\\MestradoData\\preprocessed\\all\\08\\18*ir2* 0\n",
      "E:\\MestradoData\\preprocessed\\all\\08\\33*ir2* 30\n",
      "E:\\MestradoData\\preprocessed\\all\\08\\19*ir2* 30\n",
      "E:\\MestradoData\\preprocessed\\all\\08\\34*ir2* 30\n",
      "E:\\MestradoData\\preprocessed\\all\\08\\23*ir2* 30\n",
      "E:\\MestradoData\\preprocessed\\all\\08\\04*ir2* 30\n",
      "\n",
      "folders created !\n"
     ]
    },
    {
     "data": {
      "application/vnd.jupyter.widget-view+json": {
       "model_id": "48aa30c7fc85481988a6640b4ae17f66",
       "version_major": 2,
       "version_minor": 0
      },
      "text/html": [
       "<p>Failed to display Jupyter Widget of type <code>HBox</code>.</p>\n",
       "<p>\n",
       "  If you're reading this message in the Jupyter Notebook or JupyterLab Notebook, it may mean\n",
       "  that the widgets JavaScript is still loading. If this message persists, it\n",
       "  likely means that the widgets JavaScript library is either not installed or\n",
       "  not enabled. See the <a href=\"https://ipywidgets.readthedocs.io/en/stable/user_install.html\">Jupyter\n",
       "  Widgets Documentation</a> for setup instructions.\n",
       "</p>\n",
       "<p>\n",
       "  If you're reading this message in another frontend (for example, a static\n",
       "  rendering on GitHub or <a href=\"https://nbviewer.jupyter.org/\">NBViewer</a>),\n",
       "  it may mean that your frontend doesn't currently support widgets.\n",
       "</p>\n"
      ],
      "text/plain": [
       "HBox(children=(IntProgress(value=0, max=30), HTML(value='')))"
      ]
     },
     "metadata": {},
     "output_type": "display_data"
    },
    {
     "name": "stdout",
     "output_type": "stream",
     "text": [
      "E:\\MestradoData\\preprocessed\\all\\09\\35*ir2* 30\n",
      "E:\\MestradoData\\preprocessed\\all\\09\\05*ir2* 30\n",
      "E:\\MestradoData\\preprocessed\\all\\09\\26*ir2* 30\n",
      "E:\\MestradoData\\preprocessed\\all\\09\\07*ir2* 30\n",
      "E:\\MestradoData\\preprocessed\\all\\09\\25*ir2* 30\n",
      "E:\\MestradoData\\preprocessed\\all\\09\\10*ir2* 30\n",
      "E:\\MestradoData\\preprocessed\\all\\09\\20*ir2* 30\n",
      "E:\\MestradoData\\preprocessed\\all\\09\\22*ir2* 30\n",
      "E:\\MestradoData\\preprocessed\\all\\09\\32*ir2* 30\n",
      "E:\\MestradoData\\preprocessed\\all\\09\\24*ir2* 30\n",
      "E:\\MestradoData\\preprocessed\\all\\09\\12*ir2* 30\n",
      "E:\\MestradoData\\preprocessed\\all\\09\\08*ir2* 30\n",
      "E:\\MestradoData\\preprocessed\\all\\09\\36*ir2* 0\n",
      "E:\\MestradoData\\preprocessed\\all\\09\\11*ir2* 27\n",
      "E:\\MestradoData\\preprocessed\\all\\09\\29*ir2* 30\n",
      "E:\\MestradoData\\preprocessed\\all\\09\\17*ir2* 30\n",
      "E:\\MestradoData\\preprocessed\\all\\09\\02*ir2* 30\n",
      "E:\\MestradoData\\preprocessed\\all\\09\\06*ir2* 30\n",
      "E:\\MestradoData\\preprocessed\\all\\09\\21*ir2* 30\n",
      "E:\\MestradoData\\preprocessed\\all\\09\\09*ir2* 30\n",
      "E:\\MestradoData\\preprocessed\\all\\09\\30*ir2* 30\n",
      "E:\\MestradoData\\preprocessed\\all\\09\\16*ir2* 30\n",
      "E:\\MestradoData\\preprocessed\\all\\09\\27*ir2* 30\n",
      "E:\\MestradoData\\preprocessed\\all\\09\\15*ir2* 30\n",
      "E:\\MestradoData\\preprocessed\\all\\09\\14*ir2* 30\n",
      "E:\\MestradoData\\preprocessed\\all\\09\\01*ir2* 30\n",
      "E:\\MestradoData\\preprocessed\\all\\09\\31*ir2* 30\n",
      "E:\\MestradoData\\preprocessed\\all\\09\\28*ir2* 30\n",
      "E:\\MestradoData\\preprocessed\\all\\09\\03*ir2* 30\n",
      "E:\\MestradoData\\preprocessed\\all\\09\\37*ir2* 0\n",
      "\n"
     ]
    },
    {
     "data": {
      "application/vnd.jupyter.widget-view+json": {
       "model_id": "623c52a49a66493ab77cd0ae086e042e",
       "version_major": 2,
       "version_minor": 0
      },
      "text/html": [
       "<p>Failed to display Jupyter Widget of type <code>HBox</code>.</p>\n",
       "<p>\n",
       "  If you're reading this message in the Jupyter Notebook or JupyterLab Notebook, it may mean\n",
       "  that the widgets JavaScript is still loading. If this message persists, it\n",
       "  likely means that the widgets JavaScript library is either not installed or\n",
       "  not enabled. See the <a href=\"https://ipywidgets.readthedocs.io/en/stable/user_install.html\">Jupyter\n",
       "  Widgets Documentation</a> for setup instructions.\n",
       "</p>\n",
       "<p>\n",
       "  If you're reading this message in another frontend (for example, a static\n",
       "  rendering on GitHub or <a href=\"https://nbviewer.jupyter.org/\">NBViewer</a>),\n",
       "  it may mean that your frontend doesn't currently support widgets.\n",
       "</p>\n"
      ],
      "text/plain": [
       "HBox(children=(IntProgress(value=0, max=7), HTML(value='')))"
      ]
     },
     "metadata": {},
     "output_type": "display_data"
    },
    {
     "name": "stdout",
     "output_type": "stream",
     "text": [
      "E:\\MestradoData\\preprocessed\\all\\09\\13*ir2* 0\n",
      "E:\\MestradoData\\preprocessed\\all\\09\\18*ir2* 0\n",
      "E:\\MestradoData\\preprocessed\\all\\09\\33*ir2* 30\n",
      "E:\\MestradoData\\preprocessed\\all\\09\\19*ir2* 30\n",
      "E:\\MestradoData\\preprocessed\\all\\09\\34*ir2* 30\n",
      "E:\\MestradoData\\preprocessed\\all\\09\\23*ir2* 30\n",
      "E:\\MestradoData\\preprocessed\\all\\09\\04*ir2* 30\n",
      "\n",
      "folders created !\n"
     ]
    },
    {
     "data": {
      "application/vnd.jupyter.widget-view+json": {
       "model_id": "0e7dbc4634d740e4b3167044ef4fccb8",
       "version_major": 2,
       "version_minor": 0
      },
      "text/html": [
       "<p>Failed to display Jupyter Widget of type <code>HBox</code>.</p>\n",
       "<p>\n",
       "  If you're reading this message in the Jupyter Notebook or JupyterLab Notebook, it may mean\n",
       "  that the widgets JavaScript is still loading. If this message persists, it\n",
       "  likely means that the widgets JavaScript library is either not installed or\n",
       "  not enabled. See the <a href=\"https://ipywidgets.readthedocs.io/en/stable/user_install.html\">Jupyter\n",
       "  Widgets Documentation</a> for setup instructions.\n",
       "</p>\n",
       "<p>\n",
       "  If you're reading this message in another frontend (for example, a static\n",
       "  rendering on GitHub or <a href=\"https://nbviewer.jupyter.org/\">NBViewer</a>),\n",
       "  it may mean that your frontend doesn't currently support widgets.\n",
       "</p>\n"
      ],
      "text/plain": [
       "HBox(children=(IntProgress(value=0, max=30), HTML(value='')))"
      ]
     },
     "metadata": {},
     "output_type": "display_data"
    },
    {
     "name": "stdout",
     "output_type": "stream",
     "text": [
      "E:\\MestradoData\\preprocessed\\all\\10\\35*ir2* 30\n",
      "E:\\MestradoData\\preprocessed\\all\\10\\05*ir2* 30\n",
      "E:\\MestradoData\\preprocessed\\all\\10\\26*ir2* 30\n",
      "E:\\MestradoData\\preprocessed\\all\\10\\07*ir2* 30\n",
      "E:\\MestradoData\\preprocessed\\all\\10\\25*ir2* 30\n",
      "E:\\MestradoData\\preprocessed\\all\\10\\10*ir2* 30\n",
      "E:\\MestradoData\\preprocessed\\all\\10\\20*ir2* 30\n",
      "E:\\MestradoData\\preprocessed\\all\\10\\22*ir2* 30\n",
      "E:\\MestradoData\\preprocessed\\all\\10\\32*ir2* 30\n",
      "E:\\MestradoData\\preprocessed\\all\\10\\24*ir2* 30\n",
      "E:\\MestradoData\\preprocessed\\all\\10\\12*ir2* 30\n",
      "E:\\MestradoData\\preprocessed\\all\\10\\08*ir2* 30\n",
      "E:\\MestradoData\\preprocessed\\all\\10\\36*ir2* 0\n",
      "E:\\MestradoData\\preprocessed\\all\\10\\11*ir2* 27\n",
      "E:\\MestradoData\\preprocessed\\all\\10\\29*ir2* 30\n",
      "E:\\MestradoData\\preprocessed\\all\\10\\17*ir2* 30\n",
      "E:\\MestradoData\\preprocessed\\all\\10\\02*ir2* 30\n",
      "E:\\MestradoData\\preprocessed\\all\\10\\06*ir2* 30\n",
      "E:\\MestradoData\\preprocessed\\all\\10\\21*ir2* 30\n",
      "E:\\MestradoData\\preprocessed\\all\\10\\09*ir2* 30\n",
      "E:\\MestradoData\\preprocessed\\all\\10\\30*ir2* 30\n",
      "E:\\MestradoData\\preprocessed\\all\\10\\16*ir2* 30\n",
      "E:\\MestradoData\\preprocessed\\all\\10\\27*ir2* 30\n",
      "E:\\MestradoData\\preprocessed\\all\\10\\15*ir2* 30\n",
      "E:\\MestradoData\\preprocessed\\all\\10\\14*ir2* 30\n",
      "E:\\MestradoData\\preprocessed\\all\\10\\01*ir2* 30\n",
      "E:\\MestradoData\\preprocessed\\all\\10\\31*ir2* 30\n",
      "E:\\MestradoData\\preprocessed\\all\\10\\28*ir2* 30\n",
      "E:\\MestradoData\\preprocessed\\all\\10\\03*ir2* 30\n",
      "E:\\MestradoData\\preprocessed\\all\\10\\37*ir2* 0\n",
      "\n"
     ]
    },
    {
     "data": {
      "application/vnd.jupyter.widget-view+json": {
       "model_id": "8ee5a796c6054dc58298efb067bf6281",
       "version_major": 2,
       "version_minor": 0
      },
      "text/html": [
       "<p>Failed to display Jupyter Widget of type <code>HBox</code>.</p>\n",
       "<p>\n",
       "  If you're reading this message in the Jupyter Notebook or JupyterLab Notebook, it may mean\n",
       "  that the widgets JavaScript is still loading. If this message persists, it\n",
       "  likely means that the widgets JavaScript library is either not installed or\n",
       "  not enabled. See the <a href=\"https://ipywidgets.readthedocs.io/en/stable/user_install.html\">Jupyter\n",
       "  Widgets Documentation</a> for setup instructions.\n",
       "</p>\n",
       "<p>\n",
       "  If you're reading this message in another frontend (for example, a static\n",
       "  rendering on GitHub or <a href=\"https://nbviewer.jupyter.org/\">NBViewer</a>),\n",
       "  it may mean that your frontend doesn't currently support widgets.\n",
       "</p>\n"
      ],
      "text/plain": [
       "HBox(children=(IntProgress(value=0, max=7), HTML(value='')))"
      ]
     },
     "metadata": {},
     "output_type": "display_data"
    },
    {
     "name": "stdout",
     "output_type": "stream",
     "text": [
      "E:\\MestradoData\\preprocessed\\all\\10\\13*ir2* 0\n",
      "E:\\MestradoData\\preprocessed\\all\\10\\18*ir2* 0\n",
      "E:\\MestradoData\\preprocessed\\all\\10\\33*ir2* 30\n",
      "E:\\MestradoData\\preprocessed\\all\\10\\19*ir2* 30\n",
      "E:\\MestradoData\\preprocessed\\all\\10\\34*ir2* 30\n",
      "E:\\MestradoData\\preprocessed\\all\\10\\23*ir2* 30\n",
      "E:\\MestradoData\\preprocessed\\all\\10\\04*ir2* 30\n",
      "\n",
      "folders created !\n"
     ]
    },
    {
     "data": {
      "application/vnd.jupyter.widget-view+json": {
       "model_id": "12a70b065f39446f935904a5ab2bd850",
       "version_major": 2,
       "version_minor": 0
      },
      "text/html": [
       "<p>Failed to display Jupyter Widget of type <code>HBox</code>.</p>\n",
       "<p>\n",
       "  If you're reading this message in the Jupyter Notebook or JupyterLab Notebook, it may mean\n",
       "  that the widgets JavaScript is still loading. If this message persists, it\n",
       "  likely means that the widgets JavaScript library is either not installed or\n",
       "  not enabled. See the <a href=\"https://ipywidgets.readthedocs.io/en/stable/user_install.html\">Jupyter\n",
       "  Widgets Documentation</a> for setup instructions.\n",
       "</p>\n",
       "<p>\n",
       "  If you're reading this message in another frontend (for example, a static\n",
       "  rendering on GitHub or <a href=\"https://nbviewer.jupyter.org/\">NBViewer</a>),\n",
       "  it may mean that your frontend doesn't currently support widgets.\n",
       "</p>\n"
      ],
      "text/plain": [
       "HBox(children=(IntProgress(value=0, max=30), HTML(value='')))"
      ]
     },
     "metadata": {},
     "output_type": "display_data"
    },
    {
     "name": "stdout",
     "output_type": "stream",
     "text": [
      "E:\\MestradoData\\preprocessed\\all\\11\\35*ir2* 30\n",
      "E:\\MestradoData\\preprocessed\\all\\11\\05*ir2* 30\n",
      "E:\\MestradoData\\preprocessed\\all\\11\\26*ir2* 30\n",
      "E:\\MestradoData\\preprocessed\\all\\11\\07*ir2* 30\n",
      "E:\\MestradoData\\preprocessed\\all\\11\\25*ir2* 30\n",
      "E:\\MestradoData\\preprocessed\\all\\11\\10*ir2* 30\n",
      "E:\\MestradoData\\preprocessed\\all\\11\\20*ir2* 30\n",
      "E:\\MestradoData\\preprocessed\\all\\11\\22*ir2* 30\n",
      "E:\\MestradoData\\preprocessed\\all\\11\\32*ir2* 30\n",
      "E:\\MestradoData\\preprocessed\\all\\11\\24*ir2* 30\n",
      "E:\\MestradoData\\preprocessed\\all\\11\\12*ir2* 30\n",
      "E:\\MestradoData\\preprocessed\\all\\11\\08*ir2* 30\n",
      "E:\\MestradoData\\preprocessed\\all\\11\\36*ir2* 0\n",
      "E:\\MestradoData\\preprocessed\\all\\11\\11*ir2* 27\n",
      "E:\\MestradoData\\preprocessed\\all\\11\\29*ir2* 30\n",
      "E:\\MestradoData\\preprocessed\\all\\11\\17*ir2* 30\n",
      "E:\\MestradoData\\preprocessed\\all\\11\\02*ir2* 30\n",
      "E:\\MestradoData\\preprocessed\\all\\11\\06*ir2* 30\n",
      "E:\\MestradoData\\preprocessed\\all\\11\\21*ir2* 30\n",
      "E:\\MestradoData\\preprocessed\\all\\11\\09*ir2* 30\n",
      "E:\\MestradoData\\preprocessed\\all\\11\\30*ir2* 30\n",
      "E:\\MestradoData\\preprocessed\\all\\11\\16*ir2* 30\n",
      "E:\\MestradoData\\preprocessed\\all\\11\\27*ir2* 30\n",
      "E:\\MestradoData\\preprocessed\\all\\11\\15*ir2* 30\n",
      "E:\\MestradoData\\preprocessed\\all\\11\\14*ir2* 30\n",
      "E:\\MestradoData\\preprocessed\\all\\11\\01*ir2* 30\n",
      "E:\\MestradoData\\preprocessed\\all\\11\\31*ir2* 30\n",
      "E:\\MestradoData\\preprocessed\\all\\11\\28*ir2* 30\n",
      "E:\\MestradoData\\preprocessed\\all\\11\\03*ir2* 30\n",
      "E:\\MestradoData\\preprocessed\\all\\11\\37*ir2* 0\n",
      "\n"
     ]
    },
    {
     "data": {
      "application/vnd.jupyter.widget-view+json": {
       "model_id": "8136183504fb489dab237e16b54e7f5d",
       "version_major": 2,
       "version_minor": 0
      },
      "text/html": [
       "<p>Failed to display Jupyter Widget of type <code>HBox</code>.</p>\n",
       "<p>\n",
       "  If you're reading this message in the Jupyter Notebook or JupyterLab Notebook, it may mean\n",
       "  that the widgets JavaScript is still loading. If this message persists, it\n",
       "  likely means that the widgets JavaScript library is either not installed or\n",
       "  not enabled. See the <a href=\"https://ipywidgets.readthedocs.io/en/stable/user_install.html\">Jupyter\n",
       "  Widgets Documentation</a> for setup instructions.\n",
       "</p>\n",
       "<p>\n",
       "  If you're reading this message in another frontend (for example, a static\n",
       "  rendering on GitHub or <a href=\"https://nbviewer.jupyter.org/\">NBViewer</a>),\n",
       "  it may mean that your frontend doesn't currently support widgets.\n",
       "</p>\n"
      ],
      "text/plain": [
       "HBox(children=(IntProgress(value=0, max=7), HTML(value='')))"
      ]
     },
     "metadata": {},
     "output_type": "display_data"
    },
    {
     "name": "stdout",
     "output_type": "stream",
     "text": [
      "E:\\MestradoData\\preprocessed\\all\\11\\13*ir2* 0\n",
      "E:\\MestradoData\\preprocessed\\all\\11\\18*ir2* 0\n",
      "E:\\MestradoData\\preprocessed\\all\\11\\33*ir2* 30\n",
      "E:\\MestradoData\\preprocessed\\all\\11\\19*ir2* 30\n",
      "E:\\MestradoData\\preprocessed\\all\\11\\34*ir2* 30\n",
      "E:\\MestradoData\\preprocessed\\all\\11\\23*ir2* 30\n",
      "E:\\MestradoData\\preprocessed\\all\\11\\04*ir2* 30\n",
      "\n",
      "folders created !\n"
     ]
    },
    {
     "data": {
      "application/vnd.jupyter.widget-view+json": {
       "model_id": "e89afa6d7bb24fa1b70fa11de914b601",
       "version_major": 2,
       "version_minor": 0
      },
      "text/html": [
       "<p>Failed to display Jupyter Widget of type <code>HBox</code>.</p>\n",
       "<p>\n",
       "  If you're reading this message in the Jupyter Notebook or JupyterLab Notebook, it may mean\n",
       "  that the widgets JavaScript is still loading. If this message persists, it\n",
       "  likely means that the widgets JavaScript library is either not installed or\n",
       "  not enabled. See the <a href=\"https://ipywidgets.readthedocs.io/en/stable/user_install.html\">Jupyter\n",
       "  Widgets Documentation</a> for setup instructions.\n",
       "</p>\n",
       "<p>\n",
       "  If you're reading this message in another frontend (for example, a static\n",
       "  rendering on GitHub or <a href=\"https://nbviewer.jupyter.org/\">NBViewer</a>),\n",
       "  it may mean that your frontend doesn't currently support widgets.\n",
       "</p>\n"
      ],
      "text/plain": [
       "HBox(children=(IntProgress(value=0, max=30), HTML(value='')))"
      ]
     },
     "metadata": {},
     "output_type": "display_data"
    },
    {
     "name": "stdout",
     "output_type": "stream",
     "text": [
      "E:\\MestradoData\\preprocessed\\all\\12\\35*ir2* 30\n",
      "E:\\MestradoData\\preprocessed\\all\\12\\05*ir2* 30\n",
      "E:\\MestradoData\\preprocessed\\all\\12\\26*ir2* 30\n",
      "E:\\MestradoData\\preprocessed\\all\\12\\07*ir2* 30\n",
      "E:\\MestradoData\\preprocessed\\all\\12\\25*ir2* 30\n",
      "E:\\MestradoData\\preprocessed\\all\\12\\10*ir2* 30\n",
      "E:\\MestradoData\\preprocessed\\all\\12\\20*ir2* 30\n",
      "E:\\MestradoData\\preprocessed\\all\\12\\22*ir2* 30\n",
      "E:\\MestradoData\\preprocessed\\all\\12\\32*ir2* 30\n",
      "E:\\MestradoData\\preprocessed\\all\\12\\24*ir2* 30\n",
      "E:\\MestradoData\\preprocessed\\all\\12\\12*ir2* 30\n",
      "E:\\MestradoData\\preprocessed\\all\\12\\08*ir2* 30\n",
      "E:\\MestradoData\\preprocessed\\all\\12\\36*ir2* 0\n",
      "E:\\MestradoData\\preprocessed\\all\\12\\11*ir2* 27\n",
      "E:\\MestradoData\\preprocessed\\all\\12\\29*ir2* 30\n",
      "E:\\MestradoData\\preprocessed\\all\\12\\17*ir2* 30\n",
      "E:\\MestradoData\\preprocessed\\all\\12\\02*ir2* 30\n",
      "E:\\MestradoData\\preprocessed\\all\\12\\06*ir2* 30\n",
      "E:\\MestradoData\\preprocessed\\all\\12\\21*ir2* 30\n",
      "E:\\MestradoData\\preprocessed\\all\\12\\09*ir2* 30\n",
      "E:\\MestradoData\\preprocessed\\all\\12\\30*ir2* 30\n",
      "E:\\MestradoData\\preprocessed\\all\\12\\16*ir2* 30\n",
      "E:\\MestradoData\\preprocessed\\all\\12\\27*ir2* 30\n",
      "E:\\MestradoData\\preprocessed\\all\\12\\15*ir2* 30\n",
      "E:\\MestradoData\\preprocessed\\all\\12\\14*ir2* 30\n",
      "E:\\MestradoData\\preprocessed\\all\\12\\01*ir2* 30\n",
      "E:\\MestradoData\\preprocessed\\all\\12\\31*ir2* 30\n",
      "E:\\MestradoData\\preprocessed\\all\\12\\28*ir2* 30\n",
      "E:\\MestradoData\\preprocessed\\all\\12\\03*ir2* 30\n",
      "E:\\MestradoData\\preprocessed\\all\\12\\37*ir2* 0\n",
      "\n"
     ]
    },
    {
     "data": {
      "application/vnd.jupyter.widget-view+json": {
       "model_id": "1d9b665d4ce143dcbb066a9d690c88b7",
       "version_major": 2,
       "version_minor": 0
      },
      "text/html": [
       "<p>Failed to display Jupyter Widget of type <code>HBox</code>.</p>\n",
       "<p>\n",
       "  If you're reading this message in the Jupyter Notebook or JupyterLab Notebook, it may mean\n",
       "  that the widgets JavaScript is still loading. If this message persists, it\n",
       "  likely means that the widgets JavaScript library is either not installed or\n",
       "  not enabled. See the <a href=\"https://ipywidgets.readthedocs.io/en/stable/user_install.html\">Jupyter\n",
       "  Widgets Documentation</a> for setup instructions.\n",
       "</p>\n",
       "<p>\n",
       "  If you're reading this message in another frontend (for example, a static\n",
       "  rendering on GitHub or <a href=\"https://nbviewer.jupyter.org/\">NBViewer</a>),\n",
       "  it may mean that your frontend doesn't currently support widgets.\n",
       "</p>\n"
      ],
      "text/plain": [
       "HBox(children=(IntProgress(value=0, max=7), HTML(value='')))"
      ]
     },
     "metadata": {},
     "output_type": "display_data"
    },
    {
     "name": "stdout",
     "output_type": "stream",
     "text": [
      "E:\\MestradoData\\preprocessed\\all\\12\\13*ir2* 0\n",
      "E:\\MestradoData\\preprocessed\\all\\12\\18*ir2* 0\n",
      "E:\\MestradoData\\preprocessed\\all\\12\\33*ir2* 30\n",
      "E:\\MestradoData\\preprocessed\\all\\12\\19*ir2* 30\n",
      "E:\\MestradoData\\preprocessed\\all\\12\\34*ir2* 30\n",
      "E:\\MestradoData\\preprocessed\\all\\12\\23*ir2* 30\n",
      "E:\\MestradoData\\preprocessed\\all\\12\\04*ir2* 30\n",
      "\n",
      "folders created !\n"
     ]
    },
    {
     "data": {
      "application/vnd.jupyter.widget-view+json": {
       "model_id": "80fd7dc33032472fb10caab98a4cc91c",
       "version_major": 2,
       "version_minor": 0
      },
      "text/html": [
       "<p>Failed to display Jupyter Widget of type <code>HBox</code>.</p>\n",
       "<p>\n",
       "  If you're reading this message in the Jupyter Notebook or JupyterLab Notebook, it may mean\n",
       "  that the widgets JavaScript is still loading. If this message persists, it\n",
       "  likely means that the widgets JavaScript library is either not installed or\n",
       "  not enabled. See the <a href=\"https://ipywidgets.readthedocs.io/en/stable/user_install.html\">Jupyter\n",
       "  Widgets Documentation</a> for setup instructions.\n",
       "</p>\n",
       "<p>\n",
       "  If you're reading this message in another frontend (for example, a static\n",
       "  rendering on GitHub or <a href=\"https://nbviewer.jupyter.org/\">NBViewer</a>),\n",
       "  it may mean that your frontend doesn't currently support widgets.\n",
       "</p>\n"
      ],
      "text/plain": [
       "HBox(children=(IntProgress(value=0, max=30), HTML(value='')))"
      ]
     },
     "metadata": {},
     "output_type": "display_data"
    },
    {
     "name": "stdout",
     "output_type": "stream",
     "text": [
      "E:\\MestradoData\\preprocessed\\all\\13\\35*ir2* 30\n",
      "E:\\MestradoData\\preprocessed\\all\\13\\05*ir2* 30\n",
      "E:\\MestradoData\\preprocessed\\all\\13\\26*ir2* 30\n",
      "E:\\MestradoData\\preprocessed\\all\\13\\07*ir2* 30\n",
      "E:\\MestradoData\\preprocessed\\all\\13\\25*ir2* 30\n",
      "E:\\MestradoData\\preprocessed\\all\\13\\10*ir2* 30\n",
      "E:\\MestradoData\\preprocessed\\all\\13\\20*ir2* 30\n",
      "E:\\MestradoData\\preprocessed\\all\\13\\22*ir2* 30\n",
      "E:\\MestradoData\\preprocessed\\all\\13\\32*ir2* 30\n",
      "E:\\MestradoData\\preprocessed\\all\\13\\24*ir2* 30\n",
      "E:\\MestradoData\\preprocessed\\all\\13\\12*ir2* 30\n",
      "E:\\MestradoData\\preprocessed\\all\\13\\08*ir2* 30\n",
      "E:\\MestradoData\\preprocessed\\all\\13\\36*ir2* 0\n",
      "E:\\MestradoData\\preprocessed\\all\\13\\11*ir2* 27\n",
      "E:\\MestradoData\\preprocessed\\all\\13\\29*ir2* 30\n",
      "E:\\MestradoData\\preprocessed\\all\\13\\17*ir2* 30\n",
      "E:\\MestradoData\\preprocessed\\all\\13\\02*ir2* 30\n",
      "E:\\MestradoData\\preprocessed\\all\\13\\06*ir2* 30\n",
      "E:\\MestradoData\\preprocessed\\all\\13\\21*ir2* 30\n",
      "E:\\MestradoData\\preprocessed\\all\\13\\09*ir2* 30\n",
      "E:\\MestradoData\\preprocessed\\all\\13\\30*ir2* 30\n",
      "E:\\MestradoData\\preprocessed\\all\\13\\16*ir2* 30\n",
      "E:\\MestradoData\\preprocessed\\all\\13\\27*ir2* 30\n",
      "E:\\MestradoData\\preprocessed\\all\\13\\15*ir2* 30\n",
      "E:\\MestradoData\\preprocessed\\all\\13\\14*ir2* 30\n",
      "E:\\MestradoData\\preprocessed\\all\\13\\01*ir2* 30\n",
      "E:\\MestradoData\\preprocessed\\all\\13\\31*ir2* 30\n",
      "E:\\MestradoData\\preprocessed\\all\\13\\28*ir2* 30\n",
      "E:\\MestradoData\\preprocessed\\all\\13\\03*ir2* 30\n",
      "E:\\MestradoData\\preprocessed\\all\\13\\37*ir2* 0\n",
      "\n"
     ]
    },
    {
     "data": {
      "application/vnd.jupyter.widget-view+json": {
       "model_id": "031002c8bfb3473f8429dc06b37ef4c2",
       "version_major": 2,
       "version_minor": 0
      },
      "text/html": [
       "<p>Failed to display Jupyter Widget of type <code>HBox</code>.</p>\n",
       "<p>\n",
       "  If you're reading this message in the Jupyter Notebook or JupyterLab Notebook, it may mean\n",
       "  that the widgets JavaScript is still loading. If this message persists, it\n",
       "  likely means that the widgets JavaScript library is either not installed or\n",
       "  not enabled. See the <a href=\"https://ipywidgets.readthedocs.io/en/stable/user_install.html\">Jupyter\n",
       "  Widgets Documentation</a> for setup instructions.\n",
       "</p>\n",
       "<p>\n",
       "  If you're reading this message in another frontend (for example, a static\n",
       "  rendering on GitHub or <a href=\"https://nbviewer.jupyter.org/\">NBViewer</a>),\n",
       "  it may mean that your frontend doesn't currently support widgets.\n",
       "</p>\n"
      ],
      "text/plain": [
       "HBox(children=(IntProgress(value=0, max=7), HTML(value='')))"
      ]
     },
     "metadata": {},
     "output_type": "display_data"
    },
    {
     "name": "stdout",
     "output_type": "stream",
     "text": [
      "E:\\MestradoData\\preprocessed\\all\\13\\13*ir2* 0\n",
      "E:\\MestradoData\\preprocessed\\all\\13\\18*ir2* 0\n",
      "E:\\MestradoData\\preprocessed\\all\\13\\33*ir2* 30\n",
      "E:\\MestradoData\\preprocessed\\all\\13\\19*ir2* 30\n",
      "E:\\MestradoData\\preprocessed\\all\\13\\34*ir2* 30\n",
      "E:\\MestradoData\\preprocessed\\all\\13\\23*ir2* 30\n",
      "E:\\MestradoData\\preprocessed\\all\\13\\04*ir2* 30\n",
      "\n",
      "folders created !\n"
     ]
    },
    {
     "data": {
      "application/vnd.jupyter.widget-view+json": {
       "model_id": "6998d5570a0d4decb38ab1e9a75d8f3a",
       "version_major": 2,
       "version_minor": 0
      },
      "text/html": [
       "<p>Failed to display Jupyter Widget of type <code>HBox</code>.</p>\n",
       "<p>\n",
       "  If you're reading this message in the Jupyter Notebook or JupyterLab Notebook, it may mean\n",
       "  that the widgets JavaScript is still loading. If this message persists, it\n",
       "  likely means that the widgets JavaScript library is either not installed or\n",
       "  not enabled. See the <a href=\"https://ipywidgets.readthedocs.io/en/stable/user_install.html\">Jupyter\n",
       "  Widgets Documentation</a> for setup instructions.\n",
       "</p>\n",
       "<p>\n",
       "  If you're reading this message in another frontend (for example, a static\n",
       "  rendering on GitHub or <a href=\"https://nbviewer.jupyter.org/\">NBViewer</a>),\n",
       "  it may mean that your frontend doesn't currently support widgets.\n",
       "</p>\n"
      ],
      "text/plain": [
       "HBox(children=(IntProgress(value=0, max=30), HTML(value='')))"
      ]
     },
     "metadata": {},
     "output_type": "display_data"
    },
    {
     "name": "stdout",
     "output_type": "stream",
     "text": [
      "E:\\MestradoData\\preprocessed\\all\\14\\35*ir2* 30\n",
      "E:\\MestradoData\\preprocessed\\all\\14\\05*ir2* 30\n",
      "E:\\MestradoData\\preprocessed\\all\\14\\26*ir2* 30\n",
      "E:\\MestradoData\\preprocessed\\all\\14\\07*ir2* 30\n",
      "E:\\MestradoData\\preprocessed\\all\\14\\25*ir2* 30\n",
      "E:\\MestradoData\\preprocessed\\all\\14\\10*ir2* 30\n",
      "E:\\MestradoData\\preprocessed\\all\\14\\20*ir2* 30\n",
      "E:\\MestradoData\\preprocessed\\all\\14\\22*ir2* 30\n",
      "E:\\MestradoData\\preprocessed\\all\\14\\32*ir2* 30\n",
      "E:\\MestradoData\\preprocessed\\all\\14\\24*ir2* 30\n",
      "E:\\MestradoData\\preprocessed\\all\\14\\12*ir2* 30\n",
      "E:\\MestradoData\\preprocessed\\all\\14\\08*ir2* 30\n",
      "E:\\MestradoData\\preprocessed\\all\\14\\36*ir2* 0\n",
      "E:\\MestradoData\\preprocessed\\all\\14\\11*ir2* 27\n",
      "E:\\MestradoData\\preprocessed\\all\\14\\29*ir2* 30\n",
      "E:\\MestradoData\\preprocessed\\all\\14\\17*ir2* 30\n",
      "E:\\MestradoData\\preprocessed\\all\\14\\02*ir2* 30\n",
      "E:\\MestradoData\\preprocessed\\all\\14\\06*ir2* 30\n",
      "E:\\MestradoData\\preprocessed\\all\\14\\21*ir2* 30\n",
      "E:\\MestradoData\\preprocessed\\all\\14\\09*ir2* 30\n",
      "E:\\MestradoData\\preprocessed\\all\\14\\30*ir2* 30\n",
      "E:\\MestradoData\\preprocessed\\all\\14\\16*ir2* 30\n",
      "E:\\MestradoData\\preprocessed\\all\\14\\27*ir2* 30\n",
      "E:\\MestradoData\\preprocessed\\all\\14\\15*ir2* 30\n",
      "E:\\MestradoData\\preprocessed\\all\\14\\14*ir2* 30\n",
      "E:\\MestradoData\\preprocessed\\all\\14\\01*ir2* 30\n",
      "E:\\MestradoData\\preprocessed\\all\\14\\31*ir2* 30\n",
      "E:\\MestradoData\\preprocessed\\all\\14\\28*ir2* 30\n",
      "E:\\MestradoData\\preprocessed\\all\\14\\03*ir2* 30\n",
      "E:\\MestradoData\\preprocessed\\all\\14\\37*ir2* 0\n",
      "\n"
     ]
    },
    {
     "data": {
      "application/vnd.jupyter.widget-view+json": {
       "model_id": "82228126153c4987b70b8972171c10e5",
       "version_major": 2,
       "version_minor": 0
      },
      "text/html": [
       "<p>Failed to display Jupyter Widget of type <code>HBox</code>.</p>\n",
       "<p>\n",
       "  If you're reading this message in the Jupyter Notebook or JupyterLab Notebook, it may mean\n",
       "  that the widgets JavaScript is still loading. If this message persists, it\n",
       "  likely means that the widgets JavaScript library is either not installed or\n",
       "  not enabled. See the <a href=\"https://ipywidgets.readthedocs.io/en/stable/user_install.html\">Jupyter\n",
       "  Widgets Documentation</a> for setup instructions.\n",
       "</p>\n",
       "<p>\n",
       "  If you're reading this message in another frontend (for example, a static\n",
       "  rendering on GitHub or <a href=\"https://nbviewer.jupyter.org/\">NBViewer</a>),\n",
       "  it may mean that your frontend doesn't currently support widgets.\n",
       "</p>\n"
      ],
      "text/plain": [
       "HBox(children=(IntProgress(value=0, max=7), HTML(value='')))"
      ]
     },
     "metadata": {},
     "output_type": "display_data"
    },
    {
     "name": "stdout",
     "output_type": "stream",
     "text": [
      "E:\\MestradoData\\preprocessed\\all\\14\\13*ir2* 0\n",
      "E:\\MestradoData\\preprocessed\\all\\14\\18*ir2* 0\n",
      "E:\\MestradoData\\preprocessed\\all\\14\\33*ir2* 0\n",
      "E:\\MestradoData\\preprocessed\\all\\14\\19*ir2* 30\n",
      "E:\\MestradoData\\preprocessed\\all\\14\\34*ir2* 30\n",
      "E:\\MestradoData\\preprocessed\\all\\14\\23*ir2* 30\n",
      "E:\\MestradoData\\preprocessed\\all\\14\\04*ir2* 30\n",
      "\n",
      "folders created !\n"
     ]
    },
    {
     "data": {
      "application/vnd.jupyter.widget-view+json": {
       "model_id": "e3ae60e1d99d42de9ff51cd2dee2e749",
       "version_major": 2,
       "version_minor": 0
      },
      "text/html": [
       "<p>Failed to display Jupyter Widget of type <code>HBox</code>.</p>\n",
       "<p>\n",
       "  If you're reading this message in the Jupyter Notebook or JupyterLab Notebook, it may mean\n",
       "  that the widgets JavaScript is still loading. If this message persists, it\n",
       "  likely means that the widgets JavaScript library is either not installed or\n",
       "  not enabled. See the <a href=\"https://ipywidgets.readthedocs.io/en/stable/user_install.html\">Jupyter\n",
       "  Widgets Documentation</a> for setup instructions.\n",
       "</p>\n",
       "<p>\n",
       "  If you're reading this message in another frontend (for example, a static\n",
       "  rendering on GitHub or <a href=\"https://nbviewer.jupyter.org/\">NBViewer</a>),\n",
       "  it may mean that your frontend doesn't currently support widgets.\n",
       "</p>\n"
      ],
      "text/plain": [
       "HBox(children=(IntProgress(value=0, max=30), HTML(value='')))"
      ]
     },
     "metadata": {},
     "output_type": "display_data"
    },
    {
     "name": "stdout",
     "output_type": "stream",
     "text": [
      "E:\\MestradoData\\preprocessed\\all\\15\\35*ir2* 30\n",
      "E:\\MestradoData\\preprocessed\\all\\15\\05*ir2* 0\n",
      "E:\\MestradoData\\preprocessed\\all\\15\\26*ir2* 30\n",
      "E:\\MestradoData\\preprocessed\\all\\15\\07*ir2* 30\n",
      "E:\\MestradoData\\preprocessed\\all\\15\\25*ir2* 30\n",
      "E:\\MestradoData\\preprocessed\\all\\15\\10*ir2* 30\n",
      "E:\\MestradoData\\preprocessed\\all\\15\\20*ir2* 30\n",
      "E:\\MestradoData\\preprocessed\\all\\15\\22*ir2* 30\n",
      "E:\\MestradoData\\preprocessed\\all\\15\\32*ir2* 30\n",
      "E:\\MestradoData\\preprocessed\\all\\15\\24*ir2* 30\n",
      "E:\\MestradoData\\preprocessed\\all\\15\\12*ir2* 30\n",
      "E:\\MestradoData\\preprocessed\\all\\15\\08*ir2* 30\n",
      "E:\\MestradoData\\preprocessed\\all\\15\\36*ir2* 0\n",
      "E:\\MestradoData\\preprocessed\\all\\15\\11*ir2* 27\n",
      "E:\\MestradoData\\preprocessed\\all\\15\\29*ir2* 30\n",
      "E:\\MestradoData\\preprocessed\\all\\15\\17*ir2* 30\n",
      "E:\\MestradoData\\preprocessed\\all\\15\\02*ir2* 30\n",
      "E:\\MestradoData\\preprocessed\\all\\15\\06*ir2* 30\n",
      "E:\\MestradoData\\preprocessed\\all\\15\\21*ir2* 30\n",
      "E:\\MestradoData\\preprocessed\\all\\15\\09*ir2* 30\n",
      "E:\\MestradoData\\preprocessed\\all\\15\\30*ir2* 30\n",
      "E:\\MestradoData\\preprocessed\\all\\15\\16*ir2* 30\n",
      "E:\\MestradoData\\preprocessed\\all\\15\\27*ir2* 30\n",
      "E:\\MestradoData\\preprocessed\\all\\15\\15*ir2* 30\n",
      "E:\\MestradoData\\preprocessed\\all\\15\\14*ir2* 30\n",
      "E:\\MestradoData\\preprocessed\\all\\15\\01*ir2* 30\n",
      "E:\\MestradoData\\preprocessed\\all\\15\\31*ir2* 30\n",
      "E:\\MestradoData\\preprocessed\\all\\15\\28*ir2* 30\n",
      "E:\\MestradoData\\preprocessed\\all\\15\\03*ir2* 30\n",
      "E:\\MestradoData\\preprocessed\\all\\15\\37*ir2* 0\n",
      "\n"
     ]
    },
    {
     "data": {
      "application/vnd.jupyter.widget-view+json": {
       "model_id": "9366554534f843c199e797420c71a30d",
       "version_major": 2,
       "version_minor": 0
      },
      "text/html": [
       "<p>Failed to display Jupyter Widget of type <code>HBox</code>.</p>\n",
       "<p>\n",
       "  If you're reading this message in the Jupyter Notebook or JupyterLab Notebook, it may mean\n",
       "  that the widgets JavaScript is still loading. If this message persists, it\n",
       "  likely means that the widgets JavaScript library is either not installed or\n",
       "  not enabled. See the <a href=\"https://ipywidgets.readthedocs.io/en/stable/user_install.html\">Jupyter\n",
       "  Widgets Documentation</a> for setup instructions.\n",
       "</p>\n",
       "<p>\n",
       "  If you're reading this message in another frontend (for example, a static\n",
       "  rendering on GitHub or <a href=\"https://nbviewer.jupyter.org/\">NBViewer</a>),\n",
       "  it may mean that your frontend doesn't currently support widgets.\n",
       "</p>\n"
      ],
      "text/plain": [
       "HBox(children=(IntProgress(value=0, max=7), HTML(value='')))"
      ]
     },
     "metadata": {},
     "output_type": "display_data"
    },
    {
     "name": "stdout",
     "output_type": "stream",
     "text": [
      "E:\\MestradoData\\preprocessed\\all\\15\\13*ir2* 0\n",
      "E:\\MestradoData\\preprocessed\\all\\15\\18*ir2* 0\n",
      "E:\\MestradoData\\preprocessed\\all\\15\\33*ir2* 30\n",
      "E:\\MestradoData\\preprocessed\\all\\15\\19*ir2* 30\n",
      "E:\\MestradoData\\preprocessed\\all\\15\\34*ir2* 30\n",
      "E:\\MestradoData\\preprocessed\\all\\15\\23*ir2* 30\n",
      "E:\\MestradoData\\preprocessed\\all\\15\\04*ir2* 30\n",
      "\n",
      "folders created !\n"
     ]
    },
    {
     "data": {
      "application/vnd.jupyter.widget-view+json": {
       "model_id": "33c14b6cf9fb4031bd6347ae4d23c453",
       "version_major": 2,
       "version_minor": 0
      },
      "text/html": [
       "<p>Failed to display Jupyter Widget of type <code>HBox</code>.</p>\n",
       "<p>\n",
       "  If you're reading this message in the Jupyter Notebook or JupyterLab Notebook, it may mean\n",
       "  that the widgets JavaScript is still loading. If this message persists, it\n",
       "  likely means that the widgets JavaScript library is either not installed or\n",
       "  not enabled. See the <a href=\"https://ipywidgets.readthedocs.io/en/stable/user_install.html\">Jupyter\n",
       "  Widgets Documentation</a> for setup instructions.\n",
       "</p>\n",
       "<p>\n",
       "  If you're reading this message in another frontend (for example, a static\n",
       "  rendering on GitHub or <a href=\"https://nbviewer.jupyter.org/\">NBViewer</a>),\n",
       "  it may mean that your frontend doesn't currently support widgets.\n",
       "</p>\n"
      ],
      "text/plain": [
       "HBox(children=(IntProgress(value=0, max=30), HTML(value='')))"
      ]
     },
     "metadata": {},
     "output_type": "display_data"
    },
    {
     "name": "stdout",
     "output_type": "stream",
     "text": [
      "E:\\MestradoData\\preprocessed\\all\\16\\35*ir2* 30\n",
      "E:\\MestradoData\\preprocessed\\all\\16\\05*ir2* 30\n",
      "E:\\MestradoData\\preprocessed\\all\\16\\26*ir2* 30\n",
      "E:\\MestradoData\\preprocessed\\all\\16\\07*ir2* 30\n",
      "E:\\MestradoData\\preprocessed\\all\\16\\25*ir2* 30\n",
      "E:\\MestradoData\\preprocessed\\all\\16\\10*ir2* 30\n",
      "E:\\MestradoData\\preprocessed\\all\\16\\20*ir2* 30\n",
      "E:\\MestradoData\\preprocessed\\all\\16\\22*ir2* 30\n",
      "E:\\MestradoData\\preprocessed\\all\\16\\32*ir2* 30\n",
      "E:\\MestradoData\\preprocessed\\all\\16\\24*ir2* 30\n",
      "E:\\MestradoData\\preprocessed\\all\\16\\12*ir2* 30\n",
      "E:\\MestradoData\\preprocessed\\all\\16\\08*ir2* 30\n",
      "E:\\MestradoData\\preprocessed\\all\\16\\36*ir2* 0\n",
      "E:\\MestradoData\\preprocessed\\all\\16\\11*ir2* 27\n",
      "E:\\MestradoData\\preprocessed\\all\\16\\29*ir2* 30\n",
      "E:\\MestradoData\\preprocessed\\all\\16\\17*ir2* 30\n",
      "E:\\MestradoData\\preprocessed\\all\\16\\02*ir2* 30\n",
      "E:\\MestradoData\\preprocessed\\all\\16\\06*ir2* 30\n",
      "E:\\MestradoData\\preprocessed\\all\\16\\21*ir2* 30\n",
      "E:\\MestradoData\\preprocessed\\all\\16\\09*ir2* 30\n",
      "E:\\MestradoData\\preprocessed\\all\\16\\30*ir2* 30\n",
      "E:\\MestradoData\\preprocessed\\all\\16\\16*ir2* 30\n",
      "E:\\MestradoData\\preprocessed\\all\\16\\27*ir2* 30\n",
      "E:\\MestradoData\\preprocessed\\all\\16\\15*ir2* 30\n",
      "E:\\MestradoData\\preprocessed\\all\\16\\14*ir2* 30\n",
      "E:\\MestradoData\\preprocessed\\all\\16\\01*ir2* 30\n",
      "E:\\MestradoData\\preprocessed\\all\\16\\31*ir2* 30\n",
      "E:\\MestradoData\\preprocessed\\all\\16\\28*ir2* 30\n",
      "E:\\MestradoData\\preprocessed\\all\\16\\03*ir2* 30\n",
      "E:\\MestradoData\\preprocessed\\all\\16\\37*ir2* 0\n",
      "\n"
     ]
    },
    {
     "data": {
      "application/vnd.jupyter.widget-view+json": {
       "model_id": "09e8dd4dac7643fab63ea60d660cc294",
       "version_major": 2,
       "version_minor": 0
      },
      "text/html": [
       "<p>Failed to display Jupyter Widget of type <code>HBox</code>.</p>\n",
       "<p>\n",
       "  If you're reading this message in the Jupyter Notebook or JupyterLab Notebook, it may mean\n",
       "  that the widgets JavaScript is still loading. If this message persists, it\n",
       "  likely means that the widgets JavaScript library is either not installed or\n",
       "  not enabled. See the <a href=\"https://ipywidgets.readthedocs.io/en/stable/user_install.html\">Jupyter\n",
       "  Widgets Documentation</a> for setup instructions.\n",
       "</p>\n",
       "<p>\n",
       "  If you're reading this message in another frontend (for example, a static\n",
       "  rendering on GitHub or <a href=\"https://nbviewer.jupyter.org/\">NBViewer</a>),\n",
       "  it may mean that your frontend doesn't currently support widgets.\n",
       "</p>\n"
      ],
      "text/plain": [
       "HBox(children=(IntProgress(value=0, max=7), HTML(value='')))"
      ]
     },
     "metadata": {},
     "output_type": "display_data"
    },
    {
     "name": "stdout",
     "output_type": "stream",
     "text": [
      "E:\\MestradoData\\preprocessed\\all\\16\\13*ir2* 0\n",
      "E:\\MestradoData\\preprocessed\\all\\16\\18*ir2* 0\n",
      "E:\\MestradoData\\preprocessed\\all\\16\\33*ir2* 30\n",
      "E:\\MestradoData\\preprocessed\\all\\16\\19*ir2* 30\n",
      "E:\\MestradoData\\preprocessed\\all\\16\\34*ir2* 30\n",
      "E:\\MestradoData\\preprocessed\\all\\16\\23*ir2* 30\n",
      "E:\\MestradoData\\preprocessed\\all\\16\\04*ir2* 30\n",
      "\n",
      "folders created !\n"
     ]
    },
    {
     "data": {
      "application/vnd.jupyter.widget-view+json": {
       "model_id": "8a5ac0dbb78f40d8ab53f02f76a06b26",
       "version_major": 2,
       "version_minor": 0
      },
      "text/html": [
       "<p>Failed to display Jupyter Widget of type <code>HBox</code>.</p>\n",
       "<p>\n",
       "  If you're reading this message in the Jupyter Notebook or JupyterLab Notebook, it may mean\n",
       "  that the widgets JavaScript is still loading. If this message persists, it\n",
       "  likely means that the widgets JavaScript library is either not installed or\n",
       "  not enabled. See the <a href=\"https://ipywidgets.readthedocs.io/en/stable/user_install.html\">Jupyter\n",
       "  Widgets Documentation</a> for setup instructions.\n",
       "</p>\n",
       "<p>\n",
       "  If you're reading this message in another frontend (for example, a static\n",
       "  rendering on GitHub or <a href=\"https://nbviewer.jupyter.org/\">NBViewer</a>),\n",
       "  it may mean that your frontend doesn't currently support widgets.\n",
       "</p>\n"
      ],
      "text/plain": [
       "HBox(children=(IntProgress(value=0, max=30), HTML(value='')))"
      ]
     },
     "metadata": {},
     "output_type": "display_data"
    },
    {
     "name": "stdout",
     "output_type": "stream",
     "text": [
      "E:\\MestradoData\\preprocessed\\all\\17\\35*ir2* 30\n",
      "E:\\MestradoData\\preprocessed\\all\\17\\05*ir2* 30\n",
      "E:\\MestradoData\\preprocessed\\all\\17\\26*ir2* 30\n",
      "E:\\MestradoData\\preprocessed\\all\\17\\07*ir2* 30\n",
      "E:\\MestradoData\\preprocessed\\all\\17\\25*ir2* 30\n",
      "E:\\MestradoData\\preprocessed\\all\\17\\10*ir2* 30\n",
      "E:\\MestradoData\\preprocessed\\all\\17\\20*ir2* 30\n",
      "E:\\MestradoData\\preprocessed\\all\\17\\22*ir2* 30\n",
      "E:\\MestradoData\\preprocessed\\all\\17\\32*ir2* 30\n",
      "E:\\MestradoData\\preprocessed\\all\\17\\24*ir2* 0\n",
      "E:\\MestradoData\\preprocessed\\all\\17\\12*ir2* 30\n",
      "E:\\MestradoData\\preprocessed\\all\\17\\08*ir2* 30\n",
      "E:\\MestradoData\\preprocessed\\all\\17\\36*ir2* 0\n",
      "E:\\MestradoData\\preprocessed\\all\\17\\11*ir2* 27\n",
      "E:\\MestradoData\\preprocessed\\all\\17\\29*ir2* 30\n",
      "E:\\MestradoData\\preprocessed\\all\\17\\17*ir2* 30\n",
      "E:\\MestradoData\\preprocessed\\all\\17\\02*ir2* 30\n",
      "E:\\MestradoData\\preprocessed\\all\\17\\06*ir2* 30\n",
      "E:\\MestradoData\\preprocessed\\all\\17\\21*ir2* 30\n",
      "E:\\MestradoData\\preprocessed\\all\\17\\09*ir2* 30\n",
      "E:\\MestradoData\\preprocessed\\all\\17\\30*ir2* 30\n",
      "E:\\MestradoData\\preprocessed\\all\\17\\16*ir2* 30\n",
      "E:\\MestradoData\\preprocessed\\all\\17\\27*ir2* 30\n",
      "E:\\MestradoData\\preprocessed\\all\\17\\15*ir2* 30\n",
      "E:\\MestradoData\\preprocessed\\all\\17\\14*ir2* 30\n",
      "E:\\MestradoData\\preprocessed\\all\\17\\01*ir2* 30\n",
      "E:\\MestradoData\\preprocessed\\all\\17\\31*ir2* 30\n",
      "E:\\MestradoData\\preprocessed\\all\\17\\28*ir2* 30\n",
      "E:\\MestradoData\\preprocessed\\all\\17\\03*ir2* 30\n",
      "E:\\MestradoData\\preprocessed\\all\\17\\37*ir2* 0\n",
      "\n"
     ]
    },
    {
     "data": {
      "application/vnd.jupyter.widget-view+json": {
       "model_id": "98feeec9282541c7807198a5a3cef0c1",
       "version_major": 2,
       "version_minor": 0
      },
      "text/html": [
       "<p>Failed to display Jupyter Widget of type <code>HBox</code>.</p>\n",
       "<p>\n",
       "  If you're reading this message in the Jupyter Notebook or JupyterLab Notebook, it may mean\n",
       "  that the widgets JavaScript is still loading. If this message persists, it\n",
       "  likely means that the widgets JavaScript library is either not installed or\n",
       "  not enabled. See the <a href=\"https://ipywidgets.readthedocs.io/en/stable/user_install.html\">Jupyter\n",
       "  Widgets Documentation</a> for setup instructions.\n",
       "</p>\n",
       "<p>\n",
       "  If you're reading this message in another frontend (for example, a static\n",
       "  rendering on GitHub or <a href=\"https://nbviewer.jupyter.org/\">NBViewer</a>),\n",
       "  it may mean that your frontend doesn't currently support widgets.\n",
       "</p>\n"
      ],
      "text/plain": [
       "HBox(children=(IntProgress(value=0, max=7), HTML(value='')))"
      ]
     },
     "metadata": {},
     "output_type": "display_data"
    },
    {
     "name": "stdout",
     "output_type": "stream",
     "text": [
      "E:\\MestradoData\\preprocessed\\all\\17\\13*ir2* 0\n",
      "E:\\MestradoData\\preprocessed\\all\\17\\18*ir2* 0\n",
      "E:\\MestradoData\\preprocessed\\all\\17\\33*ir2* 30\n",
      "E:\\MestradoData\\preprocessed\\all\\17\\19*ir2* 30\n",
      "E:\\MestradoData\\preprocessed\\all\\17\\34*ir2* 30\n",
      "E:\\MestradoData\\preprocessed\\all\\17\\23*ir2* 30\n",
      "E:\\MestradoData\\preprocessed\\all\\17\\04*ir2* 30\n",
      "\n",
      "folders created !\n"
     ]
    },
    {
     "data": {
      "application/vnd.jupyter.widget-view+json": {
       "model_id": "15273df8e53b4803b26cb98e1d9fd8fe",
       "version_major": 2,
       "version_minor": 0
      },
      "text/html": [
       "<p>Failed to display Jupyter Widget of type <code>HBox</code>.</p>\n",
       "<p>\n",
       "  If you're reading this message in the Jupyter Notebook or JupyterLab Notebook, it may mean\n",
       "  that the widgets JavaScript is still loading. If this message persists, it\n",
       "  likely means that the widgets JavaScript library is either not installed or\n",
       "  not enabled. See the <a href=\"https://ipywidgets.readthedocs.io/en/stable/user_install.html\">Jupyter\n",
       "  Widgets Documentation</a> for setup instructions.\n",
       "</p>\n",
       "<p>\n",
       "  If you're reading this message in another frontend (for example, a static\n",
       "  rendering on GitHub or <a href=\"https://nbviewer.jupyter.org/\">NBViewer</a>),\n",
       "  it may mean that your frontend doesn't currently support widgets.\n",
       "</p>\n"
      ],
      "text/plain": [
       "HBox(children=(IntProgress(value=0, max=30), HTML(value='')))"
      ]
     },
     "metadata": {},
     "output_type": "display_data"
    },
    {
     "name": "stdout",
     "output_type": "stream",
     "text": [
      "E:\\MestradoData\\preprocessed\\all\\18\\35*ir2* 30\n",
      "E:\\MestradoData\\preprocessed\\all\\18\\05*ir2* 30\n",
      "E:\\MestradoData\\preprocessed\\all\\18\\26*ir2* 30\n",
      "E:\\MestradoData\\preprocessed\\all\\18\\07*ir2* 30\n",
      "E:\\MestradoData\\preprocessed\\all\\18\\25*ir2* 30\n",
      "E:\\MestradoData\\preprocessed\\all\\18\\10*ir2* 30\n",
      "E:\\MestradoData\\preprocessed\\all\\18\\20*ir2* 30\n",
      "E:\\MestradoData\\preprocessed\\all\\18\\22*ir2* 30\n",
      "E:\\MestradoData\\preprocessed\\all\\18\\32*ir2* 30\n",
      "E:\\MestradoData\\preprocessed\\all\\18\\24*ir2* 0\n",
      "E:\\MestradoData\\preprocessed\\all\\18\\12*ir2* 30\n",
      "E:\\MestradoData\\preprocessed\\all\\18\\08*ir2* 30\n",
      "E:\\MestradoData\\preprocessed\\all\\18\\36*ir2* 0\n",
      "E:\\MestradoData\\preprocessed\\all\\18\\11*ir2* 27\n",
      "E:\\MestradoData\\preprocessed\\all\\18\\29*ir2* 30\n",
      "E:\\MestradoData\\preprocessed\\all\\18\\17*ir2* 30\n",
      "E:\\MestradoData\\preprocessed\\all\\18\\02*ir2* 30\n",
      "E:\\MestradoData\\preprocessed\\all\\18\\06*ir2* 30\n",
      "E:\\MestradoData\\preprocessed\\all\\18\\21*ir2* 30\n",
      "E:\\MestradoData\\preprocessed\\all\\18\\09*ir2* 30\n",
      "E:\\MestradoData\\preprocessed\\all\\18\\30*ir2* 30\n",
      "E:\\MestradoData\\preprocessed\\all\\18\\16*ir2* 30\n",
      "E:\\MestradoData\\preprocessed\\all\\18\\27*ir2* 30\n",
      "E:\\MestradoData\\preprocessed\\all\\18\\15*ir2* 30\n",
      "E:\\MestradoData\\preprocessed\\all\\18\\14*ir2* 30\n",
      "E:\\MestradoData\\preprocessed\\all\\18\\01*ir2* 30\n",
      "E:\\MestradoData\\preprocessed\\all\\18\\31*ir2* 30\n",
      "E:\\MestradoData\\preprocessed\\all\\18\\28*ir2* 30\n",
      "E:\\MestradoData\\preprocessed\\all\\18\\03*ir2* 30\n",
      "E:\\MestradoData\\preprocessed\\all\\18\\37*ir2* 0\n",
      "\n"
     ]
    },
    {
     "data": {
      "application/vnd.jupyter.widget-view+json": {
       "model_id": "6c8d8ef398874d849e9f79427a77a7f4",
       "version_major": 2,
       "version_minor": 0
      },
      "text/html": [
       "<p>Failed to display Jupyter Widget of type <code>HBox</code>.</p>\n",
       "<p>\n",
       "  If you're reading this message in the Jupyter Notebook or JupyterLab Notebook, it may mean\n",
       "  that the widgets JavaScript is still loading. If this message persists, it\n",
       "  likely means that the widgets JavaScript library is either not installed or\n",
       "  not enabled. See the <a href=\"https://ipywidgets.readthedocs.io/en/stable/user_install.html\">Jupyter\n",
       "  Widgets Documentation</a> for setup instructions.\n",
       "</p>\n",
       "<p>\n",
       "  If you're reading this message in another frontend (for example, a static\n",
       "  rendering on GitHub or <a href=\"https://nbviewer.jupyter.org/\">NBViewer</a>),\n",
       "  it may mean that your frontend doesn't currently support widgets.\n",
       "</p>\n"
      ],
      "text/plain": [
       "HBox(children=(IntProgress(value=0, max=7), HTML(value='')))"
      ]
     },
     "metadata": {},
     "output_type": "display_data"
    },
    {
     "name": "stdout",
     "output_type": "stream",
     "text": [
      "E:\\MestradoData\\preprocessed\\all\\18\\13*ir2* 0\n",
      "E:\\MestradoData\\preprocessed\\all\\18\\18*ir2* 0\n",
      "E:\\MestradoData\\preprocessed\\all\\18\\33*ir2* 30\n",
      "E:\\MestradoData\\preprocessed\\all\\18\\19*ir2* 30\n",
      "E:\\MestradoData\\preprocessed\\all\\18\\34*ir2* 30\n",
      "E:\\MestradoData\\preprocessed\\all\\18\\23*ir2* 30\n",
      "E:\\MestradoData\\preprocessed\\all\\18\\04*ir2* 30\n",
      "\n",
      "folders created !\n"
     ]
    },
    {
     "data": {
      "application/vnd.jupyter.widget-view+json": {
       "model_id": "405ff550131f498589a8f07d073778a5",
       "version_major": 2,
       "version_minor": 0
      },
      "text/html": [
       "<p>Failed to display Jupyter Widget of type <code>HBox</code>.</p>\n",
       "<p>\n",
       "  If you're reading this message in the Jupyter Notebook or JupyterLab Notebook, it may mean\n",
       "  that the widgets JavaScript is still loading. If this message persists, it\n",
       "  likely means that the widgets JavaScript library is either not installed or\n",
       "  not enabled. See the <a href=\"https://ipywidgets.readthedocs.io/en/stable/user_install.html\">Jupyter\n",
       "  Widgets Documentation</a> for setup instructions.\n",
       "</p>\n",
       "<p>\n",
       "  If you're reading this message in another frontend (for example, a static\n",
       "  rendering on GitHub or <a href=\"https://nbviewer.jupyter.org/\">NBViewer</a>),\n",
       "  it may mean that your frontend doesn't currently support widgets.\n",
       "</p>\n"
      ],
      "text/plain": [
       "HBox(children=(IntProgress(value=0, max=30), HTML(value='')))"
      ]
     },
     "metadata": {},
     "output_type": "display_data"
    },
    {
     "name": "stdout",
     "output_type": "stream",
     "text": [
      "E:\\MestradoData\\preprocessed\\all\\19\\35*ir2* 30\n",
      "E:\\MestradoData\\preprocessed\\all\\19\\05*ir2* 30\n",
      "E:\\MestradoData\\preprocessed\\all\\19\\26*ir2* 30\n",
      "E:\\MestradoData\\preprocessed\\all\\19\\07*ir2* 30\n",
      "E:\\MestradoData\\preprocessed\\all\\19\\25*ir2* 30\n",
      "E:\\MestradoData\\preprocessed\\all\\19\\10*ir2* 30\n",
      "E:\\MestradoData\\preprocessed\\all\\19\\20*ir2* 30\n",
      "E:\\MestradoData\\preprocessed\\all\\19\\22*ir2* 30\n",
      "E:\\MestradoData\\preprocessed\\all\\19\\32*ir2* 30\n",
      "E:\\MestradoData\\preprocessed\\all\\19\\24*ir2* 0\n",
      "E:\\MestradoData\\preprocessed\\all\\19\\12*ir2* 30\n",
      "E:\\MestradoData\\preprocessed\\all\\19\\08*ir2* 30\n",
      "E:\\MestradoData\\preprocessed\\all\\19\\36*ir2* 0\n",
      "E:\\MestradoData\\preprocessed\\all\\19\\11*ir2* 27\n",
      "E:\\MestradoData\\preprocessed\\all\\19\\29*ir2* 30\n",
      "E:\\MestradoData\\preprocessed\\all\\19\\17*ir2* 30\n",
      "E:\\MestradoData\\preprocessed\\all\\19\\02*ir2* 30\n",
      "E:\\MestradoData\\preprocessed\\all\\19\\06*ir2* 30\n",
      "E:\\MestradoData\\preprocessed\\all\\19\\21*ir2* 30\n",
      "E:\\MestradoData\\preprocessed\\all\\19\\09*ir2* 30\n",
      "E:\\MestradoData\\preprocessed\\all\\19\\30*ir2* 30\n",
      "E:\\MestradoData\\preprocessed\\all\\19\\16*ir2* 30\n",
      "E:\\MestradoData\\preprocessed\\all\\19\\27*ir2* 30\n",
      "E:\\MestradoData\\preprocessed\\all\\19\\15*ir2* 30\n",
      "E:\\MestradoData\\preprocessed\\all\\19\\14*ir2* 30\n",
      "E:\\MestradoData\\preprocessed\\all\\19\\01*ir2* 30\n",
      "E:\\MestradoData\\preprocessed\\all\\19\\31*ir2* 30\n",
      "E:\\MestradoData\\preprocessed\\all\\19\\28*ir2* 30\n",
      "E:\\MestradoData\\preprocessed\\all\\19\\03*ir2* 30\n",
      "E:\\MestradoData\\preprocessed\\all\\19\\37*ir2* 0\n",
      "\n"
     ]
    },
    {
     "data": {
      "application/vnd.jupyter.widget-view+json": {
       "model_id": "dd9f11e8d1e343bd8e37c601ff2b9baf",
       "version_major": 2,
       "version_minor": 0
      },
      "text/html": [
       "<p>Failed to display Jupyter Widget of type <code>HBox</code>.</p>\n",
       "<p>\n",
       "  If you're reading this message in the Jupyter Notebook or JupyterLab Notebook, it may mean\n",
       "  that the widgets JavaScript is still loading. If this message persists, it\n",
       "  likely means that the widgets JavaScript library is either not installed or\n",
       "  not enabled. See the <a href=\"https://ipywidgets.readthedocs.io/en/stable/user_install.html\">Jupyter\n",
       "  Widgets Documentation</a> for setup instructions.\n",
       "</p>\n",
       "<p>\n",
       "  If you're reading this message in another frontend (for example, a static\n",
       "  rendering on GitHub or <a href=\"https://nbviewer.jupyter.org/\">NBViewer</a>),\n",
       "  it may mean that your frontend doesn't currently support widgets.\n",
       "</p>\n"
      ],
      "text/plain": [
       "HBox(children=(IntProgress(value=0, max=7), HTML(value='')))"
      ]
     },
     "metadata": {},
     "output_type": "display_data"
    },
    {
     "name": "stdout",
     "output_type": "stream",
     "text": [
      "E:\\MestradoData\\preprocessed\\all\\19\\13*ir2* 0\n",
      "E:\\MestradoData\\preprocessed\\all\\19\\18*ir2* 0\n",
      "E:\\MestradoData\\preprocessed\\all\\19\\33*ir2* 30\n",
      "E:\\MestradoData\\preprocessed\\all\\19\\19*ir2* 30\n",
      "E:\\MestradoData\\preprocessed\\all\\19\\34*ir2* 30\n",
      "E:\\MestradoData\\preprocessed\\all\\19\\23*ir2* 30\n",
      "E:\\MestradoData\\preprocessed\\all\\19\\04*ir2* 30\n",
      "\n",
      "folders created !\n"
     ]
    },
    {
     "data": {
      "application/vnd.jupyter.widget-view+json": {
       "model_id": "f9cb29068a3f4161a1da3b84437a6b45",
       "version_major": 2,
       "version_minor": 0
      },
      "text/html": [
       "<p>Failed to display Jupyter Widget of type <code>HBox</code>.</p>\n",
       "<p>\n",
       "  If you're reading this message in the Jupyter Notebook or JupyterLab Notebook, it may mean\n",
       "  that the widgets JavaScript is still loading. If this message persists, it\n",
       "  likely means that the widgets JavaScript library is either not installed or\n",
       "  not enabled. See the <a href=\"https://ipywidgets.readthedocs.io/en/stable/user_install.html\">Jupyter\n",
       "  Widgets Documentation</a> for setup instructions.\n",
       "</p>\n",
       "<p>\n",
       "  If you're reading this message in another frontend (for example, a static\n",
       "  rendering on GitHub or <a href=\"https://nbviewer.jupyter.org/\">NBViewer</a>),\n",
       "  it may mean that your frontend doesn't currently support widgets.\n",
       "</p>\n"
      ],
      "text/plain": [
       "HBox(children=(IntProgress(value=0, max=30), HTML(value='')))"
      ]
     },
     "metadata": {},
     "output_type": "display_data"
    },
    {
     "name": "stdout",
     "output_type": "stream",
     "text": [
      "E:\\MestradoData\\preprocessed\\all\\01\\35*rgb* 30\n",
      "E:\\MestradoData\\preprocessed\\all\\01\\05*rgb* 30\n",
      "E:\\MestradoData\\preprocessed\\all\\01\\26*rgb* 30\n",
      "E:\\MestradoData\\preprocessed\\all\\01\\07*rgb* 30\n",
      "E:\\MestradoData\\preprocessed\\all\\01\\25*rgb* 30\n",
      "E:\\MestradoData\\preprocessed\\all\\01\\10*rgb* 30\n",
      "E:\\MestradoData\\preprocessed\\all\\01\\20*rgb* 30\n",
      "E:\\MestradoData\\preprocessed\\all\\01\\22*rgb* 30\n",
      "E:\\MestradoData\\preprocessed\\all\\01\\32*rgb* 30\n",
      "E:\\MestradoData\\preprocessed\\all\\01\\24*rgb* 30\n",
      "E:\\MestradoData\\preprocessed\\all\\01\\12*rgb* 30\n",
      "E:\\MestradoData\\preprocessed\\all\\01\\08*rgb* 30\n",
      "E:\\MestradoData\\preprocessed\\all\\01\\36*rgb* 0\n",
      "E:\\MestradoData\\preprocessed\\all\\01\\11*rgb* 30\n",
      "E:\\MestradoData\\preprocessed\\all\\01\\29*rgb* 30\n",
      "E:\\MestradoData\\preprocessed\\all\\01\\17*rgb* 30\n",
      "E:\\MestradoData\\preprocessed\\all\\01\\02*rgb* 30\n",
      "E:\\MestradoData\\preprocessed\\all\\01\\06*rgb* 30\n",
      "E:\\MestradoData\\preprocessed\\all\\01\\21*rgb* 30\n",
      "E:\\MestradoData\\preprocessed\\all\\01\\09*rgb* 30\n",
      "E:\\MestradoData\\preprocessed\\all\\01\\30*rgb* 30\n",
      "E:\\MestradoData\\preprocessed\\all\\01\\16*rgb* 30\n",
      "E:\\MestradoData\\preprocessed\\all\\01\\27*rgb* 30\n",
      "E:\\MestradoData\\preprocessed\\all\\01\\15*rgb* 30\n",
      "E:\\MestradoData\\preprocessed\\all\\01\\14*rgb* 30\n",
      "E:\\MestradoData\\preprocessed\\all\\01\\01*rgb* 30\n",
      "E:\\MestradoData\\preprocessed\\all\\01\\31*rgb* 30\n",
      "E:\\MestradoData\\preprocessed\\all\\01\\28*rgb* 30\n",
      "E:\\MestradoData\\preprocessed\\all\\01\\03*rgb* 30\n",
      "E:\\MestradoData\\preprocessed\\all\\01\\37*rgb* 0\n",
      "\n"
     ]
    },
    {
     "data": {
      "application/vnd.jupyter.widget-view+json": {
       "model_id": "81b8eebcf86847ed846470d31de7f305",
       "version_major": 2,
       "version_minor": 0
      },
      "text/html": [
       "<p>Failed to display Jupyter Widget of type <code>HBox</code>.</p>\n",
       "<p>\n",
       "  If you're reading this message in the Jupyter Notebook or JupyterLab Notebook, it may mean\n",
       "  that the widgets JavaScript is still loading. If this message persists, it\n",
       "  likely means that the widgets JavaScript library is either not installed or\n",
       "  not enabled. See the <a href=\"https://ipywidgets.readthedocs.io/en/stable/user_install.html\">Jupyter\n",
       "  Widgets Documentation</a> for setup instructions.\n",
       "</p>\n",
       "<p>\n",
       "  If you're reading this message in another frontend (for example, a static\n",
       "  rendering on GitHub or <a href=\"https://nbviewer.jupyter.org/\">NBViewer</a>),\n",
       "  it may mean that your frontend doesn't currently support widgets.\n",
       "</p>\n"
      ],
      "text/plain": [
       "HBox(children=(IntProgress(value=0, max=7), HTML(value='')))"
      ]
     },
     "metadata": {},
     "output_type": "display_data"
    },
    {
     "name": "stdout",
     "output_type": "stream",
     "text": [
      "E:\\MestradoData\\preprocessed\\all\\01\\13*rgb* 30\n",
      "E:\\MestradoData\\preprocessed\\all\\01\\18*rgb* 30\n",
      "E:\\MestradoData\\preprocessed\\all\\01\\33*rgb* 30\n",
      "E:\\MestradoData\\preprocessed\\all\\01\\19*rgb* 30\n",
      "E:\\MestradoData\\preprocessed\\all\\01\\34*rgb* 30\n",
      "E:\\MestradoData\\preprocessed\\all\\01\\23*rgb* 30\n",
      "E:\\MestradoData\\preprocessed\\all\\01\\04*rgb* 30\n",
      "\n",
      "folders created !\n"
     ]
    },
    {
     "data": {
      "application/vnd.jupyter.widget-view+json": {
       "model_id": "d1e0f16c0e284717b0e3c17f4879fed5",
       "version_major": 2,
       "version_minor": 0
      },
      "text/html": [
       "<p>Failed to display Jupyter Widget of type <code>HBox</code>.</p>\n",
       "<p>\n",
       "  If you're reading this message in the Jupyter Notebook or JupyterLab Notebook, it may mean\n",
       "  that the widgets JavaScript is still loading. If this message persists, it\n",
       "  likely means that the widgets JavaScript library is either not installed or\n",
       "  not enabled. See the <a href=\"https://ipywidgets.readthedocs.io/en/stable/user_install.html\">Jupyter\n",
       "  Widgets Documentation</a> for setup instructions.\n",
       "</p>\n",
       "<p>\n",
       "  If you're reading this message in another frontend (for example, a static\n",
       "  rendering on GitHub or <a href=\"https://nbviewer.jupyter.org/\">NBViewer</a>),\n",
       "  it may mean that your frontend doesn't currently support widgets.\n",
       "</p>\n"
      ],
      "text/plain": [
       "HBox(children=(IntProgress(value=0, max=30), HTML(value='')))"
      ]
     },
     "metadata": {},
     "output_type": "display_data"
    },
    {
     "name": "stdout",
     "output_type": "stream",
     "text": [
      "E:\\MestradoData\\preprocessed\\all\\02\\35*rgb* 30\n",
      "E:\\MestradoData\\preprocessed\\all\\02\\05*rgb* 30\n",
      "E:\\MestradoData\\preprocessed\\all\\02\\26*rgb* 30\n",
      "E:\\MestradoData\\preprocessed\\all\\02\\07*rgb* 30\n",
      "E:\\MestradoData\\preprocessed\\all\\02\\25*rgb* 30\n",
      "E:\\MestradoData\\preprocessed\\all\\02\\10*rgb* 30\n",
      "E:\\MestradoData\\preprocessed\\all\\02\\20*rgb* 30\n",
      "E:\\MestradoData\\preprocessed\\all\\02\\22*rgb* 30\n",
      "E:\\MestradoData\\preprocessed\\all\\02\\32*rgb* 30\n",
      "E:\\MestradoData\\preprocessed\\all\\02\\24*rgb* 30\n",
      "E:\\MestradoData\\preprocessed\\all\\02\\12*rgb* 30\n",
      "E:\\MestradoData\\preprocessed\\all\\02\\08*rgb* 30\n",
      "E:\\MestradoData\\preprocessed\\all\\02\\36*rgb* 0\n",
      "E:\\MestradoData\\preprocessed\\all\\02\\11*rgb* 30\n",
      "E:\\MestradoData\\preprocessed\\all\\02\\29*rgb* 30\n",
      "E:\\MestradoData\\preprocessed\\all\\02\\17*rgb* 30\n",
      "E:\\MestradoData\\preprocessed\\all\\02\\02*rgb* 30\n",
      "E:\\MestradoData\\preprocessed\\all\\02\\06*rgb* 30\n",
      "E:\\MestradoData\\preprocessed\\all\\02\\21*rgb* 30\n",
      "E:\\MestradoData\\preprocessed\\all\\02\\09*rgb* 30\n",
      "E:\\MestradoData\\preprocessed\\all\\02\\30*rgb* 30\n",
      "E:\\MestradoData\\preprocessed\\all\\02\\16*rgb* 30\n",
      "E:\\MestradoData\\preprocessed\\all\\02\\27*rgb* 30\n",
      "E:\\MestradoData\\preprocessed\\all\\02\\15*rgb* 30\n",
      "E:\\MestradoData\\preprocessed\\all\\02\\14*rgb* 30\n",
      "E:\\MestradoData\\preprocessed\\all\\02\\01*rgb* 30\n",
      "E:\\MestradoData\\preprocessed\\all\\02\\31*rgb* 30\n",
      "E:\\MestradoData\\preprocessed\\all\\02\\28*rgb* 30\n",
      "E:\\MestradoData\\preprocessed\\all\\02\\03*rgb* 30\n",
      "E:\\MestradoData\\preprocessed\\all\\02\\37*rgb* 0\n",
      "\n"
     ]
    },
    {
     "data": {
      "application/vnd.jupyter.widget-view+json": {
       "model_id": "ce0b30f0607449d9b1e4bf0e61540c2b",
       "version_major": 2,
       "version_minor": 0
      },
      "text/html": [
       "<p>Failed to display Jupyter Widget of type <code>HBox</code>.</p>\n",
       "<p>\n",
       "  If you're reading this message in the Jupyter Notebook or JupyterLab Notebook, it may mean\n",
       "  that the widgets JavaScript is still loading. If this message persists, it\n",
       "  likely means that the widgets JavaScript library is either not installed or\n",
       "  not enabled. See the <a href=\"https://ipywidgets.readthedocs.io/en/stable/user_install.html\">Jupyter\n",
       "  Widgets Documentation</a> for setup instructions.\n",
       "</p>\n",
       "<p>\n",
       "  If you're reading this message in another frontend (for example, a static\n",
       "  rendering on GitHub or <a href=\"https://nbviewer.jupyter.org/\">NBViewer</a>),\n",
       "  it may mean that your frontend doesn't currently support widgets.\n",
       "</p>\n"
      ],
      "text/plain": [
       "HBox(children=(IntProgress(value=0, max=7), HTML(value='')))"
      ]
     },
     "metadata": {},
     "output_type": "display_data"
    },
    {
     "name": "stdout",
     "output_type": "stream",
     "text": [
      "E:\\MestradoData\\preprocessed\\all\\02\\13*rgb* 30\n",
      "E:\\MestradoData\\preprocessed\\all\\02\\18*rgb* 30\n",
      "E:\\MestradoData\\preprocessed\\all\\02\\33*rgb* 30\n",
      "E:\\MestradoData\\preprocessed\\all\\02\\19*rgb* 30\n",
      "E:\\MestradoData\\preprocessed\\all\\02\\34*rgb* 30\n",
      "E:\\MestradoData\\preprocessed\\all\\02\\23*rgb* 30\n",
      "E:\\MestradoData\\preprocessed\\all\\02\\04*rgb* 30\n",
      "\n",
      "folders created !\n"
     ]
    },
    {
     "data": {
      "application/vnd.jupyter.widget-view+json": {
       "model_id": "f5c826dbd22b41b892ce1c41d9b45b1a",
       "version_major": 2,
       "version_minor": 0
      },
      "text/html": [
       "<p>Failed to display Jupyter Widget of type <code>HBox</code>.</p>\n",
       "<p>\n",
       "  If you're reading this message in the Jupyter Notebook or JupyterLab Notebook, it may mean\n",
       "  that the widgets JavaScript is still loading. If this message persists, it\n",
       "  likely means that the widgets JavaScript library is either not installed or\n",
       "  not enabled. See the <a href=\"https://ipywidgets.readthedocs.io/en/stable/user_install.html\">Jupyter\n",
       "  Widgets Documentation</a> for setup instructions.\n",
       "</p>\n",
       "<p>\n",
       "  If you're reading this message in another frontend (for example, a static\n",
       "  rendering on GitHub or <a href=\"https://nbviewer.jupyter.org/\">NBViewer</a>),\n",
       "  it may mean that your frontend doesn't currently support widgets.\n",
       "</p>\n"
      ],
      "text/plain": [
       "HBox(children=(IntProgress(value=0, max=30), HTML(value='')))"
      ]
     },
     "metadata": {},
     "output_type": "display_data"
    },
    {
     "name": "stdout",
     "output_type": "stream",
     "text": [
      "E:\\MestradoData\\preprocessed\\all\\03\\35*rgb* 30\n",
      "E:\\MestradoData\\preprocessed\\all\\03\\05*rgb* 30\n",
      "E:\\MestradoData\\preprocessed\\all\\03\\26*rgb* 30\n",
      "E:\\MestradoData\\preprocessed\\all\\03\\07*rgb* 30\n",
      "E:\\MestradoData\\preprocessed\\all\\03\\25*rgb* 30\n",
      "E:\\MestradoData\\preprocessed\\all\\03\\10*rgb* 30\n",
      "E:\\MestradoData\\preprocessed\\all\\03\\20*rgb* 30\n",
      "E:\\MestradoData\\preprocessed\\all\\03\\22*rgb* 30\n",
      "E:\\MestradoData\\preprocessed\\all\\03\\32*rgb* 30\n",
      "E:\\MestradoData\\preprocessed\\all\\03\\24*rgb* 30\n",
      "E:\\MestradoData\\preprocessed\\all\\03\\12*rgb* 30\n",
      "E:\\MestradoData\\preprocessed\\all\\03\\08*rgb* 30\n",
      "E:\\MestradoData\\preprocessed\\all\\03\\36*rgb* 0\n",
      "E:\\MestradoData\\preprocessed\\all\\03\\11*rgb* 27\n",
      "E:\\MestradoData\\preprocessed\\all\\03\\29*rgb* 30\n",
      "E:\\MestradoData\\preprocessed\\all\\03\\17*rgb* 30\n",
      "E:\\MestradoData\\preprocessed\\all\\03\\02*rgb* 30\n",
      "E:\\MestradoData\\preprocessed\\all\\03\\06*rgb* 30\n",
      "E:\\MestradoData\\preprocessed\\all\\03\\21*rgb* 30\n",
      "E:\\MestradoData\\preprocessed\\all\\03\\09*rgb* 30\n",
      "E:\\MestradoData\\preprocessed\\all\\03\\30*rgb* 30\n",
      "E:\\MestradoData\\preprocessed\\all\\03\\16*rgb* 30\n",
      "E:\\MestradoData\\preprocessed\\all\\03\\27*rgb* 30\n",
      "E:\\MestradoData\\preprocessed\\all\\03\\15*rgb* 30\n",
      "E:\\MestradoData\\preprocessed\\all\\03\\14*rgb* 30\n",
      "E:\\MestradoData\\preprocessed\\all\\03\\01*rgb* 30\n",
      "E:\\MestradoData\\preprocessed\\all\\03\\31*rgb* 30\n",
      "E:\\MestradoData\\preprocessed\\all\\03\\28*rgb* 30\n",
      "E:\\MestradoData\\preprocessed\\all\\03\\03*rgb* 30\n",
      "E:\\MestradoData\\preprocessed\\all\\03\\37*rgb* 0\n",
      "\n"
     ]
    },
    {
     "data": {
      "application/vnd.jupyter.widget-view+json": {
       "model_id": "2fd2afcb82b847db89b30ec3376aa8db",
       "version_major": 2,
       "version_minor": 0
      },
      "text/html": [
       "<p>Failed to display Jupyter Widget of type <code>HBox</code>.</p>\n",
       "<p>\n",
       "  If you're reading this message in the Jupyter Notebook or JupyterLab Notebook, it may mean\n",
       "  that the widgets JavaScript is still loading. If this message persists, it\n",
       "  likely means that the widgets JavaScript library is either not installed or\n",
       "  not enabled. See the <a href=\"https://ipywidgets.readthedocs.io/en/stable/user_install.html\">Jupyter\n",
       "  Widgets Documentation</a> for setup instructions.\n",
       "</p>\n",
       "<p>\n",
       "  If you're reading this message in another frontend (for example, a static\n",
       "  rendering on GitHub or <a href=\"https://nbviewer.jupyter.org/\">NBViewer</a>),\n",
       "  it may mean that your frontend doesn't currently support widgets.\n",
       "</p>\n"
      ],
      "text/plain": [
       "HBox(children=(IntProgress(value=0, max=7), HTML(value='')))"
      ]
     },
     "metadata": {},
     "output_type": "display_data"
    },
    {
     "name": "stdout",
     "output_type": "stream",
     "text": [
      "E:\\MestradoData\\preprocessed\\all\\03\\13*rgb* 0\n",
      "E:\\MestradoData\\preprocessed\\all\\03\\18*rgb* 0\n",
      "E:\\MestradoData\\preprocessed\\all\\03\\33*rgb* 30\n",
      "E:\\MestradoData\\preprocessed\\all\\03\\19*rgb* 30\n",
      "E:\\MestradoData\\preprocessed\\all\\03\\34*rgb* 30\n",
      "E:\\MestradoData\\preprocessed\\all\\03\\23*rgb* 30\n",
      "E:\\MestradoData\\preprocessed\\all\\03\\04*rgb* 30\n",
      "\n",
      "folders created !\n"
     ]
    },
    {
     "data": {
      "application/vnd.jupyter.widget-view+json": {
       "model_id": "239c83f31136474280543c17ca3f680b",
       "version_major": 2,
       "version_minor": 0
      },
      "text/html": [
       "<p>Failed to display Jupyter Widget of type <code>HBox</code>.</p>\n",
       "<p>\n",
       "  If you're reading this message in the Jupyter Notebook or JupyterLab Notebook, it may mean\n",
       "  that the widgets JavaScript is still loading. If this message persists, it\n",
       "  likely means that the widgets JavaScript library is either not installed or\n",
       "  not enabled. See the <a href=\"https://ipywidgets.readthedocs.io/en/stable/user_install.html\">Jupyter\n",
       "  Widgets Documentation</a> for setup instructions.\n",
       "</p>\n",
       "<p>\n",
       "  If you're reading this message in another frontend (for example, a static\n",
       "  rendering on GitHub or <a href=\"https://nbviewer.jupyter.org/\">NBViewer</a>),\n",
       "  it may mean that your frontend doesn't currently support widgets.\n",
       "</p>\n"
      ],
      "text/plain": [
       "HBox(children=(IntProgress(value=0, max=30), HTML(value='')))"
      ]
     },
     "metadata": {},
     "output_type": "display_data"
    },
    {
     "name": "stdout",
     "output_type": "stream",
     "text": [
      "E:\\MestradoData\\preprocessed\\all\\04\\35*rgb* 30\n",
      "E:\\MestradoData\\preprocessed\\all\\04\\05*rgb* 30\n",
      "E:\\MestradoData\\preprocessed\\all\\04\\26*rgb* 30\n"
     ]
    }
   ],
   "source": [
    "organize_datasets(path_to_data='E:\\\\MestradoData\\\\preprocessed', n=38, ratio=0.2)"
   ]
  },
  {
   "cell_type": "code",
   "execution_count": null,
   "metadata": {},
   "outputs": [],
   "source": [
    "# dimensions of our images.\n",
    "img_width, img_height = 150, 150"
   ]
  },
  {
   "cell_type": "code",
   "execution_count": null,
   "metadata": {},
   "outputs": [],
   "source": [
    "train_data_dir ='E:\\\\MestradoData\\\\preprocessed\\\\data\\\\depth\\\\train'\n",
    "validation_data_dir = 'E:\\\\MestradoData\\\\preprocessed\\\\data\\\\depth\\\\validation'\n",
    "nb_train_samples = 200\n",
    "nb_validation_samples = 50\n",
    "nb_epoch = 50\n",
    "batch_size = 25"
   ]
  },
  {
   "cell_type": "code",
   "execution_count": 2,
   "metadata": {},
   "outputs": [],
   "source": [
    "input_img = Input(shape=(img_width,img_height, 1))  # adapt this if using `channels_first` image data format"
   ]
  },
  {
   "cell_type": "code",
   "execution_count": null,
   "metadata": {},
   "outputs": [],
   "source": [
    "x = Conv2D(32, (3, 3), activation='relu', padding='same')(input_img)\n",
    "x = MaxPooling2D((2, 2), padding='same')(x)\n",
    "x = Conv2D(16, (3, 3), activation='relu', padding='same')(x)\n",
    "x = MaxPooling2D((2, 2), padding='same')(x)\n",
    "x = Conv2D(8, (3, 3), activation='relu', padding='same')(x)\n",
    "x = MaxPooling2D((2, 2), padding='same')(x)\n",
    "x = Conv2D(8, (3, 3), activation='relu', padding='same')(x)\n",
    "encoded = MaxPooling2D((2, 2), padding='same')(x)"
   ]
  },
  {
   "cell_type": "code",
   "execution_count": null,
   "metadata": {},
   "outputs": [],
   "source": [
    "x = Conv2D(8, (3, 3), activation='relu', padding='same')(encoded)\n",
    "x = UpSampling2D((2, 2))(x)\n",
    "x = Conv2D(8, (3, 3), activation='relu', padding='same')(x)\n",
    "x = UpSampling2D((2, 2))(x)\n",
    "x = Conv2D(16, (3, 3), activation='relu', padding='same')(x)\n",
    "x = UpSampling2D((2, 2))(x)\n",
    "x = Conv2D(32, (3, 3), activation='relu')(x)\n",
    "x = UpSampling2D((2, 2))(x)\n",
    "decoded = Conv2D(1, (3, 3), activation='sigmoid', padding='same')(x)"
   ]
  },
  {
   "cell_type": "code",
   "execution_count": null,
   "metadata": {},
   "outputs": [],
   "source": [
    "autoencoder = Model(input_img, decoded)\n",
    "autoencoder.compile(optimizer='adadelta', loss='binary_crossentropy')"
   ]
  },
  {
   "cell_type": "code",
   "execution_count": null,
   "metadata": {},
   "outputs": [],
   "source": [
    "# this is the augmentation configuration we will use for training\n",
    "train_datagen = ImageDataGenerator(\n",
    "        rescale=1./255,\n",
    "        shear_range=0.2,\n",
    "        zoom_range=0.2,\n",
    "        width_shift_range=0.3,\n",
    "        height_shift_range=0.3)\n",
    "\n",
    "# this is the augmentation configuration we will use for testing:\n",
    "# only rescaling\n",
    "test_datagen = ImageDataGenerator(rescale=1./255)"
   ]
  },
  {
   "cell_type": "code",
   "execution_count": null,
   "metadata": {},
   "outputs": [],
   "source": [
    "train_generator = train_datagen.flow_from_directory(\n",
    "        train_data_dir,\n",
    "        target_size=(img_width, img_height),\n",
    "        batch_size=batch_size,\n",
    "        class_mode='input')\n",
    "\n",
    "print type(train_generator)"
   ]
  },
  {
   "cell_type": "code",
   "execution_count": null,
   "metadata": {},
   "outputs": [],
   "source": [
    "validation_generator = test_datagen.flow_from_directory(\n",
    "        validation_data_dir,\n",
    "        target_size=(img_width, img_height),\n",
    "        batch_size=batch_size,\n",
    "        class_mode='input')"
   ]
  },
  {
   "cell_type": "code",
   "execution_count": null,
   "metadata": {},
   "outputs": [],
   "source": [
    "## Callback for loss logging per epoch\n",
    "class LossHistory(Callback):\n",
    "    def on_train_begin(self, logs={}):\n",
    "        self.losses = []\n",
    "        self.val_losses = []\n",
    "        \n",
    "    def on_epoch_end(self, batch, logs={}):\n",
    "        self.losses.append(logs.get('loss'))\n",
    "        self.val_losses.append(logs.get('val_loss'))\n",
    "        \n",
    "history = LossHistory()\n",
    "\n",
    "## Callback for early stopping the training\n",
    "early_stopping = keras.callbacks.EarlyStopping(monitor='val_loss',\n",
    "                              min_delta=0,\n",
    "                              patience=2,\n",
    "                              verbose=0, mode='auto')"
   ]
  },
  {
   "cell_type": "code",
   "execution_count": null,
   "metadata": {},
   "outputs": [],
   "source": [
    "fitted_model = autoencoder.fit_generator(\n",
    "        train_generator,\n",
    "        steps_per_epoch= int(n * (1-ratio)) // batch_size,\n",
    "        epochs=50,\n",
    "        validation_data=validation_generator,\n",
    "        validation_steps= int(n * ratio) // batch_size,\n",
    "        callbacks=[TQDMNotebookCallback(leave_inner=True, leave_outer=True), early_stopping, history],\n",
    "        verbose=0)"
   ]
  },
  {
   "cell_type": "code",
   "execution_count": null,
   "metadata": {},
   "outputs": [],
   "source": [
    "autoencoder.save('autoencoder.h5')"
   ]
  },
  {
   "cell_type": "code",
   "execution_count": null,
   "metadata": {},
   "outputs": [],
   "source": [
    "losses, val_losses = history.losses, history.val_losses\n",
    "fig = plt.figure(figsize=(15, 5))\n",
    "plt.plot(fitted_model.history['loss'], 'g', label=\"train losses\")\n",
    "plt.plot(fitted_model.history['val_loss'], 'r', label=\"val losses\")\n",
    "plt.grid(True)\n",
    "plt.title('Training loss vs. Validation loss')\n",
    "plt.xlabel('Epochs')\n",
    "plt.ylabel('Loss')\n",
    "plt.legend()"
   ]
  },
  {
   "cell_type": "code",
   "execution_count": null,
   "metadata": {},
   "outputs": [],
   "source": [
    "losses, val_losses = history.losses, history.val_losses\n",
    "fig = plt.figure(figsize=(15, 5))\n",
    "plt.plot(fitted_model.history['acc'], 'g', label=\"accuracy on train set\")\n",
    "plt.plot(fitted_model.history['val_acc'], 'r', label=\"accuracy on validation set\")\n",
    "plt.grid(True)\n",
    "plt.title('Training Accuracy vs. Validation Accuracy')\n",
    "plt.xlabel('Epochs')\n",
    "plt.ylabel('Loss')\n",
    "plt.legend()"
   ]
  },
  {
   "cell_type": "code",
   "execution_count": null,
   "metadata": {},
   "outputs": [],
   "source": [
    "decoded_imgs = autoencoder.predict(x_test)\n",
    "\n",
    "n = 10\n",
    "plt.figure(figsize=(20, 4))\n",
    "for i in range(n):\n",
    "    # display original\n",
    "    ax = plt.subplot(2, n, i)\n",
    "    plt.imshow(x_test[i].reshape(28, 28))\n",
    "    plt.gray()\n",
    "    ax.get_xaxis().set_visible(False)\n",
    "    ax.get_yaxis().set_visible(False)\n",
    "\n",
    "    # display reconstruction\n",
    "    ax = plt.subplot(2, n, i + n)\n",
    "    plt.imshow(decoded_imgs[i].reshape(28, 28))\n",
    "    plt.gray()\n",
    "    ax.get_xaxis().set_visible(False)\n",
    "    ax.get_yaxis().set_visible(False)\n",
    "plt.show()"
   ]
  }
 ],
 "metadata": {
  "kernelspec": {
   "display_name": "Python 3",
   "language": "python",
   "name": "python3"
  },
  "language_info": {
   "codemirror_mode": {
    "name": "ipython",
    "version": 3
   },
   "file_extension": ".py",
   "mimetype": "text/x-python",
   "name": "python",
   "nbconvert_exporter": "python",
   "pygments_lexer": "ipython3",
   "version": "3.5.3"
  }
 },
 "nbformat": 4,
 "nbformat_minor": 2
}
