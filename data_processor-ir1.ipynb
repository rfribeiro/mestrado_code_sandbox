{
 "cells": [
  {
   "cell_type": "code",
   "execution_count": 1,
   "metadata": {
    "collapsed": true
   },
   "outputs": [],
   "source": [
    "import time\n",
    "import glob\n",
    "import pandas as pd\n",
    "import numpy as np\n",
    "import matplotlib.pyplot as plt\n",
    "\n",
    "%matplotlib inline"
   ]
  },
  {
   "cell_type": "code",
   "execution_count": 2,
   "metadata": {
    "collapsed": true
   },
   "outputs": [],
   "source": [
    "from sklearn.ensemble import VotingClassifier\n",
    "from sklearn.svm import SVC\n",
    "from sklearn.ensemble import RandomForestClassifier\n",
    "from sklearn.svm import LinearSVC\n",
    "from sklearn import preprocessing\n",
    "from sklearn.naive_bayes import GaussianNB\n",
    "from sklearn.neural_network import BernoulliRBM\n",
    "from sklearn.pipeline import Pipeline\n",
    "from sklearn.model_selection import GridSearchCV\n",
    "from sklearn.model_selection import train_test_split\n",
    "from sklearn.metrics import classification_report\n",
    "from sklearn.ensemble import GradientBoostingClassifier\n",
    "from sklearn.neighbors import KNeighborsClassifier\n",
    "\n",
    "from sklearn.preprocessing import LabelBinarizer"
   ]
  },
  {
   "cell_type": "code",
   "execution_count": 3,
   "metadata": {
    "collapsed": true
   },
   "outputs": [],
   "source": [
    "shift = 4320"
   ]
  },
  {
   "cell_type": "code",
   "execution_count": 4,
   "metadata": {
    "collapsed": true
   },
   "outputs": [],
   "source": [
    "prefix = 'C:\\\\Users\\\\rafae\\\\Desktop\\\\Coleta\\\\features\\\\features_hog_*.csv'"
   ]
  },
  {
   "cell_type": "code",
   "execution_count": 5,
   "metadata": {},
   "outputs": [
    {
     "name": "stdout",
     "output_type": "stream",
     "text": [
      "513\n"
     ]
    }
   ],
   "source": [
    "files_list = glob.glob(prefix)\n",
    "print(len(files_list))"
   ]
  },
  {
   "cell_type": "code",
   "execution_count": 6,
   "metadata": {},
   "outputs": [
    {
     "data": {
      "text/plain": [
       "513"
      ]
     },
     "execution_count": 6,
     "metadata": {},
     "output_type": "execute_result"
    }
   ],
   "source": [
    "# read features\n",
    "frames = [pd.read_csv(f, header=0) for f in files_list ]\n",
    "len(frames)"
   ]
  },
  {
   "cell_type": "code",
   "execution_count": 7,
   "metadata": {
    "collapsed": true
   },
   "outputs": [],
   "source": [
    "ds = pd.concat(frames)"
   ]
  },
  {
   "cell_type": "code",
   "execution_count": 8,
   "metadata": {},
   "outputs": [
    {
     "data": {
      "text/plain": [
       "(7680, 17282)"
      ]
     },
     "execution_count": 8,
     "metadata": {},
     "output_type": "execute_result"
    }
   ],
   "source": [
    "ds.shape"
   ]
  },
  {
   "cell_type": "code",
   "execution_count": 22,
   "metadata": {},
   "outputs": [
    {
     "data": {
      "text/html": [
       "<div>\n",
       "<style>\n",
       "    .dataframe thead tr:only-child th {\n",
       "        text-align: right;\n",
       "    }\n",
       "\n",
       "    .dataframe thead th {\n",
       "        text-align: left;\n",
       "    }\n",
       "\n",
       "    .dataframe tbody tr th {\n",
       "        vertical-align: top;\n",
       "    }\n",
       "</style>\n",
       "<table border=\"1\" class=\"dataframe\">\n",
       "  <thead>\n",
       "    <tr style=\"text-align: right;\">\n",
       "      <th></th>\n",
       "      <th>0</th>\n",
       "      <th>1</th>\n",
       "      <th>2</th>\n",
       "      <th>3</th>\n",
       "      <th>4</th>\n",
       "      <th>5</th>\n",
       "      <th>6</th>\n",
       "      <th>7</th>\n",
       "      <th>8</th>\n",
       "      <th>9</th>\n",
       "      <th>...</th>\n",
       "      <th>17272</th>\n",
       "      <th>17273</th>\n",
       "      <th>17274</th>\n",
       "      <th>17275</th>\n",
       "      <th>17276</th>\n",
       "      <th>17277</th>\n",
       "      <th>17278</th>\n",
       "      <th>17279</th>\n",
       "      <th>17280</th>\n",
       "      <th>17281</th>\n",
       "    </tr>\n",
       "  </thead>\n",
       "  <tbody>\n",
       "    <tr>\n",
       "      <th>0</th>\n",
       "      <td>1</td>\n",
       "      <td>p002</td>\n",
       "      <td>NaN</td>\n",
       "      <td>NaN</td>\n",
       "      <td>NaN</td>\n",
       "      <td>NaN</td>\n",
       "      <td>NaN</td>\n",
       "      <td>NaN</td>\n",
       "      <td>NaN</td>\n",
       "      <td>NaN</td>\n",
       "      <td>...</td>\n",
       "      <td>0.071793</td>\n",
       "      <td>0.090339</td>\n",
       "      <td>0.127822</td>\n",
       "      <td>0.127822</td>\n",
       "      <td>0.042653</td>\n",
       "      <td>0.053141</td>\n",
       "      <td>0.059538</td>\n",
       "      <td>0.003019</td>\n",
       "      <td>0.019839</td>\n",
       "      <td>0.127822</td>\n",
       "    </tr>\n",
       "    <tr>\n",
       "      <th>1</th>\n",
       "      <td>1</td>\n",
       "      <td>p002</td>\n",
       "      <td>NaN</td>\n",
       "      <td>NaN</td>\n",
       "      <td>NaN</td>\n",
       "      <td>NaN</td>\n",
       "      <td>NaN</td>\n",
       "      <td>NaN</td>\n",
       "      <td>NaN</td>\n",
       "      <td>NaN</td>\n",
       "      <td>...</td>\n",
       "      <td>0.069514</td>\n",
       "      <td>0.119957</td>\n",
       "      <td>0.119957</td>\n",
       "      <td>0.119957</td>\n",
       "      <td>0.024254</td>\n",
       "      <td>0.051084</td>\n",
       "      <td>0.053452</td>\n",
       "      <td>0.014108</td>\n",
       "      <td>0.010533</td>\n",
       "      <td>0.119957</td>\n",
       "    </tr>\n",
       "    <tr>\n",
       "      <th>2</th>\n",
       "      <td>1</td>\n",
       "      <td>p002</td>\n",
       "      <td>NaN</td>\n",
       "      <td>NaN</td>\n",
       "      <td>NaN</td>\n",
       "      <td>NaN</td>\n",
       "      <td>NaN</td>\n",
       "      <td>NaN</td>\n",
       "      <td>NaN</td>\n",
       "      <td>NaN</td>\n",
       "      <td>...</td>\n",
       "      <td>0.103166</td>\n",
       "      <td>0.037546</td>\n",
       "      <td>0.044686</td>\n",
       "      <td>0.122575</td>\n",
       "      <td>0.033838</td>\n",
       "      <td>0.104095</td>\n",
       "      <td>0.087389</td>\n",
       "      <td>0.003405</td>\n",
       "      <td>0.009884</td>\n",
       "      <td>0.017647</td>\n",
       "    </tr>\n",
       "    <tr>\n",
       "      <th>3</th>\n",
       "      <td>1</td>\n",
       "      <td>p002</td>\n",
       "      <td>NaN</td>\n",
       "      <td>NaN</td>\n",
       "      <td>NaN</td>\n",
       "      <td>NaN</td>\n",
       "      <td>NaN</td>\n",
       "      <td>NaN</td>\n",
       "      <td>NaN</td>\n",
       "      <td>NaN</td>\n",
       "      <td>...</td>\n",
       "      <td>0.132490</td>\n",
       "      <td>0.091092</td>\n",
       "      <td>0.132490</td>\n",
       "      <td>0.123109</td>\n",
       "      <td>0.038147</td>\n",
       "      <td>0.132490</td>\n",
       "      <td>0.132490</td>\n",
       "      <td>0.050142</td>\n",
       "      <td>0.042432</td>\n",
       "      <td>0.028560</td>\n",
       "    </tr>\n",
       "    <tr>\n",
       "      <th>4</th>\n",
       "      <td>1</td>\n",
       "      <td>p002</td>\n",
       "      <td>NaN</td>\n",
       "      <td>NaN</td>\n",
       "      <td>NaN</td>\n",
       "      <td>NaN</td>\n",
       "      <td>NaN</td>\n",
       "      <td>NaN</td>\n",
       "      <td>NaN</td>\n",
       "      <td>NaN</td>\n",
       "      <td>...</td>\n",
       "      <td>0.052366</td>\n",
       "      <td>0.038015</td>\n",
       "      <td>0.034714</td>\n",
       "      <td>0.061695</td>\n",
       "      <td>0.040908</td>\n",
       "      <td>0.070168</td>\n",
       "      <td>0.032586</td>\n",
       "      <td>0.004734</td>\n",
       "      <td>0.009425</td>\n",
       "      <td>0.023819</td>\n",
       "    </tr>\n",
       "  </tbody>\n",
       "</table>\n",
       "<p>5 rows × 17282 columns</p>\n",
       "</div>"
      ],
      "text/plain": [
       "   0     1   2   3   4   5   6   7   8   9    ...        17272     17273  \\\n",
       "0  1  p002 NaN NaN NaN NaN NaN NaN NaN NaN    ...     0.071793  0.090339   \n",
       "1  1  p002 NaN NaN NaN NaN NaN NaN NaN NaN    ...     0.069514  0.119957   \n",
       "2  1  p002 NaN NaN NaN NaN NaN NaN NaN NaN    ...     0.103166  0.037546   \n",
       "3  1  p002 NaN NaN NaN NaN NaN NaN NaN NaN    ...     0.132490  0.091092   \n",
       "4  1  p002 NaN NaN NaN NaN NaN NaN NaN NaN    ...     0.052366  0.038015   \n",
       "\n",
       "      17274     17275     17276     17277     17278     17279     17280  \\\n",
       "0  0.127822  0.127822  0.042653  0.053141  0.059538  0.003019  0.019839   \n",
       "1  0.119957  0.119957  0.024254  0.051084  0.053452  0.014108  0.010533   \n",
       "2  0.044686  0.122575  0.033838  0.104095  0.087389  0.003405  0.009884   \n",
       "3  0.132490  0.123109  0.038147  0.132490  0.132490  0.050142  0.042432   \n",
       "4  0.034714  0.061695  0.040908  0.070168  0.032586  0.004734  0.009425   \n",
       "\n",
       "      17281  \n",
       "0  0.127822  \n",
       "1  0.119957  \n",
       "2  0.017647  \n",
       "3  0.028560  \n",
       "4  0.023819  \n",
       "\n",
       "[5 rows x 17282 columns]"
      ]
     },
     "execution_count": 22,
     "metadata": {},
     "output_type": "execute_result"
    }
   ],
   "source": [
    "ds.head()"
   ]
  },
  {
   "cell_type": "code",
   "execution_count": 91,
   "metadata": {
    "collapsed": true
   },
   "outputs": [],
   "source": [
    "yData = None\n",
    "# IR1\n",
    "#yData = ds['0']\n",
    "\n",
    "#IR1 + IR2\n",
    "yData =  pd.concat([ds['0'],ds['0']], axis=0)\n",
    "\n",
    "groups_data =  pd.concat([ds['1'],ds['1']], axis=0)"
   ]
  },
  {
   "cell_type": "code",
   "execution_count": 83,
   "metadata": {},
   "outputs": [
    {
     "name": "stdout",
     "output_type": "stream",
     "text": [
      "(7680, 4320) (7680, 4320) <class 'pandas.core.frame.DataFrame'>\n"
     ]
    }
   ],
   "source": [
    "xData = None\n",
    "# IR1\n",
    "#xData = pd.concat([ds.iloc[:,2+shift:2+shift+shift]])\n",
    "\n",
    "#IR1 + IR2\n",
    "ir1 = ds.iloc[:,2+shift:2+shift+shift]\n",
    "ir2 = ds.iloc[:,2+shift+shift:2+shift+shift+shift]\n",
    "print(ir1.shape, ir2.shape, type(ir1))\n",
    "ir1 = ir1.transpose().reset_index(drop=True).transpose()\n",
    "ir2 = ir2.transpose().reset_index(drop=True).transpose()\n",
    "\n",
    "xData = pd.concat([ir1, ir2],axis=0,ignore_index=True)"
   ]
  },
  {
   "cell_type": "code",
   "execution_count": 98,
   "metadata": {},
   "outputs": [
    {
     "data": {
      "text/plain": [
       "'p002'"
      ]
     },
     "execution_count": 98,
     "metadata": {},
     "output_type": "execute_result"
    }
   ],
   "source": [
    "groups_data.iloc[1]"
   ]
  },
  {
   "cell_type": "code",
   "execution_count": 84,
   "metadata": {},
   "outputs": [
    {
     "name": "stdout",
     "output_type": "stream",
     "text": [
      "(15360,) (15360, 4320) <class 'pandas.core.series.Series'> <class 'pandas.core.frame.DataFrame'>\n"
     ]
    }
   ],
   "source": [
    "print(yData.shape, xData.shape, type(yData), type(xData))"
   ]
  },
  {
   "cell_type": "code",
   "execution_count": 14,
   "metadata": {
    "collapsed": true
   },
   "outputs": [],
   "source": [
    "from sklearn.metrics import confusion_matrix\n",
    "\n",
    "def plot_confusion_matrix(cm, title='Confusion matrix', cmap=plt.cm.Blues):\n",
    "    plt.imshow(cm, interpolation='nearest', cmap=cmap)\n",
    "    plt.title(title)\n",
    "    plt.colorbar()\n",
    "    tick_marks = np.arange(2)\n",
    "    plt.xticks(tick_marks, rotation=45)\n",
    "    plt.yticks(tick_marks)\n",
    "    plt.tight_layout()\n",
    "    plt.ylabel('True label')\n",
    "    plt.xlabel('Predicted label')"
   ]
  },
  {
   "cell_type": "code",
   "execution_count": 15,
   "metadata": {},
   "outputs": [
    {
     "name": "stderr",
     "output_type": "stream",
     "text": [
      "C:\\ProgramData\\Anaconda3\\lib\\site-packages\\sklearn\\cross_validation.py:41: DeprecationWarning: This module was deprecated in version 0.18 in favor of the model_selection module into which all the refactored classes and functions are moved. Also note that the interface of the new CV iterators are different from that of this module. This module will be removed in 0.20.\n",
      "  \"This module will be removed in 0.20.\", DeprecationWarning)\n"
     ]
    }
   ],
   "source": [
    "from sklearn.metrics import confusion_matrix\n",
    "from sklearn.metrics import classification_report, accuracy_score\n",
    "from sklearn import cross_validation\n",
    "\n",
    "# Compute confusion matrix\n",
    "def plot_confusion(yTest, yTestPred, name):\n",
    "    cm = confusion_matrix(yTest, yTestPred)\n",
    "    np.set_printoptions(precision=2)\n",
    "\n",
    "    # Normalize the confusion matrix by row (i.e by the number of samples in each class)\n",
    "    cm_normalized = (cm.astype('float') / cm.sum(axis=1)[:, np.newaxis])*100\n",
    "    print('Classification report')\n",
    "    print(classification_report(yTest, yTestPred))\n",
    "    print('Normalized confusion matrix')\n",
    "    print(cm_normalized)\n",
    "    plt.figure(figsize=(5, 5))\n",
    "    plot_confusion_matrix(cm_normalized, title='Normalized confusion matrix (%s)' % (name))\n",
    "\n",
    "    plt.show()\n",
    "    # plot confusion matrix"
   ]
  },
  {
   "cell_type": "code",
   "execution_count": 85,
   "metadata": {
    "collapsed": true
   },
   "outputs": [],
   "source": [
    "from sklearn.metrics import make_scorer,precision_recall_fscore_support\n",
    "\n",
    "def search(X_train, X_test, y_train, y_test, group_data_train):\n",
    "    \n",
    "    # normalize data\n",
    "    print(\"Normalizing data!\")\n",
    "    stdScale = preprocessing.StandardScaler().fit(X_train)\n",
    "    X_train = stdScale.transform(X_train)\n",
    "    X_test = stdScale.transform(X_test)\n",
    "    \n",
    "    print(\"Grid Search Classifiers!\")\n",
    "    \n",
    "    knc = KNeighborsClassifier()\n",
    "    svc = SVC()\n",
    "    rfc = RandomForestClassifier()\n",
    "    gb = GradientBoostingClassifier(n_estimators=100, learning_rate=1.0,max_depth=1, random_state=0)\n",
    "    clf1 = SVC()\n",
    "    clf2 = RandomForestClassifier(random_state=1)\n",
    "    clf3 = GaussianNB()\n",
    "    vt = VotingClassifier(estimators=[('svc', clf1), ('rf', clf2), ('gnb', clf3)], voting='hard')\n",
    "\n",
    "    kncp = [{'n_neighbors': [3, 5, 7],\n",
    "             'weights': ['uniform','distance'],\n",
    "              'algorithm': ['auto','ball_tree', 'kd_tree', 'brute']}]\n",
    "    svcp = [{'kernel': ['rbf'], #{'kernel': ['rbf','linear'], \n",
    "             'class_weight':['balanced'],\n",
    "             'gamma': [0.0001],#['auto',1e-2, 1e-3, 1e-4],\n",
    "             'C': [15]}]#[0.01, 0.1, 1.0, 1, 10, 50, 100, 500, 1000]}]\n",
    "    rfcp = [{'n_estimators': [10, 20, 50, 100,200,300], \n",
    "            'max_depth': [None, 1, 10, 100],\n",
    "            'bootstrap': [True, False],\n",
    "            'criterion': [\"gini\", \"entropy\"]}]\n",
    "    gbp = [{#'loss' : ['deviance', 'exponential'],\n",
    "           'n_estimators': [50,100],\n",
    "           'learning_rate': [0.1,1.0,10],\n",
    "           'max_depth' : [3,5,10]\n",
    "            }]\n",
    "           #'min_impurity_decrease': [0.0]}]#, 0.1]}]\n",
    "    vtp = [{'svc__C': [1.0, 100.0], \n",
    "            'rf__n_estimators': [20, 200],}]\n",
    "   \n",
    "    classifiers = [#('kNN', knc, kncp),                                 \n",
    "                    ('Support Vector', svc, svcp),\n",
    "                    #('Random Forest', rfc, rfcp),\n",
    "                    #('Gradient Boosting', gb, gbp),\n",
    "                    #('Vooting', vt, vtp)\n",
    "    ]\n",
    "    \n",
    "    for name, classifier, params in classifiers:\n",
    "        print(name)\n",
    "        clf = GridSearchCV(classifier, params, cv=5, n_jobs=4, scoring=['f1_weighted','accuracy','precision_weighted', 'recall_weighted'], refit='f1_weighted' , verbose = 10)\n",
    "\n",
    "        clf.fit(X_train, y_train, groups=group_data_train)\n",
    "\n",
    "        print(\"Best parameters set found on development set:\")\n",
    "        print()\n",
    "        print(clf.best_params_)\n",
    "        print()\n",
    "        print(\"Grid scores on development set:\")\n",
    "        print(clf.best_score_)\n",
    "        print()\n",
    "        print(clf.cv_results_.keys())\n",
    "        means = clf.cv_results_['mean_test_accuracy']\n",
    "        stds = clf.cv_results_['std_test_accuracy']\n",
    "        for mean, std, params in zip(means, stds, clf.cv_results_['params']):\n",
    "            print(\"%0.3f (+/-%0.03f) for %r\"\n",
    "                  % (mean, std * 2, params))\n",
    "        print()\n",
    "\n",
    "        print(\"Detailed classification report:\")\n",
    "        print()\n",
    "        print(\"The model is trained on the full development set.\")\n",
    "        print(\"The scores are computed on the full evaluation set.\")\n",
    "        print()\n",
    "        yTrue, yPred = y_test, clf.predict(X_test)\n",
    "        print(classification_report(yTrue, yPred))\n",
    "        plot_confusion(yTrue, yPred, name)\n",
    "        print()"
   ]
  },
  {
   "cell_type": "code",
   "execution_count": 86,
   "metadata": {},
   "outputs": [
    {
     "name": "stdout",
     "output_type": "stream",
     "text": [
      "[ 1  2  3  4  5  6  7  8  9 10 11 12 13 14 15 16 17 18 19]\n"
     ]
    }
   ],
   "source": [
    "le = preprocessing.LabelEncoder()\n",
    "le.fit(yData)\n",
    "print(le.classes_)\n",
    "yDataBin = le.transform(yData)"
   ]
  },
  {
   "cell_type": "code",
   "execution_count": null,
   "metadata": {},
   "outputs": [],
   "source": []
  },
  {
   "cell_type": "code",
   "execution_count": 99,
   "metadata": {},
   "outputs": [
    {
     "name": "stdout",
     "output_type": "stream",
     "text": [
      "<class 'numpy.ndarray'> (12000,) (3360,)\n",
      "TRAIN: [    0     1     2 ..., 15357 15358 15359] TEST: [  570   571   572 ..., 14802 14803 14804]\n",
      "['p002' 'p003' 'p005' 'p006' 'p008' 'p011' 'p012' 'p013' 'p014' 'p015'\n",
      " 'p016' 'p020' 'p021' 'p022' 'p023' 'p024' 'p026' 'p027' 'p028' 'p029'\n",
      " 'p030' 'p032' 'p033']\n",
      "['p004' 'p007' 'p009' 'p019' 'p025' 'p031']\n",
      "1     690\n",
      "0     672\n",
      "5     660\n",
      "4     660\n",
      "3     660\n",
      "2     656\n",
      "6     654\n",
      "12    630\n",
      "11    630\n",
      "10    630\n",
      "15    630\n",
      "8     628\n",
      "13    600\n",
      "7     600\n",
      "18    600\n",
      "17    600\n",
      "9     600\n",
      "14    600\n",
      "16    600\n",
      "Name: 0, dtype: int64\n",
      "17    180\n",
      "16    180\n",
      "2     180\n",
      "6     180\n",
      "8     180\n",
      "10    180\n",
      "12    180\n",
      "14    180\n",
      "18    180\n",
      "1     180\n",
      "3     180\n",
      "5     180\n",
      "7     180\n",
      "9     180\n",
      "11    180\n",
      "13    180\n",
      "0     180\n",
      "15    150\n",
      "4     150\n",
      "Name: 0, dtype: int64\n",
      "\n",
      "\n",
      "Normalizing data!\n",
      "Grid Search Classifiers!\n",
      "Support Vector\n",
      "Fitting 5 folds for each of 1 candidates, totalling 5 fits\n"
     ]
    },
    {
     "name": "stderr",
     "output_type": "stream",
     "text": [
      "[Parallel(n_jobs=4)]: Done   2 out of   5 | elapsed: 102.2min remaining: 153.2min\n",
      "[Parallel(n_jobs=4)]: Done   3 out of   5 | elapsed: 102.9min remaining: 68.6min\n",
      "[Parallel(n_jobs=4)]: Done   5 out of   5 | elapsed: 149.7min remaining:    0.0s\n",
      "[Parallel(n_jobs=4)]: Done   5 out of   5 | elapsed: 149.7min finished\n"
     ]
    },
    {
     "name": "stdout",
     "output_type": "stream",
     "text": [
      "Best parameters set found on development set:\n",
      "\n",
      "{'C': 15, 'class_weight': 'balanced', 'gamma': 0.0001, 'kernel': 'rbf'}\n",
      "\n",
      "Grid scores on development set:\n",
      "0.663580659143\n",
      "\n",
      "dict_keys(['mean_fit_time', 'std_fit_time', 'mean_score_time', 'std_score_time', 'param_C', 'param_class_weight', 'param_gamma', 'param_kernel', 'params', 'split0_test_f1_weighted', 'split1_test_f1_weighted', 'split2_test_f1_weighted', 'split3_test_f1_weighted', 'split4_test_f1_weighted', 'mean_test_f1_weighted', 'std_test_f1_weighted', 'rank_test_f1_weighted', 'split0_train_f1_weighted', 'split1_train_f1_weighted', 'split2_train_f1_weighted', 'split3_train_f1_weighted', 'split4_train_f1_weighted', 'mean_train_f1_weighted', 'std_train_f1_weighted', 'split0_test_accuracy', 'split1_test_accuracy', 'split2_test_accuracy', 'split3_test_accuracy', 'split4_test_accuracy', 'mean_test_accuracy', 'std_test_accuracy', 'rank_test_accuracy', 'split0_train_accuracy', 'split1_train_accuracy', 'split2_train_accuracy', 'split3_train_accuracy', 'split4_train_accuracy', 'mean_train_accuracy', 'std_train_accuracy', 'split0_test_precision_weighted', 'split1_test_precision_weighted', 'split2_test_precision_weighted', 'split3_test_precision_weighted', 'split4_test_precision_weighted', 'mean_test_precision_weighted', 'std_test_precision_weighted', 'rank_test_precision_weighted', 'split0_train_precision_weighted', 'split1_train_precision_weighted', 'split2_train_precision_weighted', 'split3_train_precision_weighted', 'split4_train_precision_weighted', 'mean_train_precision_weighted', 'std_train_precision_weighted', 'split0_test_recall_weighted', 'split1_test_recall_weighted', 'split2_test_recall_weighted', 'split3_test_recall_weighted', 'split4_test_recall_weighted', 'mean_test_recall_weighted', 'std_test_recall_weighted', 'rank_test_recall_weighted', 'split0_train_recall_weighted', 'split1_train_recall_weighted', 'split2_train_recall_weighted', 'split3_train_recall_weighted', 'split4_train_recall_weighted', 'mean_train_recall_weighted', 'std_train_recall_weighted'])\n",
      "0.664 (+/-0.113) for {'C': 15, 'class_weight': 'balanced', 'gamma': 0.0001, 'kernel': 'rbf'}\n",
      "\n",
      "Detailed classification report:\n",
      "\n",
      "The model is trained on the full development set.\n",
      "The scores are computed on the full evaluation set.\n",
      "\n",
      "             precision    recall  f1-score   support\n",
      "\n",
      "          0       0.56      0.85      0.67       180\n",
      "          1       0.68      0.32      0.43       180\n",
      "          2       0.61      0.71      0.65       180\n",
      "          3       0.19      0.36      0.24       180\n",
      "          4       0.24      0.29      0.26       150\n",
      "          5       0.08      0.07      0.08       180\n",
      "          6       0.31      0.22      0.26       180\n",
      "          7       0.50      0.33      0.39       180\n",
      "          8       0.45      0.29      0.36       180\n",
      "          9       0.31      0.23      0.27       180\n",
      "         10       0.30      0.47      0.37       180\n",
      "         11       0.14      0.21      0.17       180\n",
      "         12       0.26      0.38      0.31       180\n",
      "         13       0.18      0.20      0.19       180\n",
      "         14       0.10      0.09      0.09       180\n",
      "         15       0.40      0.36      0.38       150\n",
      "         16       0.14      0.08      0.10       180\n",
      "         17       0.15      0.15      0.15       180\n",
      "         18       0.76      0.09      0.16       180\n",
      "\n",
      "avg / total       0.33      0.30      0.29      3360\n",
      "\n",
      "Classification report\n",
      "             precision    recall  f1-score   support\n",
      "\n",
      "          0       0.56      0.85      0.67       180\n",
      "          1       0.68      0.32      0.43       180\n",
      "          2       0.61      0.71      0.65       180\n",
      "          3       0.19      0.36      0.24       180\n",
      "          4       0.24      0.29      0.26       150\n",
      "          5       0.08      0.07      0.08       180\n",
      "          6       0.31      0.22      0.26       180\n",
      "          7       0.50      0.33      0.39       180\n",
      "          8       0.45      0.29      0.36       180\n",
      "          9       0.31      0.23      0.27       180\n",
      "         10       0.30      0.47      0.37       180\n",
      "         11       0.14      0.21      0.17       180\n",
      "         12       0.26      0.38      0.31       180\n",
      "         13       0.18      0.20      0.19       180\n",
      "         14       0.10      0.09      0.09       180\n",
      "         15       0.40      0.36      0.38       150\n",
      "         16       0.14      0.08      0.10       180\n",
      "         17       0.15      0.15      0.15       180\n",
      "         18       0.76      0.09      0.16       180\n",
      "\n",
      "avg / total       0.33      0.30      0.29      3360\n",
      "\n",
      "Normalized confusion matrix\n",
      "[[ 85.    13.89   0.     0.     0.     0.     0.     0.     0.     0.56\n",
      "    0.     0.     0.     0.     0.     0.     0.     0.     0.56]\n",
      " [ 66.67  31.67   0.     0.56   0.     0.     0.     0.     0.     1.11\n",
      "    0.     0.     0.     0.     0.     0.     0.     0.     0.  ]\n",
      " [  0.     0.    70.56   0.     0.     0.     0.     0.     0.    12.22\n",
      "    3.33   0.     6.67   7.22   0.     0.     0.     0.     0.  ]\n",
      " [  0.     0.     0.    35.56  18.33   0.56   0.     0.     0.     0.     0.\n",
      "   34.44   0.     0.     1.67   0.     0.     9.44   0.  ]\n",
      " [  0.     0.     0.    34.67  29.33  16.67   0.     0.     0.     0.     0.\n",
      "    4.     0.     0.     3.33   0.     0.    12.     0.  ]\n",
      " [  0.     0.     0.    13.33  29.44   7.22   6.67   4.44   0.     0.     0.\n",
      "   16.11   0.     0.    11.67   0.     0.    11.11   0.  ]\n",
      " [  0.     0.     0.    14.44   3.33  16.67  22.22   1.67   0.     0.\n",
      "    3.89   9.44   0.     0.     8.33   0.     2.22  17.78   0.  ]\n",
      " [  0.     0.     0.     0.56   0.     5.    12.22  32.78   0.     0.\n",
      "    6.11   0.56   0.    10.    26.11   0.     2.78   3.89   0.  ]\n",
      " [  0.     0.     3.89   0.     0.     0.     0.    11.67  29.44   7.22\n",
      "    0.     0.    17.22   8.89   0.    20.     1.11   0.     0.56]\n",
      " [  0.     0.    23.33   0.     0.     0.     0.     0.     0.    23.33\n",
      "    3.33   0.    41.11   2.78   0.     3.89   1.11   0.     1.11]\n",
      " [  0.     0.     0.56  16.67   0.     1.11   2.22   0.     0.     0.\n",
      "   47.22  13.89   0.     8.89   0.     0.     8.89   0.56   0.  ]\n",
      " [  0.     0.     0.    47.22   6.67   6.11   1.11   0.     0.     0.\n",
      "   17.78  20.56   0.     0.     0.56   0.     0.     0.     0.  ]\n",
      " [  0.     0.    15.56   0.     0.     0.     0.56   0.     0.56  12.78\n",
      "    3.33   2.78  38.33  12.22   0.56   5.     7.78   0.56   0.  ]\n",
      " [  0.     0.     0.     2.22   1.11   9.44   8.33   0.     0.     0.56\n",
      "   21.11   3.89  11.67  20.     4.44   0.    12.78   4.44   0.  ]\n",
      " [  0.56   0.56   0.    18.33   8.89   6.11   7.78   0.     0.     0.\n",
      "   17.22  22.22   0.     0.56   8.89   0.     0.56   8.33   0.  ]\n",
      " [  0.     0.     0.67   0.     0.     0.     0.     0.     8.67  18.67\n",
      "    0.     0.    30.     6.     0.    36.     0.     0.     0.  ]\n",
      " [  0.     0.     1.67   0.     0.    15.     2.78   0.     1.11   1.11\n",
      "   12.22   0.     8.33  28.33   8.89   3.33   7.78   8.89   0.56]\n",
      " [  0.56   0.     0.    12.22  11.67   3.89   6.67   0.     0.     0.\n",
      "   14.44  16.67   0.     0.    10.56   0.     8.33  15.     0.  ]\n",
      " [  0.     0.56   0.     0.56   0.     0.56   0.    15.56  27.22   0.     5.\n",
      "    0.     0.     8.89   3.89  13.33   2.22  13.33   8.89]]\n"
     ]
    },
    {
     "data": {
      "image/png": "[encoded data removed]",
      "text/plain": [
       "<matplotlib.figure.Figure at 0x2080e31cc50>"
      ]
     },
     "metadata": {},
     "output_type": "display_data"
    },
    {
     "name": "stdout",
     "output_type": "stream",
     "text": [
      "\n",
      "<class 'numpy.ndarray'> (12006,) (3354,)\n",
      "TRAIN: [    0     1     2 ..., 15357 15358 15359] TEST: [ 1410  1411  1412 ..., 15087 15088 15089]\n",
      "['p002' 'p003' 'p004' 'p005' 'p006' 'p008' 'p009' 'p011' 'p012' 'p013'\n",
      " 'p014' 'p015' 'p016' 'p020' 'p023' 'p024' 'p025' 'p026' 'p027' 'p029'\n",
      " 'p030' 'p031' 'p033']\n",
      "['p007' 'p019' 'p021' 'p022' 'p028' 'p032']\n",
      "1     690\n",
      "0     672\n",
      "5     660\n",
      "2     660\n",
      "4     660\n",
      "3     660\n",
      "6     654\n",
      "12    630\n",
      "11    630\n",
      "10    630\n",
      "8     630\n",
      "15    630\n",
      "13    600\n",
      "7     600\n",
      "18    600\n",
      "17    600\n",
      "9     600\n",
      "14    600\n",
      "16    600\n",
      "Name: 0, dtype: int64\n",
      "17    180\n",
      "1     180\n",
      "6     180\n",
      "10    180\n",
      "12    180\n",
      "14    180\n",
      "16    180\n",
      "18    180\n",
      "3     180\n",
      "5     180\n",
      "7     180\n",
      "9     180\n",
      "11    180\n",
      "13    180\n",
      "0     180\n",
      "8     178\n",
      "2     176\n",
      "15    150\n",
      "4     150\n",
      "Name: 0, dtype: int64\n",
      "\n",
      "\n",
      "Normalizing data!\n",
      "Grid Search Classifiers!\n",
      "Support Vector\n",
      "Fitting 5 folds for each of 1 candidates, totalling 5 fits\n"
     ]
    },
    {
     "ename": "JoblibMemoryError",
     "evalue": "JoblibMemoryError\n___________________________________________________________________________\nMultiprocessing exception:\n...........................................................................\nC:\\ProgramData\\Anaconda3\\lib\\runpy.py in _run_module_as_main(mod_name='ipykernel_launcher', alter_argv=1)\n    188         sys.exit(msg)\n    189     main_globals = sys.modules[\"__main__\"].__dict__\n    190     if alter_argv:\n    191         sys.argv[0] = mod_spec.origin\n    192     return _run_code(code, main_globals, None,\n--> 193                      \"__main__\", mod_spec)\n        mod_spec = ModuleSpec(name='ipykernel_launcher', loader=<_f...nda3\\\\lib\\\\site-packages\\\\ipykernel_launcher.py')\n    194 \n    195 def run_module(mod_name, init_globals=None,\n    196                run_name=None, alter_sys=False):\n    197     \"\"\"Execute a module's code without importing it\n\n...........................................................................\nC:\\ProgramData\\Anaconda3\\lib\\runpy.py in _run_code(code=<code object <module> at 0x00000207EE587810, fil...lib\\site-packages\\ipykernel_launcher.py\", line 5>, run_globals={'__annotations__': {}, '__builtins__': <module 'builtins' (built-in)>, '__cached__': r'C:\\ProgramData\\Anaconda3\\lib\\site-packages\\__pycache__\\ipykernel_launcher.cpython-36.pyc', '__doc__': 'Entry point for launching an IPython kernel.\\n\\nTh...orts until\\nafter removing the cwd from sys.path.\\n', '__file__': r'C:\\ProgramData\\Anaconda3\\lib\\site-packages\\ipykernel_launcher.py', '__loader__': <_frozen_importlib_external.SourceFileLoader object>, '__name__': '__main__', '__package__': '', '__spec__': ModuleSpec(name='ipykernel_launcher', loader=<_f...nda3\\\\lib\\\\site-packages\\\\ipykernel_launcher.py'), 'app': <module 'ipykernel.kernelapp' from 'C:\\\\ProgramD...a3\\\\lib\\\\site-packages\\\\ipykernel\\\\kernelapp.py'>, ...}, init_globals=None, mod_name='__main__', mod_spec=ModuleSpec(name='ipykernel_launcher', loader=<_f...nda3\\\\lib\\\\site-packages\\\\ipykernel_launcher.py'), pkg_name='', script_name=None)\n     80                        __cached__ = cached,\n     81                        __doc__ = None,\n     82                        __loader__ = loader,\n     83                        __package__ = pkg_name,\n     84                        __spec__ = mod_spec)\n---> 85     exec(code, run_globals)\n        code = <code object <module> at 0x00000207EE587810, fil...lib\\site-packages\\ipykernel_launcher.py\", line 5>\n        run_globals = {'__annotations__': {}, '__builtins__': <module 'builtins' (built-in)>, '__cached__': r'C:\\ProgramData\\Anaconda3\\lib\\site-packages\\__pycache__\\ipykernel_launcher.cpython-36.pyc', '__doc__': 'Entry point for launching an IPython kernel.\\n\\nTh...orts until\\nafter removing the cwd from sys.path.\\n', '__file__': r'C:\\ProgramData\\Anaconda3\\lib\\site-packages\\ipykernel_launcher.py', '__loader__': <_frozen_importlib_external.SourceFileLoader object>, '__name__': '__main__', '__package__': '', '__spec__': ModuleSpec(name='ipykernel_launcher', loader=<_f...nda3\\\\lib\\\\site-packages\\\\ipykernel_launcher.py'), 'app': <module 'ipykernel.kernelapp' from 'C:\\\\ProgramD...a3\\\\lib\\\\site-packages\\\\ipykernel\\\\kernelapp.py'>, ...}\n     86     return run_globals\n     87 \n     88 def _run_module_code(code, init_globals=None,\n     89                     mod_name=None, mod_spec=None,\n\n...........................................................................\nC:\\ProgramData\\Anaconda3\\lib\\site-packages\\ipykernel_launcher.py in <module>()\n     11     # This is added back by InteractiveShellApp.init_path()\n     12     if sys.path[0] == '':\n     13         del sys.path[0]\n     14 \n     15     from ipykernel import kernelapp as app\n---> 16     app.launch_new_instance()\n\n...........................................................................\nC:\\ProgramData\\Anaconda3\\lib\\site-packages\\traitlets\\config\\application.py in launch_instance(cls=<class 'ipykernel.kernelapp.IPKernelApp'>, argv=None, **kwargs={})\n    653 \n    654         If a global instance already exists, this reinitializes and starts it\n    655         \"\"\"\n    656         app = cls.instance(**kwargs)\n    657         app.initialize(argv)\n--> 658         app.start()\n        app.start = <bound method IPKernelApp.start of <ipykernel.kernelapp.IPKernelApp object>>\n    659 \n    660 #-----------------------------------------------------------------------------\n    661 # utility functions, for convenience\n    662 #-----------------------------------------------------------------------------\n\n...........................................................................\nC:\\ProgramData\\Anaconda3\\lib\\site-packages\\ipykernel\\kernelapp.py in start(self=<ipykernel.kernelapp.IPKernelApp object>)\n    472             return self.subapp.start()\n    473         if self.poller is not None:\n    474             self.poller.start()\n    475         self.kernel.start()\n    476         try:\n--> 477             ioloop.IOLoop.instance().start()\n    478         except KeyboardInterrupt:\n    479             pass\n    480 \n    481 launch_new_instance = IPKernelApp.launch_instance\n\n...........................................................................\nC:\\ProgramData\\Anaconda3\\lib\\site-packages\\zmq\\eventloop\\ioloop.py in start(self=<zmq.eventloop.ioloop.ZMQIOLoop object>)\n    172             )\n    173         return loop\n    174     \n    175     def start(self):\n    176         try:\n--> 177             super(ZMQIOLoop, self).start()\n        self.start = <bound method ZMQIOLoop.start of <zmq.eventloop.ioloop.ZMQIOLoop object>>\n    178         except ZMQError as e:\n    179             if e.errno == ETERM:\n    180                 # quietly return on ETERM\n    181                 pass\n\n...........................................................................\nC:\\ProgramData\\Anaconda3\\lib\\site-packages\\tornado\\ioloop.py in start(self=<zmq.eventloop.ioloop.ZMQIOLoop object>)\n    883                 self._events.update(event_pairs)\n    884                 while self._events:\n    885                     fd, events = self._events.popitem()\n    886                     try:\n    887                         fd_obj, handler_func = self._handlers[fd]\n--> 888                         handler_func(fd_obj, events)\n        handler_func = <function wrap.<locals>.null_wrapper>\n        fd_obj = <zmq.sugar.socket.Socket object>\n        events = 1\n    889                     except (OSError, IOError) as e:\n    890                         if errno_from_exception(e) == errno.EPIPE:\n    891                             # Happens when the client closes the connection\n    892                             pass\n\n...........................................................................\nC:\\ProgramData\\Anaconda3\\lib\\site-packages\\tornado\\stack_context.py in null_wrapper(*args=(<zmq.sugar.socket.Socket object>, 1), **kwargs={})\n    272         # Fast path when there are no active contexts.\n    273         def null_wrapper(*args, **kwargs):\n    274             try:\n    275                 current_state = _state.contexts\n    276                 _state.contexts = cap_contexts[0]\n--> 277                 return fn(*args, **kwargs)\n        args = (<zmq.sugar.socket.Socket object>, 1)\n        kwargs = {}\n    278             finally:\n    279                 _state.contexts = current_state\n    280         null_wrapper._wrapped = True\n    281         return null_wrapper\n\n...........................................................................\nC:\\ProgramData\\Anaconda3\\lib\\site-packages\\zmq\\eventloop\\zmqstream.py in _handle_events(self=<zmq.eventloop.zmqstream.ZMQStream object>, fd=<zmq.sugar.socket.Socket object>, events=1)\n    435             # dispatch events:\n    436             if events & IOLoop.ERROR:\n    437                 gen_log.error(\"got POLLERR event on ZMQStream, which doesn't make sense\")\n    438                 return\n    439             if events & IOLoop.READ:\n--> 440                 self._handle_recv()\n        self._handle_recv = <bound method ZMQStream._handle_recv of <zmq.eventloop.zmqstream.ZMQStream object>>\n    441                 if not self.socket:\n    442                     return\n    443             if events & IOLoop.WRITE:\n    444                 self._handle_send()\n\n...........................................................................\nC:\\ProgramData\\Anaconda3\\lib\\site-packages\\zmq\\eventloop\\zmqstream.py in _handle_recv(self=<zmq.eventloop.zmqstream.ZMQStream object>)\n    467                 gen_log.error(\"RECV Error: %s\"%zmq.strerror(e.errno))\n    468         else:\n    469             if self._recv_callback:\n    470                 callback = self._recv_callback\n    471                 # self._recv_callback = None\n--> 472                 self._run_callback(callback, msg)\n        self._run_callback = <bound method ZMQStream._run_callback of <zmq.eventloop.zmqstream.ZMQStream object>>\n        callback = <function wrap.<locals>.null_wrapper>\n        msg = [<zmq.sugar.frame.Frame object>, <zmq.sugar.frame.Frame object>, <zmq.sugar.frame.Frame object>, <zmq.sugar.frame.Frame object>, <zmq.sugar.frame.Frame object>, <zmq.sugar.frame.Frame object>, <zmq.sugar.frame.Frame object>]\n    473                 \n    474         # self.update_state()\n    475         \n    476 \n\n...........................................................................\nC:\\ProgramData\\Anaconda3\\lib\\site-packages\\zmq\\eventloop\\zmqstream.py in _run_callback(self=<zmq.eventloop.zmqstream.ZMQStream object>, callback=<function wrap.<locals>.null_wrapper>, *args=([<zmq.sugar.frame.Frame object>, <zmq.sugar.frame.Frame object>, <zmq.sugar.frame.Frame object>, <zmq.sugar.frame.Frame object>, <zmq.sugar.frame.Frame object>, <zmq.sugar.frame.Frame object>, <zmq.sugar.frame.Frame object>],), **kwargs={})\n    409         close our socket.\"\"\"\n    410         try:\n    411             # Use a NullContext to ensure that all StackContexts are run\n    412             # inside our blanket exception handler rather than outside.\n    413             with stack_context.NullContext():\n--> 414                 callback(*args, **kwargs)\n        callback = <function wrap.<locals>.null_wrapper>\n        args = ([<zmq.sugar.frame.Frame object>, <zmq.sugar.frame.Frame object>, <zmq.sugar.frame.Frame object>, <zmq.sugar.frame.Frame object>, <zmq.sugar.frame.Frame object>, <zmq.sugar.frame.Frame object>, <zmq.sugar.frame.Frame object>],)\n        kwargs = {}\n    415         except:\n    416             gen_log.error(\"Uncaught exception, closing connection.\",\n    417                           exc_info=True)\n    418             # Close the socket on an uncaught exception from a user callback\n\n...........................................................................\nC:\\ProgramData\\Anaconda3\\lib\\site-packages\\tornado\\stack_context.py in null_wrapper(*args=([<zmq.sugar.frame.Frame object>, <zmq.sugar.frame.Frame object>, <zmq.sugar.frame.Frame object>, <zmq.sugar.frame.Frame object>, <zmq.sugar.frame.Frame object>, <zmq.sugar.frame.Frame object>, <zmq.sugar.frame.Frame object>],), **kwargs={})\n    272         # Fast path when there are no active contexts.\n    273         def null_wrapper(*args, **kwargs):\n    274             try:\n    275                 current_state = _state.contexts\n    276                 _state.contexts = cap_contexts[0]\n--> 277                 return fn(*args, **kwargs)\n        args = ([<zmq.sugar.frame.Frame object>, <zmq.sugar.frame.Frame object>, <zmq.sugar.frame.Frame object>, <zmq.sugar.frame.Frame object>, <zmq.sugar.frame.Frame object>, <zmq.sugar.frame.Frame object>, <zmq.sugar.frame.Frame object>],)\n        kwargs = {}\n    278             finally:\n    279                 _state.contexts = current_state\n    280         null_wrapper._wrapped = True\n    281         return null_wrapper\n\n...........................................................................\nC:\\ProgramData\\Anaconda3\\lib\\site-packages\\ipykernel\\kernelbase.py in dispatcher(msg=[<zmq.sugar.frame.Frame object>, <zmq.sugar.frame.Frame object>, <zmq.sugar.frame.Frame object>, <zmq.sugar.frame.Frame object>, <zmq.sugar.frame.Frame object>, <zmq.sugar.frame.Frame object>, <zmq.sugar.frame.Frame object>])\n    278         if self.control_stream:\n    279             self.control_stream.on_recv(self.dispatch_control, copy=False)\n    280 \n    281         def make_dispatcher(stream):\n    282             def dispatcher(msg):\n--> 283                 return self.dispatch_shell(stream, msg)\n        msg = [<zmq.sugar.frame.Frame object>, <zmq.sugar.frame.Frame object>, <zmq.sugar.frame.Frame object>, <zmq.sugar.frame.Frame object>, <zmq.sugar.frame.Frame object>, <zmq.sugar.frame.Frame object>, <zmq.sugar.frame.Frame object>]\n    284             return dispatcher\n    285 \n    286         for s in self.shell_streams:\n    287             s.on_recv(make_dispatcher(s), copy=False)\n\n...........................................................................\nC:\\ProgramData\\Anaconda3\\lib\\site-packages\\ipykernel\\kernelbase.py in dispatch_shell(self=<ipykernel.ipkernel.IPythonKernel object>, stream=<zmq.eventloop.zmqstream.ZMQStream object>, msg={'buffers': [], 'content': {'allow_stdin': True, 'code': 'from sklearn.model_selection import StratifiedSh...], \\n           groups_data.iloc[train_index])    ', 'silent': False, 'stop_on_error': True, 'store_history': True, 'user_expressions': {}}, 'header': {'date': datetime.datetime(2017, 10, 23, 2, 17, 48, 135894, tzinfo=tzutc()), 'msg_id': 'E02F5D3F961C498D8D257733EB28F180', 'msg_type': 'execute_request', 'session': '59442CF5E8DF42BA87562F8146741319', 'username': 'username', 'version': '5.0'}, 'metadata': {}, 'msg_id': 'E02F5D3F961C498D8D257733EB28F180', 'msg_type': 'execute_request', 'parent_header': {}})\n    230             self.log.warn(\"Unknown message type: %r\", msg_type)\n    231         else:\n    232             self.log.debug(\"%s: %s\", msg_type, msg)\n    233             self.pre_handler_hook()\n    234             try:\n--> 235                 handler(stream, idents, msg)\n        handler = <bound method Kernel.execute_request of <ipykernel.ipkernel.IPythonKernel object>>\n        stream = <zmq.eventloop.zmqstream.ZMQStream object>\n        idents = [b'59442CF5E8DF42BA87562F8146741319']\n        msg = {'buffers': [], 'content': {'allow_stdin': True, 'code': 'from sklearn.model_selection import StratifiedSh...], \\n           groups_data.iloc[train_index])    ', 'silent': False, 'stop_on_error': True, 'store_history': True, 'user_expressions': {}}, 'header': {'date': datetime.datetime(2017, 10, 23, 2, 17, 48, 135894, tzinfo=tzutc()), 'msg_id': 'E02F5D3F961C498D8D257733EB28F180', 'msg_type': 'execute_request', 'session': '59442CF5E8DF42BA87562F8146741319', 'username': 'username', 'version': '5.0'}, 'metadata': {}, 'msg_id': 'E02F5D3F961C498D8D257733EB28F180', 'msg_type': 'execute_request', 'parent_header': {}}\n    236             except Exception:\n    237                 self.log.error(\"Exception in message handler:\", exc_info=True)\n    238             finally:\n    239                 self.post_handler_hook()\n\n...........................................................................\nC:\\ProgramData\\Anaconda3\\lib\\site-packages\\ipykernel\\kernelbase.py in execute_request(self=<ipykernel.ipkernel.IPythonKernel object>, stream=<zmq.eventloop.zmqstream.ZMQStream object>, ident=[b'59442CF5E8DF42BA87562F8146741319'], parent={'buffers': [], 'content': {'allow_stdin': True, 'code': 'from sklearn.model_selection import StratifiedSh...], \\n           groups_data.iloc[train_index])    ', 'silent': False, 'stop_on_error': True, 'store_history': True, 'user_expressions': {}}, 'header': {'date': datetime.datetime(2017, 10, 23, 2, 17, 48, 135894, tzinfo=tzutc()), 'msg_id': 'E02F5D3F961C498D8D257733EB28F180', 'msg_type': 'execute_request', 'session': '59442CF5E8DF42BA87562F8146741319', 'username': 'username', 'version': '5.0'}, 'metadata': {}, 'msg_id': 'E02F5D3F961C498D8D257733EB28F180', 'msg_type': 'execute_request', 'parent_header': {}})\n    394         if not silent:\n    395             self.execution_count += 1\n    396             self._publish_execute_input(code, parent, self.execution_count)\n    397 \n    398         reply_content = self.do_execute(code, silent, store_history,\n--> 399                                         user_expressions, allow_stdin)\n        user_expressions = {}\n        allow_stdin = True\n    400 \n    401         # Flush output before sending the reply.\n    402         sys.stdout.flush()\n    403         sys.stderr.flush()\n\n...........................................................................\nC:\\ProgramData\\Anaconda3\\lib\\site-packages\\ipykernel\\ipkernel.py in do_execute(self=<ipykernel.ipkernel.IPythonKernel object>, code='from sklearn.model_selection import StratifiedSh...], \\n           groups_data.iloc[train_index])    ', silent=False, store_history=True, user_expressions={}, allow_stdin=True)\n    191 \n    192         self._forward_input(allow_stdin)\n    193 \n    194         reply_content = {}\n    195         try:\n--> 196             res = shell.run_cell(code, store_history=store_history, silent=silent)\n        res = undefined\n        shell.run_cell = <bound method ZMQInteractiveShell.run_cell of <ipykernel.zmqshell.ZMQInteractiveShell object>>\n        code = 'from sklearn.model_selection import StratifiedSh...], \\n           groups_data.iloc[train_index])    '\n        store_history = True\n        silent = False\n    197         finally:\n    198             self._restore_input()\n    199 \n    200         if res.error_before_exec is not None:\n\n...........................................................................\nC:\\ProgramData\\Anaconda3\\lib\\site-packages\\ipykernel\\zmqshell.py in run_cell(self=<ipykernel.zmqshell.ZMQInteractiveShell object>, *args=('from sklearn.model_selection import StratifiedSh...], \\n           groups_data.iloc[train_index])    ',), **kwargs={'silent': False, 'store_history': True})\n    528             )\n    529         self.payload_manager.write_payload(payload)\n    530 \n    531     def run_cell(self, *args, **kwargs):\n    532         self._last_traceback = None\n--> 533         return super(ZMQInteractiveShell, self).run_cell(*args, **kwargs)\n        self.run_cell = <bound method ZMQInteractiveShell.run_cell of <ipykernel.zmqshell.ZMQInteractiveShell object>>\n        args = ('from sklearn.model_selection import StratifiedSh...], \\n           groups_data.iloc[train_index])    ',)\n        kwargs = {'silent': False, 'store_history': True}\n    534 \n    535     def _showtraceback(self, etype, evalue, stb):\n    536         # try to preserve ordering of tracebacks and print statements\n    537         sys.stdout.flush()\n\n...........................................................................\nC:\\ProgramData\\Anaconda3\\lib\\site-packages\\IPython\\core\\interactiveshell.py in run_cell(self=<ipykernel.zmqshell.ZMQInteractiveShell object>, raw_cell='from sklearn.model_selection import StratifiedSh...], \\n           groups_data.iloc[train_index])    ', store_history=True, silent=False, shell_futures=True)\n   2693                 self.displayhook.exec_result = result\n   2694 \n   2695                 # Execute the user code\n   2696                 interactivity = \"none\" if silent else self.ast_node_interactivity\n   2697                 has_raised = self.run_ast_nodes(code_ast.body, cell_name,\n-> 2698                    interactivity=interactivity, compiler=compiler, result=result)\n        interactivity = 'last_expr'\n        compiler = <IPython.core.compilerop.CachingCompiler object>\n   2699                 \n   2700                 self.last_execution_succeeded = not has_raised\n   2701 \n   2702                 # Reset this so later displayed values do not modify the\n\n...........................................................................\nC:\\ProgramData\\Anaconda3\\lib\\site-packages\\IPython\\core\\interactiveshell.py in run_ast_nodes(self=<ipykernel.zmqshell.ZMQInteractiveShell object>, nodelist=[<_ast.ImportFrom object>, <_ast.ImportFrom object>, <_ast.Assign object>, <_ast.For object>], cell_name='<ipython-input-99-a9240e2da1b6>', interactivity='none', compiler=<IPython.core.compilerop.CachingCompiler object>, result=<ExecutionResult object at 2080e2f7128, executio..._before_exec=None error_in_exec=None result=None>)\n   2797 \n   2798         try:\n   2799             for i, node in enumerate(to_run_exec):\n   2800                 mod = ast.Module([node])\n   2801                 code = compiler(mod, cell_name, \"exec\")\n-> 2802                 if self.run_code(code, result):\n        self.run_code = <bound method InteractiveShell.run_code of <ipykernel.zmqshell.ZMQInteractiveShell object>>\n        code = <code object <module> at 0x000002080E385C00, file \"<ipython-input-99-a9240e2da1b6>\", line 7>\n        result = <ExecutionResult object at 2080e2f7128, executio..._before_exec=None error_in_exec=None result=None>\n   2803                     return True\n   2804 \n   2805             for i, node in enumerate(to_run_interactive):\n   2806                 mod = ast.Interactive([node])\n\n...........................................................................\nC:\\ProgramData\\Anaconda3\\lib\\site-packages\\IPython\\core\\interactiveshell.py in run_code(self=<ipykernel.zmqshell.ZMQInteractiveShell object>, code_obj=<code object <module> at 0x000002080E385C00, file \"<ipython-input-99-a9240e2da1b6>\", line 7>, result=<ExecutionResult object at 2080e2f7128, executio..._before_exec=None error_in_exec=None result=None>)\n   2857         outflag = True  # happens in more places, so it's easier as default\n   2858         try:\n   2859             try:\n   2860                 self.hooks.pre_run_code_hook()\n   2861                 #rprint('Running code', repr(code_obj)) # dbg\n-> 2862                 exec(code_obj, self.user_global_ns, self.user_ns)\n        code_obj = <code object <module> at 0x000002080E385C00, file \"<ipython-input-99-a9240e2da1b6>\", line 7>\n        self.user_global_ns = {'BernoulliRBM': <class 'sklearn.neural_network.rbm.BernoulliRBM'>, 'GaussianNB': <class 'sklearn.naive_bayes.GaussianNB'>, 'GradientBoostingClassifier': <class 'sklearn.ensemble.gradient_boosting.GradientBoostingClassifier'>, 'GridSearchCV': <class 'sklearn.model_selection._search.GridSearchCV'>, 'GroupShuffleSplit': <class 'sklearn.model_selection._split.GroupShuffleSplit'>, 'In': ['', \"import time\\nimport glob\\nimport pandas as pd\\nimpo... as plt\\n\\nget_ipython().magic('matplotlib inline')\", 'from sklearn.ensemble import VotingClassifier\\nfr...\\nfrom sklearn.preprocessing import LabelBinarizer', 'shift = 4320', r\"prefix = 'C:\\\\Users\\\\rafae\\\\Desktop\\\\Coleta\\\\features\\\\features_hog_*.csv'\", 'files_list = glob.glob(prefix)\\nprint(len(files_list))', '# read features\\nframes = [pd.read_csv(f, header=0) for f in files_list ]\\nlen(frames)', 'ds = pd.concat(frames)', 'ds.shape', 'ds.head()', \"yData = ds['0']\", 'xData = pd.concat([ds.iloc[:,2+shift:2+shift+shift]])', 'yData.iloc[20]', 'print(yData.shape, xData.shape, type(yData), type(xData))', \"from sklearn.metrics import confusion_matrix\\n\\nde...l('True label')\\n    plt.xlabel('Predicted label')\", 'from sklearn.metrics import confusion_matrix\\nfro...ame))\\n\\n    plt.show()\\n    # plot confusion matrix', 'from sklearn.metrics import make_scorer,precisio...lot_confusion(yTrue, yPred, name)\\n        print()', 'le = preprocessing.LabelEncoder()\\nle.fit(yData)\\nprint(le.classes_)\\nyDataBin = le.transform(yData)', 'xData.head()', 'from sklearn.model_selection import StratifiedSh...t_index], \\n           ds.iloc[train_index,1])    ', ...], 'KNeighborsClassifier': <class 'sklearn.neighbors.classification.KNeighborsClassifier'>, 'LabelBinarizer': <class 'sklearn.preprocessing.label.LabelBinarizer'>, 'LinearSVC': <class 'sklearn.svm.classes.LinearSVC'>, 'Out': {6: 513, 8: (7680, 17282), 9:    0     1   2   3   4   5   6   7   8   9    ......028560  \n4  0.023819  \n\n[5 rows x 17282 columns], 12: 10, 18:        4322      4323      4324      4325      4...62  0.027024  0.074032  \n\n[5 rows x 4320 columns], 22:    0     1   2   3   4   5   6   7   8   9    ......028560  \n4  0.023819  \n\n[5 rows x 17282 columns], 25: 10, 29: 10, 48:        4322      4323      4324      4325      4...62  0.027024  0.074032  \n\n[5 rows x 4320 columns], 51:    10000  10001  10002  10003  10004  10005  100... NaN   NaN   NaN   NaN  \n\n[5 rows x 8640 columns], ...}, ...}\n        self.user_ns = {'BernoulliRBM': <class 'sklearn.neural_network.rbm.BernoulliRBM'>, 'GaussianNB': <class 'sklearn.naive_bayes.GaussianNB'>, 'GradientBoostingClassifier': <class 'sklearn.ensemble.gradient_boosting.GradientBoostingClassifier'>, 'GridSearchCV': <class 'sklearn.model_selection._search.GridSearchCV'>, 'GroupShuffleSplit': <class 'sklearn.model_selection._split.GroupShuffleSplit'>, 'In': ['', \"import time\\nimport glob\\nimport pandas as pd\\nimpo... as plt\\n\\nget_ipython().magic('matplotlib inline')\", 'from sklearn.ensemble import VotingClassifier\\nfr...\\nfrom sklearn.preprocessing import LabelBinarizer', 'shift = 4320', r\"prefix = 'C:\\\\Users\\\\rafae\\\\Desktop\\\\Coleta\\\\features\\\\features_hog_*.csv'\", 'files_list = glob.glob(prefix)\\nprint(len(files_list))', '# read features\\nframes = [pd.read_csv(f, header=0) for f in files_list ]\\nlen(frames)', 'ds = pd.concat(frames)', 'ds.shape', 'ds.head()', \"yData = ds['0']\", 'xData = pd.concat([ds.iloc[:,2+shift:2+shift+shift]])', 'yData.iloc[20]', 'print(yData.shape, xData.shape, type(yData), type(xData))', \"from sklearn.metrics import confusion_matrix\\n\\nde...l('True label')\\n    plt.xlabel('Predicted label')\", 'from sklearn.metrics import confusion_matrix\\nfro...ame))\\n\\n    plt.show()\\n    # plot confusion matrix', 'from sklearn.metrics import make_scorer,precisio...lot_confusion(yTrue, yPred, name)\\n        print()', 'le = preprocessing.LabelEncoder()\\nle.fit(yData)\\nprint(le.classes_)\\nyDataBin = le.transform(yData)', 'xData.head()', 'from sklearn.model_selection import StratifiedSh...t_index], \\n           ds.iloc[train_index,1])    ', ...], 'KNeighborsClassifier': <class 'sklearn.neighbors.classification.KNeighborsClassifier'>, 'LabelBinarizer': <class 'sklearn.preprocessing.label.LabelBinarizer'>, 'LinearSVC': <class 'sklearn.svm.classes.LinearSVC'>, 'Out': {6: 513, 8: (7680, 17282), 9:    0     1   2   3   4   5   6   7   8   9    ......028560  \n4  0.023819  \n\n[5 rows x 17282 columns], 12: 10, 18:        4322      4323      4324      4325      4...62  0.027024  0.074032  \n\n[5 rows x 4320 columns], 22:    0     1   2   3   4   5   6   7   8   9    ......028560  \n4  0.023819  \n\n[5 rows x 17282 columns], 25: 10, 29: 10, 48:        4322      4323      4324      4325      4...62  0.027024  0.074032  \n\n[5 rows x 4320 columns], 51:    10000  10001  10002  10003  10004  10005  100... NaN   NaN   NaN   NaN  \n\n[5 rows x 8640 columns], ...}, ...}\n   2863             finally:\n   2864                 # Reset our crash handler in place\n   2865                 sys.excepthook = old_excepthook\n   2866         except SystemExit as e:\n\n...........................................................................\nC:\\Users\\rafae\\Desktop\\Coleta\\<ipython-input-99-a9240e2da1b6> in <module>()\n     16     print()\n     17     print()\n     18     \n     19     search(xData.iloc[train_index,:], xData.iloc[test_index,:], \n     20            yDataBin[train_index], yDataBin[test_index], \n---> 21            groups_data.iloc[train_index])    \n\n...........................................................................\nC:\\Users\\rafae\\Desktop\\Coleta\\<ipython-input-85-20ace3603410> in search(X_train=array([[ 0.51,  0.53,  1.36, ..., -0.5 , -0.5 , ...[-0.42, -0.3 , -0.51, ...,  1.5 ,  0.37, -0.42]]), X_test=array([[-0.78,  0.08,  0.03, ...,  0.16, -0.26, ...[ 0.44, -0.4 ,  0.16, ..., -0.52, -0.41, -0.38]]), y_train=array([0, 0, 0, ..., 8, 8, 8], dtype=int64), y_test=array([0, 0, 0, ..., 8, 8, 8], dtype=int64), group_data_train=0     p002\n1     p002\n2     p002\n3     p002\n4   ...\n14    p033\nName: 1, Length: 12006, dtype: object)\n     48     \n     49     for name, classifier, params in classifiers:\n     50         print(name)\n     51         clf = GridSearchCV(classifier, params, cv=5, n_jobs=4, scoring=['f1_weighted','accuracy','precision_weighted', 'recall_weighted'], refit='f1_weighted' , verbose = 10)\n     52 \n---> 53         clf.fit(X_train, y_train, groups=group_data_train)\n     54 \n     55         print(\"Best parameters set found on development set:\")\n     56         print()\n     57         print(clf.best_params_)\n\n...........................................................................\nC:\\ProgramData\\Anaconda3\\lib\\site-packages\\sklearn\\model_selection\\_search.py in fit(self=GridSearchCV(cv=5, error_score='raise',\n       e...weighted', 'recall_weighted'],\n       verbose=10), X=array([[ 0.51,  0.53,  1.36, ..., -0.5 , -0.5 , ...[-0.42, -0.3 , -0.51, ...,  1.5 ,  0.37, -0.42]]), y=array([0, 0, 0, ..., 8, 8, 8], dtype=int64), groups=0     p002\n1     p002\n2     p002\n3     p002\n4   ...\n14    p033\nName: 1, Length: 12006, dtype: object, **fit_params={})\n    633                                   return_train_score=self.return_train_score,\n    634                                   return_n_test_samples=True,\n    635                                   return_times=True, return_parameters=False,\n    636                                   error_score=self.error_score)\n    637           for parameters, (train, test) in product(candidate_params,\n--> 638                                                    cv.split(X, y, groups)))\n        cv.split = <bound method StratifiedKFold.split of Stratifie...ld(n_splits=5, random_state=None, shuffle=False)>\n        X = array([[ 0.51,  0.53,  1.36, ..., -0.5 , -0.5 , ...[-0.42, -0.3 , -0.51, ...,  1.5 ,  0.37, -0.42]])\n        y = array([0, 0, 0, ..., 8, 8, 8], dtype=int64)\n        groups = 0     p002\n1     p002\n2     p002\n3     p002\n4   ...\n14    p033\nName: 1, Length: 12006, dtype: object\n    639 \n    640         # if one choose to see train score, \"out\" will contain train score info\n    641         if self.return_train_score:\n    642             (train_score_dicts, test_score_dicts, test_sample_counts, fit_time,\n\n...........................................................................\nC:\\ProgramData\\Anaconda3\\lib\\site-packages\\sklearn\\externals\\joblib\\parallel.py in __call__(self=Parallel(n_jobs=4), iterable=<generator object BaseSearchCV.fit.<locals>.<genexpr>>)\n    784             if pre_dispatch == \"all\" or n_jobs == 1:\n    785                 # The iterable was consumed all at once by the above for loop.\n    786                 # No need to wait for async callbacks to trigger to\n    787                 # consumption.\n    788                 self._iterating = False\n--> 789             self.retrieve()\n        self.retrieve = <bound method Parallel.retrieve of Parallel(n_jobs=4)>\n    790             # Make sure that we get a last message telling us we are done\n    791             elapsed_time = time.time() - self._start_time\n    792             self._print('Done %3i out of %3i | elapsed: %s finished',\n    793                         (len(self._output), len(self._output),\n\n---------------------------------------------------------------------------\nSub-process traceback:\n---------------------------------------------------------------------------\nMemoryError                                        Mon Oct 23 03:07:43 2017\nPID: 15112                Python 3.6.2: C:\\ProgramData\\Anaconda3\\python.exe\n...........................................................................\nC:\\ProgramData\\Anaconda3\\lib\\site-packages\\sklearn\\externals\\joblib\\parallel.py in __call__(self=<sklearn.externals.joblib.parallel.BatchedCalls object>)\n    126     def __init__(self, iterator_slice):\n    127         self.items = list(iterator_slice)\n    128         self._size = len(self.items)\n    129 \n    130     def __call__(self):\n--> 131         return [func(*args, **kwargs) for func, args, kwargs in self.items]\n        self.items = [(<function _fit_and_score>, (SVC(C=15, cache_size=200, class_weight='balanced...None, shrinking=True,\n  tol=0.001, verbose=False), memmap([[ 0.51352638,  0.52863496,  1.35661953, ... 1.50229067,\n          0.37064047, -0.4228391 ]]), array([0, 0, 0, ..., 8, 8, 8], dtype=int64), {'accuracy': make_scorer(accuracy_score), 'f1_weighted': make_scorer(f1_score, pos_label=None, average=weighted), 'precision_weighted': make_scorer(precision_score, pos_label=None, average=weighted), 'recall_weighted': make_scorer(recall_score, pos_label=None, average=weighted)}, array([ 2295,  2296,  2297, ..., 12003, 12004, 12005]), array([   0,    1,    2, ..., 2670, 2671, 2672]), 10, {'C': 15, 'class_weight': 'balanced', 'gamma': 0.0001, 'kernel': 'rbf'}), {'error_score': 'raise', 'fit_params': {}, 'return_n_test_samples': True, 'return_parameters': False, 'return_times': True, 'return_train_score': True})]\n    132 \n    133     def __len__(self):\n    134         return self._size\n    135 \n\n...........................................................................\nC:\\ProgramData\\Anaconda3\\lib\\site-packages\\sklearn\\externals\\joblib\\parallel.py in <listcomp>(.0=<list_iterator object>)\n    126     def __init__(self, iterator_slice):\n    127         self.items = list(iterator_slice)\n    128         self._size = len(self.items)\n    129 \n    130     def __call__(self):\n--> 131         return [func(*args, **kwargs) for func, args, kwargs in self.items]\n        func = <function _fit_and_score>\n        args = (SVC(C=15, cache_size=200, class_weight='balanced...None, shrinking=True,\n  tol=0.001, verbose=False), memmap([[ 0.51352638,  0.52863496,  1.35661953, ... 1.50229067,\n          0.37064047, -0.4228391 ]]), array([0, 0, 0, ..., 8, 8, 8], dtype=int64), {'accuracy': make_scorer(accuracy_score), 'f1_weighted': make_scorer(f1_score, pos_label=None, average=weighted), 'precision_weighted': make_scorer(precision_score, pos_label=None, average=weighted), 'recall_weighted': make_scorer(recall_score, pos_label=None, average=weighted)}, array([ 2295,  2296,  2297, ..., 12003, 12004, 12005]), array([   0,    1,    2, ..., 2670, 2671, 2672]), 10, {'C': 15, 'class_weight': 'balanced', 'gamma': 0.0001, 'kernel': 'rbf'})\n        kwargs = {'error_score': 'raise', 'fit_params': {}, 'return_n_test_samples': True, 'return_parameters': False, 'return_times': True, 'return_train_score': True}\n    132 \n    133     def __len__(self):\n    134         return self._size\n    135 \n\n...........................................................................\nC:\\ProgramData\\Anaconda3\\lib\\site-packages\\sklearn\\model_selection\\_validation.py in _fit_and_score(estimator=SVC(C=15, cache_size=200, class_weight='balanced...None, shrinking=True,\n  tol=0.001, verbose=False), X=memmap([[ 0.51352638,  0.52863496,  1.35661953, ... 1.50229067,\n          0.37064047, -0.4228391 ]]), y=array([0, 0, 0, ..., 8, 8, 8], dtype=int64), scorer={'accuracy': make_scorer(accuracy_score), 'f1_weighted': make_scorer(f1_score, pos_label=None, average=weighted), 'precision_weighted': make_scorer(precision_score, pos_label=None, average=weighted), 'recall_weighted': make_scorer(recall_score, pos_label=None, average=weighted)}, train=array([ 2295,  2296,  2297, ..., 12003, 12004, 12005]), test=array([   0,    1,    2, ..., 2670, 2671, 2672]), verbose=10, parameters={'C': 15, 'class_weight': 'balanced', 'gamma': 0.0001, 'kernel': 'rbf'}, fit_params={}, return_train_score=True, return_parameters=False, return_n_test_samples=True, return_times=True, error_score='raise')\n    432 \n    433     try:\n    434         if y_train is None:\n    435             estimator.fit(X_train, **fit_params)\n    436         else:\n--> 437             estimator.fit(X_train, y_train, **fit_params)\n        estimator.fit = <bound method BaseLibSVM.fit of SVC(C=15, cache_...one, shrinking=True,\n  tol=0.001, verbose=False)>\n        X_train = memmap([[ 0.59383984,  1.28164362,  1.12153743, ... 1.50229067,\n          0.37064047, -0.4228391 ]])\n        y_train = array([0, 0, 0, ..., 8, 8, 8], dtype=int64)\n        fit_params = {}\n    438 \n    439     except Exception as e:\n    440         # Note fit time as time until error\n    441         fit_time = time.time() - start_time\n\n...........................................................................\nC:\\ProgramData\\Anaconda3\\lib\\site-packages\\sklearn\\svm\\base.py in fit(self=SVC(C=15, cache_size=200, class_weight='balanced...None, shrinking=True,\n  tol=0.001, verbose=False), X=array([[ 0.59383984,  1.28164362,  1.12153743, ....  1.50229067,\n         0.37064047, -0.4228391 ]]), y=array([ 0.,  0.,  0., ...,  8.,  8.,  8.]), sample_weight=array([], dtype=float64))\n    182         fit = self._sparse_fit if self._sparse else self._dense_fit\n    183         if self.verbose:  # pragma: no cover\n    184             print('[LibSVM]', end='')\n    185 \n    186         seed = rnd.randint(np.iinfo('i').max)\n--> 187         fit(X, y, sample_weight, solver_type, kernel, random_seed=seed)\n        fit = <bound method BaseLibSVM._dense_fit of SVC(C=15,...one, shrinking=True,\n  tol=0.001, verbose=False)>\n        X = array([[ 0.59383984,  1.28164362,  1.12153743, ....  1.50229067,\n         0.37064047, -0.4228391 ]])\n        y = array([ 0.,  0.,  0., ...,  8.,  8.,  8.])\n        sample_weight = array([], dtype=float64)\n        solver_type = 0\n        kernel = 'rbf'\n        seed = 59518860\n    188         # see comment on the other call to np.iinfo in this file\n    189 \n    190         self.shape_fit_ = X.shape\n    191 \n\n...........................................................................\nC:\\ProgramData\\Anaconda3\\lib\\site-packages\\sklearn\\svm\\base.py in _dense_fit(self=SVC(C=15, cache_size=200, class_weight='balanced...None, shrinking=True,\n  tol=0.001, verbose=False), X=array([[ 0.59383984,  1.28164362,  1.12153743, ....  1.50229067,\n         0.37064047, -0.4228391 ]]), y=array([ 0.,  0.,  0., ...,  8.,  8.,  8.]), sample_weight=array([], dtype=float64), solver_type=0, kernel='rbf', random_seed=59518860)\n    249                 class_weight=self.class_weight_, kernel=kernel, C=self.C,\n    250                 nu=self.nu, probability=self.probability, degree=self.degree,\n    251                 shrinking=self.shrinking, tol=self.tol,\n    252                 cache_size=self.cache_size, coef0=self.coef0,\n    253                 gamma=self._gamma, epsilon=self.epsilon,\n--> 254                 max_iter=self.max_iter, random_seed=random_seed)\n        self.max_iter = -1\n        random_seed = 59518860\n    255 \n    256         self._warn_from_fit_status()\n    257 \n    258     def _sparse_fit(self, X, y, sample_weight, solver_type, kernel,\n\n...........................................................................\nC:\\ProgramData\\Anaconda3\\lib\\site-packages\\sklearn\\svm\\libsvm.cp36-win_amd64.pyd in sklearn.svm.libsvm.fit()\n\nMemoryError: \n___________________________________________________________________________",
     "output_type": "error",
     "traceback": [
      "\u001b[1;31m---------------------------------------------------------------------------\u001b[0m",
      "\u001b[1;31mRemoteTraceback\u001b[0m                           Traceback (most recent call last)",
      "\u001b[1;31mRemoteTraceback\u001b[0m: \n\"\"\"\nTraceback (most recent call last):\n  File \"C:\\ProgramData\\Anaconda3\\lib\\site-packages\\sklearn\\externals\\joblib\\_parallel_backends.py\", line 350, in __call__\n    return self.func(*args, **kwargs)\n  File \"C:\\ProgramData\\Anaconda3\\lib\\site-packages\\sklearn\\externals\\joblib\\parallel.py\", line 131, in __call__\n    return [func(*args, **kwargs) for func, args, kwargs in self.items]\n  File \"C:\\ProgramData\\Anaconda3\\lib\\site-packages\\sklearn\\externals\\joblib\\parallel.py\", line 131, in <listcomp>\n    return [func(*args, **kwargs) for func, args, kwargs in self.items]\n  File \"C:\\ProgramData\\Anaconda3\\lib\\site-packages\\sklearn\\model_selection\\_validation.py\", line 437, in _fit_and_score\n    estimator.fit(X_train, y_train, **fit_params)\n  File \"C:\\ProgramData\\Anaconda3\\lib\\site-packages\\sklearn\\svm\\base.py\", line 187, in fit\n    fit(X, y, sample_weight, solver_type, kernel, random_seed=seed)\n  File \"C:\\ProgramData\\Anaconda3\\lib\\site-packages\\sklearn\\svm\\base.py\", line 254, in _dense_fit\n    max_iter=self.max_iter, random_seed=random_seed)\n  File \"sklearn\\svm\\libsvm.pyx\", line 218, in sklearn.svm.libsvm.fit\nMemoryError\n\nDuring handling of the above exception, another exception occurred:\n\nTraceback (most recent call last):\n  File \"C:\\ProgramData\\Anaconda3\\lib\\multiprocessing\\pool.py\", line 119, in worker\n    result = (True, func(*args, **kwds))\n  File \"C:\\ProgramData\\Anaconda3\\lib\\site-packages\\sklearn\\externals\\joblib\\_parallel_backends.py\", line 359, in __call__\n    raise TransportableException(text, e_type)\nsklearn.externals.joblib.my_exceptions.TransportableException: TransportableException\n___________________________________________________________________________\nMemoryError                                        Mon Oct 23 03:07:43 2017\nPID: 15112                Python 3.6.2: C:\\ProgramData\\Anaconda3\\python.exe\n...........................................................................\nC:\\ProgramData\\Anaconda3\\lib\\site-packages\\sklearn\\externals\\joblib\\parallel.py in __call__(self=<sklearn.externals.joblib.parallel.BatchedCalls object>)\n    126     def __init__(self, iterator_slice):\n    127         self.items = list(iterator_slice)\n    128         self._size = len(self.items)\n    129 \n    130     def __call__(self):\n--> 131         return [func(*args, **kwargs) for func, args, kwargs in self.items]\n        self.items = [(<function _fit_and_score>, (SVC(C=15, cache_size=200, class_weight='balanced...None, shrinking=True,\n  tol=0.001, verbose=False), memmap([[ 0.51352638,  0.52863496,  1.35661953, ... 1.50229067,\n          0.37064047, -0.4228391 ]]), array([0, 0, 0, ..., 8, 8, 8], dtype=int64), {'accuracy': make_scorer(accuracy_score), 'f1_weighted': make_scorer(f1_score, pos_label=None, average=weighted), 'precision_weighted': make_scorer(precision_score, pos_label=None, average=weighted), 'recall_weighted': make_scorer(recall_score, pos_label=None, average=weighted)}, array([ 2295,  2296,  2297, ..., 12003, 12004, 12005]), array([   0,    1,    2, ..., 2670, 2671, 2672]), 10, {'C': 15, 'class_weight': 'balanced', 'gamma': 0.0001, 'kernel': 'rbf'}), {'error_score': 'raise', 'fit_params': {}, 'return_n_test_samples': True, 'return_parameters': False, 'return_times': True, 'return_train_score': True})]\n    132 \n    133     def __len__(self):\n    134         return self._size\n    135 \n\n...........................................................................\nC:\\ProgramData\\Anaconda3\\lib\\site-packages\\sklearn\\externals\\joblib\\parallel.py in <listcomp>(.0=<list_iterator object>)\n    126     def __init__(self, iterator_slice):\n    127         self.items = list(iterator_slice)\n    128         self._size = len(self.items)\n    129 \n    130     def __call__(self):\n--> 131         return [func(*args, **kwargs) for func, args, kwargs in self.items]\n        func = <function _fit_and_score>\n        args = (SVC(C=15, cache_size=200, class_weight='balanced...None, shrinking=True,\n  tol=0.001, verbose=False), memmap([[ 0.51352638,  0.52863496,  1.35661953, ... 1.50229067,\n          0.37064047, -0.4228391 ]]), array([0, 0, 0, ..., 8, 8, 8], dtype=int64), {'accuracy': make_scorer(accuracy_score), 'f1_weighted': make_scorer(f1_score, pos_label=None, average=weighted), 'precision_weighted': make_scorer(precision_score, pos_label=None, average=weighted), 'recall_weighted': make_scorer(recall_score, pos_label=None, average=weighted)}, array([ 2295,  2296,  2297, ..., 12003, 12004, 12005]), array([   0,    1,    2, ..., 2670, 2671, 2672]), 10, {'C': 15, 'class_weight': 'balanced', 'gamma': 0.0001, 'kernel': 'rbf'})\n        kwargs = {'error_score': 'raise', 'fit_params': {}, 'return_n_test_samples': True, 'return_parameters': False, 'return_times': True, 'return_train_score': True}\n    132 \n    133     def __len__(self):\n    134         return self._size\n    135 \n\n...........................................................................\nC:\\ProgramData\\Anaconda3\\lib\\site-packages\\sklearn\\model_selection\\_validation.py in _fit_and_score(estimator=SVC(C=15, cache_size=200, class_weight='balanced...None, shrinking=True,\n  tol=0.001, verbose=False), X=memmap([[ 0.51352638,  0.52863496,  1.35661953, ... 1.50229067,\n          0.37064047, -0.4228391 ]]), y=array([0, 0, 0, ..., 8, 8, 8], dtype=int64), scorer={'accuracy': make_scorer(accuracy_score), 'f1_weighted': make_scorer(f1_score, pos_label=None, average=weighted), 'precision_weighted': make_scorer(precision_score, pos_label=None, average=weighted), 'recall_weighted': make_scorer(recall_score, pos_label=None, average=weighted)}, train=array([ 2295,  2296,  2297, ..., 12003, 12004, 12005]), test=array([   0,    1,    2, ..., 2670, 2671, 2672]), verbose=10, parameters={'C': 15, 'class_weight': 'balanced', 'gamma': 0.0001, 'kernel': 'rbf'}, fit_params={}, return_train_score=True, return_parameters=False, return_n_test_samples=True, return_times=True, error_score='raise')\n    432 \n    433     try:\n    434         if y_train is None:\n    435             estimator.fit(X_train, **fit_params)\n    436         else:\n--> 437             estimator.fit(X_train, y_train, **fit_params)\n        estimator.fit = <bound method BaseLibSVM.fit of SVC(C=15, cache_...one, shrinking=True,\n  tol=0.001, verbose=False)>\n        X_train = memmap([[ 0.59383984,  1.28164362,  1.12153743, ... 1.50229067,\n          0.37064047, -0.4228391 ]])\n        y_train = array([0, 0, 0, ..., 8, 8, 8], dtype=int64)\n        fit_params = {}\n    438 \n    439     except Exception as e:\n    440         # Note fit time as time until error\n    441         fit_time = time.time() - start_time\n\n...........................................................................\nC:\\ProgramData\\Anaconda3\\lib\\site-packages\\sklearn\\svm\\base.py in fit(self=SVC(C=15, cache_size=200, class_weight='balanced...None, shrinking=True,\n  tol=0.001, verbose=False), X=array([[ 0.59383984,  1.28164362,  1.12153743, ....  1.50229067,\n         0.37064047, -0.4228391 ]]), y=array([ 0.,  0.,  0., ...,  8.,  8.,  8.]), sample_weight=array([], dtype=float64))\n    182         fit = self._sparse_fit if self._sparse else self._dense_fit\n    183         if self.verbose:  # pragma: no cover\n    184             print('[LibSVM]', end='')\n    185 \n    186         seed = rnd.randint(np.iinfo('i').max)\n--> 187         fit(X, y, sample_weight, solver_type, kernel, random_seed=seed)\n        fit = <bound method BaseLibSVM._dense_fit of SVC(C=15,...one, shrinking=True,\n  tol=0.001, verbose=False)>\n        X = array([[ 0.59383984,  1.28164362,  1.12153743, ....  1.50229067,\n         0.37064047, -0.4228391 ]])\n        y = array([ 0.,  0.,  0., ...,  8.,  8.,  8.])\n        sample_weight = array([], dtype=float64)\n        solver_type = 0\n        kernel = 'rbf'\n        seed = 59518860\n    188         # see comment on the other call to np.iinfo in this file\n    189 \n    190         self.shape_fit_ = X.shape\n    191 \n\n...........................................................................\nC:\\ProgramData\\Anaconda3\\lib\\site-packages\\sklearn\\svm\\base.py in _dense_fit(self=SVC(C=15, cache_size=200, class_weight='balanced...None, shrinking=True,\n  tol=0.001, verbose=False), X=array([[ 0.59383984,  1.28164362,  1.12153743, ....  1.50229067,\n         0.37064047, -0.4228391 ]]), y=array([ 0.,  0.,  0., ...,  8.,  8.,  8.]), sample_weight=array([], dtype=float64), solver_type=0, kernel='rbf', random_seed=59518860)\n    249                 class_weight=self.class_weight_, kernel=kernel, C=self.C,\n    250                 nu=self.nu, probability=self.probability, degree=self.degree,\n    251                 shrinking=self.shrinking, tol=self.tol,\n    252                 cache_size=self.cache_size, coef0=self.coef0,\n    253                 gamma=self._gamma, epsilon=self.epsilon,\n--> 254                 max_iter=self.max_iter, random_seed=random_seed)\n        self.max_iter = -1\n        random_seed = 59518860\n    255 \n    256         self._warn_from_fit_status()\n    257 \n    258     def _sparse_fit(self, X, y, sample_weight, solver_type, kernel,\n\n...........................................................................\nC:\\ProgramData\\Anaconda3\\lib\\site-packages\\sklearn\\svm\\libsvm.cp36-win_amd64.pyd in sklearn.svm.libsvm.fit()\n\nMemoryError: \n___________________________________________________________________________\n\"\"\"",
      "\nThe above exception was the direct cause of the following exception:\n",
      "\u001b[1;31mTransportableException\u001b[0m                    Traceback (most recent call last)",
      "\u001b[1;32mC:\\ProgramData\\Anaconda3\\lib\\site-packages\\sklearn\\externals\\joblib\\parallel.py\u001b[0m in \u001b[0;36mretrieve\u001b[1;34m(self)\u001b[0m\n\u001b[0;32m    698\u001b[0m                 \u001b[1;32mif\u001b[0m \u001b[0mgetattr\u001b[0m\u001b[1;33m(\u001b[0m\u001b[0mself\u001b[0m\u001b[1;33m.\u001b[0m\u001b[0m_backend\u001b[0m\u001b[1;33m,\u001b[0m \u001b[1;34m'supports_timeout'\u001b[0m\u001b[1;33m,\u001b[0m \u001b[1;32mFalse\u001b[0m\u001b[1;33m)\u001b[0m\u001b[1;33m:\u001b[0m\u001b[1;33m\u001b[0m\u001b[0m\n\u001b[1;32m--> 699\u001b[1;33m                     \u001b[0mself\u001b[0m\u001b[1;33m.\u001b[0m\u001b[0m_output\u001b[0m\u001b[1;33m.\u001b[0m\u001b[0mextend\u001b[0m\u001b[1;33m(\u001b[0m\u001b[0mjob\u001b[0m\u001b[1;33m.\u001b[0m\u001b[0mget\u001b[0m\u001b[1;33m(\u001b[0m\u001b[0mtimeout\u001b[0m\u001b[1;33m=\u001b[0m\u001b[0mself\u001b[0m\u001b[1;33m.\u001b[0m\u001b[0mtimeout\u001b[0m\u001b[1;33m)\u001b[0m\u001b[1;33m)\u001b[0m\u001b[1;33m\u001b[0m\u001b[0m\n\u001b[0m\u001b[0;32m    700\u001b[0m                 \u001b[1;32melse\u001b[0m\u001b[1;33m:\u001b[0m\u001b[1;33m\u001b[0m\u001b[0m\n",
      "\u001b[1;32mC:\\ProgramData\\Anaconda3\\lib\\multiprocessing\\pool.py\u001b[0m in \u001b[0;36mget\u001b[1;34m(self, timeout)\u001b[0m\n\u001b[0;32m    643\u001b[0m         \u001b[1;32melse\u001b[0m\u001b[1;33m:\u001b[0m\u001b[1;33m\u001b[0m\u001b[0m\n\u001b[1;32m--> 644\u001b[1;33m             \u001b[1;32mraise\u001b[0m \u001b[0mself\u001b[0m\u001b[1;33m.\u001b[0m\u001b[0m_value\u001b[0m\u001b[1;33m\u001b[0m\u001b[0m\n\u001b[0m\u001b[0;32m    645\u001b[0m \u001b[1;33m\u001b[0m\u001b[0m\n",
      "\u001b[1;31mTransportableException\u001b[0m: TransportableException\n___________________________________________________________________________\nMemoryError                                        Mon Oct 23 03:07:43 2017\nPID: 15112                Python 3.6.2: C:\\ProgramData\\Anaconda3\\python.exe\n...........................................................................\nC:\\ProgramData\\Anaconda3\\lib\\site-packages\\sklearn\\externals\\joblib\\parallel.py in __call__(self=<sklearn.externals.joblib.parallel.BatchedCalls object>)\n    126     def __init__(self, iterator_slice):\n    127         self.items = list(iterator_slice)\n    128         self._size = len(self.items)\n    129 \n    130     def __call__(self):\n--> 131         return [func(*args, **kwargs) for func, args, kwargs in self.items]\n        self.items = [(<function _fit_and_score>, (SVC(C=15, cache_size=200, class_weight='balanced...None, shrinking=True,\n  tol=0.001, verbose=False), memmap([[ 0.51352638,  0.52863496,  1.35661953, ... 1.50229067,\n          0.37064047, -0.4228391 ]]), array([0, 0, 0, ..., 8, 8, 8], dtype=int64), {'accuracy': make_scorer(accuracy_score), 'f1_weighted': make_scorer(f1_score, pos_label=None, average=weighted), 'precision_weighted': make_scorer(precision_score, pos_label=None, average=weighted), 'recall_weighted': make_scorer(recall_score, pos_label=None, average=weighted)}, array([ 2295,  2296,  2297, ..., 12003, 12004, 12005]), array([   0,    1,    2, ..., 2670, 2671, 2672]), 10, {'C': 15, 'class_weight': 'balanced', 'gamma': 0.0001, 'kernel': 'rbf'}), {'error_score': 'raise', 'fit_params': {}, 'return_n_test_samples': True, 'return_parameters': False, 'return_times': True, 'return_train_score': True})]\n    132 \n    133     def __len__(self):\n    134         return self._size\n    135 \n\n...........................................................................\nC:\\ProgramData\\Anaconda3\\lib\\site-packages\\sklearn\\externals\\joblib\\parallel.py in <listcomp>(.0=<list_iterator object>)\n    126     def __init__(self, iterator_slice):\n    127         self.items = list(iterator_slice)\n    128         self._size = len(self.items)\n    129 \n    130     def __call__(self):\n--> 131         return [func(*args, **kwargs) for func, args, kwargs in self.items]\n        func = <function _fit_and_score>\n        args = (SVC(C=15, cache_size=200, class_weight='balanced...None, shrinking=True,\n  tol=0.001, verbose=False), memmap([[ 0.51352638,  0.52863496,  1.35661953, ... 1.50229067,\n          0.37064047, -0.4228391 ]]), array([0, 0, 0, ..., 8, 8, 8], dtype=int64), {'accuracy': make_scorer(accuracy_score), 'f1_weighted': make_scorer(f1_score, pos_label=None, average=weighted), 'precision_weighted': make_scorer(precision_score, pos_label=None, average=weighted), 'recall_weighted': make_scorer(recall_score, pos_label=None, average=weighted)}, array([ 2295,  2296,  2297, ..., 12003, 12004, 12005]), array([   0,    1,    2, ..., 2670, 2671, 2672]), 10, {'C': 15, 'class_weight': 'balanced', 'gamma': 0.0001, 'kernel': 'rbf'})\n        kwargs = {'error_score': 'raise', 'fit_params': {}, 'return_n_test_samples': True, 'return_parameters': False, 'return_times': True, 'return_train_score': True}\n    132 \n    133     def __len__(self):\n    134         return self._size\n    135 \n\n...........................................................................\nC:\\ProgramData\\Anaconda3\\lib\\site-packages\\sklearn\\model_selection\\_validation.py in _fit_and_score(estimator=SVC(C=15, cache_size=200, class_weight='balanced...None, shrinking=True,\n  tol=0.001, verbose=False), X=memmap([[ 0.51352638,  0.52863496,  1.35661953, ... 1.50229067,\n          0.37064047, -0.4228391 ]]), y=array([0, 0, 0, ..., 8, 8, 8], dtype=int64), scorer={'accuracy': make_scorer(accuracy_score), 'f1_weighted': make_scorer(f1_score, pos_label=None, average=weighted), 'precision_weighted': make_scorer(precision_score, pos_label=None, average=weighted), 'recall_weighted': make_scorer(recall_score, pos_label=None, average=weighted)}, train=array([ 2295,  2296,  2297, ..., 12003, 12004, 12005]), test=array([   0,    1,    2, ..., 2670, 2671, 2672]), verbose=10, parameters={'C': 15, 'class_weight': 'balanced', 'gamma': 0.0001, 'kernel': 'rbf'}, fit_params={}, return_train_score=True, return_parameters=False, return_n_test_samples=True, return_times=True, error_score='raise')\n    432 \n    433     try:\n    434         if y_train is None:\n    435             estimator.fit(X_train, **fit_params)\n    436         else:\n--> 437             estimator.fit(X_train, y_train, **fit_params)\n        estimator.fit = <bound method BaseLibSVM.fit of SVC(C=15, cache_...one, shrinking=True,\n  tol=0.001, verbose=False)>\n        X_train = memmap([[ 0.59383984,  1.28164362,  1.12153743, ... 1.50229067,\n          0.37064047, -0.4228391 ]])\n        y_train = array([0, 0, 0, ..., 8, 8, 8], dtype=int64)\n        fit_params = {}\n    438 \n    439     except Exception as e:\n    440         # Note fit time as time until error\n    441         fit_time = time.time() - start_time\n\n...........................................................................\nC:\\ProgramData\\Anaconda3\\lib\\site-packages\\sklearn\\svm\\base.py in fit(self=SVC(C=15, cache_size=200, class_weight='balanced...None, shrinking=True,\n  tol=0.001, verbose=False), X=array([[ 0.59383984,  1.28164362,  1.12153743, ....  1.50229067,\n         0.37064047, -0.4228391 ]]), y=array([ 0.,  0.,  0., ...,  8.,  8.,  8.]), sample_weight=array([], dtype=float64))\n    182         fit = self._sparse_fit if self._sparse else self._dense_fit\n    183         if self.verbose:  # pragma: no cover\n    184             print('[LibSVM]', end='')\n    185 \n    186         seed = rnd.randint(np.iinfo('i').max)\n--> 187         fit(X, y, sample_weight, solver_type, kernel, random_seed=seed)\n        fit = <bound method BaseLibSVM._dense_fit of SVC(C=15,...one, shrinking=True,\n  tol=0.001, verbose=False)>\n        X = array([[ 0.59383984,  1.28164362,  1.12153743, ....  1.50229067,\n         0.37064047, -0.4228391 ]])\n        y = array([ 0.,  0.,  0., ...,  8.,  8.,  8.])\n        sample_weight = array([], dtype=float64)\n        solver_type = 0\n        kernel = 'rbf'\n        seed = 59518860\n    188         # see comment on the other call to np.iinfo in this file\n    189 \n    190         self.shape_fit_ = X.shape\n    191 \n\n...........................................................................\nC:\\ProgramData\\Anaconda3\\lib\\site-packages\\sklearn\\svm\\base.py in _dense_fit(self=SVC(C=15, cache_size=200, class_weight='balanced...None, shrinking=True,\n  tol=0.001, verbose=False), X=array([[ 0.59383984,  1.28164362,  1.12153743, ....  1.50229067,\n         0.37064047, -0.4228391 ]]), y=array([ 0.,  0.,  0., ...,  8.,  8.,  8.]), sample_weight=array([], dtype=float64), solver_type=0, kernel='rbf', random_seed=59518860)\n    249                 class_weight=self.class_weight_, kernel=kernel, C=self.C,\n    250                 nu=self.nu, probability=self.probability, degree=self.degree,\n    251                 shrinking=self.shrinking, tol=self.tol,\n    252                 cache_size=self.cache_size, coef0=self.coef0,\n    253                 gamma=self._gamma, epsilon=self.epsilon,\n--> 254                 max_iter=self.max_iter, random_seed=random_seed)\n        self.max_iter = -1\n        random_seed = 59518860\n    255 \n    256         self._warn_from_fit_status()\n    257 \n    258     def _sparse_fit(self, X, y, sample_weight, solver_type, kernel,\n\n...........................................................................\nC:\\ProgramData\\Anaconda3\\lib\\site-packages\\sklearn\\svm\\libsvm.cp36-win_amd64.pyd in sklearn.svm.libsvm.fit()\n\nMemoryError: \n___________________________________________________________________________",
      "\nDuring handling of the above exception, another exception occurred:\n",
      "\u001b[1;31mJoblibMemoryError\u001b[0m                         Traceback (most recent call last)",
      "\u001b[1;32m<ipython-input-99-a9240e2da1b6>\u001b[0m in \u001b[0;36m<module>\u001b[1;34m()\u001b[0m\n\u001b[0;32m     19\u001b[0m     search(xData.iloc[train_index,:], xData.iloc[test_index,:], \n\u001b[0;32m     20\u001b[0m            \u001b[0myDataBin\u001b[0m\u001b[1;33m[\u001b[0m\u001b[0mtrain_index\u001b[0m\u001b[1;33m]\u001b[0m\u001b[1;33m,\u001b[0m \u001b[0myDataBin\u001b[0m\u001b[1;33m[\u001b[0m\u001b[0mtest_index\u001b[0m\u001b[1;33m]\u001b[0m\u001b[1;33m,\u001b[0m\u001b[1;33m\u001b[0m\u001b[0m\n\u001b[1;32m---> 21\u001b[1;33m            groups_data.iloc[train_index])    \n\u001b[0m",
      "\u001b[1;32m<ipython-input-85-20ace3603410>\u001b[0m in \u001b[0;36msearch\u001b[1;34m(X_train, X_test, y_train, y_test, group_data_train)\u001b[0m\n\u001b[0;32m     51\u001b[0m         \u001b[0mclf\u001b[0m \u001b[1;33m=\u001b[0m \u001b[0mGridSearchCV\u001b[0m\u001b[1;33m(\u001b[0m\u001b[0mclassifier\u001b[0m\u001b[1;33m,\u001b[0m \u001b[0mparams\u001b[0m\u001b[1;33m,\u001b[0m \u001b[0mcv\u001b[0m\u001b[1;33m=\u001b[0m\u001b[1;36m5\u001b[0m\u001b[1;33m,\u001b[0m \u001b[0mn_jobs\u001b[0m\u001b[1;33m=\u001b[0m\u001b[1;36m4\u001b[0m\u001b[1;33m,\u001b[0m \u001b[0mscoring\u001b[0m\u001b[1;33m=\u001b[0m\u001b[1;33m[\u001b[0m\u001b[1;34m'f1_weighted'\u001b[0m\u001b[1;33m,\u001b[0m\u001b[1;34m'accuracy'\u001b[0m\u001b[1;33m,\u001b[0m\u001b[1;34m'precision_weighted'\u001b[0m\u001b[1;33m,\u001b[0m \u001b[1;34m'recall_weighted'\u001b[0m\u001b[1;33m]\u001b[0m\u001b[1;33m,\u001b[0m \u001b[0mrefit\u001b[0m\u001b[1;33m=\u001b[0m\u001b[1;34m'f1_weighted'\u001b[0m \u001b[1;33m,\u001b[0m \u001b[0mverbose\u001b[0m \u001b[1;33m=\u001b[0m \u001b[1;36m10\u001b[0m\u001b[1;33m)\u001b[0m\u001b[1;33m\u001b[0m\u001b[0m\n\u001b[0;32m     52\u001b[0m \u001b[1;33m\u001b[0m\u001b[0m\n\u001b[1;32m---> 53\u001b[1;33m         \u001b[0mclf\u001b[0m\u001b[1;33m.\u001b[0m\u001b[0mfit\u001b[0m\u001b[1;33m(\u001b[0m\u001b[0mX_train\u001b[0m\u001b[1;33m,\u001b[0m \u001b[0my_train\u001b[0m\u001b[1;33m,\u001b[0m \u001b[0mgroups\u001b[0m\u001b[1;33m=\u001b[0m\u001b[0mgroup_data_train\u001b[0m\u001b[1;33m)\u001b[0m\u001b[1;33m\u001b[0m\u001b[0m\n\u001b[0m\u001b[0;32m     54\u001b[0m \u001b[1;33m\u001b[0m\u001b[0m\n\u001b[0;32m     55\u001b[0m         \u001b[0mprint\u001b[0m\u001b[1;33m(\u001b[0m\u001b[1;34m\"Best parameters set found on development set:\"\u001b[0m\u001b[1;33m)\u001b[0m\u001b[1;33m\u001b[0m\u001b[0m\n",
      "\u001b[1;32mC:\\ProgramData\\Anaconda3\\lib\\site-packages\\sklearn\\model_selection\\_search.py\u001b[0m in \u001b[0;36mfit\u001b[1;34m(self, X, y, groups, **fit_params)\u001b[0m\n\u001b[0;32m    636\u001b[0m                                   error_score=self.error_score)\n\u001b[0;32m    637\u001b[0m           for parameters, (train, test) in product(candidate_params,\n\u001b[1;32m--> 638\u001b[1;33m                                                    cv.split(X, y, groups)))\n\u001b[0m\u001b[0;32m    639\u001b[0m \u001b[1;33m\u001b[0m\u001b[0m\n\u001b[0;32m    640\u001b[0m         \u001b[1;31m# if one choose to see train score, \"out\" will contain train score info\u001b[0m\u001b[1;33m\u001b[0m\u001b[1;33m\u001b[0m\u001b[0m\n",
      "\u001b[1;32mC:\\ProgramData\\Anaconda3\\lib\\site-packages\\sklearn\\externals\\joblib\\parallel.py\u001b[0m in \u001b[0;36m__call__\u001b[1;34m(self, iterable)\u001b[0m\n\u001b[0;32m    787\u001b[0m                 \u001b[1;31m# consumption.\u001b[0m\u001b[1;33m\u001b[0m\u001b[1;33m\u001b[0m\u001b[0m\n\u001b[0;32m    788\u001b[0m                 \u001b[0mself\u001b[0m\u001b[1;33m.\u001b[0m\u001b[0m_iterating\u001b[0m \u001b[1;33m=\u001b[0m \u001b[1;32mFalse\u001b[0m\u001b[1;33m\u001b[0m\u001b[0m\n\u001b[1;32m--> 789\u001b[1;33m             \u001b[0mself\u001b[0m\u001b[1;33m.\u001b[0m\u001b[0mretrieve\u001b[0m\u001b[1;33m(\u001b[0m\u001b[1;33m)\u001b[0m\u001b[1;33m\u001b[0m\u001b[0m\n\u001b[0m\u001b[0;32m    790\u001b[0m             \u001b[1;31m# Make sure that we get a last message telling us we are done\u001b[0m\u001b[1;33m\u001b[0m\u001b[1;33m\u001b[0m\u001b[0m\n\u001b[0;32m    791\u001b[0m             \u001b[0melapsed_time\u001b[0m \u001b[1;33m=\u001b[0m \u001b[0mtime\u001b[0m\u001b[1;33m.\u001b[0m\u001b[0mtime\u001b[0m\u001b[1;33m(\u001b[0m\u001b[1;33m)\u001b[0m \u001b[1;33m-\u001b[0m \u001b[0mself\u001b[0m\u001b[1;33m.\u001b[0m\u001b[0m_start_time\u001b[0m\u001b[1;33m\u001b[0m\u001b[0m\n",
      "\u001b[1;32mC:\\ProgramData\\Anaconda3\\lib\\site-packages\\sklearn\\externals\\joblib\\parallel.py\u001b[0m in \u001b[0;36mretrieve\u001b[1;34m(self)\u001b[0m\n\u001b[0;32m    738\u001b[0m                     \u001b[0mexception\u001b[0m \u001b[1;33m=\u001b[0m \u001b[0mexception_type\u001b[0m\u001b[1;33m(\u001b[0m\u001b[0mreport\u001b[0m\u001b[1;33m)\u001b[0m\u001b[1;33m\u001b[0m\u001b[0m\n\u001b[0;32m    739\u001b[0m \u001b[1;33m\u001b[0m\u001b[0m\n\u001b[1;32m--> 740\u001b[1;33m                     \u001b[1;32mraise\u001b[0m \u001b[0mexception\u001b[0m\u001b[1;33m\u001b[0m\u001b[0m\n\u001b[0m\u001b[0;32m    741\u001b[0m \u001b[1;33m\u001b[0m\u001b[0m\n\u001b[0;32m    742\u001b[0m     \u001b[1;32mdef\u001b[0m \u001b[0m__call__\u001b[0m\u001b[1;33m(\u001b[0m\u001b[0mself\u001b[0m\u001b[1;33m,\u001b[0m \u001b[0miterable\u001b[0m\u001b[1;33m)\u001b[0m\u001b[1;33m:\u001b[0m\u001b[1;33m\u001b[0m\u001b[0m\n",
      "\u001b[1;31mJoblibMemoryError\u001b[0m: JoblibMemoryError\n___________________________________________________________________________\nMultiprocessing exception:\n...........................................................................\nC:\\ProgramData\\Anaconda3\\lib\\runpy.py in _run_module_as_main(mod_name='ipykernel_launcher', alter_argv=1)\n    188         sys.exit(msg)\n    189     main_globals = sys.modules[\"__main__\"].__dict__\n    190     if alter_argv:\n    191         sys.argv[0] = mod_spec.origin\n    192     return _run_code(code, main_globals, None,\n--> 193                      \"__main__\", mod_spec)\n        mod_spec = ModuleSpec(name='ipykernel_launcher', loader=<_f...nda3\\\\lib\\\\site-packages\\\\ipykernel_launcher.py')\n    194 \n    195 def run_module(mod_name, init_globals=None,\n    196                run_name=None, alter_sys=False):\n    197     \"\"\"Execute a module's code without importing it\n\n...........................................................................\nC:\\ProgramData\\Anaconda3\\lib\\runpy.py in _run_code(code=<code object <module> at 0x00000207EE587810, fil...lib\\site-packages\\ipykernel_launcher.py\", line 5>, run_globals={'__annotations__': {}, '__builtins__': <module 'builtins' (built-in)>, '__cached__': r'C:\\ProgramData\\Anaconda3\\lib\\site-packages\\__pycache__\\ipykernel_launcher.cpython-36.pyc', '__doc__': 'Entry point for launching an IPython kernel.\\n\\nTh...orts until\\nafter removing the cwd from sys.path.\\n', '__file__': r'C:\\ProgramData\\Anaconda3\\lib\\site-packages\\ipykernel_launcher.py', '__loader__': <_frozen_importlib_external.SourceFileLoader object>, '__name__': '__main__', '__package__': '', '__spec__': ModuleSpec(name='ipykernel_launcher', loader=<_f...nda3\\\\lib\\\\site-packages\\\\ipykernel_launcher.py'), 'app': <module 'ipykernel.kernelapp' from 'C:\\\\ProgramD...a3\\\\lib\\\\site-packages\\\\ipykernel\\\\kernelapp.py'>, ...}, init_globals=None, mod_name='__main__', mod_spec=ModuleSpec(name='ipykernel_launcher', loader=<_f...nda3\\\\lib\\\\site-packages\\\\ipykernel_launcher.py'), pkg_name='', script_name=None)\n     80                        __cached__ = cached,\n     81                        __doc__ = None,\n     82                        __loader__ = loader,\n     83                        __package__ = pkg_name,\n     84                        __spec__ = mod_spec)\n---> 85     exec(code, run_globals)\n        code = <code object <module> at 0x00000207EE587810, fil...lib\\site-packages\\ipykernel_launcher.py\", line 5>\n        run_globals = {'__annotations__': {}, '__builtins__': <module 'builtins' (built-in)>, '__cached__': r'C:\\ProgramData\\Anaconda3\\lib\\site-packages\\__pycache__\\ipykernel_launcher.cpython-36.pyc', '__doc__': 'Entry point for launching an IPython kernel.\\n\\nTh...orts until\\nafter removing the cwd from sys.path.\\n', '__file__': r'C:\\ProgramData\\Anaconda3\\lib\\site-packages\\ipykernel_launcher.py', '__loader__': <_frozen_importlib_external.SourceFileLoader object>, '__name__': '__main__', '__package__': '', '__spec__': ModuleSpec(name='ipykernel_launcher', loader=<_f...nda3\\\\lib\\\\site-packages\\\\ipykernel_launcher.py'), 'app': <module 'ipykernel.kernelapp' from 'C:\\\\ProgramD...a3\\\\lib\\\\site-packages\\\\ipykernel\\\\kernelapp.py'>, ...}\n     86     return run_globals\n     87 \n     88 def _run_module_code(code, init_globals=None,\n     89                     mod_name=None, mod_spec=None,\n\n...........................................................................\nC:\\ProgramData\\Anaconda3\\lib\\site-packages\\ipykernel_launcher.py in <module>()\n     11     # This is added back by InteractiveShellApp.init_path()\n     12     if sys.path[0] == '':\n     13         del sys.path[0]\n     14 \n     15     from ipykernel import kernelapp as app\n---> 16     app.launch_new_instance()\n\n...........................................................................\nC:\\ProgramData\\Anaconda3\\lib\\site-packages\\traitlets\\config\\application.py in launch_instance(cls=<class 'ipykernel.kernelapp.IPKernelApp'>, argv=None, **kwargs={})\n    653 \n    654         If a global instance already exists, this reinitializes and starts it\n    655         \"\"\"\n    656         app = cls.instance(**kwargs)\n    657         app.initialize(argv)\n--> 658         app.start()\n        app.start = <bound method IPKernelApp.start of <ipykernel.kernelapp.IPKernelApp object>>\n    659 \n    660 #-----------------------------------------------------------------------------\n    661 # utility functions, for convenience\n    662 #-----------------------------------------------------------------------------\n\n...........................................................................\nC:\\ProgramData\\Anaconda3\\lib\\site-packages\\ipykernel\\kernelapp.py in start(self=<ipykernel.kernelapp.IPKernelApp object>)\n    472             return self.subapp.start()\n    473         if self.poller is not None:\n    474             self.poller.start()\n    475         self.kernel.start()\n    476         try:\n--> 477             ioloop.IOLoop.instance().start()\n    478         except KeyboardInterrupt:\n    479             pass\n    480 \n    481 launch_new_instance = IPKernelApp.launch_instance\n\n...........................................................................\nC:\\ProgramData\\Anaconda3\\lib\\site-packages\\zmq\\eventloop\\ioloop.py in start(self=<zmq.eventloop.ioloop.ZMQIOLoop object>)\n    172             )\n    173         return loop\n    174     \n    175     def start(self):\n    176         try:\n--> 177             super(ZMQIOLoop, self).start()\n        self.start = <bound method ZMQIOLoop.start of <zmq.eventloop.ioloop.ZMQIOLoop object>>\n    178         except ZMQError as e:\n    179             if e.errno == ETERM:\n    180                 # quietly return on ETERM\n    181                 pass\n\n...........................................................................\nC:\\ProgramData\\Anaconda3\\lib\\site-packages\\tornado\\ioloop.py in start(self=<zmq.eventloop.ioloop.ZMQIOLoop object>)\n    883                 self._events.update(event_pairs)\n    884                 while self._events:\n    885                     fd, events = self._events.popitem()\n    886                     try:\n    887                         fd_obj, handler_func = self._handlers[fd]\n--> 888                         handler_func(fd_obj, events)\n        handler_func = <function wrap.<locals>.null_wrapper>\n        fd_obj = <zmq.sugar.socket.Socket object>\n        events = 1\n    889                     except (OSError, IOError) as e:\n    890                         if errno_from_exception(e) == errno.EPIPE:\n    891                             # Happens when the client closes the connection\n    892                             pass\n\n...........................................................................\nC:\\ProgramData\\Anaconda3\\lib\\site-packages\\tornado\\stack_context.py in null_wrapper(*args=(<zmq.sugar.socket.Socket object>, 1), **kwargs={})\n    272         # Fast path when there are no active contexts.\n    273         def null_wrapper(*args, **kwargs):\n    274             try:\n    275                 current_state = _state.contexts\n    276                 _state.contexts = cap_contexts[0]\n--> 277                 return fn(*args, **kwargs)\n        args = (<zmq.sugar.socket.Socket object>, 1)\n        kwargs = {}\n    278             finally:\n    279                 _state.contexts = current_state\n    280         null_wrapper._wrapped = True\n    281         return null_wrapper\n\n...........................................................................\nC:\\ProgramData\\Anaconda3\\lib\\site-packages\\zmq\\eventloop\\zmqstream.py in _handle_events(self=<zmq.eventloop.zmqstream.ZMQStream object>, fd=<zmq.sugar.socket.Socket object>, events=1)\n    435             # dispatch events:\n    436             if events & IOLoop.ERROR:\n    437                 gen_log.error(\"got POLLERR event on ZMQStream, which doesn't make sense\")\n    438                 return\n    439             if events & IOLoop.READ:\n--> 440                 self._handle_recv()\n        self._handle_recv = <bound method ZMQStream._handle_recv of <zmq.eventloop.zmqstream.ZMQStream object>>\n    441                 if not self.socket:\n    442                     return\n    443             if events & IOLoop.WRITE:\n    444                 self._handle_send()\n\n...........................................................................\nC:\\ProgramData\\Anaconda3\\lib\\site-packages\\zmq\\eventloop\\zmqstream.py in _handle_recv(self=<zmq.eventloop.zmqstream.ZMQStream object>)\n    467                 gen_log.error(\"RECV Error: %s\"%zmq.strerror(e.errno))\n    468         else:\n    469             if self._recv_callback:\n    470                 callback = self._recv_callback\n    471                 # self._recv_callback = None\n--> 472                 self._run_callback(callback, msg)\n        self._run_callback = <bound method ZMQStream._run_callback of <zmq.eventloop.zmqstream.ZMQStream object>>\n        callback = <function wrap.<locals>.null_wrapper>\n        msg = [<zmq.sugar.frame.Frame object>, <zmq.sugar.frame.Frame object>, <zmq.sugar.frame.Frame object>, <zmq.sugar.frame.Frame object>, <zmq.sugar.frame.Frame object>, <zmq.sugar.frame.Frame object>, <zmq.sugar.frame.Frame object>]\n    473                 \n    474         # self.update_state()\n    475         \n    476 \n\n...........................................................................\nC:\\ProgramData\\Anaconda3\\lib\\site-packages\\zmq\\eventloop\\zmqstream.py in _run_callback(self=<zmq.eventloop.zmqstream.ZMQStream object>, callback=<function wrap.<locals>.null_wrapper>, *args=([<zmq.sugar.frame.Frame object>, <zmq.sugar.frame.Frame object>, <zmq.sugar.frame.Frame object>, <zmq.sugar.frame.Frame object>, <zmq.sugar.frame.Frame object>, <zmq.sugar.frame.Frame object>, <zmq.sugar.frame.Frame object>],), **kwargs={})\n    409         close our socket.\"\"\"\n    410         try:\n    411             # Use a NullContext to ensure that all StackContexts are run\n    412             # inside our blanket exception handler rather than outside.\n    413             with stack_context.NullContext():\n--> 414                 callback(*args, **kwargs)\n        callback = <function wrap.<locals>.null_wrapper>\n        args = ([<zmq.sugar.frame.Frame object>, <zmq.sugar.frame.Frame object>, <zmq.sugar.frame.Frame object>, <zmq.sugar.frame.Frame object>, <zmq.sugar.frame.Frame object>, <zmq.sugar.frame.Frame object>, <zmq.sugar.frame.Frame object>],)\n        kwargs = {}\n    415         except:\n    416             gen_log.error(\"Uncaught exception, closing connection.\",\n    417                           exc_info=True)\n    418             # Close the socket on an uncaught exception from a user callback\n\n...........................................................................\nC:\\ProgramData\\Anaconda3\\lib\\site-packages\\tornado\\stack_context.py in null_wrapper(*args=([<zmq.sugar.frame.Frame object>, <zmq.sugar.frame.Frame object>, <zmq.sugar.frame.Frame object>, <zmq.sugar.frame.Frame object>, <zmq.sugar.frame.Frame object>, <zmq.sugar.frame.Frame object>, <zmq.sugar.frame.Frame object>],), **kwargs={})\n    272         # Fast path when there are no active contexts.\n    273         def null_wrapper(*args, **kwargs):\n    274             try:\n    275                 current_state = _state.contexts\n    276                 _state.contexts = cap_contexts[0]\n--> 277                 return fn(*args, **kwargs)\n        args = ([<zmq.sugar.frame.Frame object>, <zmq.sugar.frame.Frame object>, <zmq.sugar.frame.Frame object>, <zmq.sugar.frame.Frame object>, <zmq.sugar.frame.Frame object>, <zmq.sugar.frame.Frame object>, <zmq.sugar.frame.Frame object>],)\n        kwargs = {}\n    278             finally:\n    279                 _state.contexts = current_state\n    280         null_wrapper._wrapped = True\n    281         return null_wrapper\n\n...........................................................................\nC:\\ProgramData\\Anaconda3\\lib\\site-packages\\ipykernel\\kernelbase.py in dispatcher(msg=[<zmq.sugar.frame.Frame object>, <zmq.sugar.frame.Frame object>, <zmq.sugar.frame.Frame object>, <zmq.sugar.frame.Frame object>, <zmq.sugar.frame.Frame object>, <zmq.sugar.frame.Frame object>, <zmq.sugar.frame.Frame object>])\n    278         if self.control_stream:\n    279             self.control_stream.on_recv(self.dispatch_control, copy=False)\n    280 \n    281         def make_dispatcher(stream):\n    282             def dispatcher(msg):\n--> 283                 return self.dispatch_shell(stream, msg)\n        msg = [<zmq.sugar.frame.Frame object>, <zmq.sugar.frame.Frame object>, <zmq.sugar.frame.Frame object>, <zmq.sugar.frame.Frame object>, <zmq.sugar.frame.Frame object>, <zmq.sugar.frame.Frame object>, <zmq.sugar.frame.Frame object>]\n    284             return dispatcher\n    285 \n    286         for s in self.shell_streams:\n    287             s.on_recv(make_dispatcher(s), copy=False)\n\n...........................................................................\nC:\\ProgramData\\Anaconda3\\lib\\site-packages\\ipykernel\\kernelbase.py in dispatch_shell(self=<ipykernel.ipkernel.IPythonKernel object>, stream=<zmq.eventloop.zmqstream.ZMQStream object>, msg={'buffers': [], 'content': {'allow_stdin': True, 'code': 'from sklearn.model_selection import StratifiedSh...], \\n           groups_data.iloc[train_index])    ', 'silent': False, 'stop_on_error': True, 'store_history': True, 'user_expressions': {}}, 'header': {'date': datetime.datetime(2017, 10, 23, 2, 17, 48, 135894, tzinfo=tzutc()), 'msg_id': 'E02F5D3F961C498D8D257733EB28F180', 'msg_type': 'execute_request', 'session': '59442CF5E8DF42BA87562F8146741319', 'username': 'username', 'version': '5.0'}, 'metadata': {}, 'msg_id': 'E02F5D3F961C498D8D257733EB28F180', 'msg_type': 'execute_request', 'parent_header': {}})\n    230             self.log.warn(\"Unknown message type: %r\", msg_type)\n    231         else:\n    232             self.log.debug(\"%s: %s\", msg_type, msg)\n    233             self.pre_handler_hook()\n    234             try:\n--> 235                 handler(stream, idents, msg)\n        handler = <bound method Kernel.execute_request of <ipykernel.ipkernel.IPythonKernel object>>\n        stream = <zmq.eventloop.zmqstream.ZMQStream object>\n        idents = [b'59442CF5E8DF42BA87562F8146741319']\n        msg = {'buffers': [], 'content': {'allow_stdin': True, 'code': 'from sklearn.model_selection import StratifiedSh...], \\n           groups_data.iloc[train_index])    ', 'silent': False, 'stop_on_error': True, 'store_history': True, 'user_expressions': {}}, 'header': {'date': datetime.datetime(2017, 10, 23, 2, 17, 48, 135894, tzinfo=tzutc()), 'msg_id': 'E02F5D3F961C498D8D257733EB28F180', 'msg_type': 'execute_request', 'session': '59442CF5E8DF42BA87562F8146741319', 'username': 'username', 'version': '5.0'}, 'metadata': {}, 'msg_id': 'E02F5D3F961C498D8D257733EB28F180', 'msg_type': 'execute_request', 'parent_header': {}}\n    236             except Exception:\n    237                 self.log.error(\"Exception in message handler:\", exc_info=True)\n    238             finally:\n    239                 self.post_handler_hook()\n\n...........................................................................\nC:\\ProgramData\\Anaconda3\\lib\\site-packages\\ipykernel\\kernelbase.py in execute_request(self=<ipykernel.ipkernel.IPythonKernel object>, stream=<zmq.eventloop.zmqstream.ZMQStream object>, ident=[b'59442CF5E8DF42BA87562F8146741319'], parent={'buffers': [], 'content': {'allow_stdin': True, 'code': 'from sklearn.model_selection import StratifiedSh...], \\n           groups_data.iloc[train_index])    ', 'silent': False, 'stop_on_error': True, 'store_history': True, 'user_expressions': {}}, 'header': {'date': datetime.datetime(2017, 10, 23, 2, 17, 48, 135894, tzinfo=tzutc()), 'msg_id': 'E02F5D3F961C498D8D257733EB28F180', 'msg_type': 'execute_request', 'session': '59442CF5E8DF42BA87562F8146741319', 'username': 'username', 'version': '5.0'}, 'metadata': {}, 'msg_id': 'E02F5D3F961C498D8D257733EB28F180', 'msg_type': 'execute_request', 'parent_header': {}})\n    394         if not silent:\n    395             self.execution_count += 1\n    396             self._publish_execute_input(code, parent, self.execution_count)\n    397 \n    398         reply_content = self.do_execute(code, silent, store_history,\n--> 399                                         user_expressions, allow_stdin)\n        user_expressions = {}\n        allow_stdin = True\n    400 \n    401         # Flush output before sending the reply.\n    402         sys.stdout.flush()\n    403         sys.stderr.flush()\n\n...........................................................................\nC:\\ProgramData\\Anaconda3\\lib\\site-packages\\ipykernel\\ipkernel.py in do_execute(self=<ipykernel.ipkernel.IPythonKernel object>, code='from sklearn.model_selection import StratifiedSh...], \\n           groups_data.iloc[train_index])    ', silent=False, store_history=True, user_expressions={}, allow_stdin=True)\n    191 \n    192         self._forward_input(allow_stdin)\n    193 \n    194         reply_content = {}\n    195         try:\n--> 196             res = shell.run_cell(code, store_history=store_history, silent=silent)\n        res = undefined\n        shell.run_cell = <bound method ZMQInteractiveShell.run_cell of <ipykernel.zmqshell.ZMQInteractiveShell object>>\n        code = 'from sklearn.model_selection import StratifiedSh...], \\n           groups_data.iloc[train_index])    '\n        store_history = True\n        silent = False\n    197         finally:\n    198             self._restore_input()\n    199 \n    200         if res.error_before_exec is not None:\n\n...........................................................................\nC:\\ProgramData\\Anaconda3\\lib\\site-packages\\ipykernel\\zmqshell.py in run_cell(self=<ipykernel.zmqshell.ZMQInteractiveShell object>, *args=('from sklearn.model_selection import StratifiedSh...], \\n           groups_data.iloc[train_index])    ',), **kwargs={'silent': False, 'store_history': True})\n    528             )\n    529         self.payload_manager.write_payload(payload)\n    530 \n    531     def run_cell(self, *args, **kwargs):\n    532         self._last_traceback = None\n--> 533         return super(ZMQInteractiveShell, self).run_cell(*args, **kwargs)\n        self.run_cell = <bound method ZMQInteractiveShell.run_cell of <ipykernel.zmqshell.ZMQInteractiveShell object>>\n        args = ('from sklearn.model_selection import StratifiedSh...], \\n           groups_data.iloc[train_index])    ',)\n        kwargs = {'silent': False, 'store_history': True}\n    534 \n    535     def _showtraceback(self, etype, evalue, stb):\n    536         # try to preserve ordering of tracebacks and print statements\n    537         sys.stdout.flush()\n\n...........................................................................\nC:\\ProgramData\\Anaconda3\\lib\\site-packages\\IPython\\core\\interactiveshell.py in run_cell(self=<ipykernel.zmqshell.ZMQInteractiveShell object>, raw_cell='from sklearn.model_selection import StratifiedSh...], \\n           groups_data.iloc[train_index])    ', store_history=True, silent=False, shell_futures=True)\n   2693                 self.displayhook.exec_result = result\n   2694 \n   2695                 # Execute the user code\n   2696                 interactivity = \"none\" if silent else self.ast_node_interactivity\n   2697                 has_raised = self.run_ast_nodes(code_ast.body, cell_name,\n-> 2698                    interactivity=interactivity, compiler=compiler, result=result)\n        interactivity = 'last_expr'\n        compiler = <IPython.core.compilerop.CachingCompiler object>\n   2699                 \n   2700                 self.last_execution_succeeded = not has_raised\n   2701 \n   2702                 # Reset this so later displayed values do not modify the\n\n...........................................................................\nC:\\ProgramData\\Anaconda3\\lib\\site-packages\\IPython\\core\\interactiveshell.py in run_ast_nodes(self=<ipykernel.zmqshell.ZMQInteractiveShell object>, nodelist=[<_ast.ImportFrom object>, <_ast.ImportFrom object>, <_ast.Assign object>, <_ast.For object>], cell_name='<ipython-input-99-a9240e2da1b6>', interactivity='none', compiler=<IPython.core.compilerop.CachingCompiler object>, result=<ExecutionResult object at 2080e2f7128, executio..._before_exec=None error_in_exec=None result=None>)\n   2797 \n   2798         try:\n   2799             for i, node in enumerate(to_run_exec):\n   2800                 mod = ast.Module([node])\n   2801                 code = compiler(mod, cell_name, \"exec\")\n-> 2802                 if self.run_code(code, result):\n        self.run_code = <bound method InteractiveShell.run_code of <ipykernel.zmqshell.ZMQInteractiveShell object>>\n        code = <code object <module> at 0x000002080E385C00, file \"<ipython-input-99-a9240e2da1b6>\", line 7>\n        result = <ExecutionResult object at 2080e2f7128, executio..._before_exec=None error_in_exec=None result=None>\n   2803                     return True\n   2804 \n   2805             for i, node in enumerate(to_run_interactive):\n   2806                 mod = ast.Interactive([node])\n\n...........................................................................\nC:\\ProgramData\\Anaconda3\\lib\\site-packages\\IPython\\core\\interactiveshell.py in run_code(self=<ipykernel.zmqshell.ZMQInteractiveShell object>, code_obj=<code object <module> at 0x000002080E385C00, file \"<ipython-input-99-a9240e2da1b6>\", line 7>, result=<ExecutionResult object at 2080e2f7128, executio..._before_exec=None error_in_exec=None result=None>)\n   2857         outflag = True  # happens in more places, so it's easier as default\n   2858         try:\n   2859             try:\n   2860                 self.hooks.pre_run_code_hook()\n   2861                 #rprint('Running code', repr(code_obj)) # dbg\n-> 2862                 exec(code_obj, self.user_global_ns, self.user_ns)\n        code_obj = <code object <module> at 0x000002080E385C00, file \"<ipython-input-99-a9240e2da1b6>\", line 7>\n        self.user_global_ns = {'BernoulliRBM': <class 'sklearn.neural_network.rbm.BernoulliRBM'>, 'GaussianNB': <class 'sklearn.naive_bayes.GaussianNB'>, 'GradientBoostingClassifier': <class 'sklearn.ensemble.gradient_boosting.GradientBoostingClassifier'>, 'GridSearchCV': <class 'sklearn.model_selection._search.GridSearchCV'>, 'GroupShuffleSplit': <class 'sklearn.model_selection._split.GroupShuffleSplit'>, 'In': ['', \"import time\\nimport glob\\nimport pandas as pd\\nimpo... as plt\\n\\nget_ipython().magic('matplotlib inline')\", 'from sklearn.ensemble import VotingClassifier\\nfr...\\nfrom sklearn.preprocessing import LabelBinarizer', 'shift = 4320', r\"prefix = 'C:\\\\Users\\\\rafae\\\\Desktop\\\\Coleta\\\\features\\\\features_hog_*.csv'\", 'files_list = glob.glob(prefix)\\nprint(len(files_list))', '# read features\\nframes = [pd.read_csv(f, header=0) for f in files_list ]\\nlen(frames)', 'ds = pd.concat(frames)', 'ds.shape', 'ds.head()', \"yData = ds['0']\", 'xData = pd.concat([ds.iloc[:,2+shift:2+shift+shift]])', 'yData.iloc[20]', 'print(yData.shape, xData.shape, type(yData), type(xData))', \"from sklearn.metrics import confusion_matrix\\n\\nde...l('True label')\\n    plt.xlabel('Predicted label')\", 'from sklearn.metrics import confusion_matrix\\nfro...ame))\\n\\n    plt.show()\\n    # plot confusion matrix', 'from sklearn.metrics import make_scorer,precisio...lot_confusion(yTrue, yPred, name)\\n        print()', 'le = preprocessing.LabelEncoder()\\nle.fit(yData)\\nprint(le.classes_)\\nyDataBin = le.transform(yData)', 'xData.head()', 'from sklearn.model_selection import StratifiedSh...t_index], \\n           ds.iloc[train_index,1])    ', ...], 'KNeighborsClassifier': <class 'sklearn.neighbors.classification.KNeighborsClassifier'>, 'LabelBinarizer': <class 'sklearn.preprocessing.label.LabelBinarizer'>, 'LinearSVC': <class 'sklearn.svm.classes.LinearSVC'>, 'Out': {6: 513, 8: (7680, 17282), 9:    0     1   2   3   4   5   6   7   8   9    ......028560  \n4  0.023819  \n\n[5 rows x 17282 columns], 12: 10, 18:        4322      4323      4324      4325      4...62  0.027024  0.074032  \n\n[5 rows x 4320 columns], 22:    0     1   2   3   4   5   6   7   8   9    ......028560  \n4  0.023819  \n\n[5 rows x 17282 columns], 25: 10, 29: 10, 48:        4322      4323      4324      4325      4...62  0.027024  0.074032  \n\n[5 rows x 4320 columns], 51:    10000  10001  10002  10003  10004  10005  100... NaN   NaN   NaN   NaN  \n\n[5 rows x 8640 columns], ...}, ...}\n        self.user_ns = {'BernoulliRBM': <class 'sklearn.neural_network.rbm.BernoulliRBM'>, 'GaussianNB': <class 'sklearn.naive_bayes.GaussianNB'>, 'GradientBoostingClassifier': <class 'sklearn.ensemble.gradient_boosting.GradientBoostingClassifier'>, 'GridSearchCV': <class 'sklearn.model_selection._search.GridSearchCV'>, 'GroupShuffleSplit': <class 'sklearn.model_selection._split.GroupShuffleSplit'>, 'In': ['', \"import time\\nimport glob\\nimport pandas as pd\\nimpo... as plt\\n\\nget_ipython().magic('matplotlib inline')\", 'from sklearn.ensemble import VotingClassifier\\nfr...\\nfrom sklearn.preprocessing import LabelBinarizer', 'shift = 4320', r\"prefix = 'C:\\\\Users\\\\rafae\\\\Desktop\\\\Coleta\\\\features\\\\features_hog_*.csv'\", 'files_list = glob.glob(prefix)\\nprint(len(files_list))', '# read features\\nframes = [pd.read_csv(f, header=0) for f in files_list ]\\nlen(frames)', 'ds = pd.concat(frames)', 'ds.shape', 'ds.head()', \"yData = ds['0']\", 'xData = pd.concat([ds.iloc[:,2+shift:2+shift+shift]])', 'yData.iloc[20]', 'print(yData.shape, xData.shape, type(yData), type(xData))', \"from sklearn.metrics import confusion_matrix\\n\\nde...l('True label')\\n    plt.xlabel('Predicted label')\", 'from sklearn.metrics import confusion_matrix\\nfro...ame))\\n\\n    plt.show()\\n    # plot confusion matrix', 'from sklearn.metrics import make_scorer,precisio...lot_confusion(yTrue, yPred, name)\\n        print()', 'le = preprocessing.LabelEncoder()\\nle.fit(yData)\\nprint(le.classes_)\\nyDataBin = le.transform(yData)', 'xData.head()', 'from sklearn.model_selection import StratifiedSh...t_index], \\n           ds.iloc[train_index,1])    ', ...], 'KNeighborsClassifier': <class 'sklearn.neighbors.classification.KNeighborsClassifier'>, 'LabelBinarizer': <class 'sklearn.preprocessing.label.LabelBinarizer'>, 'LinearSVC': <class 'sklearn.svm.classes.LinearSVC'>, 'Out': {6: 513, 8: (7680, 17282), 9:    0     1   2   3   4   5   6   7   8   9    ......028560  \n4  0.023819  \n\n[5 rows x 17282 columns], 12: 10, 18:        4322      4323      4324      4325      4...62  0.027024  0.074032  \n\n[5 rows x 4320 columns], 22:    0     1   2   3   4   5   6   7   8   9    ......028560  \n4  0.023819  \n\n[5 rows x 17282 columns], 25: 10, 29: 10, 48:        4322      4323      4324      4325      4...62  0.027024  0.074032  \n\n[5 rows x 4320 columns], 51:    10000  10001  10002  10003  10004  10005  100... NaN   NaN   NaN   NaN  \n\n[5 rows x 8640 columns], ...}, ...}\n   2863             finally:\n   2864                 # Reset our crash handler in place\n   2865                 sys.excepthook = old_excepthook\n   2866         except SystemExit as e:\n\n...........................................................................\nC:\\Users\\rafae\\Desktop\\Coleta\\<ipython-input-99-a9240e2da1b6> in <module>()\n     16     print()\n     17     print()\n     18     \n     19     search(xData.iloc[train_index,:], xData.iloc[test_index,:], \n     20            yDataBin[train_index], yDataBin[test_index], \n---> 21            groups_data.iloc[train_index])    \n\n...........................................................................\nC:\\Users\\rafae\\Desktop\\Coleta\\<ipython-input-85-20ace3603410> in search(X_train=array([[ 0.51,  0.53,  1.36, ..., -0.5 , -0.5 , ...[-0.42, -0.3 , -0.51, ...,  1.5 ,  0.37, -0.42]]), X_test=array([[-0.78,  0.08,  0.03, ...,  0.16, -0.26, ...[ 0.44, -0.4 ,  0.16, ..., -0.52, -0.41, -0.38]]), y_train=array([0, 0, 0, ..., 8, 8, 8], dtype=int64), y_test=array([0, 0, 0, ..., 8, 8, 8], dtype=int64), group_data_train=0     p002\n1     p002\n2     p002\n3     p002\n4   ...\n14    p033\nName: 1, Length: 12006, dtype: object)\n     48     \n     49     for name, classifier, params in classifiers:\n     50         print(name)\n     51         clf = GridSearchCV(classifier, params, cv=5, n_jobs=4, scoring=['f1_weighted','accuracy','precision_weighted', 'recall_weighted'], refit='f1_weighted' , verbose = 10)\n     52 \n---> 53         clf.fit(X_train, y_train, groups=group_data_train)\n     54 \n     55         print(\"Best parameters set found on development set:\")\n     56         print()\n     57         print(clf.best_params_)\n\n...........................................................................\nC:\\ProgramData\\Anaconda3\\lib\\site-packages\\sklearn\\model_selection\\_search.py in fit(self=GridSearchCV(cv=5, error_score='raise',\n       e...weighted', 'recall_weighted'],\n       verbose=10), X=array([[ 0.51,  0.53,  1.36, ..., -0.5 , -0.5 , ...[-0.42, -0.3 , -0.51, ...,  1.5 ,  0.37, -0.42]]), y=array([0, 0, 0, ..., 8, 8, 8], dtype=int64), groups=0     p002\n1     p002\n2     p002\n3     p002\n4   ...\n14    p033\nName: 1, Length: 12006, dtype: object, **fit_params={})\n    633                                   return_train_score=self.return_train_score,\n    634                                   return_n_test_samples=True,\n    635                                   return_times=True, return_parameters=False,\n    636                                   error_score=self.error_score)\n    637           for parameters, (train, test) in product(candidate_params,\n--> 638                                                    cv.split(X, y, groups)))\n        cv.split = <bound method StratifiedKFold.split of Stratifie...ld(n_splits=5, random_state=None, shuffle=False)>\n        X = array([[ 0.51,  0.53,  1.36, ..., -0.5 , -0.5 , ...[-0.42, -0.3 , -0.51, ...,  1.5 ,  0.37, -0.42]])\n        y = array([0, 0, 0, ..., 8, 8, 8], dtype=int64)\n        groups = 0     p002\n1     p002\n2     p002\n3     p002\n4   ...\n14    p033\nName: 1, Length: 12006, dtype: object\n    639 \n    640         # if one choose to see train score, \"out\" will contain train score info\n    641         if self.return_train_score:\n    642             (train_score_dicts, test_score_dicts, test_sample_counts, fit_time,\n\n...........................................................................\nC:\\ProgramData\\Anaconda3\\lib\\site-packages\\sklearn\\externals\\joblib\\parallel.py in __call__(self=Parallel(n_jobs=4), iterable=<generator object BaseSearchCV.fit.<locals>.<genexpr>>)\n    784             if pre_dispatch == \"all\" or n_jobs == 1:\n    785                 # The iterable was consumed all at once by the above for loop.\n    786                 # No need to wait for async callbacks to trigger to\n    787                 # consumption.\n    788                 self._iterating = False\n--> 789             self.retrieve()\n        self.retrieve = <bound method Parallel.retrieve of Parallel(n_jobs=4)>\n    790             # Make sure that we get a last message telling us we are done\n    791             elapsed_time = time.time() - self._start_time\n    792             self._print('Done %3i out of %3i | elapsed: %s finished',\n    793                         (len(self._output), len(self._output),\n\n---------------------------------------------------------------------------\nSub-process traceback:\n---------------------------------------------------------------------------\nMemoryError                                        Mon Oct 23 03:07:43 2017\nPID: 15112                Python 3.6.2: C:\\ProgramData\\Anaconda3\\python.exe\n...........................................................................\nC:\\ProgramData\\Anaconda3\\lib\\site-packages\\sklearn\\externals\\joblib\\parallel.py in __call__(self=<sklearn.externals.joblib.parallel.BatchedCalls object>)\n    126     def __init__(self, iterator_slice):\n    127         self.items = list(iterator_slice)\n    128         self._size = len(self.items)\n    129 \n    130     def __call__(self):\n--> 131         return [func(*args, **kwargs) for func, args, kwargs in self.items]\n        self.items = [(<function _fit_and_score>, (SVC(C=15, cache_size=200, class_weight='balanced...None, shrinking=True,\n  tol=0.001, verbose=False), memmap([[ 0.51352638,  0.52863496,  1.35661953, ... 1.50229067,\n          0.37064047, -0.4228391 ]]), array([0, 0, 0, ..., 8, 8, 8], dtype=int64), {'accuracy': make_scorer(accuracy_score), 'f1_weighted': make_scorer(f1_score, pos_label=None, average=weighted), 'precision_weighted': make_scorer(precision_score, pos_label=None, average=weighted), 'recall_weighted': make_scorer(recall_score, pos_label=None, average=weighted)}, array([ 2295,  2296,  2297, ..., 12003, 12004, 12005]), array([   0,    1,    2, ..., 2670, 2671, 2672]), 10, {'C': 15, 'class_weight': 'balanced', 'gamma': 0.0001, 'kernel': 'rbf'}), {'error_score': 'raise', 'fit_params': {}, 'return_n_test_samples': True, 'return_parameters': False, 'return_times': True, 'return_train_score': True})]\n    132 \n    133     def __len__(self):\n    134         return self._size\n    135 \n\n...........................................................................\nC:\\ProgramData\\Anaconda3\\lib\\site-packages\\sklearn\\externals\\joblib\\parallel.py in <listcomp>(.0=<list_iterator object>)\n    126     def __init__(self, iterator_slice):\n    127         self.items = list(iterator_slice)\n    128         self._size = len(self.items)\n    129 \n    130     def __call__(self):\n--> 131         return [func(*args, **kwargs) for func, args, kwargs in self.items]\n        func = <function _fit_and_score>\n        args = (SVC(C=15, cache_size=200, class_weight='balanced...None, shrinking=True,\n  tol=0.001, verbose=False), memmap([[ 0.51352638,  0.52863496,  1.35661953, ... 1.50229067,\n          0.37064047, -0.4228391 ]]), array([0, 0, 0, ..., 8, 8, 8], dtype=int64), {'accuracy': make_scorer(accuracy_score), 'f1_weighted': make_scorer(f1_score, pos_label=None, average=weighted), 'precision_weighted': make_scorer(precision_score, pos_label=None, average=weighted), 'recall_weighted': make_scorer(recall_score, pos_label=None, average=weighted)}, array([ 2295,  2296,  2297, ..., 12003, 12004, 12005]), array([   0,    1,    2, ..., 2670, 2671, 2672]), 10, {'C': 15, 'class_weight': 'balanced', 'gamma': 0.0001, 'kernel': 'rbf'})\n        kwargs = {'error_score': 'raise', 'fit_params': {}, 'return_n_test_samples': True, 'return_parameters': False, 'return_times': True, 'return_train_score': True}\n    132 \n    133     def __len__(self):\n    134         return self._size\n    135 \n\n...........................................................................\nC:\\ProgramData\\Anaconda3\\lib\\site-packages\\sklearn\\model_selection\\_validation.py in _fit_and_score(estimator=SVC(C=15, cache_size=200, class_weight='balanced...None, shrinking=True,\n  tol=0.001, verbose=False), X=memmap([[ 0.51352638,  0.52863496,  1.35661953, ... 1.50229067,\n          0.37064047, -0.4228391 ]]), y=array([0, 0, 0, ..., 8, 8, 8], dtype=int64), scorer={'accuracy': make_scorer(accuracy_score), 'f1_weighted': make_scorer(f1_score, pos_label=None, average=weighted), 'precision_weighted': make_scorer(precision_score, pos_label=None, average=weighted), 'recall_weighted': make_scorer(recall_score, pos_label=None, average=weighted)}, train=array([ 2295,  2296,  2297, ..., 12003, 12004, 12005]), test=array([   0,    1,    2, ..., 2670, 2671, 2672]), verbose=10, parameters={'C': 15, 'class_weight': 'balanced', 'gamma': 0.0001, 'kernel': 'rbf'}, fit_params={}, return_train_score=True, return_parameters=False, return_n_test_samples=True, return_times=True, error_score='raise')\n    432 \n    433     try:\n    434         if y_train is None:\n    435             estimator.fit(X_train, **fit_params)\n    436         else:\n--> 437             estimator.fit(X_train, y_train, **fit_params)\n        estimator.fit = <bound method BaseLibSVM.fit of SVC(C=15, cache_...one, shrinking=True,\n  tol=0.001, verbose=False)>\n        X_train = memmap([[ 0.59383984,  1.28164362,  1.12153743, ... 1.50229067,\n          0.37064047, -0.4228391 ]])\n        y_train = array([0, 0, 0, ..., 8, 8, 8], dtype=int64)\n        fit_params = {}\n    438 \n    439     except Exception as e:\n    440         # Note fit time as time until error\n    441         fit_time = time.time() - start_time\n\n...........................................................................\nC:\\ProgramData\\Anaconda3\\lib\\site-packages\\sklearn\\svm\\base.py in fit(self=SVC(C=15, cache_size=200, class_weight='balanced...None, shrinking=True,\n  tol=0.001, verbose=False), X=array([[ 0.59383984,  1.28164362,  1.12153743, ....  1.50229067,\n         0.37064047, -0.4228391 ]]), y=array([ 0.,  0.,  0., ...,  8.,  8.,  8.]), sample_weight=array([], dtype=float64))\n    182         fit = self._sparse_fit if self._sparse else self._dense_fit\n    183         if self.verbose:  # pragma: no cover\n    184             print('[LibSVM]', end='')\n    185 \n    186         seed = rnd.randint(np.iinfo('i').max)\n--> 187         fit(X, y, sample_weight, solver_type, kernel, random_seed=seed)\n        fit = <bound method BaseLibSVM._dense_fit of SVC(C=15,...one, shrinking=True,\n  tol=0.001, verbose=False)>\n        X = array([[ 0.59383984,  1.28164362,  1.12153743, ....  1.50229067,\n         0.37064047, -0.4228391 ]])\n        y = array([ 0.,  0.,  0., ...,  8.,  8.,  8.])\n        sample_weight = array([], dtype=float64)\n        solver_type = 0\n        kernel = 'rbf'\n        seed = 59518860\n    188         # see comment on the other call to np.iinfo in this file\n    189 \n    190         self.shape_fit_ = X.shape\n    191 \n\n...........................................................................\nC:\\ProgramData\\Anaconda3\\lib\\site-packages\\sklearn\\svm\\base.py in _dense_fit(self=SVC(C=15, cache_size=200, class_weight='balanced...None, shrinking=True,\n  tol=0.001, verbose=False), X=array([[ 0.59383984,  1.28164362,  1.12153743, ....  1.50229067,\n         0.37064047, -0.4228391 ]]), y=array([ 0.,  0.,  0., ...,  8.,  8.,  8.]), sample_weight=array([], dtype=float64), solver_type=0, kernel='rbf', random_seed=59518860)\n    249                 class_weight=self.class_weight_, kernel=kernel, C=self.C,\n    250                 nu=self.nu, probability=self.probability, degree=self.degree,\n    251                 shrinking=self.shrinking, tol=self.tol,\n    252                 cache_size=self.cache_size, coef0=self.coef0,\n    253                 gamma=self._gamma, epsilon=self.epsilon,\n--> 254                 max_iter=self.max_iter, random_seed=random_seed)\n        self.max_iter = -1\n        random_seed = 59518860\n    255 \n    256         self._warn_from_fit_status()\n    257 \n    258     def _sparse_fit(self, X, y, sample_weight, solver_type, kernel,\n\n...........................................................................\nC:\\ProgramData\\Anaconda3\\lib\\site-packages\\sklearn\\svm\\libsvm.cp36-win_amd64.pyd in sklearn.svm.libsvm.fit()\n\nMemoryError: \n___________________________________________________________________________"
     ]
    }
   ],
   "source": [
    "from sklearn.model_selection import StratifiedShuffleSplit,GroupShuffleSplit\n",
    "from scipy import stats\n",
    "\n",
    "#gss = StratifiedShuffleSplit(n_splits=2, test_size=0.3, random_state=0)\n",
    "gss = GroupShuffleSplit(n_splits=2, test_size=0.20, random_state=10)\n",
    "\n",
    "for train_index, test_index in gss.split(xData, yDataBin, groups=groups_data):\n",
    "    print(type(train_index), train_index.shape, test_index.shape)\n",
    "    print(\"TRAIN:\", train_index, \"TEST:\", test_index)\n",
    "    print(np.unique(groups_data.iloc[train_index]))\n",
    "    print(np.unique(groups_data.iloc[test_index]))\n",
    "    dt = pd.DataFrame(yDataBin[train_index])\n",
    "    print(dt[0].value_counts())\n",
    "    dte = pd.DataFrame(yDataBin[test_index])\n",
    "    print(dte[0].value_counts())\n",
    "    print()\n",
    "    print()\n",
    "    \n",
    "    search(xData.iloc[train_index,:], xData.iloc[test_index,:], \n",
    "           yDataBin[train_index], yDataBin[test_index], \n",
    "           groups_data.iloc[train_index])    "
   ]
  },
  {
   "cell_type": "code",
   "execution_count": null,
   "metadata": {
    "collapsed": true
   },
   "outputs": [],
   "source": [
    "# Split the dataset in two equal parts\n",
    "X_train, X_test, y_train, y_test = train_test_split(xData, yDataBin, test_size=0.3, random_state=0)\n",
    "\n",
    "print(X_train.shape, X_test.shape, y_train.shape, y_test.shape,\n",
    "      type(X_train.shape), type(X_test.shape), type(y_train.shape), type(y_test.shape))"
   ]
  },
  {
   "cell_type": "code",
   "execution_count": null,
   "metadata": {
    "collapsed": true,
    "scrolled": true
   },
   "outputs": [],
   "source": [
    "search(X_train, X_test, y_train, y_test)"
   ]
  },
  {
   "cell_type": "code",
   "execution_count": null,
   "metadata": {
    "collapsed": true
   },
   "outputs": [],
   "source": [
    "from sklearn.decomposition import PCA\n",
    "\n",
    "pca = PCA()\n",
    "pca.fit(nds.iloc[:,2:])\n",
    "nnds = pca.transform(nds.iloc[:,2:])"
   ]
  },
  {
   "cell_type": "code",
   "execution_count": null,
   "metadata": {
    "collapsed": true
   },
   "outputs": [],
   "source": []
  },
  {
   "cell_type": "code",
   "execution_count": null,
   "metadata": {
    "collapsed": true
   },
   "outputs": [],
   "source": []
  }
 ],
 "metadata": {
  "kernelspec": {
   "display_name": "Python 3",
   "language": "python",
   "name": "python3"
  },
  "language_info": {
   "codemirror_mode": {
    "name": "ipython",
    "version": 3
   },
   "file_extension": ".py",
   "mimetype": "text/x-python",
   "name": "python",
   "nbconvert_exporter": "python",
   "pygments_lexer": "ipython3",
   "version": "3.6.2"
  }
 },
 "nbformat": 4,
 "nbformat_minor": 2
}
