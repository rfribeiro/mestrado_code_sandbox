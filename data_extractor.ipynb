{
 "cells": [
  {
   "cell_type": "code",
   "execution_count": 1,
   "metadata": {
    "collapsed": true
   },
   "outputs": [],
   "source": [
    "%matplotlib inline\n",
    "\n",
    "import glob\n",
    "import pandas as pd\n",
    "import yaml\n",
    "import numpy as np\n",
    "import cv2\n",
    "import time"
   ]
  },
  {
   "cell_type": "code",
   "execution_count": 2,
   "metadata": {
    "collapsed": true
   },
   "outputs": [],
   "source": [
    "get_face_rect = False"
   ]
  },
  {
   "cell_type": "code",
   "execution_count": 3,
   "metadata": {
    "collapsed": true
   },
   "outputs": [],
   "source": [
    "path = '.'\n",
    "prefix = 'C:\\\\Users\\\\rafae\\\\Google Drive\\\\Mestrado_Data\\\\'\n",
    "wildcard = '\\\\*_'\n",
    "persons = [\"p{:03d}\".format(i) for i in range(1,16)]\n",
    "classes = [i for i in range(1,20)]\n",
    "suffix = '_*_{:d}.bmp'\n",
    "type = ['depth', 'ir1', 'ir2', 'rgb']"
   ]
  },
  {
   "cell_type": "code",
   "execution_count": 4,
   "metadata": {
    "collapsed": true
   },
   "outputs": [],
   "source": [
    "#p021 - class 3/4 errada"
   ]
  },
  {
   "cell_type": "code",
   "execution_count": 5,
   "metadata": {
    "collapsed": true
   },
   "outputs": [],
   "source": [
    "face_rect = [[120, 35],[120, 35], [80,35], [90, 30]]\n",
    "face_window = 180"
   ]
  },
  {
   "cell_type": "code",
   "execution_count": 6,
   "metadata": {
    "collapsed": true
   },
   "outputs": [],
   "source": [
    "def get_face_rect_default(pclass, person, data, files_list):\n",
    "    if len(files_list) >= 4:\n",
    "        sample = [pclass, person]\n",
    "        for i in range(4):\n",
    "            sample.append(files_list[i])\n",
    "            sample.append(face_rect[i][1])\n",
    "            sample.append(face_rect[i][0])\n",
    "            sample.append(face_rect[i][1]+face_window)\n",
    "            sample.append(face_rect[i][0]+face_window)\n",
    "        #print(sample)\n",
    "        data.append(sample)"
   ]
  },
  {
   "cell_type": "code",
   "execution_count": 7,
   "metadata": {
    "collapsed": true
   },
   "outputs": [],
   "source": [
    "face_cascade = cv2.CascadeClassifier('haarcascade_frontalface_default.xml')\n",
    "def get_face_rectangle_viola_jones(pclass, person, data, files_list):\n",
    "    images = []\n",
    "    if len(files_list) >= 4:\n",
    "        images = []\n",
    "        for i in range(4):\n",
    "            image = cv2.imread(files_list[i],0)\n",
    "            #print(image.shape, face_rect[i][1], face_rect[i][1]+face_window,face_rect[i][0],face_rect[i][0]+face_window)\n",
    "            \n",
    "            image = image[face_rect[i][1]:face_rect[i][1]+face_window,face_rect[i][0]:face_rect[i][0]+face_window]\n",
    "            images.append(image)\n",
    "           \n",
    "        img_concat = np.concatenate((images[0], images[1],images[2],images[3]), axis = 1)\n",
    "        \n",
    "        faces = face_cascade.detectMultiScale(images[2], 1.2,4,minSize=(60, 60), maxSize=(100, 100))\n",
    "        print(type(faces), len(faces))\n",
    "        for (x,y,w,h) in faces:\n",
    "            print(x,y,x+w,y+h,w,h )\n",
    "            cv2.rectangle(img_concat,(x,y),(x+w,y+h),(255,0,0),2)\n",
    "            \n",
    "        # save face rectangle in file\n",
    "        \n",
    "        if show_img == True:\n",
    "            cv2.imshow(pattern,img_concat)\n",
    "            cv2.waitKey(0)\n",
    "            cv2.destroyAllWindows()  \n",
    "            \n",
    "        face_rect = [[120, 35],[120, 35], [80,35], [90, 30]]"
   ]
  },
  {
   "cell_type": "code",
   "execution_count": 8,
   "metadata": {
    "collapsed": true
   },
   "outputs": [],
   "source": [
    "data = []"
   ]
  },
  {
   "cell_type": "code",
   "execution_count": 13,
   "metadata": {},
   "outputs": [
    {
     "name": "stdout",
     "output_type": "stream",
     "text": [
      "7690.941650614004\n"
     ]
    }
   ],
   "source": [
    "tic = time.clock()\n",
    "for c in classes:\n",
    "    for p in persons:\n",
    "        for i in range (1,301,30):\n",
    "            pattern = prefix + p + wildcard + str(c) + suffix.format(i)\n",
    "            files_list = glob.glob(pattern)\n",
    "            #print(pattern, len(files_list), files_list)\n",
    "            \n",
    "            if len(files_list) > 0:\n",
    "                if get_face_rect == True:\n",
    "                    get_face_rectangle_viola_jones(c, p, data, files_list)\n",
    "                else:\n",
    "                    get_face_rect_default(c, p, data, files_list)     \n",
    "print(time.clock() - tic)"
   ]
  },
  {
   "cell_type": "code",
   "execution_count": 14,
   "metadata": {},
   "outputs": [
    {
     "name": "stdout",
     "output_type": "stream",
     "text": [
      "66715\n"
     ]
    }
   ],
   "source": [
    "print(len(data))"
   ]
  },
  {
   "cell_type": "code",
   "execution_count": 15,
   "metadata": {
    "collapsed": true
   },
   "outputs": [],
   "source": [
    "# save file\n",
    "df = pd.DataFrame(data, columns = ['class','person', \n",
    "                                   'depfile_path','depxs', 'depys', 'depxe','depye',\n",
    "                                   'ir1file_path','ir1xs', 'ir1ys', 'ir1xe','ir1ye',\n",
    "                                   'ir2file_path','ir2xs', 'ir2ys', 'ir2xe','ir2ye',\n",
    "                                   'rgbfile_path','rgbxs', 'rgbys', 'rgbxe','rgbye'])\n",
    "filename = 'training.csv'\n",
    "df.to_csv(filename, index=False, encoding='utf-8')"
   ]
  },
  {
   "cell_type": "code",
   "execution_count": 16,
   "metadata": {},
   "outputs": [
    {
     "data": {
      "text/html": [
       "<div>\n",
       "<table border=\"1\" class=\"dataframe\">\n",
       "  <thead>\n",
       "    <tr style=\"text-align: right;\">\n",
       "      <th></th>\n",
       "      <th>class</th>\n",
       "      <th>person</th>\n",
       "      <th>depfile_path</th>\n",
       "      <th>depxs</th>\n",
       "      <th>depys</th>\n",
       "      <th>depxe</th>\n",
       "      <th>depye</th>\n",
       "      <th>ir1file_path</th>\n",
       "      <th>ir1xs</th>\n",
       "      <th>ir1ys</th>\n",
       "      <th>...</th>\n",
       "      <th>ir2file_path</th>\n",
       "      <th>ir2xs</th>\n",
       "      <th>ir2ys</th>\n",
       "      <th>ir2xe</th>\n",
       "      <th>ir2ye</th>\n",
       "      <th>rgbfile_path</th>\n",
       "      <th>rgbxs</th>\n",
       "      <th>rgbys</th>\n",
       "      <th>rgbxe</th>\n",
       "      <th>rgbye</th>\n",
       "    </tr>\n",
       "  </thead>\n",
       "  <tbody>\n",
       "    <tr>\n",
       "      <th>0</th>\n",
       "      <td>1</td>\n",
       "      <td>p002</td>\n",
       "      <td>C:\\Users\\rafae\\Google Drive\\Mestrado_Data\\p002...</td>\n",
       "      <td>35</td>\n",
       "      <td>120</td>\n",
       "      <td>215</td>\n",
       "      <td>300</td>\n",
       "      <td>C:\\Users\\rafae\\Google Drive\\Mestrado_Data\\p002...</td>\n",
       "      <td>35</td>\n",
       "      <td>120</td>\n",
       "      <td>...</td>\n",
       "      <td>C:\\Users\\rafae\\Google Drive\\Mestrado_Data\\p002...</td>\n",
       "      <td>35</td>\n",
       "      <td>80</td>\n",
       "      <td>215</td>\n",
       "      <td>260</td>\n",
       "      <td>C:\\Users\\rafae\\Google Drive\\Mestrado_Data\\p002...</td>\n",
       "      <td>30</td>\n",
       "      <td>90</td>\n",
       "      <td>210</td>\n",
       "      <td>270</td>\n",
       "    </tr>\n",
       "    <tr>\n",
       "      <th>1</th>\n",
       "      <td>1</td>\n",
       "      <td>p002</td>\n",
       "      <td>C:\\Users\\rafae\\Google Drive\\Mestrado_Data\\p002...</td>\n",
       "      <td>35</td>\n",
       "      <td>120</td>\n",
       "      <td>215</td>\n",
       "      <td>300</td>\n",
       "      <td>C:\\Users\\rafae\\Google Drive\\Mestrado_Data\\p002...</td>\n",
       "      <td>35</td>\n",
       "      <td>120</td>\n",
       "      <td>...</td>\n",
       "      <td>C:\\Users\\rafae\\Google Drive\\Mestrado_Data\\p002...</td>\n",
       "      <td>35</td>\n",
       "      <td>80</td>\n",
       "      <td>215</td>\n",
       "      <td>260</td>\n",
       "      <td>C:\\Users\\rafae\\Google Drive\\Mestrado_Data\\p002...</td>\n",
       "      <td>30</td>\n",
       "      <td>90</td>\n",
       "      <td>210</td>\n",
       "      <td>270</td>\n",
       "    </tr>\n",
       "    <tr>\n",
       "      <th>2</th>\n",
       "      <td>1</td>\n",
       "      <td>p002</td>\n",
       "      <td>C:\\Users\\rafae\\Google Drive\\Mestrado_Data\\p002...</td>\n",
       "      <td>35</td>\n",
       "      <td>120</td>\n",
       "      <td>215</td>\n",
       "      <td>300</td>\n",
       "      <td>C:\\Users\\rafae\\Google Drive\\Mestrado_Data\\p002...</td>\n",
       "      <td>35</td>\n",
       "      <td>120</td>\n",
       "      <td>...</td>\n",
       "      <td>C:\\Users\\rafae\\Google Drive\\Mestrado_Data\\p002...</td>\n",
       "      <td>35</td>\n",
       "      <td>80</td>\n",
       "      <td>215</td>\n",
       "      <td>260</td>\n",
       "      <td>C:\\Users\\rafae\\Google Drive\\Mestrado_Data\\p002...</td>\n",
       "      <td>30</td>\n",
       "      <td>90</td>\n",
       "      <td>210</td>\n",
       "      <td>270</td>\n",
       "    </tr>\n",
       "    <tr>\n",
       "      <th>3</th>\n",
       "      <td>1</td>\n",
       "      <td>p002</td>\n",
       "      <td>C:\\Users\\rafae\\Google Drive\\Mestrado_Data\\p002...</td>\n",
       "      <td>35</td>\n",
       "      <td>120</td>\n",
       "      <td>215</td>\n",
       "      <td>300</td>\n",
       "      <td>C:\\Users\\rafae\\Google Drive\\Mestrado_Data\\p002...</td>\n",
       "      <td>35</td>\n",
       "      <td>120</td>\n",
       "      <td>...</td>\n",
       "      <td>C:\\Users\\rafae\\Google Drive\\Mestrado_Data\\p002...</td>\n",
       "      <td>35</td>\n",
       "      <td>80</td>\n",
       "      <td>215</td>\n",
       "      <td>260</td>\n",
       "      <td>C:\\Users\\rafae\\Google Drive\\Mestrado_Data\\p002...</td>\n",
       "      <td>30</td>\n",
       "      <td>90</td>\n",
       "      <td>210</td>\n",
       "      <td>270</td>\n",
       "    </tr>\n",
       "    <tr>\n",
       "      <th>4</th>\n",
       "      <td>1</td>\n",
       "      <td>p002</td>\n",
       "      <td>C:\\Users\\rafae\\Google Drive\\Mestrado_Data\\p002...</td>\n",
       "      <td>35</td>\n",
       "      <td>120</td>\n",
       "      <td>215</td>\n",
       "      <td>300</td>\n",
       "      <td>C:\\Users\\rafae\\Google Drive\\Mestrado_Data\\p002...</td>\n",
       "      <td>35</td>\n",
       "      <td>120</td>\n",
       "      <td>...</td>\n",
       "      <td>C:\\Users\\rafae\\Google Drive\\Mestrado_Data\\p002...</td>\n",
       "      <td>35</td>\n",
       "      <td>80</td>\n",
       "      <td>215</td>\n",
       "      <td>260</td>\n",
       "      <td>C:\\Users\\rafae\\Google Drive\\Mestrado_Data\\p002...</td>\n",
       "      <td>30</td>\n",
       "      <td>90</td>\n",
       "      <td>210</td>\n",
       "      <td>270</td>\n",
       "    </tr>\n",
       "  </tbody>\n",
       "</table>\n",
       "<p>5 rows × 22 columns</p>\n",
       "</div>"
      ],
      "text/plain": [
       "   class person                                       depfile_path  depxs  \\\n",
       "0      1   p002  C:\\Users\\rafae\\Google Drive\\Mestrado_Data\\p002...     35   \n",
       "1      1   p002  C:\\Users\\rafae\\Google Drive\\Mestrado_Data\\p002...     35   \n",
       "2      1   p002  C:\\Users\\rafae\\Google Drive\\Mestrado_Data\\p002...     35   \n",
       "3      1   p002  C:\\Users\\rafae\\Google Drive\\Mestrado_Data\\p002...     35   \n",
       "4      1   p002  C:\\Users\\rafae\\Google Drive\\Mestrado_Data\\p002...     35   \n",
       "\n",
       "   depys  depxe  depye                                       ir1file_path  \\\n",
       "0    120    215    300  C:\\Users\\rafae\\Google Drive\\Mestrado_Data\\p002...   \n",
       "1    120    215    300  C:\\Users\\rafae\\Google Drive\\Mestrado_Data\\p002...   \n",
       "2    120    215    300  C:\\Users\\rafae\\Google Drive\\Mestrado_Data\\p002...   \n",
       "3    120    215    300  C:\\Users\\rafae\\Google Drive\\Mestrado_Data\\p002...   \n",
       "4    120    215    300  C:\\Users\\rafae\\Google Drive\\Mestrado_Data\\p002...   \n",
       "\n",
       "   ir1xs  ir1ys  ...                                         ir2file_path  \\\n",
       "0     35    120  ...    C:\\Users\\rafae\\Google Drive\\Mestrado_Data\\p002...   \n",
       "1     35    120  ...    C:\\Users\\rafae\\Google Drive\\Mestrado_Data\\p002...   \n",
       "2     35    120  ...    C:\\Users\\rafae\\Google Drive\\Mestrado_Data\\p002...   \n",
       "3     35    120  ...    C:\\Users\\rafae\\Google Drive\\Mestrado_Data\\p002...   \n",
       "4     35    120  ...    C:\\Users\\rafae\\Google Drive\\Mestrado_Data\\p002...   \n",
       "\n",
       "   ir2xs ir2ys  ir2xe  ir2ye  \\\n",
       "0     35    80    215    260   \n",
       "1     35    80    215    260   \n",
       "2     35    80    215    260   \n",
       "3     35    80    215    260   \n",
       "4     35    80    215    260   \n",
       "\n",
       "                                        rgbfile_path  rgbxs rgbys  rgbxe  \\\n",
       "0  C:\\Users\\rafae\\Google Drive\\Mestrado_Data\\p002...     30    90    210   \n",
       "1  C:\\Users\\rafae\\Google Drive\\Mestrado_Data\\p002...     30    90    210   \n",
       "2  C:\\Users\\rafae\\Google Drive\\Mestrado_Data\\p002...     30    90    210   \n",
       "3  C:\\Users\\rafae\\Google Drive\\Mestrado_Data\\p002...     30    90    210   \n",
       "4  C:\\Users\\rafae\\Google Drive\\Mestrado_Data\\p002...     30    90    210   \n",
       "\n",
       "   rgbye  \n",
       "0    270  \n",
       "1    270  \n",
       "2    270  \n",
       "3    270  \n",
       "4    270  \n",
       "\n",
       "[5 rows x 22 columns]"
      ]
     },
     "execution_count": 16,
     "metadata": {},
     "output_type": "execute_result"
    }
   ],
   "source": [
    "df.head()"
   ]
  },
  {
   "cell_type": "code",
   "execution_count": 17,
   "metadata": {},
   "outputs": [
    {
     "data": {
      "text/plain": [
       "(66715, 22)"
      ]
     },
     "execution_count": 17,
     "metadata": {},
     "output_type": "execute_result"
    }
   ],
   "source": [
    "df.shape"
   ]
  },
  {
   "cell_type": "code",
   "execution_count": null,
   "metadata": {
    "collapsed": true
   },
   "outputs": [],
   "source": []
  },
  {
   "cell_type": "code",
   "execution_count": null,
   "metadata": {
    "collapsed": true
   },
   "outputs": [],
   "source": []
  }
 ],
 "metadata": {
  "kernelspec": {
   "display_name": "Python 3",
   "language": "python",
   "name": "python3"
  },
  "language_info": {
   "codemirror_mode": {
    "name": "ipython",
    "version": 3
   },
   "file_extension": ".py",
   "mimetype": "text/x-python",
   "name": "python",
   "nbconvert_exporter": "python",
   "pygments_lexer": "ipython3",
   "version": "3.6.3"
  }
 },
 "nbformat": 4,
 "nbformat_minor": 2
}
