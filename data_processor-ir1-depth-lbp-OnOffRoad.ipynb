{
 "cells": [
  {
   "cell_type": "code",
   "execution_count": 1,
   "metadata": {
    "collapsed": true
   },
   "outputs": [],
   "source": [
    "import time\n",
    "import glob\n",
    "import pandas as pd\n",
    "import numpy as np\n",
    "import matplotlib.pyplot as plt\n",
    "\n",
    "%matplotlib inline"
   ]
  },
  {
   "cell_type": "code",
   "execution_count": 2,
   "metadata": {
    "collapsed": true
   },
   "outputs": [],
   "source": [
    "from sklearn.ensemble import VotingClassifier\n",
    "from sklearn.svm import SVC\n",
    "from sklearn.ensemble import RandomForestClassifier\n",
    "from sklearn.svm import LinearSVC\n",
    "from sklearn import preprocessing\n",
    "from sklearn.naive_bayes import GaussianNB\n",
    "from sklearn.neural_network import BernoulliRBM\n",
    "from sklearn.pipeline import Pipeline\n",
    "from sklearn.model_selection import GridSearchCV\n",
    "from sklearn.model_selection import train_test_split\n",
    "from sklearn.metrics import classification_report\n",
    "from sklearn.ensemble import GradientBoostingClassifier\n",
    "from sklearn.neighbors import KNeighborsClassifier\n",
    "\n",
    "from sklearn.preprocessing import LabelBinarizer"
   ]
  },
  {
   "cell_type": "code",
   "execution_count": 3,
   "metadata": {
    "collapsed": true
   },
   "outputs": [],
   "source": [
    "shift = 4320\n",
    "shift_lbp = 26"
   ]
  },
  {
   "cell_type": "code",
   "execution_count": 4,
   "metadata": {
    "collapsed": true
   },
   "outputs": [],
   "source": [
    "hog_features = 'C:\\\\Users\\\\rafae\\\\Desktop\\\\Coleta\\\\features\\\\features_hog_*.csv'\n",
    "lbp_features = 'C:\\\\Users\\\\rafae\\\\Desktop\\\\Coleta\\\\features\\\\features_lbp_*.csv'"
   ]
  },
  {
   "cell_type": "code",
   "execution_count": 5,
   "metadata": {},
   "outputs": [
    {
     "name": "stdout",
     "output_type": "stream",
     "text": [
      "513\n",
      "513\n"
     ]
    }
   ],
   "source": [
    "hog_files_list = glob.glob(hog_features)\n",
    "print(len(hog_files_list))\n",
    "\n",
    "lbp_files_list = glob.glob(lbp_features)\n",
    "print(len(lbp_files_list))"
   ]
  },
  {
   "cell_type": "code",
   "execution_count": 6,
   "metadata": {},
   "outputs": [
    {
     "data": {
      "text/plain": [
       "513"
      ]
     },
     "execution_count": 6,
     "metadata": {},
     "output_type": "execute_result"
    }
   ],
   "source": [
    "# read features\n",
    "frames = [pd.read_csv(f, header=0) for f in hog_files_list ]\n",
    "len(frames)\n",
    "\n",
    "# read features\n",
    "lbp = [pd.read_csv(f, header=0) for f in lbp_files_list ]\n",
    "len(lbp)"
   ]
  },
  {
   "cell_type": "code",
   "execution_count": 7,
   "metadata": {
    "collapsed": true
   },
   "outputs": [],
   "source": [
    "ds = pd.concat(frames)\n",
    "ds_lbp = pd.concat(lbp)"
   ]
  },
  {
   "cell_type": "code",
   "execution_count": 8,
   "metadata": {},
   "outputs": [
    {
     "name": "stdout",
     "output_type": "stream",
     "text": [
      "(7680, 17282) (7680, 106)\n"
     ]
    }
   ],
   "source": [
    "print(ds.shape, ds_lbp.shape)"
   ]
  },
  {
   "cell_type": "code",
   "execution_count": 9,
   "metadata": {},
   "outputs": [
    {
     "data": {
      "text/html": [
       "<div>\n",
       "<style>\n",
       "    .dataframe thead tr:only-child th {\n",
       "        text-align: right;\n",
       "    }\n",
       "\n",
       "    .dataframe thead th {\n",
       "        text-align: left;\n",
       "    }\n",
       "\n",
       "    .dataframe tbody tr th {\n",
       "        vertical-align: top;\n",
       "    }\n",
       "</style>\n",
       "<table border=\"1\" class=\"dataframe\">\n",
       "  <thead>\n",
       "    <tr style=\"text-align: right;\">\n",
       "      <th></th>\n",
       "      <th>0</th>\n",
       "      <th>1</th>\n",
       "      <th>2</th>\n",
       "      <th>3</th>\n",
       "      <th>4</th>\n",
       "      <th>5</th>\n",
       "      <th>6</th>\n",
       "      <th>7</th>\n",
       "      <th>8</th>\n",
       "      <th>9</th>\n",
       "      <th>...</th>\n",
       "      <th>17272</th>\n",
       "      <th>17273</th>\n",
       "      <th>17274</th>\n",
       "      <th>17275</th>\n",
       "      <th>17276</th>\n",
       "      <th>17277</th>\n",
       "      <th>17278</th>\n",
       "      <th>17279</th>\n",
       "      <th>17280</th>\n",
       "      <th>17281</th>\n",
       "    </tr>\n",
       "  </thead>\n",
       "  <tbody>\n",
       "    <tr>\n",
       "      <th>0</th>\n",
       "      <td>1</td>\n",
       "      <td>p002</td>\n",
       "      <td>NaN</td>\n",
       "      <td>NaN</td>\n",
       "      <td>NaN</td>\n",
       "      <td>NaN</td>\n",
       "      <td>NaN</td>\n",
       "      <td>NaN</td>\n",
       "      <td>NaN</td>\n",
       "      <td>NaN</td>\n",
       "      <td>...</td>\n",
       "      <td>0.071793</td>\n",
       "      <td>0.090339</td>\n",
       "      <td>0.127822</td>\n",
       "      <td>0.127822</td>\n",
       "      <td>0.042653</td>\n",
       "      <td>0.053141</td>\n",
       "      <td>0.059538</td>\n",
       "      <td>0.003019</td>\n",
       "      <td>0.019839</td>\n",
       "      <td>0.127822</td>\n",
       "    </tr>\n",
       "    <tr>\n",
       "      <th>1</th>\n",
       "      <td>1</td>\n",
       "      <td>p002</td>\n",
       "      <td>NaN</td>\n",
       "      <td>NaN</td>\n",
       "      <td>NaN</td>\n",
       "      <td>NaN</td>\n",
       "      <td>NaN</td>\n",
       "      <td>NaN</td>\n",
       "      <td>NaN</td>\n",
       "      <td>NaN</td>\n",
       "      <td>...</td>\n",
       "      <td>0.069514</td>\n",
       "      <td>0.119957</td>\n",
       "      <td>0.119957</td>\n",
       "      <td>0.119957</td>\n",
       "      <td>0.024254</td>\n",
       "      <td>0.051084</td>\n",
       "      <td>0.053452</td>\n",
       "      <td>0.014108</td>\n",
       "      <td>0.010533</td>\n",
       "      <td>0.119957</td>\n",
       "    </tr>\n",
       "    <tr>\n",
       "      <th>2</th>\n",
       "      <td>1</td>\n",
       "      <td>p002</td>\n",
       "      <td>NaN</td>\n",
       "      <td>NaN</td>\n",
       "      <td>NaN</td>\n",
       "      <td>NaN</td>\n",
       "      <td>NaN</td>\n",
       "      <td>NaN</td>\n",
       "      <td>NaN</td>\n",
       "      <td>NaN</td>\n",
       "      <td>...</td>\n",
       "      <td>0.103166</td>\n",
       "      <td>0.037546</td>\n",
       "      <td>0.044686</td>\n",
       "      <td>0.122575</td>\n",
       "      <td>0.033838</td>\n",
       "      <td>0.104095</td>\n",
       "      <td>0.087389</td>\n",
       "      <td>0.003405</td>\n",
       "      <td>0.009884</td>\n",
       "      <td>0.017647</td>\n",
       "    </tr>\n",
       "    <tr>\n",
       "      <th>3</th>\n",
       "      <td>1</td>\n",
       "      <td>p002</td>\n",
       "      <td>NaN</td>\n",
       "      <td>NaN</td>\n",
       "      <td>NaN</td>\n",
       "      <td>NaN</td>\n",
       "      <td>NaN</td>\n",
       "      <td>NaN</td>\n",
       "      <td>NaN</td>\n",
       "      <td>NaN</td>\n",
       "      <td>...</td>\n",
       "      <td>0.132490</td>\n",
       "      <td>0.091092</td>\n",
       "      <td>0.132490</td>\n",
       "      <td>0.123109</td>\n",
       "      <td>0.038147</td>\n",
       "      <td>0.132490</td>\n",
       "      <td>0.132490</td>\n",
       "      <td>0.050142</td>\n",
       "      <td>0.042432</td>\n",
       "      <td>0.028560</td>\n",
       "    </tr>\n",
       "    <tr>\n",
       "      <th>4</th>\n",
       "      <td>1</td>\n",
       "      <td>p002</td>\n",
       "      <td>NaN</td>\n",
       "      <td>NaN</td>\n",
       "      <td>NaN</td>\n",
       "      <td>NaN</td>\n",
       "      <td>NaN</td>\n",
       "      <td>NaN</td>\n",
       "      <td>NaN</td>\n",
       "      <td>NaN</td>\n",
       "      <td>...</td>\n",
       "      <td>0.052366</td>\n",
       "      <td>0.038015</td>\n",
       "      <td>0.034714</td>\n",
       "      <td>0.061695</td>\n",
       "      <td>0.040908</td>\n",
       "      <td>0.070168</td>\n",
       "      <td>0.032586</td>\n",
       "      <td>0.004734</td>\n",
       "      <td>0.009425</td>\n",
       "      <td>0.023819</td>\n",
       "    </tr>\n",
       "  </tbody>\n",
       "</table>\n",
       "<p>5 rows × 17282 columns</p>\n",
       "</div>"
      ],
      "text/plain": [
       "   0     1   2   3   4   5   6   7   8   9    ...        17272     17273  \\\n",
       "0  1  p002 NaN NaN NaN NaN NaN NaN NaN NaN    ...     0.071793  0.090339   \n",
       "1  1  p002 NaN NaN NaN NaN NaN NaN NaN NaN    ...     0.069514  0.119957   \n",
       "2  1  p002 NaN NaN NaN NaN NaN NaN NaN NaN    ...     0.103166  0.037546   \n",
       "3  1  p002 NaN NaN NaN NaN NaN NaN NaN NaN    ...     0.132490  0.091092   \n",
       "4  1  p002 NaN NaN NaN NaN NaN NaN NaN NaN    ...     0.052366  0.038015   \n",
       "\n",
       "      17274     17275     17276     17277     17278     17279     17280  \\\n",
       "0  0.127822  0.127822  0.042653  0.053141  0.059538  0.003019  0.019839   \n",
       "1  0.119957  0.119957  0.024254  0.051084  0.053452  0.014108  0.010533   \n",
       "2  0.044686  0.122575  0.033838  0.104095  0.087389  0.003405  0.009884   \n",
       "3  0.132490  0.123109  0.038147  0.132490  0.132490  0.050142  0.042432   \n",
       "4  0.034714  0.061695  0.040908  0.070168  0.032586  0.004734  0.009425   \n",
       "\n",
       "      17281  \n",
       "0  0.127822  \n",
       "1  0.119957  \n",
       "2  0.017647  \n",
       "3  0.028560  \n",
       "4  0.023819  \n",
       "\n",
       "[5 rows x 17282 columns]"
      ]
     },
     "execution_count": 9,
     "metadata": {},
     "output_type": "execute_result"
    }
   ],
   "source": [
    "ds.head()"
   ]
  },
  {
   "cell_type": "code",
   "execution_count": 10,
   "metadata": {},
   "outputs": [
    {
     "data": {
      "text/html": [
       "<div>\n",
       "<style>\n",
       "    .dataframe thead tr:only-child th {\n",
       "        text-align: right;\n",
       "    }\n",
       "\n",
       "    .dataframe thead th {\n",
       "        text-align: left;\n",
       "    }\n",
       "\n",
       "    .dataframe tbody tr th {\n",
       "        vertical-align: top;\n",
       "    }\n",
       "</style>\n",
       "<table border=\"1\" class=\"dataframe\">\n",
       "  <thead>\n",
       "    <tr style=\"text-align: right;\">\n",
       "      <th></th>\n",
       "      <th>0</th>\n",
       "      <th>1</th>\n",
       "      <th>2</th>\n",
       "      <th>3</th>\n",
       "      <th>4</th>\n",
       "      <th>5</th>\n",
       "      <th>6</th>\n",
       "      <th>7</th>\n",
       "      <th>8</th>\n",
       "      <th>9</th>\n",
       "      <th>...</th>\n",
       "      <th>96</th>\n",
       "      <th>97</th>\n",
       "      <th>98</th>\n",
       "      <th>99</th>\n",
       "      <th>100</th>\n",
       "      <th>101</th>\n",
       "      <th>102</th>\n",
       "      <th>103</th>\n",
       "      <th>104</th>\n",
       "      <th>105</th>\n",
       "    </tr>\n",
       "  </thead>\n",
       "  <tbody>\n",
       "    <tr>\n",
       "      <th>0</th>\n",
       "      <td>1</td>\n",
       "      <td>p002</td>\n",
       "      <td>0.020651</td>\n",
       "      <td>0.014532</td>\n",
       "      <td>0.015844</td>\n",
       "      <td>0.012784</td>\n",
       "      <td>0.009943</td>\n",
       "      <td>0.016499</td>\n",
       "      <td>0.015188</td>\n",
       "      <td>0.017920</td>\n",
       "      <td>...</td>\n",
       "      <td>0.018029</td>\n",
       "      <td>0.021416</td>\n",
       "      <td>0.011691</td>\n",
       "      <td>0.012019</td>\n",
       "      <td>0.010599</td>\n",
       "      <td>0.009943</td>\n",
       "      <td>0.013221</td>\n",
       "      <td>0.014751</td>\n",
       "      <td>0.045892</td>\n",
       "      <td>0.235468</td>\n",
       "    </tr>\n",
       "    <tr>\n",
       "      <th>1</th>\n",
       "      <td>1</td>\n",
       "      <td>p002</td>\n",
       "      <td>0.017373</td>\n",
       "      <td>0.017045</td>\n",
       "      <td>0.014532</td>\n",
       "      <td>0.013003</td>\n",
       "      <td>0.011910</td>\n",
       "      <td>0.012128</td>\n",
       "      <td>0.011473</td>\n",
       "      <td>0.011910</td>\n",
       "      <td>...</td>\n",
       "      <td>0.018466</td>\n",
       "      <td>0.019777</td>\n",
       "      <td>0.011145</td>\n",
       "      <td>0.011582</td>\n",
       "      <td>0.011254</td>\n",
       "      <td>0.010599</td>\n",
       "      <td>0.010927</td>\n",
       "      <td>0.015188</td>\n",
       "      <td>0.048733</td>\n",
       "      <td>0.236233</td>\n",
       "    </tr>\n",
       "    <tr>\n",
       "      <th>2</th>\n",
       "      <td>1</td>\n",
       "      <td>p002</td>\n",
       "      <td>0.020542</td>\n",
       "      <td>0.014969</td>\n",
       "      <td>0.011582</td>\n",
       "      <td>0.013986</td>\n",
       "      <td>0.012566</td>\n",
       "      <td>0.014095</td>\n",
       "      <td>0.014423</td>\n",
       "      <td>0.015406</td>\n",
       "      <td>...</td>\n",
       "      <td>0.017373</td>\n",
       "      <td>0.018684</td>\n",
       "      <td>0.010490</td>\n",
       "      <td>0.012238</td>\n",
       "      <td>0.012456</td>\n",
       "      <td>0.010599</td>\n",
       "      <td>0.012566</td>\n",
       "      <td>0.014969</td>\n",
       "      <td>0.050153</td>\n",
       "      <td>0.231206</td>\n",
       "    </tr>\n",
       "    <tr>\n",
       "      <th>3</th>\n",
       "      <td>1</td>\n",
       "      <td>p002</td>\n",
       "      <td>0.022509</td>\n",
       "      <td>0.014095</td>\n",
       "      <td>0.013658</td>\n",
       "      <td>0.012456</td>\n",
       "      <td>0.011364</td>\n",
       "      <td>0.011801</td>\n",
       "      <td>0.010380</td>\n",
       "      <td>0.018138</td>\n",
       "      <td>...</td>\n",
       "      <td>0.019122</td>\n",
       "      <td>0.019777</td>\n",
       "      <td>0.010271</td>\n",
       "      <td>0.012456</td>\n",
       "      <td>0.011145</td>\n",
       "      <td>0.010052</td>\n",
       "      <td>0.014642</td>\n",
       "      <td>0.013330</td>\n",
       "      <td>0.052557</td>\n",
       "      <td>0.228475</td>\n",
       "    </tr>\n",
       "    <tr>\n",
       "      <th>4</th>\n",
       "      <td>1</td>\n",
       "      <td>p002</td>\n",
       "      <td>0.019012</td>\n",
       "      <td>0.011364</td>\n",
       "      <td>0.015406</td>\n",
       "      <td>0.012675</td>\n",
       "      <td>0.011254</td>\n",
       "      <td>0.014095</td>\n",
       "      <td>0.015188</td>\n",
       "      <td>0.017045</td>\n",
       "      <td>...</td>\n",
       "      <td>0.017373</td>\n",
       "      <td>0.020323</td>\n",
       "      <td>0.012675</td>\n",
       "      <td>0.011364</td>\n",
       "      <td>0.012893</td>\n",
       "      <td>0.012019</td>\n",
       "      <td>0.012893</td>\n",
       "      <td>0.015079</td>\n",
       "      <td>0.049934</td>\n",
       "      <td>0.220061</td>\n",
       "    </tr>\n",
       "  </tbody>\n",
       "</table>\n",
       "<p>5 rows × 106 columns</p>\n",
       "</div>"
      ],
      "text/plain": [
       "   0     1         2         3         4         5         6         7  \\\n",
       "0  1  p002  0.020651  0.014532  0.015844  0.012784  0.009943  0.016499   \n",
       "1  1  p002  0.017373  0.017045  0.014532  0.013003  0.011910  0.012128   \n",
       "2  1  p002  0.020542  0.014969  0.011582  0.013986  0.012566  0.014095   \n",
       "3  1  p002  0.022509  0.014095  0.013658  0.012456  0.011364  0.011801   \n",
       "4  1  p002  0.019012  0.011364  0.015406  0.012675  0.011254  0.014095   \n",
       "\n",
       "          8         9    ...           96        97        98        99  \\\n",
       "0  0.015188  0.017920    ...     0.018029  0.021416  0.011691  0.012019   \n",
       "1  0.011473  0.011910    ...     0.018466  0.019777  0.011145  0.011582   \n",
       "2  0.014423  0.015406    ...     0.017373  0.018684  0.010490  0.012238   \n",
       "3  0.010380  0.018138    ...     0.019122  0.019777  0.010271  0.012456   \n",
       "4  0.015188  0.017045    ...     0.017373  0.020323  0.012675  0.011364   \n",
       "\n",
       "        100       101       102       103       104       105  \n",
       "0  0.010599  0.009943  0.013221  0.014751  0.045892  0.235468  \n",
       "1  0.011254  0.010599  0.010927  0.015188  0.048733  0.236233  \n",
       "2  0.012456  0.010599  0.012566  0.014969  0.050153  0.231206  \n",
       "3  0.011145  0.010052  0.014642  0.013330  0.052557  0.228475  \n",
       "4  0.012893  0.012019  0.012893  0.015079  0.049934  0.220061  \n",
       "\n",
       "[5 rows x 106 columns]"
      ]
     },
     "execution_count": 10,
     "metadata": {},
     "output_type": "execute_result"
    }
   ],
   "source": [
    "ds_lbp.head()"
   ]
  },
  {
   "cell_type": "code",
   "execution_count": 11,
   "metadata": {},
   "outputs": [
    {
     "name": "stdout",
     "output_type": "stream",
     "text": [
      "False    6105\n",
      "True     1575\n",
      "Name: 0, dtype: int64\n"
     ]
    }
   ],
   "source": [
    "# convert points do binary Eyes ON or OFF Road\n",
    "on_road_points = [13, 14, 16, 17]\n",
    "on_off_road_bit = np.where(ds['0'].isin(on_road_points), 1,0)\n",
    "print(ds['0'].isin(on_road_points).value_counts())"
   ]
  },
  {
   "cell_type": "code",
   "execution_count": 12,
   "metadata": {
    "collapsed": true
   },
   "outputs": [],
   "source": [
    "yData = on_off_road_bit"
   ]
  },
  {
   "cell_type": "code",
   "execution_count": 25,
   "metadata": {
    "collapsed": true
   },
   "outputs": [],
   "source": [
    "xData = pd.concat([ds.iloc[:,2+shift:2+shift+shift], ds_lbp.iloc[:,2:2+shift_lbp]], axis=1)"
   ]
  },
  {
   "cell_type": "code",
   "execution_count": 26,
   "metadata": {},
   "outputs": [
    {
     "data": {
      "text/plain": [
       "(7680, 4346)"
      ]
     },
     "execution_count": 26,
     "metadata": {},
     "output_type": "execute_result"
    }
   ],
   "source": [
    "xData.shape"
   ]
  },
  {
   "cell_type": "code",
   "execution_count": 27,
   "metadata": {},
   "outputs": [
    {
     "data": {
      "text/plain": [
       "0"
      ]
     },
     "execution_count": 27,
     "metadata": {},
     "output_type": "execute_result"
    }
   ],
   "source": [
    "yData[20]"
   ]
  },
  {
   "cell_type": "code",
   "execution_count": 28,
   "metadata": {},
   "outputs": [
    {
     "name": "stdout",
     "output_type": "stream",
     "text": [
      "(7680,) (7680, 4346) <class 'numpy.ndarray'> <class 'pandas.core.frame.DataFrame'>\n"
     ]
    }
   ],
   "source": [
    "print(yData.shape, xData.shape, type(yData), type(xData))"
   ]
  },
  {
   "cell_type": "code",
   "execution_count": 29,
   "metadata": {
    "collapsed": true
   },
   "outputs": [],
   "source": [
    "from sklearn.metrics import confusion_matrix\n",
    "\n",
    "def plot_confusion_matrix(cm, title='Confusion matrix', cmap=plt.cm.Blues):\n",
    "    plt.imshow(cm, interpolation='nearest', cmap=cmap)\n",
    "    plt.title(title)\n",
    "    plt.colorbar()\n",
    "    tick_marks = np.arange(2)\n",
    "    plt.xticks(tick_marks, rotation=45)\n",
    "    plt.yticks(tick_marks)\n",
    "    plt.tight_layout()\n",
    "    plt.ylabel('True label')\n",
    "    plt.xlabel('Predicted label')"
   ]
  },
  {
   "cell_type": "code",
   "execution_count": 30,
   "metadata": {},
   "outputs": [],
   "source": [
    "from sklearn.metrics import confusion_matrix\n",
    "from sklearn.metrics import classification_report, accuracy_score\n",
    "from sklearn import cross_validation\n",
    "\n",
    "# Compute confusion matrix\n",
    "def plot_confusion(yTest, yTestPred, name):\n",
    "    cm = confusion_matrix(yTest, yTestPred)\n",
    "    np.set_printoptions(precision=2)\n",
    "\n",
    "    # Normalize the confusion matrix by row (i.e by the number of samples in each class)\n",
    "    cm_normalized = (cm.astype('float') / cm.sum(axis=1)[:, np.newaxis])*100\n",
    "    print('Classification report')\n",
    "    print(classification_report(yTest, yTestPred))\n",
    "    print('Normalized confusion matrix')\n",
    "    print(cm_normalized)\n",
    "    plt.figure(figsize=(5, 5))\n",
    "    plot_confusion_matrix(cm_normalized, title='Normalized confusion matrix (%s)' % (name))\n",
    "\n",
    "    plt.show()\n",
    "    # plot confusion matrix"
   ]
  },
  {
   "cell_type": "code",
   "execution_count": 31,
   "metadata": {
    "collapsed": true
   },
   "outputs": [],
   "source": [
    "from sklearn.metrics import make_scorer,precision_recall_fscore_support\n",
    "\n",
    "def search(X_train, X_test, y_train, y_test, group_data_train):\n",
    "    \n",
    "    # normalize data\n",
    "    print(\"Normalizing data!\")\n",
    "    stdScale = preprocessing.StandardScaler().fit(X_train)\n",
    "    xTrain = stdScale.transform(X_train)\n",
    "    xTest = stdScale.transform(X_test)\n",
    "    \n",
    "    print(\"Grid Search Classifiers!\")\n",
    "    \n",
    "    knc = KNeighborsClassifier()\n",
    "    svc = SVC()\n",
    "    rfc = RandomForestClassifier()\n",
    "    gb = GradientBoostingClassifier(n_estimators=100, learning_rate=1.0,max_depth=1, random_state=0)\n",
    "    clf1 = SVC()\n",
    "    clf2 = RandomForestClassifier(random_state=1)\n",
    "    clf3 = GaussianNB()\n",
    "    vt = VotingClassifier(estimators=[('svc', clf1), ('rf', clf2), ('gnb', clf3)], voting='hard')\n",
    "\n",
    "    kncp = [{'n_neighbors': [3, 5, 7, 10],\n",
    "             'weights': ['uniform','distance'],\n",
    "              'algorithm': ['auto','kd_tree']}]\n",
    "    svcp = [{'kernel': ['rbf'], #{'kernel': ['rbf','linear'], \n",
    "             'class_weight':['balanced'],\n",
    "             'gamma': ['auto',0.1, 0.001, 0.0001], #'gamma': [0.0001],#\n",
    "             'C': [0.001, 0.01, 0.1, 1.0, 1, 10, 50, 100]}]#'C': [1000]}]#\n",
    "    rfcp = [{'n_estimators': [10, 20, 50, 100,200], \n",
    "            'max_features': ['auto', 'log2'],\n",
    "            'max_depth': [None],\n",
    "            'bootstrap': [True, False],\n",
    "            'criterion': [\"gini\", \"entropy\"]}]\n",
    "    gbp = [{#'loss' : ['deviance', 'exponential'],\n",
    "           'n_estimators': [10, 50,100, 200],\n",
    "           'learning_rate': [0.001, 0.01, 0.1, 1.0,10],\n",
    "           'max_features': ['auto', 'log2'],\n",
    "           'max_depth' : [3,5,10, 100]\n",
    "            }]\n",
    "           #'min_impurity_decrease': [0.0]}]#, 0.1]}]\n",
    "    vtp = [{'svc__C': [1.0, 100.0], \n",
    "            'rf__n_estimators': [20, 200],}]\n",
    "   \n",
    "    classifiers = [('kNN', knc, kncp),                                 \n",
    "                    ('Support Vector', svc, svcp),\n",
    "                    ('Random Forest', rfc, rfcp),\n",
    "                    ('Gradient Boosting', gb, gbp),\n",
    "                    ('Vooting', vt, vtp)\n",
    "    ]\n",
    "    \n",
    "    for name, classifier, params in classifiers:\n",
    "        print(name)\n",
    "        clf = GridSearchCV(classifier, params,n_jobs=4, cv=5, scoring=['f1_weighted','accuracy','precision_weighted', 'recall_weighted'], refit='f1_weighted' , verbose = 10)\n",
    "\n",
    "        clf.fit(X_train, y_train, groups=group_data_train)\n",
    "\n",
    "        print(\"Best parameters set found on development set:\")\n",
    "        print()\n",
    "        print(clf.best_params_)\n",
    "        print()\n",
    "        print(\"Grid scores on development set:\")\n",
    "        print(clf.best_score_)\n",
    "        print()\n",
    "        print(clf.cv_results_.keys())\n",
    "        means = clf.cv_results_['mean_test_accuracy']\n",
    "        stds = clf.cv_results_['std_test_accuracy']\n",
    "        for mean, std, params in zip(means, stds, clf.cv_results_['params']):\n",
    "            print(\"%0.3f (+/-%0.03f) for %r\"\n",
    "                  % (mean, std * 2, params))\n",
    "        print()\n",
    "\n",
    "        print(\"Detailed classification report:\")\n",
    "        print()\n",
    "        print(\"The model is trained on the full development set.\")\n",
    "        print(\"The scores are computed on the full evaluation set.\")\n",
    "        print()\n",
    "        yTrue, yPred = y_test, clf.predict(X_test)\n",
    "        print(classification_report(yTrue, yPred))\n",
    "        plot_confusion(yTrue, yPred, name)\n",
    "        print()"
   ]
  },
  {
   "cell_type": "code",
   "execution_count": 32,
   "metadata": {},
   "outputs": [
    {
     "name": "stdout",
     "output_type": "stream",
     "text": [
      "[0 1]\n"
     ]
    }
   ],
   "source": [
    "le = preprocessing.LabelEncoder()\n",
    "le.fit(yData)\n",
    "print(le.classes_)\n",
    "yDataBin = le.transform(yData)"
   ]
  },
  {
   "cell_type": "code",
   "execution_count": null,
   "metadata": {},
   "outputs": [
    {
     "name": "stdout",
     "output_type": "stream",
     "text": [
      "<class 'numpy.ndarray'> (5131,) (2549,)\n",
      "TRAIN: [   0    1    2 ..., 7677 7678 7679] TEST: [ 570  571  572 ..., 7407 7408 7409]\n",
      "['p002' 'p003' 'p005' 'p006' 'p008' 'p009' 'p011' 'p012' 'p013' 'p015'\n",
      " 'p019' 'p020' 'p021' 'p022' 'p023' 'p024' 'p026' 'p027' 'p029' 'p033']\n",
      "['p004' 'p007' 'p014' 'p016' 'p025' 'p028' 'p030' 'p031' 'p032']\n",
      "0    4081\n",
      "1    1050\n",
      "Name: 0, dtype: int64\n",
      "0    2024\n",
      "1     525\n",
      "Name: 0, dtype: int64\n",
      "\n",
      "\n",
      "Normalizing data!\n",
      "Grid Search Classifiers!\n",
      "kNN\n",
      "Fitting 5 folds for each of 16 candidates, totalling 80 fits\n"
     ]
    },
    {
     "name": "stderr",
     "output_type": "stream",
     "text": [
      "[Parallel(n_jobs=4)]: Done   5 tasks      | elapsed: 82.9min\n",
      "[Parallel(n_jobs=4)]: Done  10 tasks      | elapsed: 124.6min\n",
      "[Parallel(n_jobs=4)]: Done  17 tasks      | elapsed: 207.3min\n",
      "[Parallel(n_jobs=4)]: Done  24 tasks      | elapsed: 251.2min\n",
      "[Parallel(n_jobs=4)]: Done  33 tasks      | elapsed: 375.8min\n",
      "[Parallel(n_jobs=4)]: Done  42 tasks      | elapsed: 459.8min\n",
      "[Parallel(n_jobs=4)]: Done  53 tasks      | elapsed: 582.9min\n",
      "[Parallel(n_jobs=4)]: Done  64 tasks      | elapsed: 669.4min\n",
      "[Parallel(n_jobs=4)]: Done  80 out of  80 | elapsed: 845.1min finished\n"
     ]
    },
    {
     "name": "stdout",
     "output_type": "stream",
     "text": [
      "Best parameters set found on development set:\n",
      "\n",
      "{'algorithm': 'auto', 'n_neighbors': 3, 'weights': 'uniform'}\n",
      "\n",
      "Grid scores on development set:\n",
      "0.72709591969\n",
      "\n",
      "dict_keys(['mean_fit_time', 'std_fit_time', 'mean_score_time', 'std_score_time', 'param_algorithm', 'param_n_neighbors', 'param_weights', 'params', 'split0_test_f1_weighted', 'split1_test_f1_weighted', 'split2_test_f1_weighted', 'split3_test_f1_weighted', 'split4_test_f1_weighted', 'mean_test_f1_weighted', 'std_test_f1_weighted', 'rank_test_f1_weighted', 'split0_train_f1_weighted', 'split1_train_f1_weighted', 'split2_train_f1_weighted', 'split3_train_f1_weighted', 'split4_train_f1_weighted', 'mean_train_f1_weighted', 'std_train_f1_weighted', 'split0_test_accuracy', 'split1_test_accuracy', 'split2_test_accuracy', 'split3_test_accuracy', 'split4_test_accuracy', 'mean_test_accuracy', 'std_test_accuracy', 'rank_test_accuracy', 'split0_train_accuracy', 'split1_train_accuracy', 'split2_train_accuracy', 'split3_train_accuracy', 'split4_train_accuracy', 'mean_train_accuracy', 'std_train_accuracy', 'split0_test_precision_weighted', 'split1_test_precision_weighted', 'split2_test_precision_weighted', 'split3_test_precision_weighted', 'split4_test_precision_weighted', 'mean_test_precision_weighted', 'std_test_precision_weighted', 'rank_test_precision_weighted', 'split0_train_precision_weighted', 'split1_train_precision_weighted', 'split2_train_precision_weighted', 'split3_train_precision_weighted', 'split4_train_precision_weighted', 'mean_train_precision_weighted', 'std_train_precision_weighted', 'split0_test_recall_weighted', 'split1_test_recall_weighted', 'split2_test_recall_weighted', 'split3_test_recall_weighted', 'split4_test_recall_weighted', 'mean_test_recall_weighted', 'std_test_recall_weighted', 'rank_test_recall_weighted', 'split0_train_recall_weighted', 'split1_train_recall_weighted', 'split2_train_recall_weighted', 'split3_train_recall_weighted', 'split4_train_recall_weighted', 'mean_train_recall_weighted', 'std_train_recall_weighted'])\n",
      "0.715 (+/-0.157) for {'algorithm': 'auto', 'n_neighbors': 3, 'weights': 'uniform'}\n",
      "0.715 (+/-0.157) for {'algorithm': 'auto', 'n_neighbors': 3, 'weights': 'distance'}\n",
      "0.711 (+/-0.152) for {'algorithm': 'auto', 'n_neighbors': 5, 'weights': 'uniform'}\n",
      "0.711 (+/-0.152) for {'algorithm': 'auto', 'n_neighbors': 5, 'weights': 'distance'}\n",
      "0.712 (+/-0.145) for {'algorithm': 'auto', 'n_neighbors': 7, 'weights': 'uniform'}\n",
      "0.712 (+/-0.145) for {'algorithm': 'auto', 'n_neighbors': 7, 'weights': 'distance'}\n",
      "0.723 (+/-0.131) for {'algorithm': 'auto', 'n_neighbors': 10, 'weights': 'uniform'}\n",
      "0.716 (+/-0.148) for {'algorithm': 'auto', 'n_neighbors': 10, 'weights': 'distance'}\n",
      "0.715 (+/-0.157) for {'algorithm': 'kd_tree', 'n_neighbors': 3, 'weights': 'uniform'}\n",
      "0.715 (+/-0.157) for {'algorithm': 'kd_tree', 'n_neighbors': 3, 'weights': 'distance'}\n",
      "0.711 (+/-0.152) for {'algorithm': 'kd_tree', 'n_neighbors': 5, 'weights': 'uniform'}\n",
      "0.711 (+/-0.152) for {'algorithm': 'kd_tree', 'n_neighbors': 5, 'weights': 'distance'}\n",
      "0.712 (+/-0.145) for {'algorithm': 'kd_tree', 'n_neighbors': 7, 'weights': 'uniform'}\n",
      "0.712 (+/-0.145) for {'algorithm': 'kd_tree', 'n_neighbors': 7, 'weights': 'distance'}\n",
      "0.723 (+/-0.131) for {'algorithm': 'kd_tree', 'n_neighbors': 10, 'weights': 'uniform'}\n",
      "0.716 (+/-0.148) for {'algorithm': 'kd_tree', 'n_neighbors': 10, 'weights': 'distance'}\n",
      "\n",
      "Detailed classification report:\n",
      "\n",
      "The model is trained on the full development set.\n",
      "The scores are computed on the full evaluation set.\n",
      "\n",
      "             precision    recall  f1-score   support\n",
      "\n",
      "          0       0.87      0.88      0.87      2024\n",
      "          1       0.50      0.47      0.49       525\n",
      "\n",
      "avg / total       0.79      0.79      0.79      2549\n",
      "\n",
      "Classification report\n",
      "             precision    recall  f1-score   support\n",
      "\n",
      "          0       0.87      0.88      0.87      2024\n",
      "          1       0.50      0.47      0.49       525\n",
      "\n",
      "avg / total       0.79      0.79      0.79      2549\n",
      "\n",
      "Normalized confusion matrix\n",
      "[[ 87.55  12.45]\n",
      " [ 52.57  47.43]]\n"
     ]
    },
    {
     "data": {
      "image/png": "[encoded data removed]",
      "text/plain": [
       "<matplotlib.figure.Figure at 0x2628e1a37f0>"
      ]
     },
     "metadata": {},
     "output_type": "display_data"
    },
    {
     "name": "stdout",
     "output_type": "stream",
     "text": [
      "\n",
      "Support Vector\n",
      "Fitting 5 folds for each of 32 candidates, totalling 160 fits\n"
     ]
    },
    {
     "name": "stderr",
     "output_type": "stream",
     "text": [
      "[Parallel(n_jobs=4)]: Done   5 tasks      | elapsed: 78.1min\n",
      "[Parallel(n_jobs=4)]: Done  10 tasks      | elapsed: 117.1min\n",
      "[Parallel(n_jobs=4)]: Done  17 tasks      | elapsed: 194.8min\n",
      "[Parallel(n_jobs=4)]: Done  24 tasks      | elapsed: 234.4min\n",
      "[Parallel(n_jobs=4)]: Done  33 tasks      | elapsed: 350.5min\n",
      "[Parallel(n_jobs=4)]: Done  42 tasks      | elapsed: 426.3min\n",
      "[Parallel(n_jobs=4)]: Done  53 tasks      | elapsed: 519.1min\n",
      "[Parallel(n_jobs=4)]: Done  64 tasks      | elapsed: 570.5min\n",
      "[Parallel(n_jobs=4)]: Done  77 tasks      | elapsed: 634.7min\n",
      "[Parallel(n_jobs=4)]: Done  90 tasks      | elapsed: 695.6min\n",
      "[Parallel(n_jobs=4)]: Done 105 tasks      | elapsed: 751.4min\n",
      "[Parallel(n_jobs=4)]: Done 120 tasks      | elapsed: 811.6min\n",
      "[Parallel(n_jobs=4)]: Done 137 tasks      | elapsed: 869.8min\n",
      "[Parallel(n_jobs=4)]: Done 160 out of 160 | elapsed: 1511.0min finished\n"
     ]
    },
    {
     "name": "stdout",
     "output_type": "stream",
     "text": [
      "Best parameters set found on development set:\n",
      "\n",
      "{'C': 10, 'class_weight': 'balanced', 'gamma': 'auto', 'kernel': 'rbf'}\n",
      "\n",
      "Grid scores on development set:\n",
      "0.79398922842\n",
      "\n",
      "dict_keys(['mean_fit_time', 'std_fit_time', 'mean_score_time', 'std_score_time', 'param_C', 'param_class_weight', 'param_gamma', 'param_kernel', 'params', 'split0_test_f1_weighted', 'split1_test_f1_weighted', 'split2_test_f1_weighted', 'split3_test_f1_weighted', 'split4_test_f1_weighted', 'mean_test_f1_weighted', 'std_test_f1_weighted', 'rank_test_f1_weighted', 'split0_train_f1_weighted', 'split1_train_f1_weighted', 'split2_train_f1_weighted', 'split3_train_f1_weighted', 'split4_train_f1_weighted', 'mean_train_f1_weighted', 'std_train_f1_weighted', 'split0_test_accuracy', 'split1_test_accuracy', 'split2_test_accuracy', 'split3_test_accuracy', 'split4_test_accuracy', 'mean_test_accuracy', 'std_test_accuracy', 'rank_test_accuracy', 'split0_train_accuracy', 'split1_train_accuracy', 'split2_train_accuracy', 'split3_train_accuracy', 'split4_train_accuracy', 'mean_train_accuracy', 'std_train_accuracy', 'split0_test_precision_weighted', 'split1_test_precision_weighted', 'split2_test_precision_weighted', 'split3_test_precision_weighted', 'split4_test_precision_weighted', 'mean_test_precision_weighted', 'std_test_precision_weighted', 'rank_test_precision_weighted', 'split0_train_precision_weighted', 'split1_train_precision_weighted', 'split2_train_precision_weighted', 'split3_train_precision_weighted', 'split4_train_precision_weighted', 'mean_train_precision_weighted', 'std_train_precision_weighted', 'split0_test_recall_weighted', 'split1_test_recall_weighted', 'split2_test_recall_weighted', 'split3_test_recall_weighted', 'split4_test_recall_weighted', 'mean_test_recall_weighted', 'std_test_recall_weighted', 'rank_test_recall_weighted', 'split0_train_recall_weighted', 'split1_train_recall_weighted', 'split2_train_recall_weighted', 'split3_train_recall_weighted', 'split4_train_recall_weighted', 'mean_train_recall_weighted', 'std_train_recall_weighted'])\n",
      "0.677 (+/-0.473) for {'C': 0.001, 'class_weight': 'balanced', 'gamma': 'auto', 'kernel': 'rbf'}\n",
      "0.677 (+/-0.473) for {'C': 0.001, 'class_weight': 'balanced', 'gamma': 0.1, 'kernel': 'rbf'}\n",
      "0.677 (+/-0.473) for {'C': 0.001, 'class_weight': 'balanced', 'gamma': 0.001, 'kernel': 'rbf'}\n",
      "0.677 (+/-0.473) for {'C': 0.001, 'class_weight': 'balanced', 'gamma': 0.0001, 'kernel': 'rbf'}\n",
      "0.205 (+/-0.000) for {'C': 0.01, 'class_weight': 'balanced', 'gamma': 'auto', 'kernel': 'rbf'}\n",
      "0.205 (+/-0.000) for {'C': 0.01, 'class_weight': 'balanced', 'gamma': 0.1, 'kernel': 'rbf'}\n",
      "0.241 (+/-0.084) for {'C': 0.01, 'class_weight': 'balanced', 'gamma': 0.001, 'kernel': 'rbf'}\n",
      "0.205 (+/-0.000) for {'C': 0.01, 'class_weight': 'balanced', 'gamma': 0.0001, 'kernel': 'rbf'}\n",
      "0.607 (+/-0.211) for {'C': 0.1, 'class_weight': 'balanced', 'gamma': 'auto', 'kernel': 'rbf'}\n",
      "0.205 (+/-0.000) for {'C': 0.1, 'class_weight': 'balanced', 'gamma': 0.1, 'kernel': 'rbf'}\n",
      "0.680 (+/-0.176) for {'C': 0.1, 'class_weight': 'balanced', 'gamma': 0.001, 'kernel': 'rbf'}\n",
      "0.490 (+/-0.308) for {'C': 0.1, 'class_weight': 'balanced', 'gamma': 0.0001, 'kernel': 'rbf'}\n",
      "0.721 (+/-0.174) for {'C': 1.0, 'class_weight': 'balanced', 'gamma': 'auto', 'kernel': 'rbf'}\n",
      "0.795 (+/-0.000) for {'C': 1.0, 'class_weight': 'balanced', 'gamma': 0.1, 'kernel': 'rbf'}\n",
      "0.779 (+/-0.117) for {'C': 1.0, 'class_weight': 'balanced', 'gamma': 0.001, 'kernel': 'rbf'}\n",
      "0.689 (+/-0.171) for {'C': 1.0, 'class_weight': 'balanced', 'gamma': 0.0001, 'kernel': 'rbf'}\n",
      "0.721 (+/-0.174) for {'C': 1, 'class_weight': 'balanced', 'gamma': 'auto', 'kernel': 'rbf'}\n",
      "0.795 (+/-0.000) for {'C': 1, 'class_weight': 'balanced', 'gamma': 0.1, 'kernel': 'rbf'}\n",
      "0.779 (+/-0.117) for {'C': 1, 'class_weight': 'balanced', 'gamma': 0.001, 'kernel': 'rbf'}\n",
      "0.689 (+/-0.171) for {'C': 1, 'class_weight': 'balanced', 'gamma': 0.0001, 'kernel': 'rbf'}\n",
      "0.791 (+/-0.103) for {'C': 10, 'class_weight': 'balanced', 'gamma': 'auto', 'kernel': 'rbf'}\n",
      "0.795 (+/-0.000) for {'C': 10, 'class_weight': 'balanced', 'gamma': 0.1, 'kernel': 'rbf'}\n",
      "0.788 (+/-0.046) for {'C': 10, 'class_weight': 'balanced', 'gamma': 0.001, 'kernel': 'rbf'}\n",
      "0.780 (+/-0.128) for {'C': 10, 'class_weight': 'balanced', 'gamma': 0.0001, 'kernel': 'rbf'}\n",
      "0.793 (+/-0.078) for {'C': 50, 'class_weight': 'balanced', 'gamma': 'auto', 'kernel': 'rbf'}\n",
      "0.795 (+/-0.000) for {'C': 50, 'class_weight': 'balanced', 'gamma': 0.1, 'kernel': 'rbf'}\n",
      "0.782 (+/-0.067) for {'C': 50, 'class_weight': 'balanced', 'gamma': 0.001, 'kernel': 'rbf'}\n",
      "0.795 (+/-0.083) for {'C': 50, 'class_weight': 'balanced', 'gamma': 0.0001, 'kernel': 'rbf'}\n",
      "0.785 (+/-0.080) for {'C': 100, 'class_weight': 'balanced', 'gamma': 'auto', 'kernel': 'rbf'}\n",
      "0.795 (+/-0.000) for {'C': 100, 'class_weight': 'balanced', 'gamma': 0.1, 'kernel': 'rbf'}\n",
      "0.781 (+/-0.069) for {'C': 100, 'class_weight': 'balanced', 'gamma': 0.001, 'kernel': 'rbf'}\n",
      "0.791 (+/-0.079) for {'C': 100, 'class_weight': 'balanced', 'gamma': 0.0001, 'kernel': 'rbf'}\n",
      "\n",
      "Detailed classification report:\n",
      "\n",
      "The model is trained on the full development set.\n",
      "The scores are computed on the full evaluation set.\n",
      "\n",
      "             precision    recall  f1-score   support\n",
      "\n",
      "          0       0.91      0.82      0.86      2024\n",
      "          1       0.50      0.70      0.58       525\n",
      "\n",
      "avg / total       0.83      0.79      0.80      2549\n",
      "\n",
      "Classification report\n",
      "             precision    recall  f1-score   support\n",
      "\n",
      "          0       0.91      0.82      0.86      2024\n",
      "          1       0.50      0.70      0.58       525\n",
      "\n",
      "avg / total       0.83      0.79      0.80      2549\n",
      "\n",
      "Normalized confusion matrix\n",
      "[[ 81.62  18.38]\n",
      " [ 29.9   70.1 ]]\n"
     ]
    },
    {
     "data": {
      "image/png": "[encoded data removed]",
      "text/plain": [
       "<matplotlib.figure.Figure at 0x2628e1c7518>"
      ]
     },
     "metadata": {},
     "output_type": "display_data"
    },
    {
     "name": "stdout",
     "output_type": "stream",
     "text": [
      "\n",
      "Random Forest\n",
      "Fitting 5 folds for each of 40 candidates, totalling 200 fits\n"
     ]
    },
    {
     "name": "stderr",
     "output_type": "stream",
     "text": [
      "[Parallel(n_jobs=4)]: Done   5 tasks      | elapsed:   26.1s\n",
      "[Parallel(n_jobs=4)]: Done  10 tasks      | elapsed:   46.4s\n",
      "[Parallel(n_jobs=4)]: Done  17 tasks      | elapsed:  2.1min\n",
      "[Parallel(n_jobs=4)]: Done  24 tasks      | elapsed:  4.4min\n",
      "[Parallel(n_jobs=4)]: Done  33 tasks      | elapsed:  4.7min\n",
      "[Parallel(n_jobs=4)]: Done  42 tasks      | elapsed:  5.4min\n",
      "[Parallel(n_jobs=4)]: Done  53 tasks      | elapsed:  6.4min\n",
      "[Parallel(n_jobs=4)]: Done  64 tasks      | elapsed:  7.6min\n",
      "[Parallel(n_jobs=4)]: Done  77 tasks      | elapsed: 11.5min\n",
      "[Parallel(n_jobs=4)]: Done  90 tasks      | elapsed: 12.3min\n",
      "[Parallel(n_jobs=4)]: Done 105 tasks      | elapsed: 13.8min\n",
      "[Parallel(n_jobs=4)]: Done 120 tasks      | elapsed: 17.7min\n",
      "[Parallel(n_jobs=4)]: Done 137 tasks      | elapsed: 20.4min\n",
      "[Parallel(n_jobs=4)]: Done 154 tasks      | elapsed: 22.5min\n",
      "[Parallel(n_jobs=4)]: Done 173 tasks      | elapsed: 30.4min\n",
      "[Parallel(n_jobs=4)]: Done 192 tasks      | elapsed: 32.3min\n",
      "[Parallel(n_jobs=4)]: Done 200 out of 200 | elapsed: 34.0min finished\n"
     ]
    },
    {
     "name": "stdout",
     "output_type": "stream",
     "text": [
      "Best parameters set found on development set:\n",
      "\n",
      "{'bootstrap': True, 'criterion': 'gini', 'max_depth': None, 'max_features': 'auto', 'n_estimators': 10}\n",
      "\n",
      "Grid scores on development set:\n",
      "0.735600592428\n",
      "\n",
      "dict_keys(['mean_fit_time', 'std_fit_time', 'mean_score_time', 'std_score_time', 'param_bootstrap', 'param_criterion', 'param_max_depth', 'param_max_features', 'param_n_estimators', 'params', 'split0_test_f1_weighted', 'split1_test_f1_weighted', 'split2_test_f1_weighted', 'split3_test_f1_weighted', 'split4_test_f1_weighted', 'mean_test_f1_weighted', 'std_test_f1_weighted', 'rank_test_f1_weighted', 'split0_train_f1_weighted', 'split1_train_f1_weighted', 'split2_train_f1_weighted', 'split3_train_f1_weighted', 'split4_train_f1_weighted', 'mean_train_f1_weighted', 'std_train_f1_weighted', 'split0_test_accuracy', 'split1_test_accuracy', 'split2_test_accuracy', 'split3_test_accuracy', 'split4_test_accuracy', 'mean_test_accuracy', 'std_test_accuracy', 'rank_test_accuracy', 'split0_train_accuracy', 'split1_train_accuracy', 'split2_train_accuracy', 'split3_train_accuracy', 'split4_train_accuracy', 'mean_train_accuracy', 'std_train_accuracy', 'split0_test_precision_weighted', 'split1_test_precision_weighted', 'split2_test_precision_weighted', 'split3_test_precision_weighted', 'split4_test_precision_weighted', 'mean_test_precision_weighted', 'std_test_precision_weighted', 'rank_test_precision_weighted', 'split0_train_precision_weighted', 'split1_train_precision_weighted', 'split2_train_precision_weighted', 'split3_train_precision_weighted', 'split4_train_precision_weighted', 'mean_train_precision_weighted', 'std_train_precision_weighted', 'split0_test_recall_weighted', 'split1_test_recall_weighted', 'split2_test_recall_weighted', 'split3_test_recall_weighted', 'split4_test_recall_weighted', 'mean_test_recall_weighted', 'std_test_recall_weighted', 'rank_test_recall_weighted', 'split0_train_recall_weighted', 'split1_train_recall_weighted', 'split2_train_recall_weighted', 'split3_train_recall_weighted', 'split4_train_recall_weighted', 'mean_train_recall_weighted', 'std_train_recall_weighted'])\n",
      "0.790 (+/-0.042) for {'bootstrap': True, 'criterion': 'gini', 'max_depth': None, 'max_features': 'auto', 'n_estimators': 10}\n",
      "0.788 (+/-0.037) for {'bootstrap': True, 'criterion': 'gini', 'max_depth': None, 'max_features': 'auto', 'n_estimators': 20}\n",
      "0.793 (+/-0.009) for {'bootstrap': True, 'criterion': 'gini', 'max_depth': None, 'max_features': 'auto', 'n_estimators': 50}\n",
      "0.793 (+/-0.006) for {'bootstrap': True, 'criterion': 'gini', 'max_depth': None, 'max_features': 'auto', 'n_estimators': 100}\n",
      "0.794 (+/-0.010) for {'bootstrap': True, 'criterion': 'gini', 'max_depth': None, 'max_features': 'auto', 'n_estimators': 200}\n",
      "0.790 (+/-0.008) for {'bootstrap': True, 'criterion': 'gini', 'max_depth': None, 'max_features': 'log2', 'n_estimators': 10}\n",
      "0.791 (+/-0.014) for {'bootstrap': True, 'criterion': 'gini', 'max_depth': None, 'max_features': 'log2', 'n_estimators': 20}\n",
      "0.796 (+/-0.006) for {'bootstrap': True, 'criterion': 'gini', 'max_depth': None, 'max_features': 'log2', 'n_estimators': 50}\n",
      "0.795 (+/-0.002) for {'bootstrap': True, 'criterion': 'gini', 'max_depth': None, 'max_features': 'log2', 'n_estimators': 100}\n",
      "0.795 (+/-0.004) for {'bootstrap': True, 'criterion': 'gini', 'max_depth': None, 'max_features': 'log2', 'n_estimators': 200}\n",
      "0.794 (+/-0.014) for {'bootstrap': True, 'criterion': 'entropy', 'max_depth': None, 'max_features': 'auto', 'n_estimators': 10}\n",
      "0.792 (+/-0.008) for {'bootstrap': True, 'criterion': 'entropy', 'max_depth': None, 'max_features': 'auto', 'n_estimators': 20}\n",
      "0.796 (+/-0.009) for {'bootstrap': True, 'criterion': 'entropy', 'max_depth': None, 'max_features': 'auto', 'n_estimators': 50}\n",
      "0.796 (+/-0.008) for {'bootstrap': True, 'criterion': 'entropy', 'max_depth': None, 'max_features': 'auto', 'n_estimators': 100}\n",
      "0.791 (+/-0.008) for {'bootstrap': True, 'criterion': 'entropy', 'max_depth': None, 'max_features': 'auto', 'n_estimators': 200}\n",
      "0.791 (+/-0.012) for {'bootstrap': True, 'criterion': 'entropy', 'max_depth': None, 'max_features': 'log2', 'n_estimators': 10}\n",
      "0.796 (+/-0.008) for {'bootstrap': True, 'criterion': 'entropy', 'max_depth': None, 'max_features': 'log2', 'n_estimators': 20}\n",
      "0.794 (+/-0.010) for {'bootstrap': True, 'criterion': 'entropy', 'max_depth': None, 'max_features': 'log2', 'n_estimators': 50}\n",
      "0.794 (+/-0.003) for {'bootstrap': True, 'criterion': 'entropy', 'max_depth': None, 'max_features': 'log2', 'n_estimators': 100}\n",
      "0.795 (+/-0.005) for {'bootstrap': True, 'criterion': 'entropy', 'max_depth': None, 'max_features': 'log2', 'n_estimators': 200}\n",
      "0.781 (+/-0.040) for {'bootstrap': False, 'criterion': 'gini', 'max_depth': None, 'max_features': 'auto', 'n_estimators': 10}\n",
      "0.794 (+/-0.022) for {'bootstrap': False, 'criterion': 'gini', 'max_depth': None, 'max_features': 'auto', 'n_estimators': 20}\n",
      "0.795 (+/-0.010) for {'bootstrap': False, 'criterion': 'gini', 'max_depth': None, 'max_features': 'auto', 'n_estimators': 50}\n",
      "0.795 (+/-0.019) for {'bootstrap': False, 'criterion': 'gini', 'max_depth': None, 'max_features': 'auto', 'n_estimators': 100}\n",
      "0.796 (+/-0.008) for {'bootstrap': False, 'criterion': 'gini', 'max_depth': None, 'max_features': 'auto', 'n_estimators': 200}\n",
      "0.790 (+/-0.022) for {'bootstrap': False, 'criterion': 'gini', 'max_depth': None, 'max_features': 'log2', 'n_estimators': 10}\n",
      "0.793 (+/-0.009) for {'bootstrap': False, 'criterion': 'gini', 'max_depth': None, 'max_features': 'log2', 'n_estimators': 20}\n",
      "0.793 (+/-0.011) for {'bootstrap': False, 'criterion': 'gini', 'max_depth': None, 'max_features': 'log2', 'n_estimators': 50}\n",
      "0.794 (+/-0.006) for {'bootstrap': False, 'criterion': 'gini', 'max_depth': None, 'max_features': 'log2', 'n_estimators': 100}\n",
      "0.794 (+/-0.004) for {'bootstrap': False, 'criterion': 'gini', 'max_depth': None, 'max_features': 'log2', 'n_estimators': 200}\n",
      "0.791 (+/-0.024) for {'bootstrap': False, 'criterion': 'entropy', 'max_depth': None, 'max_features': 'auto', 'n_estimators': 10}\n",
      "0.792 (+/-0.017) for {'bootstrap': False, 'criterion': 'entropy', 'max_depth': None, 'max_features': 'auto', 'n_estimators': 20}\n",
      "0.795 (+/-0.013) for {'bootstrap': False, 'criterion': 'entropy', 'max_depth': None, 'max_features': 'auto', 'n_estimators': 50}\n",
      "0.796 (+/-0.013) for {'bootstrap': False, 'criterion': 'entropy', 'max_depth': None, 'max_features': 'auto', 'n_estimators': 100}\n",
      "0.796 (+/-0.013) for {'bootstrap': False, 'criterion': 'entropy', 'max_depth': None, 'max_features': 'auto', 'n_estimators': 200}\n",
      "0.790 (+/-0.008) for {'bootstrap': False, 'criterion': 'entropy', 'max_depth': None, 'max_features': 'log2', 'n_estimators': 10}\n",
      "0.796 (+/-0.006) for {'bootstrap': False, 'criterion': 'entropy', 'max_depth': None, 'max_features': 'log2', 'n_estimators': 20}\n",
      "0.794 (+/-0.005) for {'bootstrap': False, 'criterion': 'entropy', 'max_depth': None, 'max_features': 'log2', 'n_estimators': 50}\n",
      "0.794 (+/-0.008) for {'bootstrap': False, 'criterion': 'entropy', 'max_depth': None, 'max_features': 'log2', 'n_estimators': 100}\n",
      "0.794 (+/-0.007) for {'bootstrap': False, 'criterion': 'entropy', 'max_depth': None, 'max_features': 'log2', 'n_estimators': 200}\n",
      "\n",
      "Detailed classification report:\n",
      "\n",
      "The model is trained on the full development set.\n",
      "The scores are computed on the full evaluation set.\n",
      "\n",
      "             precision    recall  f1-score   support\n",
      "\n",
      "          0       0.81      0.98      0.89      2024\n",
      "          1       0.61      0.14      0.22       525\n",
      "\n",
      "avg / total       0.77      0.80      0.75      2549\n",
      "\n",
      "Classification report\n",
      "             precision    recall  f1-score   support\n",
      "\n",
      "          0       0.81      0.98      0.89      2024\n",
      "          1       0.61      0.14      0.22       525\n",
      "\n",
      "avg / total       0.77      0.80      0.75      2549\n",
      "\n",
      "Normalized confusion matrix\n",
      "[[ 97.73   2.27]\n",
      " [ 86.29  13.71]]\n"
     ]
    },
    {
     "data": {
      "image/png": "[encoded data removed]",
      "text/plain": [
       "<matplotlib.figure.Figure at 0x2628e3bd128>"
      ]
     },
     "metadata": {},
     "output_type": "display_data"
    },
    {
     "name": "stdout",
     "output_type": "stream",
     "text": [
      "\n",
      "Gradient Boosting\n",
      "Fitting 5 folds for each of 160 candidates, totalling 800 fits\n"
     ]
    },
    {
     "name": "stderr",
     "output_type": "stream",
     "text": [
      "[Parallel(n_jobs=4)]: Done   5 tasks      | elapsed:  1.9min\n",
      "[Parallel(n_jobs=4)]: Done  10 tasks      | elapsed: 10.5min\n",
      "[Parallel(n_jobs=4)]: Done  17 tasks      | elapsed: 82.3min\n",
      "[Parallel(n_jobs=4)]: Done  24 tasks      | elapsed: 83.1min\n",
      "[Parallel(n_jobs=4)]: Done  33 tasks      | elapsed: 84.3min\n",
      "[Parallel(n_jobs=4)]: Done  42 tasks      | elapsed: 88.9min\n",
      "[Parallel(n_jobs=4)]: Done  53 tasks      | elapsed: 120.0min\n",
      "[Parallel(n_jobs=4)]: Done  64 tasks      | elapsed: 151.6min\n",
      "[Parallel(n_jobs=4)]: Done  77 tasks      | elapsed: 152.8min\n",
      "[Parallel(n_jobs=4)]: Done  90 tasks      | elapsed: 192.7min\n",
      "[Parallel(n_jobs=4)]: Done 105 tasks      | elapsed: 295.9min\n",
      "[Parallel(n_jobs=4)]: Done 120 tasks      | elapsed: 308.6min\n",
      "[Parallel(n_jobs=4)]: Done 137 tasks      | elapsed: 543.2min\n",
      "[Parallel(n_jobs=4)]: Done 154 tasks      | elapsed: 548.5min\n",
      "[Parallel(n_jobs=4)]: Done 173 tasks      | elapsed: 578.4min\n",
      "[Parallel(n_jobs=4)]: Done 192 tasks      | elapsed: 600.6min\n",
      "[Parallel(n_jobs=4)]: Done 213 tasks      | elapsed: 643.8min\n",
      "[Parallel(n_jobs=4)]: Done 234 tasks      | elapsed: 679.7min\n",
      "[Parallel(n_jobs=4)]: Done 257 tasks      | elapsed: 1531.3min\n",
      "[Parallel(n_jobs=4)]: Done 280 tasks      | elapsed: 1545.2min\n"
     ]
    }
   ],
   "source": [
    "from sklearn.model_selection import StratifiedShuffleSplit,GroupShuffleSplit\n",
    "from scipy import stats\n",
    "\n",
    "#gss = StratifiedShuffleSplit(n_splits=2, test_size=0.3, random_state=0)\n",
    "gss = GroupShuffleSplit(n_splits=2, test_size=0.3, random_state=0)\n",
    "\n",
    "for train_index, test_index in gss.split(xData, yDataBin, groups=ds['1']):\n",
    "    print(type(train_index), train_index.shape, test_index.shape)\n",
    "    print(\"TRAIN:\", train_index, \"TEST:\", test_index)\n",
    "    print(np.unique(ds.iloc[train_index,1]))\n",
    "    print(np.unique(ds.iloc[test_index,1]))\n",
    "    dt = pd.DataFrame(yDataBin[train_index])\n",
    "    print(dt[0].value_counts())\n",
    "    dte = pd.DataFrame(yDataBin[test_index])\n",
    "    print(dte[0].value_counts())\n",
    "    print()\n",
    "    print()\n",
    "    \n",
    "    search(xData.iloc[train_index,:], xData.iloc[test_index,:], \n",
    "           yDataBin[train_index], yDataBin[test_index], \n",
    "           ds.iloc[train_index,1])"
   ]
  },
  {
   "cell_type": "code",
   "execution_count": null,
   "metadata": {},
   "outputs": [],
   "source": [
    "print(type(r), len(r))"
   ]
  },
  {
   "cell_type": "code",
   "execution_count": null,
   "metadata": {},
   "outputs": [],
   "source": [
    "# Split the dataset in two equal parts\n",
    "X_train, X_test, y_train, y_test = train_test_split(xData, yDataBin, test_size=0.3, random_state=0, stratify=[ds['1'], ds['0']])\n",
    "\n",
    "print(X_train.shape, X_test.shape, y_train.shape, y_test.shape,\n",
    "      type(X_train.shape), type(X_test.shape), type(y_train.shape), type(y_test.shape))"
   ]
  },
  {
   "cell_type": "code",
   "execution_count": null,
   "metadata": {},
   "outputs": [],
   "source": [
    "X_train['1'].unique()"
   ]
  },
  {
   "cell_type": "code",
   "execution_count": null,
   "metadata": {},
   "outputs": [],
   "source": [
    "X_test['1'].unique()"
   ]
  },
  {
   "cell_type": "code",
   "execution_count": null,
   "metadata": {
    "collapsed": true
   },
   "outputs": [],
   "source": [
    "search(X_train, X_test, y_train, y_test)"
   ]
  },
  {
   "cell_type": "code",
   "execution_count": null,
   "metadata": {
    "collapsed": true
   },
   "outputs": [],
   "source": [
    "import itertools\n",
    "import numpy as np\n",
    "import matplotlib.pyplot as plt\n",
    "\n",
    "from sklearn import svm, datasets\n",
    "from sklearn.model_selection import train_test_split\n",
    "from sklearn.metrics import confusion_matrix\n",
    "\n",
    "class_names = le.classes_\n",
    "# Run classifier, using a model that is too regularized (C too low) to see\n",
    "# the impact on the results\n",
    "classifier = svm.SVC(kernel='rbf', C=10, gamma=0.01)\n",
    "y_pred = classifier.fit(X_train, y_train).predict(X_test)\n",
    "\n",
    "\n",
    "\n",
    "def plot_confusion_matrix(cm, classes,\n",
    "                          normalize=False,\n",
    "                          title='Confusion matrix',\n",
    "                          cmap=plt.cm.Blues):\n",
    "    \"\"\"\n",
    "    This function prints and plots the confusion matrix.\n",
    "    Normalization can be applied by setting `normalize=True`.\n",
    "    \"\"\"\n",
    "    if normalize:\n",
    "        cm = cm.astype('float') / cm.sum(axis=1)[:, np.newaxis]\n",
    "        print(\"Normalized confusion matrix\")\n",
    "    else:\n",
    "        print('Confusion matrix, without normalization')\n",
    "\n",
    "    print(cm)\n",
    "\n",
    "    plt.imshow(cm, interpolation='nearest', cmap=cmap)\n",
    "    \n",
    "    plt.title(title)\n",
    "    plt.colorbar()\n",
    "    tick_marks = np.arange(len(classes))\n",
    "    plt.xticks(tick_marks, classes, rotation=45)\n",
    "    plt.yticks(tick_marks, classes)\n",
    "\n",
    "    fmt = '.2f' if normalize else 'd'\n",
    "    thresh = cm.max() / 2.\n",
    "    for i, j in itertools.product(range(cm.shape[0]), range(cm.shape[1])):\n",
    "        plt.text(j, i, format(cm[i, j], fmt),\n",
    "                 horizontalalignment=\"center\",\n",
    "                 color=\"white\" if cm[i, j] > thresh else \"black\")\n",
    "\n",
    "    plt.tight_layout()\n",
    "    plt.ylabel('True label')\n",
    "    plt.xlabel('Predicted label')\n",
    "\n",
    "# Compute confusion matrix\n",
    "cnf_matrix = confusion_matrix(y_test, y_pred)\n",
    "np.set_printoptions(precision=2)\n",
    "\n",
    "# Plot non-normalized confusion matrix\n",
    "plt.figure()\n",
    "plot_confusion_matrix(cnf_matrix, classes=class_names,\n",
    "                      title='Confusion matrix, without normalization')\n",
    "\n",
    "# Plot normalized confusion matrix\n",
    "plt.figure()\n",
    "plot_confusion_matrix(cnf_matrix, classes=class_names, normalize=True,\n",
    "                      title='Normalized confusion matrix')\n",
    "\n",
    "plt.show()"
   ]
  },
  {
   "cell_type": "code",
   "execution_count": null,
   "metadata": {
    "collapsed": true
   },
   "outputs": [],
   "source": [
    "tic = time.clock()\n",
    "y = classifier.predict(X_test[-1:])\n",
    "print(time.clock() - tic)"
   ]
  },
  {
   "cell_type": "code",
   "execution_count": null,
   "metadata": {
    "collapsed": true
   },
   "outputs": [],
   "source": [
    "y"
   ]
  },
  {
   "cell_type": "code",
   "execution_count": null,
   "metadata": {
    "collapsed": true
   },
   "outputs": [],
   "source": [
    "y_test[-1:]"
   ]
  },
  {
   "cell_type": "code",
   "execution_count": null,
   "metadata": {
    "collapsed": true
   },
   "outputs": [],
   "source": []
  }
 ],
 "metadata": {
  "kernelspec": {
   "display_name": "Python 3",
   "language": "python",
   "name": "python3"
  },
  "language_info": {
   "codemirror_mode": {
    "name": "ipython",
    "version": 3
   },
   "file_extension": ".py",
   "mimetype": "text/x-python",
   "name": "python",
   "nbconvert_exporter": "python",
   "pygments_lexer": "ipython3",
   "version": "3.5.4"
  }
 },
 "nbformat": 4,
 "nbformat_minor": 2
}
