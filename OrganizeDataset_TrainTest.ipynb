{
 "cells": [
  {
   "cell_type": "code",
   "execution_count": 1,
   "metadata": {},
   "outputs": [],
   "source": [
    "%matplotlib inline\n",
    "from matplotlib import pyplot as plt\n",
    "from PIL import Image\n",
    "import numpy as np\n",
    "import os \n",
    "import cv2\n",
    "from tqdm import tqdm_notebook\n",
    "from random import shuffle, seed\n",
    "import shutil\n",
    "import pandas as pd\n",
    "import glob"
   ]
  },
  {
   "cell_type": "code",
   "execution_count": 4,
   "metadata": {},
   "outputs": [],
   "source": [
    "def organize_datasets(path_to_data, n=46, ratio=0.2):\n",
    "    files_types = ['depth', 'ir1', 'ir2', 'rgb']\n",
    "    seed(10)\n",
    "    subjects = ['{:02d}'.format(i) for i in range(1,n)]\n",
    "    classes = ['{:02d}'.format(c) for c in range(1,20)]\n",
    "    #print(classes)\n",
    "    \n",
    "    #shutil.rmtree(os.path.join(path_to_data,'data'))\n",
    "    print(os.path.join(path_to_data,'data'), 'removed')\n",
    "        \n",
    "    shuffle(subjects)\n",
    "    #print(subjects)\n",
    "    \n",
    "    n = int(len(subjects) * ratio)\n",
    "    val, train = subjects[:n], subjects[n:]\n",
    "        \n",
    "    for file_type in files_types:      \n",
    "        \n",
    "        for c in classes: \n",
    "            os.makedirs(os.path.join(path_to_data,'data',file_type,'train',c))\n",
    "            os.makedirs(os.path.join(path_to_data,'data',file_type,'validation',c))\n",
    "\n",
    "            print('folders created !')\n",
    "\n",
    "            for t in tqdm_notebook(train):\n",
    "                files_list = glob.glob(path_to_data + '\\\\all\\\\' + c + '\\\\' + t + '*' + file_type + '*')\n",
    "                print(path_to_data + '\\\\all\\\\' + c + '\\\\' + t + '*' + file_type + '*', len(files_list))\n",
    "                for f in files_list:\n",
    "                    shutil.copy2(f, os.path.join(path_to_data, 'data', file_type, 'train', c))\n",
    "\n",
    "            for v in tqdm_notebook(val):\n",
    "                files_list = glob.glob(path_to_data + '\\\\all\\\\' + c + '\\\\' + v + '*' + file_type + '*')\n",
    "                print(path_to_data + '\\\\all\\\\' + c + '\\\\' + v + '*' + file_type + '*', len(files_list))\n",
    "                for f in files_list:\n",
    "                    shutil.copy2(f, os.path.join(path_to_data, 'data', file_type, 'validation', c))\n",
    "\n",
    "    print('Data copied!')"
   ]
  },
  {
   "cell_type": "code",
   "execution_count": 7,
   "metadata": {},
   "outputs": [
    {
     "name": "stdout",
     "output_type": "stream",
     "text": [
      "E:\\MestradoData\\preprocessed\\data removed\n",
      "folders created !\n"
     ]
    },
    {
     "data": {
      "application/vnd.jupyter.widget-view+json": {
       "model_id": "d6507c5a536d44ec8afd9fab03821e40",
       "version_major": 2,
       "version_minor": 0
      },
      "text/html": [
       "<p>Failed to display Jupyter Widget of type <code>HBox</code>.</p>\n",
       "<p>\n",
       "  If you're reading this message in the Jupyter Notebook or JupyterLab Notebook, it may mean\n",
       "  that the widgets JavaScript is still loading. If this message persists, it\n",
       "  likely means that the widgets JavaScript library is either not installed or\n",
       "  not enabled. See the <a href=\"https://ipywidgets.readthedocs.io/en/stable/user_install.html\">Jupyter\n",
       "  Widgets Documentation</a> for setup instructions.\n",
       "</p>\n",
       "<p>\n",
       "  If you're reading this message in another frontend (for example, a static\n",
       "  rendering on GitHub or <a href=\"https://nbviewer.jupyter.org/\">NBViewer</a>),\n",
       "  it may mean that your frontend doesn't currently support widgets.\n",
       "</p>\n"
      ],
      "text/plain": [
       "HBox(children=(IntProgress(value=0, max=36), HTML(value='')))"
      ]
     },
     "metadata": {},
     "output_type": "display_data"
    },
    {
     "name": "stdout",
     "output_type": "stream",
     "text": [
      "E:\\MestradoData\\preprocessed\\all\\01\\23*depth* 60\n",
      "E:\\MestradoData\\preprocessed\\all\\01\\04*depth* 60\n",
      "E:\\MestradoData\\preprocessed\\all\\01\\38*depth* 0\n",
      "E:\\MestradoData\\preprocessed\\all\\01\\42*depth* 60\n",
      "E:\\MestradoData\\preprocessed\\all\\01\\17*depth* 60\n",
      "E:\\MestradoData\\preprocessed\\all\\01\\35*depth* 60\n",
      "E:\\MestradoData\\preprocessed\\all\\01\\29*depth* 60\n",
      "E:\\MestradoData\\preprocessed\\all\\01\\06*depth* 60\n",
      "E:\\MestradoData\\preprocessed\\all\\01\\15*depth* 60\n",
      "E:\\MestradoData\\preprocessed\\all\\01\\09*depth* 60\n",
      "E:\\MestradoData\\preprocessed\\all\\01\\10*depth* 60\n",
      "E:\\MestradoData\\preprocessed\\all\\01\\26*depth* 60\n",
      "E:\\MestradoData\\preprocessed\\all\\01\\13*depth* 60\n",
      "E:\\MestradoData\\preprocessed\\all\\01\\43*depth* 60\n",
      "E:\\MestradoData\\preprocessed\\all\\01\\20*depth* 60\n",
      "E:\\MestradoData\\preprocessed\\all\\01\\05*depth* 60\n",
      "E:\\MestradoData\\preprocessed\\all\\01\\39*depth* 0\n",
      "E:\\MestradoData\\preprocessed\\all\\01\\02*depth* 60\n",
      "E:\\MestradoData\\preprocessed\\all\\01\\12*depth* 60\n",
      "E:\\MestradoData\\preprocessed\\all\\01\\24*depth* 60\n",
      "E:\\MestradoData\\preprocessed\\all\\01\\08*depth* 60\n",
      "E:\\MestradoData\\preprocessed\\all\\01\\34*depth* 60\n",
      "E:\\MestradoData\\preprocessed\\all\\01\\21*depth* 60\n",
      "E:\\MestradoData\\preprocessed\\all\\01\\41*depth* 60\n",
      "E:\\MestradoData\\preprocessed\\all\\01\\44*depth* 60\n",
      "E:\\MestradoData\\preprocessed\\all\\01\\11*depth* 60\n",
      "E:\\MestradoData\\preprocessed\\all\\01\\18*depth* 60\n",
      "E:\\MestradoData\\preprocessed\\all\\01\\32*depth* 60\n",
      "E:\\MestradoData\\preprocessed\\all\\01\\30*depth* 60\n",
      "E:\\MestradoData\\preprocessed\\all\\01\\14*depth* 60\n",
      "E:\\MestradoData\\preprocessed\\all\\01\\01*depth* 60\n",
      "E:\\MestradoData\\preprocessed\\all\\01\\45*depth* 30\n",
      "E:\\MestradoData\\preprocessed\\all\\01\\31*depth* 60\n",
      "E:\\MestradoData\\preprocessed\\all\\01\\28*depth* 60\n",
      "E:\\MestradoData\\preprocessed\\all\\01\\03*depth* 60\n",
      "E:\\MestradoData\\preprocessed\\all\\01\\37*depth* 0\n",
      "\n"
     ]
    },
    {
     "data": {
      "application/vnd.jupyter.widget-view+json": {
       "model_id": "72a1f1aafc8046feb27b8b1ea9bd63c8",
       "version_major": 2,
       "version_minor": 0
      },
      "text/html": [
       "<p>Failed to display Jupyter Widget of type <code>HBox</code>.</p>\n",
       "<p>\n",
       "  If you're reading this message in the Jupyter Notebook or JupyterLab Notebook, it may mean\n",
       "  that the widgets JavaScript is still loading. If this message persists, it\n",
       "  likely means that the widgets JavaScript library is either not installed or\n",
       "  not enabled. See the <a href=\"https://ipywidgets.readthedocs.io/en/stable/user_install.html\">Jupyter\n",
       "  Widgets Documentation</a> for setup instructions.\n",
       "</p>\n",
       "<p>\n",
       "  If you're reading this message in another frontend (for example, a static\n",
       "  rendering on GitHub or <a href=\"https://nbviewer.jupyter.org/\">NBViewer</a>),\n",
       "  it may mean that your frontend doesn't currently support widgets.\n",
       "</p>\n"
      ],
      "text/plain": [
       "HBox(children=(IntProgress(value=0, max=9), HTML(value='')))"
      ]
     },
     "metadata": {},
     "output_type": "display_data"
    },
    {
     "name": "stdout",
     "output_type": "stream",
     "text": [
      "E:\\MestradoData\\preprocessed\\all\\01\\22*depth* 60\n",
      "E:\\MestradoData\\preprocessed\\all\\01\\36*depth* 0\n",
      "E:\\MestradoData\\preprocessed\\all\\01\\33*depth* 60\n",
      "E:\\MestradoData\\preprocessed\\all\\01\\19*depth* 60\n",
      "E:\\MestradoData\\preprocessed\\all\\01\\27*depth* 60\n",
      "E:\\MestradoData\\preprocessed\\all\\01\\16*depth* 60\n",
      "E:\\MestradoData\\preprocessed\\all\\01\\25*depth* 60\n",
      "E:\\MestradoData\\preprocessed\\all\\01\\40*depth* 60\n",
      "E:\\MestradoData\\preprocessed\\all\\01\\07*depth* 60\n",
      "\n",
      "folders created !\n"
     ]
    },
    {
     "data": {
      "application/vnd.jupyter.widget-view+json": {
       "model_id": "e87064ac5fd04bbaaedc7ae79b678c39",
       "version_major": 2,
       "version_minor": 0
      },
      "text/html": [
       "<p>Failed to display Jupyter Widget of type <code>HBox</code>.</p>\n",
       "<p>\n",
       "  If you're reading this message in the Jupyter Notebook or JupyterLab Notebook, it may mean\n",
       "  that the widgets JavaScript is still loading. If this message persists, it\n",
       "  likely means that the widgets JavaScript library is either not installed or\n",
       "  not enabled. See the <a href=\"https://ipywidgets.readthedocs.io/en/stable/user_install.html\">Jupyter\n",
       "  Widgets Documentation</a> for setup instructions.\n",
       "</p>\n",
       "<p>\n",
       "  If you're reading this message in another frontend (for example, a static\n",
       "  rendering on GitHub or <a href=\"https://nbviewer.jupyter.org/\">NBViewer</a>),\n",
       "  it may mean that your frontend doesn't currently support widgets.\n",
       "</p>\n"
      ],
      "text/plain": [
       "HBox(children=(IntProgress(value=0, max=36), HTML(value='')))"
      ]
     },
     "metadata": {},
     "output_type": "display_data"
    },
    {
     "name": "stdout",
     "output_type": "stream",
     "text": [
      "E:\\MestradoData\\preprocessed\\all\\02\\23*depth* 60\n",
      "E:\\MestradoData\\preprocessed\\all\\02\\04*depth* 60\n",
      "E:\\MestradoData\\preprocessed\\all\\02\\38*depth* 0\n",
      "E:\\MestradoData\\preprocessed\\all\\02\\42*depth* 60\n",
      "E:\\MestradoData\\preprocessed\\all\\02\\17*depth* 60\n",
      "E:\\MestradoData\\preprocessed\\all\\02\\35*depth* 60\n",
      "E:\\MestradoData\\preprocessed\\all\\02\\29*depth* 60\n",
      "E:\\MestradoData\\preprocessed\\all\\02\\06*depth* 60\n",
      "E:\\MestradoData\\preprocessed\\all\\02\\15*depth* 60\n",
      "E:\\MestradoData\\preprocessed\\all\\02\\09*depth* 60\n",
      "E:\\MestradoData\\preprocessed\\all\\02\\10*depth* 60\n",
      "E:\\MestradoData\\preprocessed\\all\\02\\26*depth* 60\n",
      "E:\\MestradoData\\preprocessed\\all\\02\\13*depth* 60\n",
      "E:\\MestradoData\\preprocessed\\all\\02\\43*depth* 60\n",
      "E:\\MestradoData\\preprocessed\\all\\02\\20*depth* 60\n",
      "E:\\MestradoData\\preprocessed\\all\\02\\05*depth* 60\n",
      "E:\\MestradoData\\preprocessed\\all\\02\\39*depth* 0\n",
      "E:\\MestradoData\\preprocessed\\all\\02\\02*depth* 60\n",
      "E:\\MestradoData\\preprocessed\\all\\02\\12*depth* 60\n",
      "E:\\MestradoData\\preprocessed\\all\\02\\24*depth* 60\n",
      "E:\\MestradoData\\preprocessed\\all\\02\\08*depth* 60\n",
      "E:\\MestradoData\\preprocessed\\all\\02\\34*depth* 60\n",
      "E:\\MestradoData\\preprocessed\\all\\02\\21*depth* 60\n",
      "E:\\MestradoData\\preprocessed\\all\\02\\41*depth* 60\n",
      "E:\\MestradoData\\preprocessed\\all\\02\\44*depth* 60\n",
      "E:\\MestradoData\\preprocessed\\all\\02\\11*depth* 60\n",
      "E:\\MestradoData\\preprocessed\\all\\02\\18*depth* 60\n",
      "E:\\MestradoData\\preprocessed\\all\\02\\32*depth* 60\n",
      "E:\\MestradoData\\preprocessed\\all\\02\\30*depth* 60\n",
      "E:\\MestradoData\\preprocessed\\all\\02\\14*depth* 60\n",
      "E:\\MestradoData\\preprocessed\\all\\02\\01*depth* 60\n",
      "E:\\MestradoData\\preprocessed\\all\\02\\45*depth* 30\n",
      "E:\\MestradoData\\preprocessed\\all\\02\\31*depth* 60\n",
      "E:\\MestradoData\\preprocessed\\all\\02\\28*depth* 60\n",
      "E:\\MestradoData\\preprocessed\\all\\02\\03*depth* 60\n",
      "E:\\MestradoData\\preprocessed\\all\\02\\37*depth* 0\n",
      "\n"
     ]
    },
    {
     "data": {
      "application/vnd.jupyter.widget-view+json": {
       "model_id": "51a5f54079b544bb82b3aff7ac56162b",
       "version_major": 2,
       "version_minor": 0
      },
      "text/html": [
       "<p>Failed to display Jupyter Widget of type <code>HBox</code>.</p>\n",
       "<p>\n",
       "  If you're reading this message in the Jupyter Notebook or JupyterLab Notebook, it may mean\n",
       "  that the widgets JavaScript is still loading. If this message persists, it\n",
       "  likely means that the widgets JavaScript library is either not installed or\n",
       "  not enabled. See the <a href=\"https://ipywidgets.readthedocs.io/en/stable/user_install.html\">Jupyter\n",
       "  Widgets Documentation</a> for setup instructions.\n",
       "</p>\n",
       "<p>\n",
       "  If you're reading this message in another frontend (for example, a static\n",
       "  rendering on GitHub or <a href=\"https://nbviewer.jupyter.org/\">NBViewer</a>),\n",
       "  it may mean that your frontend doesn't currently support widgets.\n",
       "</p>\n"
      ],
      "text/plain": [
       "HBox(children=(IntProgress(value=0, max=9), HTML(value='')))"
      ]
     },
     "metadata": {},
     "output_type": "display_data"
    },
    {
     "name": "stdout",
     "output_type": "stream",
     "text": [
      "E:\\MestradoData\\preprocessed\\all\\02\\22*depth* 60\n",
      "E:\\MestradoData\\preprocessed\\all\\02\\36*depth* 0\n",
      "E:\\MestradoData\\preprocessed\\all\\02\\33*depth* 60\n",
      "E:\\MestradoData\\preprocessed\\all\\02\\19*depth* 60\n",
      "E:\\MestradoData\\preprocessed\\all\\02\\27*depth* 60\n",
      "E:\\MestradoData\\preprocessed\\all\\02\\16*depth* 60\n",
      "E:\\MestradoData\\preprocessed\\all\\02\\25*depth* 60\n",
      "E:\\MestradoData\\preprocessed\\all\\02\\40*depth* 60\n",
      "E:\\MestradoData\\preprocessed\\all\\02\\07*depth* 60\n",
      "\n",
      "folders created !\n"
     ]
    },
    {
     "data": {
      "application/vnd.jupyter.widget-view+json": {
       "model_id": "b486aac7c36346d2a76cbcaf6da5fe16",
       "version_major": 2,
       "version_minor": 0
      },
      "text/html": [
       "<p>Failed to display Jupyter Widget of type <code>HBox</code>.</p>\n",
       "<p>\n",
       "  If you're reading this message in the Jupyter Notebook or JupyterLab Notebook, it may mean\n",
       "  that the widgets JavaScript is still loading. If this message persists, it\n",
       "  likely means that the widgets JavaScript library is either not installed or\n",
       "  not enabled. See the <a href=\"https://ipywidgets.readthedocs.io/en/stable/user_install.html\">Jupyter\n",
       "  Widgets Documentation</a> for setup instructions.\n",
       "</p>\n",
       "<p>\n",
       "  If you're reading this message in another frontend (for example, a static\n",
       "  rendering on GitHub or <a href=\"https://nbviewer.jupyter.org/\">NBViewer</a>),\n",
       "  it may mean that your frontend doesn't currently support widgets.\n",
       "</p>\n"
      ],
      "text/plain": [
       "HBox(children=(IntProgress(value=0, max=36), HTML(value='')))"
      ]
     },
     "metadata": {},
     "output_type": "display_data"
    },
    {
     "name": "stdout",
     "output_type": "stream",
     "text": [
      "E:\\MestradoData\\preprocessed\\all\\03\\23*depth* 60\n",
      "E:\\MestradoData\\preprocessed\\all\\03\\04*depth* 60\n",
      "E:\\MestradoData\\preprocessed\\all\\03\\38*depth* 0\n",
      "E:\\MestradoData\\preprocessed\\all\\03\\42*depth* 60\n",
      "E:\\MestradoData\\preprocessed\\all\\03\\17*depth* 60\n",
      "E:\\MestradoData\\preprocessed\\all\\03\\35*depth* 60\n",
      "E:\\MestradoData\\preprocessed\\all\\03\\29*depth* 60\n",
      "E:\\MestradoData\\preprocessed\\all\\03\\06*depth* 60\n",
      "E:\\MestradoData\\preprocessed\\all\\03\\15*depth* 60\n",
      "E:\\MestradoData\\preprocessed\\all\\03\\09*depth* 60\n",
      "E:\\MestradoData\\preprocessed\\all\\03\\10*depth* 60\n",
      "E:\\MestradoData\\preprocessed\\all\\03\\26*depth* 60\n",
      "E:\\MestradoData\\preprocessed\\all\\03\\13*depth* 0\n",
      "E:\\MestradoData\\preprocessed\\all\\03\\43*depth* 60\n",
      "E:\\MestradoData\\preprocessed\\all\\03\\20*depth* 60\n",
      "E:\\MestradoData\\preprocessed\\all\\03\\05*depth* 60\n",
      "E:\\MestradoData\\preprocessed\\all\\03\\39*depth* 0\n",
      "E:\\MestradoData\\preprocessed\\all\\03\\02*depth* 60\n",
      "E:\\MestradoData\\preprocessed\\all\\03\\12*depth* 60\n",
      "E:\\MestradoData\\preprocessed\\all\\03\\24*depth* 60\n",
      "E:\\MestradoData\\preprocessed\\all\\03\\08*depth* 60\n",
      "E:\\MestradoData\\preprocessed\\all\\03\\34*depth* 60\n",
      "E:\\MestradoData\\preprocessed\\all\\03\\21*depth* 60\n",
      "E:\\MestradoData\\preprocessed\\all\\03\\41*depth* 60\n",
      "E:\\MestradoData\\preprocessed\\all\\03\\44*depth* 60\n",
      "E:\\MestradoData\\preprocessed\\all\\03\\11*depth* 54\n",
      "E:\\MestradoData\\preprocessed\\all\\03\\18*depth* 0\n",
      "E:\\MestradoData\\preprocessed\\all\\03\\32*depth* 60\n",
      "E:\\MestradoData\\preprocessed\\all\\03\\30*depth* 60\n",
      "E:\\MestradoData\\preprocessed\\all\\03\\14*depth* 60\n",
      "E:\\MestradoData\\preprocessed\\all\\03\\01*depth* 60\n",
      "E:\\MestradoData\\preprocessed\\all\\03\\45*depth* 30\n",
      "E:\\MestradoData\\preprocessed\\all\\03\\31*depth* 60\n",
      "E:\\MestradoData\\preprocessed\\all\\03\\28*depth* 60\n",
      "E:\\MestradoData\\preprocessed\\all\\03\\03*depth* 60\n",
      "E:\\MestradoData\\preprocessed\\all\\03\\37*depth* 0\n",
      "\n"
     ]
    },
    {
     "data": {
      "application/vnd.jupyter.widget-view+json": {
       "model_id": "3254ef001bfd47e387a117be3f67443b",
       "version_major": 2,
       "version_minor": 0
      },
      "text/html": [
       "<p>Failed to display Jupyter Widget of type <code>HBox</code>.</p>\n",
       "<p>\n",
       "  If you're reading this message in the Jupyter Notebook or JupyterLab Notebook, it may mean\n",
       "  that the widgets JavaScript is still loading. If this message persists, it\n",
       "  likely means that the widgets JavaScript library is either not installed or\n",
       "  not enabled. See the <a href=\"https://ipywidgets.readthedocs.io/en/stable/user_install.html\">Jupyter\n",
       "  Widgets Documentation</a> for setup instructions.\n",
       "</p>\n",
       "<p>\n",
       "  If you're reading this message in another frontend (for example, a static\n",
       "  rendering on GitHub or <a href=\"https://nbviewer.jupyter.org/\">NBViewer</a>),\n",
       "  it may mean that your frontend doesn't currently support widgets.\n",
       "</p>\n"
      ],
      "text/plain": [
       "HBox(children=(IntProgress(value=0, max=9), HTML(value='')))"
      ]
     },
     "metadata": {},
     "output_type": "display_data"
    },
    {
     "name": "stdout",
     "output_type": "stream",
     "text": [
      "E:\\MestradoData\\preprocessed\\all\\03\\22*depth* 60\n",
      "E:\\MestradoData\\preprocessed\\all\\03\\36*depth* 0\n",
      "E:\\MestradoData\\preprocessed\\all\\03\\33*depth* 60\n",
      "E:\\MestradoData\\preprocessed\\all\\03\\19*depth* 60\n",
      "E:\\MestradoData\\preprocessed\\all\\03\\27*depth* 60\n",
      "E:\\MestradoData\\preprocessed\\all\\03\\16*depth* 60\n",
      "E:\\MestradoData\\preprocessed\\all\\03\\25*depth* 60\n",
      "E:\\MestradoData\\preprocessed\\all\\03\\40*depth* 60\n",
      "E:\\MestradoData\\preprocessed\\all\\03\\07*depth* 60\n",
      "\n",
      "folders created !\n"
     ]
    },
    {
     "data": {
      "application/vnd.jupyter.widget-view+json": {
       "model_id": "a0467367990e4f0da08b8af09aec9efd",
       "version_major": 2,
       "version_minor": 0
      },
      "text/html": [
       "<p>Failed to display Jupyter Widget of type <code>HBox</code>.</p>\n",
       "<p>\n",
       "  If you're reading this message in the Jupyter Notebook or JupyterLab Notebook, it may mean\n",
       "  that the widgets JavaScript is still loading. If this message persists, it\n",
       "  likely means that the widgets JavaScript library is either not installed or\n",
       "  not enabled. See the <a href=\"https://ipywidgets.readthedocs.io/en/stable/user_install.html\">Jupyter\n",
       "  Widgets Documentation</a> for setup instructions.\n",
       "</p>\n",
       "<p>\n",
       "  If you're reading this message in another frontend (for example, a static\n",
       "  rendering on GitHub or <a href=\"https://nbviewer.jupyter.org/\">NBViewer</a>),\n",
       "  it may mean that your frontend doesn't currently support widgets.\n",
       "</p>\n"
      ],
      "text/plain": [
       "HBox(children=(IntProgress(value=0, max=36), HTML(value='')))"
      ]
     },
     "metadata": {},
     "output_type": "display_data"
    },
    {
     "name": "stdout",
     "output_type": "stream",
     "text": [
      "E:\\MestradoData\\preprocessed\\all\\04\\23*depth* 60\n",
      "E:\\MestradoData\\preprocessed\\all\\04\\04*depth* 60\n",
      "E:\\MestradoData\\preprocessed\\all\\04\\38*depth* 0\n",
      "E:\\MestradoData\\preprocessed\\all\\04\\42*depth* 60\n",
      "E:\\MestradoData\\preprocessed\\all\\04\\17*depth* 60\n",
      "E:\\MestradoData\\preprocessed\\all\\04\\35*depth* 60\n",
      "E:\\MestradoData\\preprocessed\\all\\04\\29*depth* 60\n",
      "E:\\MestradoData\\preprocessed\\all\\04\\06*depth* 60\n",
      "E:\\MestradoData\\preprocessed\\all\\04\\15*depth* 60\n",
      "E:\\MestradoData\\preprocessed\\all\\04\\09*depth* 60\n",
      "E:\\MestradoData\\preprocessed\\all\\04\\10*depth* 60\n",
      "E:\\MestradoData\\preprocessed\\all\\04\\26*depth* 60\n",
      "E:\\MestradoData\\preprocessed\\all\\04\\13*depth* 0\n",
      "E:\\MestradoData\\preprocessed\\all\\04\\43*depth* 60\n",
      "E:\\MestradoData\\preprocessed\\all\\04\\20*depth* 60\n",
      "E:\\MestradoData\\preprocessed\\all\\04\\05*depth* 60\n",
      "E:\\MestradoData\\preprocessed\\all\\04\\39*depth* 0\n",
      "E:\\MestradoData\\preprocessed\\all\\04\\02*depth* 60\n",
      "E:\\MestradoData\\preprocessed\\all\\04\\12*depth* 60\n",
      "E:\\MestradoData\\preprocessed\\all\\04\\24*depth* 60\n",
      "E:\\MestradoData\\preprocessed\\all\\04\\08*depth* 60\n",
      "E:\\MestradoData\\preprocessed\\all\\04\\34*depth* 60\n",
      "E:\\MestradoData\\preprocessed\\all\\04\\21*depth* 60\n",
      "E:\\MestradoData\\preprocessed\\all\\04\\41*depth* 60\n",
      "E:\\MestradoData\\preprocessed\\all\\04\\44*depth* 60\n",
      "E:\\MestradoData\\preprocessed\\all\\04\\11*depth* 54\n",
      "E:\\MestradoData\\preprocessed\\all\\04\\18*depth* 0\n",
      "E:\\MestradoData\\preprocessed\\all\\04\\32*depth* 60\n",
      "E:\\MestradoData\\preprocessed\\all\\04\\30*depth* 60\n",
      "E:\\MestradoData\\preprocessed\\all\\04\\14*depth* 60\n",
      "E:\\MestradoData\\preprocessed\\all\\04\\01*depth* 60\n",
      "E:\\MestradoData\\preprocessed\\all\\04\\45*depth* 30\n",
      "E:\\MestradoData\\preprocessed\\all\\04\\31*depth* 60\n",
      "E:\\MestradoData\\preprocessed\\all\\04\\28*depth* 60\n",
      "E:\\MestradoData\\preprocessed\\all\\04\\03*depth* 60\n",
      "E:\\MestradoData\\preprocessed\\all\\04\\37*depth* 0\n",
      "\n"
     ]
    },
    {
     "data": {
      "application/vnd.jupyter.widget-view+json": {
       "model_id": "6d9b41ea4cf240ffa803c773e5bf4761",
       "version_major": 2,
       "version_minor": 0
      },
      "text/html": [
       "<p>Failed to display Jupyter Widget of type <code>HBox</code>.</p>\n",
       "<p>\n",
       "  If you're reading this message in the Jupyter Notebook or JupyterLab Notebook, it may mean\n",
       "  that the widgets JavaScript is still loading. If this message persists, it\n",
       "  likely means that the widgets JavaScript library is either not installed or\n",
       "  not enabled. See the <a href=\"https://ipywidgets.readthedocs.io/en/stable/user_install.html\">Jupyter\n",
       "  Widgets Documentation</a> for setup instructions.\n",
       "</p>\n",
       "<p>\n",
       "  If you're reading this message in another frontend (for example, a static\n",
       "  rendering on GitHub or <a href=\"https://nbviewer.jupyter.org/\">NBViewer</a>),\n",
       "  it may mean that your frontend doesn't currently support widgets.\n",
       "</p>\n"
      ],
      "text/plain": [
       "HBox(children=(IntProgress(value=0, max=9), HTML(value='')))"
      ]
     },
     "metadata": {},
     "output_type": "display_data"
    },
    {
     "name": "stdout",
     "output_type": "stream",
     "text": [
      "E:\\MestradoData\\preprocessed\\all\\04\\22*depth* 60\n",
      "E:\\MestradoData\\preprocessed\\all\\04\\36*depth* 0\n",
      "E:\\MestradoData\\preprocessed\\all\\04\\33*depth* 60\n",
      "E:\\MestradoData\\preprocessed\\all\\04\\19*depth* 60\n",
      "E:\\MestradoData\\preprocessed\\all\\04\\27*depth* 60\n",
      "E:\\MestradoData\\preprocessed\\all\\04\\16*depth* 60\n",
      "E:\\MestradoData\\preprocessed\\all\\04\\25*depth* 60\n",
      "E:\\MestradoData\\preprocessed\\all\\04\\40*depth* 60\n",
      "E:\\MestradoData\\preprocessed\\all\\04\\07*depth* 60\n",
      "\n",
      "folders created !\n"
     ]
    },
    {
     "data": {
      "application/vnd.jupyter.widget-view+json": {
       "model_id": "ea5cd6febeb54890960c6a5cd98f014a",
       "version_major": 2,
       "version_minor": 0
      },
      "text/html": [
       "<p>Failed to display Jupyter Widget of type <code>HBox</code>.</p>\n",
       "<p>\n",
       "  If you're reading this message in the Jupyter Notebook or JupyterLab Notebook, it may mean\n",
       "  that the widgets JavaScript is still loading. If this message persists, it\n",
       "  likely means that the widgets JavaScript library is either not installed or\n",
       "  not enabled. See the <a href=\"https://ipywidgets.readthedocs.io/en/stable/user_install.html\">Jupyter\n",
       "  Widgets Documentation</a> for setup instructions.\n",
       "</p>\n",
       "<p>\n",
       "  If you're reading this message in another frontend (for example, a static\n",
       "  rendering on GitHub or <a href=\"https://nbviewer.jupyter.org/\">NBViewer</a>),\n",
       "  it may mean that your frontend doesn't currently support widgets.\n",
       "</p>\n"
      ],
      "text/plain": [
       "HBox(children=(IntProgress(value=0, max=36), HTML(value='')))"
      ]
     },
     "metadata": {},
     "output_type": "display_data"
    },
    {
     "name": "stdout",
     "output_type": "stream",
     "text": [
      "E:\\MestradoData\\preprocessed\\all\\05\\23*depth* 60\n",
      "E:\\MestradoData\\preprocessed\\all\\05\\04*depth* 60\n",
      "E:\\MestradoData\\preprocessed\\all\\05\\38*depth* 0\n",
      "E:\\MestradoData\\preprocessed\\all\\05\\42*depth* 60\n",
      "E:\\MestradoData\\preprocessed\\all\\05\\17*depth* 60\n",
      "E:\\MestradoData\\preprocessed\\all\\05\\35*depth* 60\n",
      "E:\\MestradoData\\preprocessed\\all\\05\\29*depth* 60\n",
      "E:\\MestradoData\\preprocessed\\all\\05\\06*depth* 60\n",
      "E:\\MestradoData\\preprocessed\\all\\05\\15*depth* 60\n",
      "E:\\MestradoData\\preprocessed\\all\\05\\09*depth* 60\n",
      "E:\\MestradoData\\preprocessed\\all\\05\\10*depth* 60\n",
      "E:\\MestradoData\\preprocessed\\all\\05\\26*depth* 60\n",
      "E:\\MestradoData\\preprocessed\\all\\05\\13*depth* 60\n",
      "E:\\MestradoData\\preprocessed\\all\\05\\43*depth* 60\n",
      "E:\\MestradoData\\preprocessed\\all\\05\\20*depth* 60\n",
      "E:\\MestradoData\\preprocessed\\all\\05\\05*depth* 60\n",
      "E:\\MestradoData\\preprocessed\\all\\05\\39*depth* 0\n",
      "E:\\MestradoData\\preprocessed\\all\\05\\02*depth* 60\n",
      "E:\\MestradoData\\preprocessed\\all\\05\\12*depth* 60\n",
      "E:\\MestradoData\\preprocessed\\all\\05\\24*depth* 60\n",
      "E:\\MestradoData\\preprocessed\\all\\05\\08*depth* 60\n",
      "E:\\MestradoData\\preprocessed\\all\\05\\34*depth* 54\n",
      "E:\\MestradoData\\preprocessed\\all\\05\\21*depth* 60\n",
      "E:\\MestradoData\\preprocessed\\all\\05\\41*depth* 60\n",
      "E:\\MestradoData\\preprocessed\\all\\05\\44*depth* 60\n",
      "E:\\MestradoData\\preprocessed\\all\\05\\11*depth* 60\n",
      "E:\\MestradoData\\preprocessed\\all\\05\\18*depth* 60\n",
      "E:\\MestradoData\\preprocessed\\all\\05\\32*depth* 60\n",
      "E:\\MestradoData\\preprocessed\\all\\05\\30*depth* 60\n",
      "E:\\MestradoData\\preprocessed\\all\\05\\14*depth* 60\n",
      "E:\\MestradoData\\preprocessed\\all\\05\\01*depth* 60\n",
      "E:\\MestradoData\\preprocessed\\all\\05\\45*depth* 30\n",
      "E:\\MestradoData\\preprocessed\\all\\05\\31*depth* 60\n",
      "E:\\MestradoData\\preprocessed\\all\\05\\28*depth* 60\n",
      "E:\\MestradoData\\preprocessed\\all\\05\\03*depth* 60\n",
      "E:\\MestradoData\\preprocessed\\all\\05\\37*depth* 0\n",
      "\n"
     ]
    },
    {
     "data": {
      "application/vnd.jupyter.widget-view+json": {
       "model_id": "f96f808cbbb741d587e42caf75627ca8",
       "version_major": 2,
       "version_minor": 0
      },
      "text/html": [
       "<p>Failed to display Jupyter Widget of type <code>HBox</code>.</p>\n",
       "<p>\n",
       "  If you're reading this message in the Jupyter Notebook or JupyterLab Notebook, it may mean\n",
       "  that the widgets JavaScript is still loading. If this message persists, it\n",
       "  likely means that the widgets JavaScript library is either not installed or\n",
       "  not enabled. See the <a href=\"https://ipywidgets.readthedocs.io/en/stable/user_install.html\">Jupyter\n",
       "  Widgets Documentation</a> for setup instructions.\n",
       "</p>\n",
       "<p>\n",
       "  If you're reading this message in another frontend (for example, a static\n",
       "  rendering on GitHub or <a href=\"https://nbviewer.jupyter.org/\">NBViewer</a>),\n",
       "  it may mean that your frontend doesn't currently support widgets.\n",
       "</p>\n"
      ],
      "text/plain": [
       "HBox(children=(IntProgress(value=0, max=9), HTML(value='')))"
      ]
     },
     "metadata": {},
     "output_type": "display_data"
    },
    {
     "name": "stdout",
     "output_type": "stream",
     "text": [
      "E:\\MestradoData\\preprocessed\\all\\05\\22*depth* 46\n",
      "E:\\MestradoData\\preprocessed\\all\\05\\36*depth* 0\n",
      "E:\\MestradoData\\preprocessed\\all\\05\\33*depth* 60\n",
      "E:\\MestradoData\\preprocessed\\all\\05\\19*depth* 0\n",
      "E:\\MestradoData\\preprocessed\\all\\05\\27*depth* 60\n",
      "E:\\MestradoData\\preprocessed\\all\\05\\16*depth* 60\n",
      "E:\\MestradoData\\preprocessed\\all\\05\\25*depth* 60\n",
      "E:\\MestradoData\\preprocessed\\all\\05\\40*depth* 60\n",
      "E:\\MestradoData\\preprocessed\\all\\05\\07*depth* 60\n",
      "\n",
      "folders created !\n"
     ]
    },
    {
     "data": {
      "application/vnd.jupyter.widget-view+json": {
       "model_id": "44da2f9651974035a24c8e56f3775e53",
       "version_major": 2,
       "version_minor": 0
      },
      "text/html": [
       "<p>Failed to display Jupyter Widget of type <code>HBox</code>.</p>\n",
       "<p>\n",
       "  If you're reading this message in the Jupyter Notebook or JupyterLab Notebook, it may mean\n",
       "  that the widgets JavaScript is still loading. If this message persists, it\n",
       "  likely means that the widgets JavaScript library is either not installed or\n",
       "  not enabled. See the <a href=\"https://ipywidgets.readthedocs.io/en/stable/user_install.html\">Jupyter\n",
       "  Widgets Documentation</a> for setup instructions.\n",
       "</p>\n",
       "<p>\n",
       "  If you're reading this message in another frontend (for example, a static\n",
       "  rendering on GitHub or <a href=\"https://nbviewer.jupyter.org/\">NBViewer</a>),\n",
       "  it may mean that your frontend doesn't currently support widgets.\n",
       "</p>\n"
      ],
      "text/plain": [
       "HBox(children=(IntProgress(value=0, max=36), HTML(value='')))"
      ]
     },
     "metadata": {},
     "output_type": "display_data"
    },
    {
     "name": "stdout",
     "output_type": "stream",
     "text": [
      "E:\\MestradoData\\preprocessed\\all\\06\\23*depth* 60\n",
      "E:\\MestradoData\\preprocessed\\all\\06\\04*depth* 60\n",
      "E:\\MestradoData\\preprocessed\\all\\06\\38*depth* 0\n",
      "E:\\MestradoData\\preprocessed\\all\\06\\42*depth* 60\n",
      "E:\\MestradoData\\preprocessed\\all\\06\\17*depth* 60\n",
      "E:\\MestradoData\\preprocessed\\all\\06\\35*depth* 60\n",
      "E:\\MestradoData\\preprocessed\\all\\06\\29*depth* 60\n",
      "E:\\MestradoData\\preprocessed\\all\\06\\06*depth* 60\n",
      "E:\\MestradoData\\preprocessed\\all\\06\\15*depth* 60\n",
      "E:\\MestradoData\\preprocessed\\all\\06\\09*depth* 60\n",
      "E:\\MestradoData\\preprocessed\\all\\06\\10*depth* 60\n",
      "E:\\MestradoData\\preprocessed\\all\\06\\26*depth* 60\n",
      "E:\\MestradoData\\preprocessed\\all\\06\\13*depth* 60\n",
      "E:\\MestradoData\\preprocessed\\all\\06\\43*depth* 60\n",
      "E:\\MestradoData\\preprocessed\\all\\06\\20*depth* 60\n",
      "E:\\MestradoData\\preprocessed\\all\\06\\05*depth* 60\n",
      "E:\\MestradoData\\preprocessed\\all\\06\\39*depth* 0\n",
      "E:\\MestradoData\\preprocessed\\all\\06\\02*depth* 60\n",
      "E:\\MestradoData\\preprocessed\\all\\06\\12*depth* 60\n",
      "E:\\MestradoData\\preprocessed\\all\\06\\24*depth* 60\n",
      "E:\\MestradoData\\preprocessed\\all\\06\\08*depth* 60\n",
      "E:\\MestradoData\\preprocessed\\all\\06\\34*depth* 54\n",
      "E:\\MestradoData\\preprocessed\\all\\06\\21*depth* 60\n",
      "E:\\MestradoData\\preprocessed\\all\\06\\41*depth* 60\n",
      "E:\\MestradoData\\preprocessed\\all\\06\\44*depth* 60\n",
      "E:\\MestradoData\\preprocessed\\all\\06\\11*depth* 60\n",
      "E:\\MestradoData\\preprocessed\\all\\06\\18*depth* 60\n",
      "E:\\MestradoData\\preprocessed\\all\\06\\32*depth* 60\n",
      "E:\\MestradoData\\preprocessed\\all\\06\\30*depth* 60\n",
      "E:\\MestradoData\\preprocessed\\all\\06\\14*depth* 60\n",
      "E:\\MestradoData\\preprocessed\\all\\06\\01*depth* 60\n",
      "E:\\MestradoData\\preprocessed\\all\\06\\45*depth* 30\n",
      "E:\\MestradoData\\preprocessed\\all\\06\\31*depth* 60\n",
      "E:\\MestradoData\\preprocessed\\all\\06\\28*depth* 60\n",
      "E:\\MestradoData\\preprocessed\\all\\06\\03*depth* 60\n",
      "E:\\MestradoData\\preprocessed\\all\\06\\37*depth* 0\n",
      "\n"
     ]
    },
    {
     "data": {
      "application/vnd.jupyter.widget-view+json": {
       "model_id": "f5feca4ac7c74fd5b77e787b184de0bf",
       "version_major": 2,
       "version_minor": 0
      },
      "text/html": [
       "<p>Failed to display Jupyter Widget of type <code>HBox</code>.</p>\n",
       "<p>\n",
       "  If you're reading this message in the Jupyter Notebook or JupyterLab Notebook, it may mean\n",
       "  that the widgets JavaScript is still loading. If this message persists, it\n",
       "  likely means that the widgets JavaScript library is either not installed or\n",
       "  not enabled. See the <a href=\"https://ipywidgets.readthedocs.io/en/stable/user_install.html\">Jupyter\n",
       "  Widgets Documentation</a> for setup instructions.\n",
       "</p>\n",
       "<p>\n",
       "  If you're reading this message in another frontend (for example, a static\n",
       "  rendering on GitHub or <a href=\"https://nbviewer.jupyter.org/\">NBViewer</a>),\n",
       "  it may mean that your frontend doesn't currently support widgets.\n",
       "</p>\n"
      ],
      "text/plain": [
       "HBox(children=(IntProgress(value=0, max=9), HTML(value='')))"
      ]
     },
     "metadata": {},
     "output_type": "display_data"
    },
    {
     "name": "stdout",
     "output_type": "stream",
     "text": [
      "E:\\MestradoData\\preprocessed\\all\\06\\22*depth* 42\n",
      "E:\\MestradoData\\preprocessed\\all\\06\\36*depth* 0\n",
      "E:\\MestradoData\\preprocessed\\all\\06\\33*depth* 60\n",
      "E:\\MestradoData\\preprocessed\\all\\06\\19*depth* 0\n",
      "E:\\MestradoData\\preprocessed\\all\\06\\27*depth* 60\n",
      "E:\\MestradoData\\preprocessed\\all\\06\\16*depth* 60\n",
      "E:\\MestradoData\\preprocessed\\all\\06\\25*depth* 60\n",
      "E:\\MestradoData\\preprocessed\\all\\06\\40*depth* 60\n",
      "E:\\MestradoData\\preprocessed\\all\\06\\07*depth* 60\n",
      "\n",
      "folders created !\n"
     ]
    },
    {
     "data": {
      "application/vnd.jupyter.widget-view+json": {
       "model_id": "50243d6a28ee456a92bffb4dd74b8156",
       "version_major": 2,
       "version_minor": 0
      },
      "text/html": [
       "<p>Failed to display Jupyter Widget of type <code>HBox</code>.</p>\n",
       "<p>\n",
       "  If you're reading this message in the Jupyter Notebook or JupyterLab Notebook, it may mean\n",
       "  that the widgets JavaScript is still loading. If this message persists, it\n",
       "  likely means that the widgets JavaScript library is either not installed or\n",
       "  not enabled. See the <a href=\"https://ipywidgets.readthedocs.io/en/stable/user_install.html\">Jupyter\n",
       "  Widgets Documentation</a> for setup instructions.\n",
       "</p>\n",
       "<p>\n",
       "  If you're reading this message in another frontend (for example, a static\n",
       "  rendering on GitHub or <a href=\"https://nbviewer.jupyter.org/\">NBViewer</a>),\n",
       "  it may mean that your frontend doesn't currently support widgets.\n",
       "</p>\n"
      ],
      "text/plain": [
       "HBox(children=(IntProgress(value=0, max=36), HTML(value='')))"
      ]
     },
     "metadata": {},
     "output_type": "display_data"
    },
    {
     "name": "stdout",
     "output_type": "stream",
     "text": [
      "E:\\MestradoData\\preprocessed\\all\\07\\23*depth* 60\n",
      "E:\\MestradoData\\preprocessed\\all\\07\\04*depth* 60\n",
      "E:\\MestradoData\\preprocessed\\all\\07\\38*depth* 0\n",
      "E:\\MestradoData\\preprocessed\\all\\07\\42*depth* 60\n",
      "E:\\MestradoData\\preprocessed\\all\\07\\17*depth* 60\n",
      "E:\\MestradoData\\preprocessed\\all\\07\\35*depth* 60\n",
      "E:\\MestradoData\\preprocessed\\all\\07\\29*depth* 60\n",
      "E:\\MestradoData\\preprocessed\\all\\07\\06*depth* 60\n",
      "E:\\MestradoData\\preprocessed\\all\\07\\15*depth* 60\n",
      "E:\\MestradoData\\preprocessed\\all\\07\\09*depth* 60\n",
      "E:\\MestradoData\\preprocessed\\all\\07\\10*depth* 60\n",
      "E:\\MestradoData\\preprocessed\\all\\07\\26*depth* 60\n",
      "E:\\MestradoData\\preprocessed\\all\\07\\13*depth* 0\n",
      "E:\\MestradoData\\preprocessed\\all\\07\\43*depth* 60\n",
      "E:\\MestradoData\\preprocessed\\all\\07\\20*depth* 60\n",
      "E:\\MestradoData\\preprocessed\\all\\07\\05*depth* 60\n",
      "E:\\MestradoData\\preprocessed\\all\\07\\39*depth* 0\n",
      "E:\\MestradoData\\preprocessed\\all\\07\\02*depth* 60\n",
      "E:\\MestradoData\\preprocessed\\all\\07\\12*depth* 60\n",
      "E:\\MestradoData\\preprocessed\\all\\07\\24*depth* 60\n",
      "E:\\MestradoData\\preprocessed\\all\\07\\08*depth* 60\n",
      "E:\\MestradoData\\preprocessed\\all\\07\\34*depth* 60\n",
      "E:\\MestradoData\\preprocessed\\all\\07\\21*depth* 60\n",
      "E:\\MestradoData\\preprocessed\\all\\07\\41*depth* 60\n",
      "E:\\MestradoData\\preprocessed\\all\\07\\44*depth* 60\n",
      "E:\\MestradoData\\preprocessed\\all\\07\\11*depth* 54\n",
      "E:\\MestradoData\\preprocessed\\all\\07\\18*depth* 0\n",
      "E:\\MestradoData\\preprocessed\\all\\07\\32*depth* 60\n",
      "E:\\MestradoData\\preprocessed\\all\\07\\30*depth* 60\n",
      "E:\\MestradoData\\preprocessed\\all\\07\\14*depth* 60\n",
      "E:\\MestradoData\\preprocessed\\all\\07\\01*depth* 60\n",
      "E:\\MestradoData\\preprocessed\\all\\07\\45*depth* 30\n",
      "E:\\MestradoData\\preprocessed\\all\\07\\31*depth* 60\n",
      "E:\\MestradoData\\preprocessed\\all\\07\\28*depth* 60\n",
      "E:\\MestradoData\\preprocessed\\all\\07\\03*depth* 60\n",
      "E:\\MestradoData\\preprocessed\\all\\07\\37*depth* 0\n",
      "\n"
     ]
    },
    {
     "data": {
      "application/vnd.jupyter.widget-view+json": {
       "model_id": "8c5c849f80c84ae1b5db8c52e46bdddc",
       "version_major": 2,
       "version_minor": 0
      },
      "text/html": [
       "<p>Failed to display Jupyter Widget of type <code>HBox</code>.</p>\n",
       "<p>\n",
       "  If you're reading this message in the Jupyter Notebook or JupyterLab Notebook, it may mean\n",
       "  that the widgets JavaScript is still loading. If this message persists, it\n",
       "  likely means that the widgets JavaScript library is either not installed or\n",
       "  not enabled. See the <a href=\"https://ipywidgets.readthedocs.io/en/stable/user_install.html\">Jupyter\n",
       "  Widgets Documentation</a> for setup instructions.\n",
       "</p>\n",
       "<p>\n",
       "  If you're reading this message in another frontend (for example, a static\n",
       "  rendering on GitHub or <a href=\"https://nbviewer.jupyter.org/\">NBViewer</a>),\n",
       "  it may mean that your frontend doesn't currently support widgets.\n",
       "</p>\n"
      ],
      "text/plain": [
       "HBox(children=(IntProgress(value=0, max=9), HTML(value='')))"
      ]
     },
     "metadata": {},
     "output_type": "display_data"
    },
    {
     "name": "stdout",
     "output_type": "stream",
     "text": [
      "E:\\MestradoData\\preprocessed\\all\\07\\22*depth* 60\n",
      "E:\\MestradoData\\preprocessed\\all\\07\\36*depth* 0\n",
      "E:\\MestradoData\\preprocessed\\all\\07\\33*depth* 60\n",
      "E:\\MestradoData\\preprocessed\\all\\07\\19*depth* 60\n",
      "E:\\MestradoData\\preprocessed\\all\\07\\27*depth* 60\n",
      "E:\\MestradoData\\preprocessed\\all\\07\\16*depth* 60\n",
      "E:\\MestradoData\\preprocessed\\all\\07\\25*depth* 60\n",
      "E:\\MestradoData\\preprocessed\\all\\07\\40*depth* 60\n",
      "E:\\MestradoData\\preprocessed\\all\\07\\07*depth* 60\n",
      "\n",
      "folders created !\n"
     ]
    },
    {
     "data": {
      "application/vnd.jupyter.widget-view+json": {
       "model_id": "93113e32f68b44f7a223933be2db32e0",
       "version_major": 2,
       "version_minor": 0
      },
      "text/html": [
       "<p>Failed to display Jupyter Widget of type <code>HBox</code>.</p>\n",
       "<p>\n",
       "  If you're reading this message in the Jupyter Notebook or JupyterLab Notebook, it may mean\n",
       "  that the widgets JavaScript is still loading. If this message persists, it\n",
       "  likely means that the widgets JavaScript library is either not installed or\n",
       "  not enabled. See the <a href=\"https://ipywidgets.readthedocs.io/en/stable/user_install.html\">Jupyter\n",
       "  Widgets Documentation</a> for setup instructions.\n",
       "</p>\n",
       "<p>\n",
       "  If you're reading this message in another frontend (for example, a static\n",
       "  rendering on GitHub or <a href=\"https://nbviewer.jupyter.org/\">NBViewer</a>),\n",
       "  it may mean that your frontend doesn't currently support widgets.\n",
       "</p>\n"
      ],
      "text/plain": [
       "HBox(children=(IntProgress(value=0, max=36), HTML(value='')))"
      ]
     },
     "metadata": {},
     "output_type": "display_data"
    },
    {
     "name": "stdout",
     "output_type": "stream",
     "text": [
      "E:\\MestradoData\\preprocessed\\all\\08\\23*depth* 60\n",
      "E:\\MestradoData\\preprocessed\\all\\08\\04*depth* 60\n",
      "E:\\MestradoData\\preprocessed\\all\\08\\38*depth* 0\n",
      "E:\\MestradoData\\preprocessed\\all\\08\\42*depth* 60\n",
      "E:\\MestradoData\\preprocessed\\all\\08\\17*depth* 60\n",
      "E:\\MestradoData\\preprocessed\\all\\08\\35*depth* 60\n",
      "E:\\MestradoData\\preprocessed\\all\\08\\29*depth* 60\n",
      "E:\\MestradoData\\preprocessed\\all\\08\\06*depth* 60\n",
      "E:\\MestradoData\\preprocessed\\all\\08\\15*depth* 60\n",
      "E:\\MestradoData\\preprocessed\\all\\08\\09*depth* 60\n",
      "E:\\MestradoData\\preprocessed\\all\\08\\10*depth* 60\n",
      "E:\\MestradoData\\preprocessed\\all\\08\\26*depth* 60\n",
      "E:\\MestradoData\\preprocessed\\all\\08\\13*depth* 0\n",
      "E:\\MestradoData\\preprocessed\\all\\08\\43*depth* 60\n",
      "E:\\MestradoData\\preprocessed\\all\\08\\20*depth* 60\n",
      "E:\\MestradoData\\preprocessed\\all\\08\\05*depth* 60\n",
      "E:\\MestradoData\\preprocessed\\all\\08\\39*depth* 0\n",
      "E:\\MestradoData\\preprocessed\\all\\08\\02*depth* 60\n",
      "E:\\MestradoData\\preprocessed\\all\\08\\12*depth* 60\n",
      "E:\\MestradoData\\preprocessed\\all\\08\\24*depth* 60\n",
      "E:\\MestradoData\\preprocessed\\all\\08\\08*depth* 60\n",
      "E:\\MestradoData\\preprocessed\\all\\08\\34*depth* 60\n",
      "E:\\MestradoData\\preprocessed\\all\\08\\21*depth* 60\n",
      "E:\\MestradoData\\preprocessed\\all\\08\\41*depth* 60\n",
      "E:\\MestradoData\\preprocessed\\all\\08\\44*depth* 60\n",
      "E:\\MestradoData\\preprocessed\\all\\08\\11*depth* 54\n",
      "E:\\MestradoData\\preprocessed\\all\\08\\18*depth* 0\n",
      "E:\\MestradoData\\preprocessed\\all\\08\\32*depth* 60\n",
      "E:\\MestradoData\\preprocessed\\all\\08\\30*depth* 60\n",
      "E:\\MestradoData\\preprocessed\\all\\08\\14*depth* 60\n",
      "E:\\MestradoData\\preprocessed\\all\\08\\01*depth* 60\n",
      "E:\\MestradoData\\preprocessed\\all\\08\\45*depth* 30\n",
      "E:\\MestradoData\\preprocessed\\all\\08\\31*depth* 60\n",
      "E:\\MestradoData\\preprocessed\\all\\08\\28*depth* 60\n",
      "E:\\MestradoData\\preprocessed\\all\\08\\03*depth* 60\n",
      "E:\\MestradoData\\preprocessed\\all\\08\\37*depth* 0\n",
      "\n"
     ]
    },
    {
     "data": {
      "application/vnd.jupyter.widget-view+json": {
       "model_id": "2bbcbd2362b948af9d76334e14019a9c",
       "version_major": 2,
       "version_minor": 0
      },
      "text/html": [
       "<p>Failed to display Jupyter Widget of type <code>HBox</code>.</p>\n",
       "<p>\n",
       "  If you're reading this message in the Jupyter Notebook or JupyterLab Notebook, it may mean\n",
       "  that the widgets JavaScript is still loading. If this message persists, it\n",
       "  likely means that the widgets JavaScript library is either not installed or\n",
       "  not enabled. See the <a href=\"https://ipywidgets.readthedocs.io/en/stable/user_install.html\">Jupyter\n",
       "  Widgets Documentation</a> for setup instructions.\n",
       "</p>\n",
       "<p>\n",
       "  If you're reading this message in another frontend (for example, a static\n",
       "  rendering on GitHub or <a href=\"https://nbviewer.jupyter.org/\">NBViewer</a>),\n",
       "  it may mean that your frontend doesn't currently support widgets.\n",
       "</p>\n"
      ],
      "text/plain": [
       "HBox(children=(IntProgress(value=0, max=9), HTML(value='')))"
      ]
     },
     "metadata": {},
     "output_type": "display_data"
    },
    {
     "name": "stdout",
     "output_type": "stream",
     "text": [
      "E:\\MestradoData\\preprocessed\\all\\08\\22*depth* 60\n",
      "E:\\MestradoData\\preprocessed\\all\\08\\36*depth* 0\n",
      "E:\\MestradoData\\preprocessed\\all\\08\\33*depth* 60\n",
      "E:\\MestradoData\\preprocessed\\all\\08\\19*depth* 60\n",
      "E:\\MestradoData\\preprocessed\\all\\08\\27*depth* 60\n",
      "E:\\MestradoData\\preprocessed\\all\\08\\16*depth* 60\n",
      "E:\\MestradoData\\preprocessed\\all\\08\\25*depth* 60\n",
      "E:\\MestradoData\\preprocessed\\all\\08\\40*depth* 60\n",
      "E:\\MestradoData\\preprocessed\\all\\08\\07*depth* 60\n",
      "\n",
      "folders created !\n"
     ]
    },
    {
     "data": {
      "application/vnd.jupyter.widget-view+json": {
       "model_id": "c0507d68224d44d197ffaeba5dd62992",
       "version_major": 2,
       "version_minor": 0
      },
      "text/html": [
       "<p>Failed to display Jupyter Widget of type <code>HBox</code>.</p>\n",
       "<p>\n",
       "  If you're reading this message in the Jupyter Notebook or JupyterLab Notebook, it may mean\n",
       "  that the widgets JavaScript is still loading. If this message persists, it\n",
       "  likely means that the widgets JavaScript library is either not installed or\n",
       "  not enabled. See the <a href=\"https://ipywidgets.readthedocs.io/en/stable/user_install.html\">Jupyter\n",
       "  Widgets Documentation</a> for setup instructions.\n",
       "</p>\n",
       "<p>\n",
       "  If you're reading this message in another frontend (for example, a static\n",
       "  rendering on GitHub or <a href=\"https://nbviewer.jupyter.org/\">NBViewer</a>),\n",
       "  it may mean that your frontend doesn't currently support widgets.\n",
       "</p>\n"
      ],
      "text/plain": [
       "HBox(children=(IntProgress(value=0, max=36), HTML(value='')))"
      ]
     },
     "metadata": {},
     "output_type": "display_data"
    },
    {
     "name": "stdout",
     "output_type": "stream",
     "text": [
      "E:\\MestradoData\\preprocessed\\all\\09\\23*depth* 60\n",
      "E:\\MestradoData\\preprocessed\\all\\09\\04*depth* 60\n",
      "E:\\MestradoData\\preprocessed\\all\\09\\38*depth* 0\n",
      "E:\\MestradoData\\preprocessed\\all\\09\\42*depth* 60\n",
      "E:\\MestradoData\\preprocessed\\all\\09\\17*depth* 60\n",
      "E:\\MestradoData\\preprocessed\\all\\09\\35*depth* 60\n",
      "E:\\MestradoData\\preprocessed\\all\\09\\29*depth* 60\n",
      "E:\\MestradoData\\preprocessed\\all\\09\\06*depth* 60\n",
      "E:\\MestradoData\\preprocessed\\all\\09\\15*depth* 60\n",
      "E:\\MestradoData\\preprocessed\\all\\09\\09*depth* 60\n",
      "E:\\MestradoData\\preprocessed\\all\\09\\10*depth* 60\n",
      "E:\\MestradoData\\preprocessed\\all\\09\\26*depth* 60\n",
      "E:\\MestradoData\\preprocessed\\all\\09\\13*depth* 0\n",
      "E:\\MestradoData\\preprocessed\\all\\09\\43*depth* 60\n",
      "E:\\MestradoData\\preprocessed\\all\\09\\20*depth* 60\n",
      "E:\\MestradoData\\preprocessed\\all\\09\\05*depth* 60\n",
      "E:\\MestradoData\\preprocessed\\all\\09\\39*depth* 0\n",
      "E:\\MestradoData\\preprocessed\\all\\09\\02*depth* 60\n",
      "E:\\MestradoData\\preprocessed\\all\\09\\12*depth* 60\n",
      "E:\\MestradoData\\preprocessed\\all\\09\\24*depth* 60\n",
      "E:\\MestradoData\\preprocessed\\all\\09\\08*depth* 60\n",
      "E:\\MestradoData\\preprocessed\\all\\09\\34*depth* 60\n",
      "E:\\MestradoData\\preprocessed\\all\\09\\21*depth* 60\n",
      "E:\\MestradoData\\preprocessed\\all\\09\\41*depth* 60\n",
      "E:\\MestradoData\\preprocessed\\all\\09\\44*depth* 60\n",
      "E:\\MestradoData\\preprocessed\\all\\09\\11*depth* 54\n",
      "E:\\MestradoData\\preprocessed\\all\\09\\18*depth* 0\n",
      "E:\\MestradoData\\preprocessed\\all\\09\\32*depth* 60\n",
      "E:\\MestradoData\\preprocessed\\all\\09\\30*depth* 60\n",
      "E:\\MestradoData\\preprocessed\\all\\09\\14*depth* 60\n",
      "E:\\MestradoData\\preprocessed\\all\\09\\01*depth* 60\n",
      "E:\\MestradoData\\preprocessed\\all\\09\\45*depth* 30\n",
      "E:\\MestradoData\\preprocessed\\all\\09\\31*depth* 60\n",
      "E:\\MestradoData\\preprocessed\\all\\09\\28*depth* 60\n",
      "E:\\MestradoData\\preprocessed\\all\\09\\03*depth* 60\n",
      "E:\\MestradoData\\preprocessed\\all\\09\\37*depth* 0\n",
      "\n"
     ]
    },
    {
     "data": {
      "application/vnd.jupyter.widget-view+json": {
       "model_id": "985ff905da1e4d4391009b50b6990996",
       "version_major": 2,
       "version_minor": 0
      },
      "text/html": [
       "<p>Failed to display Jupyter Widget of type <code>HBox</code>.</p>\n",
       "<p>\n",
       "  If you're reading this message in the Jupyter Notebook or JupyterLab Notebook, it may mean\n",
       "  that the widgets JavaScript is still loading. If this message persists, it\n",
       "  likely means that the widgets JavaScript library is either not installed or\n",
       "  not enabled. See the <a href=\"https://ipywidgets.readthedocs.io/en/stable/user_install.html\">Jupyter\n",
       "  Widgets Documentation</a> for setup instructions.\n",
       "</p>\n",
       "<p>\n",
       "  If you're reading this message in another frontend (for example, a static\n",
       "  rendering on GitHub or <a href=\"https://nbviewer.jupyter.org/\">NBViewer</a>),\n",
       "  it may mean that your frontend doesn't currently support widgets.\n",
       "</p>\n"
      ],
      "text/plain": [
       "HBox(children=(IntProgress(value=0, max=9), HTML(value='')))"
      ]
     },
     "metadata": {},
     "output_type": "display_data"
    },
    {
     "name": "stdout",
     "output_type": "stream",
     "text": [
      "E:\\MestradoData\\preprocessed\\all\\09\\22*depth* 60\n",
      "E:\\MestradoData\\preprocessed\\all\\09\\36*depth* 0\n",
      "E:\\MestradoData\\preprocessed\\all\\09\\33*depth* 60\n",
      "E:\\MestradoData\\preprocessed\\all\\09\\19*depth* 60\n",
      "E:\\MestradoData\\preprocessed\\all\\09\\27*depth* 60\n",
      "E:\\MestradoData\\preprocessed\\all\\09\\16*depth* 60\n",
      "E:\\MestradoData\\preprocessed\\all\\09\\25*depth* 60\n",
      "E:\\MestradoData\\preprocessed\\all\\09\\40*depth* 60\n",
      "E:\\MestradoData\\preprocessed\\all\\09\\07*depth* 60\n",
      "\n",
      "folders created !\n"
     ]
    },
    {
     "data": {
      "application/vnd.jupyter.widget-view+json": {
       "model_id": "f723fd0e5b74473ab0ee436e83304551",
       "version_major": 2,
       "version_minor": 0
      },
      "text/html": [
       "<p>Failed to display Jupyter Widget of type <code>HBox</code>.</p>\n",
       "<p>\n",
       "  If you're reading this message in the Jupyter Notebook or JupyterLab Notebook, it may mean\n",
       "  that the widgets JavaScript is still loading. If this message persists, it\n",
       "  likely means that the widgets JavaScript library is either not installed or\n",
       "  not enabled. See the <a href=\"https://ipywidgets.readthedocs.io/en/stable/user_install.html\">Jupyter\n",
       "  Widgets Documentation</a> for setup instructions.\n",
       "</p>\n",
       "<p>\n",
       "  If you're reading this message in another frontend (for example, a static\n",
       "  rendering on GitHub or <a href=\"https://nbviewer.jupyter.org/\">NBViewer</a>),\n",
       "  it may mean that your frontend doesn't currently support widgets.\n",
       "</p>\n"
      ],
      "text/plain": [
       "HBox(children=(IntProgress(value=0, max=36), HTML(value='')))"
      ]
     },
     "metadata": {},
     "output_type": "display_data"
    },
    {
     "name": "stdout",
     "output_type": "stream",
     "text": [
      "E:\\MestradoData\\preprocessed\\all\\10\\23*depth* 60\n",
      "E:\\MestradoData\\preprocessed\\all\\10\\04*depth* 60\n",
      "E:\\MestradoData\\preprocessed\\all\\10\\38*depth* 0\n",
      "E:\\MestradoData\\preprocessed\\all\\10\\42*depth* 60\n",
      "E:\\MestradoData\\preprocessed\\all\\10\\17*depth* 60\n",
      "E:\\MestradoData\\preprocessed\\all\\10\\35*depth* 60\n",
      "E:\\MestradoData\\preprocessed\\all\\10\\29*depth* 60\n",
      "E:\\MestradoData\\preprocessed\\all\\10\\06*depth* 60\n",
      "E:\\MestradoData\\preprocessed\\all\\10\\15*depth* 60\n",
      "E:\\MestradoData\\preprocessed\\all\\10\\09*depth* 60\n",
      "E:\\MestradoData\\preprocessed\\all\\10\\10*depth* 60\n",
      "E:\\MestradoData\\preprocessed\\all\\10\\26*depth* 60\n",
      "E:\\MestradoData\\preprocessed\\all\\10\\13*depth* 0\n",
      "E:\\MestradoData\\preprocessed\\all\\10\\43*depth* 60\n",
      "E:\\MestradoData\\preprocessed\\all\\10\\20*depth* 60\n",
      "E:\\MestradoData\\preprocessed\\all\\10\\05*depth* 60\n",
      "E:\\MestradoData\\preprocessed\\all\\10\\39*depth* 0\n",
      "E:\\MestradoData\\preprocessed\\all\\10\\02*depth* 60\n",
      "E:\\MestradoData\\preprocessed\\all\\10\\12*depth* 60\n",
      "E:\\MestradoData\\preprocessed\\all\\10\\24*depth* 60\n",
      "E:\\MestradoData\\preprocessed\\all\\10\\08*depth* 60\n",
      "E:\\MestradoData\\preprocessed\\all\\10\\34*depth* 60\n",
      "E:\\MestradoData\\preprocessed\\all\\10\\21*depth* 60\n",
      "E:\\MestradoData\\preprocessed\\all\\10\\41*depth* 60\n",
      "E:\\MestradoData\\preprocessed\\all\\10\\44*depth* 60\n",
      "E:\\MestradoData\\preprocessed\\all\\10\\11*depth* 54\n",
      "E:\\MestradoData\\preprocessed\\all\\10\\18*depth* 0\n",
      "E:\\MestradoData\\preprocessed\\all\\10\\32*depth* 60\n",
      "E:\\MestradoData\\preprocessed\\all\\10\\30*depth* 60\n",
      "E:\\MestradoData\\preprocessed\\all\\10\\14*depth* 60\n",
      "E:\\MestradoData\\preprocessed\\all\\10\\01*depth* 60\n",
      "E:\\MestradoData\\preprocessed\\all\\10\\45*depth* 30\n",
      "E:\\MestradoData\\preprocessed\\all\\10\\31*depth* 60\n",
      "E:\\MestradoData\\preprocessed\\all\\10\\28*depth* 60\n",
      "E:\\MestradoData\\preprocessed\\all\\10\\03*depth* 60\n",
      "E:\\MestradoData\\preprocessed\\all\\10\\37*depth* 0\n",
      "\n"
     ]
    },
    {
     "data": {
      "application/vnd.jupyter.widget-view+json": {
       "model_id": "d8b816ac633442bc8351bb52e1a76513",
       "version_major": 2,
       "version_minor": 0
      },
      "text/html": [
       "<p>Failed to display Jupyter Widget of type <code>HBox</code>.</p>\n",
       "<p>\n",
       "  If you're reading this message in the Jupyter Notebook or JupyterLab Notebook, it may mean\n",
       "  that the widgets JavaScript is still loading. If this message persists, it\n",
       "  likely means that the widgets JavaScript library is either not installed or\n",
       "  not enabled. See the <a href=\"https://ipywidgets.readthedocs.io/en/stable/user_install.html\">Jupyter\n",
       "  Widgets Documentation</a> for setup instructions.\n",
       "</p>\n",
       "<p>\n",
       "  If you're reading this message in another frontend (for example, a static\n",
       "  rendering on GitHub or <a href=\"https://nbviewer.jupyter.org/\">NBViewer</a>),\n",
       "  it may mean that your frontend doesn't currently support widgets.\n",
       "</p>\n"
      ],
      "text/plain": [
       "HBox(children=(IntProgress(value=0, max=9), HTML(value='')))"
      ]
     },
     "metadata": {},
     "output_type": "display_data"
    },
    {
     "name": "stdout",
     "output_type": "stream",
     "text": [
      "E:\\MestradoData\\preprocessed\\all\\10\\22*depth* 60\n",
      "E:\\MestradoData\\preprocessed\\all\\10\\36*depth* 0\n",
      "E:\\MestradoData\\preprocessed\\all\\10\\33*depth* 60\n",
      "E:\\MestradoData\\preprocessed\\all\\10\\19*depth* 60\n",
      "E:\\MestradoData\\preprocessed\\all\\10\\27*depth* 60\n",
      "E:\\MestradoData\\preprocessed\\all\\10\\16*depth* 60\n",
      "E:\\MestradoData\\preprocessed\\all\\10\\25*depth* 60\n",
      "E:\\MestradoData\\preprocessed\\all\\10\\40*depth* 60\n",
      "E:\\MestradoData\\preprocessed\\all\\10\\07*depth* 60\n",
      "\n",
      "folders created !\n"
     ]
    },
    {
     "data": {
      "application/vnd.jupyter.widget-view+json": {
       "model_id": "d8e9a7e9cb7c4858b957d5ca81d8cdf6",
       "version_major": 2,
       "version_minor": 0
      },
      "text/html": [
       "<p>Failed to display Jupyter Widget of type <code>HBox</code>.</p>\n",
       "<p>\n",
       "  If you're reading this message in the Jupyter Notebook or JupyterLab Notebook, it may mean\n",
       "  that the widgets JavaScript is still loading. If this message persists, it\n",
       "  likely means that the widgets JavaScript library is either not installed or\n",
       "  not enabled. See the <a href=\"https://ipywidgets.readthedocs.io/en/stable/user_install.html\">Jupyter\n",
       "  Widgets Documentation</a> for setup instructions.\n",
       "</p>\n",
       "<p>\n",
       "  If you're reading this message in another frontend (for example, a static\n",
       "  rendering on GitHub or <a href=\"https://nbviewer.jupyter.org/\">NBViewer</a>),\n",
       "  it may mean that your frontend doesn't currently support widgets.\n",
       "</p>\n"
      ],
      "text/plain": [
       "HBox(children=(IntProgress(value=0, max=36), HTML(value='')))"
      ]
     },
     "metadata": {},
     "output_type": "display_data"
    },
    {
     "name": "stdout",
     "output_type": "stream",
     "text": [
      "E:\\MestradoData\\preprocessed\\all\\11\\23*depth* 60\n",
      "E:\\MestradoData\\preprocessed\\all\\11\\04*depth* 60\n",
      "E:\\MestradoData\\preprocessed\\all\\11\\38*depth* 0\n",
      "E:\\MestradoData\\preprocessed\\all\\11\\42*depth* 60\n",
      "E:\\MestradoData\\preprocessed\\all\\11\\17*depth* 60\n",
      "E:\\MestradoData\\preprocessed\\all\\11\\35*depth* 60\n",
      "E:\\MestradoData\\preprocessed\\all\\11\\29*depth* 60\n",
      "E:\\MestradoData\\preprocessed\\all\\11\\06*depth* 60\n",
      "E:\\MestradoData\\preprocessed\\all\\11\\15*depth* 60\n",
      "E:\\MestradoData\\preprocessed\\all\\11\\09*depth* 60\n",
      "E:\\MestradoData\\preprocessed\\all\\11\\10*depth* 60\n",
      "E:\\MestradoData\\preprocessed\\all\\11\\26*depth* 60\n",
      "E:\\MestradoData\\preprocessed\\all\\11\\13*depth* 0\n",
      "E:\\MestradoData\\preprocessed\\all\\11\\43*depth* 60\n",
      "E:\\MestradoData\\preprocessed\\all\\11\\20*depth* 60\n",
      "E:\\MestradoData\\preprocessed\\all\\11\\05*depth* 60\n",
      "E:\\MestradoData\\preprocessed\\all\\11\\39*depth* 0\n",
      "E:\\MestradoData\\preprocessed\\all\\11\\02*depth* 60\n",
      "E:\\MestradoData\\preprocessed\\all\\11\\12*depth* 60\n",
      "E:\\MestradoData\\preprocessed\\all\\11\\24*depth* 60\n",
      "E:\\MestradoData\\preprocessed\\all\\11\\08*depth* 60\n",
      "E:\\MestradoData\\preprocessed\\all\\11\\34*depth* 60\n",
      "E:\\MestradoData\\preprocessed\\all\\11\\21*depth* 60\n",
      "E:\\MestradoData\\preprocessed\\all\\11\\41*depth* 60\n",
      "E:\\MestradoData\\preprocessed\\all\\11\\44*depth* 60\n",
      "E:\\MestradoData\\preprocessed\\all\\11\\11*depth* 54\n",
      "E:\\MestradoData\\preprocessed\\all\\11\\18*depth* 0\n",
      "E:\\MestradoData\\preprocessed\\all\\11\\32*depth* 60\n",
      "E:\\MestradoData\\preprocessed\\all\\11\\30*depth* 60\n",
      "E:\\MestradoData\\preprocessed\\all\\11\\14*depth* 60\n",
      "E:\\MestradoData\\preprocessed\\all\\11\\01*depth* 60\n",
      "E:\\MestradoData\\preprocessed\\all\\11\\45*depth* 30\n",
      "E:\\MestradoData\\preprocessed\\all\\11\\31*depth* 60\n",
      "E:\\MestradoData\\preprocessed\\all\\11\\28*depth* 60\n",
      "E:\\MestradoData\\preprocessed\\all\\11\\03*depth* 60\n",
      "E:\\MestradoData\\preprocessed\\all\\11\\37*depth* 0\n",
      "\n"
     ]
    },
    {
     "data": {
      "application/vnd.jupyter.widget-view+json": {
       "model_id": "b45cc5b97a904b39be925d23173be7e2",
       "version_major": 2,
       "version_minor": 0
      },
      "text/html": [
       "<p>Failed to display Jupyter Widget of type <code>HBox</code>.</p>\n",
       "<p>\n",
       "  If you're reading this message in the Jupyter Notebook or JupyterLab Notebook, it may mean\n",
       "  that the widgets JavaScript is still loading. If this message persists, it\n",
       "  likely means that the widgets JavaScript library is either not installed or\n",
       "  not enabled. See the <a href=\"https://ipywidgets.readthedocs.io/en/stable/user_install.html\">Jupyter\n",
       "  Widgets Documentation</a> for setup instructions.\n",
       "</p>\n",
       "<p>\n",
       "  If you're reading this message in another frontend (for example, a static\n",
       "  rendering on GitHub or <a href=\"https://nbviewer.jupyter.org/\">NBViewer</a>),\n",
       "  it may mean that your frontend doesn't currently support widgets.\n",
       "</p>\n"
      ],
      "text/plain": [
       "HBox(children=(IntProgress(value=0, max=9), HTML(value='')))"
      ]
     },
     "metadata": {},
     "output_type": "display_data"
    },
    {
     "name": "stdout",
     "output_type": "stream",
     "text": [
      "E:\\MestradoData\\preprocessed\\all\\11\\22*depth* 60\n",
      "E:\\MestradoData\\preprocessed\\all\\11\\36*depth* 0\n",
      "E:\\MestradoData\\preprocessed\\all\\11\\33*depth* 60\n",
      "E:\\MestradoData\\preprocessed\\all\\11\\19*depth* 60\n",
      "E:\\MestradoData\\preprocessed\\all\\11\\27*depth* 60\n",
      "E:\\MestradoData\\preprocessed\\all\\11\\16*depth* 60\n",
      "E:\\MestradoData\\preprocessed\\all\\11\\25*depth* 60\n",
      "E:\\MestradoData\\preprocessed\\all\\11\\40*depth* 60\n",
      "E:\\MestradoData\\preprocessed\\all\\11\\07*depth* 60\n",
      "\n",
      "folders created !\n"
     ]
    },
    {
     "data": {
      "application/vnd.jupyter.widget-view+json": {
       "model_id": "37f14dd7d36344cf8c9ace269e658097",
       "version_major": 2,
       "version_minor": 0
      },
      "text/html": [
       "<p>Failed to display Jupyter Widget of type <code>HBox</code>.</p>\n",
       "<p>\n",
       "  If you're reading this message in the Jupyter Notebook or JupyterLab Notebook, it may mean\n",
       "  that the widgets JavaScript is still loading. If this message persists, it\n",
       "  likely means that the widgets JavaScript library is either not installed or\n",
       "  not enabled. See the <a href=\"https://ipywidgets.readthedocs.io/en/stable/user_install.html\">Jupyter\n",
       "  Widgets Documentation</a> for setup instructions.\n",
       "</p>\n",
       "<p>\n",
       "  If you're reading this message in another frontend (for example, a static\n",
       "  rendering on GitHub or <a href=\"https://nbviewer.jupyter.org/\">NBViewer</a>),\n",
       "  it may mean that your frontend doesn't currently support widgets.\n",
       "</p>\n"
      ],
      "text/plain": [
       "HBox(children=(IntProgress(value=0, max=36), HTML(value='')))"
      ]
     },
     "metadata": {},
     "output_type": "display_data"
    },
    {
     "name": "stdout",
     "output_type": "stream",
     "text": [
      "E:\\MestradoData\\preprocessed\\all\\12\\23*depth* 60\n",
      "E:\\MestradoData\\preprocessed\\all\\12\\04*depth* 60\n",
      "E:\\MestradoData\\preprocessed\\all\\12\\38*depth* 0\n",
      "E:\\MestradoData\\preprocessed\\all\\12\\42*depth* 60\n",
      "E:\\MestradoData\\preprocessed\\all\\12\\17*depth* 60\n",
      "E:\\MestradoData\\preprocessed\\all\\12\\35*depth* 60\n",
      "E:\\MestradoData\\preprocessed\\all\\12\\29*depth* 60\n",
      "E:\\MestradoData\\preprocessed\\all\\12\\06*depth* 60\n",
      "E:\\MestradoData\\preprocessed\\all\\12\\15*depth* 60\n",
      "E:\\MestradoData\\preprocessed\\all\\12\\09*depth* 60\n",
      "E:\\MestradoData\\preprocessed\\all\\12\\10*depth* 60\n",
      "E:\\MestradoData\\preprocessed\\all\\12\\26*depth* 60\n",
      "E:\\MestradoData\\preprocessed\\all\\12\\13*depth* 0\n",
      "E:\\MestradoData\\preprocessed\\all\\12\\43*depth* 60\n",
      "E:\\MestradoData\\preprocessed\\all\\12\\20*depth* 60\n",
      "E:\\MestradoData\\preprocessed\\all\\12\\05*depth* 60\n",
      "E:\\MestradoData\\preprocessed\\all\\12\\39*depth* 0\n",
      "E:\\MestradoData\\preprocessed\\all\\12\\02*depth* 60\n",
      "E:\\MestradoData\\preprocessed\\all\\12\\12*depth* 60\n",
      "E:\\MestradoData\\preprocessed\\all\\12\\24*depth* 60\n",
      "E:\\MestradoData\\preprocessed\\all\\12\\08*depth* 60\n",
      "E:\\MestradoData\\preprocessed\\all\\12\\34*depth* 60\n",
      "E:\\MestradoData\\preprocessed\\all\\12\\21*depth* 60\n",
      "E:\\MestradoData\\preprocessed\\all\\12\\41*depth* 60\n",
      "E:\\MestradoData\\preprocessed\\all\\12\\44*depth* 60\n",
      "E:\\MestradoData\\preprocessed\\all\\12\\11*depth* 54\n",
      "E:\\MestradoData\\preprocessed\\all\\12\\18*depth* 0\n",
      "E:\\MestradoData\\preprocessed\\all\\12\\32*depth* 60\n",
      "E:\\MestradoData\\preprocessed\\all\\12\\30*depth* 60\n",
      "E:\\MestradoData\\preprocessed\\all\\12\\14*depth* 60\n",
      "E:\\MestradoData\\preprocessed\\all\\12\\01*depth* 60\n",
      "E:\\MestradoData\\preprocessed\\all\\12\\45*depth* 30\n",
      "E:\\MestradoData\\preprocessed\\all\\12\\31*depth* 60\n",
      "E:\\MestradoData\\preprocessed\\all\\12\\28*depth* 60\n",
      "E:\\MestradoData\\preprocessed\\all\\12\\03*depth* 60\n",
      "E:\\MestradoData\\preprocessed\\all\\12\\37*depth* 0\n",
      "\n"
     ]
    },
    {
     "data": {
      "application/vnd.jupyter.widget-view+json": {
       "model_id": "381dc77d1bab4b0ea5653b71a4c4f038",
       "version_major": 2,
       "version_minor": 0
      },
      "text/html": [
       "<p>Failed to display Jupyter Widget of type <code>HBox</code>.</p>\n",
       "<p>\n",
       "  If you're reading this message in the Jupyter Notebook or JupyterLab Notebook, it may mean\n",
       "  that the widgets JavaScript is still loading. If this message persists, it\n",
       "  likely means that the widgets JavaScript library is either not installed or\n",
       "  not enabled. See the <a href=\"https://ipywidgets.readthedocs.io/en/stable/user_install.html\">Jupyter\n",
       "  Widgets Documentation</a> for setup instructions.\n",
       "</p>\n",
       "<p>\n",
       "  If you're reading this message in another frontend (for example, a static\n",
       "  rendering on GitHub or <a href=\"https://nbviewer.jupyter.org/\">NBViewer</a>),\n",
       "  it may mean that your frontend doesn't currently support widgets.\n",
       "</p>\n"
      ],
      "text/plain": [
       "HBox(children=(IntProgress(value=0, max=9), HTML(value='')))"
      ]
     },
     "metadata": {},
     "output_type": "display_data"
    },
    {
     "name": "stdout",
     "output_type": "stream",
     "text": [
      "E:\\MestradoData\\preprocessed\\all\\12\\22*depth* 60\n",
      "E:\\MestradoData\\preprocessed\\all\\12\\36*depth* 0\n",
      "E:\\MestradoData\\preprocessed\\all\\12\\33*depth* 60\n",
      "E:\\MestradoData\\preprocessed\\all\\12\\19*depth* 60\n",
      "E:\\MestradoData\\preprocessed\\all\\12\\27*depth* 60\n",
      "E:\\MestradoData\\preprocessed\\all\\12\\16*depth* 60\n",
      "E:\\MestradoData\\preprocessed\\all\\12\\25*depth* 60\n",
      "E:\\MestradoData\\preprocessed\\all\\12\\40*depth* 60\n",
      "E:\\MestradoData\\preprocessed\\all\\12\\07*depth* 60\n",
      "\n",
      "folders created !\n"
     ]
    },
    {
     "data": {
      "application/vnd.jupyter.widget-view+json": {
       "model_id": "bfe7a7d18f7948159b99322e3b1be299",
       "version_major": 2,
       "version_minor": 0
      },
      "text/html": [
       "<p>Failed to display Jupyter Widget of type <code>HBox</code>.</p>\n",
       "<p>\n",
       "  If you're reading this message in the Jupyter Notebook or JupyterLab Notebook, it may mean\n",
       "  that the widgets JavaScript is still loading. If this message persists, it\n",
       "  likely means that the widgets JavaScript library is either not installed or\n",
       "  not enabled. See the <a href=\"https://ipywidgets.readthedocs.io/en/stable/user_install.html\">Jupyter\n",
       "  Widgets Documentation</a> for setup instructions.\n",
       "</p>\n",
       "<p>\n",
       "  If you're reading this message in another frontend (for example, a static\n",
       "  rendering on GitHub or <a href=\"https://nbviewer.jupyter.org/\">NBViewer</a>),\n",
       "  it may mean that your frontend doesn't currently support widgets.\n",
       "</p>\n"
      ],
      "text/plain": [
       "HBox(children=(IntProgress(value=0, max=36), HTML(value='')))"
      ]
     },
     "metadata": {},
     "output_type": "display_data"
    },
    {
     "name": "stdout",
     "output_type": "stream",
     "text": [
      "E:\\MestradoData\\preprocessed\\all\\13\\23*depth* 60\n",
      "E:\\MestradoData\\preprocessed\\all\\13\\04*depth* 60\n",
      "E:\\MestradoData\\preprocessed\\all\\13\\38*depth* 0\n",
      "E:\\MestradoData\\preprocessed\\all\\13\\42*depth* 60\n",
      "E:\\MestradoData\\preprocessed\\all\\13\\17*depth* 60\n",
      "E:\\MestradoData\\preprocessed\\all\\13\\35*depth* 60\n",
      "E:\\MestradoData\\preprocessed\\all\\13\\29*depth* 60\n",
      "E:\\MestradoData\\preprocessed\\all\\13\\06*depth* 60\n",
      "E:\\MestradoData\\preprocessed\\all\\13\\15*depth* 60\n",
      "E:\\MestradoData\\preprocessed\\all\\13\\09*depth* 60\n",
      "E:\\MestradoData\\preprocessed\\all\\13\\10*depth* 60\n",
      "E:\\MestradoData\\preprocessed\\all\\13\\26*depth* 60\n",
      "E:\\MestradoData\\preprocessed\\all\\13\\13*depth* 0\n",
      "E:\\MestradoData\\preprocessed\\all\\13\\43*depth* 60\n",
      "E:\\MestradoData\\preprocessed\\all\\13\\20*depth* 60\n",
      "E:\\MestradoData\\preprocessed\\all\\13\\05*depth* 60\n",
      "E:\\MestradoData\\preprocessed\\all\\13\\39*depth* 0\n",
      "E:\\MestradoData\\preprocessed\\all\\13\\02*depth* 60\n",
      "E:\\MestradoData\\preprocessed\\all\\13\\12*depth* 60\n",
      "E:\\MestradoData\\preprocessed\\all\\13\\24*depth* 60\n",
      "E:\\MestradoData\\preprocessed\\all\\13\\08*depth* 60\n",
      "E:\\MestradoData\\preprocessed\\all\\13\\34*depth* 60\n",
      "E:\\MestradoData\\preprocessed\\all\\13\\21*depth* 60\n",
      "E:\\MestradoData\\preprocessed\\all\\13\\41*depth* 60\n",
      "E:\\MestradoData\\preprocessed\\all\\13\\44*depth* 60\n",
      "E:\\MestradoData\\preprocessed\\all\\13\\11*depth* 54\n",
      "E:\\MestradoData\\preprocessed\\all\\13\\18*depth* 0\n",
      "E:\\MestradoData\\preprocessed\\all\\13\\32*depth* 60\n",
      "E:\\MestradoData\\preprocessed\\all\\13\\30*depth* 60\n",
      "E:\\MestradoData\\preprocessed\\all\\13\\14*depth* 60\n",
      "E:\\MestradoData\\preprocessed\\all\\13\\01*depth* 60\n",
      "E:\\MestradoData\\preprocessed\\all\\13\\45*depth* 30\n",
      "E:\\MestradoData\\preprocessed\\all\\13\\31*depth* 60\n",
      "E:\\MestradoData\\preprocessed\\all\\13\\28*depth* 60\n",
      "E:\\MestradoData\\preprocessed\\all\\13\\03*depth* 60\n",
      "E:\\MestradoData\\preprocessed\\all\\13\\37*depth* 0\n",
      "\n"
     ]
    },
    {
     "data": {
      "application/vnd.jupyter.widget-view+json": {
       "model_id": "12caa2461fe9436fb913a062955bb0f0",
       "version_major": 2,
       "version_minor": 0
      },
      "text/html": [
       "<p>Failed to display Jupyter Widget of type <code>HBox</code>.</p>\n",
       "<p>\n",
       "  If you're reading this message in the Jupyter Notebook or JupyterLab Notebook, it may mean\n",
       "  that the widgets JavaScript is still loading. If this message persists, it\n",
       "  likely means that the widgets JavaScript library is either not installed or\n",
       "  not enabled. See the <a href=\"https://ipywidgets.readthedocs.io/en/stable/user_install.html\">Jupyter\n",
       "  Widgets Documentation</a> for setup instructions.\n",
       "</p>\n",
       "<p>\n",
       "  If you're reading this message in another frontend (for example, a static\n",
       "  rendering on GitHub or <a href=\"https://nbviewer.jupyter.org/\">NBViewer</a>),\n",
       "  it may mean that your frontend doesn't currently support widgets.\n",
       "</p>\n"
      ],
      "text/plain": [
       "HBox(children=(IntProgress(value=0, max=9), HTML(value='')))"
      ]
     },
     "metadata": {},
     "output_type": "display_data"
    },
    {
     "name": "stdout",
     "output_type": "stream",
     "text": [
      "E:\\MestradoData\\preprocessed\\all\\13\\22*depth* 60\n",
      "E:\\MestradoData\\preprocessed\\all\\13\\36*depth* 0\n",
      "E:\\MestradoData\\preprocessed\\all\\13\\33*depth* 60\n",
      "E:\\MestradoData\\preprocessed\\all\\13\\19*depth* 60\n",
      "E:\\MestradoData\\preprocessed\\all\\13\\27*depth* 60\n",
      "E:\\MestradoData\\preprocessed\\all\\13\\16*depth* 60\n",
      "E:\\MestradoData\\preprocessed\\all\\13\\25*depth* 60\n",
      "E:\\MestradoData\\preprocessed\\all\\13\\40*depth* 60\n",
      "E:\\MestradoData\\preprocessed\\all\\13\\07*depth* 60\n",
      "\n",
      "folders created !\n"
     ]
    },
    {
     "data": {
      "application/vnd.jupyter.widget-view+json": {
       "model_id": "1cc2c6b701fa4911896bd28d5562258a",
       "version_major": 2,
       "version_minor": 0
      },
      "text/html": [
       "<p>Failed to display Jupyter Widget of type <code>HBox</code>.</p>\n",
       "<p>\n",
       "  If you're reading this message in the Jupyter Notebook or JupyterLab Notebook, it may mean\n",
       "  that the widgets JavaScript is still loading. If this message persists, it\n",
       "  likely means that the widgets JavaScript library is either not installed or\n",
       "  not enabled. See the <a href=\"https://ipywidgets.readthedocs.io/en/stable/user_install.html\">Jupyter\n",
       "  Widgets Documentation</a> for setup instructions.\n",
       "</p>\n",
       "<p>\n",
       "  If you're reading this message in another frontend (for example, a static\n",
       "  rendering on GitHub or <a href=\"https://nbviewer.jupyter.org/\">NBViewer</a>),\n",
       "  it may mean that your frontend doesn't currently support widgets.\n",
       "</p>\n"
      ],
      "text/plain": [
       "HBox(children=(IntProgress(value=0, max=36), HTML(value='')))"
      ]
     },
     "metadata": {},
     "output_type": "display_data"
    },
    {
     "name": "stdout",
     "output_type": "stream",
     "text": [
      "E:\\MestradoData\\preprocessed\\all\\14\\23*depth* 60\n",
      "E:\\MestradoData\\preprocessed\\all\\14\\04*depth* 60\n",
      "E:\\MestradoData\\preprocessed\\all\\14\\38*depth* 0\n",
      "E:\\MestradoData\\preprocessed\\all\\14\\42*depth* 60\n",
      "E:\\MestradoData\\preprocessed\\all\\14\\17*depth* 60\n",
      "E:\\MestradoData\\preprocessed\\all\\14\\35*depth* 60\n",
      "E:\\MestradoData\\preprocessed\\all\\14\\29*depth* 60\n",
      "E:\\MestradoData\\preprocessed\\all\\14\\06*depth* 60\n",
      "E:\\MestradoData\\preprocessed\\all\\14\\15*depth* 60\n",
      "E:\\MestradoData\\preprocessed\\all\\14\\09*depth* 60\n",
      "E:\\MestradoData\\preprocessed\\all\\14\\10*depth* 60\n",
      "E:\\MestradoData\\preprocessed\\all\\14\\26*depth* 60\n",
      "E:\\MestradoData\\preprocessed\\all\\14\\13*depth* 0\n",
      "E:\\MestradoData\\preprocessed\\all\\14\\43*depth* 60\n",
      "E:\\MestradoData\\preprocessed\\all\\14\\20*depth* 60\n",
      "E:\\MestradoData\\preprocessed\\all\\14\\05*depth* 60\n",
      "E:\\MestradoData\\preprocessed\\all\\14\\39*depth* 0\n",
      "E:\\MestradoData\\preprocessed\\all\\14\\02*depth* 60\n",
      "E:\\MestradoData\\preprocessed\\all\\14\\12*depth* 60\n",
      "E:\\MestradoData\\preprocessed\\all\\14\\24*depth* 60\n",
      "E:\\MestradoData\\preprocessed\\all\\14\\08*depth* 60\n",
      "E:\\MestradoData\\preprocessed\\all\\14\\34*depth* 60\n",
      "E:\\MestradoData\\preprocessed\\all\\14\\21*depth* 60\n",
      "E:\\MestradoData\\preprocessed\\all\\14\\41*depth* 60\n",
      "E:\\MestradoData\\preprocessed\\all\\14\\44*depth* 60\n",
      "E:\\MestradoData\\preprocessed\\all\\14\\11*depth* 54\n",
      "E:\\MestradoData\\preprocessed\\all\\14\\18*depth* 0\n",
      "E:\\MestradoData\\preprocessed\\all\\14\\32*depth* 60\n",
      "E:\\MestradoData\\preprocessed\\all\\14\\30*depth* 60\n",
      "E:\\MestradoData\\preprocessed\\all\\14\\14*depth* 60\n",
      "E:\\MestradoData\\preprocessed\\all\\14\\01*depth* 60\n",
      "E:\\MestradoData\\preprocessed\\all\\14\\45*depth* 30\n",
      "E:\\MestradoData\\preprocessed\\all\\14\\31*depth* 60\n",
      "E:\\MestradoData\\preprocessed\\all\\14\\28*depth* 60\n",
      "E:\\MestradoData\\preprocessed\\all\\14\\03*depth* 60\n",
      "E:\\MestradoData\\preprocessed\\all\\14\\37*depth* 0\n",
      "\n"
     ]
    },
    {
     "data": {
      "application/vnd.jupyter.widget-view+json": {
       "model_id": "1be87ec5a13946169e27245750aa31c3",
       "version_major": 2,
       "version_minor": 0
      },
      "text/html": [
       "<p>Failed to display Jupyter Widget of type <code>HBox</code>.</p>\n",
       "<p>\n",
       "  If you're reading this message in the Jupyter Notebook or JupyterLab Notebook, it may mean\n",
       "  that the widgets JavaScript is still loading. If this message persists, it\n",
       "  likely means that the widgets JavaScript library is either not installed or\n",
       "  not enabled. See the <a href=\"https://ipywidgets.readthedocs.io/en/stable/user_install.html\">Jupyter\n",
       "  Widgets Documentation</a> for setup instructions.\n",
       "</p>\n",
       "<p>\n",
       "  If you're reading this message in another frontend (for example, a static\n",
       "  rendering on GitHub or <a href=\"https://nbviewer.jupyter.org/\">NBViewer</a>),\n",
       "  it may mean that your frontend doesn't currently support widgets.\n",
       "</p>\n"
      ],
      "text/plain": [
       "HBox(children=(IntProgress(value=0, max=9), HTML(value='')))"
      ]
     },
     "metadata": {},
     "output_type": "display_data"
    },
    {
     "name": "stdout",
     "output_type": "stream",
     "text": [
      "E:\\MestradoData\\preprocessed\\all\\14\\22*depth* 60\n",
      "E:\\MestradoData\\preprocessed\\all\\14\\36*depth* 0\n",
      "E:\\MestradoData\\preprocessed\\all\\14\\33*depth* 0\n",
      "E:\\MestradoData\\preprocessed\\all\\14\\19*depth* 60\n",
      "E:\\MestradoData\\preprocessed\\all\\14\\27*depth* 60\n",
      "E:\\MestradoData\\preprocessed\\all\\14\\16*depth* 60\n",
      "E:\\MestradoData\\preprocessed\\all\\14\\25*depth* 60\n",
      "E:\\MestradoData\\preprocessed\\all\\14\\40*depth* 60\n",
      "E:\\MestradoData\\preprocessed\\all\\14\\07*depth* 60\n",
      "\n",
      "folders created !\n"
     ]
    },
    {
     "data": {
      "application/vnd.jupyter.widget-view+json": {
       "model_id": "9ae35bc7a6844d0084e25b2114ca84d9",
       "version_major": 2,
       "version_minor": 0
      },
      "text/html": [
       "<p>Failed to display Jupyter Widget of type <code>HBox</code>.</p>\n",
       "<p>\n",
       "  If you're reading this message in the Jupyter Notebook or JupyterLab Notebook, it may mean\n",
       "  that the widgets JavaScript is still loading. If this message persists, it\n",
       "  likely means that the widgets JavaScript library is either not installed or\n",
       "  not enabled. See the <a href=\"https://ipywidgets.readthedocs.io/en/stable/user_install.html\">Jupyter\n",
       "  Widgets Documentation</a> for setup instructions.\n",
       "</p>\n",
       "<p>\n",
       "  If you're reading this message in another frontend (for example, a static\n",
       "  rendering on GitHub or <a href=\"https://nbviewer.jupyter.org/\">NBViewer</a>),\n",
       "  it may mean that your frontend doesn't currently support widgets.\n",
       "</p>\n"
      ],
      "text/plain": [
       "HBox(children=(IntProgress(value=0, max=36), HTML(value='')))"
      ]
     },
     "metadata": {},
     "output_type": "display_data"
    },
    {
     "name": "stdout",
     "output_type": "stream",
     "text": [
      "E:\\MestradoData\\preprocessed\\all\\15\\23*depth* 60\n",
      "E:\\MestradoData\\preprocessed\\all\\15\\04*depth* 60\n",
      "E:\\MestradoData\\preprocessed\\all\\15\\38*depth* 0\n",
      "E:\\MestradoData\\preprocessed\\all\\15\\42*depth* 60\n",
      "E:\\MestradoData\\preprocessed\\all\\15\\17*depth* 60\n",
      "E:\\MestradoData\\preprocessed\\all\\15\\35*depth* 60\n",
      "E:\\MestradoData\\preprocessed\\all\\15\\29*depth* 60\n",
      "E:\\MestradoData\\preprocessed\\all\\15\\06*depth* 60\n",
      "E:\\MestradoData\\preprocessed\\all\\15\\15*depth* 60\n",
      "E:\\MestradoData\\preprocessed\\all\\15\\09*depth* 60\n",
      "E:\\MestradoData\\preprocessed\\all\\15\\10*depth* 60\n",
      "E:\\MestradoData\\preprocessed\\all\\15\\26*depth* 60\n",
      "E:\\MestradoData\\preprocessed\\all\\15\\13*depth* 0\n",
      "E:\\MestradoData\\preprocessed\\all\\15\\43*depth* 60\n",
      "E:\\MestradoData\\preprocessed\\all\\15\\20*depth* 60\n",
      "E:\\MestradoData\\preprocessed\\all\\15\\05*depth* 0\n",
      "E:\\MestradoData\\preprocessed\\all\\15\\39*depth* 0\n",
      "E:\\MestradoData\\preprocessed\\all\\15\\02*depth* 60\n",
      "E:\\MestradoData\\preprocessed\\all\\15\\12*depth* 60\n",
      "E:\\MestradoData\\preprocessed\\all\\15\\24*depth* 60\n",
      "E:\\MestradoData\\preprocessed\\all\\15\\08*depth* 60\n",
      "E:\\MestradoData\\preprocessed\\all\\15\\34*depth* 60\n",
      "E:\\MestradoData\\preprocessed\\all\\15\\21*depth* 60\n",
      "E:\\MestradoData\\preprocessed\\all\\15\\41*depth* 60\n",
      "E:\\MestradoData\\preprocessed\\all\\15\\44*depth* 60\n",
      "E:\\MestradoData\\preprocessed\\all\\15\\11*depth* 54\n",
      "E:\\MestradoData\\preprocessed\\all\\15\\18*depth* 0\n",
      "E:\\MestradoData\\preprocessed\\all\\15\\32*depth* 60\n",
      "E:\\MestradoData\\preprocessed\\all\\15\\30*depth* 60\n",
      "E:\\MestradoData\\preprocessed\\all\\15\\14*depth* 60\n",
      "E:\\MestradoData\\preprocessed\\all\\15\\01*depth* 60\n",
      "E:\\MestradoData\\preprocessed\\all\\15\\45*depth* 30\n",
      "E:\\MestradoData\\preprocessed\\all\\15\\31*depth* 60\n",
      "E:\\MestradoData\\preprocessed\\all\\15\\28*depth* 60\n",
      "E:\\MestradoData\\preprocessed\\all\\15\\03*depth* 60\n",
      "E:\\MestradoData\\preprocessed\\all\\15\\37*depth* 0\n",
      "\n"
     ]
    },
    {
     "data": {
      "application/vnd.jupyter.widget-view+json": {
       "model_id": "e75d8b5dcc4d4b7a9518df9dd39beddc",
       "version_major": 2,
       "version_minor": 0
      },
      "text/html": [
       "<p>Failed to display Jupyter Widget of type <code>HBox</code>.</p>\n",
       "<p>\n",
       "  If you're reading this message in the Jupyter Notebook or JupyterLab Notebook, it may mean\n",
       "  that the widgets JavaScript is still loading. If this message persists, it\n",
       "  likely means that the widgets JavaScript library is either not installed or\n",
       "  not enabled. See the <a href=\"https://ipywidgets.readthedocs.io/en/stable/user_install.html\">Jupyter\n",
       "  Widgets Documentation</a> for setup instructions.\n",
       "</p>\n",
       "<p>\n",
       "  If you're reading this message in another frontend (for example, a static\n",
       "  rendering on GitHub or <a href=\"https://nbviewer.jupyter.org/\">NBViewer</a>),\n",
       "  it may mean that your frontend doesn't currently support widgets.\n",
       "</p>\n"
      ],
      "text/plain": [
       "HBox(children=(IntProgress(value=0, max=9), HTML(value='')))"
      ]
     },
     "metadata": {},
     "output_type": "display_data"
    },
    {
     "name": "stdout",
     "output_type": "stream",
     "text": [
      "E:\\MestradoData\\preprocessed\\all\\15\\22*depth* 60\n",
      "E:\\MestradoData\\preprocessed\\all\\15\\36*depth* 0\n",
      "E:\\MestradoData\\preprocessed\\all\\15\\33*depth* 0\n",
      "E:\\MestradoData\\preprocessed\\all\\15\\19*depth* 60\n",
      "E:\\MestradoData\\preprocessed\\all\\15\\27*depth* 60\n",
      "E:\\MestradoData\\preprocessed\\all\\15\\16*depth* 60\n",
      "E:\\MestradoData\\preprocessed\\all\\15\\25*depth* 60\n",
      "E:\\MestradoData\\preprocessed\\all\\15\\40*depth* 60\n",
      "E:\\MestradoData\\preprocessed\\all\\15\\07*depth* 60\n",
      "\n",
      "folders created !\n"
     ]
    },
    {
     "data": {
      "application/vnd.jupyter.widget-view+json": {
       "model_id": "32df5c69260f49e6b29053a4280b2040",
       "version_major": 2,
       "version_minor": 0
      },
      "text/html": [
       "<p>Failed to display Jupyter Widget of type <code>HBox</code>.</p>\n",
       "<p>\n",
       "  If you're reading this message in the Jupyter Notebook or JupyterLab Notebook, it may mean\n",
       "  that the widgets JavaScript is still loading. If this message persists, it\n",
       "  likely means that the widgets JavaScript library is either not installed or\n",
       "  not enabled. See the <a href=\"https://ipywidgets.readthedocs.io/en/stable/user_install.html\">Jupyter\n",
       "  Widgets Documentation</a> for setup instructions.\n",
       "</p>\n",
       "<p>\n",
       "  If you're reading this message in another frontend (for example, a static\n",
       "  rendering on GitHub or <a href=\"https://nbviewer.jupyter.org/\">NBViewer</a>),\n",
       "  it may mean that your frontend doesn't currently support widgets.\n",
       "</p>\n"
      ],
      "text/plain": [
       "HBox(children=(IntProgress(value=0, max=36), HTML(value='')))"
      ]
     },
     "metadata": {},
     "output_type": "display_data"
    },
    {
     "name": "stdout",
     "output_type": "stream",
     "text": [
      "E:\\MestradoData\\preprocessed\\all\\16\\23*depth* 60\n",
      "E:\\MestradoData\\preprocessed\\all\\16\\04*depth* 60\n",
      "E:\\MestradoData\\preprocessed\\all\\16\\38*depth* 0\n",
      "E:\\MestradoData\\preprocessed\\all\\16\\42*depth* 60\n",
      "E:\\MestradoData\\preprocessed\\all\\16\\17*depth* 60\n",
      "E:\\MestradoData\\preprocessed\\all\\16\\35*depth* 60\n",
      "E:\\MestradoData\\preprocessed\\all\\16\\29*depth* 60\n",
      "E:\\MestradoData\\preprocessed\\all\\16\\06*depth* 60\n",
      "E:\\MestradoData\\preprocessed\\all\\16\\15*depth* 60\n",
      "E:\\MestradoData\\preprocessed\\all\\16\\09*depth* 60\n",
      "E:\\MestradoData\\preprocessed\\all\\16\\10*depth* 60\n",
      "E:\\MestradoData\\preprocessed\\all\\16\\26*depth* 60\n",
      "E:\\MestradoData\\preprocessed\\all\\16\\13*depth* 0\n",
      "E:\\MestradoData\\preprocessed\\all\\16\\43*depth* 60\n",
      "E:\\MestradoData\\preprocessed\\all\\16\\20*depth* 60\n",
      "E:\\MestradoData\\preprocessed\\all\\16\\05*depth* 0\n",
      "E:\\MestradoData\\preprocessed\\all\\16\\39*depth* 0\n",
      "E:\\MestradoData\\preprocessed\\all\\16\\02*depth* 60\n",
      "E:\\MestradoData\\preprocessed\\all\\16\\12*depth* 60\n",
      "E:\\MestradoData\\preprocessed\\all\\16\\24*depth* 60\n",
      "E:\\MestradoData\\preprocessed\\all\\16\\08*depth* 60\n",
      "E:\\MestradoData\\preprocessed\\all\\16\\34*depth* 60\n",
      "E:\\MestradoData\\preprocessed\\all\\16\\21*depth* 60\n",
      "E:\\MestradoData\\preprocessed\\all\\16\\41*depth* 60\n",
      "E:\\MestradoData\\preprocessed\\all\\16\\44*depth* 60\n",
      "E:\\MestradoData\\preprocessed\\all\\16\\11*depth* 54\n",
      "E:\\MestradoData\\preprocessed\\all\\16\\18*depth* 0\n",
      "E:\\MestradoData\\preprocessed\\all\\16\\32*depth* 60\n",
      "E:\\MestradoData\\preprocessed\\all\\16\\30*depth* 60\n",
      "E:\\MestradoData\\preprocessed\\all\\16\\14*depth* 60\n",
      "E:\\MestradoData\\preprocessed\\all\\16\\01*depth* 60\n",
      "E:\\MestradoData\\preprocessed\\all\\16\\45*depth* 30\n",
      "E:\\MestradoData\\preprocessed\\all\\16\\31*depth* 60\n",
      "E:\\MestradoData\\preprocessed\\all\\16\\28*depth* 60\n",
      "E:\\MestradoData\\preprocessed\\all\\16\\03*depth* 60\n",
      "E:\\MestradoData\\preprocessed\\all\\16\\37*depth* 0\n",
      "\n"
     ]
    },
    {
     "data": {
      "application/vnd.jupyter.widget-view+json": {
       "model_id": "c6ccf2b4a9e2436f94deeca6533b8b19",
       "version_major": 2,
       "version_minor": 0
      },
      "text/html": [
       "<p>Failed to display Jupyter Widget of type <code>HBox</code>.</p>\n",
       "<p>\n",
       "  If you're reading this message in the Jupyter Notebook or JupyterLab Notebook, it may mean\n",
       "  that the widgets JavaScript is still loading. If this message persists, it\n",
       "  likely means that the widgets JavaScript library is either not installed or\n",
       "  not enabled. See the <a href=\"https://ipywidgets.readthedocs.io/en/stable/user_install.html\">Jupyter\n",
       "  Widgets Documentation</a> for setup instructions.\n",
       "</p>\n",
       "<p>\n",
       "  If you're reading this message in another frontend (for example, a static\n",
       "  rendering on GitHub or <a href=\"https://nbviewer.jupyter.org/\">NBViewer</a>),\n",
       "  it may mean that your frontend doesn't currently support widgets.\n",
       "</p>\n"
      ],
      "text/plain": [
       "HBox(children=(IntProgress(value=0, max=9), HTML(value='')))"
      ]
     },
     "metadata": {},
     "output_type": "display_data"
    },
    {
     "name": "stdout",
     "output_type": "stream",
     "text": [
      "E:\\MestradoData\\preprocessed\\all\\16\\22*depth* 60\n",
      "E:\\MestradoData\\preprocessed\\all\\16\\36*depth* 0\n",
      "E:\\MestradoData\\preprocessed\\all\\16\\33*depth* 0\n",
      "E:\\MestradoData\\preprocessed\\all\\16\\19*depth* 60\n",
      "E:\\MestradoData\\preprocessed\\all\\16\\27*depth* 60\n",
      "E:\\MestradoData\\preprocessed\\all\\16\\16*depth* 60\n",
      "E:\\MestradoData\\preprocessed\\all\\16\\25*depth* 60\n",
      "E:\\MestradoData\\preprocessed\\all\\16\\40*depth* 60\n",
      "E:\\MestradoData\\preprocessed\\all\\16\\07*depth* 60\n",
      "\n",
      "folders created !\n"
     ]
    },
    {
     "data": {
      "application/vnd.jupyter.widget-view+json": {
       "model_id": "b613440c55674dd0adb1706cf671c3ec",
       "version_major": 2,
       "version_minor": 0
      },
      "text/html": [
       "<p>Failed to display Jupyter Widget of type <code>HBox</code>.</p>\n",
       "<p>\n",
       "  If you're reading this message in the Jupyter Notebook or JupyterLab Notebook, it may mean\n",
       "  that the widgets JavaScript is still loading. If this message persists, it\n",
       "  likely means that the widgets JavaScript library is either not installed or\n",
       "  not enabled. See the <a href=\"https://ipywidgets.readthedocs.io/en/stable/user_install.html\">Jupyter\n",
       "  Widgets Documentation</a> for setup instructions.\n",
       "</p>\n",
       "<p>\n",
       "  If you're reading this message in another frontend (for example, a static\n",
       "  rendering on GitHub or <a href=\"https://nbviewer.jupyter.org/\">NBViewer</a>),\n",
       "  it may mean that your frontend doesn't currently support widgets.\n",
       "</p>\n"
      ],
      "text/plain": [
       "HBox(children=(IntProgress(value=0, max=36), HTML(value='')))"
      ]
     },
     "metadata": {},
     "output_type": "display_data"
    },
    {
     "name": "stdout",
     "output_type": "stream",
     "text": [
      "E:\\MestradoData\\preprocessed\\all\\17\\23*depth* 60\n",
      "E:\\MestradoData\\preprocessed\\all\\17\\04*depth* 60\n",
      "E:\\MestradoData\\preprocessed\\all\\17\\38*depth* 0\n",
      "E:\\MestradoData\\preprocessed\\all\\17\\42*depth* 60\n",
      "E:\\MestradoData\\preprocessed\\all\\17\\17*depth* 60\n",
      "E:\\MestradoData\\preprocessed\\all\\17\\35*depth* 60\n",
      "E:\\MestradoData\\preprocessed\\all\\17\\29*depth* 60\n",
      "E:\\MestradoData\\preprocessed\\all\\17\\06*depth* 60\n",
      "E:\\MestradoData\\preprocessed\\all\\17\\15*depth* 60\n",
      "E:\\MestradoData\\preprocessed\\all\\17\\09*depth* 60\n",
      "E:\\MestradoData\\preprocessed\\all\\17\\10*depth* 60\n",
      "E:\\MestradoData\\preprocessed\\all\\17\\26*depth* 60\n",
      "E:\\MestradoData\\preprocessed\\all\\17\\13*depth* 0\n",
      "E:\\MestradoData\\preprocessed\\all\\17\\43*depth* 60\n",
      "E:\\MestradoData\\preprocessed\\all\\17\\20*depth* 60\n",
      "E:\\MestradoData\\preprocessed\\all\\17\\05*depth* 0\n",
      "E:\\MestradoData\\preprocessed\\all\\17\\39*depth* 0\n",
      "E:\\MestradoData\\preprocessed\\all\\17\\02*depth* 60\n",
      "E:\\MestradoData\\preprocessed\\all\\17\\12*depth* 60\n",
      "E:\\MestradoData\\preprocessed\\all\\17\\24*depth* 0\n",
      "E:\\MestradoData\\preprocessed\\all\\17\\08*depth* 60\n",
      "E:\\MestradoData\\preprocessed\\all\\17\\34*depth* 60\n",
      "E:\\MestradoData\\preprocessed\\all\\17\\21*depth* 60\n",
      "E:\\MestradoData\\preprocessed\\all\\17\\41*depth* 60\n",
      "E:\\MestradoData\\preprocessed\\all\\17\\44*depth* 60\n",
      "E:\\MestradoData\\preprocessed\\all\\17\\11*depth* 54\n",
      "E:\\MestradoData\\preprocessed\\all\\17\\18*depth* 0\n",
      "E:\\MestradoData\\preprocessed\\all\\17\\32*depth* 60\n",
      "E:\\MestradoData\\preprocessed\\all\\17\\30*depth* 60\n",
      "E:\\MestradoData\\preprocessed\\all\\17\\14*depth* 60\n",
      "E:\\MestradoData\\preprocessed\\all\\17\\01*depth* 60\n",
      "E:\\MestradoData\\preprocessed\\all\\17\\45*depth* 30\n",
      "E:\\MestradoData\\preprocessed\\all\\17\\31*depth* 60\n",
      "E:\\MestradoData\\preprocessed\\all\\17\\28*depth* 60\n",
      "E:\\MestradoData\\preprocessed\\all\\17\\03*depth* 60\n",
      "E:\\MestradoData\\preprocessed\\all\\17\\37*depth* 0\n",
      "\n"
     ]
    },
    {
     "data": {
      "application/vnd.jupyter.widget-view+json": {
       "model_id": "eba07d713c12452b8f966ebea2c2fb23",
       "version_major": 2,
       "version_minor": 0
      },
      "text/html": [
       "<p>Failed to display Jupyter Widget of type <code>HBox</code>.</p>\n",
       "<p>\n",
       "  If you're reading this message in the Jupyter Notebook or JupyterLab Notebook, it may mean\n",
       "  that the widgets JavaScript is still loading. If this message persists, it\n",
       "  likely means that the widgets JavaScript library is either not installed or\n",
       "  not enabled. See the <a href=\"https://ipywidgets.readthedocs.io/en/stable/user_install.html\">Jupyter\n",
       "  Widgets Documentation</a> for setup instructions.\n",
       "</p>\n",
       "<p>\n",
       "  If you're reading this message in another frontend (for example, a static\n",
       "  rendering on GitHub or <a href=\"https://nbviewer.jupyter.org/\">NBViewer</a>),\n",
       "  it may mean that your frontend doesn't currently support widgets.\n",
       "</p>\n"
      ],
      "text/plain": [
       "HBox(children=(IntProgress(value=0, max=9), HTML(value='')))"
      ]
     },
     "metadata": {},
     "output_type": "display_data"
    },
    {
     "name": "stdout",
     "output_type": "stream",
     "text": [
      "E:\\MestradoData\\preprocessed\\all\\17\\22*depth* 60\n",
      "E:\\MestradoData\\preprocessed\\all\\17\\36*depth* 0\n",
      "E:\\MestradoData\\preprocessed\\all\\17\\33*depth* 0\n",
      "E:\\MestradoData\\preprocessed\\all\\17\\19*depth* 60\n",
      "E:\\MestradoData\\preprocessed\\all\\17\\27*depth* 60\n",
      "E:\\MestradoData\\preprocessed\\all\\17\\16*depth* 60\n",
      "E:\\MestradoData\\preprocessed\\all\\17\\25*depth* 60\n",
      "E:\\MestradoData\\preprocessed\\all\\17\\40*depth* 60\n",
      "E:\\MestradoData\\preprocessed\\all\\17\\07*depth* 60\n",
      "\n",
      "folders created !\n"
     ]
    },
    {
     "data": {
      "application/vnd.jupyter.widget-view+json": {
       "model_id": "455c089499544f5fa9acae9fce3d754c",
       "version_major": 2,
       "version_minor": 0
      },
      "text/html": [
       "<p>Failed to display Jupyter Widget of type <code>HBox</code>.</p>\n",
       "<p>\n",
       "  If you're reading this message in the Jupyter Notebook or JupyterLab Notebook, it may mean\n",
       "  that the widgets JavaScript is still loading. If this message persists, it\n",
       "  likely means that the widgets JavaScript library is either not installed or\n",
       "  not enabled. See the <a href=\"https://ipywidgets.readthedocs.io/en/stable/user_install.html\">Jupyter\n",
       "  Widgets Documentation</a> for setup instructions.\n",
       "</p>\n",
       "<p>\n",
       "  If you're reading this message in another frontend (for example, a static\n",
       "  rendering on GitHub or <a href=\"https://nbviewer.jupyter.org/\">NBViewer</a>),\n",
       "  it may mean that your frontend doesn't currently support widgets.\n",
       "</p>\n"
      ],
      "text/plain": [
       "HBox(children=(IntProgress(value=0, max=36), HTML(value='')))"
      ]
     },
     "metadata": {},
     "output_type": "display_data"
    },
    {
     "name": "stdout",
     "output_type": "stream",
     "text": [
      "E:\\MestradoData\\preprocessed\\all\\18\\23*depth* 60\n",
      "E:\\MestradoData\\preprocessed\\all\\18\\04*depth* 60\n",
      "E:\\MestradoData\\preprocessed\\all\\18\\38*depth* 0\n",
      "E:\\MestradoData\\preprocessed\\all\\18\\42*depth* 60\n",
      "E:\\MestradoData\\preprocessed\\all\\18\\17*depth* 60\n",
      "E:\\MestradoData\\preprocessed\\all\\18\\35*depth* 60\n",
      "E:\\MestradoData\\preprocessed\\all\\18\\29*depth* 60\n",
      "E:\\MestradoData\\preprocessed\\all\\18\\06*depth* 60\n",
      "E:\\MestradoData\\preprocessed\\all\\18\\15*depth* 60\n",
      "E:\\MestradoData\\preprocessed\\all\\18\\09*depth* 60\n",
      "E:\\MestradoData\\preprocessed\\all\\18\\10*depth* 60\n",
      "E:\\MestradoData\\preprocessed\\all\\18\\26*depth* 60\n",
      "E:\\MestradoData\\preprocessed\\all\\18\\13*depth* 0\n",
      "E:\\MestradoData\\preprocessed\\all\\18\\43*depth* 60\n",
      "E:\\MestradoData\\preprocessed\\all\\18\\20*depth* 60\n",
      "E:\\MestradoData\\preprocessed\\all\\18\\05*depth* 0\n",
      "E:\\MestradoData\\preprocessed\\all\\18\\39*depth* 0\n",
      "E:\\MestradoData\\preprocessed\\all\\18\\02*depth* 60\n",
      "E:\\MestradoData\\preprocessed\\all\\18\\12*depth* 60\n",
      "E:\\MestradoData\\preprocessed\\all\\18\\24*depth* 0\n",
      "E:\\MestradoData\\preprocessed\\all\\18\\08*depth* 60\n",
      "E:\\MestradoData\\preprocessed\\all\\18\\34*depth* 60\n",
      "E:\\MestradoData\\preprocessed\\all\\18\\21*depth* 60\n",
      "E:\\MestradoData\\preprocessed\\all\\18\\41*depth* 60\n",
      "E:\\MestradoData\\preprocessed\\all\\18\\44*depth* 60\n",
      "E:\\MestradoData\\preprocessed\\all\\18\\11*depth* 54\n",
      "E:\\MestradoData\\preprocessed\\all\\18\\18*depth* 0\n",
      "E:\\MestradoData\\preprocessed\\all\\18\\32*depth* 60\n",
      "E:\\MestradoData\\preprocessed\\all\\18\\30*depth* 60\n",
      "E:\\MestradoData\\preprocessed\\all\\18\\14*depth* 60\n",
      "E:\\MestradoData\\preprocessed\\all\\18\\01*depth* 60\n",
      "E:\\MestradoData\\preprocessed\\all\\18\\45*depth* 30\n",
      "E:\\MestradoData\\preprocessed\\all\\18\\31*depth* 60\n",
      "E:\\MestradoData\\preprocessed\\all\\18\\28*depth* 60\n",
      "E:\\MestradoData\\preprocessed\\all\\18\\03*depth* 60\n",
      "E:\\MestradoData\\preprocessed\\all\\18\\37*depth* 0\n",
      "\n"
     ]
    },
    {
     "data": {
      "application/vnd.jupyter.widget-view+json": {
       "model_id": "ad63a06c8d3644fcbcdcde99796ecc54",
       "version_major": 2,
       "version_minor": 0
      },
      "text/html": [
       "<p>Failed to display Jupyter Widget of type <code>HBox</code>.</p>\n",
       "<p>\n",
       "  If you're reading this message in the Jupyter Notebook or JupyterLab Notebook, it may mean\n",
       "  that the widgets JavaScript is still loading. If this message persists, it\n",
       "  likely means that the widgets JavaScript library is either not installed or\n",
       "  not enabled. See the <a href=\"https://ipywidgets.readthedocs.io/en/stable/user_install.html\">Jupyter\n",
       "  Widgets Documentation</a> for setup instructions.\n",
       "</p>\n",
       "<p>\n",
       "  If you're reading this message in another frontend (for example, a static\n",
       "  rendering on GitHub or <a href=\"https://nbviewer.jupyter.org/\">NBViewer</a>),\n",
       "  it may mean that your frontend doesn't currently support widgets.\n",
       "</p>\n"
      ],
      "text/plain": [
       "HBox(children=(IntProgress(value=0, max=9), HTML(value='')))"
      ]
     },
     "metadata": {},
     "output_type": "display_data"
    },
    {
     "name": "stdout",
     "output_type": "stream",
     "text": [
      "E:\\MestradoData\\preprocessed\\all\\18\\22*depth* 60\n",
      "E:\\MestradoData\\preprocessed\\all\\18\\36*depth* 0\n",
      "E:\\MestradoData\\preprocessed\\all\\18\\33*depth* 0\n",
      "E:\\MestradoData\\preprocessed\\all\\18\\19*depth* 60\n",
      "E:\\MestradoData\\preprocessed\\all\\18\\27*depth* 60\n",
      "E:\\MestradoData\\preprocessed\\all\\18\\16*depth* 60\n",
      "E:\\MestradoData\\preprocessed\\all\\18\\25*depth* 60\n",
      "E:\\MestradoData\\preprocessed\\all\\18\\40*depth* 60\n",
      "E:\\MestradoData\\preprocessed\\all\\18\\07*depth* 60\n",
      "\n",
      "folders created !\n"
     ]
    },
    {
     "data": {
      "application/vnd.jupyter.widget-view+json": {
       "model_id": "4031313fe7ba4d709b5d4f26751bd4c8",
       "version_major": 2,
       "version_minor": 0
      },
      "text/html": [
       "<p>Failed to display Jupyter Widget of type <code>HBox</code>.</p>\n",
       "<p>\n",
       "  If you're reading this message in the Jupyter Notebook or JupyterLab Notebook, it may mean\n",
       "  that the widgets JavaScript is still loading. If this message persists, it\n",
       "  likely means that the widgets JavaScript library is either not installed or\n",
       "  not enabled. See the <a href=\"https://ipywidgets.readthedocs.io/en/stable/user_install.html\">Jupyter\n",
       "  Widgets Documentation</a> for setup instructions.\n",
       "</p>\n",
       "<p>\n",
       "  If you're reading this message in another frontend (for example, a static\n",
       "  rendering on GitHub or <a href=\"https://nbviewer.jupyter.org/\">NBViewer</a>),\n",
       "  it may mean that your frontend doesn't currently support widgets.\n",
       "</p>\n"
      ],
      "text/plain": [
       "HBox(children=(IntProgress(value=0, max=36), HTML(value='')))"
      ]
     },
     "metadata": {},
     "output_type": "display_data"
    },
    {
     "name": "stdout",
     "output_type": "stream",
     "text": [
      "E:\\MestradoData\\preprocessed\\all\\19\\23*depth* 60\n",
      "E:\\MestradoData\\preprocessed\\all\\19\\04*depth* 60\n",
      "E:\\MestradoData\\preprocessed\\all\\19\\38*depth* 0\n",
      "E:\\MestradoData\\preprocessed\\all\\19\\42*depth* 60\n",
      "E:\\MestradoData\\preprocessed\\all\\19\\17*depth* 60\n",
      "E:\\MestradoData\\preprocessed\\all\\19\\35*depth* 60\n",
      "E:\\MestradoData\\preprocessed\\all\\19\\29*depth* 60\n",
      "E:\\MestradoData\\preprocessed\\all\\19\\06*depth* 60\n",
      "E:\\MestradoData\\preprocessed\\all\\19\\15*depth* 60\n",
      "E:\\MestradoData\\preprocessed\\all\\19\\09*depth* 60\n",
      "E:\\MestradoData\\preprocessed\\all\\19\\10*depth* 60\n",
      "E:\\MestradoData\\preprocessed\\all\\19\\26*depth* 60\n",
      "E:\\MestradoData\\preprocessed\\all\\19\\13*depth* 0\n",
      "E:\\MestradoData\\preprocessed\\all\\19\\43*depth* 60\n",
      "E:\\MestradoData\\preprocessed\\all\\19\\20*depth* 60\n",
      "E:\\MestradoData\\preprocessed\\all\\19\\05*depth* 0\n",
      "E:\\MestradoData\\preprocessed\\all\\19\\39*depth* 0\n",
      "E:\\MestradoData\\preprocessed\\all\\19\\02*depth* 60\n",
      "E:\\MestradoData\\preprocessed\\all\\19\\12*depth* 60\n",
      "E:\\MestradoData\\preprocessed\\all\\19\\24*depth* 0\n",
      "E:\\MestradoData\\preprocessed\\all\\19\\08*depth* 60\n",
      "E:\\MestradoData\\preprocessed\\all\\19\\34*depth* 60\n",
      "E:\\MestradoData\\preprocessed\\all\\19\\21*depth* 60\n",
      "E:\\MestradoData\\preprocessed\\all\\19\\41*depth* 60\n",
      "E:\\MestradoData\\preprocessed\\all\\19\\44*depth* 60\n",
      "E:\\MestradoData\\preprocessed\\all\\19\\11*depth* 54\n",
      "E:\\MestradoData\\preprocessed\\all\\19\\18*depth* 0\n",
      "E:\\MestradoData\\preprocessed\\all\\19\\32*depth* 60\n",
      "E:\\MestradoData\\preprocessed\\all\\19\\30*depth* 60\n",
      "E:\\MestradoData\\preprocessed\\all\\19\\14*depth* 60\n",
      "E:\\MestradoData\\preprocessed\\all\\19\\01*depth* 60\n",
      "E:\\MestradoData\\preprocessed\\all\\19\\45*depth* 30\n",
      "E:\\MestradoData\\preprocessed\\all\\19\\31*depth* 60\n",
      "E:\\MestradoData\\preprocessed\\all\\19\\28*depth* 60\n",
      "E:\\MestradoData\\preprocessed\\all\\19\\03*depth* 60\n",
      "E:\\MestradoData\\preprocessed\\all\\19\\37*depth* 0\n",
      "\n"
     ]
    },
    {
     "data": {
      "application/vnd.jupyter.widget-view+json": {
       "model_id": "854d8062703a4ce6b9f1d352f21ed83b",
       "version_major": 2,
       "version_minor": 0
      },
      "text/html": [
       "<p>Failed to display Jupyter Widget of type <code>HBox</code>.</p>\n",
       "<p>\n",
       "  If you're reading this message in the Jupyter Notebook or JupyterLab Notebook, it may mean\n",
       "  that the widgets JavaScript is still loading. If this message persists, it\n",
       "  likely means that the widgets JavaScript library is either not installed or\n",
       "  not enabled. See the <a href=\"https://ipywidgets.readthedocs.io/en/stable/user_install.html\">Jupyter\n",
       "  Widgets Documentation</a> for setup instructions.\n",
       "</p>\n",
       "<p>\n",
       "  If you're reading this message in another frontend (for example, a static\n",
       "  rendering on GitHub or <a href=\"https://nbviewer.jupyter.org/\">NBViewer</a>),\n",
       "  it may mean that your frontend doesn't currently support widgets.\n",
       "</p>\n"
      ],
      "text/plain": [
       "HBox(children=(IntProgress(value=0, max=9), HTML(value='')))"
      ]
     },
     "metadata": {},
     "output_type": "display_data"
    },
    {
     "name": "stdout",
     "output_type": "stream",
     "text": [
      "E:\\MestradoData\\preprocessed\\all\\19\\22*depth* 60\n",
      "E:\\MestradoData\\preprocessed\\all\\19\\36*depth* 0\n",
      "E:\\MestradoData\\preprocessed\\all\\19\\33*depth* 0\n",
      "E:\\MestradoData\\preprocessed\\all\\19\\19*depth* 60\n",
      "E:\\MestradoData\\preprocessed\\all\\19\\27*depth* 60\n",
      "E:\\MestradoData\\preprocessed\\all\\19\\16*depth* 60\n",
      "E:\\MestradoData\\preprocessed\\all\\19\\25*depth* 60\n",
      "E:\\MestradoData\\preprocessed\\all\\19\\40*depth* 60\n",
      "E:\\MestradoData\\preprocessed\\all\\19\\07*depth* 60\n",
      "\n",
      "folders created !\n"
     ]
    },
    {
     "data": {
      "application/vnd.jupyter.widget-view+json": {
       "model_id": "f7653fe3d2ae4c9e8ae182164a6c8f1d",
       "version_major": 2,
       "version_minor": 0
      },
      "text/html": [
       "<p>Failed to display Jupyter Widget of type <code>HBox</code>.</p>\n",
       "<p>\n",
       "  If you're reading this message in the Jupyter Notebook or JupyterLab Notebook, it may mean\n",
       "  that the widgets JavaScript is still loading. If this message persists, it\n",
       "  likely means that the widgets JavaScript library is either not installed or\n",
       "  not enabled. See the <a href=\"https://ipywidgets.readthedocs.io/en/stable/user_install.html\">Jupyter\n",
       "  Widgets Documentation</a> for setup instructions.\n",
       "</p>\n",
       "<p>\n",
       "  If you're reading this message in another frontend (for example, a static\n",
       "  rendering on GitHub or <a href=\"https://nbviewer.jupyter.org/\">NBViewer</a>),\n",
       "  it may mean that your frontend doesn't currently support widgets.\n",
       "</p>\n"
      ],
      "text/plain": [
       "HBox(children=(IntProgress(value=0, max=36), HTML(value='')))"
      ]
     },
     "metadata": {},
     "output_type": "display_data"
    },
    {
     "name": "stdout",
     "output_type": "stream",
     "text": [
      "E:\\MestradoData\\preprocessed\\all\\01\\23*ir1* 30\n",
      "E:\\MestradoData\\preprocessed\\all\\01\\04*ir1* 30\n",
      "E:\\MestradoData\\preprocessed\\all\\01\\38*ir1* 0\n",
      "E:\\MestradoData\\preprocessed\\all\\01\\42*ir1* 30\n",
      "E:\\MestradoData\\preprocessed\\all\\01\\17*ir1* 30\n",
      "E:\\MestradoData\\preprocessed\\all\\01\\35*ir1* 30\n",
      "E:\\MestradoData\\preprocessed\\all\\01\\29*ir1* 30\n",
      "E:\\MestradoData\\preprocessed\\all\\01\\06*ir1* 30\n",
      "E:\\MestradoData\\preprocessed\\all\\01\\15*ir1* 30\n",
      "E:\\MestradoData\\preprocessed\\all\\01\\09*ir1* 30\n",
      "E:\\MestradoData\\preprocessed\\all\\01\\10*ir1* 30\n",
      "E:\\MestradoData\\preprocessed\\all\\01\\26*ir1* 30\n",
      "E:\\MestradoData\\preprocessed\\all\\01\\13*ir1* 30\n",
      "E:\\MestradoData\\preprocessed\\all\\01\\43*ir1* 30\n",
      "E:\\MestradoData\\preprocessed\\all\\01\\20*ir1* 30\n",
      "E:\\MestradoData\\preprocessed\\all\\01\\05*ir1* 30\n",
      "E:\\MestradoData\\preprocessed\\all\\01\\39*ir1* 0\n",
      "E:\\MestradoData\\preprocessed\\all\\01\\02*ir1* 30\n",
      "E:\\MestradoData\\preprocessed\\all\\01\\12*ir1* 30\n",
      "E:\\MestradoData\\preprocessed\\all\\01\\24*ir1* 30\n",
      "E:\\MestradoData\\preprocessed\\all\\01\\08*ir1* 30\n",
      "E:\\MestradoData\\preprocessed\\all\\01\\34*ir1* 30\n",
      "E:\\MestradoData\\preprocessed\\all\\01\\21*ir1* 30\n",
      "E:\\MestradoData\\preprocessed\\all\\01\\41*ir1* 30\n",
      "E:\\MestradoData\\preprocessed\\all\\01\\44*ir1* 30\n",
      "E:\\MestradoData\\preprocessed\\all\\01\\11*ir1* 30\n",
      "E:\\MestradoData\\preprocessed\\all\\01\\18*ir1* 30\n",
      "E:\\MestradoData\\preprocessed\\all\\01\\32*ir1* 30\n",
      "E:\\MestradoData\\preprocessed\\all\\01\\30*ir1* 30\n",
      "E:\\MestradoData\\preprocessed\\all\\01\\14*ir1* 30\n",
      "E:\\MestradoData\\preprocessed\\all\\01\\01*ir1* 30\n",
      "E:\\MestradoData\\preprocessed\\all\\01\\45*ir1* 30\n",
      "E:\\MestradoData\\preprocessed\\all\\01\\31*ir1* 30\n",
      "E:\\MestradoData\\preprocessed\\all\\01\\28*ir1* 30\n",
      "E:\\MestradoData\\preprocessed\\all\\01\\03*ir1* 30\n",
      "E:\\MestradoData\\preprocessed\\all\\01\\37*ir1* 0\n",
      "\n"
     ]
    },
    {
     "data": {
      "application/vnd.jupyter.widget-view+json": {
       "model_id": "b27afadf84994cd3b6564bba20ff44bc",
       "version_major": 2,
       "version_minor": 0
      },
      "text/html": [
       "<p>Failed to display Jupyter Widget of type <code>HBox</code>.</p>\n",
       "<p>\n",
       "  If you're reading this message in the Jupyter Notebook or JupyterLab Notebook, it may mean\n",
       "  that the widgets JavaScript is still loading. If this message persists, it\n",
       "  likely means that the widgets JavaScript library is either not installed or\n",
       "  not enabled. See the <a href=\"https://ipywidgets.readthedocs.io/en/stable/user_install.html\">Jupyter\n",
       "  Widgets Documentation</a> for setup instructions.\n",
       "</p>\n",
       "<p>\n",
       "  If you're reading this message in another frontend (for example, a static\n",
       "  rendering on GitHub or <a href=\"https://nbviewer.jupyter.org/\">NBViewer</a>),\n",
       "  it may mean that your frontend doesn't currently support widgets.\n",
       "</p>\n"
      ],
      "text/plain": [
       "HBox(children=(IntProgress(value=0, max=9), HTML(value='')))"
      ]
     },
     "metadata": {},
     "output_type": "display_data"
    },
    {
     "name": "stdout",
     "output_type": "stream",
     "text": [
      "E:\\MestradoData\\preprocessed\\all\\01\\22*ir1* 30\n",
      "E:\\MestradoData\\preprocessed\\all\\01\\36*ir1* 0\n",
      "E:\\MestradoData\\preprocessed\\all\\01\\33*ir1* 30\n",
      "E:\\MestradoData\\preprocessed\\all\\01\\19*ir1* 30\n",
      "E:\\MestradoData\\preprocessed\\all\\01\\27*ir1* 30\n",
      "E:\\MestradoData\\preprocessed\\all\\01\\16*ir1* 30\n",
      "E:\\MestradoData\\preprocessed\\all\\01\\25*ir1* 30\n",
      "E:\\MestradoData\\preprocessed\\all\\01\\40*ir1* 30\n",
      "E:\\MestradoData\\preprocessed\\all\\01\\07*ir1* 30\n",
      "\n",
      "folders created !\n"
     ]
    },
    {
     "data": {
      "application/vnd.jupyter.widget-view+json": {
       "model_id": "84e847ea56f94f57a64540db6027c82b",
       "version_major": 2,
       "version_minor": 0
      },
      "text/html": [
       "<p>Failed to display Jupyter Widget of type <code>HBox</code>.</p>\n",
       "<p>\n",
       "  If you're reading this message in the Jupyter Notebook or JupyterLab Notebook, it may mean\n",
       "  that the widgets JavaScript is still loading. If this message persists, it\n",
       "  likely means that the widgets JavaScript library is either not installed or\n",
       "  not enabled. See the <a href=\"https://ipywidgets.readthedocs.io/en/stable/user_install.html\">Jupyter\n",
       "  Widgets Documentation</a> for setup instructions.\n",
       "</p>\n",
       "<p>\n",
       "  If you're reading this message in another frontend (for example, a static\n",
       "  rendering on GitHub or <a href=\"https://nbviewer.jupyter.org/\">NBViewer</a>),\n",
       "  it may mean that your frontend doesn't currently support widgets.\n",
       "</p>\n"
      ],
      "text/plain": [
       "HBox(children=(IntProgress(value=0, max=36), HTML(value='')))"
      ]
     },
     "metadata": {},
     "output_type": "display_data"
    },
    {
     "name": "stdout",
     "output_type": "stream",
     "text": [
      "E:\\MestradoData\\preprocessed\\all\\02\\23*ir1* 30\n",
      "E:\\MestradoData\\preprocessed\\all\\02\\04*ir1* 30\n",
      "E:\\MestradoData\\preprocessed\\all\\02\\38*ir1* 0\n",
      "E:\\MestradoData\\preprocessed\\all\\02\\42*ir1* 30\n",
      "E:\\MestradoData\\preprocessed\\all\\02\\17*ir1* 30\n",
      "E:\\MestradoData\\preprocessed\\all\\02\\35*ir1* 30\n",
      "E:\\MestradoData\\preprocessed\\all\\02\\29*ir1* 30\n",
      "E:\\MestradoData\\preprocessed\\all\\02\\06*ir1* 30\n",
      "E:\\MestradoData\\preprocessed\\all\\02\\15*ir1* 30\n",
      "E:\\MestradoData\\preprocessed\\all\\02\\09*ir1* 30\n",
      "E:\\MestradoData\\preprocessed\\all\\02\\10*ir1* 30\n",
      "E:\\MestradoData\\preprocessed\\all\\02\\26*ir1* 30\n",
      "E:\\MestradoData\\preprocessed\\all\\02\\13*ir1* 30\n",
      "E:\\MestradoData\\preprocessed\\all\\02\\43*ir1* 30\n",
      "E:\\MestradoData\\preprocessed\\all\\02\\20*ir1* 30\n",
      "E:\\MestradoData\\preprocessed\\all\\02\\05*ir1* 30\n",
      "E:\\MestradoData\\preprocessed\\all\\02\\39*ir1* 0\n",
      "E:\\MestradoData\\preprocessed\\all\\02\\02*ir1* 30\n",
      "E:\\MestradoData\\preprocessed\\all\\02\\12*ir1* 30\n",
      "E:\\MestradoData\\preprocessed\\all\\02\\24*ir1* 30\n",
      "E:\\MestradoData\\preprocessed\\all\\02\\08*ir1* 30\n",
      "E:\\MestradoData\\preprocessed\\all\\02\\34*ir1* 30\n",
      "E:\\MestradoData\\preprocessed\\all\\02\\21*ir1* 30\n",
      "E:\\MestradoData\\preprocessed\\all\\02\\41*ir1* 30\n",
      "E:\\MestradoData\\preprocessed\\all\\02\\44*ir1* 30\n",
      "E:\\MestradoData\\preprocessed\\all\\02\\11*ir1* 30\n",
      "E:\\MestradoData\\preprocessed\\all\\02\\18*ir1* 30\n",
      "E:\\MestradoData\\preprocessed\\all\\02\\32*ir1* 30\n",
      "E:\\MestradoData\\preprocessed\\all\\02\\30*ir1* 30\n",
      "E:\\MestradoData\\preprocessed\\all\\02\\14*ir1* 30\n",
      "E:\\MestradoData\\preprocessed\\all\\02\\01*ir1* 30\n",
      "E:\\MestradoData\\preprocessed\\all\\02\\45*ir1* 30\n",
      "E:\\MestradoData\\preprocessed\\all\\02\\31*ir1* 30\n",
      "E:\\MestradoData\\preprocessed\\all\\02\\28*ir1* 30\n",
      "E:\\MestradoData\\preprocessed\\all\\02\\03*ir1* 30\n",
      "E:\\MestradoData\\preprocessed\\all\\02\\37*ir1* 0\n",
      "\n"
     ]
    },
    {
     "data": {
      "application/vnd.jupyter.widget-view+json": {
       "model_id": "74ad41713f9947b1b8a562044c2bf341",
       "version_major": 2,
       "version_minor": 0
      },
      "text/html": [
       "<p>Failed to display Jupyter Widget of type <code>HBox</code>.</p>\n",
       "<p>\n",
       "  If you're reading this message in the Jupyter Notebook or JupyterLab Notebook, it may mean\n",
       "  that the widgets JavaScript is still loading. If this message persists, it\n",
       "  likely means that the widgets JavaScript library is either not installed or\n",
       "  not enabled. See the <a href=\"https://ipywidgets.readthedocs.io/en/stable/user_install.html\">Jupyter\n",
       "  Widgets Documentation</a> for setup instructions.\n",
       "</p>\n",
       "<p>\n",
       "  If you're reading this message in another frontend (for example, a static\n",
       "  rendering on GitHub or <a href=\"https://nbviewer.jupyter.org/\">NBViewer</a>),\n",
       "  it may mean that your frontend doesn't currently support widgets.\n",
       "</p>\n"
      ],
      "text/plain": [
       "HBox(children=(IntProgress(value=0, max=9), HTML(value='')))"
      ]
     },
     "metadata": {},
     "output_type": "display_data"
    },
    {
     "name": "stdout",
     "output_type": "stream",
     "text": [
      "E:\\MestradoData\\preprocessed\\all\\02\\22*ir1* 30\n",
      "E:\\MestradoData\\preprocessed\\all\\02\\36*ir1* 0\n",
      "E:\\MestradoData\\preprocessed\\all\\02\\33*ir1* 30\n",
      "E:\\MestradoData\\preprocessed\\all\\02\\19*ir1* 30\n",
      "E:\\MestradoData\\preprocessed\\all\\02\\27*ir1* 30\n",
      "E:\\MestradoData\\preprocessed\\all\\02\\16*ir1* 30\n",
      "E:\\MestradoData\\preprocessed\\all\\02\\25*ir1* 30\n",
      "E:\\MestradoData\\preprocessed\\all\\02\\40*ir1* 30\n",
      "E:\\MestradoData\\preprocessed\\all\\02\\07*ir1* 30\n",
      "\n",
      "folders created !\n"
     ]
    },
    {
     "data": {
      "application/vnd.jupyter.widget-view+json": {
       "model_id": "a1a73d32056f46389c65fa0f345d8f0d",
       "version_major": 2,
       "version_minor": 0
      },
      "text/html": [
       "<p>Failed to display Jupyter Widget of type <code>HBox</code>.</p>\n",
       "<p>\n",
       "  If you're reading this message in the Jupyter Notebook or JupyterLab Notebook, it may mean\n",
       "  that the widgets JavaScript is still loading. If this message persists, it\n",
       "  likely means that the widgets JavaScript library is either not installed or\n",
       "  not enabled. See the <a href=\"https://ipywidgets.readthedocs.io/en/stable/user_install.html\">Jupyter\n",
       "  Widgets Documentation</a> for setup instructions.\n",
       "</p>\n",
       "<p>\n",
       "  If you're reading this message in another frontend (for example, a static\n",
       "  rendering on GitHub or <a href=\"https://nbviewer.jupyter.org/\">NBViewer</a>),\n",
       "  it may mean that your frontend doesn't currently support widgets.\n",
       "</p>\n"
      ],
      "text/plain": [
       "HBox(children=(IntProgress(value=0, max=36), HTML(value='')))"
      ]
     },
     "metadata": {},
     "output_type": "display_data"
    },
    {
     "name": "stdout",
     "output_type": "stream",
     "text": [
      "E:\\MestradoData\\preprocessed\\all\\03\\23*ir1* 30\n",
      "E:\\MestradoData\\preprocessed\\all\\03\\04*ir1* 30\n",
      "E:\\MestradoData\\preprocessed\\all\\03\\38*ir1* 0\n",
      "E:\\MestradoData\\preprocessed\\all\\03\\42*ir1* 30\n",
      "E:\\MestradoData\\preprocessed\\all\\03\\17*ir1* 30\n",
      "E:\\MestradoData\\preprocessed\\all\\03\\35*ir1* 30\n",
      "E:\\MestradoData\\preprocessed\\all\\03\\29*ir1* 30\n",
      "E:\\MestradoData\\preprocessed\\all\\03\\06*ir1* 30\n",
      "E:\\MestradoData\\preprocessed\\all\\03\\15*ir1* 30\n",
      "E:\\MestradoData\\preprocessed\\all\\03\\09*ir1* 30\n",
      "E:\\MestradoData\\preprocessed\\all\\03\\10*ir1* 30\n",
      "E:\\MestradoData\\preprocessed\\all\\03\\26*ir1* 30\n",
      "E:\\MestradoData\\preprocessed\\all\\03\\13*ir1* 0\n",
      "E:\\MestradoData\\preprocessed\\all\\03\\43*ir1* 30\n",
      "E:\\MestradoData\\preprocessed\\all\\03\\20*ir1* 30\n",
      "E:\\MestradoData\\preprocessed\\all\\03\\05*ir1* 30\n",
      "E:\\MestradoData\\preprocessed\\all\\03\\39*ir1* 0\n",
      "E:\\MestradoData\\preprocessed\\all\\03\\02*ir1* 30\n",
      "E:\\MestradoData\\preprocessed\\all\\03\\12*ir1* 30\n",
      "E:\\MestradoData\\preprocessed\\all\\03\\24*ir1* 30\n",
      "E:\\MestradoData\\preprocessed\\all\\03\\08*ir1* 30\n",
      "E:\\MestradoData\\preprocessed\\all\\03\\34*ir1* 30\n",
      "E:\\MestradoData\\preprocessed\\all\\03\\21*ir1* 30\n",
      "E:\\MestradoData\\preprocessed\\all\\03\\41*ir1* 30\n",
      "E:\\MestradoData\\preprocessed\\all\\03\\44*ir1* 30\n",
      "E:\\MestradoData\\preprocessed\\all\\03\\11*ir1* 27\n",
      "E:\\MestradoData\\preprocessed\\all\\03\\18*ir1* 0\n",
      "E:\\MestradoData\\preprocessed\\all\\03\\32*ir1* 30\n",
      "E:\\MestradoData\\preprocessed\\all\\03\\30*ir1* 30\n",
      "E:\\MestradoData\\preprocessed\\all\\03\\14*ir1* 30\n",
      "E:\\MestradoData\\preprocessed\\all\\03\\01*ir1* 30\n",
      "E:\\MestradoData\\preprocessed\\all\\03\\45*ir1* 30\n",
      "E:\\MestradoData\\preprocessed\\all\\03\\31*ir1* 30\n",
      "E:\\MestradoData\\preprocessed\\all\\03\\28*ir1* 30\n",
      "E:\\MestradoData\\preprocessed\\all\\03\\03*ir1* 30\n",
      "E:\\MestradoData\\preprocessed\\all\\03\\37*ir1* 0\n",
      "\n"
     ]
    },
    {
     "data": {
      "application/vnd.jupyter.widget-view+json": {
       "model_id": "acb801b37c7646699b9989828305de75",
       "version_major": 2,
       "version_minor": 0
      },
      "text/html": [
       "<p>Failed to display Jupyter Widget of type <code>HBox</code>.</p>\n",
       "<p>\n",
       "  If you're reading this message in the Jupyter Notebook or JupyterLab Notebook, it may mean\n",
       "  that the widgets JavaScript is still loading. If this message persists, it\n",
       "  likely means that the widgets JavaScript library is either not installed or\n",
       "  not enabled. See the <a href=\"https://ipywidgets.readthedocs.io/en/stable/user_install.html\">Jupyter\n",
       "  Widgets Documentation</a> for setup instructions.\n",
       "</p>\n",
       "<p>\n",
       "  If you're reading this message in another frontend (for example, a static\n",
       "  rendering on GitHub or <a href=\"https://nbviewer.jupyter.org/\">NBViewer</a>),\n",
       "  it may mean that your frontend doesn't currently support widgets.\n",
       "</p>\n"
      ],
      "text/plain": [
       "HBox(children=(IntProgress(value=0, max=9), HTML(value='')))"
      ]
     },
     "metadata": {},
     "output_type": "display_data"
    },
    {
     "name": "stdout",
     "output_type": "stream",
     "text": [
      "E:\\MestradoData\\preprocessed\\all\\03\\22*ir1* 30\n",
      "E:\\MestradoData\\preprocessed\\all\\03\\36*ir1* 0\n",
      "E:\\MestradoData\\preprocessed\\all\\03\\33*ir1* 30\n",
      "E:\\MestradoData\\preprocessed\\all\\03\\19*ir1* 30\n",
      "E:\\MestradoData\\preprocessed\\all\\03\\27*ir1* 30\n",
      "E:\\MestradoData\\preprocessed\\all\\03\\16*ir1* 30\n",
      "E:\\MestradoData\\preprocessed\\all\\03\\25*ir1* 30\n",
      "E:\\MestradoData\\preprocessed\\all\\03\\40*ir1* 30\n",
      "E:\\MestradoData\\preprocessed\\all\\03\\07*ir1* 30\n",
      "\n",
      "folders created !\n"
     ]
    },
    {
     "data": {
      "application/vnd.jupyter.widget-view+json": {
       "model_id": "a82b590009b647198268e2d6ae6cb7c7",
       "version_major": 2,
       "version_minor": 0
      },
      "text/html": [
       "<p>Failed to display Jupyter Widget of type <code>HBox</code>.</p>\n",
       "<p>\n",
       "  If you're reading this message in the Jupyter Notebook or JupyterLab Notebook, it may mean\n",
       "  that the widgets JavaScript is still loading. If this message persists, it\n",
       "  likely means that the widgets JavaScript library is either not installed or\n",
       "  not enabled. See the <a href=\"https://ipywidgets.readthedocs.io/en/stable/user_install.html\">Jupyter\n",
       "  Widgets Documentation</a> for setup instructions.\n",
       "</p>\n",
       "<p>\n",
       "  If you're reading this message in another frontend (for example, a static\n",
       "  rendering on GitHub or <a href=\"https://nbviewer.jupyter.org/\">NBViewer</a>),\n",
       "  it may mean that your frontend doesn't currently support widgets.\n",
       "</p>\n"
      ],
      "text/plain": [
       "HBox(children=(IntProgress(value=0, max=36), HTML(value='')))"
      ]
     },
     "metadata": {},
     "output_type": "display_data"
    },
    {
     "name": "stdout",
     "output_type": "stream",
     "text": [
      "E:\\MestradoData\\preprocessed\\all\\04\\23*ir1* 30\n",
      "E:\\MestradoData\\preprocessed\\all\\04\\04*ir1* 30\n",
      "E:\\MestradoData\\preprocessed\\all\\04\\38*ir1* 0\n",
      "E:\\MestradoData\\preprocessed\\all\\04\\42*ir1* 30\n",
      "E:\\MestradoData\\preprocessed\\all\\04\\17*ir1* 30\n",
      "E:\\MestradoData\\preprocessed\\all\\04\\35*ir1* 30\n",
      "E:\\MestradoData\\preprocessed\\all\\04\\29*ir1* 30\n",
      "E:\\MestradoData\\preprocessed\\all\\04\\06*ir1* 30\n",
      "E:\\MestradoData\\preprocessed\\all\\04\\15*ir1* 30\n",
      "E:\\MestradoData\\preprocessed\\all\\04\\09*ir1* 30\n",
      "E:\\MestradoData\\preprocessed\\all\\04\\10*ir1* 30\n",
      "E:\\MestradoData\\preprocessed\\all\\04\\26*ir1* 30\n",
      "E:\\MestradoData\\preprocessed\\all\\04\\13*ir1* 0\n",
      "E:\\MestradoData\\preprocessed\\all\\04\\43*ir1* 30\n",
      "E:\\MestradoData\\preprocessed\\all\\04\\20*ir1* 30\n",
      "E:\\MestradoData\\preprocessed\\all\\04\\05*ir1* 30\n",
      "E:\\MestradoData\\preprocessed\\all\\04\\39*ir1* 0\n",
      "E:\\MestradoData\\preprocessed\\all\\04\\02*ir1* 30\n",
      "E:\\MestradoData\\preprocessed\\all\\04\\12*ir1* 30\n",
      "E:\\MestradoData\\preprocessed\\all\\04\\24*ir1* 30\n",
      "E:\\MestradoData\\preprocessed\\all\\04\\08*ir1* 30\n",
      "E:\\MestradoData\\preprocessed\\all\\04\\34*ir1* 30\n",
      "E:\\MestradoData\\preprocessed\\all\\04\\21*ir1* 30\n",
      "E:\\MestradoData\\preprocessed\\all\\04\\41*ir1* 30\n",
      "E:\\MestradoData\\preprocessed\\all\\04\\44*ir1* 30\n",
      "E:\\MestradoData\\preprocessed\\all\\04\\11*ir1* 27\n",
      "E:\\MestradoData\\preprocessed\\all\\04\\18*ir1* 0\n",
      "E:\\MestradoData\\preprocessed\\all\\04\\32*ir1* 30\n",
      "E:\\MestradoData\\preprocessed\\all\\04\\30*ir1* 30\n",
      "E:\\MestradoData\\preprocessed\\all\\04\\14*ir1* 30\n",
      "E:\\MestradoData\\preprocessed\\all\\04\\01*ir1* 30\n",
      "E:\\MestradoData\\preprocessed\\all\\04\\45*ir1* 30\n",
      "E:\\MestradoData\\preprocessed\\all\\04\\31*ir1* 30\n",
      "E:\\MestradoData\\preprocessed\\all\\04\\28*ir1* 30\n",
      "E:\\MestradoData\\preprocessed\\all\\04\\03*ir1* 30\n",
      "E:\\MestradoData\\preprocessed\\all\\04\\37*ir1* 0\n",
      "\n"
     ]
    },
    {
     "data": {
      "application/vnd.jupyter.widget-view+json": {
       "model_id": "441be0bc68174fdb908f756b9918c70b",
       "version_major": 2,
       "version_minor": 0
      },
      "text/html": [
       "<p>Failed to display Jupyter Widget of type <code>HBox</code>.</p>\n",
       "<p>\n",
       "  If you're reading this message in the Jupyter Notebook or JupyterLab Notebook, it may mean\n",
       "  that the widgets JavaScript is still loading. If this message persists, it\n",
       "  likely means that the widgets JavaScript library is either not installed or\n",
       "  not enabled. See the <a href=\"https://ipywidgets.readthedocs.io/en/stable/user_install.html\">Jupyter\n",
       "  Widgets Documentation</a> for setup instructions.\n",
       "</p>\n",
       "<p>\n",
       "  If you're reading this message in another frontend (for example, a static\n",
       "  rendering on GitHub or <a href=\"https://nbviewer.jupyter.org/\">NBViewer</a>),\n",
       "  it may mean that your frontend doesn't currently support widgets.\n",
       "</p>\n"
      ],
      "text/plain": [
       "HBox(children=(IntProgress(value=0, max=9), HTML(value='')))"
      ]
     },
     "metadata": {},
     "output_type": "display_data"
    },
    {
     "name": "stdout",
     "output_type": "stream",
     "text": [
      "E:\\MestradoData\\preprocessed\\all\\04\\22*ir1* 30\n",
      "E:\\MestradoData\\preprocessed\\all\\04\\36*ir1* 0\n",
      "E:\\MestradoData\\preprocessed\\all\\04\\33*ir1* 30\n",
      "E:\\MestradoData\\preprocessed\\all\\04\\19*ir1* 30\n",
      "E:\\MestradoData\\preprocessed\\all\\04\\27*ir1* 30\n",
      "E:\\MestradoData\\preprocessed\\all\\04\\16*ir1* 30\n",
      "E:\\MestradoData\\preprocessed\\all\\04\\25*ir1* 30\n",
      "E:\\MestradoData\\preprocessed\\all\\04\\40*ir1* 30\n",
      "E:\\MestradoData\\preprocessed\\all\\04\\07*ir1* 30\n",
      "\n",
      "folders created !\n"
     ]
    },
    {
     "data": {
      "application/vnd.jupyter.widget-view+json": {
       "model_id": "2cc2cfb6907d4c3faaf0be707fa75e7f",
       "version_major": 2,
       "version_minor": 0
      },
      "text/html": [
       "<p>Failed to display Jupyter Widget of type <code>HBox</code>.</p>\n",
       "<p>\n",
       "  If you're reading this message in the Jupyter Notebook or JupyterLab Notebook, it may mean\n",
       "  that the widgets JavaScript is still loading. If this message persists, it\n",
       "  likely means that the widgets JavaScript library is either not installed or\n",
       "  not enabled. See the <a href=\"https://ipywidgets.readthedocs.io/en/stable/user_install.html\">Jupyter\n",
       "  Widgets Documentation</a> for setup instructions.\n",
       "</p>\n",
       "<p>\n",
       "  If you're reading this message in another frontend (for example, a static\n",
       "  rendering on GitHub or <a href=\"https://nbviewer.jupyter.org/\">NBViewer</a>),\n",
       "  it may mean that your frontend doesn't currently support widgets.\n",
       "</p>\n"
      ],
      "text/plain": [
       "HBox(children=(IntProgress(value=0, max=36), HTML(value='')))"
      ]
     },
     "metadata": {},
     "output_type": "display_data"
    },
    {
     "name": "stdout",
     "output_type": "stream",
     "text": [
      "E:\\MestradoData\\preprocessed\\all\\05\\23*ir1* 30\n",
      "E:\\MestradoData\\preprocessed\\all\\05\\04*ir1* 30\n",
      "E:\\MestradoData\\preprocessed\\all\\05\\38*ir1* 0\n",
      "E:\\MestradoData\\preprocessed\\all\\05\\42*ir1* 30\n",
      "E:\\MestradoData\\preprocessed\\all\\05\\17*ir1* 30\n",
      "E:\\MestradoData\\preprocessed\\all\\05\\35*ir1* 30\n",
      "E:\\MestradoData\\preprocessed\\all\\05\\29*ir1* 30\n",
      "E:\\MestradoData\\preprocessed\\all\\05\\06*ir1* 30\n",
      "E:\\MestradoData\\preprocessed\\all\\05\\15*ir1* 30\n",
      "E:\\MestradoData\\preprocessed\\all\\05\\09*ir1* 30\n",
      "E:\\MestradoData\\preprocessed\\all\\05\\10*ir1* 30\n",
      "E:\\MestradoData\\preprocessed\\all\\05\\26*ir1* 30\n",
      "E:\\MestradoData\\preprocessed\\all\\05\\13*ir1* 30\n",
      "E:\\MestradoData\\preprocessed\\all\\05\\43*ir1* 30\n",
      "E:\\MestradoData\\preprocessed\\all\\05\\20*ir1* 30\n",
      "E:\\MestradoData\\preprocessed\\all\\05\\05*ir1* 30\n",
      "E:\\MestradoData\\preprocessed\\all\\05\\39*ir1* 0\n",
      "E:\\MestradoData\\preprocessed\\all\\05\\02*ir1* 30\n",
      "E:\\MestradoData\\preprocessed\\all\\05\\12*ir1* 30\n",
      "E:\\MestradoData\\preprocessed\\all\\05\\24*ir1* 30\n",
      "E:\\MestradoData\\preprocessed\\all\\05\\08*ir1* 30\n",
      "E:\\MestradoData\\preprocessed\\all\\05\\34*ir1* 27\n",
      "E:\\MestradoData\\preprocessed\\all\\05\\21*ir1* 30\n",
      "E:\\MestradoData\\preprocessed\\all\\05\\41*ir1* 30\n",
      "E:\\MestradoData\\preprocessed\\all\\05\\44*ir1* 30\n",
      "E:\\MestradoData\\preprocessed\\all\\05\\11*ir1* 30\n",
      "E:\\MestradoData\\preprocessed\\all\\05\\18*ir1* 30\n",
      "E:\\MestradoData\\preprocessed\\all\\05\\32*ir1* 30\n",
      "E:\\MestradoData\\preprocessed\\all\\05\\30*ir1* 30\n",
      "E:\\MestradoData\\preprocessed\\all\\05\\14*ir1* 30\n",
      "E:\\MestradoData\\preprocessed\\all\\05\\01*ir1* 30\n",
      "E:\\MestradoData\\preprocessed\\all\\05\\45*ir1* 30\n",
      "E:\\MestradoData\\preprocessed\\all\\05\\31*ir1* 30\n",
      "E:\\MestradoData\\preprocessed\\all\\05\\28*ir1* 30\n",
      "E:\\MestradoData\\preprocessed\\all\\05\\03*ir1* 30\n",
      "E:\\MestradoData\\preprocessed\\all\\05\\37*ir1* 0\n",
      "\n"
     ]
    },
    {
     "data": {
      "application/vnd.jupyter.widget-view+json": {
       "model_id": "f32641f05e4345c89430f6e233dc93c6",
       "version_major": 2,
       "version_minor": 0
      },
      "text/html": [
       "<p>Failed to display Jupyter Widget of type <code>HBox</code>.</p>\n",
       "<p>\n",
       "  If you're reading this message in the Jupyter Notebook or JupyterLab Notebook, it may mean\n",
       "  that the widgets JavaScript is still loading. If this message persists, it\n",
       "  likely means that the widgets JavaScript library is either not installed or\n",
       "  not enabled. See the <a href=\"https://ipywidgets.readthedocs.io/en/stable/user_install.html\">Jupyter\n",
       "  Widgets Documentation</a> for setup instructions.\n",
       "</p>\n",
       "<p>\n",
       "  If you're reading this message in another frontend (for example, a static\n",
       "  rendering on GitHub or <a href=\"https://nbviewer.jupyter.org/\">NBViewer</a>),\n",
       "  it may mean that your frontend doesn't currently support widgets.\n",
       "</p>\n"
      ],
      "text/plain": [
       "HBox(children=(IntProgress(value=0, max=9), HTML(value='')))"
      ]
     },
     "metadata": {},
     "output_type": "display_data"
    },
    {
     "name": "stdout",
     "output_type": "stream",
     "text": [
      "E:\\MestradoData\\preprocessed\\all\\05\\22*ir1* 23\n",
      "E:\\MestradoData\\preprocessed\\all\\05\\36*ir1* 0\n",
      "E:\\MestradoData\\preprocessed\\all\\05\\33*ir1* 30\n",
      "E:\\MestradoData\\preprocessed\\all\\05\\19*ir1* 0\n",
      "E:\\MestradoData\\preprocessed\\all\\05\\27*ir1* 30\n",
      "E:\\MestradoData\\preprocessed\\all\\05\\16*ir1* 30\n",
      "E:\\MestradoData\\preprocessed\\all\\05\\25*ir1* 30\n",
      "E:\\MestradoData\\preprocessed\\all\\05\\40*ir1* 30\n",
      "E:\\MestradoData\\preprocessed\\all\\05\\07*ir1* 30\n",
      "\n",
      "folders created !\n"
     ]
    },
    {
     "data": {
      "application/vnd.jupyter.widget-view+json": {
       "model_id": "bcf99eaaa895434dad05ea47d5b0bf88",
       "version_major": 2,
       "version_minor": 0
      },
      "text/html": [
       "<p>Failed to display Jupyter Widget of type <code>HBox</code>.</p>\n",
       "<p>\n",
       "  If you're reading this message in the Jupyter Notebook or JupyterLab Notebook, it may mean\n",
       "  that the widgets JavaScript is still loading. If this message persists, it\n",
       "  likely means that the widgets JavaScript library is either not installed or\n",
       "  not enabled. See the <a href=\"https://ipywidgets.readthedocs.io/en/stable/user_install.html\">Jupyter\n",
       "  Widgets Documentation</a> for setup instructions.\n",
       "</p>\n",
       "<p>\n",
       "  If you're reading this message in another frontend (for example, a static\n",
       "  rendering on GitHub or <a href=\"https://nbviewer.jupyter.org/\">NBViewer</a>),\n",
       "  it may mean that your frontend doesn't currently support widgets.\n",
       "</p>\n"
      ],
      "text/plain": [
       "HBox(children=(IntProgress(value=0, max=36), HTML(value='')))"
      ]
     },
     "metadata": {},
     "output_type": "display_data"
    },
    {
     "name": "stdout",
     "output_type": "stream",
     "text": [
      "E:\\MestradoData\\preprocessed\\all\\06\\23*ir1* 30\n",
      "E:\\MestradoData\\preprocessed\\all\\06\\04*ir1* 30\n",
      "E:\\MestradoData\\preprocessed\\all\\06\\38*ir1* 0\n",
      "E:\\MestradoData\\preprocessed\\all\\06\\42*ir1* 30\n",
      "E:\\MestradoData\\preprocessed\\all\\06\\17*ir1* 30\n",
      "E:\\MestradoData\\preprocessed\\all\\06\\35*ir1* 30\n",
      "E:\\MestradoData\\preprocessed\\all\\06\\29*ir1* 30\n",
      "E:\\MestradoData\\preprocessed\\all\\06\\06*ir1* 30\n",
      "E:\\MestradoData\\preprocessed\\all\\06\\15*ir1* 30\n",
      "E:\\MestradoData\\preprocessed\\all\\06\\09*ir1* 30\n",
      "E:\\MestradoData\\preprocessed\\all\\06\\10*ir1* 30\n",
      "E:\\MestradoData\\preprocessed\\all\\06\\26*ir1* 30\n",
      "E:\\MestradoData\\preprocessed\\all\\06\\13*ir1* 30\n",
      "E:\\MestradoData\\preprocessed\\all\\06\\43*ir1* 30\n",
      "E:\\MestradoData\\preprocessed\\all\\06\\20*ir1* 30\n",
      "E:\\MestradoData\\preprocessed\\all\\06\\05*ir1* 30\n",
      "E:\\MestradoData\\preprocessed\\all\\06\\39*ir1* 0\n",
      "E:\\MestradoData\\preprocessed\\all\\06\\02*ir1* 30\n",
      "E:\\MestradoData\\preprocessed\\all\\06\\12*ir1* 30\n",
      "E:\\MestradoData\\preprocessed\\all\\06\\24*ir1* 30\n",
      "E:\\MestradoData\\preprocessed\\all\\06\\08*ir1* 30\n",
      "E:\\MestradoData\\preprocessed\\all\\06\\34*ir1* 27\n",
      "E:\\MestradoData\\preprocessed\\all\\06\\21*ir1* 30\n",
      "E:\\MestradoData\\preprocessed\\all\\06\\41*ir1* 30\n",
      "E:\\MestradoData\\preprocessed\\all\\06\\44*ir1* 30\n",
      "E:\\MestradoData\\preprocessed\\all\\06\\11*ir1* 30\n",
      "E:\\MestradoData\\preprocessed\\all\\06\\18*ir1* 30\n",
      "E:\\MestradoData\\preprocessed\\all\\06\\32*ir1* 30\n",
      "E:\\MestradoData\\preprocessed\\all\\06\\30*ir1* 30\n",
      "E:\\MestradoData\\preprocessed\\all\\06\\14*ir1* 30\n",
      "E:\\MestradoData\\preprocessed\\all\\06\\01*ir1* 30\n",
      "E:\\MestradoData\\preprocessed\\all\\06\\45*ir1* 30\n",
      "E:\\MestradoData\\preprocessed\\all\\06\\31*ir1* 30\n",
      "E:\\MestradoData\\preprocessed\\all\\06\\28*ir1* 30\n",
      "E:\\MestradoData\\preprocessed\\all\\06\\03*ir1* 30\n",
      "E:\\MestradoData\\preprocessed\\all\\06\\37*ir1* 0\n",
      "\n"
     ]
    },
    {
     "data": {
      "application/vnd.jupyter.widget-view+json": {
       "model_id": "18e3cc448ef344108d30834c191de817",
       "version_major": 2,
       "version_minor": 0
      },
      "text/html": [
       "<p>Failed to display Jupyter Widget of type <code>HBox</code>.</p>\n",
       "<p>\n",
       "  If you're reading this message in the Jupyter Notebook or JupyterLab Notebook, it may mean\n",
       "  that the widgets JavaScript is still loading. If this message persists, it\n",
       "  likely means that the widgets JavaScript library is either not installed or\n",
       "  not enabled. See the <a href=\"https://ipywidgets.readthedocs.io/en/stable/user_install.html\">Jupyter\n",
       "  Widgets Documentation</a> for setup instructions.\n",
       "</p>\n",
       "<p>\n",
       "  If you're reading this message in another frontend (for example, a static\n",
       "  rendering on GitHub or <a href=\"https://nbviewer.jupyter.org/\">NBViewer</a>),\n",
       "  it may mean that your frontend doesn't currently support widgets.\n",
       "</p>\n"
      ],
      "text/plain": [
       "HBox(children=(IntProgress(value=0, max=9), HTML(value='')))"
      ]
     },
     "metadata": {},
     "output_type": "display_data"
    },
    {
     "name": "stdout",
     "output_type": "stream",
     "text": [
      "E:\\MestradoData\\preprocessed\\all\\06\\22*ir1* 30\n",
      "E:\\MestradoData\\preprocessed\\all\\06\\36*ir1* 0\n",
      "E:\\MestradoData\\preprocessed\\all\\06\\33*ir1* 30\n",
      "E:\\MestradoData\\preprocessed\\all\\06\\19*ir1* 30\n",
      "E:\\MestradoData\\preprocessed\\all\\06\\27*ir1* 30\n",
      "E:\\MestradoData\\preprocessed\\all\\06\\16*ir1* 30\n",
      "E:\\MestradoData\\preprocessed\\all\\06\\25*ir1* 30\n",
      "E:\\MestradoData\\preprocessed\\all\\06\\40*ir1* 30\n",
      "E:\\MestradoData\\preprocessed\\all\\06\\07*ir1* 30\n",
      "\n",
      "folders created !\n"
     ]
    },
    {
     "data": {
      "application/vnd.jupyter.widget-view+json": {
       "model_id": "f408b1415a994dc98c33269a5c605bb2",
       "version_major": 2,
       "version_minor": 0
      },
      "text/html": [
       "<p>Failed to display Jupyter Widget of type <code>HBox</code>.</p>\n",
       "<p>\n",
       "  If you're reading this message in the Jupyter Notebook or JupyterLab Notebook, it may mean\n",
       "  that the widgets JavaScript is still loading. If this message persists, it\n",
       "  likely means that the widgets JavaScript library is either not installed or\n",
       "  not enabled. See the <a href=\"https://ipywidgets.readthedocs.io/en/stable/user_install.html\">Jupyter\n",
       "  Widgets Documentation</a> for setup instructions.\n",
       "</p>\n",
       "<p>\n",
       "  If you're reading this message in another frontend (for example, a static\n",
       "  rendering on GitHub or <a href=\"https://nbviewer.jupyter.org/\">NBViewer</a>),\n",
       "  it may mean that your frontend doesn't currently support widgets.\n",
       "</p>\n"
      ],
      "text/plain": [
       "HBox(children=(IntProgress(value=0, max=36), HTML(value='')))"
      ]
     },
     "metadata": {},
     "output_type": "display_data"
    },
    {
     "name": "stdout",
     "output_type": "stream",
     "text": [
      "E:\\MestradoData\\preprocessed\\all\\07\\23*ir1* 30\n",
      "E:\\MestradoData\\preprocessed\\all\\07\\04*ir1* 30\n",
      "E:\\MestradoData\\preprocessed\\all\\07\\38*ir1* 0\n",
      "E:\\MestradoData\\preprocessed\\all\\07\\42*ir1* 30\n",
      "E:\\MestradoData\\preprocessed\\all\\07\\17*ir1* 30\n",
      "E:\\MestradoData\\preprocessed\\all\\07\\35*ir1* 30\n",
      "E:\\MestradoData\\preprocessed\\all\\07\\29*ir1* 30\n",
      "E:\\MestradoData\\preprocessed\\all\\07\\06*ir1* 30\n",
      "E:\\MestradoData\\preprocessed\\all\\07\\15*ir1* 30\n",
      "E:\\MestradoData\\preprocessed\\all\\07\\09*ir1* 30\n",
      "E:\\MestradoData\\preprocessed\\all\\07\\10*ir1* 30\n",
      "E:\\MestradoData\\preprocessed\\all\\07\\26*ir1* 30\n",
      "E:\\MestradoData\\preprocessed\\all\\07\\13*ir1* 0\n",
      "E:\\MestradoData\\preprocessed\\all\\07\\43*ir1* 30\n",
      "E:\\MestradoData\\preprocessed\\all\\07\\20*ir1* 30\n",
      "E:\\MestradoData\\preprocessed\\all\\07\\05*ir1* 30\n",
      "E:\\MestradoData\\preprocessed\\all\\07\\39*ir1* 0\n",
      "E:\\MestradoData\\preprocessed\\all\\07\\02*ir1* 30\n",
      "E:\\MestradoData\\preprocessed\\all\\07\\12*ir1* 30\n",
      "E:\\MestradoData\\preprocessed\\all\\07\\24*ir1* 30\n",
      "E:\\MestradoData\\preprocessed\\all\\07\\08*ir1* 30\n",
      "E:\\MestradoData\\preprocessed\\all\\07\\34*ir1* 30\n",
      "E:\\MestradoData\\preprocessed\\all\\07\\21*ir1* 30\n",
      "E:\\MestradoData\\preprocessed\\all\\07\\41*ir1* 30\n",
      "E:\\MestradoData\\preprocessed\\all\\07\\44*ir1* 30\n",
      "E:\\MestradoData\\preprocessed\\all\\07\\11*ir1* 27\n",
      "E:\\MestradoData\\preprocessed\\all\\07\\18*ir1* 0\n",
      "E:\\MestradoData\\preprocessed\\all\\07\\32*ir1* 30\n",
      "E:\\MestradoData\\preprocessed\\all\\07\\30*ir1* 30\n",
      "E:\\MestradoData\\preprocessed\\all\\07\\14*ir1* 30\n",
      "E:\\MestradoData\\preprocessed\\all\\07\\01*ir1* 30\n",
      "E:\\MestradoData\\preprocessed\\all\\07\\45*ir1* 30\n",
      "E:\\MestradoData\\preprocessed\\all\\07\\31*ir1* 30\n",
      "E:\\MestradoData\\preprocessed\\all\\07\\28*ir1* 30\n",
      "E:\\MestradoData\\preprocessed\\all\\07\\03*ir1* 30\n",
      "E:\\MestradoData\\preprocessed\\all\\07\\37*ir1* 0\n",
      "\n"
     ]
    },
    {
     "data": {
      "application/vnd.jupyter.widget-view+json": {
       "model_id": "9b2cb83922c34b8dbe8982c0746823d6",
       "version_major": 2,
       "version_minor": 0
      },
      "text/html": [
       "<p>Failed to display Jupyter Widget of type <code>HBox</code>.</p>\n",
       "<p>\n",
       "  If you're reading this message in the Jupyter Notebook or JupyterLab Notebook, it may mean\n",
       "  that the widgets JavaScript is still loading. If this message persists, it\n",
       "  likely means that the widgets JavaScript library is either not installed or\n",
       "  not enabled. See the <a href=\"https://ipywidgets.readthedocs.io/en/stable/user_install.html\">Jupyter\n",
       "  Widgets Documentation</a> for setup instructions.\n",
       "</p>\n",
       "<p>\n",
       "  If you're reading this message in another frontend (for example, a static\n",
       "  rendering on GitHub or <a href=\"https://nbviewer.jupyter.org/\">NBViewer</a>),\n",
       "  it may mean that your frontend doesn't currently support widgets.\n",
       "</p>\n"
      ],
      "text/plain": [
       "HBox(children=(IntProgress(value=0, max=9), HTML(value='')))"
      ]
     },
     "metadata": {},
     "output_type": "display_data"
    },
    {
     "name": "stdout",
     "output_type": "stream",
     "text": [
      "E:\\MestradoData\\preprocessed\\all\\07\\22*ir1* 30\n",
      "E:\\MestradoData\\preprocessed\\all\\07\\36*ir1* 0\n",
      "E:\\MestradoData\\preprocessed\\all\\07\\33*ir1* 30\n",
      "E:\\MestradoData\\preprocessed\\all\\07\\19*ir1* 30\n",
      "E:\\MestradoData\\preprocessed\\all\\07\\27*ir1* 30\n",
      "E:\\MestradoData\\preprocessed\\all\\07\\16*ir1* 30\n",
      "E:\\MestradoData\\preprocessed\\all\\07\\25*ir1* 30\n",
      "E:\\MestradoData\\preprocessed\\all\\07\\40*ir1* 30\n",
      "E:\\MestradoData\\preprocessed\\all\\07\\07*ir1* 30\n",
      "\n",
      "folders created !\n"
     ]
    },
    {
     "data": {
      "application/vnd.jupyter.widget-view+json": {
       "model_id": "c11ea92c955b46d390f9f8c01a4873db",
       "version_major": 2,
       "version_minor": 0
      },
      "text/html": [
       "<p>Failed to display Jupyter Widget of type <code>HBox</code>.</p>\n",
       "<p>\n",
       "  If you're reading this message in the Jupyter Notebook or JupyterLab Notebook, it may mean\n",
       "  that the widgets JavaScript is still loading. If this message persists, it\n",
       "  likely means that the widgets JavaScript library is either not installed or\n",
       "  not enabled. See the <a href=\"https://ipywidgets.readthedocs.io/en/stable/user_install.html\">Jupyter\n",
       "  Widgets Documentation</a> for setup instructions.\n",
       "</p>\n",
       "<p>\n",
       "  If you're reading this message in another frontend (for example, a static\n",
       "  rendering on GitHub or <a href=\"https://nbviewer.jupyter.org/\">NBViewer</a>),\n",
       "  it may mean that your frontend doesn't currently support widgets.\n",
       "</p>\n"
      ],
      "text/plain": [
       "HBox(children=(IntProgress(value=0, max=36), HTML(value='')))"
      ]
     },
     "metadata": {},
     "output_type": "display_data"
    },
    {
     "name": "stdout",
     "output_type": "stream",
     "text": [
      "E:\\MestradoData\\preprocessed\\all\\08\\23*ir1* 30\n",
      "E:\\MestradoData\\preprocessed\\all\\08\\04*ir1* 30\n",
      "E:\\MestradoData\\preprocessed\\all\\08\\38*ir1* 0\n",
      "E:\\MestradoData\\preprocessed\\all\\08\\42*ir1* 30\n",
      "E:\\MestradoData\\preprocessed\\all\\08\\17*ir1* 30\n",
      "E:\\MestradoData\\preprocessed\\all\\08\\35*ir1* 30\n",
      "E:\\MestradoData\\preprocessed\\all\\08\\29*ir1* 30\n",
      "E:\\MestradoData\\preprocessed\\all\\08\\06*ir1* 30\n",
      "E:\\MestradoData\\preprocessed\\all\\08\\15*ir1* 30\n",
      "E:\\MestradoData\\preprocessed\\all\\08\\09*ir1* 30\n",
      "E:\\MestradoData\\preprocessed\\all\\08\\10*ir1* 30\n",
      "E:\\MestradoData\\preprocessed\\all\\08\\26*ir1* 30\n",
      "E:\\MestradoData\\preprocessed\\all\\08\\13*ir1* 0\n",
      "E:\\MestradoData\\preprocessed\\all\\08\\43*ir1* 30\n",
      "E:\\MestradoData\\preprocessed\\all\\08\\20*ir1* 30\n",
      "E:\\MestradoData\\preprocessed\\all\\08\\05*ir1* 30\n",
      "E:\\MestradoData\\preprocessed\\all\\08\\39*ir1* 0\n",
      "E:\\MestradoData\\preprocessed\\all\\08\\02*ir1* 30\n",
      "E:\\MestradoData\\preprocessed\\all\\08\\12*ir1* 30\n",
      "E:\\MestradoData\\preprocessed\\all\\08\\24*ir1* 30\n",
      "E:\\MestradoData\\preprocessed\\all\\08\\08*ir1* 30\n",
      "E:\\MestradoData\\preprocessed\\all\\08\\34*ir1* 30\n",
      "E:\\MestradoData\\preprocessed\\all\\08\\21*ir1* 30\n",
      "E:\\MestradoData\\preprocessed\\all\\08\\41*ir1* 30\n",
      "E:\\MestradoData\\preprocessed\\all\\08\\44*ir1* 30\n",
      "E:\\MestradoData\\preprocessed\\all\\08\\11*ir1* 27\n",
      "E:\\MestradoData\\preprocessed\\all\\08\\18*ir1* 0\n",
      "E:\\MestradoData\\preprocessed\\all\\08\\32*ir1* 30\n",
      "E:\\MestradoData\\preprocessed\\all\\08\\30*ir1* 30\n",
      "E:\\MestradoData\\preprocessed\\all\\08\\14*ir1* 30\n",
      "E:\\MestradoData\\preprocessed\\all\\08\\01*ir1* 30\n",
      "E:\\MestradoData\\preprocessed\\all\\08\\45*ir1* 30\n",
      "E:\\MestradoData\\preprocessed\\all\\08\\31*ir1* 30\n",
      "E:\\MestradoData\\preprocessed\\all\\08\\28*ir1* 30\n",
      "E:\\MestradoData\\preprocessed\\all\\08\\03*ir1* 30\n",
      "E:\\MestradoData\\preprocessed\\all\\08\\37*ir1* 0\n",
      "\n"
     ]
    },
    {
     "data": {
      "application/vnd.jupyter.widget-view+json": {
       "model_id": "3cca6c0db5c74791ac8701af60ac1b75",
       "version_major": 2,
       "version_minor": 0
      },
      "text/html": [
       "<p>Failed to display Jupyter Widget of type <code>HBox</code>.</p>\n",
       "<p>\n",
       "  If you're reading this message in the Jupyter Notebook or JupyterLab Notebook, it may mean\n",
       "  that the widgets JavaScript is still loading. If this message persists, it\n",
       "  likely means that the widgets JavaScript library is either not installed or\n",
       "  not enabled. See the <a href=\"https://ipywidgets.readthedocs.io/en/stable/user_install.html\">Jupyter\n",
       "  Widgets Documentation</a> for setup instructions.\n",
       "</p>\n",
       "<p>\n",
       "  If you're reading this message in another frontend (for example, a static\n",
       "  rendering on GitHub or <a href=\"https://nbviewer.jupyter.org/\">NBViewer</a>),\n",
       "  it may mean that your frontend doesn't currently support widgets.\n",
       "</p>\n"
      ],
      "text/plain": [
       "HBox(children=(IntProgress(value=0, max=9), HTML(value='')))"
      ]
     },
     "metadata": {},
     "output_type": "display_data"
    },
    {
     "name": "stdout",
     "output_type": "stream",
     "text": [
      "E:\\MestradoData\\preprocessed\\all\\08\\22*ir1* 30\n",
      "E:\\MestradoData\\preprocessed\\all\\08\\36*ir1* 0\n",
      "E:\\MestradoData\\preprocessed\\all\\08\\33*ir1* 30\n",
      "E:\\MestradoData\\preprocessed\\all\\08\\19*ir1* 30\n",
      "E:\\MestradoData\\preprocessed\\all\\08\\27*ir1* 30\n",
      "E:\\MestradoData\\preprocessed\\all\\08\\16*ir1* 30\n",
      "E:\\MestradoData\\preprocessed\\all\\08\\25*ir1* 30\n",
      "E:\\MestradoData\\preprocessed\\all\\08\\40*ir1* 30\n",
      "E:\\MestradoData\\preprocessed\\all\\08\\07*ir1* 30\n",
      "\n",
      "folders created !\n"
     ]
    },
    {
     "data": {
      "application/vnd.jupyter.widget-view+json": {
       "model_id": "dc5a28ed45c54edb9fd926fecd46e2ed",
       "version_major": 2,
       "version_minor": 0
      },
      "text/html": [
       "<p>Failed to display Jupyter Widget of type <code>HBox</code>.</p>\n",
       "<p>\n",
       "  If you're reading this message in the Jupyter Notebook or JupyterLab Notebook, it may mean\n",
       "  that the widgets JavaScript is still loading. If this message persists, it\n",
       "  likely means that the widgets JavaScript library is either not installed or\n",
       "  not enabled. See the <a href=\"https://ipywidgets.readthedocs.io/en/stable/user_install.html\">Jupyter\n",
       "  Widgets Documentation</a> for setup instructions.\n",
       "</p>\n",
       "<p>\n",
       "  If you're reading this message in another frontend (for example, a static\n",
       "  rendering on GitHub or <a href=\"https://nbviewer.jupyter.org/\">NBViewer</a>),\n",
       "  it may mean that your frontend doesn't currently support widgets.\n",
       "</p>\n"
      ],
      "text/plain": [
       "HBox(children=(IntProgress(value=0, max=36), HTML(value='')))"
      ]
     },
     "metadata": {},
     "output_type": "display_data"
    },
    {
     "name": "stdout",
     "output_type": "stream",
     "text": [
      "E:\\MestradoData\\preprocessed\\all\\09\\23*ir1* 30\n",
      "E:\\MestradoData\\preprocessed\\all\\09\\04*ir1* 30\n",
      "E:\\MestradoData\\preprocessed\\all\\09\\38*ir1* 0\n",
      "E:\\MestradoData\\preprocessed\\all\\09\\42*ir1* 30\n",
      "E:\\MestradoData\\preprocessed\\all\\09\\17*ir1* 30\n",
      "E:\\MestradoData\\preprocessed\\all\\09\\35*ir1* 30\n",
      "E:\\MestradoData\\preprocessed\\all\\09\\29*ir1* 30\n",
      "E:\\MestradoData\\preprocessed\\all\\09\\06*ir1* 30\n",
      "E:\\MestradoData\\preprocessed\\all\\09\\15*ir1* 30\n",
      "E:\\MestradoData\\preprocessed\\all\\09\\09*ir1* 30\n",
      "E:\\MestradoData\\preprocessed\\all\\09\\10*ir1* 30\n",
      "E:\\MestradoData\\preprocessed\\all\\09\\26*ir1* 30\n",
      "E:\\MestradoData\\preprocessed\\all\\09\\13*ir1* 0\n",
      "E:\\MestradoData\\preprocessed\\all\\09\\43*ir1* 30\n",
      "E:\\MestradoData\\preprocessed\\all\\09\\20*ir1* 30\n",
      "E:\\MestradoData\\preprocessed\\all\\09\\05*ir1* 30\n",
      "E:\\MestradoData\\preprocessed\\all\\09\\39*ir1* 0\n",
      "E:\\MestradoData\\preprocessed\\all\\09\\02*ir1* 30\n",
      "E:\\MestradoData\\preprocessed\\all\\09\\12*ir1* 30\n",
      "E:\\MestradoData\\preprocessed\\all\\09\\24*ir1* 30\n",
      "E:\\MestradoData\\preprocessed\\all\\09\\08*ir1* 30\n",
      "E:\\MestradoData\\preprocessed\\all\\09\\34*ir1* 30\n",
      "E:\\MestradoData\\preprocessed\\all\\09\\21*ir1* 30\n",
      "E:\\MestradoData\\preprocessed\\all\\09\\41*ir1* 30\n",
      "E:\\MestradoData\\preprocessed\\all\\09\\44*ir1* 30\n",
      "E:\\MestradoData\\preprocessed\\all\\09\\11*ir1* 27\n",
      "E:\\MestradoData\\preprocessed\\all\\09\\18*ir1* 0\n",
      "E:\\MestradoData\\preprocessed\\all\\09\\32*ir1* 30\n",
      "E:\\MestradoData\\preprocessed\\all\\09\\30*ir1* 30\n",
      "E:\\MestradoData\\preprocessed\\all\\09\\14*ir1* 30\n",
      "E:\\MestradoData\\preprocessed\\all\\09\\01*ir1* 30\n",
      "E:\\MestradoData\\preprocessed\\all\\09\\45*ir1* 30\n",
      "E:\\MestradoData\\preprocessed\\all\\09\\31*ir1* 30\n",
      "E:\\MestradoData\\preprocessed\\all\\09\\28*ir1* 30\n",
      "E:\\MestradoData\\preprocessed\\all\\09\\03*ir1* 30\n",
      "E:\\MestradoData\\preprocessed\\all\\09\\37*ir1* 0\n",
      "\n"
     ]
    },
    {
     "data": {
      "application/vnd.jupyter.widget-view+json": {
       "model_id": "cada695950664adeabf76bdd301a51dc",
       "version_major": 2,
       "version_minor": 0
      },
      "text/html": [
       "<p>Failed to display Jupyter Widget of type <code>HBox</code>.</p>\n",
       "<p>\n",
       "  If you're reading this message in the Jupyter Notebook or JupyterLab Notebook, it may mean\n",
       "  that the widgets JavaScript is still loading. If this message persists, it\n",
       "  likely means that the widgets JavaScript library is either not installed or\n",
       "  not enabled. See the <a href=\"https://ipywidgets.readthedocs.io/en/stable/user_install.html\">Jupyter\n",
       "  Widgets Documentation</a> for setup instructions.\n",
       "</p>\n",
       "<p>\n",
       "  If you're reading this message in another frontend (for example, a static\n",
       "  rendering on GitHub or <a href=\"https://nbviewer.jupyter.org/\">NBViewer</a>),\n",
       "  it may mean that your frontend doesn't currently support widgets.\n",
       "</p>\n"
      ],
      "text/plain": [
       "HBox(children=(IntProgress(value=0, max=9), HTML(value='')))"
      ]
     },
     "metadata": {},
     "output_type": "display_data"
    },
    {
     "name": "stdout",
     "output_type": "stream",
     "text": [
      "E:\\MestradoData\\preprocessed\\all\\09\\22*ir1* 30\n",
      "E:\\MestradoData\\preprocessed\\all\\09\\36*ir1* 0\n",
      "E:\\MestradoData\\preprocessed\\all\\09\\33*ir1* 30\n",
      "E:\\MestradoData\\preprocessed\\all\\09\\19*ir1* 30\n",
      "E:\\MestradoData\\preprocessed\\all\\09\\27*ir1* 30\n",
      "E:\\MestradoData\\preprocessed\\all\\09\\16*ir1* 30\n",
      "E:\\MestradoData\\preprocessed\\all\\09\\25*ir1* 30\n",
      "E:\\MestradoData\\preprocessed\\all\\09\\40*ir1* 30\n",
      "E:\\MestradoData\\preprocessed\\all\\09\\07*ir1* 30\n",
      "\n",
      "folders created !\n"
     ]
    },
    {
     "data": {
      "application/vnd.jupyter.widget-view+json": {
       "model_id": "ecf80a45bae04dad8759fcf21c6b9984",
       "version_major": 2,
       "version_minor": 0
      },
      "text/html": [
       "<p>Failed to display Jupyter Widget of type <code>HBox</code>.</p>\n",
       "<p>\n",
       "  If you're reading this message in the Jupyter Notebook or JupyterLab Notebook, it may mean\n",
       "  that the widgets JavaScript is still loading. If this message persists, it\n",
       "  likely means that the widgets JavaScript library is either not installed or\n",
       "  not enabled. See the <a href=\"https://ipywidgets.readthedocs.io/en/stable/user_install.html\">Jupyter\n",
       "  Widgets Documentation</a> for setup instructions.\n",
       "</p>\n",
       "<p>\n",
       "  If you're reading this message in another frontend (for example, a static\n",
       "  rendering on GitHub or <a href=\"https://nbviewer.jupyter.org/\">NBViewer</a>),\n",
       "  it may mean that your frontend doesn't currently support widgets.\n",
       "</p>\n"
      ],
      "text/plain": [
       "HBox(children=(IntProgress(value=0, max=36), HTML(value='')))"
      ]
     },
     "metadata": {},
     "output_type": "display_data"
    },
    {
     "name": "stdout",
     "output_type": "stream",
     "text": [
      "E:\\MestradoData\\preprocessed\\all\\10\\23*ir1* 30\n",
      "E:\\MestradoData\\preprocessed\\all\\10\\04*ir1* 30\n",
      "E:\\MestradoData\\preprocessed\\all\\10\\38*ir1* 0\n",
      "E:\\MestradoData\\preprocessed\\all\\10\\42*ir1* 30\n",
      "E:\\MestradoData\\preprocessed\\all\\10\\17*ir1* 30\n",
      "E:\\MestradoData\\preprocessed\\all\\10\\35*ir1* 30\n",
      "E:\\MestradoData\\preprocessed\\all\\10\\29*ir1* 30\n",
      "E:\\MestradoData\\preprocessed\\all\\10\\06*ir1* 30\n",
      "E:\\MestradoData\\preprocessed\\all\\10\\15*ir1* 30\n",
      "E:\\MestradoData\\preprocessed\\all\\10\\09*ir1* 30\n",
      "E:\\MestradoData\\preprocessed\\all\\10\\10*ir1* 30\n",
      "E:\\MestradoData\\preprocessed\\all\\10\\26*ir1* 30\n",
      "E:\\MestradoData\\preprocessed\\all\\10\\13*ir1* 0\n",
      "E:\\MestradoData\\preprocessed\\all\\10\\43*ir1* 30\n",
      "E:\\MestradoData\\preprocessed\\all\\10\\20*ir1* 30\n",
      "E:\\MestradoData\\preprocessed\\all\\10\\05*ir1* 30\n",
      "E:\\MestradoData\\preprocessed\\all\\10\\39*ir1* 0\n",
      "E:\\MestradoData\\preprocessed\\all\\10\\02*ir1* 30\n",
      "E:\\MestradoData\\preprocessed\\all\\10\\12*ir1* 30\n",
      "E:\\MestradoData\\preprocessed\\all\\10\\24*ir1* 30\n",
      "E:\\MestradoData\\preprocessed\\all\\10\\08*ir1* 30\n",
      "E:\\MestradoData\\preprocessed\\all\\10\\34*ir1* 30\n",
      "E:\\MestradoData\\preprocessed\\all\\10\\21*ir1* 30\n",
      "E:\\MestradoData\\preprocessed\\all\\10\\41*ir1* 30\n",
      "E:\\MestradoData\\preprocessed\\all\\10\\44*ir1* 30\n",
      "E:\\MestradoData\\preprocessed\\all\\10\\11*ir1* 27\n",
      "E:\\MestradoData\\preprocessed\\all\\10\\18*ir1* 0\n",
      "E:\\MestradoData\\preprocessed\\all\\10\\32*ir1* 30\n",
      "E:\\MestradoData\\preprocessed\\all\\10\\30*ir1* 30\n",
      "E:\\MestradoData\\preprocessed\\all\\10\\14*ir1* 30\n",
      "E:\\MestradoData\\preprocessed\\all\\10\\01*ir1* 30\n",
      "E:\\MestradoData\\preprocessed\\all\\10\\45*ir1* 30\n",
      "E:\\MestradoData\\preprocessed\\all\\10\\31*ir1* 30\n",
      "E:\\MestradoData\\preprocessed\\all\\10\\28*ir1* 30\n",
      "E:\\MestradoData\\preprocessed\\all\\10\\03*ir1* 30\n",
      "E:\\MestradoData\\preprocessed\\all\\10\\37*ir1* 0\n",
      "\n"
     ]
    },
    {
     "data": {
      "application/vnd.jupyter.widget-view+json": {
       "model_id": "d927bf2931454d21a59a926d746e6448",
       "version_major": 2,
       "version_minor": 0
      },
      "text/html": [
       "<p>Failed to display Jupyter Widget of type <code>HBox</code>.</p>\n",
       "<p>\n",
       "  If you're reading this message in the Jupyter Notebook or JupyterLab Notebook, it may mean\n",
       "  that the widgets JavaScript is still loading. If this message persists, it\n",
       "  likely means that the widgets JavaScript library is either not installed or\n",
       "  not enabled. See the <a href=\"https://ipywidgets.readthedocs.io/en/stable/user_install.html\">Jupyter\n",
       "  Widgets Documentation</a> for setup instructions.\n",
       "</p>\n",
       "<p>\n",
       "  If you're reading this message in another frontend (for example, a static\n",
       "  rendering on GitHub or <a href=\"https://nbviewer.jupyter.org/\">NBViewer</a>),\n",
       "  it may mean that your frontend doesn't currently support widgets.\n",
       "</p>\n"
      ],
      "text/plain": [
       "HBox(children=(IntProgress(value=0, max=9), HTML(value='')))"
      ]
     },
     "metadata": {},
     "output_type": "display_data"
    },
    {
     "name": "stdout",
     "output_type": "stream",
     "text": [
      "E:\\MestradoData\\preprocessed\\all\\10\\22*ir1* 30\n",
      "E:\\MestradoData\\preprocessed\\all\\10\\36*ir1* 0\n",
      "E:\\MestradoData\\preprocessed\\all\\10\\33*ir1* 30\n",
      "E:\\MestradoData\\preprocessed\\all\\10\\19*ir1* 30\n",
      "E:\\MestradoData\\preprocessed\\all\\10\\27*ir1* 30\n",
      "E:\\MestradoData\\preprocessed\\all\\10\\16*ir1* 30\n",
      "E:\\MestradoData\\preprocessed\\all\\10\\25*ir1* 30\n",
      "E:\\MestradoData\\preprocessed\\all\\10\\40*ir1* 30\n",
      "E:\\MestradoData\\preprocessed\\all\\10\\07*ir1* 30\n",
      "\n",
      "folders created !\n"
     ]
    },
    {
     "data": {
      "application/vnd.jupyter.widget-view+json": {
       "model_id": "1af0fc8f9f874ad0a52134e07152c943",
       "version_major": 2,
       "version_minor": 0
      },
      "text/html": [
       "<p>Failed to display Jupyter Widget of type <code>HBox</code>.</p>\n",
       "<p>\n",
       "  If you're reading this message in the Jupyter Notebook or JupyterLab Notebook, it may mean\n",
       "  that the widgets JavaScript is still loading. If this message persists, it\n",
       "  likely means that the widgets JavaScript library is either not installed or\n",
       "  not enabled. See the <a href=\"https://ipywidgets.readthedocs.io/en/stable/user_install.html\">Jupyter\n",
       "  Widgets Documentation</a> for setup instructions.\n",
       "</p>\n",
       "<p>\n",
       "  If you're reading this message in another frontend (for example, a static\n",
       "  rendering on GitHub or <a href=\"https://nbviewer.jupyter.org/\">NBViewer</a>),\n",
       "  it may mean that your frontend doesn't currently support widgets.\n",
       "</p>\n"
      ],
      "text/plain": [
       "HBox(children=(IntProgress(value=0, max=36), HTML(value='')))"
      ]
     },
     "metadata": {},
     "output_type": "display_data"
    },
    {
     "name": "stdout",
     "output_type": "stream",
     "text": [
      "E:\\MestradoData\\preprocessed\\all\\11\\23*ir1* 30\n",
      "E:\\MestradoData\\preprocessed\\all\\11\\04*ir1* 30\n",
      "E:\\MestradoData\\preprocessed\\all\\11\\38*ir1* 0\n",
      "E:\\MestradoData\\preprocessed\\all\\11\\42*ir1* 30\n",
      "E:\\MestradoData\\preprocessed\\all\\11\\17*ir1* 30\n",
      "E:\\MestradoData\\preprocessed\\all\\11\\35*ir1* 30\n",
      "E:\\MestradoData\\preprocessed\\all\\11\\29*ir1* 30\n",
      "E:\\MestradoData\\preprocessed\\all\\11\\06*ir1* 30\n",
      "E:\\MestradoData\\preprocessed\\all\\11\\15*ir1* 30\n",
      "E:\\MestradoData\\preprocessed\\all\\11\\09*ir1* 30\n",
      "E:\\MestradoData\\preprocessed\\all\\11\\10*ir1* 30\n",
      "E:\\MestradoData\\preprocessed\\all\\11\\26*ir1* 30\n",
      "E:\\MestradoData\\preprocessed\\all\\11\\13*ir1* 0\n",
      "E:\\MestradoData\\preprocessed\\all\\11\\43*ir1* 30\n",
      "E:\\MestradoData\\preprocessed\\all\\11\\20*ir1* 30\n",
      "E:\\MestradoData\\preprocessed\\all\\11\\05*ir1* 30\n",
      "E:\\MestradoData\\preprocessed\\all\\11\\39*ir1* 0\n",
      "E:\\MestradoData\\preprocessed\\all\\11\\02*ir1* 30\n",
      "E:\\MestradoData\\preprocessed\\all\\11\\12*ir1* 30\n",
      "E:\\MestradoData\\preprocessed\\all\\11\\24*ir1* 30\n",
      "E:\\MestradoData\\preprocessed\\all\\11\\08*ir1* 30\n",
      "E:\\MestradoData\\preprocessed\\all\\11\\34*ir1* 30\n",
      "E:\\MestradoData\\preprocessed\\all\\11\\21*ir1* 30\n",
      "E:\\MestradoData\\preprocessed\\all\\11\\41*ir1* 30\n",
      "E:\\MestradoData\\preprocessed\\all\\11\\44*ir1* 30\n",
      "E:\\MestradoData\\preprocessed\\all\\11\\11*ir1* 27\n",
      "E:\\MestradoData\\preprocessed\\all\\11\\18*ir1* 0\n",
      "E:\\MestradoData\\preprocessed\\all\\11\\32*ir1* 30\n",
      "E:\\MestradoData\\preprocessed\\all\\11\\30*ir1* 30\n",
      "E:\\MestradoData\\preprocessed\\all\\11\\14*ir1* 30\n",
      "E:\\MestradoData\\preprocessed\\all\\11\\01*ir1* 30\n",
      "E:\\MestradoData\\preprocessed\\all\\11\\45*ir1* 30\n",
      "E:\\MestradoData\\preprocessed\\all\\11\\31*ir1* 30\n",
      "E:\\MestradoData\\preprocessed\\all\\11\\28*ir1* 30\n",
      "E:\\MestradoData\\preprocessed\\all\\11\\03*ir1* 30\n",
      "E:\\MestradoData\\preprocessed\\all\\11\\37*ir1* 0\n",
      "\n"
     ]
    },
    {
     "data": {
      "application/vnd.jupyter.widget-view+json": {
       "model_id": "214ae721fdaf4013bba062d829c27049",
       "version_major": 2,
       "version_minor": 0
      },
      "text/html": [
       "<p>Failed to display Jupyter Widget of type <code>HBox</code>.</p>\n",
       "<p>\n",
       "  If you're reading this message in the Jupyter Notebook or JupyterLab Notebook, it may mean\n",
       "  that the widgets JavaScript is still loading. If this message persists, it\n",
       "  likely means that the widgets JavaScript library is either not installed or\n",
       "  not enabled. See the <a href=\"https://ipywidgets.readthedocs.io/en/stable/user_install.html\">Jupyter\n",
       "  Widgets Documentation</a> for setup instructions.\n",
       "</p>\n",
       "<p>\n",
       "  If you're reading this message in another frontend (for example, a static\n",
       "  rendering on GitHub or <a href=\"https://nbviewer.jupyter.org/\">NBViewer</a>),\n",
       "  it may mean that your frontend doesn't currently support widgets.\n",
       "</p>\n"
      ],
      "text/plain": [
       "HBox(children=(IntProgress(value=0, max=9), HTML(value='')))"
      ]
     },
     "metadata": {},
     "output_type": "display_data"
    },
    {
     "name": "stdout",
     "output_type": "stream",
     "text": [
      "E:\\MestradoData\\preprocessed\\all\\11\\22*ir1* 30\n",
      "E:\\MestradoData\\preprocessed\\all\\11\\36*ir1* 0\n",
      "E:\\MestradoData\\preprocessed\\all\\11\\33*ir1* 30\n",
      "E:\\MestradoData\\preprocessed\\all\\11\\19*ir1* 30\n",
      "E:\\MestradoData\\preprocessed\\all\\11\\27*ir1* 30\n",
      "E:\\MestradoData\\preprocessed\\all\\11\\16*ir1* 30\n",
      "E:\\MestradoData\\preprocessed\\all\\11\\25*ir1* 30\n",
      "E:\\MestradoData\\preprocessed\\all\\11\\40*ir1* 30\n",
      "E:\\MestradoData\\preprocessed\\all\\11\\07*ir1* 30\n",
      "\n",
      "folders created !\n"
     ]
    },
    {
     "data": {
      "application/vnd.jupyter.widget-view+json": {
       "model_id": "abfda0f765c4407ebddbf8d0c63a3d7f",
       "version_major": 2,
       "version_minor": 0
      },
      "text/html": [
       "<p>Failed to display Jupyter Widget of type <code>HBox</code>.</p>\n",
       "<p>\n",
       "  If you're reading this message in the Jupyter Notebook or JupyterLab Notebook, it may mean\n",
       "  that the widgets JavaScript is still loading. If this message persists, it\n",
       "  likely means that the widgets JavaScript library is either not installed or\n",
       "  not enabled. See the <a href=\"https://ipywidgets.readthedocs.io/en/stable/user_install.html\">Jupyter\n",
       "  Widgets Documentation</a> for setup instructions.\n",
       "</p>\n",
       "<p>\n",
       "  If you're reading this message in another frontend (for example, a static\n",
       "  rendering on GitHub or <a href=\"https://nbviewer.jupyter.org/\">NBViewer</a>),\n",
       "  it may mean that your frontend doesn't currently support widgets.\n",
       "</p>\n"
      ],
      "text/plain": [
       "HBox(children=(IntProgress(value=0, max=36), HTML(value='')))"
      ]
     },
     "metadata": {},
     "output_type": "display_data"
    },
    {
     "name": "stdout",
     "output_type": "stream",
     "text": [
      "E:\\MestradoData\\preprocessed\\all\\12\\23*ir1* 30\n",
      "E:\\MestradoData\\preprocessed\\all\\12\\04*ir1* 30\n",
      "E:\\MestradoData\\preprocessed\\all\\12\\38*ir1* 0\n",
      "E:\\MestradoData\\preprocessed\\all\\12\\42*ir1* 30\n",
      "E:\\MestradoData\\preprocessed\\all\\12\\17*ir1* 30\n",
      "E:\\MestradoData\\preprocessed\\all\\12\\35*ir1* 30\n",
      "E:\\MestradoData\\preprocessed\\all\\12\\29*ir1* 30\n",
      "E:\\MestradoData\\preprocessed\\all\\12\\06*ir1* 30\n",
      "E:\\MestradoData\\preprocessed\\all\\12\\15*ir1* 30\n",
      "E:\\MestradoData\\preprocessed\\all\\12\\09*ir1* 30\n",
      "E:\\MestradoData\\preprocessed\\all\\12\\10*ir1* 30\n",
      "E:\\MestradoData\\preprocessed\\all\\12\\26*ir1* 30\n",
      "E:\\MestradoData\\preprocessed\\all\\12\\13*ir1* 0\n",
      "E:\\MestradoData\\preprocessed\\all\\12\\43*ir1* 30\n",
      "E:\\MestradoData\\preprocessed\\all\\12\\20*ir1* 30\n",
      "E:\\MestradoData\\preprocessed\\all\\12\\05*ir1* 30\n",
      "E:\\MestradoData\\preprocessed\\all\\12\\39*ir1* 0\n",
      "E:\\MestradoData\\preprocessed\\all\\12\\02*ir1* 30\n",
      "E:\\MestradoData\\preprocessed\\all\\12\\12*ir1* 30\n",
      "E:\\MestradoData\\preprocessed\\all\\12\\24*ir1* 30\n",
      "E:\\MestradoData\\preprocessed\\all\\12\\08*ir1* 30\n",
      "E:\\MestradoData\\preprocessed\\all\\12\\34*ir1* 30\n",
      "E:\\MestradoData\\preprocessed\\all\\12\\21*ir1* 30\n",
      "E:\\MestradoData\\preprocessed\\all\\12\\41*ir1* 30\n",
      "E:\\MestradoData\\preprocessed\\all\\12\\44*ir1* 30\n",
      "E:\\MestradoData\\preprocessed\\all\\12\\11*ir1* 27\n",
      "E:\\MestradoData\\preprocessed\\all\\12\\18*ir1* 0\n",
      "E:\\MestradoData\\preprocessed\\all\\12\\32*ir1* 30\n",
      "E:\\MestradoData\\preprocessed\\all\\12\\30*ir1* 30\n",
      "E:\\MestradoData\\preprocessed\\all\\12\\14*ir1* 30\n",
      "E:\\MestradoData\\preprocessed\\all\\12\\01*ir1* 30\n",
      "E:\\MestradoData\\preprocessed\\all\\12\\45*ir1* 30\n",
      "E:\\MestradoData\\preprocessed\\all\\12\\31*ir1* 30\n",
      "E:\\MestradoData\\preprocessed\\all\\12\\28*ir1* 30\n",
      "E:\\MestradoData\\preprocessed\\all\\12\\03*ir1* 30\n",
      "E:\\MestradoData\\preprocessed\\all\\12\\37*ir1* 0\n",
      "\n"
     ]
    },
    {
     "data": {
      "application/vnd.jupyter.widget-view+json": {
       "model_id": "a90d764bf2734c27a0ef66da531e29ba",
       "version_major": 2,
       "version_minor": 0
      },
      "text/html": [
       "<p>Failed to display Jupyter Widget of type <code>HBox</code>.</p>\n",
       "<p>\n",
       "  If you're reading this message in the Jupyter Notebook or JupyterLab Notebook, it may mean\n",
       "  that the widgets JavaScript is still loading. If this message persists, it\n",
       "  likely means that the widgets JavaScript library is either not installed or\n",
       "  not enabled. See the <a href=\"https://ipywidgets.readthedocs.io/en/stable/user_install.html\">Jupyter\n",
       "  Widgets Documentation</a> for setup instructions.\n",
       "</p>\n",
       "<p>\n",
       "  If you're reading this message in another frontend (for example, a static\n",
       "  rendering on GitHub or <a href=\"https://nbviewer.jupyter.org/\">NBViewer</a>),\n",
       "  it may mean that your frontend doesn't currently support widgets.\n",
       "</p>\n"
      ],
      "text/plain": [
       "HBox(children=(IntProgress(value=0, max=9), HTML(value='')))"
      ]
     },
     "metadata": {},
     "output_type": "display_data"
    },
    {
     "name": "stdout",
     "output_type": "stream",
     "text": [
      "E:\\MestradoData\\preprocessed\\all\\12\\22*ir1* 30\n",
      "E:\\MestradoData\\preprocessed\\all\\12\\36*ir1* 0\n",
      "E:\\MestradoData\\preprocessed\\all\\12\\33*ir1* 30\n",
      "E:\\MestradoData\\preprocessed\\all\\12\\19*ir1* 30\n",
      "E:\\MestradoData\\preprocessed\\all\\12\\27*ir1* 30\n",
      "E:\\MestradoData\\preprocessed\\all\\12\\16*ir1* 30\n",
      "E:\\MestradoData\\preprocessed\\all\\12\\25*ir1* 30\n",
      "E:\\MestradoData\\preprocessed\\all\\12\\40*ir1* 30\n",
      "E:\\MestradoData\\preprocessed\\all\\12\\07*ir1* 30\n",
      "\n",
      "folders created !\n"
     ]
    },
    {
     "data": {
      "application/vnd.jupyter.widget-view+json": {
       "model_id": "cd3d2a31d555408ea9e8c4acdd6d20e3",
       "version_major": 2,
       "version_minor": 0
      },
      "text/html": [
       "<p>Failed to display Jupyter Widget of type <code>HBox</code>.</p>\n",
       "<p>\n",
       "  If you're reading this message in the Jupyter Notebook or JupyterLab Notebook, it may mean\n",
       "  that the widgets JavaScript is still loading. If this message persists, it\n",
       "  likely means that the widgets JavaScript library is either not installed or\n",
       "  not enabled. See the <a href=\"https://ipywidgets.readthedocs.io/en/stable/user_install.html\">Jupyter\n",
       "  Widgets Documentation</a> for setup instructions.\n",
       "</p>\n",
       "<p>\n",
       "  If you're reading this message in another frontend (for example, a static\n",
       "  rendering on GitHub or <a href=\"https://nbviewer.jupyter.org/\">NBViewer</a>),\n",
       "  it may mean that your frontend doesn't currently support widgets.\n",
       "</p>\n"
      ],
      "text/plain": [
       "HBox(children=(IntProgress(value=0, max=36), HTML(value='')))"
      ]
     },
     "metadata": {},
     "output_type": "display_data"
    },
    {
     "name": "stdout",
     "output_type": "stream",
     "text": [
      "E:\\MestradoData\\preprocessed\\all\\13\\23*ir1* 30\n",
      "E:\\MestradoData\\preprocessed\\all\\13\\04*ir1* 30\n",
      "E:\\MestradoData\\preprocessed\\all\\13\\38*ir1* 0\n",
      "E:\\MestradoData\\preprocessed\\all\\13\\42*ir1* 30\n",
      "E:\\MestradoData\\preprocessed\\all\\13\\17*ir1* 30\n",
      "E:\\MestradoData\\preprocessed\\all\\13\\35*ir1* 30\n",
      "E:\\MestradoData\\preprocessed\\all\\13\\29*ir1* 30\n",
      "E:\\MestradoData\\preprocessed\\all\\13\\06*ir1* 30\n",
      "E:\\MestradoData\\preprocessed\\all\\13\\15*ir1* 30\n",
      "E:\\MestradoData\\preprocessed\\all\\13\\09*ir1* 30\n",
      "E:\\MestradoData\\preprocessed\\all\\13\\10*ir1* 30\n",
      "E:\\MestradoData\\preprocessed\\all\\13\\26*ir1* 30\n",
      "E:\\MestradoData\\preprocessed\\all\\13\\13*ir1* 0\n",
      "E:\\MestradoData\\preprocessed\\all\\13\\43*ir1* 30\n",
      "E:\\MestradoData\\preprocessed\\all\\13\\20*ir1* 30\n",
      "E:\\MestradoData\\preprocessed\\all\\13\\05*ir1* 30\n",
      "E:\\MestradoData\\preprocessed\\all\\13\\39*ir1* 0\n",
      "E:\\MestradoData\\preprocessed\\all\\13\\02*ir1* 30\n",
      "E:\\MestradoData\\preprocessed\\all\\13\\12*ir1* 30\n",
      "E:\\MestradoData\\preprocessed\\all\\13\\24*ir1* 30\n",
      "E:\\MestradoData\\preprocessed\\all\\13\\08*ir1* 30\n",
      "E:\\MestradoData\\preprocessed\\all\\13\\34*ir1* 30\n",
      "E:\\MestradoData\\preprocessed\\all\\13\\21*ir1* 30\n",
      "E:\\MestradoData\\preprocessed\\all\\13\\41*ir1* 30\n",
      "E:\\MestradoData\\preprocessed\\all\\13\\44*ir1* 30\n",
      "E:\\MestradoData\\preprocessed\\all\\13\\11*ir1* 27\n",
      "E:\\MestradoData\\preprocessed\\all\\13\\18*ir1* 0\n",
      "E:\\MestradoData\\preprocessed\\all\\13\\32*ir1* 30\n",
      "E:\\MestradoData\\preprocessed\\all\\13\\30*ir1* 30\n",
      "E:\\MestradoData\\preprocessed\\all\\13\\14*ir1* 30\n",
      "E:\\MestradoData\\preprocessed\\all\\13\\01*ir1* 30\n",
      "E:\\MestradoData\\preprocessed\\all\\13\\45*ir1* 30\n",
      "E:\\MestradoData\\preprocessed\\all\\13\\31*ir1* 30\n",
      "E:\\MestradoData\\preprocessed\\all\\13\\28*ir1* 30\n",
      "E:\\MestradoData\\preprocessed\\all\\13\\03*ir1* 30\n",
      "E:\\MestradoData\\preprocessed\\all\\13\\37*ir1* 0\n",
      "\n"
     ]
    },
    {
     "data": {
      "application/vnd.jupyter.widget-view+json": {
       "model_id": "1e1098ccf8dd427fb20730fb7e902451",
       "version_major": 2,
       "version_minor": 0
      },
      "text/html": [
       "<p>Failed to display Jupyter Widget of type <code>HBox</code>.</p>\n",
       "<p>\n",
       "  If you're reading this message in the Jupyter Notebook or JupyterLab Notebook, it may mean\n",
       "  that the widgets JavaScript is still loading. If this message persists, it\n",
       "  likely means that the widgets JavaScript library is either not installed or\n",
       "  not enabled. See the <a href=\"https://ipywidgets.readthedocs.io/en/stable/user_install.html\">Jupyter\n",
       "  Widgets Documentation</a> for setup instructions.\n",
       "</p>\n",
       "<p>\n",
       "  If you're reading this message in another frontend (for example, a static\n",
       "  rendering on GitHub or <a href=\"https://nbviewer.jupyter.org/\">NBViewer</a>),\n",
       "  it may mean that your frontend doesn't currently support widgets.\n",
       "</p>\n"
      ],
      "text/plain": [
       "HBox(children=(IntProgress(value=0, max=9), HTML(value='')))"
      ]
     },
     "metadata": {},
     "output_type": "display_data"
    },
    {
     "name": "stdout",
     "output_type": "stream",
     "text": [
      "E:\\MestradoData\\preprocessed\\all\\13\\22*ir1* 30\n",
      "E:\\MestradoData\\preprocessed\\all\\13\\36*ir1* 0\n",
      "E:\\MestradoData\\preprocessed\\all\\13\\33*ir1* 30\n",
      "E:\\MestradoData\\preprocessed\\all\\13\\19*ir1* 30\n",
      "E:\\MestradoData\\preprocessed\\all\\13\\27*ir1* 30\n",
      "E:\\MestradoData\\preprocessed\\all\\13\\16*ir1* 30\n",
      "E:\\MestradoData\\preprocessed\\all\\13\\25*ir1* 30\n",
      "E:\\MestradoData\\preprocessed\\all\\13\\40*ir1* 30\n",
      "E:\\MestradoData\\preprocessed\\all\\13\\07*ir1* 30\n",
      "\n",
      "folders created !\n"
     ]
    },
    {
     "data": {
      "application/vnd.jupyter.widget-view+json": {
       "model_id": "b0475e3adbe74f14894f72d385cfdfc6",
       "version_major": 2,
       "version_minor": 0
      },
      "text/html": [
       "<p>Failed to display Jupyter Widget of type <code>HBox</code>.</p>\n",
       "<p>\n",
       "  If you're reading this message in the Jupyter Notebook or JupyterLab Notebook, it may mean\n",
       "  that the widgets JavaScript is still loading. If this message persists, it\n",
       "  likely means that the widgets JavaScript library is either not installed or\n",
       "  not enabled. See the <a href=\"https://ipywidgets.readthedocs.io/en/stable/user_install.html\">Jupyter\n",
       "  Widgets Documentation</a> for setup instructions.\n",
       "</p>\n",
       "<p>\n",
       "  If you're reading this message in another frontend (for example, a static\n",
       "  rendering on GitHub or <a href=\"https://nbviewer.jupyter.org/\">NBViewer</a>),\n",
       "  it may mean that your frontend doesn't currently support widgets.\n",
       "</p>\n"
      ],
      "text/plain": [
       "HBox(children=(IntProgress(value=0, max=36), HTML(value='')))"
      ]
     },
     "metadata": {},
     "output_type": "display_data"
    },
    {
     "name": "stdout",
     "output_type": "stream",
     "text": [
      "E:\\MestradoData\\preprocessed\\all\\14\\23*ir1* 30\n",
      "E:\\MestradoData\\preprocessed\\all\\14\\04*ir1* 30\n",
      "E:\\MestradoData\\preprocessed\\all\\14\\38*ir1* 0\n",
      "E:\\MestradoData\\preprocessed\\all\\14\\42*ir1* 30\n",
      "E:\\MestradoData\\preprocessed\\all\\14\\17*ir1* 30\n",
      "E:\\MestradoData\\preprocessed\\all\\14\\35*ir1* 30\n",
      "E:\\MestradoData\\preprocessed\\all\\14\\29*ir1* 30\n",
      "E:\\MestradoData\\preprocessed\\all\\14\\06*ir1* 30\n",
      "E:\\MestradoData\\preprocessed\\all\\14\\15*ir1* 30\n",
      "E:\\MestradoData\\preprocessed\\all\\14\\09*ir1* 30\n",
      "E:\\MestradoData\\preprocessed\\all\\14\\10*ir1* 30\n",
      "E:\\MestradoData\\preprocessed\\all\\14\\26*ir1* 30\n",
      "E:\\MestradoData\\preprocessed\\all\\14\\13*ir1* 0\n",
      "E:\\MestradoData\\preprocessed\\all\\14\\43*ir1* 30\n",
      "E:\\MestradoData\\preprocessed\\all\\14\\20*ir1* 30\n",
      "E:\\MestradoData\\preprocessed\\all\\14\\05*ir1* 30\n",
      "E:\\MestradoData\\preprocessed\\all\\14\\39*ir1* 0\n",
      "E:\\MestradoData\\preprocessed\\all\\14\\02*ir1* 30\n",
      "E:\\MestradoData\\preprocessed\\all\\14\\12*ir1* 30\n",
      "E:\\MestradoData\\preprocessed\\all\\14\\24*ir1* 30\n",
      "E:\\MestradoData\\preprocessed\\all\\14\\08*ir1* 30\n",
      "E:\\MestradoData\\preprocessed\\all\\14\\34*ir1* 30\n",
      "E:\\MestradoData\\preprocessed\\all\\14\\21*ir1* 30\n",
      "E:\\MestradoData\\preprocessed\\all\\14\\41*ir1* 30\n",
      "E:\\MestradoData\\preprocessed\\all\\14\\44*ir1* 30\n",
      "E:\\MestradoData\\preprocessed\\all\\14\\11*ir1* 27\n",
      "E:\\MestradoData\\preprocessed\\all\\14\\18*ir1* 0\n",
      "E:\\MestradoData\\preprocessed\\all\\14\\32*ir1* 30\n",
      "E:\\MestradoData\\preprocessed\\all\\14\\30*ir1* 30\n",
      "E:\\MestradoData\\preprocessed\\all\\14\\14*ir1* 30\n",
      "E:\\MestradoData\\preprocessed\\all\\14\\01*ir1* 30\n",
      "E:\\MestradoData\\preprocessed\\all\\14\\45*ir1* 30\n",
      "E:\\MestradoData\\preprocessed\\all\\14\\31*ir1* 30\n",
      "E:\\MestradoData\\preprocessed\\all\\14\\28*ir1* 30\n",
      "E:\\MestradoData\\preprocessed\\all\\14\\03*ir1* 30\n",
      "E:\\MestradoData\\preprocessed\\all\\14\\37*ir1* 0\n",
      "\n"
     ]
    },
    {
     "data": {
      "application/vnd.jupyter.widget-view+json": {
       "model_id": "d16fa42d113c4314b0cb1ce66d1869ed",
       "version_major": 2,
       "version_minor": 0
      },
      "text/html": [
       "<p>Failed to display Jupyter Widget of type <code>HBox</code>.</p>\n",
       "<p>\n",
       "  If you're reading this message in the Jupyter Notebook or JupyterLab Notebook, it may mean\n",
       "  that the widgets JavaScript is still loading. If this message persists, it\n",
       "  likely means that the widgets JavaScript library is either not installed or\n",
       "  not enabled. See the <a href=\"https://ipywidgets.readthedocs.io/en/stable/user_install.html\">Jupyter\n",
       "  Widgets Documentation</a> for setup instructions.\n",
       "</p>\n",
       "<p>\n",
       "  If you're reading this message in another frontend (for example, a static\n",
       "  rendering on GitHub or <a href=\"https://nbviewer.jupyter.org/\">NBViewer</a>),\n",
       "  it may mean that your frontend doesn't currently support widgets.\n",
       "</p>\n"
      ],
      "text/plain": [
       "HBox(children=(IntProgress(value=0, max=9), HTML(value='')))"
      ]
     },
     "metadata": {},
     "output_type": "display_data"
    },
    {
     "name": "stdout",
     "output_type": "stream",
     "text": [
      "E:\\MestradoData\\preprocessed\\all\\14\\22*ir1* 30\n",
      "E:\\MestradoData\\preprocessed\\all\\14\\36*ir1* 0\n",
      "E:\\MestradoData\\preprocessed\\all\\14\\33*ir1* 0\n",
      "E:\\MestradoData\\preprocessed\\all\\14\\19*ir1* 30\n",
      "E:\\MestradoData\\preprocessed\\all\\14\\27*ir1* 30\n",
      "E:\\MestradoData\\preprocessed\\all\\14\\16*ir1* 30\n",
      "E:\\MestradoData\\preprocessed\\all\\14\\25*ir1* 30\n",
      "E:\\MestradoData\\preprocessed\\all\\14\\40*ir1* 30\n",
      "E:\\MestradoData\\preprocessed\\all\\14\\07*ir1* 30\n",
      "\n",
      "folders created !\n"
     ]
    },
    {
     "data": {
      "application/vnd.jupyter.widget-view+json": {
       "model_id": "41b09d1d144d4b63a4333d6fef3d9081",
       "version_major": 2,
       "version_minor": 0
      },
      "text/html": [
       "<p>Failed to display Jupyter Widget of type <code>HBox</code>.</p>\n",
       "<p>\n",
       "  If you're reading this message in the Jupyter Notebook or JupyterLab Notebook, it may mean\n",
       "  that the widgets JavaScript is still loading. If this message persists, it\n",
       "  likely means that the widgets JavaScript library is either not installed or\n",
       "  not enabled. See the <a href=\"https://ipywidgets.readthedocs.io/en/stable/user_install.html\">Jupyter\n",
       "  Widgets Documentation</a> for setup instructions.\n",
       "</p>\n",
       "<p>\n",
       "  If you're reading this message in another frontend (for example, a static\n",
       "  rendering on GitHub or <a href=\"https://nbviewer.jupyter.org/\">NBViewer</a>),\n",
       "  it may mean that your frontend doesn't currently support widgets.\n",
       "</p>\n"
      ],
      "text/plain": [
       "HBox(children=(IntProgress(value=0, max=36), HTML(value='')))"
      ]
     },
     "metadata": {},
     "output_type": "display_data"
    },
    {
     "name": "stdout",
     "output_type": "stream",
     "text": [
      "E:\\MestradoData\\preprocessed\\all\\15\\23*ir1* 30\n",
      "E:\\MestradoData\\preprocessed\\all\\15\\04*ir1* 30\n",
      "E:\\MestradoData\\preprocessed\\all\\15\\38*ir1* 0\n",
      "E:\\MestradoData\\preprocessed\\all\\15\\42*ir1* 30\n",
      "E:\\MestradoData\\preprocessed\\all\\15\\17*ir1* 30\n",
      "E:\\MestradoData\\preprocessed\\all\\15\\35*ir1* 30\n",
      "E:\\MestradoData\\preprocessed\\all\\15\\29*ir1* 30\n",
      "E:\\MestradoData\\preprocessed\\all\\15\\06*ir1* 30\n",
      "E:\\MestradoData\\preprocessed\\all\\15\\15*ir1* 30\n",
      "E:\\MestradoData\\preprocessed\\all\\15\\09*ir1* 30\n",
      "E:\\MestradoData\\preprocessed\\all\\15\\10*ir1* 30\n",
      "E:\\MestradoData\\preprocessed\\all\\15\\26*ir1* 30\n",
      "E:\\MestradoData\\preprocessed\\all\\15\\13*ir1* 0\n",
      "E:\\MestradoData\\preprocessed\\all\\15\\43*ir1* 30\n",
      "E:\\MestradoData\\preprocessed\\all\\15\\20*ir1* 30\n",
      "E:\\MestradoData\\preprocessed\\all\\15\\05*ir1* 0\n",
      "E:\\MestradoData\\preprocessed\\all\\15\\39*ir1* 0\n",
      "E:\\MestradoData\\preprocessed\\all\\15\\02*ir1* 30\n",
      "E:\\MestradoData\\preprocessed\\all\\15\\12*ir1* 30\n",
      "E:\\MestradoData\\preprocessed\\all\\15\\24*ir1* 30\n",
      "E:\\MestradoData\\preprocessed\\all\\15\\08*ir1* 30\n",
      "E:\\MestradoData\\preprocessed\\all\\15\\34*ir1* 30\n",
      "E:\\MestradoData\\preprocessed\\all\\15\\21*ir1* 30\n",
      "E:\\MestradoData\\preprocessed\\all\\15\\41*ir1* 30\n",
      "E:\\MestradoData\\preprocessed\\all\\15\\44*ir1* 30\n",
      "E:\\MestradoData\\preprocessed\\all\\15\\11*ir1* 27\n",
      "E:\\MestradoData\\preprocessed\\all\\15\\18*ir1* 0\n",
      "E:\\MestradoData\\preprocessed\\all\\15\\32*ir1* 30\n",
      "E:\\MestradoData\\preprocessed\\all\\15\\30*ir1* 30\n",
      "E:\\MestradoData\\preprocessed\\all\\15\\14*ir1* 30\n",
      "E:\\MestradoData\\preprocessed\\all\\15\\01*ir1* 30\n",
      "E:\\MestradoData\\preprocessed\\all\\15\\45*ir1* 30\n",
      "E:\\MestradoData\\preprocessed\\all\\15\\31*ir1* 30\n",
      "E:\\MestradoData\\preprocessed\\all\\15\\28*ir1* 30\n",
      "E:\\MestradoData\\preprocessed\\all\\15\\03*ir1* 30\n",
      "E:\\MestradoData\\preprocessed\\all\\15\\37*ir1* 0\n",
      "\n"
     ]
    },
    {
     "data": {
      "application/vnd.jupyter.widget-view+json": {
       "model_id": "fb092abcb88f4fc990f3a6089f219f51",
       "version_major": 2,
       "version_minor": 0
      },
      "text/html": [
       "<p>Failed to display Jupyter Widget of type <code>HBox</code>.</p>\n",
       "<p>\n",
       "  If you're reading this message in the Jupyter Notebook or JupyterLab Notebook, it may mean\n",
       "  that the widgets JavaScript is still loading. If this message persists, it\n",
       "  likely means that the widgets JavaScript library is either not installed or\n",
       "  not enabled. See the <a href=\"https://ipywidgets.readthedocs.io/en/stable/user_install.html\">Jupyter\n",
       "  Widgets Documentation</a> for setup instructions.\n",
       "</p>\n",
       "<p>\n",
       "  If you're reading this message in another frontend (for example, a static\n",
       "  rendering on GitHub or <a href=\"https://nbviewer.jupyter.org/\">NBViewer</a>),\n",
       "  it may mean that your frontend doesn't currently support widgets.\n",
       "</p>\n"
      ],
      "text/plain": [
       "HBox(children=(IntProgress(value=0, max=9), HTML(value='')))"
      ]
     },
     "metadata": {},
     "output_type": "display_data"
    },
    {
     "name": "stdout",
     "output_type": "stream",
     "text": [
      "E:\\MestradoData\\preprocessed\\all\\15\\22*ir1* 30\n",
      "E:\\MestradoData\\preprocessed\\all\\15\\36*ir1* 0\n",
      "E:\\MestradoData\\preprocessed\\all\\15\\33*ir1* 30\n",
      "E:\\MestradoData\\preprocessed\\all\\15\\19*ir1* 30\n",
      "E:\\MestradoData\\preprocessed\\all\\15\\27*ir1* 30\n",
      "E:\\MestradoData\\preprocessed\\all\\15\\16*ir1* 30\n",
      "E:\\MestradoData\\preprocessed\\all\\15\\25*ir1* 30\n",
      "E:\\MestradoData\\preprocessed\\all\\15\\40*ir1* 30\n",
      "E:\\MestradoData\\preprocessed\\all\\15\\07*ir1* 30\n",
      "\n",
      "folders created !\n"
     ]
    },
    {
     "data": {
      "application/vnd.jupyter.widget-view+json": {
       "model_id": "690366952b0f4628a51b3a7bf8be417b",
       "version_major": 2,
       "version_minor": 0
      },
      "text/html": [
       "<p>Failed to display Jupyter Widget of type <code>HBox</code>.</p>\n",
       "<p>\n",
       "  If you're reading this message in the Jupyter Notebook or JupyterLab Notebook, it may mean\n",
       "  that the widgets JavaScript is still loading. If this message persists, it\n",
       "  likely means that the widgets JavaScript library is either not installed or\n",
       "  not enabled. See the <a href=\"https://ipywidgets.readthedocs.io/en/stable/user_install.html\">Jupyter\n",
       "  Widgets Documentation</a> for setup instructions.\n",
       "</p>\n",
       "<p>\n",
       "  If you're reading this message in another frontend (for example, a static\n",
       "  rendering on GitHub or <a href=\"https://nbviewer.jupyter.org/\">NBViewer</a>),\n",
       "  it may mean that your frontend doesn't currently support widgets.\n",
       "</p>\n"
      ],
      "text/plain": [
       "HBox(children=(IntProgress(value=0, max=36), HTML(value='')))"
      ]
     },
     "metadata": {},
     "output_type": "display_data"
    },
    {
     "name": "stdout",
     "output_type": "stream",
     "text": [
      "E:\\MestradoData\\preprocessed\\all\\16\\23*ir1* 30\n",
      "E:\\MestradoData\\preprocessed\\all\\16\\04*ir1* 30\n",
      "E:\\MestradoData\\preprocessed\\all\\16\\38*ir1* 0\n",
      "E:\\MestradoData\\preprocessed\\all\\16\\42*ir1* 30\n",
      "E:\\MestradoData\\preprocessed\\all\\16\\17*ir1* 30\n",
      "E:\\MestradoData\\preprocessed\\all\\16\\35*ir1* 30\n",
      "E:\\MestradoData\\preprocessed\\all\\16\\29*ir1* 30\n",
      "E:\\MestradoData\\preprocessed\\all\\16\\06*ir1* 30\n",
      "E:\\MestradoData\\preprocessed\\all\\16\\15*ir1* 30\n",
      "E:\\MestradoData\\preprocessed\\all\\16\\09*ir1* 30\n",
      "E:\\MestradoData\\preprocessed\\all\\16\\10*ir1* 30\n",
      "E:\\MestradoData\\preprocessed\\all\\16\\26*ir1* 30\n",
      "E:\\MestradoData\\preprocessed\\all\\16\\13*ir1* 0\n",
      "E:\\MestradoData\\preprocessed\\all\\16\\43*ir1* 30\n",
      "E:\\MestradoData\\preprocessed\\all\\16\\20*ir1* 30\n",
      "E:\\MestradoData\\preprocessed\\all\\16\\05*ir1* 30\n",
      "E:\\MestradoData\\preprocessed\\all\\16\\39*ir1* 0\n",
      "E:\\MestradoData\\preprocessed\\all\\16\\02*ir1* 30\n",
      "E:\\MestradoData\\preprocessed\\all\\16\\12*ir1* 30\n",
      "E:\\MestradoData\\preprocessed\\all\\16\\24*ir1* 30\n",
      "E:\\MestradoData\\preprocessed\\all\\16\\08*ir1* 30\n",
      "E:\\MestradoData\\preprocessed\\all\\16\\34*ir1* 30\n",
      "E:\\MestradoData\\preprocessed\\all\\16\\21*ir1* 30\n",
      "E:\\MestradoData\\preprocessed\\all\\16\\41*ir1* 30\n",
      "E:\\MestradoData\\preprocessed\\all\\16\\44*ir1* 30\n",
      "E:\\MestradoData\\preprocessed\\all\\16\\11*ir1* 27\n",
      "E:\\MestradoData\\preprocessed\\all\\16\\18*ir1* 0\n",
      "E:\\MestradoData\\preprocessed\\all\\16\\32*ir1* 30\n",
      "E:\\MestradoData\\preprocessed\\all\\16\\30*ir1* 30\n",
      "E:\\MestradoData\\preprocessed\\all\\16\\14*ir1* 30\n",
      "E:\\MestradoData\\preprocessed\\all\\16\\01*ir1* 30\n",
      "E:\\MestradoData\\preprocessed\\all\\16\\45*ir1* 30\n",
      "E:\\MestradoData\\preprocessed\\all\\16\\31*ir1* 30\n",
      "E:\\MestradoData\\preprocessed\\all\\16\\28*ir1* 30\n",
      "E:\\MestradoData\\preprocessed\\all\\16\\03*ir1* 30\n",
      "E:\\MestradoData\\preprocessed\\all\\16\\37*ir1* 0\n",
      "\n"
     ]
    },
    {
     "data": {
      "application/vnd.jupyter.widget-view+json": {
       "model_id": "bb92a4ea681244289c5d6b75e499cc3c",
       "version_major": 2,
       "version_minor": 0
      },
      "text/html": [
       "<p>Failed to display Jupyter Widget of type <code>HBox</code>.</p>\n",
       "<p>\n",
       "  If you're reading this message in the Jupyter Notebook or JupyterLab Notebook, it may mean\n",
       "  that the widgets JavaScript is still loading. If this message persists, it\n",
       "  likely means that the widgets JavaScript library is either not installed or\n",
       "  not enabled. See the <a href=\"https://ipywidgets.readthedocs.io/en/stable/user_install.html\">Jupyter\n",
       "  Widgets Documentation</a> for setup instructions.\n",
       "</p>\n",
       "<p>\n",
       "  If you're reading this message in another frontend (for example, a static\n",
       "  rendering on GitHub or <a href=\"https://nbviewer.jupyter.org/\">NBViewer</a>),\n",
       "  it may mean that your frontend doesn't currently support widgets.\n",
       "</p>\n"
      ],
      "text/plain": [
       "HBox(children=(IntProgress(value=0, max=9), HTML(value='')))"
      ]
     },
     "metadata": {},
     "output_type": "display_data"
    },
    {
     "name": "stdout",
     "output_type": "stream",
     "text": [
      "E:\\MestradoData\\preprocessed\\all\\16\\22*ir1* 30\n",
      "E:\\MestradoData\\preprocessed\\all\\16\\36*ir1* 0\n",
      "E:\\MestradoData\\preprocessed\\all\\16\\33*ir1* 30\n",
      "E:\\MestradoData\\preprocessed\\all\\16\\19*ir1* 30\n",
      "E:\\MestradoData\\preprocessed\\all\\16\\27*ir1* 30\n",
      "E:\\MestradoData\\preprocessed\\all\\16\\16*ir1* 30\n",
      "E:\\MestradoData\\preprocessed\\all\\16\\25*ir1* 30\n",
      "E:\\MestradoData\\preprocessed\\all\\16\\40*ir1* 30\n",
      "E:\\MestradoData\\preprocessed\\all\\16\\07*ir1* 30\n",
      "\n",
      "folders created !\n"
     ]
    },
    {
     "data": {
      "application/vnd.jupyter.widget-view+json": {
       "model_id": "3a449e95590a411c99df1c21d94b4c8d",
       "version_major": 2,
       "version_minor": 0
      },
      "text/html": [
       "<p>Failed to display Jupyter Widget of type <code>HBox</code>.</p>\n",
       "<p>\n",
       "  If you're reading this message in the Jupyter Notebook or JupyterLab Notebook, it may mean\n",
       "  that the widgets JavaScript is still loading. If this message persists, it\n",
       "  likely means that the widgets JavaScript library is either not installed or\n",
       "  not enabled. See the <a href=\"https://ipywidgets.readthedocs.io/en/stable/user_install.html\">Jupyter\n",
       "  Widgets Documentation</a> for setup instructions.\n",
       "</p>\n",
       "<p>\n",
       "  If you're reading this message in another frontend (for example, a static\n",
       "  rendering on GitHub or <a href=\"https://nbviewer.jupyter.org/\">NBViewer</a>),\n",
       "  it may mean that your frontend doesn't currently support widgets.\n",
       "</p>\n"
      ],
      "text/plain": [
       "HBox(children=(IntProgress(value=0, max=36), HTML(value='')))"
      ]
     },
     "metadata": {},
     "output_type": "display_data"
    },
    {
     "name": "stdout",
     "output_type": "stream",
     "text": [
      "E:\\MestradoData\\preprocessed\\all\\17\\23*ir1* 30\n",
      "E:\\MestradoData\\preprocessed\\all\\17\\04*ir1* 30\n",
      "E:\\MestradoData\\preprocessed\\all\\17\\38*ir1* 0\n",
      "E:\\MestradoData\\preprocessed\\all\\17\\42*ir1* 30\n",
      "E:\\MestradoData\\preprocessed\\all\\17\\17*ir1* 30\n",
      "E:\\MestradoData\\preprocessed\\all\\17\\35*ir1* 30\n",
      "E:\\MestradoData\\preprocessed\\all\\17\\29*ir1* 30\n",
      "E:\\MestradoData\\preprocessed\\all\\17\\06*ir1* 30\n",
      "E:\\MestradoData\\preprocessed\\all\\17\\15*ir1* 30\n",
      "E:\\MestradoData\\preprocessed\\all\\17\\09*ir1* 30\n",
      "E:\\MestradoData\\preprocessed\\all\\17\\10*ir1* 30\n",
      "E:\\MestradoData\\preprocessed\\all\\17\\26*ir1* 30\n",
      "E:\\MestradoData\\preprocessed\\all\\17\\13*ir1* 0\n",
      "E:\\MestradoData\\preprocessed\\all\\17\\43*ir1* 30\n",
      "E:\\MestradoData\\preprocessed\\all\\17\\20*ir1* 30\n",
      "E:\\MestradoData\\preprocessed\\all\\17\\05*ir1* 30\n",
      "E:\\MestradoData\\preprocessed\\all\\17\\39*ir1* 0\n",
      "E:\\MestradoData\\preprocessed\\all\\17\\02*ir1* 30\n",
      "E:\\MestradoData\\preprocessed\\all\\17\\12*ir1* 30\n",
      "E:\\MestradoData\\preprocessed\\all\\17\\24*ir1* 0\n",
      "E:\\MestradoData\\preprocessed\\all\\17\\08*ir1* 30\n",
      "E:\\MestradoData\\preprocessed\\all\\17\\34*ir1* 30\n",
      "E:\\MestradoData\\preprocessed\\all\\17\\21*ir1* 30\n",
      "E:\\MestradoData\\preprocessed\\all\\17\\41*ir1* 30\n",
      "E:\\MestradoData\\preprocessed\\all\\17\\44*ir1* 30\n",
      "E:\\MestradoData\\preprocessed\\all\\17\\11*ir1* 27\n",
      "E:\\MestradoData\\preprocessed\\all\\17\\18*ir1* 0\n",
      "E:\\MestradoData\\preprocessed\\all\\17\\32*ir1* 30\n",
      "E:\\MestradoData\\preprocessed\\all\\17\\30*ir1* 30\n",
      "E:\\MestradoData\\preprocessed\\all\\17\\14*ir1* 30\n",
      "E:\\MestradoData\\preprocessed\\all\\17\\01*ir1* 30\n",
      "E:\\MestradoData\\preprocessed\\all\\17\\45*ir1* 30\n",
      "E:\\MestradoData\\preprocessed\\all\\17\\31*ir1* 30\n",
      "E:\\MestradoData\\preprocessed\\all\\17\\28*ir1* 30\n",
      "E:\\MestradoData\\preprocessed\\all\\17\\03*ir1* 30\n",
      "E:\\MestradoData\\preprocessed\\all\\17\\37*ir1* 0\n",
      "\n"
     ]
    },
    {
     "data": {
      "application/vnd.jupyter.widget-view+json": {
       "model_id": "4f6f0b8e70e94c1494acf18295f91470",
       "version_major": 2,
       "version_minor": 0
      },
      "text/html": [
       "<p>Failed to display Jupyter Widget of type <code>HBox</code>.</p>\n",
       "<p>\n",
       "  If you're reading this message in the Jupyter Notebook or JupyterLab Notebook, it may mean\n",
       "  that the widgets JavaScript is still loading. If this message persists, it\n",
       "  likely means that the widgets JavaScript library is either not installed or\n",
       "  not enabled. See the <a href=\"https://ipywidgets.readthedocs.io/en/stable/user_install.html\">Jupyter\n",
       "  Widgets Documentation</a> for setup instructions.\n",
       "</p>\n",
       "<p>\n",
       "  If you're reading this message in another frontend (for example, a static\n",
       "  rendering on GitHub or <a href=\"https://nbviewer.jupyter.org/\">NBViewer</a>),\n",
       "  it may mean that your frontend doesn't currently support widgets.\n",
       "</p>\n"
      ],
      "text/plain": [
       "HBox(children=(IntProgress(value=0, max=9), HTML(value='')))"
      ]
     },
     "metadata": {},
     "output_type": "display_data"
    },
    {
     "name": "stdout",
     "output_type": "stream",
     "text": [
      "E:\\MestradoData\\preprocessed\\all\\17\\22*ir1* 30\n",
      "E:\\MestradoData\\preprocessed\\all\\17\\36*ir1* 0\n",
      "E:\\MestradoData\\preprocessed\\all\\17\\33*ir1* 30\n",
      "E:\\MestradoData\\preprocessed\\all\\17\\19*ir1* 30\n",
      "E:\\MestradoData\\preprocessed\\all\\17\\27*ir1* 30\n",
      "E:\\MestradoData\\preprocessed\\all\\17\\16*ir1* 30\n",
      "E:\\MestradoData\\preprocessed\\all\\17\\25*ir1* 30\n",
      "E:\\MestradoData\\preprocessed\\all\\17\\40*ir1* 30\n",
      "E:\\MestradoData\\preprocessed\\all\\17\\07*ir1* 30\n",
      "\n",
      "folders created !\n"
     ]
    },
    {
     "data": {
      "application/vnd.jupyter.widget-view+json": {
       "model_id": "60c9f2d1a8044934aa4ffcd2e1717707",
       "version_major": 2,
       "version_minor": 0
      },
      "text/html": [
       "<p>Failed to display Jupyter Widget of type <code>HBox</code>.</p>\n",
       "<p>\n",
       "  If you're reading this message in the Jupyter Notebook or JupyterLab Notebook, it may mean\n",
       "  that the widgets JavaScript is still loading. If this message persists, it\n",
       "  likely means that the widgets JavaScript library is either not installed or\n",
       "  not enabled. See the <a href=\"https://ipywidgets.readthedocs.io/en/stable/user_install.html\">Jupyter\n",
       "  Widgets Documentation</a> for setup instructions.\n",
       "</p>\n",
       "<p>\n",
       "  If you're reading this message in another frontend (for example, a static\n",
       "  rendering on GitHub or <a href=\"https://nbviewer.jupyter.org/\">NBViewer</a>),\n",
       "  it may mean that your frontend doesn't currently support widgets.\n",
       "</p>\n"
      ],
      "text/plain": [
       "HBox(children=(IntProgress(value=0, max=36), HTML(value='')))"
      ]
     },
     "metadata": {},
     "output_type": "display_data"
    },
    {
     "name": "stdout",
     "output_type": "stream",
     "text": [
      "E:\\MestradoData\\preprocessed\\all\\18\\23*ir1* 30\n",
      "E:\\MestradoData\\preprocessed\\all\\18\\04*ir1* 30\n",
      "E:\\MestradoData\\preprocessed\\all\\18\\38*ir1* 0\n",
      "E:\\MestradoData\\preprocessed\\all\\18\\42*ir1* 30\n",
      "E:\\MestradoData\\preprocessed\\all\\18\\17*ir1* 30\n",
      "E:\\MestradoData\\preprocessed\\all\\18\\35*ir1* 30\n",
      "E:\\MestradoData\\preprocessed\\all\\18\\29*ir1* 30\n",
      "E:\\MestradoData\\preprocessed\\all\\18\\06*ir1* 30\n",
      "E:\\MestradoData\\preprocessed\\all\\18\\15*ir1* 30\n",
      "E:\\MestradoData\\preprocessed\\all\\18\\09*ir1* 30\n",
      "E:\\MestradoData\\preprocessed\\all\\18\\10*ir1* 30\n",
      "E:\\MestradoData\\preprocessed\\all\\18\\26*ir1* 30\n",
      "E:\\MestradoData\\preprocessed\\all\\18\\13*ir1* 0\n",
      "E:\\MestradoData\\preprocessed\\all\\18\\43*ir1* 30\n",
      "E:\\MestradoData\\preprocessed\\all\\18\\20*ir1* 30\n",
      "E:\\MestradoData\\preprocessed\\all\\18\\05*ir1* 30\n",
      "E:\\MestradoData\\preprocessed\\all\\18\\39*ir1* 0\n",
      "E:\\MestradoData\\preprocessed\\all\\18\\02*ir1* 30\n",
      "E:\\MestradoData\\preprocessed\\all\\18\\12*ir1* 30\n",
      "E:\\MestradoData\\preprocessed\\all\\18\\24*ir1* 0\n",
      "E:\\MestradoData\\preprocessed\\all\\18\\08*ir1* 30\n",
      "E:\\MestradoData\\preprocessed\\all\\18\\34*ir1* 30\n",
      "E:\\MestradoData\\preprocessed\\all\\18\\21*ir1* 30\n",
      "E:\\MestradoData\\preprocessed\\all\\18\\41*ir1* 30\n",
      "E:\\MestradoData\\preprocessed\\all\\18\\44*ir1* 30\n",
      "E:\\MestradoData\\preprocessed\\all\\18\\11*ir1* 27\n",
      "E:\\MestradoData\\preprocessed\\all\\18\\18*ir1* 0\n",
      "E:\\MestradoData\\preprocessed\\all\\18\\32*ir1* 30\n",
      "E:\\MestradoData\\preprocessed\\all\\18\\30*ir1* 30\n",
      "E:\\MestradoData\\preprocessed\\all\\18\\14*ir1* 30\n",
      "E:\\MestradoData\\preprocessed\\all\\18\\01*ir1* 30\n",
      "E:\\MestradoData\\preprocessed\\all\\18\\45*ir1* 30\n",
      "E:\\MestradoData\\preprocessed\\all\\18\\31*ir1* 30\n",
      "E:\\MestradoData\\preprocessed\\all\\18\\28*ir1* 30\n",
      "E:\\MestradoData\\preprocessed\\all\\18\\03*ir1* 30\n",
      "E:\\MestradoData\\preprocessed\\all\\18\\37*ir1* 0\n",
      "\n"
     ]
    },
    {
     "data": {
      "application/vnd.jupyter.widget-view+json": {
       "model_id": "5cec16a3e00c460c8c7e262ae8520c01",
       "version_major": 2,
       "version_minor": 0
      },
      "text/html": [
       "<p>Failed to display Jupyter Widget of type <code>HBox</code>.</p>\n",
       "<p>\n",
       "  If you're reading this message in the Jupyter Notebook or JupyterLab Notebook, it may mean\n",
       "  that the widgets JavaScript is still loading. If this message persists, it\n",
       "  likely means that the widgets JavaScript library is either not installed or\n",
       "  not enabled. See the <a href=\"https://ipywidgets.readthedocs.io/en/stable/user_install.html\">Jupyter\n",
       "  Widgets Documentation</a> for setup instructions.\n",
       "</p>\n",
       "<p>\n",
       "  If you're reading this message in another frontend (for example, a static\n",
       "  rendering on GitHub or <a href=\"https://nbviewer.jupyter.org/\">NBViewer</a>),\n",
       "  it may mean that your frontend doesn't currently support widgets.\n",
       "</p>\n"
      ],
      "text/plain": [
       "HBox(children=(IntProgress(value=0, max=9), HTML(value='')))"
      ]
     },
     "metadata": {},
     "output_type": "display_data"
    },
    {
     "name": "stdout",
     "output_type": "stream",
     "text": [
      "E:\\MestradoData\\preprocessed\\all\\18\\22*ir1* 30\n",
      "E:\\MestradoData\\preprocessed\\all\\18\\36*ir1* 0\n",
      "E:\\MestradoData\\preprocessed\\all\\18\\33*ir1* 30\n",
      "E:\\MestradoData\\preprocessed\\all\\18\\19*ir1* 30\n",
      "E:\\MestradoData\\preprocessed\\all\\18\\27*ir1* 30\n",
      "E:\\MestradoData\\preprocessed\\all\\18\\16*ir1* 30\n",
      "E:\\MestradoData\\preprocessed\\all\\18\\25*ir1* 30\n",
      "E:\\MestradoData\\preprocessed\\all\\18\\40*ir1* 30\n",
      "E:\\MestradoData\\preprocessed\\all\\18\\07*ir1* 30\n",
      "\n",
      "folders created !\n"
     ]
    },
    {
     "data": {
      "application/vnd.jupyter.widget-view+json": {
       "model_id": "0c55c88509dc4b96be2140be97e53030",
       "version_major": 2,
       "version_minor": 0
      },
      "text/html": [
       "<p>Failed to display Jupyter Widget of type <code>HBox</code>.</p>\n",
       "<p>\n",
       "  If you're reading this message in the Jupyter Notebook or JupyterLab Notebook, it may mean\n",
       "  that the widgets JavaScript is still loading. If this message persists, it\n",
       "  likely means that the widgets JavaScript library is either not installed or\n",
       "  not enabled. See the <a href=\"https://ipywidgets.readthedocs.io/en/stable/user_install.html\">Jupyter\n",
       "  Widgets Documentation</a> for setup instructions.\n",
       "</p>\n",
       "<p>\n",
       "  If you're reading this message in another frontend (for example, a static\n",
       "  rendering on GitHub or <a href=\"https://nbviewer.jupyter.org/\">NBViewer</a>),\n",
       "  it may mean that your frontend doesn't currently support widgets.\n",
       "</p>\n"
      ],
      "text/plain": [
       "HBox(children=(IntProgress(value=0, max=36), HTML(value='')))"
      ]
     },
     "metadata": {},
     "output_type": "display_data"
    },
    {
     "name": "stdout",
     "output_type": "stream",
     "text": [
      "E:\\MestradoData\\preprocessed\\all\\19\\23*ir1* 30\n",
      "E:\\MestradoData\\preprocessed\\all\\19\\04*ir1* 30\n",
      "E:\\MestradoData\\preprocessed\\all\\19\\38*ir1* 0\n",
      "E:\\MestradoData\\preprocessed\\all\\19\\42*ir1* 30\n",
      "E:\\MestradoData\\preprocessed\\all\\19\\17*ir1* 30\n",
      "E:\\MestradoData\\preprocessed\\all\\19\\35*ir1* 30\n",
      "E:\\MestradoData\\preprocessed\\all\\19\\29*ir1* 30\n",
      "E:\\MestradoData\\preprocessed\\all\\19\\06*ir1* 30\n",
      "E:\\MestradoData\\preprocessed\\all\\19\\15*ir1* 30\n",
      "E:\\MestradoData\\preprocessed\\all\\19\\09*ir1* 30\n",
      "E:\\MestradoData\\preprocessed\\all\\19\\10*ir1* 30\n",
      "E:\\MestradoData\\preprocessed\\all\\19\\26*ir1* 30\n",
      "E:\\MestradoData\\preprocessed\\all\\19\\13*ir1* 0\n",
      "E:\\MestradoData\\preprocessed\\all\\19\\43*ir1* 30\n",
      "E:\\MestradoData\\preprocessed\\all\\19\\20*ir1* 30\n",
      "E:\\MestradoData\\preprocessed\\all\\19\\05*ir1* 30\n",
      "E:\\MestradoData\\preprocessed\\all\\19\\39*ir1* 0\n",
      "E:\\MestradoData\\preprocessed\\all\\19\\02*ir1* 30\n",
      "E:\\MestradoData\\preprocessed\\all\\19\\12*ir1* 30\n",
      "E:\\MestradoData\\preprocessed\\all\\19\\24*ir1* 0\n",
      "E:\\MestradoData\\preprocessed\\all\\19\\08*ir1* 30\n",
      "E:\\MestradoData\\preprocessed\\all\\19\\34*ir1* 30\n",
      "E:\\MestradoData\\preprocessed\\all\\19\\21*ir1* 30\n",
      "E:\\MestradoData\\preprocessed\\all\\19\\41*ir1* 30\n",
      "E:\\MestradoData\\preprocessed\\all\\19\\44*ir1* 30\n",
      "E:\\MestradoData\\preprocessed\\all\\19\\11*ir1* 27\n",
      "E:\\MestradoData\\preprocessed\\all\\19\\18*ir1* 0\n",
      "E:\\MestradoData\\preprocessed\\all\\19\\32*ir1* 30\n",
      "E:\\MestradoData\\preprocessed\\all\\19\\30*ir1* 30\n",
      "E:\\MestradoData\\preprocessed\\all\\19\\14*ir1* 30\n",
      "E:\\MestradoData\\preprocessed\\all\\19\\01*ir1* 30\n",
      "E:\\MestradoData\\preprocessed\\all\\19\\45*ir1* 30\n",
      "E:\\MestradoData\\preprocessed\\all\\19\\31*ir1* 30\n",
      "E:\\MestradoData\\preprocessed\\all\\19\\28*ir1* 30\n",
      "E:\\MestradoData\\preprocessed\\all\\19\\03*ir1* 30\n",
      "E:\\MestradoData\\preprocessed\\all\\19\\37*ir1* 0\n",
      "\n"
     ]
    },
    {
     "data": {
      "application/vnd.jupyter.widget-view+json": {
       "model_id": "48140f05398243648772c86e629ebc6c",
       "version_major": 2,
       "version_minor": 0
      },
      "text/html": [
       "<p>Failed to display Jupyter Widget of type <code>HBox</code>.</p>\n",
       "<p>\n",
       "  If you're reading this message in the Jupyter Notebook or JupyterLab Notebook, it may mean\n",
       "  that the widgets JavaScript is still loading. If this message persists, it\n",
       "  likely means that the widgets JavaScript library is either not installed or\n",
       "  not enabled. See the <a href=\"https://ipywidgets.readthedocs.io/en/stable/user_install.html\">Jupyter\n",
       "  Widgets Documentation</a> for setup instructions.\n",
       "</p>\n",
       "<p>\n",
       "  If you're reading this message in another frontend (for example, a static\n",
       "  rendering on GitHub or <a href=\"https://nbviewer.jupyter.org/\">NBViewer</a>),\n",
       "  it may mean that your frontend doesn't currently support widgets.\n",
       "</p>\n"
      ],
      "text/plain": [
       "HBox(children=(IntProgress(value=0, max=9), HTML(value='')))"
      ]
     },
     "metadata": {},
     "output_type": "display_data"
    },
    {
     "name": "stdout",
     "output_type": "stream",
     "text": [
      "E:\\MestradoData\\preprocessed\\all\\19\\22*ir1* 30\n",
      "E:\\MestradoData\\preprocessed\\all\\19\\36*ir1* 0\n",
      "E:\\MestradoData\\preprocessed\\all\\19\\33*ir1* 30\n",
      "E:\\MestradoData\\preprocessed\\all\\19\\19*ir1* 30\n",
      "E:\\MestradoData\\preprocessed\\all\\19\\27*ir1* 30\n",
      "E:\\MestradoData\\preprocessed\\all\\19\\16*ir1* 30\n",
      "E:\\MestradoData\\preprocessed\\all\\19\\25*ir1* 30\n",
      "E:\\MestradoData\\preprocessed\\all\\19\\40*ir1* 30\n",
      "E:\\MestradoData\\preprocessed\\all\\19\\07*ir1* 30\n",
      "\n",
      "folders created !\n"
     ]
    },
    {
     "data": {
      "application/vnd.jupyter.widget-view+json": {
       "model_id": "3fd0f61067e74c1d957907719e854dcb",
       "version_major": 2,
       "version_minor": 0
      },
      "text/html": [
       "<p>Failed to display Jupyter Widget of type <code>HBox</code>.</p>\n",
       "<p>\n",
       "  If you're reading this message in the Jupyter Notebook or JupyterLab Notebook, it may mean\n",
       "  that the widgets JavaScript is still loading. If this message persists, it\n",
       "  likely means that the widgets JavaScript library is either not installed or\n",
       "  not enabled. See the <a href=\"https://ipywidgets.readthedocs.io/en/stable/user_install.html\">Jupyter\n",
       "  Widgets Documentation</a> for setup instructions.\n",
       "</p>\n",
       "<p>\n",
       "  If you're reading this message in another frontend (for example, a static\n",
       "  rendering on GitHub or <a href=\"https://nbviewer.jupyter.org/\">NBViewer</a>),\n",
       "  it may mean that your frontend doesn't currently support widgets.\n",
       "</p>\n"
      ],
      "text/plain": [
       "HBox(children=(IntProgress(value=0, max=36), HTML(value='')))"
      ]
     },
     "metadata": {},
     "output_type": "display_data"
    },
    {
     "name": "stdout",
     "output_type": "stream",
     "text": [
      "E:\\MestradoData\\preprocessed\\all\\01\\23*ir2* 30\n",
      "E:\\MestradoData\\preprocessed\\all\\01\\04*ir2* 30\n",
      "E:\\MestradoData\\preprocessed\\all\\01\\38*ir2* 0\n",
      "E:\\MestradoData\\preprocessed\\all\\01\\42*ir2* 30\n",
      "E:\\MestradoData\\preprocessed\\all\\01\\17*ir2* 30\n",
      "E:\\MestradoData\\preprocessed\\all\\01\\35*ir2* 30\n",
      "E:\\MestradoData\\preprocessed\\all\\01\\29*ir2* 30\n",
      "E:\\MestradoData\\preprocessed\\all\\01\\06*ir2* 30\n",
      "E:\\MestradoData\\preprocessed\\all\\01\\15*ir2* 30\n",
      "E:\\MestradoData\\preprocessed\\all\\01\\09*ir2* 30\n",
      "E:\\MestradoData\\preprocessed\\all\\01\\10*ir2* 30\n",
      "E:\\MestradoData\\preprocessed\\all\\01\\26*ir2* 30\n",
      "E:\\MestradoData\\preprocessed\\all\\01\\13*ir2* 30\n",
      "E:\\MestradoData\\preprocessed\\all\\01\\43*ir2* 30\n",
      "E:\\MestradoData\\preprocessed\\all\\01\\20*ir2* 30\n",
      "E:\\MestradoData\\preprocessed\\all\\01\\05*ir2* 30\n",
      "E:\\MestradoData\\preprocessed\\all\\01\\39*ir2* 0\n",
      "E:\\MestradoData\\preprocessed\\all\\01\\02*ir2* 30\n",
      "E:\\MestradoData\\preprocessed\\all\\01\\12*ir2* 30\n",
      "E:\\MestradoData\\preprocessed\\all\\01\\24*ir2* 30\n",
      "E:\\MestradoData\\preprocessed\\all\\01\\08*ir2* 30\n",
      "E:\\MestradoData\\preprocessed\\all\\01\\34*ir2* 30\n",
      "E:\\MestradoData\\preprocessed\\all\\01\\21*ir2* 30\n",
      "E:\\MestradoData\\preprocessed\\all\\01\\41*ir2* 30\n",
      "E:\\MestradoData\\preprocessed\\all\\01\\44*ir2* 30\n",
      "E:\\MestradoData\\preprocessed\\all\\01\\11*ir2* 30\n",
      "E:\\MestradoData\\preprocessed\\all\\01\\18*ir2* 30\n",
      "E:\\MestradoData\\preprocessed\\all\\01\\32*ir2* 30\n",
      "E:\\MestradoData\\preprocessed\\all\\01\\30*ir2* 30\n",
      "E:\\MestradoData\\preprocessed\\all\\01\\14*ir2* 30\n",
      "E:\\MestradoData\\preprocessed\\all\\01\\01*ir2* 30\n",
      "E:\\MestradoData\\preprocessed\\all\\01\\45*ir2* 30\n",
      "E:\\MestradoData\\preprocessed\\all\\01\\31*ir2* 30\n",
      "E:\\MestradoData\\preprocessed\\all\\01\\28*ir2* 30\n",
      "E:\\MestradoData\\preprocessed\\all\\01\\03*ir2* 30\n",
      "E:\\MestradoData\\preprocessed\\all\\01\\37*ir2* 0\n",
      "\n"
     ]
    },
    {
     "data": {
      "application/vnd.jupyter.widget-view+json": {
       "model_id": "7b246b5c4ee34c5bad57068de40ffd07",
       "version_major": 2,
       "version_minor": 0
      },
      "text/html": [
       "<p>Failed to display Jupyter Widget of type <code>HBox</code>.</p>\n",
       "<p>\n",
       "  If you're reading this message in the Jupyter Notebook or JupyterLab Notebook, it may mean\n",
       "  that the widgets JavaScript is still loading. If this message persists, it\n",
       "  likely means that the widgets JavaScript library is either not installed or\n",
       "  not enabled. See the <a href=\"https://ipywidgets.readthedocs.io/en/stable/user_install.html\">Jupyter\n",
       "  Widgets Documentation</a> for setup instructions.\n",
       "</p>\n",
       "<p>\n",
       "  If you're reading this message in another frontend (for example, a static\n",
       "  rendering on GitHub or <a href=\"https://nbviewer.jupyter.org/\">NBViewer</a>),\n",
       "  it may mean that your frontend doesn't currently support widgets.\n",
       "</p>\n"
      ],
      "text/plain": [
       "HBox(children=(IntProgress(value=0, max=9), HTML(value='')))"
      ]
     },
     "metadata": {},
     "output_type": "display_data"
    },
    {
     "name": "stdout",
     "output_type": "stream",
     "text": [
      "E:\\MestradoData\\preprocessed\\all\\01\\22*ir2* 30\n",
      "E:\\MestradoData\\preprocessed\\all\\01\\36*ir2* 0\n",
      "E:\\MestradoData\\preprocessed\\all\\01\\33*ir2* 30\n",
      "E:\\MestradoData\\preprocessed\\all\\01\\19*ir2* 30\n",
      "E:\\MestradoData\\preprocessed\\all\\01\\27*ir2* 30\n",
      "E:\\MestradoData\\preprocessed\\all\\01\\16*ir2* 30\n",
      "E:\\MestradoData\\preprocessed\\all\\01\\25*ir2* 30\n",
      "E:\\MestradoData\\preprocessed\\all\\01\\40*ir2* 30\n",
      "E:\\MestradoData\\preprocessed\\all\\01\\07*ir2* 30\n",
      "\n",
      "folders created !\n"
     ]
    },
    {
     "data": {
      "application/vnd.jupyter.widget-view+json": {
       "model_id": "e22243c607544e538afed2312b7d1170",
       "version_major": 2,
       "version_minor": 0
      },
      "text/html": [
       "<p>Failed to display Jupyter Widget of type <code>HBox</code>.</p>\n",
       "<p>\n",
       "  If you're reading this message in the Jupyter Notebook or JupyterLab Notebook, it may mean\n",
       "  that the widgets JavaScript is still loading. If this message persists, it\n",
       "  likely means that the widgets JavaScript library is either not installed or\n",
       "  not enabled. See the <a href=\"https://ipywidgets.readthedocs.io/en/stable/user_install.html\">Jupyter\n",
       "  Widgets Documentation</a> for setup instructions.\n",
       "</p>\n",
       "<p>\n",
       "  If you're reading this message in another frontend (for example, a static\n",
       "  rendering on GitHub or <a href=\"https://nbviewer.jupyter.org/\">NBViewer</a>),\n",
       "  it may mean that your frontend doesn't currently support widgets.\n",
       "</p>\n"
      ],
      "text/plain": [
       "HBox(children=(IntProgress(value=0, max=36), HTML(value='')))"
      ]
     },
     "metadata": {},
     "output_type": "display_data"
    },
    {
     "name": "stdout",
     "output_type": "stream",
     "text": [
      "E:\\MestradoData\\preprocessed\\all\\02\\23*ir2* 30\n",
      "E:\\MestradoData\\preprocessed\\all\\02\\04*ir2* 30\n",
      "E:\\MestradoData\\preprocessed\\all\\02\\38*ir2* 0\n",
      "E:\\MestradoData\\preprocessed\\all\\02\\42*ir2* 30\n",
      "E:\\MestradoData\\preprocessed\\all\\02\\17*ir2* 30\n",
      "E:\\MestradoData\\preprocessed\\all\\02\\35*ir2* 30\n",
      "E:\\MestradoData\\preprocessed\\all\\02\\29*ir2* 30\n",
      "E:\\MestradoData\\preprocessed\\all\\02\\06*ir2* 30\n",
      "E:\\MestradoData\\preprocessed\\all\\02\\15*ir2* 30\n",
      "E:\\MestradoData\\preprocessed\\all\\02\\09*ir2* 30\n",
      "E:\\MestradoData\\preprocessed\\all\\02\\10*ir2* 30\n",
      "E:\\MestradoData\\preprocessed\\all\\02\\26*ir2* 30\n",
      "E:\\MestradoData\\preprocessed\\all\\02\\13*ir2* 30\n",
      "E:\\MestradoData\\preprocessed\\all\\02\\43*ir2* 30\n",
      "E:\\MestradoData\\preprocessed\\all\\02\\20*ir2* 30\n",
      "E:\\MestradoData\\preprocessed\\all\\02\\05*ir2* 30\n",
      "E:\\MestradoData\\preprocessed\\all\\02\\39*ir2* 0\n",
      "E:\\MestradoData\\preprocessed\\all\\02\\02*ir2* 30\n",
      "E:\\MestradoData\\preprocessed\\all\\02\\12*ir2* 30\n",
      "E:\\MestradoData\\preprocessed\\all\\02\\24*ir2* 30\n",
      "E:\\MestradoData\\preprocessed\\all\\02\\08*ir2* 30\n",
      "E:\\MestradoData\\preprocessed\\all\\02\\34*ir2* 30\n",
      "E:\\MestradoData\\preprocessed\\all\\02\\21*ir2* 30\n",
      "E:\\MestradoData\\preprocessed\\all\\02\\41*ir2* 30\n",
      "E:\\MestradoData\\preprocessed\\all\\02\\44*ir2* 30\n",
      "E:\\MestradoData\\preprocessed\\all\\02\\11*ir2* 30\n",
      "E:\\MestradoData\\preprocessed\\all\\02\\18*ir2* 30\n",
      "E:\\MestradoData\\preprocessed\\all\\02\\32*ir2* 30\n",
      "E:\\MestradoData\\preprocessed\\all\\02\\30*ir2* 30\n",
      "E:\\MestradoData\\preprocessed\\all\\02\\14*ir2* 30\n",
      "E:\\MestradoData\\preprocessed\\all\\02\\01*ir2* 30\n",
      "E:\\MestradoData\\preprocessed\\all\\02\\45*ir2* 30\n",
      "E:\\MestradoData\\preprocessed\\all\\02\\31*ir2* 30\n",
      "E:\\MestradoData\\preprocessed\\all\\02\\28*ir2* 30\n",
      "E:\\MestradoData\\preprocessed\\all\\02\\03*ir2* 30\n",
      "E:\\MestradoData\\preprocessed\\all\\02\\37*ir2* 0\n",
      "\n"
     ]
    },
    {
     "data": {
      "application/vnd.jupyter.widget-view+json": {
       "model_id": "5e9e7e8128aa4212a33ec928f3ef356a",
       "version_major": 2,
       "version_minor": 0
      },
      "text/html": [
       "<p>Failed to display Jupyter Widget of type <code>HBox</code>.</p>\n",
       "<p>\n",
       "  If you're reading this message in the Jupyter Notebook or JupyterLab Notebook, it may mean\n",
       "  that the widgets JavaScript is still loading. If this message persists, it\n",
       "  likely means that the widgets JavaScript library is either not installed or\n",
       "  not enabled. See the <a href=\"https://ipywidgets.readthedocs.io/en/stable/user_install.html\">Jupyter\n",
       "  Widgets Documentation</a> for setup instructions.\n",
       "</p>\n",
       "<p>\n",
       "  If you're reading this message in another frontend (for example, a static\n",
       "  rendering on GitHub or <a href=\"https://nbviewer.jupyter.org/\">NBViewer</a>),\n",
       "  it may mean that your frontend doesn't currently support widgets.\n",
       "</p>\n"
      ],
      "text/plain": [
       "HBox(children=(IntProgress(value=0, max=9), HTML(value='')))"
      ]
     },
     "metadata": {},
     "output_type": "display_data"
    },
    {
     "name": "stdout",
     "output_type": "stream",
     "text": [
      "E:\\MestradoData\\preprocessed\\all\\02\\22*ir2* 30\n",
      "E:\\MestradoData\\preprocessed\\all\\02\\36*ir2* 0\n",
      "E:\\MestradoData\\preprocessed\\all\\02\\33*ir2* 30\n",
      "E:\\MestradoData\\preprocessed\\all\\02\\19*ir2* 30\n",
      "E:\\MestradoData\\preprocessed\\all\\02\\27*ir2* 30\n",
      "E:\\MestradoData\\preprocessed\\all\\02\\16*ir2* 30\n",
      "E:\\MestradoData\\preprocessed\\all\\02\\25*ir2* 30\n",
      "E:\\MestradoData\\preprocessed\\all\\02\\40*ir2* 30\n",
      "E:\\MestradoData\\preprocessed\\all\\02\\07*ir2* 30\n",
      "\n",
      "folders created !\n"
     ]
    },
    {
     "data": {
      "application/vnd.jupyter.widget-view+json": {
       "model_id": "7b8933bd3dcc466dad42fdaedf97ad59",
       "version_major": 2,
       "version_minor": 0
      },
      "text/html": [
       "<p>Failed to display Jupyter Widget of type <code>HBox</code>.</p>\n",
       "<p>\n",
       "  If you're reading this message in the Jupyter Notebook or JupyterLab Notebook, it may mean\n",
       "  that the widgets JavaScript is still loading. If this message persists, it\n",
       "  likely means that the widgets JavaScript library is either not installed or\n",
       "  not enabled. See the <a href=\"https://ipywidgets.readthedocs.io/en/stable/user_install.html\">Jupyter\n",
       "  Widgets Documentation</a> for setup instructions.\n",
       "</p>\n",
       "<p>\n",
       "  If you're reading this message in another frontend (for example, a static\n",
       "  rendering on GitHub or <a href=\"https://nbviewer.jupyter.org/\">NBViewer</a>),\n",
       "  it may mean that your frontend doesn't currently support widgets.\n",
       "</p>\n"
      ],
      "text/plain": [
       "HBox(children=(IntProgress(value=0, max=36), HTML(value='')))"
      ]
     },
     "metadata": {},
     "output_type": "display_data"
    },
    {
     "name": "stdout",
     "output_type": "stream",
     "text": [
      "E:\\MestradoData\\preprocessed\\all\\03\\23*ir2* 30\n",
      "E:\\MestradoData\\preprocessed\\all\\03\\04*ir2* 30\n",
      "E:\\MestradoData\\preprocessed\\all\\03\\38*ir2* 0\n",
      "E:\\MestradoData\\preprocessed\\all\\03\\42*ir2* 30\n",
      "E:\\MestradoData\\preprocessed\\all\\03\\17*ir2* 30\n",
      "E:\\MestradoData\\preprocessed\\all\\03\\35*ir2* 30\n",
      "E:\\MestradoData\\preprocessed\\all\\03\\29*ir2* 30\n",
      "E:\\MestradoData\\preprocessed\\all\\03\\06*ir2* 30\n",
      "E:\\MestradoData\\preprocessed\\all\\03\\15*ir2* 30\n",
      "E:\\MestradoData\\preprocessed\\all\\03\\09*ir2* 30\n",
      "E:\\MestradoData\\preprocessed\\all\\03\\10*ir2* 30\n",
      "E:\\MestradoData\\preprocessed\\all\\03\\26*ir2* 30\n",
      "E:\\MestradoData\\preprocessed\\all\\03\\13*ir2* 0\n",
      "E:\\MestradoData\\preprocessed\\all\\03\\43*ir2* 30\n",
      "E:\\MestradoData\\preprocessed\\all\\03\\20*ir2* 30\n",
      "E:\\MestradoData\\preprocessed\\all\\03\\05*ir2* 30\n",
      "E:\\MestradoData\\preprocessed\\all\\03\\39*ir2* 0\n",
      "E:\\MestradoData\\preprocessed\\all\\03\\02*ir2* 30\n",
      "E:\\MestradoData\\preprocessed\\all\\03\\12*ir2* 30\n",
      "E:\\MestradoData\\preprocessed\\all\\03\\24*ir2* 30\n",
      "E:\\MestradoData\\preprocessed\\all\\03\\08*ir2* 30\n",
      "E:\\MestradoData\\preprocessed\\all\\03\\34*ir2* 30\n",
      "E:\\MestradoData\\preprocessed\\all\\03\\21*ir2* 30\n",
      "E:\\MestradoData\\preprocessed\\all\\03\\41*ir2* 30\n",
      "E:\\MestradoData\\preprocessed\\all\\03\\44*ir2* 30\n",
      "E:\\MestradoData\\preprocessed\\all\\03\\11*ir2* 27\n",
      "E:\\MestradoData\\preprocessed\\all\\03\\18*ir2* 0\n",
      "E:\\MestradoData\\preprocessed\\all\\03\\32*ir2* 30\n",
      "E:\\MestradoData\\preprocessed\\all\\03\\30*ir2* 30\n",
      "E:\\MestradoData\\preprocessed\\all\\03\\14*ir2* 30\n",
      "E:\\MestradoData\\preprocessed\\all\\03\\01*ir2* 30\n",
      "E:\\MestradoData\\preprocessed\\all\\03\\45*ir2* 30\n",
      "E:\\MestradoData\\preprocessed\\all\\03\\31*ir2* 30\n",
      "E:\\MestradoData\\preprocessed\\all\\03\\28*ir2* 30\n",
      "E:\\MestradoData\\preprocessed\\all\\03\\03*ir2* 30\n",
      "E:\\MestradoData\\preprocessed\\all\\03\\37*ir2* 0\n",
      "\n"
     ]
    },
    {
     "data": {
      "application/vnd.jupyter.widget-view+json": {
       "model_id": "5071a88b70ec48e0a8b3aacc131d0ec6",
       "version_major": 2,
       "version_minor": 0
      },
      "text/html": [
       "<p>Failed to display Jupyter Widget of type <code>HBox</code>.</p>\n",
       "<p>\n",
       "  If you're reading this message in the Jupyter Notebook or JupyterLab Notebook, it may mean\n",
       "  that the widgets JavaScript is still loading. If this message persists, it\n",
       "  likely means that the widgets JavaScript library is either not installed or\n",
       "  not enabled. See the <a href=\"https://ipywidgets.readthedocs.io/en/stable/user_install.html\">Jupyter\n",
       "  Widgets Documentation</a> for setup instructions.\n",
       "</p>\n",
       "<p>\n",
       "  If you're reading this message in another frontend (for example, a static\n",
       "  rendering on GitHub or <a href=\"https://nbviewer.jupyter.org/\">NBViewer</a>),\n",
       "  it may mean that your frontend doesn't currently support widgets.\n",
       "</p>\n"
      ],
      "text/plain": [
       "HBox(children=(IntProgress(value=0, max=9), HTML(value='')))"
      ]
     },
     "metadata": {},
     "output_type": "display_data"
    },
    {
     "name": "stdout",
     "output_type": "stream",
     "text": [
      "E:\\MestradoData\\preprocessed\\all\\03\\22*ir2* 30\n",
      "E:\\MestradoData\\preprocessed\\all\\03\\36*ir2* 0\n",
      "E:\\MestradoData\\preprocessed\\all\\03\\33*ir2* 30\n",
      "E:\\MestradoData\\preprocessed\\all\\03\\19*ir2* 30\n",
      "E:\\MestradoData\\preprocessed\\all\\03\\27*ir2* 30\n",
      "E:\\MestradoData\\preprocessed\\all\\03\\16*ir2* 30\n",
      "E:\\MestradoData\\preprocessed\\all\\03\\25*ir2* 30\n",
      "E:\\MestradoData\\preprocessed\\all\\03\\40*ir2* 30\n",
      "E:\\MestradoData\\preprocessed\\all\\03\\07*ir2* 30\n",
      "\n",
      "folders created !\n"
     ]
    },
    {
     "data": {
      "application/vnd.jupyter.widget-view+json": {
       "model_id": "d6a8684457d24b8fa2591e2dd34cb440",
       "version_major": 2,
       "version_minor": 0
      },
      "text/html": [
       "<p>Failed to display Jupyter Widget of type <code>HBox</code>.</p>\n",
       "<p>\n",
       "  If you're reading this message in the Jupyter Notebook or JupyterLab Notebook, it may mean\n",
       "  that the widgets JavaScript is still loading. If this message persists, it\n",
       "  likely means that the widgets JavaScript library is either not installed or\n",
       "  not enabled. See the <a href=\"https://ipywidgets.readthedocs.io/en/stable/user_install.html\">Jupyter\n",
       "  Widgets Documentation</a> for setup instructions.\n",
       "</p>\n",
       "<p>\n",
       "  If you're reading this message in another frontend (for example, a static\n",
       "  rendering on GitHub or <a href=\"https://nbviewer.jupyter.org/\">NBViewer</a>),\n",
       "  it may mean that your frontend doesn't currently support widgets.\n",
       "</p>\n"
      ],
      "text/plain": [
       "HBox(children=(IntProgress(value=0, max=36), HTML(value='')))"
      ]
     },
     "metadata": {},
     "output_type": "display_data"
    },
    {
     "name": "stdout",
     "output_type": "stream",
     "text": [
      "E:\\MestradoData\\preprocessed\\all\\04\\23*ir2* 30\n",
      "E:\\MestradoData\\preprocessed\\all\\04\\04*ir2* 30\n",
      "E:\\MestradoData\\preprocessed\\all\\04\\38*ir2* 0\n",
      "E:\\MestradoData\\preprocessed\\all\\04\\42*ir2* 30\n",
      "E:\\MestradoData\\preprocessed\\all\\04\\17*ir2* 30\n",
      "E:\\MestradoData\\preprocessed\\all\\04\\35*ir2* 30\n",
      "E:\\MestradoData\\preprocessed\\all\\04\\29*ir2* 30\n",
      "E:\\MestradoData\\preprocessed\\all\\04\\06*ir2* 30\n",
      "E:\\MestradoData\\preprocessed\\all\\04\\15*ir2* 30\n",
      "E:\\MestradoData\\preprocessed\\all\\04\\09*ir2* 30\n",
      "E:\\MestradoData\\preprocessed\\all\\04\\10*ir2* 30\n",
      "E:\\MestradoData\\preprocessed\\all\\04\\26*ir2* 30\n",
      "E:\\MestradoData\\preprocessed\\all\\04\\13*ir2* 0\n",
      "E:\\MestradoData\\preprocessed\\all\\04\\43*ir2* 30\n",
      "E:\\MestradoData\\preprocessed\\all\\04\\20*ir2* 30\n",
      "E:\\MestradoData\\preprocessed\\all\\04\\05*ir2* 30\n",
      "E:\\MestradoData\\preprocessed\\all\\04\\39*ir2* 0\n",
      "E:\\MestradoData\\preprocessed\\all\\04\\02*ir2* 30\n",
      "E:\\MestradoData\\preprocessed\\all\\04\\12*ir2* 30\n",
      "E:\\MestradoData\\preprocessed\\all\\04\\24*ir2* 30\n",
      "E:\\MestradoData\\preprocessed\\all\\04\\08*ir2* 30\n",
      "E:\\MestradoData\\preprocessed\\all\\04\\34*ir2* 30\n",
      "E:\\MestradoData\\preprocessed\\all\\04\\21*ir2* 30\n",
      "E:\\MestradoData\\preprocessed\\all\\04\\41*ir2* 30\n",
      "E:\\MestradoData\\preprocessed\\all\\04\\44*ir2* 30\n",
      "E:\\MestradoData\\preprocessed\\all\\04\\11*ir2* 27\n",
      "E:\\MestradoData\\preprocessed\\all\\04\\18*ir2* 0\n",
      "E:\\MestradoData\\preprocessed\\all\\04\\32*ir2* 30\n",
      "E:\\MestradoData\\preprocessed\\all\\04\\30*ir2* 30\n",
      "E:\\MestradoData\\preprocessed\\all\\04\\14*ir2* 30\n",
      "E:\\MestradoData\\preprocessed\\all\\04\\01*ir2* 30\n",
      "E:\\MestradoData\\preprocessed\\all\\04\\45*ir2* 30\n",
      "E:\\MestradoData\\preprocessed\\all\\04\\31*ir2* 30\n",
      "E:\\MestradoData\\preprocessed\\all\\04\\28*ir2* 30\n",
      "E:\\MestradoData\\preprocessed\\all\\04\\03*ir2* 30\n",
      "E:\\MestradoData\\preprocessed\\all\\04\\37*ir2* 0\n",
      "\n"
     ]
    },
    {
     "data": {
      "application/vnd.jupyter.widget-view+json": {
       "model_id": "a40d68c08d784a9bbca602db5c6b9321",
       "version_major": 2,
       "version_minor": 0
      },
      "text/html": [
       "<p>Failed to display Jupyter Widget of type <code>HBox</code>.</p>\n",
       "<p>\n",
       "  If you're reading this message in the Jupyter Notebook or JupyterLab Notebook, it may mean\n",
       "  that the widgets JavaScript is still loading. If this message persists, it\n",
       "  likely means that the widgets JavaScript library is either not installed or\n",
       "  not enabled. See the <a href=\"https://ipywidgets.readthedocs.io/en/stable/user_install.html\">Jupyter\n",
       "  Widgets Documentation</a> for setup instructions.\n",
       "</p>\n",
       "<p>\n",
       "  If you're reading this message in another frontend (for example, a static\n",
       "  rendering on GitHub or <a href=\"https://nbviewer.jupyter.org/\">NBViewer</a>),\n",
       "  it may mean that your frontend doesn't currently support widgets.\n",
       "</p>\n"
      ],
      "text/plain": [
       "HBox(children=(IntProgress(value=0, max=9), HTML(value='')))"
      ]
     },
     "metadata": {},
     "output_type": "display_data"
    },
    {
     "name": "stdout",
     "output_type": "stream",
     "text": [
      "E:\\MestradoData\\preprocessed\\all\\04\\22*ir2* 30\n",
      "E:\\MestradoData\\preprocessed\\all\\04\\36*ir2* 0\n",
      "E:\\MestradoData\\preprocessed\\all\\04\\33*ir2* 30\n",
      "E:\\MestradoData\\preprocessed\\all\\04\\19*ir2* 30\n",
      "E:\\MestradoData\\preprocessed\\all\\04\\27*ir2* 30\n",
      "E:\\MestradoData\\preprocessed\\all\\04\\16*ir2* 30\n",
      "E:\\MestradoData\\preprocessed\\all\\04\\25*ir2* 30\n",
      "E:\\MestradoData\\preprocessed\\all\\04\\40*ir2* 30\n",
      "E:\\MestradoData\\preprocessed\\all\\04\\07*ir2* 30\n",
      "\n",
      "folders created !\n"
     ]
    },
    {
     "data": {
      "application/vnd.jupyter.widget-view+json": {
       "model_id": "b1a92c509b1344d792729109f460dded",
       "version_major": 2,
       "version_minor": 0
      },
      "text/html": [
       "<p>Failed to display Jupyter Widget of type <code>HBox</code>.</p>\n",
       "<p>\n",
       "  If you're reading this message in the Jupyter Notebook or JupyterLab Notebook, it may mean\n",
       "  that the widgets JavaScript is still loading. If this message persists, it\n",
       "  likely means that the widgets JavaScript library is either not installed or\n",
       "  not enabled. See the <a href=\"https://ipywidgets.readthedocs.io/en/stable/user_install.html\">Jupyter\n",
       "  Widgets Documentation</a> for setup instructions.\n",
       "</p>\n",
       "<p>\n",
       "  If you're reading this message in another frontend (for example, a static\n",
       "  rendering on GitHub or <a href=\"https://nbviewer.jupyter.org/\">NBViewer</a>),\n",
       "  it may mean that your frontend doesn't currently support widgets.\n",
       "</p>\n"
      ],
      "text/plain": [
       "HBox(children=(IntProgress(value=0, max=36), HTML(value='')))"
      ]
     },
     "metadata": {},
     "output_type": "display_data"
    },
    {
     "name": "stdout",
     "output_type": "stream",
     "text": [
      "E:\\MestradoData\\preprocessed\\all\\05\\23*ir2* 30\n",
      "E:\\MestradoData\\preprocessed\\all\\05\\04*ir2* 30\n",
      "E:\\MestradoData\\preprocessed\\all\\05\\38*ir2* 0\n",
      "E:\\MestradoData\\preprocessed\\all\\05\\42*ir2* 30\n",
      "E:\\MestradoData\\preprocessed\\all\\05\\17*ir2* 30\n",
      "E:\\MestradoData\\preprocessed\\all\\05\\35*ir2* 30\n",
      "E:\\MestradoData\\preprocessed\\all\\05\\29*ir2* 30\n",
      "E:\\MestradoData\\preprocessed\\all\\05\\06*ir2* 30\n",
      "E:\\MestradoData\\preprocessed\\all\\05\\15*ir2* 30\n",
      "E:\\MestradoData\\preprocessed\\all\\05\\09*ir2* 30\n",
      "E:\\MestradoData\\preprocessed\\all\\05\\10*ir2* 30\n",
      "E:\\MestradoData\\preprocessed\\all\\05\\26*ir2* 30\n",
      "E:\\MestradoData\\preprocessed\\all\\05\\13*ir2* 30\n",
      "E:\\MestradoData\\preprocessed\\all\\05\\43*ir2* 30\n",
      "E:\\MestradoData\\preprocessed\\all\\05\\20*ir2* 30\n",
      "E:\\MestradoData\\preprocessed\\all\\05\\05*ir2* 30\n",
      "E:\\MestradoData\\preprocessed\\all\\05\\39*ir2* 0\n",
      "E:\\MestradoData\\preprocessed\\all\\05\\02*ir2* 30\n",
      "E:\\MestradoData\\preprocessed\\all\\05\\12*ir2* 30\n",
      "E:\\MestradoData\\preprocessed\\all\\05\\24*ir2* 30\n",
      "E:\\MestradoData\\preprocessed\\all\\05\\08*ir2* 30\n",
      "E:\\MestradoData\\preprocessed\\all\\05\\34*ir2* 27\n",
      "E:\\MestradoData\\preprocessed\\all\\05\\21*ir2* 30\n",
      "E:\\MestradoData\\preprocessed\\all\\05\\41*ir2* 30\n",
      "E:\\MestradoData\\preprocessed\\all\\05\\44*ir2* 30\n",
      "E:\\MestradoData\\preprocessed\\all\\05\\11*ir2* 30\n",
      "E:\\MestradoData\\preprocessed\\all\\05\\18*ir2* 30\n",
      "E:\\MestradoData\\preprocessed\\all\\05\\32*ir2* 30\n",
      "E:\\MestradoData\\preprocessed\\all\\05\\30*ir2* 30\n",
      "E:\\MestradoData\\preprocessed\\all\\05\\14*ir2* 30\n",
      "E:\\MestradoData\\preprocessed\\all\\05\\01*ir2* 30\n",
      "E:\\MestradoData\\preprocessed\\all\\05\\45*ir2* 30\n",
      "E:\\MestradoData\\preprocessed\\all\\05\\31*ir2* 30\n",
      "E:\\MestradoData\\preprocessed\\all\\05\\28*ir2* 30\n",
      "E:\\MestradoData\\preprocessed\\all\\05\\03*ir2* 30\n",
      "E:\\MestradoData\\preprocessed\\all\\05\\37*ir2* 0\n",
      "\n"
     ]
    },
    {
     "data": {
      "application/vnd.jupyter.widget-view+json": {
       "model_id": "666eaeaa1fe8417e89783159f3838628",
       "version_major": 2,
       "version_minor": 0
      },
      "text/html": [
       "<p>Failed to display Jupyter Widget of type <code>HBox</code>.</p>\n",
       "<p>\n",
       "  If you're reading this message in the Jupyter Notebook or JupyterLab Notebook, it may mean\n",
       "  that the widgets JavaScript is still loading. If this message persists, it\n",
       "  likely means that the widgets JavaScript library is either not installed or\n",
       "  not enabled. See the <a href=\"https://ipywidgets.readthedocs.io/en/stable/user_install.html\">Jupyter\n",
       "  Widgets Documentation</a> for setup instructions.\n",
       "</p>\n",
       "<p>\n",
       "  If you're reading this message in another frontend (for example, a static\n",
       "  rendering on GitHub or <a href=\"https://nbviewer.jupyter.org/\">NBViewer</a>),\n",
       "  it may mean that your frontend doesn't currently support widgets.\n",
       "</p>\n"
      ],
      "text/plain": [
       "HBox(children=(IntProgress(value=0, max=9), HTML(value='')))"
      ]
     },
     "metadata": {},
     "output_type": "display_data"
    },
    {
     "name": "stdout",
     "output_type": "stream",
     "text": [
      "E:\\MestradoData\\preprocessed\\all\\05\\22*ir2* 23\n",
      "E:\\MestradoData\\preprocessed\\all\\05\\36*ir2* 0\n",
      "E:\\MestradoData\\preprocessed\\all\\05\\33*ir2* 30\n",
      "E:\\MestradoData\\preprocessed\\all\\05\\19*ir2* 0\n",
      "E:\\MestradoData\\preprocessed\\all\\05\\27*ir2* 30\n",
      "E:\\MestradoData\\preprocessed\\all\\05\\16*ir2* 30\n",
      "E:\\MestradoData\\preprocessed\\all\\05\\25*ir2* 30\n",
      "E:\\MestradoData\\preprocessed\\all\\05\\40*ir2* 30\n",
      "E:\\MestradoData\\preprocessed\\all\\05\\07*ir2* 30\n",
      "\n",
      "folders created !\n"
     ]
    },
    {
     "data": {
      "application/vnd.jupyter.widget-view+json": {
       "model_id": "2cd5fe10e9dd4a00977692154c8c0831",
       "version_major": 2,
       "version_minor": 0
      },
      "text/html": [
       "<p>Failed to display Jupyter Widget of type <code>HBox</code>.</p>\n",
       "<p>\n",
       "  If you're reading this message in the Jupyter Notebook or JupyterLab Notebook, it may mean\n",
       "  that the widgets JavaScript is still loading. If this message persists, it\n",
       "  likely means that the widgets JavaScript library is either not installed or\n",
       "  not enabled. See the <a href=\"https://ipywidgets.readthedocs.io/en/stable/user_install.html\">Jupyter\n",
       "  Widgets Documentation</a> for setup instructions.\n",
       "</p>\n",
       "<p>\n",
       "  If you're reading this message in another frontend (for example, a static\n",
       "  rendering on GitHub or <a href=\"https://nbviewer.jupyter.org/\">NBViewer</a>),\n",
       "  it may mean that your frontend doesn't currently support widgets.\n",
       "</p>\n"
      ],
      "text/plain": [
       "HBox(children=(IntProgress(value=0, max=36), HTML(value='')))"
      ]
     },
     "metadata": {},
     "output_type": "display_data"
    },
    {
     "name": "stdout",
     "output_type": "stream",
     "text": [
      "E:\\MestradoData\\preprocessed\\all\\06\\23*ir2* 30\n",
      "E:\\MestradoData\\preprocessed\\all\\06\\04*ir2* 30\n",
      "E:\\MestradoData\\preprocessed\\all\\06\\38*ir2* 0\n",
      "E:\\MestradoData\\preprocessed\\all\\06\\42*ir2* 30\n",
      "E:\\MestradoData\\preprocessed\\all\\06\\17*ir2* 30\n",
      "E:\\MestradoData\\preprocessed\\all\\06\\35*ir2* 30\n",
      "E:\\MestradoData\\preprocessed\\all\\06\\29*ir2* 30\n",
      "E:\\MestradoData\\preprocessed\\all\\06\\06*ir2* 30\n",
      "E:\\MestradoData\\preprocessed\\all\\06\\15*ir2* 30\n",
      "E:\\MestradoData\\preprocessed\\all\\06\\09*ir2* 30\n",
      "E:\\MestradoData\\preprocessed\\all\\06\\10*ir2* 30\n",
      "E:\\MestradoData\\preprocessed\\all\\06\\26*ir2* 30\n",
      "E:\\MestradoData\\preprocessed\\all\\06\\13*ir2* 30\n",
      "E:\\MestradoData\\preprocessed\\all\\06\\43*ir2* 30\n",
      "E:\\MestradoData\\preprocessed\\all\\06\\20*ir2* 30\n",
      "E:\\MestradoData\\preprocessed\\all\\06\\05*ir2* 30\n",
      "E:\\MestradoData\\preprocessed\\all\\06\\39*ir2* 0\n",
      "E:\\MestradoData\\preprocessed\\all\\06\\02*ir2* 30\n",
      "E:\\MestradoData\\preprocessed\\all\\06\\12*ir2* 30\n",
      "E:\\MestradoData\\preprocessed\\all\\06\\24*ir2* 30\n",
      "E:\\MestradoData\\preprocessed\\all\\06\\08*ir2* 30\n",
      "E:\\MestradoData\\preprocessed\\all\\06\\34*ir2* 27\n",
      "E:\\MestradoData\\preprocessed\\all\\06\\21*ir2* 30\n",
      "E:\\MestradoData\\preprocessed\\all\\06\\41*ir2* 30\n",
      "E:\\MestradoData\\preprocessed\\all\\06\\44*ir2* 30\n",
      "E:\\MestradoData\\preprocessed\\all\\06\\11*ir2* 30\n",
      "E:\\MestradoData\\preprocessed\\all\\06\\18*ir2* 30\n",
      "E:\\MestradoData\\preprocessed\\all\\06\\32*ir2* 30\n",
      "E:\\MestradoData\\preprocessed\\all\\06\\30*ir2* 30\n",
      "E:\\MestradoData\\preprocessed\\all\\06\\14*ir2* 30\n",
      "E:\\MestradoData\\preprocessed\\all\\06\\01*ir2* 30\n",
      "E:\\MestradoData\\preprocessed\\all\\06\\45*ir2* 30\n",
      "E:\\MestradoData\\preprocessed\\all\\06\\31*ir2* 30\n",
      "E:\\MestradoData\\preprocessed\\all\\06\\28*ir2* 30\n",
      "E:\\MestradoData\\preprocessed\\all\\06\\03*ir2* 30\n",
      "E:\\MestradoData\\preprocessed\\all\\06\\37*ir2* 0\n",
      "\n"
     ]
    },
    {
     "data": {
      "application/vnd.jupyter.widget-view+json": {
       "model_id": "10bd72eab5ad4e14947723d89c494f04",
       "version_major": 2,
       "version_minor": 0
      },
      "text/html": [
       "<p>Failed to display Jupyter Widget of type <code>HBox</code>.</p>\n",
       "<p>\n",
       "  If you're reading this message in the Jupyter Notebook or JupyterLab Notebook, it may mean\n",
       "  that the widgets JavaScript is still loading. If this message persists, it\n",
       "  likely means that the widgets JavaScript library is either not installed or\n",
       "  not enabled. See the <a href=\"https://ipywidgets.readthedocs.io/en/stable/user_install.html\">Jupyter\n",
       "  Widgets Documentation</a> for setup instructions.\n",
       "</p>\n",
       "<p>\n",
       "  If you're reading this message in another frontend (for example, a static\n",
       "  rendering on GitHub or <a href=\"https://nbviewer.jupyter.org/\">NBViewer</a>),\n",
       "  it may mean that your frontend doesn't currently support widgets.\n",
       "</p>\n"
      ],
      "text/plain": [
       "HBox(children=(IntProgress(value=0, max=9), HTML(value='')))"
      ]
     },
     "metadata": {},
     "output_type": "display_data"
    },
    {
     "name": "stdout",
     "output_type": "stream",
     "text": [
      "E:\\MestradoData\\preprocessed\\all\\06\\22*ir2* 30\n",
      "E:\\MestradoData\\preprocessed\\all\\06\\36*ir2* 0\n",
      "E:\\MestradoData\\preprocessed\\all\\06\\33*ir2* 30\n",
      "E:\\MestradoData\\preprocessed\\all\\06\\19*ir2* 30\n",
      "E:\\MestradoData\\preprocessed\\all\\06\\27*ir2* 30\n",
      "E:\\MestradoData\\preprocessed\\all\\06\\16*ir2* 30\n",
      "E:\\MestradoData\\preprocessed\\all\\06\\25*ir2* 30\n",
      "E:\\MestradoData\\preprocessed\\all\\06\\40*ir2* 30\n",
      "E:\\MestradoData\\preprocessed\\all\\06\\07*ir2* 30\n",
      "\n",
      "folders created !\n"
     ]
    },
    {
     "data": {
      "application/vnd.jupyter.widget-view+json": {
       "model_id": "2247ab5017bd4435934f7c962702cec1",
       "version_major": 2,
       "version_minor": 0
      },
      "text/html": [
       "<p>Failed to display Jupyter Widget of type <code>HBox</code>.</p>\n",
       "<p>\n",
       "  If you're reading this message in the Jupyter Notebook or JupyterLab Notebook, it may mean\n",
       "  that the widgets JavaScript is still loading. If this message persists, it\n",
       "  likely means that the widgets JavaScript library is either not installed or\n",
       "  not enabled. See the <a href=\"https://ipywidgets.readthedocs.io/en/stable/user_install.html\">Jupyter\n",
       "  Widgets Documentation</a> for setup instructions.\n",
       "</p>\n",
       "<p>\n",
       "  If you're reading this message in another frontend (for example, a static\n",
       "  rendering on GitHub or <a href=\"https://nbviewer.jupyter.org/\">NBViewer</a>),\n",
       "  it may mean that your frontend doesn't currently support widgets.\n",
       "</p>\n"
      ],
      "text/plain": [
       "HBox(children=(IntProgress(value=0, max=36), HTML(value='')))"
      ]
     },
     "metadata": {},
     "output_type": "display_data"
    },
    {
     "name": "stdout",
     "output_type": "stream",
     "text": [
      "E:\\MestradoData\\preprocessed\\all\\07\\23*ir2* 30\n",
      "E:\\MestradoData\\preprocessed\\all\\07\\04*ir2* 30\n",
      "E:\\MestradoData\\preprocessed\\all\\07\\38*ir2* 0\n",
      "E:\\MestradoData\\preprocessed\\all\\07\\42*ir2* 30\n",
      "E:\\MestradoData\\preprocessed\\all\\07\\17*ir2* 30\n",
      "E:\\MestradoData\\preprocessed\\all\\07\\35*ir2* 30\n",
      "E:\\MestradoData\\preprocessed\\all\\07\\29*ir2* 30\n",
      "E:\\MestradoData\\preprocessed\\all\\07\\06*ir2* 30\n",
      "E:\\MestradoData\\preprocessed\\all\\07\\15*ir2* 30\n",
      "E:\\MestradoData\\preprocessed\\all\\07\\09*ir2* 30\n",
      "E:\\MestradoData\\preprocessed\\all\\07\\10*ir2* 30\n",
      "E:\\MestradoData\\preprocessed\\all\\07\\26*ir2* 30\n",
      "E:\\MestradoData\\preprocessed\\all\\07\\13*ir2* 0\n",
      "E:\\MestradoData\\preprocessed\\all\\07\\43*ir2* 30\n",
      "E:\\MestradoData\\preprocessed\\all\\07\\20*ir2* 30\n",
      "E:\\MestradoData\\preprocessed\\all\\07\\05*ir2* 30\n",
      "E:\\MestradoData\\preprocessed\\all\\07\\39*ir2* 0\n",
      "E:\\MestradoData\\preprocessed\\all\\07\\02*ir2* 30\n",
      "E:\\MestradoData\\preprocessed\\all\\07\\12*ir2* 30\n",
      "E:\\MestradoData\\preprocessed\\all\\07\\24*ir2* 30\n",
      "E:\\MestradoData\\preprocessed\\all\\07\\08*ir2* 30\n",
      "E:\\MestradoData\\preprocessed\\all\\07\\34*ir2* 30\n",
      "E:\\MestradoData\\preprocessed\\all\\07\\21*ir2* 30\n",
      "E:\\MestradoData\\preprocessed\\all\\07\\41*ir2* 30\n",
      "E:\\MestradoData\\preprocessed\\all\\07\\44*ir2* 30\n",
      "E:\\MestradoData\\preprocessed\\all\\07\\11*ir2* 27\n",
      "E:\\MestradoData\\preprocessed\\all\\07\\18*ir2* 0\n",
      "E:\\MestradoData\\preprocessed\\all\\07\\32*ir2* 30\n",
      "E:\\MestradoData\\preprocessed\\all\\07\\30*ir2* 30\n",
      "E:\\MestradoData\\preprocessed\\all\\07\\14*ir2* 30\n",
      "E:\\MestradoData\\preprocessed\\all\\07\\01*ir2* 30\n",
      "E:\\MestradoData\\preprocessed\\all\\07\\45*ir2* 30\n",
      "E:\\MestradoData\\preprocessed\\all\\07\\31*ir2* 30\n",
      "E:\\MestradoData\\preprocessed\\all\\07\\28*ir2* 30\n",
      "E:\\MestradoData\\preprocessed\\all\\07\\03*ir2* 30\n",
      "E:\\MestradoData\\preprocessed\\all\\07\\37*ir2* 0\n",
      "\n"
     ]
    },
    {
     "data": {
      "application/vnd.jupyter.widget-view+json": {
       "model_id": "0da130af7d8048dda9a26bfea7431e95",
       "version_major": 2,
       "version_minor": 0
      },
      "text/html": [
       "<p>Failed to display Jupyter Widget of type <code>HBox</code>.</p>\n",
       "<p>\n",
       "  If you're reading this message in the Jupyter Notebook or JupyterLab Notebook, it may mean\n",
       "  that the widgets JavaScript is still loading. If this message persists, it\n",
       "  likely means that the widgets JavaScript library is either not installed or\n",
       "  not enabled. See the <a href=\"https://ipywidgets.readthedocs.io/en/stable/user_install.html\">Jupyter\n",
       "  Widgets Documentation</a> for setup instructions.\n",
       "</p>\n",
       "<p>\n",
       "  If you're reading this message in another frontend (for example, a static\n",
       "  rendering on GitHub or <a href=\"https://nbviewer.jupyter.org/\">NBViewer</a>),\n",
       "  it may mean that your frontend doesn't currently support widgets.\n",
       "</p>\n"
      ],
      "text/plain": [
       "HBox(children=(IntProgress(value=0, max=9), HTML(value='')))"
      ]
     },
     "metadata": {},
     "output_type": "display_data"
    },
    {
     "name": "stdout",
     "output_type": "stream",
     "text": [
      "E:\\MestradoData\\preprocessed\\all\\07\\22*ir2* 30\n",
      "E:\\MestradoData\\preprocessed\\all\\07\\36*ir2* 0\n",
      "E:\\MestradoData\\preprocessed\\all\\07\\33*ir2* 30\n",
      "E:\\MestradoData\\preprocessed\\all\\07\\19*ir2* 30\n",
      "E:\\MestradoData\\preprocessed\\all\\07\\27*ir2* 30\n",
      "E:\\MestradoData\\preprocessed\\all\\07\\16*ir2* 30\n",
      "E:\\MestradoData\\preprocessed\\all\\07\\25*ir2* 30\n",
      "E:\\MestradoData\\preprocessed\\all\\07\\40*ir2* 30\n",
      "E:\\MestradoData\\preprocessed\\all\\07\\07*ir2* 30\n",
      "\n",
      "folders created !\n"
     ]
    },
    {
     "data": {
      "application/vnd.jupyter.widget-view+json": {
       "model_id": "e0df656c609744ef970762f075531956",
       "version_major": 2,
       "version_minor": 0
      },
      "text/html": [
       "<p>Failed to display Jupyter Widget of type <code>HBox</code>.</p>\n",
       "<p>\n",
       "  If you're reading this message in the Jupyter Notebook or JupyterLab Notebook, it may mean\n",
       "  that the widgets JavaScript is still loading. If this message persists, it\n",
       "  likely means that the widgets JavaScript library is either not installed or\n",
       "  not enabled. See the <a href=\"https://ipywidgets.readthedocs.io/en/stable/user_install.html\">Jupyter\n",
       "  Widgets Documentation</a> for setup instructions.\n",
       "</p>\n",
       "<p>\n",
       "  If you're reading this message in another frontend (for example, a static\n",
       "  rendering on GitHub or <a href=\"https://nbviewer.jupyter.org/\">NBViewer</a>),\n",
       "  it may mean that your frontend doesn't currently support widgets.\n",
       "</p>\n"
      ],
      "text/plain": [
       "HBox(children=(IntProgress(value=0, max=36), HTML(value='')))"
      ]
     },
     "metadata": {},
     "output_type": "display_data"
    },
    {
     "name": "stdout",
     "output_type": "stream",
     "text": [
      "E:\\MestradoData\\preprocessed\\all\\08\\23*ir2* 30\n",
      "E:\\MestradoData\\preprocessed\\all\\08\\04*ir2* 30\n",
      "E:\\MestradoData\\preprocessed\\all\\08\\38*ir2* 0\n",
      "E:\\MestradoData\\preprocessed\\all\\08\\42*ir2* 30\n",
      "E:\\MestradoData\\preprocessed\\all\\08\\17*ir2* 30\n",
      "E:\\MestradoData\\preprocessed\\all\\08\\35*ir2* 30\n",
      "E:\\MestradoData\\preprocessed\\all\\08\\29*ir2* 30\n",
      "E:\\MestradoData\\preprocessed\\all\\08\\06*ir2* 30\n",
      "E:\\MestradoData\\preprocessed\\all\\08\\15*ir2* 30\n",
      "E:\\MestradoData\\preprocessed\\all\\08\\09*ir2* 30\n",
      "E:\\MestradoData\\preprocessed\\all\\08\\10*ir2* 30\n",
      "E:\\MestradoData\\preprocessed\\all\\08\\26*ir2* 30\n",
      "E:\\MestradoData\\preprocessed\\all\\08\\13*ir2* 0\n",
      "E:\\MestradoData\\preprocessed\\all\\08\\43*ir2* 30\n",
      "E:\\MestradoData\\preprocessed\\all\\08\\20*ir2* 30\n",
      "E:\\MestradoData\\preprocessed\\all\\08\\05*ir2* 30\n",
      "E:\\MestradoData\\preprocessed\\all\\08\\39*ir2* 0\n",
      "E:\\MestradoData\\preprocessed\\all\\08\\02*ir2* 30\n",
      "E:\\MestradoData\\preprocessed\\all\\08\\12*ir2* 30\n",
      "E:\\MestradoData\\preprocessed\\all\\08\\24*ir2* 30\n",
      "E:\\MestradoData\\preprocessed\\all\\08\\08*ir2* 30\n",
      "E:\\MestradoData\\preprocessed\\all\\08\\34*ir2* 30\n",
      "E:\\MestradoData\\preprocessed\\all\\08\\21*ir2* 30\n",
      "E:\\MestradoData\\preprocessed\\all\\08\\41*ir2* 30\n",
      "E:\\MestradoData\\preprocessed\\all\\08\\44*ir2* 30\n",
      "E:\\MestradoData\\preprocessed\\all\\08\\11*ir2* 27\n",
      "E:\\MestradoData\\preprocessed\\all\\08\\18*ir2* 0\n",
      "E:\\MestradoData\\preprocessed\\all\\08\\32*ir2* 30\n",
      "E:\\MestradoData\\preprocessed\\all\\08\\30*ir2* 30\n",
      "E:\\MestradoData\\preprocessed\\all\\08\\14*ir2* 30\n",
      "E:\\MestradoData\\preprocessed\\all\\08\\01*ir2* 30\n",
      "E:\\MestradoData\\preprocessed\\all\\08\\45*ir2* 30\n",
      "E:\\MestradoData\\preprocessed\\all\\08\\31*ir2* 30\n",
      "E:\\MestradoData\\preprocessed\\all\\08\\28*ir2* 30\n",
      "E:\\MestradoData\\preprocessed\\all\\08\\03*ir2* 30\n",
      "E:\\MestradoData\\preprocessed\\all\\08\\37*ir2* 0\n",
      "\n"
     ]
    },
    {
     "data": {
      "application/vnd.jupyter.widget-view+json": {
       "model_id": "901a905ce52d4adba5501ec4d7051ac9",
       "version_major": 2,
       "version_minor": 0
      },
      "text/html": [
       "<p>Failed to display Jupyter Widget of type <code>HBox</code>.</p>\n",
       "<p>\n",
       "  If you're reading this message in the Jupyter Notebook or JupyterLab Notebook, it may mean\n",
       "  that the widgets JavaScript is still loading. If this message persists, it\n",
       "  likely means that the widgets JavaScript library is either not installed or\n",
       "  not enabled. See the <a href=\"https://ipywidgets.readthedocs.io/en/stable/user_install.html\">Jupyter\n",
       "  Widgets Documentation</a> for setup instructions.\n",
       "</p>\n",
       "<p>\n",
       "  If you're reading this message in another frontend (for example, a static\n",
       "  rendering on GitHub or <a href=\"https://nbviewer.jupyter.org/\">NBViewer</a>),\n",
       "  it may mean that your frontend doesn't currently support widgets.\n",
       "</p>\n"
      ],
      "text/plain": [
       "HBox(children=(IntProgress(value=0, max=9), HTML(value='')))"
      ]
     },
     "metadata": {},
     "output_type": "display_data"
    },
    {
     "name": "stdout",
     "output_type": "stream",
     "text": [
      "E:\\MestradoData\\preprocessed\\all\\08\\22*ir2* 30\n",
      "E:\\MestradoData\\preprocessed\\all\\08\\36*ir2* 0\n",
      "E:\\MestradoData\\preprocessed\\all\\08\\33*ir2* 30\n",
      "E:\\MestradoData\\preprocessed\\all\\08\\19*ir2* 30\n",
      "E:\\MestradoData\\preprocessed\\all\\08\\27*ir2* 30\n",
      "E:\\MestradoData\\preprocessed\\all\\08\\16*ir2* 30\n",
      "E:\\MestradoData\\preprocessed\\all\\08\\25*ir2* 30\n",
      "E:\\MestradoData\\preprocessed\\all\\08\\40*ir2* 30\n",
      "E:\\MestradoData\\preprocessed\\all\\08\\07*ir2* 30\n",
      "\n",
      "folders created !\n"
     ]
    },
    {
     "data": {
      "application/vnd.jupyter.widget-view+json": {
       "model_id": "0044b6a0e17c4eaca34bd402182921cd",
       "version_major": 2,
       "version_minor": 0
      },
      "text/html": [
       "<p>Failed to display Jupyter Widget of type <code>HBox</code>.</p>\n",
       "<p>\n",
       "  If you're reading this message in the Jupyter Notebook or JupyterLab Notebook, it may mean\n",
       "  that the widgets JavaScript is still loading. If this message persists, it\n",
       "  likely means that the widgets JavaScript library is either not installed or\n",
       "  not enabled. See the <a href=\"https://ipywidgets.readthedocs.io/en/stable/user_install.html\">Jupyter\n",
       "  Widgets Documentation</a> for setup instructions.\n",
       "</p>\n",
       "<p>\n",
       "  If you're reading this message in another frontend (for example, a static\n",
       "  rendering on GitHub or <a href=\"https://nbviewer.jupyter.org/\">NBViewer</a>),\n",
       "  it may mean that your frontend doesn't currently support widgets.\n",
       "</p>\n"
      ],
      "text/plain": [
       "HBox(children=(IntProgress(value=0, max=36), HTML(value='')))"
      ]
     },
     "metadata": {},
     "output_type": "display_data"
    },
    {
     "name": "stdout",
     "output_type": "stream",
     "text": [
      "E:\\MestradoData\\preprocessed\\all\\09\\23*ir2* 30\n",
      "E:\\MestradoData\\preprocessed\\all\\09\\04*ir2* 30\n",
      "E:\\MestradoData\\preprocessed\\all\\09\\38*ir2* 0\n",
      "E:\\MestradoData\\preprocessed\\all\\09\\42*ir2* 30\n",
      "E:\\MestradoData\\preprocessed\\all\\09\\17*ir2* 30\n",
      "E:\\MestradoData\\preprocessed\\all\\09\\35*ir2* 30\n",
      "E:\\MestradoData\\preprocessed\\all\\09\\29*ir2* 30\n",
      "E:\\MestradoData\\preprocessed\\all\\09\\06*ir2* 30\n",
      "E:\\MestradoData\\preprocessed\\all\\09\\15*ir2* 30\n",
      "E:\\MestradoData\\preprocessed\\all\\09\\09*ir2* 30\n",
      "E:\\MestradoData\\preprocessed\\all\\09\\10*ir2* 30\n",
      "E:\\MestradoData\\preprocessed\\all\\09\\26*ir2* 30\n",
      "E:\\MestradoData\\preprocessed\\all\\09\\13*ir2* 0\n",
      "E:\\MestradoData\\preprocessed\\all\\09\\43*ir2* 30\n",
      "E:\\MestradoData\\preprocessed\\all\\09\\20*ir2* 30\n",
      "E:\\MestradoData\\preprocessed\\all\\09\\05*ir2* 30\n",
      "E:\\MestradoData\\preprocessed\\all\\09\\39*ir2* 0\n",
      "E:\\MestradoData\\preprocessed\\all\\09\\02*ir2* 30\n",
      "E:\\MestradoData\\preprocessed\\all\\09\\12*ir2* 30\n",
      "E:\\MestradoData\\preprocessed\\all\\09\\24*ir2* 30\n",
      "E:\\MestradoData\\preprocessed\\all\\09\\08*ir2* 30\n",
      "E:\\MestradoData\\preprocessed\\all\\09\\34*ir2* 30\n",
      "E:\\MestradoData\\preprocessed\\all\\09\\21*ir2* 30\n",
      "E:\\MestradoData\\preprocessed\\all\\09\\41*ir2* 30\n",
      "E:\\MestradoData\\preprocessed\\all\\09\\44*ir2* 30\n",
      "E:\\MestradoData\\preprocessed\\all\\09\\11*ir2* 27\n",
      "E:\\MestradoData\\preprocessed\\all\\09\\18*ir2* 0\n",
      "E:\\MestradoData\\preprocessed\\all\\09\\32*ir2* 30\n",
      "E:\\MestradoData\\preprocessed\\all\\09\\30*ir2* 30\n",
      "E:\\MestradoData\\preprocessed\\all\\09\\14*ir2* 30\n",
      "E:\\MestradoData\\preprocessed\\all\\09\\01*ir2* 30\n",
      "E:\\MestradoData\\preprocessed\\all\\09\\45*ir2* 30\n",
      "E:\\MestradoData\\preprocessed\\all\\09\\31*ir2* 30\n",
      "E:\\MestradoData\\preprocessed\\all\\09\\28*ir2* 30\n",
      "E:\\MestradoData\\preprocessed\\all\\09\\03*ir2* 30\n",
      "E:\\MestradoData\\preprocessed\\all\\09\\37*ir2* 0\n",
      "\n"
     ]
    },
    {
     "data": {
      "application/vnd.jupyter.widget-view+json": {
       "model_id": "70eaf179d329485fb2e71c2f208d9161",
       "version_major": 2,
       "version_minor": 0
      },
      "text/html": [
       "<p>Failed to display Jupyter Widget of type <code>HBox</code>.</p>\n",
       "<p>\n",
       "  If you're reading this message in the Jupyter Notebook or JupyterLab Notebook, it may mean\n",
       "  that the widgets JavaScript is still loading. If this message persists, it\n",
       "  likely means that the widgets JavaScript library is either not installed or\n",
       "  not enabled. See the <a href=\"https://ipywidgets.readthedocs.io/en/stable/user_install.html\">Jupyter\n",
       "  Widgets Documentation</a> for setup instructions.\n",
       "</p>\n",
       "<p>\n",
       "  If you're reading this message in another frontend (for example, a static\n",
       "  rendering on GitHub or <a href=\"https://nbviewer.jupyter.org/\">NBViewer</a>),\n",
       "  it may mean that your frontend doesn't currently support widgets.\n",
       "</p>\n"
      ],
      "text/plain": [
       "HBox(children=(IntProgress(value=0, max=9), HTML(value='')))"
      ]
     },
     "metadata": {},
     "output_type": "display_data"
    },
    {
     "name": "stdout",
     "output_type": "stream",
     "text": [
      "E:\\MestradoData\\preprocessed\\all\\09\\22*ir2* 30\n",
      "E:\\MestradoData\\preprocessed\\all\\09\\36*ir2* 0\n",
      "E:\\MestradoData\\preprocessed\\all\\09\\33*ir2* 30\n",
      "E:\\MestradoData\\preprocessed\\all\\09\\19*ir2* 30\n",
      "E:\\MestradoData\\preprocessed\\all\\09\\27*ir2* 30\n",
      "E:\\MestradoData\\preprocessed\\all\\09\\16*ir2* 30\n",
      "E:\\MestradoData\\preprocessed\\all\\09\\25*ir2* 30\n",
      "E:\\MestradoData\\preprocessed\\all\\09\\40*ir2* 30\n",
      "E:\\MestradoData\\preprocessed\\all\\09\\07*ir2* 30\n",
      "\n",
      "folders created !\n"
     ]
    },
    {
     "data": {
      "application/vnd.jupyter.widget-view+json": {
       "model_id": "a75418ca0a6b4d7c8547e0daccfe1711",
       "version_major": 2,
       "version_minor": 0
      },
      "text/html": [
       "<p>Failed to display Jupyter Widget of type <code>HBox</code>.</p>\n",
       "<p>\n",
       "  If you're reading this message in the Jupyter Notebook or JupyterLab Notebook, it may mean\n",
       "  that the widgets JavaScript is still loading. If this message persists, it\n",
       "  likely means that the widgets JavaScript library is either not installed or\n",
       "  not enabled. See the <a href=\"https://ipywidgets.readthedocs.io/en/stable/user_install.html\">Jupyter\n",
       "  Widgets Documentation</a> for setup instructions.\n",
       "</p>\n",
       "<p>\n",
       "  If you're reading this message in another frontend (for example, a static\n",
       "  rendering on GitHub or <a href=\"https://nbviewer.jupyter.org/\">NBViewer</a>),\n",
       "  it may mean that your frontend doesn't currently support widgets.\n",
       "</p>\n"
      ],
      "text/plain": [
       "HBox(children=(IntProgress(value=0, max=36), HTML(value='')))"
      ]
     },
     "metadata": {},
     "output_type": "display_data"
    },
    {
     "name": "stdout",
     "output_type": "stream",
     "text": [
      "E:\\MestradoData\\preprocessed\\all\\10\\23*ir2* 30\n",
      "E:\\MestradoData\\preprocessed\\all\\10\\04*ir2* 30\n",
      "E:\\MestradoData\\preprocessed\\all\\10\\38*ir2* 0\n",
      "E:\\MestradoData\\preprocessed\\all\\10\\42*ir2* 30\n",
      "E:\\MestradoData\\preprocessed\\all\\10\\17*ir2* 30\n",
      "E:\\MestradoData\\preprocessed\\all\\10\\35*ir2* 30\n",
      "E:\\MestradoData\\preprocessed\\all\\10\\29*ir2* 30\n",
      "E:\\MestradoData\\preprocessed\\all\\10\\06*ir2* 30\n",
      "E:\\MestradoData\\preprocessed\\all\\10\\15*ir2* 30\n",
      "E:\\MestradoData\\preprocessed\\all\\10\\09*ir2* 30\n",
      "E:\\MestradoData\\preprocessed\\all\\10\\10*ir2* 30\n",
      "E:\\MestradoData\\preprocessed\\all\\10\\26*ir2* 30\n",
      "E:\\MestradoData\\preprocessed\\all\\10\\13*ir2* 0\n",
      "E:\\MestradoData\\preprocessed\\all\\10\\43*ir2* 30\n",
      "E:\\MestradoData\\preprocessed\\all\\10\\20*ir2* 30\n",
      "E:\\MestradoData\\preprocessed\\all\\10\\05*ir2* 30\n",
      "E:\\MestradoData\\preprocessed\\all\\10\\39*ir2* 0\n",
      "E:\\MestradoData\\preprocessed\\all\\10\\02*ir2* 30\n",
      "E:\\MestradoData\\preprocessed\\all\\10\\12*ir2* 30\n",
      "E:\\MestradoData\\preprocessed\\all\\10\\24*ir2* 30\n",
      "E:\\MestradoData\\preprocessed\\all\\10\\08*ir2* 30\n",
      "E:\\MestradoData\\preprocessed\\all\\10\\34*ir2* 30\n",
      "E:\\MestradoData\\preprocessed\\all\\10\\21*ir2* 30\n",
      "E:\\MestradoData\\preprocessed\\all\\10\\41*ir2* 30\n",
      "E:\\MestradoData\\preprocessed\\all\\10\\44*ir2* 30\n",
      "E:\\MestradoData\\preprocessed\\all\\10\\11*ir2* 27\n",
      "E:\\MestradoData\\preprocessed\\all\\10\\18*ir2* 0\n",
      "E:\\MestradoData\\preprocessed\\all\\10\\32*ir2* 30\n",
      "E:\\MestradoData\\preprocessed\\all\\10\\30*ir2* 30\n",
      "E:\\MestradoData\\preprocessed\\all\\10\\14*ir2* 30\n",
      "E:\\MestradoData\\preprocessed\\all\\10\\01*ir2* 30\n",
      "E:\\MestradoData\\preprocessed\\all\\10\\45*ir2* 30\n",
      "E:\\MestradoData\\preprocessed\\all\\10\\31*ir2* 30\n",
      "E:\\MestradoData\\preprocessed\\all\\10\\28*ir2* 30\n",
      "E:\\MestradoData\\preprocessed\\all\\10\\03*ir2* 30\n",
      "E:\\MestradoData\\preprocessed\\all\\10\\37*ir2* 0\n",
      "\n"
     ]
    },
    {
     "data": {
      "application/vnd.jupyter.widget-view+json": {
       "model_id": "0422674433ff4f8f816b1011ec5397ab",
       "version_major": 2,
       "version_minor": 0
      },
      "text/html": [
       "<p>Failed to display Jupyter Widget of type <code>HBox</code>.</p>\n",
       "<p>\n",
       "  If you're reading this message in the Jupyter Notebook or JupyterLab Notebook, it may mean\n",
       "  that the widgets JavaScript is still loading. If this message persists, it\n",
       "  likely means that the widgets JavaScript library is either not installed or\n",
       "  not enabled. See the <a href=\"https://ipywidgets.readthedocs.io/en/stable/user_install.html\">Jupyter\n",
       "  Widgets Documentation</a> for setup instructions.\n",
       "</p>\n",
       "<p>\n",
       "  If you're reading this message in another frontend (for example, a static\n",
       "  rendering on GitHub or <a href=\"https://nbviewer.jupyter.org/\">NBViewer</a>),\n",
       "  it may mean that your frontend doesn't currently support widgets.\n",
       "</p>\n"
      ],
      "text/plain": [
       "HBox(children=(IntProgress(value=0, max=9), HTML(value='')))"
      ]
     },
     "metadata": {},
     "output_type": "display_data"
    },
    {
     "name": "stdout",
     "output_type": "stream",
     "text": [
      "E:\\MestradoData\\preprocessed\\all\\10\\22*ir2* 30\n",
      "E:\\MestradoData\\preprocessed\\all\\10\\36*ir2* 0\n",
      "E:\\MestradoData\\preprocessed\\all\\10\\33*ir2* 30\n",
      "E:\\MestradoData\\preprocessed\\all\\10\\19*ir2* 30\n",
      "E:\\MestradoData\\preprocessed\\all\\10\\27*ir2* 30\n",
      "E:\\MestradoData\\preprocessed\\all\\10\\16*ir2* 30\n",
      "E:\\MestradoData\\preprocessed\\all\\10\\25*ir2* 30\n",
      "E:\\MestradoData\\preprocessed\\all\\10\\40*ir2* 30\n",
      "E:\\MestradoData\\preprocessed\\all\\10\\07*ir2* 30\n",
      "\n",
      "folders created !\n"
     ]
    },
    {
     "data": {
      "application/vnd.jupyter.widget-view+json": {
       "model_id": "6634f78cd69a45c89db6bc59de62c974",
       "version_major": 2,
       "version_minor": 0
      },
      "text/html": [
       "<p>Failed to display Jupyter Widget of type <code>HBox</code>.</p>\n",
       "<p>\n",
       "  If you're reading this message in the Jupyter Notebook or JupyterLab Notebook, it may mean\n",
       "  that the widgets JavaScript is still loading. If this message persists, it\n",
       "  likely means that the widgets JavaScript library is either not installed or\n",
       "  not enabled. See the <a href=\"https://ipywidgets.readthedocs.io/en/stable/user_install.html\">Jupyter\n",
       "  Widgets Documentation</a> for setup instructions.\n",
       "</p>\n",
       "<p>\n",
       "  If you're reading this message in another frontend (for example, a static\n",
       "  rendering on GitHub or <a href=\"https://nbviewer.jupyter.org/\">NBViewer</a>),\n",
       "  it may mean that your frontend doesn't currently support widgets.\n",
       "</p>\n"
      ],
      "text/plain": [
       "HBox(children=(IntProgress(value=0, max=36), HTML(value='')))"
      ]
     },
     "metadata": {},
     "output_type": "display_data"
    },
    {
     "name": "stdout",
     "output_type": "stream",
     "text": [
      "E:\\MestradoData\\preprocessed\\all\\11\\23*ir2* 30\n",
      "E:\\MestradoData\\preprocessed\\all\\11\\04*ir2* 30\n",
      "E:\\MestradoData\\preprocessed\\all\\11\\38*ir2* 0\n",
      "E:\\MestradoData\\preprocessed\\all\\11\\42*ir2* 30\n",
      "E:\\MestradoData\\preprocessed\\all\\11\\17*ir2* 30\n",
      "E:\\MestradoData\\preprocessed\\all\\11\\35*ir2* 30\n",
      "E:\\MestradoData\\preprocessed\\all\\11\\29*ir2* 30\n",
      "E:\\MestradoData\\preprocessed\\all\\11\\06*ir2* 30\n",
      "E:\\MestradoData\\preprocessed\\all\\11\\15*ir2* 30\n",
      "E:\\MestradoData\\preprocessed\\all\\11\\09*ir2* 30\n",
      "E:\\MestradoData\\preprocessed\\all\\11\\10*ir2* 30\n",
      "E:\\MestradoData\\preprocessed\\all\\11\\26*ir2* 30\n",
      "E:\\MestradoData\\preprocessed\\all\\11\\13*ir2* 0\n",
      "E:\\MestradoData\\preprocessed\\all\\11\\43*ir2* 30\n",
      "E:\\MestradoData\\preprocessed\\all\\11\\20*ir2* 30\n",
      "E:\\MestradoData\\preprocessed\\all\\11\\05*ir2* 30\n",
      "E:\\MestradoData\\preprocessed\\all\\11\\39*ir2* 0\n",
      "E:\\MestradoData\\preprocessed\\all\\11\\02*ir2* 30\n",
      "E:\\MestradoData\\preprocessed\\all\\11\\12*ir2* 30\n",
      "E:\\MestradoData\\preprocessed\\all\\11\\24*ir2* 30\n",
      "E:\\MestradoData\\preprocessed\\all\\11\\08*ir2* 30\n",
      "E:\\MestradoData\\preprocessed\\all\\11\\34*ir2* 30\n",
      "E:\\MestradoData\\preprocessed\\all\\11\\21*ir2* 30\n",
      "E:\\MestradoData\\preprocessed\\all\\11\\41*ir2* 30\n",
      "E:\\MestradoData\\preprocessed\\all\\11\\44*ir2* 30\n",
      "E:\\MestradoData\\preprocessed\\all\\11\\11*ir2* 27\n",
      "E:\\MestradoData\\preprocessed\\all\\11\\18*ir2* 0\n",
      "E:\\MestradoData\\preprocessed\\all\\11\\32*ir2* 30\n",
      "E:\\MestradoData\\preprocessed\\all\\11\\30*ir2* 30\n",
      "E:\\MestradoData\\preprocessed\\all\\11\\14*ir2* 30\n",
      "E:\\MestradoData\\preprocessed\\all\\11\\01*ir2* 30\n",
      "E:\\MestradoData\\preprocessed\\all\\11\\45*ir2* 30\n",
      "E:\\MestradoData\\preprocessed\\all\\11\\31*ir2* 30\n",
      "E:\\MestradoData\\preprocessed\\all\\11\\28*ir2* 30\n",
      "E:\\MestradoData\\preprocessed\\all\\11\\03*ir2* 30\n",
      "E:\\MestradoData\\preprocessed\\all\\11\\37*ir2* 0\n",
      "\n"
     ]
    },
    {
     "data": {
      "application/vnd.jupyter.widget-view+json": {
       "model_id": "d582019921164befb022e18e2e5dc945",
       "version_major": 2,
       "version_minor": 0
      },
      "text/html": [
       "<p>Failed to display Jupyter Widget of type <code>HBox</code>.</p>\n",
       "<p>\n",
       "  If you're reading this message in the Jupyter Notebook or JupyterLab Notebook, it may mean\n",
       "  that the widgets JavaScript is still loading. If this message persists, it\n",
       "  likely means that the widgets JavaScript library is either not installed or\n",
       "  not enabled. See the <a href=\"https://ipywidgets.readthedocs.io/en/stable/user_install.html\">Jupyter\n",
       "  Widgets Documentation</a> for setup instructions.\n",
       "</p>\n",
       "<p>\n",
       "  If you're reading this message in another frontend (for example, a static\n",
       "  rendering on GitHub or <a href=\"https://nbviewer.jupyter.org/\">NBViewer</a>),\n",
       "  it may mean that your frontend doesn't currently support widgets.\n",
       "</p>\n"
      ],
      "text/plain": [
       "HBox(children=(IntProgress(value=0, max=9), HTML(value='')))"
      ]
     },
     "metadata": {},
     "output_type": "display_data"
    },
    {
     "name": "stdout",
     "output_type": "stream",
     "text": [
      "E:\\MestradoData\\preprocessed\\all\\11\\22*ir2* 30\n",
      "E:\\MestradoData\\preprocessed\\all\\11\\36*ir2* 0\n",
      "E:\\MestradoData\\preprocessed\\all\\11\\33*ir2* 30\n",
      "E:\\MestradoData\\preprocessed\\all\\11\\19*ir2* 30\n",
      "E:\\MestradoData\\preprocessed\\all\\11\\27*ir2* 30\n",
      "E:\\MestradoData\\preprocessed\\all\\11\\16*ir2* 30\n",
      "E:\\MestradoData\\preprocessed\\all\\11\\25*ir2* 30\n",
      "E:\\MestradoData\\preprocessed\\all\\11\\40*ir2* 30\n",
      "E:\\MestradoData\\preprocessed\\all\\11\\07*ir2* 30\n",
      "\n",
      "folders created !\n"
     ]
    },
    {
     "data": {
      "application/vnd.jupyter.widget-view+json": {
       "model_id": "b5a8648066a74b2cae392f34416ce0c5",
       "version_major": 2,
       "version_minor": 0
      },
      "text/html": [
       "<p>Failed to display Jupyter Widget of type <code>HBox</code>.</p>\n",
       "<p>\n",
       "  If you're reading this message in the Jupyter Notebook or JupyterLab Notebook, it may mean\n",
       "  that the widgets JavaScript is still loading. If this message persists, it\n",
       "  likely means that the widgets JavaScript library is either not installed or\n",
       "  not enabled. See the <a href=\"https://ipywidgets.readthedocs.io/en/stable/user_install.html\">Jupyter\n",
       "  Widgets Documentation</a> for setup instructions.\n",
       "</p>\n",
       "<p>\n",
       "  If you're reading this message in another frontend (for example, a static\n",
       "  rendering on GitHub or <a href=\"https://nbviewer.jupyter.org/\">NBViewer</a>),\n",
       "  it may mean that your frontend doesn't currently support widgets.\n",
       "</p>\n"
      ],
      "text/plain": [
       "HBox(children=(IntProgress(value=0, max=36), HTML(value='')))"
      ]
     },
     "metadata": {},
     "output_type": "display_data"
    },
    {
     "name": "stdout",
     "output_type": "stream",
     "text": [
      "E:\\MestradoData\\preprocessed\\all\\12\\23*ir2* 30\n",
      "E:\\MestradoData\\preprocessed\\all\\12\\04*ir2* 30\n",
      "E:\\MestradoData\\preprocessed\\all\\12\\38*ir2* 0\n",
      "E:\\MestradoData\\preprocessed\\all\\12\\42*ir2* 30\n",
      "E:\\MestradoData\\preprocessed\\all\\12\\17*ir2* 30\n",
      "E:\\MestradoData\\preprocessed\\all\\12\\35*ir2* 30\n",
      "E:\\MestradoData\\preprocessed\\all\\12\\29*ir2* 30\n",
      "E:\\MestradoData\\preprocessed\\all\\12\\06*ir2* 30\n",
      "E:\\MestradoData\\preprocessed\\all\\12\\15*ir2* 30\n",
      "E:\\MestradoData\\preprocessed\\all\\12\\09*ir2* 30\n",
      "E:\\MestradoData\\preprocessed\\all\\12\\10*ir2* 30\n",
      "E:\\MestradoData\\preprocessed\\all\\12\\26*ir2* 30\n",
      "E:\\MestradoData\\preprocessed\\all\\12\\13*ir2* 0\n",
      "E:\\MestradoData\\preprocessed\\all\\12\\43*ir2* 30\n",
      "E:\\MestradoData\\preprocessed\\all\\12\\20*ir2* 30\n",
      "E:\\MestradoData\\preprocessed\\all\\12\\05*ir2* 30\n",
      "E:\\MestradoData\\preprocessed\\all\\12\\39*ir2* 0\n",
      "E:\\MestradoData\\preprocessed\\all\\12\\02*ir2* 30\n",
      "E:\\MestradoData\\preprocessed\\all\\12\\12*ir2* 30\n",
      "E:\\MestradoData\\preprocessed\\all\\12\\24*ir2* 30\n",
      "E:\\MestradoData\\preprocessed\\all\\12\\08*ir2* 30\n",
      "E:\\MestradoData\\preprocessed\\all\\12\\34*ir2* 30\n",
      "E:\\MestradoData\\preprocessed\\all\\12\\21*ir2* 30\n",
      "E:\\MestradoData\\preprocessed\\all\\12\\41*ir2* 30\n",
      "E:\\MestradoData\\preprocessed\\all\\12\\44*ir2* 30\n",
      "E:\\MestradoData\\preprocessed\\all\\12\\11*ir2* 27\n",
      "E:\\MestradoData\\preprocessed\\all\\12\\18*ir2* 0\n",
      "E:\\MestradoData\\preprocessed\\all\\12\\32*ir2* 30\n",
      "E:\\MestradoData\\preprocessed\\all\\12\\30*ir2* 30\n",
      "E:\\MestradoData\\preprocessed\\all\\12\\14*ir2* 30\n",
      "E:\\MestradoData\\preprocessed\\all\\12\\01*ir2* 30\n",
      "E:\\MestradoData\\preprocessed\\all\\12\\45*ir2* 30\n",
      "E:\\MestradoData\\preprocessed\\all\\12\\31*ir2* 30\n",
      "E:\\MestradoData\\preprocessed\\all\\12\\28*ir2* 30\n",
      "E:\\MestradoData\\preprocessed\\all\\12\\03*ir2* 30\n",
      "E:\\MestradoData\\preprocessed\\all\\12\\37*ir2* 0\n",
      "\n"
     ]
    },
    {
     "data": {
      "application/vnd.jupyter.widget-view+json": {
       "model_id": "8e67e89d5c204838a0118fa743063371",
       "version_major": 2,
       "version_minor": 0
      },
      "text/html": [
       "<p>Failed to display Jupyter Widget of type <code>HBox</code>.</p>\n",
       "<p>\n",
       "  If you're reading this message in the Jupyter Notebook or JupyterLab Notebook, it may mean\n",
       "  that the widgets JavaScript is still loading. If this message persists, it\n",
       "  likely means that the widgets JavaScript library is either not installed or\n",
       "  not enabled. See the <a href=\"https://ipywidgets.readthedocs.io/en/stable/user_install.html\">Jupyter\n",
       "  Widgets Documentation</a> for setup instructions.\n",
       "</p>\n",
       "<p>\n",
       "  If you're reading this message in another frontend (for example, a static\n",
       "  rendering on GitHub or <a href=\"https://nbviewer.jupyter.org/\">NBViewer</a>),\n",
       "  it may mean that your frontend doesn't currently support widgets.\n",
       "</p>\n"
      ],
      "text/plain": [
       "HBox(children=(IntProgress(value=0, max=9), HTML(value='')))"
      ]
     },
     "metadata": {},
     "output_type": "display_data"
    },
    {
     "name": "stdout",
     "output_type": "stream",
     "text": [
      "E:\\MestradoData\\preprocessed\\all\\12\\22*ir2* 30\n",
      "E:\\MestradoData\\preprocessed\\all\\12\\36*ir2* 0\n",
      "E:\\MestradoData\\preprocessed\\all\\12\\33*ir2* 30\n",
      "E:\\MestradoData\\preprocessed\\all\\12\\19*ir2* 30\n",
      "E:\\MestradoData\\preprocessed\\all\\12\\27*ir2* 30\n",
      "E:\\MestradoData\\preprocessed\\all\\12\\16*ir2* 30\n",
      "E:\\MestradoData\\preprocessed\\all\\12\\25*ir2* 30\n",
      "E:\\MestradoData\\preprocessed\\all\\12\\40*ir2* 30\n",
      "E:\\MestradoData\\preprocessed\\all\\12\\07*ir2* 30\n",
      "\n",
      "folders created !\n"
     ]
    },
    {
     "data": {
      "application/vnd.jupyter.widget-view+json": {
       "model_id": "3a743c3f9ced462a85f53f78e51ca96b",
       "version_major": 2,
       "version_minor": 0
      },
      "text/html": [
       "<p>Failed to display Jupyter Widget of type <code>HBox</code>.</p>\n",
       "<p>\n",
       "  If you're reading this message in the Jupyter Notebook or JupyterLab Notebook, it may mean\n",
       "  that the widgets JavaScript is still loading. If this message persists, it\n",
       "  likely means that the widgets JavaScript library is either not installed or\n",
       "  not enabled. See the <a href=\"https://ipywidgets.readthedocs.io/en/stable/user_install.html\">Jupyter\n",
       "  Widgets Documentation</a> for setup instructions.\n",
       "</p>\n",
       "<p>\n",
       "  If you're reading this message in another frontend (for example, a static\n",
       "  rendering on GitHub or <a href=\"https://nbviewer.jupyter.org/\">NBViewer</a>),\n",
       "  it may mean that your frontend doesn't currently support widgets.\n",
       "</p>\n"
      ],
      "text/plain": [
       "HBox(children=(IntProgress(value=0, max=36), HTML(value='')))"
      ]
     },
     "metadata": {},
     "output_type": "display_data"
    },
    {
     "name": "stdout",
     "output_type": "stream",
     "text": [
      "E:\\MestradoData\\preprocessed\\all\\13\\23*ir2* 30\n",
      "E:\\MestradoData\\preprocessed\\all\\13\\04*ir2* 30\n",
      "E:\\MestradoData\\preprocessed\\all\\13\\38*ir2* 0\n",
      "E:\\MestradoData\\preprocessed\\all\\13\\42*ir2* 30\n",
      "E:\\MestradoData\\preprocessed\\all\\13\\17*ir2* 30\n",
      "E:\\MestradoData\\preprocessed\\all\\13\\35*ir2* 30\n",
      "E:\\MestradoData\\preprocessed\\all\\13\\29*ir2* 30\n",
      "E:\\MestradoData\\preprocessed\\all\\13\\06*ir2* 30\n",
      "E:\\MestradoData\\preprocessed\\all\\13\\15*ir2* 30\n",
      "E:\\MestradoData\\preprocessed\\all\\13\\09*ir2* 30\n",
      "E:\\MestradoData\\preprocessed\\all\\13\\10*ir2* 30\n",
      "E:\\MestradoData\\preprocessed\\all\\13\\26*ir2* 30\n",
      "E:\\MestradoData\\preprocessed\\all\\13\\13*ir2* 0\n",
      "E:\\MestradoData\\preprocessed\\all\\13\\43*ir2* 30\n",
      "E:\\MestradoData\\preprocessed\\all\\13\\20*ir2* 30\n",
      "E:\\MestradoData\\preprocessed\\all\\13\\05*ir2* 30\n",
      "E:\\MestradoData\\preprocessed\\all\\13\\39*ir2* 0\n",
      "E:\\MestradoData\\preprocessed\\all\\13\\02*ir2* 30\n",
      "E:\\MestradoData\\preprocessed\\all\\13\\12*ir2* 30\n",
      "E:\\MestradoData\\preprocessed\\all\\13\\24*ir2* 30\n",
      "E:\\MestradoData\\preprocessed\\all\\13\\08*ir2* 30\n",
      "E:\\MestradoData\\preprocessed\\all\\13\\34*ir2* 30\n",
      "E:\\MestradoData\\preprocessed\\all\\13\\21*ir2* 30\n",
      "E:\\MestradoData\\preprocessed\\all\\13\\41*ir2* 30\n",
      "E:\\MestradoData\\preprocessed\\all\\13\\44*ir2* 30\n",
      "E:\\MestradoData\\preprocessed\\all\\13\\11*ir2* 27\n",
      "E:\\MestradoData\\preprocessed\\all\\13\\18*ir2* 0\n",
      "E:\\MestradoData\\preprocessed\\all\\13\\32*ir2* 30\n",
      "E:\\MestradoData\\preprocessed\\all\\13\\30*ir2* 30\n",
      "E:\\MestradoData\\preprocessed\\all\\13\\14*ir2* 30\n",
      "E:\\MestradoData\\preprocessed\\all\\13\\01*ir2* 30\n",
      "E:\\MestradoData\\preprocessed\\all\\13\\45*ir2* 30\n",
      "E:\\MestradoData\\preprocessed\\all\\13\\31*ir2* 30\n",
      "E:\\MestradoData\\preprocessed\\all\\13\\28*ir2* 30\n",
      "E:\\MestradoData\\preprocessed\\all\\13\\03*ir2* 30\n",
      "E:\\MestradoData\\preprocessed\\all\\13\\37*ir2* 0\n",
      "\n"
     ]
    },
    {
     "data": {
      "application/vnd.jupyter.widget-view+json": {
       "model_id": "c041db2034024f509d74425ef02a988f",
       "version_major": 2,
       "version_minor": 0
      },
      "text/html": [
       "<p>Failed to display Jupyter Widget of type <code>HBox</code>.</p>\n",
       "<p>\n",
       "  If you're reading this message in the Jupyter Notebook or JupyterLab Notebook, it may mean\n",
       "  that the widgets JavaScript is still loading. If this message persists, it\n",
       "  likely means that the widgets JavaScript library is either not installed or\n",
       "  not enabled. See the <a href=\"https://ipywidgets.readthedocs.io/en/stable/user_install.html\">Jupyter\n",
       "  Widgets Documentation</a> for setup instructions.\n",
       "</p>\n",
       "<p>\n",
       "  If you're reading this message in another frontend (for example, a static\n",
       "  rendering on GitHub or <a href=\"https://nbviewer.jupyter.org/\">NBViewer</a>),\n",
       "  it may mean that your frontend doesn't currently support widgets.\n",
       "</p>\n"
      ],
      "text/plain": [
       "HBox(children=(IntProgress(value=0, max=9), HTML(value='')))"
      ]
     },
     "metadata": {},
     "output_type": "display_data"
    },
    {
     "name": "stdout",
     "output_type": "stream",
     "text": [
      "E:\\MestradoData\\preprocessed\\all\\13\\22*ir2* 30\n",
      "E:\\MestradoData\\preprocessed\\all\\13\\36*ir2* 0\n",
      "E:\\MestradoData\\preprocessed\\all\\13\\33*ir2* 30\n",
      "E:\\MestradoData\\preprocessed\\all\\13\\19*ir2* 30\n",
      "E:\\MestradoData\\preprocessed\\all\\13\\27*ir2* 30\n",
      "E:\\MestradoData\\preprocessed\\all\\13\\16*ir2* 30\n",
      "E:\\MestradoData\\preprocessed\\all\\13\\25*ir2* 30\n",
      "E:\\MestradoData\\preprocessed\\all\\13\\40*ir2* 30\n",
      "E:\\MestradoData\\preprocessed\\all\\13\\07*ir2* 30\n",
      "\n",
      "folders created !\n"
     ]
    },
    {
     "data": {
      "application/vnd.jupyter.widget-view+json": {
       "model_id": "95af5fcb39174451bddfe8b33a3858e3",
       "version_major": 2,
       "version_minor": 0
      },
      "text/html": [
       "<p>Failed to display Jupyter Widget of type <code>HBox</code>.</p>\n",
       "<p>\n",
       "  If you're reading this message in the Jupyter Notebook or JupyterLab Notebook, it may mean\n",
       "  that the widgets JavaScript is still loading. If this message persists, it\n",
       "  likely means that the widgets JavaScript library is either not installed or\n",
       "  not enabled. See the <a href=\"https://ipywidgets.readthedocs.io/en/stable/user_install.html\">Jupyter\n",
       "  Widgets Documentation</a> for setup instructions.\n",
       "</p>\n",
       "<p>\n",
       "  If you're reading this message in another frontend (for example, a static\n",
       "  rendering on GitHub or <a href=\"https://nbviewer.jupyter.org/\">NBViewer</a>),\n",
       "  it may mean that your frontend doesn't currently support widgets.\n",
       "</p>\n"
      ],
      "text/plain": [
       "HBox(children=(IntProgress(value=0, max=36), HTML(value='')))"
      ]
     },
     "metadata": {},
     "output_type": "display_data"
    },
    {
     "name": "stdout",
     "output_type": "stream",
     "text": [
      "E:\\MestradoData\\preprocessed\\all\\14\\23*ir2* 30\n",
      "E:\\MestradoData\\preprocessed\\all\\14\\04*ir2* 30\n",
      "E:\\MestradoData\\preprocessed\\all\\14\\38*ir2* 0\n",
      "E:\\MestradoData\\preprocessed\\all\\14\\42*ir2* 30\n",
      "E:\\MestradoData\\preprocessed\\all\\14\\17*ir2* 30\n",
      "E:\\MestradoData\\preprocessed\\all\\14\\35*ir2* 30\n",
      "E:\\MestradoData\\preprocessed\\all\\14\\29*ir2* 30\n",
      "E:\\MestradoData\\preprocessed\\all\\14\\06*ir2* 30\n",
      "E:\\MestradoData\\preprocessed\\all\\14\\15*ir2* 30\n",
      "E:\\MestradoData\\preprocessed\\all\\14\\09*ir2* 30\n",
      "E:\\MestradoData\\preprocessed\\all\\14\\10*ir2* 30\n",
      "E:\\MestradoData\\preprocessed\\all\\14\\26*ir2* 30\n",
      "E:\\MestradoData\\preprocessed\\all\\14\\13*ir2* 0\n",
      "E:\\MestradoData\\preprocessed\\all\\14\\43*ir2* 30\n",
      "E:\\MestradoData\\preprocessed\\all\\14\\20*ir2* 30\n",
      "E:\\MestradoData\\preprocessed\\all\\14\\05*ir2* 30\n",
      "E:\\MestradoData\\preprocessed\\all\\14\\39*ir2* 0\n",
      "E:\\MestradoData\\preprocessed\\all\\14\\02*ir2* 30\n",
      "E:\\MestradoData\\preprocessed\\all\\14\\12*ir2* 30\n",
      "E:\\MestradoData\\preprocessed\\all\\14\\24*ir2* 30\n",
      "E:\\MestradoData\\preprocessed\\all\\14\\08*ir2* 30\n",
      "E:\\MestradoData\\preprocessed\\all\\14\\34*ir2* 30\n",
      "E:\\MestradoData\\preprocessed\\all\\14\\21*ir2* 30\n",
      "E:\\MestradoData\\preprocessed\\all\\14\\41*ir2* 30\n",
      "E:\\MestradoData\\preprocessed\\all\\14\\44*ir2* 30\n",
      "E:\\MestradoData\\preprocessed\\all\\14\\11*ir2* 27\n",
      "E:\\MestradoData\\preprocessed\\all\\14\\18*ir2* 0\n",
      "E:\\MestradoData\\preprocessed\\all\\14\\32*ir2* 30\n",
      "E:\\MestradoData\\preprocessed\\all\\14\\30*ir2* 30\n",
      "E:\\MestradoData\\preprocessed\\all\\14\\14*ir2* 30\n",
      "E:\\MestradoData\\preprocessed\\all\\14\\01*ir2* 30\n",
      "E:\\MestradoData\\preprocessed\\all\\14\\45*ir2* 30\n",
      "E:\\MestradoData\\preprocessed\\all\\14\\31*ir2* 30\n",
      "E:\\MestradoData\\preprocessed\\all\\14\\28*ir2* 30\n",
      "E:\\MestradoData\\preprocessed\\all\\14\\03*ir2* 30\n",
      "E:\\MestradoData\\preprocessed\\all\\14\\37*ir2* 0\n",
      "\n"
     ]
    },
    {
     "data": {
      "application/vnd.jupyter.widget-view+json": {
       "model_id": "f319b3624c7e47c3b2cb49345b9d4d4d",
       "version_major": 2,
       "version_minor": 0
      },
      "text/html": [
       "<p>Failed to display Jupyter Widget of type <code>HBox</code>.</p>\n",
       "<p>\n",
       "  If you're reading this message in the Jupyter Notebook or JupyterLab Notebook, it may mean\n",
       "  that the widgets JavaScript is still loading. If this message persists, it\n",
       "  likely means that the widgets JavaScript library is either not installed or\n",
       "  not enabled. See the <a href=\"https://ipywidgets.readthedocs.io/en/stable/user_install.html\">Jupyter\n",
       "  Widgets Documentation</a> for setup instructions.\n",
       "</p>\n",
       "<p>\n",
       "  If you're reading this message in another frontend (for example, a static\n",
       "  rendering on GitHub or <a href=\"https://nbviewer.jupyter.org/\">NBViewer</a>),\n",
       "  it may mean that your frontend doesn't currently support widgets.\n",
       "</p>\n"
      ],
      "text/plain": [
       "HBox(children=(IntProgress(value=0, max=9), HTML(value='')))"
      ]
     },
     "metadata": {},
     "output_type": "display_data"
    },
    {
     "name": "stdout",
     "output_type": "stream",
     "text": [
      "E:\\MestradoData\\preprocessed\\all\\14\\22*ir2* 30\n",
      "E:\\MestradoData\\preprocessed\\all\\14\\36*ir2* 0\n",
      "E:\\MestradoData\\preprocessed\\all\\14\\33*ir2* 0\n",
      "E:\\MestradoData\\preprocessed\\all\\14\\19*ir2* 30\n",
      "E:\\MestradoData\\preprocessed\\all\\14\\27*ir2* 30\n",
      "E:\\MestradoData\\preprocessed\\all\\14\\16*ir2* 30\n",
      "E:\\MestradoData\\preprocessed\\all\\14\\25*ir2* 30\n",
      "E:\\MestradoData\\preprocessed\\all\\14\\40*ir2* 30\n",
      "E:\\MestradoData\\preprocessed\\all\\14\\07*ir2* 30\n",
      "\n",
      "folders created !\n"
     ]
    },
    {
     "data": {
      "application/vnd.jupyter.widget-view+json": {
       "model_id": "daaef70493524ae884ae04c255eff9e7",
       "version_major": 2,
       "version_minor": 0
      },
      "text/html": [
       "<p>Failed to display Jupyter Widget of type <code>HBox</code>.</p>\n",
       "<p>\n",
       "  If you're reading this message in the Jupyter Notebook or JupyterLab Notebook, it may mean\n",
       "  that the widgets JavaScript is still loading. If this message persists, it\n",
       "  likely means that the widgets JavaScript library is either not installed or\n",
       "  not enabled. See the <a href=\"https://ipywidgets.readthedocs.io/en/stable/user_install.html\">Jupyter\n",
       "  Widgets Documentation</a> for setup instructions.\n",
       "</p>\n",
       "<p>\n",
       "  If you're reading this message in another frontend (for example, a static\n",
       "  rendering on GitHub or <a href=\"https://nbviewer.jupyter.org/\">NBViewer</a>),\n",
       "  it may mean that your frontend doesn't currently support widgets.\n",
       "</p>\n"
      ],
      "text/plain": [
       "HBox(children=(IntProgress(value=0, max=36), HTML(value='')))"
      ]
     },
     "metadata": {},
     "output_type": "display_data"
    },
    {
     "name": "stdout",
     "output_type": "stream",
     "text": [
      "E:\\MestradoData\\preprocessed\\all\\15\\23*ir2* 30\n",
      "E:\\MestradoData\\preprocessed\\all\\15\\04*ir2* 30\n",
      "E:\\MestradoData\\preprocessed\\all\\15\\38*ir2* 0\n",
      "E:\\MestradoData\\preprocessed\\all\\15\\42*ir2* 30\n",
      "E:\\MestradoData\\preprocessed\\all\\15\\17*ir2* 30\n",
      "E:\\MestradoData\\preprocessed\\all\\15\\35*ir2* 30\n",
      "E:\\MestradoData\\preprocessed\\all\\15\\29*ir2* 30\n",
      "E:\\MestradoData\\preprocessed\\all\\15\\06*ir2* 30\n",
      "E:\\MestradoData\\preprocessed\\all\\15\\15*ir2* 30\n",
      "E:\\MestradoData\\preprocessed\\all\\15\\09*ir2* 30\n",
      "E:\\MestradoData\\preprocessed\\all\\15\\10*ir2* 30\n",
      "E:\\MestradoData\\preprocessed\\all\\15\\26*ir2* 30\n",
      "E:\\MestradoData\\preprocessed\\all\\15\\13*ir2* 0\n",
      "E:\\MestradoData\\preprocessed\\all\\15\\43*ir2* 30\n",
      "E:\\MestradoData\\preprocessed\\all\\15\\20*ir2* 30\n",
      "E:\\MestradoData\\preprocessed\\all\\15\\05*ir2* 0\n",
      "E:\\MestradoData\\preprocessed\\all\\15\\39*ir2* 0\n",
      "E:\\MestradoData\\preprocessed\\all\\15\\02*ir2* 30\n",
      "E:\\MestradoData\\preprocessed\\all\\15\\12*ir2* 30\n",
      "E:\\MestradoData\\preprocessed\\all\\15\\24*ir2* 30\n",
      "E:\\MestradoData\\preprocessed\\all\\15\\08*ir2* 30\n",
      "E:\\MestradoData\\preprocessed\\all\\15\\34*ir2* 30\n",
      "E:\\MestradoData\\preprocessed\\all\\15\\21*ir2* 30\n",
      "E:\\MestradoData\\preprocessed\\all\\15\\41*ir2* 30\n",
      "E:\\MestradoData\\preprocessed\\all\\15\\44*ir2* 30\n",
      "E:\\MestradoData\\preprocessed\\all\\15\\11*ir2* 27\n",
      "E:\\MestradoData\\preprocessed\\all\\15\\18*ir2* 0\n",
      "E:\\MestradoData\\preprocessed\\all\\15\\32*ir2* 30\n",
      "E:\\MestradoData\\preprocessed\\all\\15\\30*ir2* 30\n",
      "E:\\MestradoData\\preprocessed\\all\\15\\14*ir2* 30\n",
      "E:\\MestradoData\\preprocessed\\all\\15\\01*ir2* 30\n",
      "E:\\MestradoData\\preprocessed\\all\\15\\45*ir2* 30\n",
      "E:\\MestradoData\\preprocessed\\all\\15\\31*ir2* 30\n",
      "E:\\MestradoData\\preprocessed\\all\\15\\28*ir2* 30\n",
      "E:\\MestradoData\\preprocessed\\all\\15\\03*ir2* 30\n",
      "E:\\MestradoData\\preprocessed\\all\\15\\37*ir2* 0\n",
      "\n"
     ]
    },
    {
     "data": {
      "application/vnd.jupyter.widget-view+json": {
       "model_id": "690c8e07a9d146849dd988841f680e79",
       "version_major": 2,
       "version_minor": 0
      },
      "text/html": [
       "<p>Failed to display Jupyter Widget of type <code>HBox</code>.</p>\n",
       "<p>\n",
       "  If you're reading this message in the Jupyter Notebook or JupyterLab Notebook, it may mean\n",
       "  that the widgets JavaScript is still loading. If this message persists, it\n",
       "  likely means that the widgets JavaScript library is either not installed or\n",
       "  not enabled. See the <a href=\"https://ipywidgets.readthedocs.io/en/stable/user_install.html\">Jupyter\n",
       "  Widgets Documentation</a> for setup instructions.\n",
       "</p>\n",
       "<p>\n",
       "  If you're reading this message in another frontend (for example, a static\n",
       "  rendering on GitHub or <a href=\"https://nbviewer.jupyter.org/\">NBViewer</a>),\n",
       "  it may mean that your frontend doesn't currently support widgets.\n",
       "</p>\n"
      ],
      "text/plain": [
       "HBox(children=(IntProgress(value=0, max=9), HTML(value='')))"
      ]
     },
     "metadata": {},
     "output_type": "display_data"
    },
    {
     "name": "stdout",
     "output_type": "stream",
     "text": [
      "E:\\MestradoData\\preprocessed\\all\\15\\22*ir2* 30\n",
      "E:\\MestradoData\\preprocessed\\all\\15\\36*ir2* 0\n",
      "E:\\MestradoData\\preprocessed\\all\\15\\33*ir2* 30\n",
      "E:\\MestradoData\\preprocessed\\all\\15\\19*ir2* 30\n",
      "E:\\MestradoData\\preprocessed\\all\\15\\27*ir2* 30\n",
      "E:\\MestradoData\\preprocessed\\all\\15\\16*ir2* 30\n",
      "E:\\MestradoData\\preprocessed\\all\\15\\25*ir2* 30\n",
      "E:\\MestradoData\\preprocessed\\all\\15\\40*ir2* 30\n",
      "E:\\MestradoData\\preprocessed\\all\\15\\07*ir2* 30\n",
      "\n",
      "folders created !\n"
     ]
    },
    {
     "data": {
      "application/vnd.jupyter.widget-view+json": {
       "model_id": "8adf7d197ad94223aa7b9273f91069f7",
       "version_major": 2,
       "version_minor": 0
      },
      "text/html": [
       "<p>Failed to display Jupyter Widget of type <code>HBox</code>.</p>\n",
       "<p>\n",
       "  If you're reading this message in the Jupyter Notebook or JupyterLab Notebook, it may mean\n",
       "  that the widgets JavaScript is still loading. If this message persists, it\n",
       "  likely means that the widgets JavaScript library is either not installed or\n",
       "  not enabled. See the <a href=\"https://ipywidgets.readthedocs.io/en/stable/user_install.html\">Jupyter\n",
       "  Widgets Documentation</a> for setup instructions.\n",
       "</p>\n",
       "<p>\n",
       "  If you're reading this message in another frontend (for example, a static\n",
       "  rendering on GitHub or <a href=\"https://nbviewer.jupyter.org/\">NBViewer</a>),\n",
       "  it may mean that your frontend doesn't currently support widgets.\n",
       "</p>\n"
      ],
      "text/plain": [
       "HBox(children=(IntProgress(value=0, max=36), HTML(value='')))"
      ]
     },
     "metadata": {},
     "output_type": "display_data"
    },
    {
     "name": "stdout",
     "output_type": "stream",
     "text": [
      "E:\\MestradoData\\preprocessed\\all\\16\\23*ir2* 30\n",
      "E:\\MestradoData\\preprocessed\\all\\16\\04*ir2* 30\n",
      "E:\\MestradoData\\preprocessed\\all\\16\\38*ir2* 0\n",
      "E:\\MestradoData\\preprocessed\\all\\16\\42*ir2* 30\n",
      "E:\\MestradoData\\preprocessed\\all\\16\\17*ir2* 30\n",
      "E:\\MestradoData\\preprocessed\\all\\16\\35*ir2* 30\n",
      "E:\\MestradoData\\preprocessed\\all\\16\\29*ir2* 30\n",
      "E:\\MestradoData\\preprocessed\\all\\16\\06*ir2* 30\n",
      "E:\\MestradoData\\preprocessed\\all\\16\\15*ir2* 30\n",
      "E:\\MestradoData\\preprocessed\\all\\16\\09*ir2* 30\n",
      "E:\\MestradoData\\preprocessed\\all\\16\\10*ir2* 30\n",
      "E:\\MestradoData\\preprocessed\\all\\16\\26*ir2* 30\n",
      "E:\\MestradoData\\preprocessed\\all\\16\\13*ir2* 0\n",
      "E:\\MestradoData\\preprocessed\\all\\16\\43*ir2* 30\n",
      "E:\\MestradoData\\preprocessed\\all\\16\\20*ir2* 30\n",
      "E:\\MestradoData\\preprocessed\\all\\16\\05*ir2* 30\n",
      "E:\\MestradoData\\preprocessed\\all\\16\\39*ir2* 0\n",
      "E:\\MestradoData\\preprocessed\\all\\16\\02*ir2* 30\n",
      "E:\\MestradoData\\preprocessed\\all\\16\\12*ir2* 30\n",
      "E:\\MestradoData\\preprocessed\\all\\16\\24*ir2* 30\n",
      "E:\\MestradoData\\preprocessed\\all\\16\\08*ir2* 30\n",
      "E:\\MestradoData\\preprocessed\\all\\16\\34*ir2* 30\n",
      "E:\\MestradoData\\preprocessed\\all\\16\\21*ir2* 30\n",
      "E:\\MestradoData\\preprocessed\\all\\16\\41*ir2* 30\n",
      "E:\\MestradoData\\preprocessed\\all\\16\\44*ir2* 30\n",
      "E:\\MestradoData\\preprocessed\\all\\16\\11*ir2* 27\n",
      "E:\\MestradoData\\preprocessed\\all\\16\\18*ir2* 0\n",
      "E:\\MestradoData\\preprocessed\\all\\16\\32*ir2* 30\n",
      "E:\\MestradoData\\preprocessed\\all\\16\\30*ir2* 30\n",
      "E:\\MestradoData\\preprocessed\\all\\16\\14*ir2* 30\n",
      "E:\\MestradoData\\preprocessed\\all\\16\\01*ir2* 30\n",
      "E:\\MestradoData\\preprocessed\\all\\16\\45*ir2* 30\n",
      "E:\\MestradoData\\preprocessed\\all\\16\\31*ir2* 30\n",
      "E:\\MestradoData\\preprocessed\\all\\16\\28*ir2* 30\n",
      "E:\\MestradoData\\preprocessed\\all\\16\\03*ir2* 30\n",
      "E:\\MestradoData\\preprocessed\\all\\16\\37*ir2* 0\n",
      "\n"
     ]
    },
    {
     "data": {
      "application/vnd.jupyter.widget-view+json": {
       "model_id": "42b8858ac1874eb8ac40fa315bc6e2b2",
       "version_major": 2,
       "version_minor": 0
      },
      "text/html": [
       "<p>Failed to display Jupyter Widget of type <code>HBox</code>.</p>\n",
       "<p>\n",
       "  If you're reading this message in the Jupyter Notebook or JupyterLab Notebook, it may mean\n",
       "  that the widgets JavaScript is still loading. If this message persists, it\n",
       "  likely means that the widgets JavaScript library is either not installed or\n",
       "  not enabled. See the <a href=\"https://ipywidgets.readthedocs.io/en/stable/user_install.html\">Jupyter\n",
       "  Widgets Documentation</a> for setup instructions.\n",
       "</p>\n",
       "<p>\n",
       "  If you're reading this message in another frontend (for example, a static\n",
       "  rendering on GitHub or <a href=\"https://nbviewer.jupyter.org/\">NBViewer</a>),\n",
       "  it may mean that your frontend doesn't currently support widgets.\n",
       "</p>\n"
      ],
      "text/plain": [
       "HBox(children=(IntProgress(value=0, max=9), HTML(value='')))"
      ]
     },
     "metadata": {},
     "output_type": "display_data"
    },
    {
     "name": "stdout",
     "output_type": "stream",
     "text": [
      "E:\\MestradoData\\preprocessed\\all\\16\\22*ir2* 30\n",
      "E:\\MestradoData\\preprocessed\\all\\16\\36*ir2* 0\n",
      "E:\\MestradoData\\preprocessed\\all\\16\\33*ir2* 30\n",
      "E:\\MestradoData\\preprocessed\\all\\16\\19*ir2* 30\n",
      "E:\\MestradoData\\preprocessed\\all\\16\\27*ir2* 30\n",
      "E:\\MestradoData\\preprocessed\\all\\16\\16*ir2* 30\n",
      "E:\\MestradoData\\preprocessed\\all\\16\\25*ir2* 30\n",
      "E:\\MestradoData\\preprocessed\\all\\16\\40*ir2* 30\n",
      "E:\\MestradoData\\preprocessed\\all\\16\\07*ir2* 30\n",
      "\n",
      "folders created !\n"
     ]
    },
    {
     "data": {
      "application/vnd.jupyter.widget-view+json": {
       "model_id": "e2f289327527405aaf00075d3e7ddfe9",
       "version_major": 2,
       "version_minor": 0
      },
      "text/html": [
       "<p>Failed to display Jupyter Widget of type <code>HBox</code>.</p>\n",
       "<p>\n",
       "  If you're reading this message in the Jupyter Notebook or JupyterLab Notebook, it may mean\n",
       "  that the widgets JavaScript is still loading. If this message persists, it\n",
       "  likely means that the widgets JavaScript library is either not installed or\n",
       "  not enabled. See the <a href=\"https://ipywidgets.readthedocs.io/en/stable/user_install.html\">Jupyter\n",
       "  Widgets Documentation</a> for setup instructions.\n",
       "</p>\n",
       "<p>\n",
       "  If you're reading this message in another frontend (for example, a static\n",
       "  rendering on GitHub or <a href=\"https://nbviewer.jupyter.org/\">NBViewer</a>),\n",
       "  it may mean that your frontend doesn't currently support widgets.\n",
       "</p>\n"
      ],
      "text/plain": [
       "HBox(children=(IntProgress(value=0, max=36), HTML(value='')))"
      ]
     },
     "metadata": {},
     "output_type": "display_data"
    },
    {
     "name": "stdout",
     "output_type": "stream",
     "text": [
      "E:\\MestradoData\\preprocessed\\all\\17\\23*ir2* 30\n",
      "E:\\MestradoData\\preprocessed\\all\\17\\04*ir2* 30\n",
      "E:\\MestradoData\\preprocessed\\all\\17\\38*ir2* 0\n",
      "E:\\MestradoData\\preprocessed\\all\\17\\42*ir2* 30\n",
      "E:\\MestradoData\\preprocessed\\all\\17\\17*ir2* 30\n",
      "E:\\MestradoData\\preprocessed\\all\\17\\35*ir2* 30\n",
      "E:\\MestradoData\\preprocessed\\all\\17\\29*ir2* 30\n",
      "E:\\MestradoData\\preprocessed\\all\\17\\06*ir2* 30\n",
      "E:\\MestradoData\\preprocessed\\all\\17\\15*ir2* 30\n",
      "E:\\MestradoData\\preprocessed\\all\\17\\09*ir2* 30\n",
      "E:\\MestradoData\\preprocessed\\all\\17\\10*ir2* 30\n",
      "E:\\MestradoData\\preprocessed\\all\\17\\26*ir2* 30\n",
      "E:\\MestradoData\\preprocessed\\all\\17\\13*ir2* 0\n",
      "E:\\MestradoData\\preprocessed\\all\\17\\43*ir2* 30\n",
      "E:\\MestradoData\\preprocessed\\all\\17\\20*ir2* 30\n",
      "E:\\MestradoData\\preprocessed\\all\\17\\05*ir2* 30\n",
      "E:\\MestradoData\\preprocessed\\all\\17\\39*ir2* 0\n",
      "E:\\MestradoData\\preprocessed\\all\\17\\02*ir2* 30\n",
      "E:\\MestradoData\\preprocessed\\all\\17\\12*ir2* 30\n",
      "E:\\MestradoData\\preprocessed\\all\\17\\24*ir2* 0\n",
      "E:\\MestradoData\\preprocessed\\all\\17\\08*ir2* 30\n",
      "E:\\MestradoData\\preprocessed\\all\\17\\34*ir2* 30\n",
      "E:\\MestradoData\\preprocessed\\all\\17\\21*ir2* 30\n",
      "E:\\MestradoData\\preprocessed\\all\\17\\41*ir2* 30\n",
      "E:\\MestradoData\\preprocessed\\all\\17\\44*ir2* 30\n",
      "E:\\MestradoData\\preprocessed\\all\\17\\11*ir2* 27\n",
      "E:\\MestradoData\\preprocessed\\all\\17\\18*ir2* 0\n",
      "E:\\MestradoData\\preprocessed\\all\\17\\32*ir2* 30\n",
      "E:\\MestradoData\\preprocessed\\all\\17\\30*ir2* 30\n",
      "E:\\MestradoData\\preprocessed\\all\\17\\14*ir2* 30\n",
      "E:\\MestradoData\\preprocessed\\all\\17\\01*ir2* 30\n",
      "E:\\MestradoData\\preprocessed\\all\\17\\45*ir2* 30\n",
      "E:\\MestradoData\\preprocessed\\all\\17\\31*ir2* 30\n",
      "E:\\MestradoData\\preprocessed\\all\\17\\28*ir2* 30\n",
      "E:\\MestradoData\\preprocessed\\all\\17\\03*ir2* 30\n",
      "E:\\MestradoData\\preprocessed\\all\\17\\37*ir2* 0\n",
      "\n"
     ]
    },
    {
     "data": {
      "application/vnd.jupyter.widget-view+json": {
       "model_id": "fe04f697cf5f48ddaf8531cacca32c2f",
       "version_major": 2,
       "version_minor": 0
      },
      "text/html": [
       "<p>Failed to display Jupyter Widget of type <code>HBox</code>.</p>\n",
       "<p>\n",
       "  If you're reading this message in the Jupyter Notebook or JupyterLab Notebook, it may mean\n",
       "  that the widgets JavaScript is still loading. If this message persists, it\n",
       "  likely means that the widgets JavaScript library is either not installed or\n",
       "  not enabled. See the <a href=\"https://ipywidgets.readthedocs.io/en/stable/user_install.html\">Jupyter\n",
       "  Widgets Documentation</a> for setup instructions.\n",
       "</p>\n",
       "<p>\n",
       "  If you're reading this message in another frontend (for example, a static\n",
       "  rendering on GitHub or <a href=\"https://nbviewer.jupyter.org/\">NBViewer</a>),\n",
       "  it may mean that your frontend doesn't currently support widgets.\n",
       "</p>\n"
      ],
      "text/plain": [
       "HBox(children=(IntProgress(value=0, max=9), HTML(value='')))"
      ]
     },
     "metadata": {},
     "output_type": "display_data"
    },
    {
     "name": "stdout",
     "output_type": "stream",
     "text": [
      "E:\\MestradoData\\preprocessed\\all\\17\\22*ir2* 30\n",
      "E:\\MestradoData\\preprocessed\\all\\17\\36*ir2* 0\n",
      "E:\\MestradoData\\preprocessed\\all\\17\\33*ir2* 30\n",
      "E:\\MestradoData\\preprocessed\\all\\17\\19*ir2* 30\n",
      "E:\\MestradoData\\preprocessed\\all\\17\\27*ir2* 30\n",
      "E:\\MestradoData\\preprocessed\\all\\17\\16*ir2* 30\n",
      "E:\\MestradoData\\preprocessed\\all\\17\\25*ir2* 30\n",
      "E:\\MestradoData\\preprocessed\\all\\17\\40*ir2* 30\n",
      "E:\\MestradoData\\preprocessed\\all\\17\\07*ir2* 30\n",
      "\n",
      "folders created !\n"
     ]
    },
    {
     "data": {
      "application/vnd.jupyter.widget-view+json": {
       "model_id": "afb5279642dc49a9876cd48501de372a",
       "version_major": 2,
       "version_minor": 0
      },
      "text/html": [
       "<p>Failed to display Jupyter Widget of type <code>HBox</code>.</p>\n",
       "<p>\n",
       "  If you're reading this message in the Jupyter Notebook or JupyterLab Notebook, it may mean\n",
       "  that the widgets JavaScript is still loading. If this message persists, it\n",
       "  likely means that the widgets JavaScript library is either not installed or\n",
       "  not enabled. See the <a href=\"https://ipywidgets.readthedocs.io/en/stable/user_install.html\">Jupyter\n",
       "  Widgets Documentation</a> for setup instructions.\n",
       "</p>\n",
       "<p>\n",
       "  If you're reading this message in another frontend (for example, a static\n",
       "  rendering on GitHub or <a href=\"https://nbviewer.jupyter.org/\">NBViewer</a>),\n",
       "  it may mean that your frontend doesn't currently support widgets.\n",
       "</p>\n"
      ],
      "text/plain": [
       "HBox(children=(IntProgress(value=0, max=36), HTML(value='')))"
      ]
     },
     "metadata": {},
     "output_type": "display_data"
    },
    {
     "name": "stdout",
     "output_type": "stream",
     "text": [
      "E:\\MestradoData\\preprocessed\\all\\18\\23*ir2* 30\n",
      "E:\\MestradoData\\preprocessed\\all\\18\\04*ir2* 30\n",
      "E:\\MestradoData\\preprocessed\\all\\18\\38*ir2* 0\n",
      "E:\\MestradoData\\preprocessed\\all\\18\\42*ir2* 30\n",
      "E:\\MestradoData\\preprocessed\\all\\18\\17*ir2* 30\n",
      "E:\\MestradoData\\preprocessed\\all\\18\\35*ir2* 30\n",
      "E:\\MestradoData\\preprocessed\\all\\18\\29*ir2* 30\n",
      "E:\\MestradoData\\preprocessed\\all\\18\\06*ir2* 30\n",
      "E:\\MestradoData\\preprocessed\\all\\18\\15*ir2* 30\n",
      "E:\\MestradoData\\preprocessed\\all\\18\\09*ir2* 30\n",
      "E:\\MestradoData\\preprocessed\\all\\18\\10*ir2* 30\n",
      "E:\\MestradoData\\preprocessed\\all\\18\\26*ir2* 30\n",
      "E:\\MestradoData\\preprocessed\\all\\18\\13*ir2* 0\n",
      "E:\\MestradoData\\preprocessed\\all\\18\\43*ir2* 30\n",
      "E:\\MestradoData\\preprocessed\\all\\18\\20*ir2* 30\n",
      "E:\\MestradoData\\preprocessed\\all\\18\\05*ir2* 30\n",
      "E:\\MestradoData\\preprocessed\\all\\18\\39*ir2* 0\n",
      "E:\\MestradoData\\preprocessed\\all\\18\\02*ir2* 30\n",
      "E:\\MestradoData\\preprocessed\\all\\18\\12*ir2* 30\n",
      "E:\\MestradoData\\preprocessed\\all\\18\\24*ir2* 0\n",
      "E:\\MestradoData\\preprocessed\\all\\18\\08*ir2* 30\n",
      "E:\\MestradoData\\preprocessed\\all\\18\\34*ir2* 30\n",
      "E:\\MestradoData\\preprocessed\\all\\18\\21*ir2* 30\n",
      "E:\\MestradoData\\preprocessed\\all\\18\\41*ir2* 30\n",
      "E:\\MestradoData\\preprocessed\\all\\18\\44*ir2* 30\n",
      "E:\\MestradoData\\preprocessed\\all\\18\\11*ir2* 27\n",
      "E:\\MestradoData\\preprocessed\\all\\18\\18*ir2* 0\n",
      "E:\\MestradoData\\preprocessed\\all\\18\\32*ir2* 30\n",
      "E:\\MestradoData\\preprocessed\\all\\18\\30*ir2* 30\n",
      "E:\\MestradoData\\preprocessed\\all\\18\\14*ir2* 30\n",
      "E:\\MestradoData\\preprocessed\\all\\18\\01*ir2* 30\n",
      "E:\\MestradoData\\preprocessed\\all\\18\\45*ir2* 30\n",
      "E:\\MestradoData\\preprocessed\\all\\18\\31*ir2* 30\n",
      "E:\\MestradoData\\preprocessed\\all\\18\\28*ir2* 30\n",
      "E:\\MestradoData\\preprocessed\\all\\18\\03*ir2* 30\n",
      "E:\\MestradoData\\preprocessed\\all\\18\\37*ir2* 0\n",
      "\n"
     ]
    },
    {
     "data": {
      "application/vnd.jupyter.widget-view+json": {
       "model_id": "709643e31ac941e89080ad3122b6e8a7",
       "version_major": 2,
       "version_minor": 0
      },
      "text/html": [
       "<p>Failed to display Jupyter Widget of type <code>HBox</code>.</p>\n",
       "<p>\n",
       "  If you're reading this message in the Jupyter Notebook or JupyterLab Notebook, it may mean\n",
       "  that the widgets JavaScript is still loading. If this message persists, it\n",
       "  likely means that the widgets JavaScript library is either not installed or\n",
       "  not enabled. See the <a href=\"https://ipywidgets.readthedocs.io/en/stable/user_install.html\">Jupyter\n",
       "  Widgets Documentation</a> for setup instructions.\n",
       "</p>\n",
       "<p>\n",
       "  If you're reading this message in another frontend (for example, a static\n",
       "  rendering on GitHub or <a href=\"https://nbviewer.jupyter.org/\">NBViewer</a>),\n",
       "  it may mean that your frontend doesn't currently support widgets.\n",
       "</p>\n"
      ],
      "text/plain": [
       "HBox(children=(IntProgress(value=0, max=9), HTML(value='')))"
      ]
     },
     "metadata": {},
     "output_type": "display_data"
    },
    {
     "name": "stdout",
     "output_type": "stream",
     "text": [
      "E:\\MestradoData\\preprocessed\\all\\18\\22*ir2* 30\n",
      "E:\\MestradoData\\preprocessed\\all\\18\\36*ir2* 0\n",
      "E:\\MestradoData\\preprocessed\\all\\18\\33*ir2* 30\n",
      "E:\\MestradoData\\preprocessed\\all\\18\\19*ir2* 30\n",
      "E:\\MestradoData\\preprocessed\\all\\18\\27*ir2* 30\n",
      "E:\\MestradoData\\preprocessed\\all\\18\\16*ir2* 30\n",
      "E:\\MestradoData\\preprocessed\\all\\18\\25*ir2* 30\n",
      "E:\\MestradoData\\preprocessed\\all\\18\\40*ir2* 30\n",
      "E:\\MestradoData\\preprocessed\\all\\18\\07*ir2* 30\n",
      "\n",
      "folders created !\n"
     ]
    },
    {
     "data": {
      "application/vnd.jupyter.widget-view+json": {
       "model_id": "a558bd4a215e47dbbfbec73321f00d65",
       "version_major": 2,
       "version_minor": 0
      },
      "text/html": [
       "<p>Failed to display Jupyter Widget of type <code>HBox</code>.</p>\n",
       "<p>\n",
       "  If you're reading this message in the Jupyter Notebook or JupyterLab Notebook, it may mean\n",
       "  that the widgets JavaScript is still loading. If this message persists, it\n",
       "  likely means that the widgets JavaScript library is either not installed or\n",
       "  not enabled. See the <a href=\"https://ipywidgets.readthedocs.io/en/stable/user_install.html\">Jupyter\n",
       "  Widgets Documentation</a> for setup instructions.\n",
       "</p>\n",
       "<p>\n",
       "  If you're reading this message in another frontend (for example, a static\n",
       "  rendering on GitHub or <a href=\"https://nbviewer.jupyter.org/\">NBViewer</a>),\n",
       "  it may mean that your frontend doesn't currently support widgets.\n",
       "</p>\n"
      ],
      "text/plain": [
       "HBox(children=(IntProgress(value=0, max=36), HTML(value='')))"
      ]
     },
     "metadata": {},
     "output_type": "display_data"
    },
    {
     "name": "stdout",
     "output_type": "stream",
     "text": [
      "E:\\MestradoData\\preprocessed\\all\\19\\23*ir2* 30\n",
      "E:\\MestradoData\\preprocessed\\all\\19\\04*ir2* 30\n",
      "E:\\MestradoData\\preprocessed\\all\\19\\38*ir2* 0\n",
      "E:\\MestradoData\\preprocessed\\all\\19\\42*ir2* 30\n",
      "E:\\MestradoData\\preprocessed\\all\\19\\17*ir2* 30\n",
      "E:\\MestradoData\\preprocessed\\all\\19\\35*ir2* 30\n",
      "E:\\MestradoData\\preprocessed\\all\\19\\29*ir2* 30\n",
      "E:\\MestradoData\\preprocessed\\all\\19\\06*ir2* 30\n",
      "E:\\MestradoData\\preprocessed\\all\\19\\15*ir2* 30\n",
      "E:\\MestradoData\\preprocessed\\all\\19\\09*ir2* 30\n",
      "E:\\MestradoData\\preprocessed\\all\\19\\10*ir2* 30\n",
      "E:\\MestradoData\\preprocessed\\all\\19\\26*ir2* 30\n",
      "E:\\MestradoData\\preprocessed\\all\\19\\13*ir2* 0\n",
      "E:\\MestradoData\\preprocessed\\all\\19\\43*ir2* 30\n",
      "E:\\MestradoData\\preprocessed\\all\\19\\20*ir2* 30\n",
      "E:\\MestradoData\\preprocessed\\all\\19\\05*ir2* 30\n",
      "E:\\MestradoData\\preprocessed\\all\\19\\39*ir2* 0\n",
      "E:\\MestradoData\\preprocessed\\all\\19\\02*ir2* 30\n",
      "E:\\MestradoData\\preprocessed\\all\\19\\12*ir2* 30\n",
      "E:\\MestradoData\\preprocessed\\all\\19\\24*ir2* 0\n",
      "E:\\MestradoData\\preprocessed\\all\\19\\08*ir2* 30\n",
      "E:\\MestradoData\\preprocessed\\all\\19\\34*ir2* 30\n",
      "E:\\MestradoData\\preprocessed\\all\\19\\21*ir2* 30\n",
      "E:\\MestradoData\\preprocessed\\all\\19\\41*ir2* 30\n",
      "E:\\MestradoData\\preprocessed\\all\\19\\44*ir2* 30\n",
      "E:\\MestradoData\\preprocessed\\all\\19\\11*ir2* 27\n",
      "E:\\MestradoData\\preprocessed\\all\\19\\18*ir2* 0\n",
      "E:\\MestradoData\\preprocessed\\all\\19\\32*ir2* 30\n",
      "E:\\MestradoData\\preprocessed\\all\\19\\30*ir2* 30\n",
      "E:\\MestradoData\\preprocessed\\all\\19\\14*ir2* 30\n",
      "E:\\MestradoData\\preprocessed\\all\\19\\01*ir2* 30\n",
      "E:\\MestradoData\\preprocessed\\all\\19\\45*ir2* 30\n",
      "E:\\MestradoData\\preprocessed\\all\\19\\31*ir2* 30\n",
      "E:\\MestradoData\\preprocessed\\all\\19\\28*ir2* 30\n",
      "E:\\MestradoData\\preprocessed\\all\\19\\03*ir2* 30\n",
      "E:\\MestradoData\\preprocessed\\all\\19\\37*ir2* 0\n",
      "\n"
     ]
    },
    {
     "data": {
      "application/vnd.jupyter.widget-view+json": {
       "model_id": "a5f44d1ca7354d2ca218a64f9a9e6a85",
       "version_major": 2,
       "version_minor": 0
      },
      "text/html": [
       "<p>Failed to display Jupyter Widget of type <code>HBox</code>.</p>\n",
       "<p>\n",
       "  If you're reading this message in the Jupyter Notebook or JupyterLab Notebook, it may mean\n",
       "  that the widgets JavaScript is still loading. If this message persists, it\n",
       "  likely means that the widgets JavaScript library is either not installed or\n",
       "  not enabled. See the <a href=\"https://ipywidgets.readthedocs.io/en/stable/user_install.html\">Jupyter\n",
       "  Widgets Documentation</a> for setup instructions.\n",
       "</p>\n",
       "<p>\n",
       "  If you're reading this message in another frontend (for example, a static\n",
       "  rendering on GitHub or <a href=\"https://nbviewer.jupyter.org/\">NBViewer</a>),\n",
       "  it may mean that your frontend doesn't currently support widgets.\n",
       "</p>\n"
      ],
      "text/plain": [
       "HBox(children=(IntProgress(value=0, max=9), HTML(value='')))"
      ]
     },
     "metadata": {},
     "output_type": "display_data"
    },
    {
     "name": "stdout",
     "output_type": "stream",
     "text": [
      "E:\\MestradoData\\preprocessed\\all\\19\\22*ir2* 30\n",
      "E:\\MestradoData\\preprocessed\\all\\19\\36*ir2* 0\n",
      "E:\\MestradoData\\preprocessed\\all\\19\\33*ir2* 30\n",
      "E:\\MestradoData\\preprocessed\\all\\19\\19*ir2* 30\n",
      "E:\\MestradoData\\preprocessed\\all\\19\\27*ir2* 30\n",
      "E:\\MestradoData\\preprocessed\\all\\19\\16*ir2* 30\n",
      "E:\\MestradoData\\preprocessed\\all\\19\\25*ir2* 30\n",
      "E:\\MestradoData\\preprocessed\\all\\19\\40*ir2* 30\n",
      "E:\\MestradoData\\preprocessed\\all\\19\\07*ir2* 30\n",
      "\n",
      "folders created !\n"
     ]
    },
    {
     "data": {
      "application/vnd.jupyter.widget-view+json": {
       "model_id": "dc878e6a2df540e48193ca8528c8bd93",
       "version_major": 2,
       "version_minor": 0
      },
      "text/html": [
       "<p>Failed to display Jupyter Widget of type <code>HBox</code>.</p>\n",
       "<p>\n",
       "  If you're reading this message in the Jupyter Notebook or JupyterLab Notebook, it may mean\n",
       "  that the widgets JavaScript is still loading. If this message persists, it\n",
       "  likely means that the widgets JavaScript library is either not installed or\n",
       "  not enabled. See the <a href=\"https://ipywidgets.readthedocs.io/en/stable/user_install.html\">Jupyter\n",
       "  Widgets Documentation</a> for setup instructions.\n",
       "</p>\n",
       "<p>\n",
       "  If you're reading this message in another frontend (for example, a static\n",
       "  rendering on GitHub or <a href=\"https://nbviewer.jupyter.org/\">NBViewer</a>),\n",
       "  it may mean that your frontend doesn't currently support widgets.\n",
       "</p>\n"
      ],
      "text/plain": [
       "HBox(children=(IntProgress(value=0, max=36), HTML(value='')))"
      ]
     },
     "metadata": {},
     "output_type": "display_data"
    },
    {
     "name": "stdout",
     "output_type": "stream",
     "text": [
      "E:\\MestradoData\\preprocessed\\all\\01\\23*rgb* 30\n",
      "E:\\MestradoData\\preprocessed\\all\\01\\04*rgb* 30\n",
      "E:\\MestradoData\\preprocessed\\all\\01\\38*rgb* 0\n",
      "E:\\MestradoData\\preprocessed\\all\\01\\42*rgb* 30\n",
      "E:\\MestradoData\\preprocessed\\all\\01\\17*rgb* 30\n",
      "E:\\MestradoData\\preprocessed\\all\\01\\35*rgb* 30\n",
      "E:\\MestradoData\\preprocessed\\all\\01\\29*rgb* 30\n",
      "E:\\MestradoData\\preprocessed\\all\\01\\06*rgb* 30\n",
      "E:\\MestradoData\\preprocessed\\all\\01\\15*rgb* 30\n",
      "E:\\MestradoData\\preprocessed\\all\\01\\09*rgb* 30\n",
      "E:\\MestradoData\\preprocessed\\all\\01\\10*rgb* 30\n",
      "E:\\MestradoData\\preprocessed\\all\\01\\26*rgb* 30\n",
      "E:\\MestradoData\\preprocessed\\all\\01\\13*rgb* 30\n",
      "E:\\MestradoData\\preprocessed\\all\\01\\43*rgb* 30\n",
      "E:\\MestradoData\\preprocessed\\all\\01\\20*rgb* 30\n",
      "E:\\MestradoData\\preprocessed\\all\\01\\05*rgb* 30\n",
      "E:\\MestradoData\\preprocessed\\all\\01\\39*rgb* 0\n",
      "E:\\MestradoData\\preprocessed\\all\\01\\02*rgb* 30\n",
      "E:\\MestradoData\\preprocessed\\all\\01\\12*rgb* 30\n",
      "E:\\MestradoData\\preprocessed\\all\\01\\24*rgb* 30\n",
      "E:\\MestradoData\\preprocessed\\all\\01\\08*rgb* 30\n",
      "E:\\MestradoData\\preprocessed\\all\\01\\34*rgb* 30\n",
      "E:\\MestradoData\\preprocessed\\all\\01\\21*rgb* 30\n",
      "E:\\MestradoData\\preprocessed\\all\\01\\41*rgb* 30\n",
      "E:\\MestradoData\\preprocessed\\all\\01\\44*rgb* 30\n",
      "E:\\MestradoData\\preprocessed\\all\\01\\11*rgb* 30\n",
      "E:\\MestradoData\\preprocessed\\all\\01\\18*rgb* 30\n",
      "E:\\MestradoData\\preprocessed\\all\\01\\32*rgb* 30\n",
      "E:\\MestradoData\\preprocessed\\all\\01\\30*rgb* 30\n",
      "E:\\MestradoData\\preprocessed\\all\\01\\14*rgb* 30\n",
      "E:\\MestradoData\\preprocessed\\all\\01\\01*rgb* 30\n",
      "E:\\MestradoData\\preprocessed\\all\\01\\45*rgb* 30\n",
      "E:\\MestradoData\\preprocessed\\all\\01\\31*rgb* 30\n",
      "E:\\MestradoData\\preprocessed\\all\\01\\28*rgb* 30\n",
      "E:\\MestradoData\\preprocessed\\all\\01\\03*rgb* 30\n",
      "E:\\MestradoData\\preprocessed\\all\\01\\37*rgb* 0\n",
      "\n"
     ]
    },
    {
     "data": {
      "application/vnd.jupyter.widget-view+json": {
       "model_id": "fd35cd8d28ec4d6cb223c93f8b9b5d71",
       "version_major": 2,
       "version_minor": 0
      },
      "text/html": [
       "<p>Failed to display Jupyter Widget of type <code>HBox</code>.</p>\n",
       "<p>\n",
       "  If you're reading this message in the Jupyter Notebook or JupyterLab Notebook, it may mean\n",
       "  that the widgets JavaScript is still loading. If this message persists, it\n",
       "  likely means that the widgets JavaScript library is either not installed or\n",
       "  not enabled. See the <a href=\"https://ipywidgets.readthedocs.io/en/stable/user_install.html\">Jupyter\n",
       "  Widgets Documentation</a> for setup instructions.\n",
       "</p>\n",
       "<p>\n",
       "  If you're reading this message in another frontend (for example, a static\n",
       "  rendering on GitHub or <a href=\"https://nbviewer.jupyter.org/\">NBViewer</a>),\n",
       "  it may mean that your frontend doesn't currently support widgets.\n",
       "</p>\n"
      ],
      "text/plain": [
       "HBox(children=(IntProgress(value=0, max=9), HTML(value='')))"
      ]
     },
     "metadata": {},
     "output_type": "display_data"
    },
    {
     "name": "stdout",
     "output_type": "stream",
     "text": [
      "E:\\MestradoData\\preprocessed\\all\\01\\22*rgb* 30\n",
      "E:\\MestradoData\\preprocessed\\all\\01\\36*rgb* 0\n",
      "E:\\MestradoData\\preprocessed\\all\\01\\33*rgb* 30\n",
      "E:\\MestradoData\\preprocessed\\all\\01\\19*rgb* 30\n",
      "E:\\MestradoData\\preprocessed\\all\\01\\27*rgb* 30\n",
      "E:\\MestradoData\\preprocessed\\all\\01\\16*rgb* 30\n",
      "E:\\MestradoData\\preprocessed\\all\\01\\25*rgb* 30\n",
      "E:\\MestradoData\\preprocessed\\all\\01\\40*rgb* 30\n",
      "E:\\MestradoData\\preprocessed\\all\\01\\07*rgb* 30\n",
      "\n",
      "folders created !\n"
     ]
    },
    {
     "data": {
      "application/vnd.jupyter.widget-view+json": {
       "model_id": "278e41d4a0104934a80d791673dbf476",
       "version_major": 2,
       "version_minor": 0
      },
      "text/html": [
       "<p>Failed to display Jupyter Widget of type <code>HBox</code>.</p>\n",
       "<p>\n",
       "  If you're reading this message in the Jupyter Notebook or JupyterLab Notebook, it may mean\n",
       "  that the widgets JavaScript is still loading. If this message persists, it\n",
       "  likely means that the widgets JavaScript library is either not installed or\n",
       "  not enabled. See the <a href=\"https://ipywidgets.readthedocs.io/en/stable/user_install.html\">Jupyter\n",
       "  Widgets Documentation</a> for setup instructions.\n",
       "</p>\n",
       "<p>\n",
       "  If you're reading this message in another frontend (for example, a static\n",
       "  rendering on GitHub or <a href=\"https://nbviewer.jupyter.org/\">NBViewer</a>),\n",
       "  it may mean that your frontend doesn't currently support widgets.\n",
       "</p>\n"
      ],
      "text/plain": [
       "HBox(children=(IntProgress(value=0, max=36), HTML(value='')))"
      ]
     },
     "metadata": {},
     "output_type": "display_data"
    },
    {
     "name": "stdout",
     "output_type": "stream",
     "text": [
      "E:\\MestradoData\\preprocessed\\all\\02\\23*rgb* 30\n",
      "E:\\MestradoData\\preprocessed\\all\\02\\04*rgb* 30\n",
      "E:\\MestradoData\\preprocessed\\all\\02\\38*rgb* 0\n",
      "E:\\MestradoData\\preprocessed\\all\\02\\42*rgb* 30\n",
      "E:\\MestradoData\\preprocessed\\all\\02\\17*rgb* 30\n",
      "E:\\MestradoData\\preprocessed\\all\\02\\35*rgb* 30\n",
      "E:\\MestradoData\\preprocessed\\all\\02\\29*rgb* 30\n",
      "E:\\MestradoData\\preprocessed\\all\\02\\06*rgb* 30\n",
      "E:\\MestradoData\\preprocessed\\all\\02\\15*rgb* 30\n",
      "E:\\MestradoData\\preprocessed\\all\\02\\09*rgb* 30\n",
      "E:\\MestradoData\\preprocessed\\all\\02\\10*rgb* 30\n",
      "E:\\MestradoData\\preprocessed\\all\\02\\26*rgb* 30\n",
      "E:\\MestradoData\\preprocessed\\all\\02\\13*rgb* 30\n",
      "E:\\MestradoData\\preprocessed\\all\\02\\43*rgb* 30\n",
      "E:\\MestradoData\\preprocessed\\all\\02\\20*rgb* 30\n",
      "E:\\MestradoData\\preprocessed\\all\\02\\05*rgb* 30\n",
      "E:\\MestradoData\\preprocessed\\all\\02\\39*rgb* 0\n",
      "E:\\MestradoData\\preprocessed\\all\\02\\02*rgb* 30\n",
      "E:\\MestradoData\\preprocessed\\all\\02\\12*rgb* 30\n",
      "E:\\MestradoData\\preprocessed\\all\\02\\24*rgb* 30\n",
      "E:\\MestradoData\\preprocessed\\all\\02\\08*rgb* 30\n",
      "E:\\MestradoData\\preprocessed\\all\\02\\34*rgb* 30\n",
      "E:\\MestradoData\\preprocessed\\all\\02\\21*rgb* 30\n",
      "E:\\MestradoData\\preprocessed\\all\\02\\41*rgb* 30\n",
      "E:\\MestradoData\\preprocessed\\all\\02\\44*rgb* 30\n",
      "E:\\MestradoData\\preprocessed\\all\\02\\11*rgb* 30\n",
      "E:\\MestradoData\\preprocessed\\all\\02\\18*rgb* 30\n",
      "E:\\MestradoData\\preprocessed\\all\\02\\32*rgb* 30\n",
      "E:\\MestradoData\\preprocessed\\all\\02\\30*rgb* 30\n",
      "E:\\MestradoData\\preprocessed\\all\\02\\14*rgb* 30\n",
      "E:\\MestradoData\\preprocessed\\all\\02\\01*rgb* 30\n",
      "E:\\MestradoData\\preprocessed\\all\\02\\45*rgb* 30\n",
      "E:\\MestradoData\\preprocessed\\all\\02\\31*rgb* 30\n",
      "E:\\MestradoData\\preprocessed\\all\\02\\28*rgb* 30\n",
      "E:\\MestradoData\\preprocessed\\all\\02\\03*rgb* 30\n",
      "E:\\MestradoData\\preprocessed\\all\\02\\37*rgb* 0\n",
      "\n"
     ]
    },
    {
     "data": {
      "application/vnd.jupyter.widget-view+json": {
       "model_id": "3b921c94d6f341df8e2a9406fc9b459b",
       "version_major": 2,
       "version_minor": 0
      },
      "text/html": [
       "<p>Failed to display Jupyter Widget of type <code>HBox</code>.</p>\n",
       "<p>\n",
       "  If you're reading this message in the Jupyter Notebook or JupyterLab Notebook, it may mean\n",
       "  that the widgets JavaScript is still loading. If this message persists, it\n",
       "  likely means that the widgets JavaScript library is either not installed or\n",
       "  not enabled. See the <a href=\"https://ipywidgets.readthedocs.io/en/stable/user_install.html\">Jupyter\n",
       "  Widgets Documentation</a> for setup instructions.\n",
       "</p>\n",
       "<p>\n",
       "  If you're reading this message in another frontend (for example, a static\n",
       "  rendering on GitHub or <a href=\"https://nbviewer.jupyter.org/\">NBViewer</a>),\n",
       "  it may mean that your frontend doesn't currently support widgets.\n",
       "</p>\n"
      ],
      "text/plain": [
       "HBox(children=(IntProgress(value=0, max=9), HTML(value='')))"
      ]
     },
     "metadata": {},
     "output_type": "display_data"
    },
    {
     "name": "stdout",
     "output_type": "stream",
     "text": [
      "E:\\MestradoData\\preprocessed\\all\\02\\22*rgb* 30\n",
      "E:\\MestradoData\\preprocessed\\all\\02\\36*rgb* 0\n",
      "E:\\MestradoData\\preprocessed\\all\\02\\33*rgb* 30\n",
      "E:\\MestradoData\\preprocessed\\all\\02\\19*rgb* 30\n",
      "E:\\MestradoData\\preprocessed\\all\\02\\27*rgb* 30\n",
      "E:\\MestradoData\\preprocessed\\all\\02\\16*rgb* 30\n",
      "E:\\MestradoData\\preprocessed\\all\\02\\25*rgb* 30\n",
      "E:\\MestradoData\\preprocessed\\all\\02\\40*rgb* 30\n",
      "E:\\MestradoData\\preprocessed\\all\\02\\07*rgb* 30\n",
      "\n",
      "folders created !\n"
     ]
    },
    {
     "data": {
      "application/vnd.jupyter.widget-view+json": {
       "model_id": "4c69e303b3474c2699dd3b9c8792833b",
       "version_major": 2,
       "version_minor": 0
      },
      "text/html": [
       "<p>Failed to display Jupyter Widget of type <code>HBox</code>.</p>\n",
       "<p>\n",
       "  If you're reading this message in the Jupyter Notebook or JupyterLab Notebook, it may mean\n",
       "  that the widgets JavaScript is still loading. If this message persists, it\n",
       "  likely means that the widgets JavaScript library is either not installed or\n",
       "  not enabled. See the <a href=\"https://ipywidgets.readthedocs.io/en/stable/user_install.html\">Jupyter\n",
       "  Widgets Documentation</a> for setup instructions.\n",
       "</p>\n",
       "<p>\n",
       "  If you're reading this message in another frontend (for example, a static\n",
       "  rendering on GitHub or <a href=\"https://nbviewer.jupyter.org/\">NBViewer</a>),\n",
       "  it may mean that your frontend doesn't currently support widgets.\n",
       "</p>\n"
      ],
      "text/plain": [
       "HBox(children=(IntProgress(value=0, max=36), HTML(value='')))"
      ]
     },
     "metadata": {},
     "output_type": "display_data"
    },
    {
     "name": "stdout",
     "output_type": "stream",
     "text": [
      "E:\\MestradoData\\preprocessed\\all\\03\\23*rgb* 30\n",
      "E:\\MestradoData\\preprocessed\\all\\03\\04*rgb* 30\n",
      "E:\\MestradoData\\preprocessed\\all\\03\\38*rgb* 0\n",
      "E:\\MestradoData\\preprocessed\\all\\03\\42*rgb* 30\n",
      "E:\\MestradoData\\preprocessed\\all\\03\\17*rgb* 30\n",
      "E:\\MestradoData\\preprocessed\\all\\03\\35*rgb* 30\n",
      "E:\\MestradoData\\preprocessed\\all\\03\\29*rgb* 30\n",
      "E:\\MestradoData\\preprocessed\\all\\03\\06*rgb* 30\n",
      "E:\\MestradoData\\preprocessed\\all\\03\\15*rgb* 30\n",
      "E:\\MestradoData\\preprocessed\\all\\03\\09*rgb* 30\n",
      "E:\\MestradoData\\preprocessed\\all\\03\\10*rgb* 30\n",
      "E:\\MestradoData\\preprocessed\\all\\03\\26*rgb* 30\n",
      "E:\\MestradoData\\preprocessed\\all\\03\\13*rgb* 0\n",
      "E:\\MestradoData\\preprocessed\\all\\03\\43*rgb* 30\n",
      "E:\\MestradoData\\preprocessed\\all\\03\\20*rgb* 30\n",
      "E:\\MestradoData\\preprocessed\\all\\03\\05*rgb* 30\n",
      "E:\\MestradoData\\preprocessed\\all\\03\\39*rgb* 0\n",
      "E:\\MestradoData\\preprocessed\\all\\03\\02*rgb* 30\n",
      "E:\\MestradoData\\preprocessed\\all\\03\\12*rgb* 30\n",
      "E:\\MestradoData\\preprocessed\\all\\03\\24*rgb* 30\n",
      "E:\\MestradoData\\preprocessed\\all\\03\\08*rgb* 30\n",
      "E:\\MestradoData\\preprocessed\\all\\03\\34*rgb* 30\n",
      "E:\\MestradoData\\preprocessed\\all\\03\\21*rgb* 30\n",
      "E:\\MestradoData\\preprocessed\\all\\03\\41*rgb* 30\n",
      "E:\\MestradoData\\preprocessed\\all\\03\\44*rgb* 30\n",
      "E:\\MestradoData\\preprocessed\\all\\03\\11*rgb* 27\n",
      "E:\\MestradoData\\preprocessed\\all\\03\\18*rgb* 0\n",
      "E:\\MestradoData\\preprocessed\\all\\03\\32*rgb* 30\n",
      "E:\\MestradoData\\preprocessed\\all\\03\\30*rgb* 30\n",
      "E:\\MestradoData\\preprocessed\\all\\03\\14*rgb* 30\n",
      "E:\\MestradoData\\preprocessed\\all\\03\\01*rgb* 30\n",
      "E:\\MestradoData\\preprocessed\\all\\03\\45*rgb* 30\n",
      "E:\\MestradoData\\preprocessed\\all\\03\\31*rgb* 30\n",
      "E:\\MestradoData\\preprocessed\\all\\03\\28*rgb* 30\n",
      "E:\\MestradoData\\preprocessed\\all\\03\\03*rgb* 30\n",
      "E:\\MestradoData\\preprocessed\\all\\03\\37*rgb* 0\n",
      "\n"
     ]
    },
    {
     "data": {
      "application/vnd.jupyter.widget-view+json": {
       "model_id": "63e2286541544e62bfd3fd4aceb02fe4",
       "version_major": 2,
       "version_minor": 0
      },
      "text/html": [
       "<p>Failed to display Jupyter Widget of type <code>HBox</code>.</p>\n",
       "<p>\n",
       "  If you're reading this message in the Jupyter Notebook or JupyterLab Notebook, it may mean\n",
       "  that the widgets JavaScript is still loading. If this message persists, it\n",
       "  likely means that the widgets JavaScript library is either not installed or\n",
       "  not enabled. See the <a href=\"https://ipywidgets.readthedocs.io/en/stable/user_install.html\">Jupyter\n",
       "  Widgets Documentation</a> for setup instructions.\n",
       "</p>\n",
       "<p>\n",
       "  If you're reading this message in another frontend (for example, a static\n",
       "  rendering on GitHub or <a href=\"https://nbviewer.jupyter.org/\">NBViewer</a>),\n",
       "  it may mean that your frontend doesn't currently support widgets.\n",
       "</p>\n"
      ],
      "text/plain": [
       "HBox(children=(IntProgress(value=0, max=9), HTML(value='')))"
      ]
     },
     "metadata": {},
     "output_type": "display_data"
    },
    {
     "name": "stdout",
     "output_type": "stream",
     "text": [
      "E:\\MestradoData\\preprocessed\\all\\03\\22*rgb* 30\n",
      "E:\\MestradoData\\preprocessed\\all\\03\\36*rgb* 0\n",
      "E:\\MestradoData\\preprocessed\\all\\03\\33*rgb* 30\n",
      "E:\\MestradoData\\preprocessed\\all\\03\\19*rgb* 30\n",
      "E:\\MestradoData\\preprocessed\\all\\03\\27*rgb* 30\n",
      "E:\\MestradoData\\preprocessed\\all\\03\\16*rgb* 30\n",
      "E:\\MestradoData\\preprocessed\\all\\03\\25*rgb* 30\n",
      "E:\\MestradoData\\preprocessed\\all\\03\\40*rgb* 30\n",
      "E:\\MestradoData\\preprocessed\\all\\03\\07*rgb* 30\n",
      "\n",
      "folders created !\n"
     ]
    },
    {
     "data": {
      "application/vnd.jupyter.widget-view+json": {
       "model_id": "f068ee55f39c4c17850db6bb4c3cc28f",
       "version_major": 2,
       "version_minor": 0
      },
      "text/html": [
       "<p>Failed to display Jupyter Widget of type <code>HBox</code>.</p>\n",
       "<p>\n",
       "  If you're reading this message in the Jupyter Notebook or JupyterLab Notebook, it may mean\n",
       "  that the widgets JavaScript is still loading. If this message persists, it\n",
       "  likely means that the widgets JavaScript library is either not installed or\n",
       "  not enabled. See the <a href=\"https://ipywidgets.readthedocs.io/en/stable/user_install.html\">Jupyter\n",
       "  Widgets Documentation</a> for setup instructions.\n",
       "</p>\n",
       "<p>\n",
       "  If you're reading this message in another frontend (for example, a static\n",
       "  rendering on GitHub or <a href=\"https://nbviewer.jupyter.org/\">NBViewer</a>),\n",
       "  it may mean that your frontend doesn't currently support widgets.\n",
       "</p>\n"
      ],
      "text/plain": [
       "HBox(children=(IntProgress(value=0, max=36), HTML(value='')))"
      ]
     },
     "metadata": {},
     "output_type": "display_data"
    },
    {
     "name": "stdout",
     "output_type": "stream",
     "text": [
      "E:\\MestradoData\\preprocessed\\all\\04\\23*rgb* 30\n",
      "E:\\MestradoData\\preprocessed\\all\\04\\04*rgb* 30\n",
      "E:\\MestradoData\\preprocessed\\all\\04\\38*rgb* 0\n",
      "E:\\MestradoData\\preprocessed\\all\\04\\42*rgb* 30\n",
      "E:\\MestradoData\\preprocessed\\all\\04\\17*rgb* 30\n",
      "E:\\MestradoData\\preprocessed\\all\\04\\35*rgb* 30\n",
      "E:\\MestradoData\\preprocessed\\all\\04\\29*rgb* 30\n",
      "E:\\MestradoData\\preprocessed\\all\\04\\06*rgb* 30\n",
      "E:\\MestradoData\\preprocessed\\all\\04\\15*rgb* 30\n",
      "E:\\MestradoData\\preprocessed\\all\\04\\09*rgb* 30\n",
      "E:\\MestradoData\\preprocessed\\all\\04\\10*rgb* 30\n",
      "E:\\MestradoData\\preprocessed\\all\\04\\26*rgb* 30\n",
      "E:\\MestradoData\\preprocessed\\all\\04\\13*rgb* 0\n",
      "E:\\MestradoData\\preprocessed\\all\\04\\43*rgb* 30\n",
      "E:\\MestradoData\\preprocessed\\all\\04\\20*rgb* 30\n",
      "E:\\MestradoData\\preprocessed\\all\\04\\05*rgb* 30\n",
      "E:\\MestradoData\\preprocessed\\all\\04\\39*rgb* 0\n",
      "E:\\MestradoData\\preprocessed\\all\\04\\02*rgb* 30\n",
      "E:\\MestradoData\\preprocessed\\all\\04\\12*rgb* 30\n",
      "E:\\MestradoData\\preprocessed\\all\\04\\24*rgb* 30\n",
      "E:\\MestradoData\\preprocessed\\all\\04\\08*rgb* 30\n",
      "E:\\MestradoData\\preprocessed\\all\\04\\34*rgb* 30\n",
      "E:\\MestradoData\\preprocessed\\all\\04\\21*rgb* 30\n",
      "E:\\MestradoData\\preprocessed\\all\\04\\41*rgb* 30\n",
      "E:\\MestradoData\\preprocessed\\all\\04\\44*rgb* 30\n",
      "E:\\MestradoData\\preprocessed\\all\\04\\11*rgb* 27\n",
      "E:\\MestradoData\\preprocessed\\all\\04\\18*rgb* 0\n",
      "E:\\MestradoData\\preprocessed\\all\\04\\32*rgb* 30\n",
      "E:\\MestradoData\\preprocessed\\all\\04\\30*rgb* 30\n",
      "E:\\MestradoData\\preprocessed\\all\\04\\14*rgb* 30\n",
      "E:\\MestradoData\\preprocessed\\all\\04\\01*rgb* 30\n",
      "E:\\MestradoData\\preprocessed\\all\\04\\45*rgb* 30\n",
      "E:\\MestradoData\\preprocessed\\all\\04\\31*rgb* 30\n",
      "E:\\MestradoData\\preprocessed\\all\\04\\28*rgb* 30\n",
      "E:\\MestradoData\\preprocessed\\all\\04\\03*rgb* 30\n",
      "E:\\MestradoData\\preprocessed\\all\\04\\37*rgb* 0\n",
      "\n"
     ]
    },
    {
     "data": {
      "application/vnd.jupyter.widget-view+json": {
       "model_id": "3288ca2dc7cb47d0b135a13b917730bc",
       "version_major": 2,
       "version_minor": 0
      },
      "text/html": [
       "<p>Failed to display Jupyter Widget of type <code>HBox</code>.</p>\n",
       "<p>\n",
       "  If you're reading this message in the Jupyter Notebook or JupyterLab Notebook, it may mean\n",
       "  that the widgets JavaScript is still loading. If this message persists, it\n",
       "  likely means that the widgets JavaScript library is either not installed or\n",
       "  not enabled. See the <a href=\"https://ipywidgets.readthedocs.io/en/stable/user_install.html\">Jupyter\n",
       "  Widgets Documentation</a> for setup instructions.\n",
       "</p>\n",
       "<p>\n",
       "  If you're reading this message in another frontend (for example, a static\n",
       "  rendering on GitHub or <a href=\"https://nbviewer.jupyter.org/\">NBViewer</a>),\n",
       "  it may mean that your frontend doesn't currently support widgets.\n",
       "</p>\n"
      ],
      "text/plain": [
       "HBox(children=(IntProgress(value=0, max=9), HTML(value='')))"
      ]
     },
     "metadata": {},
     "output_type": "display_data"
    },
    {
     "name": "stdout",
     "output_type": "stream",
     "text": [
      "E:\\MestradoData\\preprocessed\\all\\04\\22*rgb* 30\n",
      "E:\\MestradoData\\preprocessed\\all\\04\\36*rgb* 0\n",
      "E:\\MestradoData\\preprocessed\\all\\04\\33*rgb* 30\n",
      "E:\\MestradoData\\preprocessed\\all\\04\\19*rgb* 30\n",
      "E:\\MestradoData\\preprocessed\\all\\04\\27*rgb* 30\n",
      "E:\\MestradoData\\preprocessed\\all\\04\\16*rgb* 30\n",
      "E:\\MestradoData\\preprocessed\\all\\04\\25*rgb* 30\n",
      "E:\\MestradoData\\preprocessed\\all\\04\\40*rgb* 30\n",
      "E:\\MestradoData\\preprocessed\\all\\04\\07*rgb* 30\n",
      "\n",
      "folders created !\n"
     ]
    },
    {
     "data": {
      "application/vnd.jupyter.widget-view+json": {
       "model_id": "fa8798731fa043f6a7e6c5e85183c35a",
       "version_major": 2,
       "version_minor": 0
      },
      "text/html": [
       "<p>Failed to display Jupyter Widget of type <code>HBox</code>.</p>\n",
       "<p>\n",
       "  If you're reading this message in the Jupyter Notebook or JupyterLab Notebook, it may mean\n",
       "  that the widgets JavaScript is still loading. If this message persists, it\n",
       "  likely means that the widgets JavaScript library is either not installed or\n",
       "  not enabled. See the <a href=\"https://ipywidgets.readthedocs.io/en/stable/user_install.html\">Jupyter\n",
       "  Widgets Documentation</a> for setup instructions.\n",
       "</p>\n",
       "<p>\n",
       "  If you're reading this message in another frontend (for example, a static\n",
       "  rendering on GitHub or <a href=\"https://nbviewer.jupyter.org/\">NBViewer</a>),\n",
       "  it may mean that your frontend doesn't currently support widgets.\n",
       "</p>\n"
      ],
      "text/plain": [
       "HBox(children=(IntProgress(value=0, max=36), HTML(value='')))"
      ]
     },
     "metadata": {},
     "output_type": "display_data"
    },
    {
     "name": "stdout",
     "output_type": "stream",
     "text": [
      "E:\\MestradoData\\preprocessed\\all\\05\\23*rgb* 30\n",
      "E:\\MestradoData\\preprocessed\\all\\05\\04*rgb* 30\n",
      "E:\\MestradoData\\preprocessed\\all\\05\\38*rgb* 0\n",
      "E:\\MestradoData\\preprocessed\\all\\05\\42*rgb* 30\n",
      "E:\\MestradoData\\preprocessed\\all\\05\\17*rgb* 30\n",
      "E:\\MestradoData\\preprocessed\\all\\05\\35*rgb* 30\n",
      "E:\\MestradoData\\preprocessed\\all\\05\\29*rgb* 30\n",
      "E:\\MestradoData\\preprocessed\\all\\05\\06*rgb* 30\n",
      "E:\\MestradoData\\preprocessed\\all\\05\\15*rgb* 30\n",
      "E:\\MestradoData\\preprocessed\\all\\05\\09*rgb* 30\n",
      "E:\\MestradoData\\preprocessed\\all\\05\\10*rgb* 30\n",
      "E:\\MestradoData\\preprocessed\\all\\05\\26*rgb* 30\n",
      "E:\\MestradoData\\preprocessed\\all\\05\\13*rgb* 30\n",
      "E:\\MestradoData\\preprocessed\\all\\05\\43*rgb* 30\n",
      "E:\\MestradoData\\preprocessed\\all\\05\\20*rgb* 30\n",
      "E:\\MestradoData\\preprocessed\\all\\05\\05*rgb* 30\n",
      "E:\\MestradoData\\preprocessed\\all\\05\\39*rgb* 0\n",
      "E:\\MestradoData\\preprocessed\\all\\05\\02*rgb* 30\n",
      "E:\\MestradoData\\preprocessed\\all\\05\\12*rgb* 30\n",
      "E:\\MestradoData\\preprocessed\\all\\05\\24*rgb* 30\n",
      "E:\\MestradoData\\preprocessed\\all\\05\\08*rgb* 30\n",
      "E:\\MestradoData\\preprocessed\\all\\05\\34*rgb* 27\n",
      "E:\\MestradoData\\preprocessed\\all\\05\\21*rgb* 30\n",
      "E:\\MestradoData\\preprocessed\\all\\05\\41*rgb* 30\n",
      "E:\\MestradoData\\preprocessed\\all\\05\\44*rgb* 30\n",
      "E:\\MestradoData\\preprocessed\\all\\05\\11*rgb* 30\n",
      "E:\\MestradoData\\preprocessed\\all\\05\\18*rgb* 30\n",
      "E:\\MestradoData\\preprocessed\\all\\05\\32*rgb* 30\n",
      "E:\\MestradoData\\preprocessed\\all\\05\\30*rgb* 30\n",
      "E:\\MestradoData\\preprocessed\\all\\05\\14*rgb* 30\n",
      "E:\\MestradoData\\preprocessed\\all\\05\\01*rgb* 30\n",
      "E:\\MestradoData\\preprocessed\\all\\05\\45*rgb* 30\n",
      "E:\\MestradoData\\preprocessed\\all\\05\\31*rgb* 30\n",
      "E:\\MestradoData\\preprocessed\\all\\05\\28*rgb* 30\n",
      "E:\\MestradoData\\preprocessed\\all\\05\\03*rgb* 30\n",
      "E:\\MestradoData\\preprocessed\\all\\05\\37*rgb* 0\n",
      "\n"
     ]
    },
    {
     "data": {
      "application/vnd.jupyter.widget-view+json": {
       "model_id": "278d5746ee0c4aa2ac3e6a35a807bd13",
       "version_major": 2,
       "version_minor": 0
      },
      "text/html": [
       "<p>Failed to display Jupyter Widget of type <code>HBox</code>.</p>\n",
       "<p>\n",
       "  If you're reading this message in the Jupyter Notebook or JupyterLab Notebook, it may mean\n",
       "  that the widgets JavaScript is still loading. If this message persists, it\n",
       "  likely means that the widgets JavaScript library is either not installed or\n",
       "  not enabled. See the <a href=\"https://ipywidgets.readthedocs.io/en/stable/user_install.html\">Jupyter\n",
       "  Widgets Documentation</a> for setup instructions.\n",
       "</p>\n",
       "<p>\n",
       "  If you're reading this message in another frontend (for example, a static\n",
       "  rendering on GitHub or <a href=\"https://nbviewer.jupyter.org/\">NBViewer</a>),\n",
       "  it may mean that your frontend doesn't currently support widgets.\n",
       "</p>\n"
      ],
      "text/plain": [
       "HBox(children=(IntProgress(value=0, max=9), HTML(value='')))"
      ]
     },
     "metadata": {},
     "output_type": "display_data"
    },
    {
     "name": "stdout",
     "output_type": "stream",
     "text": [
      "E:\\MestradoData\\preprocessed\\all\\05\\22*rgb* 23\n",
      "E:\\MestradoData\\preprocessed\\all\\05\\36*rgb* 0\n",
      "E:\\MestradoData\\preprocessed\\all\\05\\33*rgb* 30\n",
      "E:\\MestradoData\\preprocessed\\all\\05\\19*rgb* 0\n",
      "E:\\MestradoData\\preprocessed\\all\\05\\27*rgb* 30\n",
      "E:\\MestradoData\\preprocessed\\all\\05\\16*rgb* 30\n",
      "E:\\MestradoData\\preprocessed\\all\\05\\25*rgb* 30\n",
      "E:\\MestradoData\\preprocessed\\all\\05\\40*rgb* 30\n",
      "E:\\MestradoData\\preprocessed\\all\\05\\07*rgb* 30\n",
      "\n",
      "folders created !\n"
     ]
    },
    {
     "data": {
      "application/vnd.jupyter.widget-view+json": {
       "model_id": "6e23fd40a38d4506b0601801ae3cd80d",
       "version_major": 2,
       "version_minor": 0
      },
      "text/html": [
       "<p>Failed to display Jupyter Widget of type <code>HBox</code>.</p>\n",
       "<p>\n",
       "  If you're reading this message in the Jupyter Notebook or JupyterLab Notebook, it may mean\n",
       "  that the widgets JavaScript is still loading. If this message persists, it\n",
       "  likely means that the widgets JavaScript library is either not installed or\n",
       "  not enabled. See the <a href=\"https://ipywidgets.readthedocs.io/en/stable/user_install.html\">Jupyter\n",
       "  Widgets Documentation</a> for setup instructions.\n",
       "</p>\n",
       "<p>\n",
       "  If you're reading this message in another frontend (for example, a static\n",
       "  rendering on GitHub or <a href=\"https://nbviewer.jupyter.org/\">NBViewer</a>),\n",
       "  it may mean that your frontend doesn't currently support widgets.\n",
       "</p>\n"
      ],
      "text/plain": [
       "HBox(children=(IntProgress(value=0, max=36), HTML(value='')))"
      ]
     },
     "metadata": {},
     "output_type": "display_data"
    },
    {
     "name": "stdout",
     "output_type": "stream",
     "text": [
      "E:\\MestradoData\\preprocessed\\all\\06\\23*rgb* 30\n",
      "E:\\MestradoData\\preprocessed\\all\\06\\04*rgb* 30\n",
      "E:\\MestradoData\\preprocessed\\all\\06\\38*rgb* 0\n",
      "E:\\MestradoData\\preprocessed\\all\\06\\42*rgb* 30\n",
      "E:\\MestradoData\\preprocessed\\all\\06\\17*rgb* 30\n",
      "E:\\MestradoData\\preprocessed\\all\\06\\35*rgb* 30\n",
      "E:\\MestradoData\\preprocessed\\all\\06\\29*rgb* 30\n",
      "E:\\MestradoData\\preprocessed\\all\\06\\06*rgb* 30\n",
      "E:\\MestradoData\\preprocessed\\all\\06\\15*rgb* 30\n",
      "E:\\MestradoData\\preprocessed\\all\\06\\09*rgb* 30\n",
      "E:\\MestradoData\\preprocessed\\all\\06\\10*rgb* 30\n",
      "E:\\MestradoData\\preprocessed\\all\\06\\26*rgb* 30\n",
      "E:\\MestradoData\\preprocessed\\all\\06\\13*rgb* 30\n",
      "E:\\MestradoData\\preprocessed\\all\\06\\43*rgb* 30\n",
      "E:\\MestradoData\\preprocessed\\all\\06\\20*rgb* 30\n",
      "E:\\MestradoData\\preprocessed\\all\\06\\05*rgb* 30\n",
      "E:\\MestradoData\\preprocessed\\all\\06\\39*rgb* 0\n",
      "E:\\MestradoData\\preprocessed\\all\\06\\02*rgb* 30\n",
      "E:\\MestradoData\\preprocessed\\all\\06\\12*rgb* 30\n",
      "E:\\MestradoData\\preprocessed\\all\\06\\24*rgb* 30\n",
      "E:\\MestradoData\\preprocessed\\all\\06\\08*rgb* 30\n",
      "E:\\MestradoData\\preprocessed\\all\\06\\34*rgb* 27\n",
      "E:\\MestradoData\\preprocessed\\all\\06\\21*rgb* 30\n",
      "E:\\MestradoData\\preprocessed\\all\\06\\41*rgb* 30\n",
      "E:\\MestradoData\\preprocessed\\all\\06\\44*rgb* 30\n",
      "E:\\MestradoData\\preprocessed\\all\\06\\11*rgb* 30\n",
      "E:\\MestradoData\\preprocessed\\all\\06\\18*rgb* 30\n",
      "E:\\MestradoData\\preprocessed\\all\\06\\32*rgb* 30\n",
      "E:\\MestradoData\\preprocessed\\all\\06\\30*rgb* 30\n",
      "E:\\MestradoData\\preprocessed\\all\\06\\14*rgb* 30\n",
      "E:\\MestradoData\\preprocessed\\all\\06\\01*rgb* 30\n",
      "E:\\MestradoData\\preprocessed\\all\\06\\45*rgb* 30\n",
      "E:\\MestradoData\\preprocessed\\all\\06\\31*rgb* 30\n",
      "E:\\MestradoData\\preprocessed\\all\\06\\28*rgb* 30\n",
      "E:\\MestradoData\\preprocessed\\all\\06\\03*rgb* 30\n",
      "E:\\MestradoData\\preprocessed\\all\\06\\37*rgb* 0\n",
      "\n"
     ]
    },
    {
     "data": {
      "application/vnd.jupyter.widget-view+json": {
       "model_id": "35ef4e9eb34f4751aa2dd518d03bc7a4",
       "version_major": 2,
       "version_minor": 0
      },
      "text/html": [
       "<p>Failed to display Jupyter Widget of type <code>HBox</code>.</p>\n",
       "<p>\n",
       "  If you're reading this message in the Jupyter Notebook or JupyterLab Notebook, it may mean\n",
       "  that the widgets JavaScript is still loading. If this message persists, it\n",
       "  likely means that the widgets JavaScript library is either not installed or\n",
       "  not enabled. See the <a href=\"https://ipywidgets.readthedocs.io/en/stable/user_install.html\">Jupyter\n",
       "  Widgets Documentation</a> for setup instructions.\n",
       "</p>\n",
       "<p>\n",
       "  If you're reading this message in another frontend (for example, a static\n",
       "  rendering on GitHub or <a href=\"https://nbviewer.jupyter.org/\">NBViewer</a>),\n",
       "  it may mean that your frontend doesn't currently support widgets.\n",
       "</p>\n"
      ],
      "text/plain": [
       "HBox(children=(IntProgress(value=0, max=9), HTML(value='')))"
      ]
     },
     "metadata": {},
     "output_type": "display_data"
    },
    {
     "name": "stdout",
     "output_type": "stream",
     "text": [
      "E:\\MestradoData\\preprocessed\\all\\06\\22*rgb* 30\n",
      "E:\\MestradoData\\preprocessed\\all\\06\\36*rgb* 0\n",
      "E:\\MestradoData\\preprocessed\\all\\06\\33*rgb* 30\n",
      "E:\\MestradoData\\preprocessed\\all\\06\\19*rgb* 30\n",
      "E:\\MestradoData\\preprocessed\\all\\06\\27*rgb* 30\n",
      "E:\\MestradoData\\preprocessed\\all\\06\\16*rgb* 30\n",
      "E:\\MestradoData\\preprocessed\\all\\06\\25*rgb* 30\n",
      "E:\\MestradoData\\preprocessed\\all\\06\\40*rgb* 30\n",
      "E:\\MestradoData\\preprocessed\\all\\06\\07*rgb* 30\n",
      "\n",
      "folders created !\n"
     ]
    },
    {
     "data": {
      "application/vnd.jupyter.widget-view+json": {
       "model_id": "86963821a59f4c2a97b9a342cf2af307",
       "version_major": 2,
       "version_minor": 0
      },
      "text/html": [
       "<p>Failed to display Jupyter Widget of type <code>HBox</code>.</p>\n",
       "<p>\n",
       "  If you're reading this message in the Jupyter Notebook or JupyterLab Notebook, it may mean\n",
       "  that the widgets JavaScript is still loading. If this message persists, it\n",
       "  likely means that the widgets JavaScript library is either not installed or\n",
       "  not enabled. See the <a href=\"https://ipywidgets.readthedocs.io/en/stable/user_install.html\">Jupyter\n",
       "  Widgets Documentation</a> for setup instructions.\n",
       "</p>\n",
       "<p>\n",
       "  If you're reading this message in another frontend (for example, a static\n",
       "  rendering on GitHub or <a href=\"https://nbviewer.jupyter.org/\">NBViewer</a>),\n",
       "  it may mean that your frontend doesn't currently support widgets.\n",
       "</p>\n"
      ],
      "text/plain": [
       "HBox(children=(IntProgress(value=0, max=36), HTML(value='')))"
      ]
     },
     "metadata": {},
     "output_type": "display_data"
    },
    {
     "name": "stdout",
     "output_type": "stream",
     "text": [
      "E:\\MestradoData\\preprocessed\\all\\07\\23*rgb* 30\n",
      "E:\\MestradoData\\preprocessed\\all\\07\\04*rgb* 30\n",
      "E:\\MestradoData\\preprocessed\\all\\07\\38*rgb* 0\n",
      "E:\\MestradoData\\preprocessed\\all\\07\\42*rgb* 30\n",
      "E:\\MestradoData\\preprocessed\\all\\07\\17*rgb* 30\n",
      "E:\\MestradoData\\preprocessed\\all\\07\\35*rgb* 30\n",
      "E:\\MestradoData\\preprocessed\\all\\07\\29*rgb* 30\n",
      "E:\\MestradoData\\preprocessed\\all\\07\\06*rgb* 30\n",
      "E:\\MestradoData\\preprocessed\\all\\07\\15*rgb* 30\n",
      "E:\\MestradoData\\preprocessed\\all\\07\\09*rgb* 30\n",
      "E:\\MestradoData\\preprocessed\\all\\07\\10*rgb* 30\n",
      "E:\\MestradoData\\preprocessed\\all\\07\\26*rgb* 30\n",
      "E:\\MestradoData\\preprocessed\\all\\07\\13*rgb* 0\n",
      "E:\\MestradoData\\preprocessed\\all\\07\\43*rgb* 30\n",
      "E:\\MestradoData\\preprocessed\\all\\07\\20*rgb* 30\n",
      "E:\\MestradoData\\preprocessed\\all\\07\\05*rgb* 30\n",
      "E:\\MestradoData\\preprocessed\\all\\07\\39*rgb* 0\n",
      "E:\\MestradoData\\preprocessed\\all\\07\\02*rgb* 30\n",
      "E:\\MestradoData\\preprocessed\\all\\07\\12*rgb* 30\n",
      "E:\\MestradoData\\preprocessed\\all\\07\\24*rgb* 30\n",
      "E:\\MestradoData\\preprocessed\\all\\07\\08*rgb* 30\n",
      "E:\\MestradoData\\preprocessed\\all\\07\\34*rgb* 30\n",
      "E:\\MestradoData\\preprocessed\\all\\07\\21*rgb* 30\n",
      "E:\\MestradoData\\preprocessed\\all\\07\\41*rgb* 30\n",
      "E:\\MestradoData\\preprocessed\\all\\07\\44*rgb* 30\n",
      "E:\\MestradoData\\preprocessed\\all\\07\\11*rgb* 27\n",
      "E:\\MestradoData\\preprocessed\\all\\07\\18*rgb* 0\n",
      "E:\\MestradoData\\preprocessed\\all\\07\\32*rgb* 30\n",
      "E:\\MestradoData\\preprocessed\\all\\07\\30*rgb* 30\n",
      "E:\\MestradoData\\preprocessed\\all\\07\\14*rgb* 30\n",
      "E:\\MestradoData\\preprocessed\\all\\07\\01*rgb* 30\n",
      "E:\\MestradoData\\preprocessed\\all\\07\\45*rgb* 30\n",
      "E:\\MestradoData\\preprocessed\\all\\07\\31*rgb* 30\n",
      "E:\\MestradoData\\preprocessed\\all\\07\\28*rgb* 30\n",
      "E:\\MestradoData\\preprocessed\\all\\07\\03*rgb* 30\n",
      "E:\\MestradoData\\preprocessed\\all\\07\\37*rgb* 0\n",
      "\n"
     ]
    },
    {
     "data": {
      "application/vnd.jupyter.widget-view+json": {
       "model_id": "71087aa016ec444b8d548376d47c48dc",
       "version_major": 2,
       "version_minor": 0
      },
      "text/html": [
       "<p>Failed to display Jupyter Widget of type <code>HBox</code>.</p>\n",
       "<p>\n",
       "  If you're reading this message in the Jupyter Notebook or JupyterLab Notebook, it may mean\n",
       "  that the widgets JavaScript is still loading. If this message persists, it\n",
       "  likely means that the widgets JavaScript library is either not installed or\n",
       "  not enabled. See the <a href=\"https://ipywidgets.readthedocs.io/en/stable/user_install.html\">Jupyter\n",
       "  Widgets Documentation</a> for setup instructions.\n",
       "</p>\n",
       "<p>\n",
       "  If you're reading this message in another frontend (for example, a static\n",
       "  rendering on GitHub or <a href=\"https://nbviewer.jupyter.org/\">NBViewer</a>),\n",
       "  it may mean that your frontend doesn't currently support widgets.\n",
       "</p>\n"
      ],
      "text/plain": [
       "HBox(children=(IntProgress(value=0, max=9), HTML(value='')))"
      ]
     },
     "metadata": {},
     "output_type": "display_data"
    },
    {
     "name": "stdout",
     "output_type": "stream",
     "text": [
      "E:\\MestradoData\\preprocessed\\all\\07\\22*rgb* 30\n",
      "E:\\MestradoData\\preprocessed\\all\\07\\36*rgb* 0\n",
      "E:\\MestradoData\\preprocessed\\all\\07\\33*rgb* 30\n",
      "E:\\MestradoData\\preprocessed\\all\\07\\19*rgb* 30\n",
      "E:\\MestradoData\\preprocessed\\all\\07\\27*rgb* 30\n",
      "E:\\MestradoData\\preprocessed\\all\\07\\16*rgb* 30\n",
      "E:\\MestradoData\\preprocessed\\all\\07\\25*rgb* 30\n",
      "E:\\MestradoData\\preprocessed\\all\\07\\40*rgb* 30\n",
      "E:\\MestradoData\\preprocessed\\all\\07\\07*rgb* 30\n",
      "\n",
      "folders created !\n"
     ]
    },
    {
     "data": {
      "application/vnd.jupyter.widget-view+json": {
       "model_id": "8ce653e3088b4b5ab314879ce0ff5aba",
       "version_major": 2,
       "version_minor": 0
      },
      "text/html": [
       "<p>Failed to display Jupyter Widget of type <code>HBox</code>.</p>\n",
       "<p>\n",
       "  If you're reading this message in the Jupyter Notebook or JupyterLab Notebook, it may mean\n",
       "  that the widgets JavaScript is still loading. If this message persists, it\n",
       "  likely means that the widgets JavaScript library is either not installed or\n",
       "  not enabled. See the <a href=\"https://ipywidgets.readthedocs.io/en/stable/user_install.html\">Jupyter\n",
       "  Widgets Documentation</a> for setup instructions.\n",
       "</p>\n",
       "<p>\n",
       "  If you're reading this message in another frontend (for example, a static\n",
       "  rendering on GitHub or <a href=\"https://nbviewer.jupyter.org/\">NBViewer</a>),\n",
       "  it may mean that your frontend doesn't currently support widgets.\n",
       "</p>\n"
      ],
      "text/plain": [
       "HBox(children=(IntProgress(value=0, max=36), HTML(value='')))"
      ]
     },
     "metadata": {},
     "output_type": "display_data"
    },
    {
     "name": "stdout",
     "output_type": "stream",
     "text": [
      "E:\\MestradoData\\preprocessed\\all\\08\\23*rgb* 30\n",
      "E:\\MestradoData\\preprocessed\\all\\08\\04*rgb* 30\n",
      "E:\\MestradoData\\preprocessed\\all\\08\\38*rgb* 0\n",
      "E:\\MestradoData\\preprocessed\\all\\08\\42*rgb* 30\n",
      "E:\\MestradoData\\preprocessed\\all\\08\\17*rgb* 30\n",
      "E:\\MestradoData\\preprocessed\\all\\08\\35*rgb* 30\n",
      "E:\\MestradoData\\preprocessed\\all\\08\\29*rgb* 30\n",
      "E:\\MestradoData\\preprocessed\\all\\08\\06*rgb* 30\n",
      "E:\\MestradoData\\preprocessed\\all\\08\\15*rgb* 30\n",
      "E:\\MestradoData\\preprocessed\\all\\08\\09*rgb* 30\n",
      "E:\\MestradoData\\preprocessed\\all\\08\\10*rgb* 30\n",
      "E:\\MestradoData\\preprocessed\\all\\08\\26*rgb* 30\n",
      "E:\\MestradoData\\preprocessed\\all\\08\\13*rgb* 0\n",
      "E:\\MestradoData\\preprocessed\\all\\08\\43*rgb* 30\n",
      "E:\\MestradoData\\preprocessed\\all\\08\\20*rgb* 30\n",
      "E:\\MestradoData\\preprocessed\\all\\08\\05*rgb* 30\n",
      "E:\\MestradoData\\preprocessed\\all\\08\\39*rgb* 0\n",
      "E:\\MestradoData\\preprocessed\\all\\08\\02*rgb* 30\n",
      "E:\\MestradoData\\preprocessed\\all\\08\\12*rgb* 30\n",
      "E:\\MestradoData\\preprocessed\\all\\08\\24*rgb* 30\n",
      "E:\\MestradoData\\preprocessed\\all\\08\\08*rgb* 30\n",
      "E:\\MestradoData\\preprocessed\\all\\08\\34*rgb* 30\n",
      "E:\\MestradoData\\preprocessed\\all\\08\\21*rgb* 30\n",
      "E:\\MestradoData\\preprocessed\\all\\08\\41*rgb* 30\n",
      "E:\\MestradoData\\preprocessed\\all\\08\\44*rgb* 30\n",
      "E:\\MestradoData\\preprocessed\\all\\08\\11*rgb* 27\n",
      "E:\\MestradoData\\preprocessed\\all\\08\\18*rgb* 0\n",
      "E:\\MestradoData\\preprocessed\\all\\08\\32*rgb* 30\n",
      "E:\\MestradoData\\preprocessed\\all\\08\\30*rgb* 30\n",
      "E:\\MestradoData\\preprocessed\\all\\08\\14*rgb* 30\n",
      "E:\\MestradoData\\preprocessed\\all\\08\\01*rgb* 30\n",
      "E:\\MestradoData\\preprocessed\\all\\08\\45*rgb* 30\n",
      "E:\\MestradoData\\preprocessed\\all\\08\\31*rgb* 30\n",
      "E:\\MestradoData\\preprocessed\\all\\08\\28*rgb* 30\n",
      "E:\\MestradoData\\preprocessed\\all\\08\\03*rgb* 30\n",
      "E:\\MestradoData\\preprocessed\\all\\08\\37*rgb* 0\n",
      "\n"
     ]
    },
    {
     "data": {
      "application/vnd.jupyter.widget-view+json": {
       "model_id": "4a970341b8b748d6aa2e153d444d37e6",
       "version_major": 2,
       "version_minor": 0
      },
      "text/html": [
       "<p>Failed to display Jupyter Widget of type <code>HBox</code>.</p>\n",
       "<p>\n",
       "  If you're reading this message in the Jupyter Notebook or JupyterLab Notebook, it may mean\n",
       "  that the widgets JavaScript is still loading. If this message persists, it\n",
       "  likely means that the widgets JavaScript library is either not installed or\n",
       "  not enabled. See the <a href=\"https://ipywidgets.readthedocs.io/en/stable/user_install.html\">Jupyter\n",
       "  Widgets Documentation</a> for setup instructions.\n",
       "</p>\n",
       "<p>\n",
       "  If you're reading this message in another frontend (for example, a static\n",
       "  rendering on GitHub or <a href=\"https://nbviewer.jupyter.org/\">NBViewer</a>),\n",
       "  it may mean that your frontend doesn't currently support widgets.\n",
       "</p>\n"
      ],
      "text/plain": [
       "HBox(children=(IntProgress(value=0, max=9), HTML(value='')))"
      ]
     },
     "metadata": {},
     "output_type": "display_data"
    },
    {
     "name": "stdout",
     "output_type": "stream",
     "text": [
      "E:\\MestradoData\\preprocessed\\all\\08\\22*rgb* 30\n",
      "E:\\MestradoData\\preprocessed\\all\\08\\36*rgb* 0\n",
      "E:\\MestradoData\\preprocessed\\all\\08\\33*rgb* 30\n",
      "E:\\MestradoData\\preprocessed\\all\\08\\19*rgb* 30\n",
      "E:\\MestradoData\\preprocessed\\all\\08\\27*rgb* 30\n",
      "E:\\MestradoData\\preprocessed\\all\\08\\16*rgb* 30\n",
      "E:\\MestradoData\\preprocessed\\all\\08\\25*rgb* 30\n",
      "E:\\MestradoData\\preprocessed\\all\\08\\40*rgb* 30\n",
      "E:\\MestradoData\\preprocessed\\all\\08\\07*rgb* 30\n",
      "\n",
      "folders created !\n"
     ]
    },
    {
     "data": {
      "application/vnd.jupyter.widget-view+json": {
       "model_id": "598af46f623f42cdba3b587b88acc6c3",
       "version_major": 2,
       "version_minor": 0
      },
      "text/html": [
       "<p>Failed to display Jupyter Widget of type <code>HBox</code>.</p>\n",
       "<p>\n",
       "  If you're reading this message in the Jupyter Notebook or JupyterLab Notebook, it may mean\n",
       "  that the widgets JavaScript is still loading. If this message persists, it\n",
       "  likely means that the widgets JavaScript library is either not installed or\n",
       "  not enabled. See the <a href=\"https://ipywidgets.readthedocs.io/en/stable/user_install.html\">Jupyter\n",
       "  Widgets Documentation</a> for setup instructions.\n",
       "</p>\n",
       "<p>\n",
       "  If you're reading this message in another frontend (for example, a static\n",
       "  rendering on GitHub or <a href=\"https://nbviewer.jupyter.org/\">NBViewer</a>),\n",
       "  it may mean that your frontend doesn't currently support widgets.\n",
       "</p>\n"
      ],
      "text/plain": [
       "HBox(children=(IntProgress(value=0, max=36), HTML(value='')))"
      ]
     },
     "metadata": {},
     "output_type": "display_data"
    },
    {
     "name": "stdout",
     "output_type": "stream",
     "text": [
      "E:\\MestradoData\\preprocessed\\all\\09\\23*rgb* 30\n",
      "E:\\MestradoData\\preprocessed\\all\\09\\04*rgb* 30\n",
      "E:\\MestradoData\\preprocessed\\all\\09\\38*rgb* 0\n",
      "E:\\MestradoData\\preprocessed\\all\\09\\42*rgb* 30\n",
      "E:\\MestradoData\\preprocessed\\all\\09\\17*rgb* 30\n",
      "E:\\MestradoData\\preprocessed\\all\\09\\35*rgb* 30\n",
      "E:\\MestradoData\\preprocessed\\all\\09\\29*rgb* 30\n",
      "E:\\MestradoData\\preprocessed\\all\\09\\06*rgb* 30\n",
      "E:\\MestradoData\\preprocessed\\all\\09\\15*rgb* 30\n",
      "E:\\MestradoData\\preprocessed\\all\\09\\09*rgb* 30\n",
      "E:\\MestradoData\\preprocessed\\all\\09\\10*rgb* 30\n",
      "E:\\MestradoData\\preprocessed\\all\\09\\26*rgb* 30\n",
      "E:\\MestradoData\\preprocessed\\all\\09\\13*rgb* 0\n",
      "E:\\MestradoData\\preprocessed\\all\\09\\43*rgb* 30\n",
      "E:\\MestradoData\\preprocessed\\all\\09\\20*rgb* 30\n",
      "E:\\MestradoData\\preprocessed\\all\\09\\05*rgb* 30\n",
      "E:\\MestradoData\\preprocessed\\all\\09\\39*rgb* 0\n",
      "E:\\MestradoData\\preprocessed\\all\\09\\02*rgb* 30\n",
      "E:\\MestradoData\\preprocessed\\all\\09\\12*rgb* 30\n",
      "E:\\MestradoData\\preprocessed\\all\\09\\24*rgb* 30\n",
      "E:\\MestradoData\\preprocessed\\all\\09\\08*rgb* 30\n",
      "E:\\MestradoData\\preprocessed\\all\\09\\34*rgb* 30\n",
      "E:\\MestradoData\\preprocessed\\all\\09\\21*rgb* 30\n",
      "E:\\MestradoData\\preprocessed\\all\\09\\41*rgb* 30\n",
      "E:\\MestradoData\\preprocessed\\all\\09\\44*rgb* 30\n",
      "E:\\MestradoData\\preprocessed\\all\\09\\11*rgb* 27\n",
      "E:\\MestradoData\\preprocessed\\all\\09\\18*rgb* 0\n",
      "E:\\MestradoData\\preprocessed\\all\\09\\32*rgb* 30\n",
      "E:\\MestradoData\\preprocessed\\all\\09\\30*rgb* 30\n",
      "E:\\MestradoData\\preprocessed\\all\\09\\14*rgb* 30\n",
      "E:\\MestradoData\\preprocessed\\all\\09\\01*rgb* 30\n",
      "E:\\MestradoData\\preprocessed\\all\\09\\45*rgb* 30\n",
      "E:\\MestradoData\\preprocessed\\all\\09\\31*rgb* 30\n",
      "E:\\MestradoData\\preprocessed\\all\\09\\28*rgb* 30\n",
      "E:\\MestradoData\\preprocessed\\all\\09\\03*rgb* 30\n",
      "E:\\MestradoData\\preprocessed\\all\\09\\37*rgb* 0\n",
      "\n"
     ]
    },
    {
     "data": {
      "application/vnd.jupyter.widget-view+json": {
       "model_id": "a03e39efdc0b4b69a1d82871625e2c1b",
       "version_major": 2,
       "version_minor": 0
      },
      "text/html": [
       "<p>Failed to display Jupyter Widget of type <code>HBox</code>.</p>\n",
       "<p>\n",
       "  If you're reading this message in the Jupyter Notebook or JupyterLab Notebook, it may mean\n",
       "  that the widgets JavaScript is still loading. If this message persists, it\n",
       "  likely means that the widgets JavaScript library is either not installed or\n",
       "  not enabled. See the <a href=\"https://ipywidgets.readthedocs.io/en/stable/user_install.html\">Jupyter\n",
       "  Widgets Documentation</a> for setup instructions.\n",
       "</p>\n",
       "<p>\n",
       "  If you're reading this message in another frontend (for example, a static\n",
       "  rendering on GitHub or <a href=\"https://nbviewer.jupyter.org/\">NBViewer</a>),\n",
       "  it may mean that your frontend doesn't currently support widgets.\n",
       "</p>\n"
      ],
      "text/plain": [
       "HBox(children=(IntProgress(value=0, max=9), HTML(value='')))"
      ]
     },
     "metadata": {},
     "output_type": "display_data"
    },
    {
     "name": "stdout",
     "output_type": "stream",
     "text": [
      "E:\\MestradoData\\preprocessed\\all\\09\\22*rgb* 30\n",
      "E:\\MestradoData\\preprocessed\\all\\09\\36*rgb* 0\n",
      "E:\\MestradoData\\preprocessed\\all\\09\\33*rgb* 30\n",
      "E:\\MestradoData\\preprocessed\\all\\09\\19*rgb* 30\n",
      "E:\\MestradoData\\preprocessed\\all\\09\\27*rgb* 30\n",
      "E:\\MestradoData\\preprocessed\\all\\09\\16*rgb* 30\n",
      "E:\\MestradoData\\preprocessed\\all\\09\\25*rgb* 30\n",
      "E:\\MestradoData\\preprocessed\\all\\09\\40*rgb* 30\n",
      "E:\\MestradoData\\preprocessed\\all\\09\\07*rgb* 30\n",
      "\n",
      "folders created !\n"
     ]
    },
    {
     "data": {
      "application/vnd.jupyter.widget-view+json": {
       "model_id": "2a4223b2311649398c8b07b79173c634",
       "version_major": 2,
       "version_minor": 0
      },
      "text/html": [
       "<p>Failed to display Jupyter Widget of type <code>HBox</code>.</p>\n",
       "<p>\n",
       "  If you're reading this message in the Jupyter Notebook or JupyterLab Notebook, it may mean\n",
       "  that the widgets JavaScript is still loading. If this message persists, it\n",
       "  likely means that the widgets JavaScript library is either not installed or\n",
       "  not enabled. See the <a href=\"https://ipywidgets.readthedocs.io/en/stable/user_install.html\">Jupyter\n",
       "  Widgets Documentation</a> for setup instructions.\n",
       "</p>\n",
       "<p>\n",
       "  If you're reading this message in another frontend (for example, a static\n",
       "  rendering on GitHub or <a href=\"https://nbviewer.jupyter.org/\">NBViewer</a>),\n",
       "  it may mean that your frontend doesn't currently support widgets.\n",
       "</p>\n"
      ],
      "text/plain": [
       "HBox(children=(IntProgress(value=0, max=36), HTML(value='')))"
      ]
     },
     "metadata": {},
     "output_type": "display_data"
    },
    {
     "name": "stdout",
     "output_type": "stream",
     "text": [
      "E:\\MestradoData\\preprocessed\\all\\10\\23*rgb* 30\n",
      "E:\\MestradoData\\preprocessed\\all\\10\\04*rgb* 30\n",
      "E:\\MestradoData\\preprocessed\\all\\10\\38*rgb* 0\n",
      "E:\\MestradoData\\preprocessed\\all\\10\\42*rgb* 30\n",
      "E:\\MestradoData\\preprocessed\\all\\10\\17*rgb* 30\n",
      "E:\\MestradoData\\preprocessed\\all\\10\\35*rgb* 30\n",
      "E:\\MestradoData\\preprocessed\\all\\10\\29*rgb* 30\n",
      "E:\\MestradoData\\preprocessed\\all\\10\\06*rgb* 30\n",
      "E:\\MestradoData\\preprocessed\\all\\10\\15*rgb* 30\n",
      "E:\\MestradoData\\preprocessed\\all\\10\\09*rgb* 30\n",
      "E:\\MestradoData\\preprocessed\\all\\10\\10*rgb* 30\n",
      "E:\\MestradoData\\preprocessed\\all\\10\\26*rgb* 30\n",
      "E:\\MestradoData\\preprocessed\\all\\10\\13*rgb* 0\n",
      "E:\\MestradoData\\preprocessed\\all\\10\\43*rgb* 30\n",
      "E:\\MestradoData\\preprocessed\\all\\10\\20*rgb* 30\n",
      "E:\\MestradoData\\preprocessed\\all\\10\\05*rgb* 30\n",
      "E:\\MestradoData\\preprocessed\\all\\10\\39*rgb* 0\n",
      "E:\\MestradoData\\preprocessed\\all\\10\\02*rgb* 30\n",
      "E:\\MestradoData\\preprocessed\\all\\10\\12*rgb* 30\n",
      "E:\\MestradoData\\preprocessed\\all\\10\\24*rgb* 30\n",
      "E:\\MestradoData\\preprocessed\\all\\10\\08*rgb* 30\n",
      "E:\\MestradoData\\preprocessed\\all\\10\\34*rgb* 30\n",
      "E:\\MestradoData\\preprocessed\\all\\10\\21*rgb* 30\n",
      "E:\\MestradoData\\preprocessed\\all\\10\\41*rgb* 30\n",
      "E:\\MestradoData\\preprocessed\\all\\10\\44*rgb* 30\n",
      "E:\\MestradoData\\preprocessed\\all\\10\\11*rgb* 27\n",
      "E:\\MestradoData\\preprocessed\\all\\10\\18*rgb* 0\n",
      "E:\\MestradoData\\preprocessed\\all\\10\\32*rgb* 30\n",
      "E:\\MestradoData\\preprocessed\\all\\10\\30*rgb* 30\n",
      "E:\\MestradoData\\preprocessed\\all\\10\\14*rgb* 30\n",
      "E:\\MestradoData\\preprocessed\\all\\10\\01*rgb* 30\n",
      "E:\\MestradoData\\preprocessed\\all\\10\\45*rgb* 30\n",
      "E:\\MestradoData\\preprocessed\\all\\10\\31*rgb* 30\n",
      "E:\\MestradoData\\preprocessed\\all\\10\\28*rgb* 30\n",
      "E:\\MestradoData\\preprocessed\\all\\10\\03*rgb* 30\n",
      "E:\\MestradoData\\preprocessed\\all\\10\\37*rgb* 0\n",
      "\n"
     ]
    },
    {
     "data": {
      "application/vnd.jupyter.widget-view+json": {
       "model_id": "3d857c7a77a04749bdb873cd0c7c03a4",
       "version_major": 2,
       "version_minor": 0
      },
      "text/html": [
       "<p>Failed to display Jupyter Widget of type <code>HBox</code>.</p>\n",
       "<p>\n",
       "  If you're reading this message in the Jupyter Notebook or JupyterLab Notebook, it may mean\n",
       "  that the widgets JavaScript is still loading. If this message persists, it\n",
       "  likely means that the widgets JavaScript library is either not installed or\n",
       "  not enabled. See the <a href=\"https://ipywidgets.readthedocs.io/en/stable/user_install.html\">Jupyter\n",
       "  Widgets Documentation</a> for setup instructions.\n",
       "</p>\n",
       "<p>\n",
       "  If you're reading this message in another frontend (for example, a static\n",
       "  rendering on GitHub or <a href=\"https://nbviewer.jupyter.org/\">NBViewer</a>),\n",
       "  it may mean that your frontend doesn't currently support widgets.\n",
       "</p>\n"
      ],
      "text/plain": [
       "HBox(children=(IntProgress(value=0, max=9), HTML(value='')))"
      ]
     },
     "metadata": {},
     "output_type": "display_data"
    },
    {
     "name": "stdout",
     "output_type": "stream",
     "text": [
      "E:\\MestradoData\\preprocessed\\all\\10\\22*rgb* 30\n",
      "E:\\MestradoData\\preprocessed\\all\\10\\36*rgb* 0\n",
      "E:\\MestradoData\\preprocessed\\all\\10\\33*rgb* 30\n",
      "E:\\MestradoData\\preprocessed\\all\\10\\19*rgb* 30\n",
      "E:\\MestradoData\\preprocessed\\all\\10\\27*rgb* 30\n",
      "E:\\MestradoData\\preprocessed\\all\\10\\16*rgb* 30\n",
      "E:\\MestradoData\\preprocessed\\all\\10\\25*rgb* 30\n",
      "E:\\MestradoData\\preprocessed\\all\\10\\40*rgb* 30\n",
      "E:\\MestradoData\\preprocessed\\all\\10\\07*rgb* 30\n",
      "\n",
      "folders created !\n"
     ]
    },
    {
     "data": {
      "application/vnd.jupyter.widget-view+json": {
       "model_id": "b417996576ce4c5385fef8ecdd6245de",
       "version_major": 2,
       "version_minor": 0
      },
      "text/html": [
       "<p>Failed to display Jupyter Widget of type <code>HBox</code>.</p>\n",
       "<p>\n",
       "  If you're reading this message in the Jupyter Notebook or JupyterLab Notebook, it may mean\n",
       "  that the widgets JavaScript is still loading. If this message persists, it\n",
       "  likely means that the widgets JavaScript library is either not installed or\n",
       "  not enabled. See the <a href=\"https://ipywidgets.readthedocs.io/en/stable/user_install.html\">Jupyter\n",
       "  Widgets Documentation</a> for setup instructions.\n",
       "</p>\n",
       "<p>\n",
       "  If you're reading this message in another frontend (for example, a static\n",
       "  rendering on GitHub or <a href=\"https://nbviewer.jupyter.org/\">NBViewer</a>),\n",
       "  it may mean that your frontend doesn't currently support widgets.\n",
       "</p>\n"
      ],
      "text/plain": [
       "HBox(children=(IntProgress(value=0, max=36), HTML(value='')))"
      ]
     },
     "metadata": {},
     "output_type": "display_data"
    },
    {
     "name": "stdout",
     "output_type": "stream",
     "text": [
      "E:\\MestradoData\\preprocessed\\all\\11\\23*rgb* 30\n",
      "E:\\MestradoData\\preprocessed\\all\\11\\04*rgb* 30\n",
      "E:\\MestradoData\\preprocessed\\all\\11\\38*rgb* 0\n",
      "E:\\MestradoData\\preprocessed\\all\\11\\42*rgb* 30\n",
      "E:\\MestradoData\\preprocessed\\all\\11\\17*rgb* 30\n",
      "E:\\MestradoData\\preprocessed\\all\\11\\35*rgb* 30\n",
      "E:\\MestradoData\\preprocessed\\all\\11\\29*rgb* 30\n",
      "E:\\MestradoData\\preprocessed\\all\\11\\06*rgb* 30\n",
      "E:\\MestradoData\\preprocessed\\all\\11\\15*rgb* 30\n",
      "E:\\MestradoData\\preprocessed\\all\\11\\09*rgb* 30\n",
      "E:\\MestradoData\\preprocessed\\all\\11\\10*rgb* 30\n",
      "E:\\MestradoData\\preprocessed\\all\\11\\26*rgb* 30\n",
      "E:\\MestradoData\\preprocessed\\all\\11\\13*rgb* 0\n",
      "E:\\MestradoData\\preprocessed\\all\\11\\43*rgb* 30\n",
      "E:\\MestradoData\\preprocessed\\all\\11\\20*rgb* 30\n",
      "E:\\MestradoData\\preprocessed\\all\\11\\05*rgb* 30\n",
      "E:\\MestradoData\\preprocessed\\all\\11\\39*rgb* 0\n",
      "E:\\MestradoData\\preprocessed\\all\\11\\02*rgb* 30\n",
      "E:\\MestradoData\\preprocessed\\all\\11\\12*rgb* 30\n",
      "E:\\MestradoData\\preprocessed\\all\\11\\24*rgb* 30\n",
      "E:\\MestradoData\\preprocessed\\all\\11\\08*rgb* 30\n",
      "E:\\MestradoData\\preprocessed\\all\\11\\34*rgb* 30\n",
      "E:\\MestradoData\\preprocessed\\all\\11\\21*rgb* 30\n",
      "E:\\MestradoData\\preprocessed\\all\\11\\41*rgb* 30\n",
      "E:\\MestradoData\\preprocessed\\all\\11\\44*rgb* 30\n",
      "E:\\MestradoData\\preprocessed\\all\\11\\11*rgb* 27\n",
      "E:\\MestradoData\\preprocessed\\all\\11\\18*rgb* 0\n",
      "E:\\MestradoData\\preprocessed\\all\\11\\32*rgb* 30\n",
      "E:\\MestradoData\\preprocessed\\all\\11\\30*rgb* 30\n",
      "E:\\MestradoData\\preprocessed\\all\\11\\14*rgb* 30\n",
      "E:\\MestradoData\\preprocessed\\all\\11\\01*rgb* 30\n",
      "E:\\MestradoData\\preprocessed\\all\\11\\45*rgb* 30\n",
      "E:\\MestradoData\\preprocessed\\all\\11\\31*rgb* 30\n",
      "E:\\MestradoData\\preprocessed\\all\\11\\28*rgb* 30\n",
      "E:\\MestradoData\\preprocessed\\all\\11\\03*rgb* 30\n",
      "E:\\MestradoData\\preprocessed\\all\\11\\37*rgb* 0\n",
      "\n"
     ]
    },
    {
     "data": {
      "application/vnd.jupyter.widget-view+json": {
       "model_id": "3cf8975be93b4adf9f499d67c2e374c2",
       "version_major": 2,
       "version_minor": 0
      },
      "text/html": [
       "<p>Failed to display Jupyter Widget of type <code>HBox</code>.</p>\n",
       "<p>\n",
       "  If you're reading this message in the Jupyter Notebook or JupyterLab Notebook, it may mean\n",
       "  that the widgets JavaScript is still loading. If this message persists, it\n",
       "  likely means that the widgets JavaScript library is either not installed or\n",
       "  not enabled. See the <a href=\"https://ipywidgets.readthedocs.io/en/stable/user_install.html\">Jupyter\n",
       "  Widgets Documentation</a> for setup instructions.\n",
       "</p>\n",
       "<p>\n",
       "  If you're reading this message in another frontend (for example, a static\n",
       "  rendering on GitHub or <a href=\"https://nbviewer.jupyter.org/\">NBViewer</a>),\n",
       "  it may mean that your frontend doesn't currently support widgets.\n",
       "</p>\n"
      ],
      "text/plain": [
       "HBox(children=(IntProgress(value=0, max=9), HTML(value='')))"
      ]
     },
     "metadata": {},
     "output_type": "display_data"
    },
    {
     "name": "stdout",
     "output_type": "stream",
     "text": [
      "E:\\MestradoData\\preprocessed\\all\\11\\22*rgb* 30\n",
      "E:\\MestradoData\\preprocessed\\all\\11\\36*rgb* 0\n",
      "E:\\MestradoData\\preprocessed\\all\\11\\33*rgb* 30\n",
      "E:\\MestradoData\\preprocessed\\all\\11\\19*rgb* 30\n",
      "E:\\MestradoData\\preprocessed\\all\\11\\27*rgb* 30\n",
      "E:\\MestradoData\\preprocessed\\all\\11\\16*rgb* 30\n",
      "E:\\MestradoData\\preprocessed\\all\\11\\25*rgb* 30\n",
      "E:\\MestradoData\\preprocessed\\all\\11\\40*rgb* 30\n",
      "E:\\MestradoData\\preprocessed\\all\\11\\07*rgb* 30\n",
      "\n",
      "folders created !\n"
     ]
    },
    {
     "data": {
      "application/vnd.jupyter.widget-view+json": {
       "model_id": "a83a3fde25c54275b2e7567205dfec25",
       "version_major": 2,
       "version_minor": 0
      },
      "text/html": [
       "<p>Failed to display Jupyter Widget of type <code>HBox</code>.</p>\n",
       "<p>\n",
       "  If you're reading this message in the Jupyter Notebook or JupyterLab Notebook, it may mean\n",
       "  that the widgets JavaScript is still loading. If this message persists, it\n",
       "  likely means that the widgets JavaScript library is either not installed or\n",
       "  not enabled. See the <a href=\"https://ipywidgets.readthedocs.io/en/stable/user_install.html\">Jupyter\n",
       "  Widgets Documentation</a> for setup instructions.\n",
       "</p>\n",
       "<p>\n",
       "  If you're reading this message in another frontend (for example, a static\n",
       "  rendering on GitHub or <a href=\"https://nbviewer.jupyter.org/\">NBViewer</a>),\n",
       "  it may mean that your frontend doesn't currently support widgets.\n",
       "</p>\n"
      ],
      "text/plain": [
       "HBox(children=(IntProgress(value=0, max=36), HTML(value='')))"
      ]
     },
     "metadata": {},
     "output_type": "display_data"
    },
    {
     "name": "stdout",
     "output_type": "stream",
     "text": [
      "E:\\MestradoData\\preprocessed\\all\\12\\23*rgb* 30\n",
      "E:\\MestradoData\\preprocessed\\all\\12\\04*rgb* 30\n",
      "E:\\MestradoData\\preprocessed\\all\\12\\38*rgb* 0\n",
      "E:\\MestradoData\\preprocessed\\all\\12\\42*rgb* 30\n",
      "E:\\MestradoData\\preprocessed\\all\\12\\17*rgb* 30\n",
      "E:\\MestradoData\\preprocessed\\all\\12\\35*rgb* 30\n",
      "E:\\MestradoData\\preprocessed\\all\\12\\29*rgb* 30\n",
      "E:\\MestradoData\\preprocessed\\all\\12\\06*rgb* 30\n",
      "E:\\MestradoData\\preprocessed\\all\\12\\15*rgb* 30\n",
      "E:\\MestradoData\\preprocessed\\all\\12\\09*rgb* 30\n",
      "E:\\MestradoData\\preprocessed\\all\\12\\10*rgb* 30\n",
      "E:\\MestradoData\\preprocessed\\all\\12\\26*rgb* 30\n",
      "E:\\MestradoData\\preprocessed\\all\\12\\13*rgb* 0\n",
      "E:\\MestradoData\\preprocessed\\all\\12\\43*rgb* 30\n",
      "E:\\MestradoData\\preprocessed\\all\\12\\20*rgb* 30\n",
      "E:\\MestradoData\\preprocessed\\all\\12\\05*rgb* 30\n",
      "E:\\MestradoData\\preprocessed\\all\\12\\39*rgb* 0\n",
      "E:\\MestradoData\\preprocessed\\all\\12\\02*rgb* 30\n",
      "E:\\MestradoData\\preprocessed\\all\\12\\12*rgb* 30\n",
      "E:\\MestradoData\\preprocessed\\all\\12\\24*rgb* 30\n",
      "E:\\MestradoData\\preprocessed\\all\\12\\08*rgb* 30\n",
      "E:\\MestradoData\\preprocessed\\all\\12\\34*rgb* 30\n",
      "E:\\MestradoData\\preprocessed\\all\\12\\21*rgb* 30\n",
      "E:\\MestradoData\\preprocessed\\all\\12\\41*rgb* 30\n",
      "E:\\MestradoData\\preprocessed\\all\\12\\44*rgb* 30\n",
      "E:\\MestradoData\\preprocessed\\all\\12\\11*rgb* 27\n",
      "E:\\MestradoData\\preprocessed\\all\\12\\18*rgb* 0\n",
      "E:\\MestradoData\\preprocessed\\all\\12\\32*rgb* 30\n",
      "E:\\MestradoData\\preprocessed\\all\\12\\30*rgb* 30\n",
      "E:\\MestradoData\\preprocessed\\all\\12\\14*rgb* 30\n",
      "E:\\MestradoData\\preprocessed\\all\\12\\01*rgb* 30\n",
      "E:\\MestradoData\\preprocessed\\all\\12\\45*rgb* 30\n",
      "E:\\MestradoData\\preprocessed\\all\\12\\31*rgb* 30\n",
      "E:\\MestradoData\\preprocessed\\all\\12\\28*rgb* 30\n",
      "E:\\MestradoData\\preprocessed\\all\\12\\03*rgb* 30\n",
      "E:\\MestradoData\\preprocessed\\all\\12\\37*rgb* 0\n",
      "\n"
     ]
    },
    {
     "data": {
      "application/vnd.jupyter.widget-view+json": {
       "model_id": "ad19f112a66b4bf190278c8ff72ac326",
       "version_major": 2,
       "version_minor": 0
      },
      "text/html": [
       "<p>Failed to display Jupyter Widget of type <code>HBox</code>.</p>\n",
       "<p>\n",
       "  If you're reading this message in the Jupyter Notebook or JupyterLab Notebook, it may mean\n",
       "  that the widgets JavaScript is still loading. If this message persists, it\n",
       "  likely means that the widgets JavaScript library is either not installed or\n",
       "  not enabled. See the <a href=\"https://ipywidgets.readthedocs.io/en/stable/user_install.html\">Jupyter\n",
       "  Widgets Documentation</a> for setup instructions.\n",
       "</p>\n",
       "<p>\n",
       "  If you're reading this message in another frontend (for example, a static\n",
       "  rendering on GitHub or <a href=\"https://nbviewer.jupyter.org/\">NBViewer</a>),\n",
       "  it may mean that your frontend doesn't currently support widgets.\n",
       "</p>\n"
      ],
      "text/plain": [
       "HBox(children=(IntProgress(value=0, max=9), HTML(value='')))"
      ]
     },
     "metadata": {},
     "output_type": "display_data"
    },
    {
     "name": "stdout",
     "output_type": "stream",
     "text": [
      "E:\\MestradoData\\preprocessed\\all\\12\\22*rgb* 30\n",
      "E:\\MestradoData\\preprocessed\\all\\12\\36*rgb* 0\n",
      "E:\\MestradoData\\preprocessed\\all\\12\\33*rgb* 30\n",
      "E:\\MestradoData\\preprocessed\\all\\12\\19*rgb* 30\n",
      "E:\\MestradoData\\preprocessed\\all\\12\\27*rgb* 30\n",
      "E:\\MestradoData\\preprocessed\\all\\12\\16*rgb* 30\n",
      "E:\\MestradoData\\preprocessed\\all\\12\\25*rgb* 30\n",
      "E:\\MestradoData\\preprocessed\\all\\12\\40*rgb* 30\n",
      "E:\\MestradoData\\preprocessed\\all\\12\\07*rgb* 30\n",
      "\n",
      "folders created !\n"
     ]
    },
    {
     "data": {
      "application/vnd.jupyter.widget-view+json": {
       "model_id": "5a33e67fc7f7465c87c7fd3e99266859",
       "version_major": 2,
       "version_minor": 0
      },
      "text/html": [
       "<p>Failed to display Jupyter Widget of type <code>HBox</code>.</p>\n",
       "<p>\n",
       "  If you're reading this message in the Jupyter Notebook or JupyterLab Notebook, it may mean\n",
       "  that the widgets JavaScript is still loading. If this message persists, it\n",
       "  likely means that the widgets JavaScript library is either not installed or\n",
       "  not enabled. See the <a href=\"https://ipywidgets.readthedocs.io/en/stable/user_install.html\">Jupyter\n",
       "  Widgets Documentation</a> for setup instructions.\n",
       "</p>\n",
       "<p>\n",
       "  If you're reading this message in another frontend (for example, a static\n",
       "  rendering on GitHub or <a href=\"https://nbviewer.jupyter.org/\">NBViewer</a>),\n",
       "  it may mean that your frontend doesn't currently support widgets.\n",
       "</p>\n"
      ],
      "text/plain": [
       "HBox(children=(IntProgress(value=0, max=36), HTML(value='')))"
      ]
     },
     "metadata": {},
     "output_type": "display_data"
    },
    {
     "name": "stdout",
     "output_type": "stream",
     "text": [
      "E:\\MestradoData\\preprocessed\\all\\13\\23*rgb* 30\n",
      "E:\\MestradoData\\preprocessed\\all\\13\\04*rgb* 30\n",
      "E:\\MestradoData\\preprocessed\\all\\13\\38*rgb* 0\n",
      "E:\\MestradoData\\preprocessed\\all\\13\\42*rgb* 30\n",
      "E:\\MestradoData\\preprocessed\\all\\13\\17*rgb* 30\n",
      "E:\\MestradoData\\preprocessed\\all\\13\\35*rgb* 30\n",
      "E:\\MestradoData\\preprocessed\\all\\13\\29*rgb* 30\n",
      "E:\\MestradoData\\preprocessed\\all\\13\\06*rgb* 30\n",
      "E:\\MestradoData\\preprocessed\\all\\13\\15*rgb* 30\n",
      "E:\\MestradoData\\preprocessed\\all\\13\\09*rgb* 30\n",
      "E:\\MestradoData\\preprocessed\\all\\13\\10*rgb* 30\n",
      "E:\\MestradoData\\preprocessed\\all\\13\\26*rgb* 30\n",
      "E:\\MestradoData\\preprocessed\\all\\13\\13*rgb* 0\n",
      "E:\\MestradoData\\preprocessed\\all\\13\\43*rgb* 30\n",
      "E:\\MestradoData\\preprocessed\\all\\13\\20*rgb* 30\n",
      "E:\\MestradoData\\preprocessed\\all\\13\\05*rgb* 30\n",
      "E:\\MestradoData\\preprocessed\\all\\13\\39*rgb* 0\n",
      "E:\\MestradoData\\preprocessed\\all\\13\\02*rgb* 30\n",
      "E:\\MestradoData\\preprocessed\\all\\13\\12*rgb* 30\n",
      "E:\\MestradoData\\preprocessed\\all\\13\\24*rgb* 30\n",
      "E:\\MestradoData\\preprocessed\\all\\13\\08*rgb* 30\n",
      "E:\\MestradoData\\preprocessed\\all\\13\\34*rgb* 30\n",
      "E:\\MestradoData\\preprocessed\\all\\13\\21*rgb* 30\n",
      "E:\\MestradoData\\preprocessed\\all\\13\\41*rgb* 30\n",
      "E:\\MestradoData\\preprocessed\\all\\13\\44*rgb* 30\n",
      "E:\\MestradoData\\preprocessed\\all\\13\\11*rgb* 27\n",
      "E:\\MestradoData\\preprocessed\\all\\13\\18*rgb* 0\n",
      "E:\\MestradoData\\preprocessed\\all\\13\\32*rgb* 30\n",
      "E:\\MestradoData\\preprocessed\\all\\13\\30*rgb* 30\n",
      "E:\\MestradoData\\preprocessed\\all\\13\\14*rgb* 30\n",
      "E:\\MestradoData\\preprocessed\\all\\13\\01*rgb* 30\n",
      "E:\\MestradoData\\preprocessed\\all\\13\\45*rgb* 30\n",
      "E:\\MestradoData\\preprocessed\\all\\13\\31*rgb* 30\n",
      "E:\\MestradoData\\preprocessed\\all\\13\\28*rgb* 30\n",
      "E:\\MestradoData\\preprocessed\\all\\13\\03*rgb* 30\n",
      "E:\\MestradoData\\preprocessed\\all\\13\\37*rgb* 0\n",
      "\n"
     ]
    },
    {
     "data": {
      "application/vnd.jupyter.widget-view+json": {
       "model_id": "27873c27079e4847b7d8733fea844227",
       "version_major": 2,
       "version_minor": 0
      },
      "text/html": [
       "<p>Failed to display Jupyter Widget of type <code>HBox</code>.</p>\n",
       "<p>\n",
       "  If you're reading this message in the Jupyter Notebook or JupyterLab Notebook, it may mean\n",
       "  that the widgets JavaScript is still loading. If this message persists, it\n",
       "  likely means that the widgets JavaScript library is either not installed or\n",
       "  not enabled. See the <a href=\"https://ipywidgets.readthedocs.io/en/stable/user_install.html\">Jupyter\n",
       "  Widgets Documentation</a> for setup instructions.\n",
       "</p>\n",
       "<p>\n",
       "  If you're reading this message in another frontend (for example, a static\n",
       "  rendering on GitHub or <a href=\"https://nbviewer.jupyter.org/\">NBViewer</a>),\n",
       "  it may mean that your frontend doesn't currently support widgets.\n",
       "</p>\n"
      ],
      "text/plain": [
       "HBox(children=(IntProgress(value=0, max=9), HTML(value='')))"
      ]
     },
     "metadata": {},
     "output_type": "display_data"
    },
    {
     "name": "stdout",
     "output_type": "stream",
     "text": [
      "E:\\MestradoData\\preprocessed\\all\\13\\22*rgb* 30\n",
      "E:\\MestradoData\\preprocessed\\all\\13\\36*rgb* 0\n",
      "E:\\MestradoData\\preprocessed\\all\\13\\33*rgb* 30\n",
      "E:\\MestradoData\\preprocessed\\all\\13\\19*rgb* 30\n",
      "E:\\MestradoData\\preprocessed\\all\\13\\27*rgb* 30\n",
      "E:\\MestradoData\\preprocessed\\all\\13\\16*rgb* 30\n",
      "E:\\MestradoData\\preprocessed\\all\\13\\25*rgb* 30\n",
      "E:\\MestradoData\\preprocessed\\all\\13\\40*rgb* 30\n",
      "E:\\MestradoData\\preprocessed\\all\\13\\07*rgb* 30\n",
      "\n",
      "folders created !\n"
     ]
    },
    {
     "data": {
      "application/vnd.jupyter.widget-view+json": {
       "model_id": "accd3234e29f4ec3a7c01ff1b022ecab",
       "version_major": 2,
       "version_minor": 0
      },
      "text/html": [
       "<p>Failed to display Jupyter Widget of type <code>HBox</code>.</p>\n",
       "<p>\n",
       "  If you're reading this message in the Jupyter Notebook or JupyterLab Notebook, it may mean\n",
       "  that the widgets JavaScript is still loading. If this message persists, it\n",
       "  likely means that the widgets JavaScript library is either not installed or\n",
       "  not enabled. See the <a href=\"https://ipywidgets.readthedocs.io/en/stable/user_install.html\">Jupyter\n",
       "  Widgets Documentation</a> for setup instructions.\n",
       "</p>\n",
       "<p>\n",
       "  If you're reading this message in another frontend (for example, a static\n",
       "  rendering on GitHub or <a href=\"https://nbviewer.jupyter.org/\">NBViewer</a>),\n",
       "  it may mean that your frontend doesn't currently support widgets.\n",
       "</p>\n"
      ],
      "text/plain": [
       "HBox(children=(IntProgress(value=0, max=36), HTML(value='')))"
      ]
     },
     "metadata": {},
     "output_type": "display_data"
    },
    {
     "name": "stdout",
     "output_type": "stream",
     "text": [
      "E:\\MestradoData\\preprocessed\\all\\14\\23*rgb* 30\n",
      "E:\\MestradoData\\preprocessed\\all\\14\\04*rgb* 30\n",
      "E:\\MestradoData\\preprocessed\\all\\14\\38*rgb* 0\n",
      "E:\\MestradoData\\preprocessed\\all\\14\\42*rgb* 30\n",
      "E:\\MestradoData\\preprocessed\\all\\14\\17*rgb* 30\n",
      "E:\\MestradoData\\preprocessed\\all\\14\\35*rgb* 30\n",
      "E:\\MestradoData\\preprocessed\\all\\14\\29*rgb* 30\n",
      "E:\\MestradoData\\preprocessed\\all\\14\\06*rgb* 30\n",
      "E:\\MestradoData\\preprocessed\\all\\14\\15*rgb* 30\n",
      "E:\\MestradoData\\preprocessed\\all\\14\\09*rgb* 30\n",
      "E:\\MestradoData\\preprocessed\\all\\14\\10*rgb* 30\n",
      "E:\\MestradoData\\preprocessed\\all\\14\\26*rgb* 30\n",
      "E:\\MestradoData\\preprocessed\\all\\14\\13*rgb* 0\n",
      "E:\\MestradoData\\preprocessed\\all\\14\\43*rgb* 30\n",
      "E:\\MestradoData\\preprocessed\\all\\14\\20*rgb* 30\n",
      "E:\\MestradoData\\preprocessed\\all\\14\\05*rgb* 30\n",
      "E:\\MestradoData\\preprocessed\\all\\14\\39*rgb* 0\n",
      "E:\\MestradoData\\preprocessed\\all\\14\\02*rgb* 30\n",
      "E:\\MestradoData\\preprocessed\\all\\14\\12*rgb* 30\n",
      "E:\\MestradoData\\preprocessed\\all\\14\\24*rgb* 30\n",
      "E:\\MestradoData\\preprocessed\\all\\14\\08*rgb* 30\n",
      "E:\\MestradoData\\preprocessed\\all\\14\\34*rgb* 30\n",
      "E:\\MestradoData\\preprocessed\\all\\14\\21*rgb* 30\n",
      "E:\\MestradoData\\preprocessed\\all\\14\\41*rgb* 30\n",
      "E:\\MestradoData\\preprocessed\\all\\14\\44*rgb* 30\n",
      "E:\\MestradoData\\preprocessed\\all\\14\\11*rgb* 27\n",
      "E:\\MestradoData\\preprocessed\\all\\14\\18*rgb* 0\n",
      "E:\\MestradoData\\preprocessed\\all\\14\\32*rgb* 30\n",
      "E:\\MestradoData\\preprocessed\\all\\14\\30*rgb* 30\n",
      "E:\\MestradoData\\preprocessed\\all\\14\\14*rgb* 30\n",
      "E:\\MestradoData\\preprocessed\\all\\14\\01*rgb* 30\n",
      "E:\\MestradoData\\preprocessed\\all\\14\\45*rgb* 30\n",
      "E:\\MestradoData\\preprocessed\\all\\14\\31*rgb* 30\n",
      "E:\\MestradoData\\preprocessed\\all\\14\\28*rgb* 30\n",
      "E:\\MestradoData\\preprocessed\\all\\14\\03*rgb* 30\n",
      "E:\\MestradoData\\preprocessed\\all\\14\\37*rgb* 0\n",
      "\n"
     ]
    },
    {
     "data": {
      "application/vnd.jupyter.widget-view+json": {
       "model_id": "2f64dd3fd5b84f50b02dc45a3263e0db",
       "version_major": 2,
       "version_minor": 0
      },
      "text/html": [
       "<p>Failed to display Jupyter Widget of type <code>HBox</code>.</p>\n",
       "<p>\n",
       "  If you're reading this message in the Jupyter Notebook or JupyterLab Notebook, it may mean\n",
       "  that the widgets JavaScript is still loading. If this message persists, it\n",
       "  likely means that the widgets JavaScript library is either not installed or\n",
       "  not enabled. See the <a href=\"https://ipywidgets.readthedocs.io/en/stable/user_install.html\">Jupyter\n",
       "  Widgets Documentation</a> for setup instructions.\n",
       "</p>\n",
       "<p>\n",
       "  If you're reading this message in another frontend (for example, a static\n",
       "  rendering on GitHub or <a href=\"https://nbviewer.jupyter.org/\">NBViewer</a>),\n",
       "  it may mean that your frontend doesn't currently support widgets.\n",
       "</p>\n"
      ],
      "text/plain": [
       "HBox(children=(IntProgress(value=0, max=9), HTML(value='')))"
      ]
     },
     "metadata": {},
     "output_type": "display_data"
    },
    {
     "name": "stdout",
     "output_type": "stream",
     "text": [
      "E:\\MestradoData\\preprocessed\\all\\14\\22*rgb* 30\n",
      "E:\\MestradoData\\preprocessed\\all\\14\\36*rgb* 0\n",
      "E:\\MestradoData\\preprocessed\\all\\14\\33*rgb* 0\n",
      "E:\\MestradoData\\preprocessed\\all\\14\\19*rgb* 30\n",
      "E:\\MestradoData\\preprocessed\\all\\14\\27*rgb* 30\n",
      "E:\\MestradoData\\preprocessed\\all\\14\\16*rgb* 30\n",
      "E:\\MestradoData\\preprocessed\\all\\14\\25*rgb* 30\n",
      "E:\\MestradoData\\preprocessed\\all\\14\\40*rgb* 30\n",
      "E:\\MestradoData\\preprocessed\\all\\14\\07*rgb* 30\n",
      "\n",
      "folders created !\n"
     ]
    },
    {
     "data": {
      "application/vnd.jupyter.widget-view+json": {
       "model_id": "dc4e84b233cd447abf2b85492d5656ee",
       "version_major": 2,
       "version_minor": 0
      },
      "text/html": [
       "<p>Failed to display Jupyter Widget of type <code>HBox</code>.</p>\n",
       "<p>\n",
       "  If you're reading this message in the Jupyter Notebook or JupyterLab Notebook, it may mean\n",
       "  that the widgets JavaScript is still loading. If this message persists, it\n",
       "  likely means that the widgets JavaScript library is either not installed or\n",
       "  not enabled. See the <a href=\"https://ipywidgets.readthedocs.io/en/stable/user_install.html\">Jupyter\n",
       "  Widgets Documentation</a> for setup instructions.\n",
       "</p>\n",
       "<p>\n",
       "  If you're reading this message in another frontend (for example, a static\n",
       "  rendering on GitHub or <a href=\"https://nbviewer.jupyter.org/\">NBViewer</a>),\n",
       "  it may mean that your frontend doesn't currently support widgets.\n",
       "</p>\n"
      ],
      "text/plain": [
       "HBox(children=(IntProgress(value=0, max=36), HTML(value='')))"
      ]
     },
     "metadata": {},
     "output_type": "display_data"
    },
    {
     "name": "stdout",
     "output_type": "stream",
     "text": [
      "E:\\MestradoData\\preprocessed\\all\\15\\23*rgb* 30\n",
      "E:\\MestradoData\\preprocessed\\all\\15\\04*rgb* 30\n",
      "E:\\MestradoData\\preprocessed\\all\\15\\38*rgb* 0\n",
      "E:\\MestradoData\\preprocessed\\all\\15\\42*rgb* 30\n",
      "E:\\MestradoData\\preprocessed\\all\\15\\17*rgb* 30\n",
      "E:\\MestradoData\\preprocessed\\all\\15\\35*rgb* 30\n",
      "E:\\MestradoData\\preprocessed\\all\\15\\29*rgb* 30\n",
      "E:\\MestradoData\\preprocessed\\all\\15\\06*rgb* 30\n",
      "E:\\MestradoData\\preprocessed\\all\\15\\15*rgb* 30\n",
      "E:\\MestradoData\\preprocessed\\all\\15\\09*rgb* 30\n",
      "E:\\MestradoData\\preprocessed\\all\\15\\10*rgb* 30\n",
      "E:\\MestradoData\\preprocessed\\all\\15\\26*rgb* 30\n",
      "E:\\MestradoData\\preprocessed\\all\\15\\13*rgb* 0\n",
      "E:\\MestradoData\\preprocessed\\all\\15\\43*rgb* 30\n",
      "E:\\MestradoData\\preprocessed\\all\\15\\20*rgb* 30\n",
      "E:\\MestradoData\\preprocessed\\all\\15\\05*rgb* 0\n",
      "E:\\MestradoData\\preprocessed\\all\\15\\39*rgb* 0\n",
      "E:\\MestradoData\\preprocessed\\all\\15\\02*rgb* 30\n",
      "E:\\MestradoData\\preprocessed\\all\\15\\12*rgb* 30\n",
      "E:\\MestradoData\\preprocessed\\all\\15\\24*rgb* 30\n",
      "E:\\MestradoData\\preprocessed\\all\\15\\08*rgb* 30\n",
      "E:\\MestradoData\\preprocessed\\all\\15\\34*rgb* 30\n",
      "E:\\MestradoData\\preprocessed\\all\\15\\21*rgb* 30\n",
      "E:\\MestradoData\\preprocessed\\all\\15\\41*rgb* 30\n",
      "E:\\MestradoData\\preprocessed\\all\\15\\44*rgb* 30\n",
      "E:\\MestradoData\\preprocessed\\all\\15\\11*rgb* 27\n",
      "E:\\MestradoData\\preprocessed\\all\\15\\18*rgb* 0\n",
      "E:\\MestradoData\\preprocessed\\all\\15\\32*rgb* 30\n",
      "E:\\MestradoData\\preprocessed\\all\\15\\30*rgb* 30\n",
      "E:\\MestradoData\\preprocessed\\all\\15\\14*rgb* 30\n",
      "E:\\MestradoData\\preprocessed\\all\\15\\01*rgb* 30\n",
      "E:\\MestradoData\\preprocessed\\all\\15\\45*rgb* 30\n",
      "E:\\MestradoData\\preprocessed\\all\\15\\31*rgb* 30\n",
      "E:\\MestradoData\\preprocessed\\all\\15\\28*rgb* 30\n",
      "E:\\MestradoData\\preprocessed\\all\\15\\03*rgb* 30\n",
      "E:\\MestradoData\\preprocessed\\all\\15\\37*rgb* 0\n",
      "\n"
     ]
    },
    {
     "data": {
      "application/vnd.jupyter.widget-view+json": {
       "model_id": "038e8722a59846fc9a4655973c9a38e3",
       "version_major": 2,
       "version_minor": 0
      },
      "text/html": [
       "<p>Failed to display Jupyter Widget of type <code>HBox</code>.</p>\n",
       "<p>\n",
       "  If you're reading this message in the Jupyter Notebook or JupyterLab Notebook, it may mean\n",
       "  that the widgets JavaScript is still loading. If this message persists, it\n",
       "  likely means that the widgets JavaScript library is either not installed or\n",
       "  not enabled. See the <a href=\"https://ipywidgets.readthedocs.io/en/stable/user_install.html\">Jupyter\n",
       "  Widgets Documentation</a> for setup instructions.\n",
       "</p>\n",
       "<p>\n",
       "  If you're reading this message in another frontend (for example, a static\n",
       "  rendering on GitHub or <a href=\"https://nbviewer.jupyter.org/\">NBViewer</a>),\n",
       "  it may mean that your frontend doesn't currently support widgets.\n",
       "</p>\n"
      ],
      "text/plain": [
       "HBox(children=(IntProgress(value=0, max=9), HTML(value='')))"
      ]
     },
     "metadata": {},
     "output_type": "display_data"
    },
    {
     "name": "stdout",
     "output_type": "stream",
     "text": [
      "E:\\MestradoData\\preprocessed\\all\\15\\22*rgb* 30\n",
      "E:\\MestradoData\\preprocessed\\all\\15\\36*rgb* 0\n",
      "E:\\MestradoData\\preprocessed\\all\\15\\33*rgb* 30\n",
      "E:\\MestradoData\\preprocessed\\all\\15\\19*rgb* 30\n",
      "E:\\MestradoData\\preprocessed\\all\\15\\27*rgb* 30\n",
      "E:\\MestradoData\\preprocessed\\all\\15\\16*rgb* 30\n",
      "E:\\MestradoData\\preprocessed\\all\\15\\25*rgb* 30\n",
      "E:\\MestradoData\\preprocessed\\all\\15\\40*rgb* 30\n",
      "E:\\MestradoData\\preprocessed\\all\\15\\07*rgb* 30\n",
      "\n",
      "folders created !\n"
     ]
    },
    {
     "data": {
      "application/vnd.jupyter.widget-view+json": {
       "model_id": "b9bc1557c82147f899ea2bf7eaaf65f2",
       "version_major": 2,
       "version_minor": 0
      },
      "text/html": [
       "<p>Failed to display Jupyter Widget of type <code>HBox</code>.</p>\n",
       "<p>\n",
       "  If you're reading this message in the Jupyter Notebook or JupyterLab Notebook, it may mean\n",
       "  that the widgets JavaScript is still loading. If this message persists, it\n",
       "  likely means that the widgets JavaScript library is either not installed or\n",
       "  not enabled. See the <a href=\"https://ipywidgets.readthedocs.io/en/stable/user_install.html\">Jupyter\n",
       "  Widgets Documentation</a> for setup instructions.\n",
       "</p>\n",
       "<p>\n",
       "  If you're reading this message in another frontend (for example, a static\n",
       "  rendering on GitHub or <a href=\"https://nbviewer.jupyter.org/\">NBViewer</a>),\n",
       "  it may mean that your frontend doesn't currently support widgets.\n",
       "</p>\n"
      ],
      "text/plain": [
       "HBox(children=(IntProgress(value=0, max=36), HTML(value='')))"
      ]
     },
     "metadata": {},
     "output_type": "display_data"
    },
    {
     "name": "stdout",
     "output_type": "stream",
     "text": [
      "E:\\MestradoData\\preprocessed\\all\\16\\23*rgb* 30\n",
      "E:\\MestradoData\\preprocessed\\all\\16\\04*rgb* 30\n",
      "E:\\MestradoData\\preprocessed\\all\\16\\38*rgb* 0\n",
      "E:\\MestradoData\\preprocessed\\all\\16\\42*rgb* 30\n",
      "E:\\MestradoData\\preprocessed\\all\\16\\17*rgb* 30\n",
      "E:\\MestradoData\\preprocessed\\all\\16\\35*rgb* 30\n",
      "E:\\MestradoData\\preprocessed\\all\\16\\29*rgb* 30\n",
      "E:\\MestradoData\\preprocessed\\all\\16\\06*rgb* 30\n",
      "E:\\MestradoData\\preprocessed\\all\\16\\15*rgb* 30\n",
      "E:\\MestradoData\\preprocessed\\all\\16\\09*rgb* 30\n",
      "E:\\MestradoData\\preprocessed\\all\\16\\10*rgb* 30\n",
      "E:\\MestradoData\\preprocessed\\all\\16\\26*rgb* 30\n",
      "E:\\MestradoData\\preprocessed\\all\\16\\13*rgb* 0\n",
      "E:\\MestradoData\\preprocessed\\all\\16\\43*rgb* 30\n",
      "E:\\MestradoData\\preprocessed\\all\\16\\20*rgb* 30\n",
      "E:\\MestradoData\\preprocessed\\all\\16\\05*rgb* 30\n",
      "E:\\MestradoData\\preprocessed\\all\\16\\39*rgb* 0\n",
      "E:\\MestradoData\\preprocessed\\all\\16\\02*rgb* 30\n",
      "E:\\MestradoData\\preprocessed\\all\\16\\12*rgb* 30\n",
      "E:\\MestradoData\\preprocessed\\all\\16\\24*rgb* 30\n",
      "E:\\MestradoData\\preprocessed\\all\\16\\08*rgb* 30\n",
      "E:\\MestradoData\\preprocessed\\all\\16\\34*rgb* 30\n",
      "E:\\MestradoData\\preprocessed\\all\\16\\21*rgb* 30\n",
      "E:\\MestradoData\\preprocessed\\all\\16\\41*rgb* 30\n",
      "E:\\MestradoData\\preprocessed\\all\\16\\44*rgb* 30\n",
      "E:\\MestradoData\\preprocessed\\all\\16\\11*rgb* 27\n",
      "E:\\MestradoData\\preprocessed\\all\\16\\18*rgb* 0\n",
      "E:\\MestradoData\\preprocessed\\all\\16\\32*rgb* 30\n",
      "E:\\MestradoData\\preprocessed\\all\\16\\30*rgb* 30\n",
      "E:\\MestradoData\\preprocessed\\all\\16\\14*rgb* 30\n",
      "E:\\MestradoData\\preprocessed\\all\\16\\01*rgb* 30\n",
      "E:\\MestradoData\\preprocessed\\all\\16\\45*rgb* 30\n",
      "E:\\MestradoData\\preprocessed\\all\\16\\31*rgb* 30\n",
      "E:\\MestradoData\\preprocessed\\all\\16\\28*rgb* 30\n",
      "E:\\MestradoData\\preprocessed\\all\\16\\03*rgb* 30\n",
      "E:\\MestradoData\\preprocessed\\all\\16\\37*rgb* 0\n",
      "\n"
     ]
    },
    {
     "data": {
      "application/vnd.jupyter.widget-view+json": {
       "model_id": "6fd60d601e28461e96542960c568c51a",
       "version_major": 2,
       "version_minor": 0
      },
      "text/html": [
       "<p>Failed to display Jupyter Widget of type <code>HBox</code>.</p>\n",
       "<p>\n",
       "  If you're reading this message in the Jupyter Notebook or JupyterLab Notebook, it may mean\n",
       "  that the widgets JavaScript is still loading. If this message persists, it\n",
       "  likely means that the widgets JavaScript library is either not installed or\n",
       "  not enabled. See the <a href=\"https://ipywidgets.readthedocs.io/en/stable/user_install.html\">Jupyter\n",
       "  Widgets Documentation</a> for setup instructions.\n",
       "</p>\n",
       "<p>\n",
       "  If you're reading this message in another frontend (for example, a static\n",
       "  rendering on GitHub or <a href=\"https://nbviewer.jupyter.org/\">NBViewer</a>),\n",
       "  it may mean that your frontend doesn't currently support widgets.\n",
       "</p>\n"
      ],
      "text/plain": [
       "HBox(children=(IntProgress(value=0, max=9), HTML(value='')))"
      ]
     },
     "metadata": {},
     "output_type": "display_data"
    },
    {
     "name": "stdout",
     "output_type": "stream",
     "text": [
      "E:\\MestradoData\\preprocessed\\all\\16\\22*rgb* 30\n",
      "E:\\MestradoData\\preprocessed\\all\\16\\36*rgb* 0\n",
      "E:\\MestradoData\\preprocessed\\all\\16\\33*rgb* 30\n",
      "E:\\MestradoData\\preprocessed\\all\\16\\19*rgb* 30\n",
      "E:\\MestradoData\\preprocessed\\all\\16\\27*rgb* 30\n",
      "E:\\MestradoData\\preprocessed\\all\\16\\16*rgb* 30\n",
      "E:\\MestradoData\\preprocessed\\all\\16\\25*rgb* 30\n",
      "E:\\MestradoData\\preprocessed\\all\\16\\40*rgb* 30\n",
      "E:\\MestradoData\\preprocessed\\all\\16\\07*rgb* 30\n",
      "\n",
      "folders created !\n"
     ]
    },
    {
     "data": {
      "application/vnd.jupyter.widget-view+json": {
       "model_id": "fbbe436d8755475098385c1f759a3577",
       "version_major": 2,
       "version_minor": 0
      },
      "text/html": [
       "<p>Failed to display Jupyter Widget of type <code>HBox</code>.</p>\n",
       "<p>\n",
       "  If you're reading this message in the Jupyter Notebook or JupyterLab Notebook, it may mean\n",
       "  that the widgets JavaScript is still loading. If this message persists, it\n",
       "  likely means that the widgets JavaScript library is either not installed or\n",
       "  not enabled. See the <a href=\"https://ipywidgets.readthedocs.io/en/stable/user_install.html\">Jupyter\n",
       "  Widgets Documentation</a> for setup instructions.\n",
       "</p>\n",
       "<p>\n",
       "  If you're reading this message in another frontend (for example, a static\n",
       "  rendering on GitHub or <a href=\"https://nbviewer.jupyter.org/\">NBViewer</a>),\n",
       "  it may mean that your frontend doesn't currently support widgets.\n",
       "</p>\n"
      ],
      "text/plain": [
       "HBox(children=(IntProgress(value=0, max=36), HTML(value='')))"
      ]
     },
     "metadata": {},
     "output_type": "display_data"
    },
    {
     "name": "stdout",
     "output_type": "stream",
     "text": [
      "E:\\MestradoData\\preprocessed\\all\\17\\23*rgb* 30\n",
      "E:\\MestradoData\\preprocessed\\all\\17\\04*rgb* 30\n",
      "E:\\MestradoData\\preprocessed\\all\\17\\38*rgb* 0\n",
      "E:\\MestradoData\\preprocessed\\all\\17\\42*rgb* 30\n",
      "E:\\MestradoData\\preprocessed\\all\\17\\17*rgb* 30\n",
      "E:\\MestradoData\\preprocessed\\all\\17\\35*rgb* 30\n",
      "E:\\MestradoData\\preprocessed\\all\\17\\29*rgb* 30\n",
      "E:\\MestradoData\\preprocessed\\all\\17\\06*rgb* 30\n",
      "E:\\MestradoData\\preprocessed\\all\\17\\15*rgb* 30\n",
      "E:\\MestradoData\\preprocessed\\all\\17\\09*rgb* 30\n",
      "E:\\MestradoData\\preprocessed\\all\\17\\10*rgb* 30\n",
      "E:\\MestradoData\\preprocessed\\all\\17\\26*rgb* 30\n",
      "E:\\MestradoData\\preprocessed\\all\\17\\13*rgb* 0\n",
      "E:\\MestradoData\\preprocessed\\all\\17\\43*rgb* 30\n",
      "E:\\MestradoData\\preprocessed\\all\\17\\20*rgb* 30\n",
      "E:\\MestradoData\\preprocessed\\all\\17\\05*rgb* 30\n",
      "E:\\MestradoData\\preprocessed\\all\\17\\39*rgb* 0\n",
      "E:\\MestradoData\\preprocessed\\all\\17\\02*rgb* 30\n",
      "E:\\MestradoData\\preprocessed\\all\\17\\12*rgb* 30\n",
      "E:\\MestradoData\\preprocessed\\all\\17\\24*rgb* 0\n",
      "E:\\MestradoData\\preprocessed\\all\\17\\08*rgb* 30\n",
      "E:\\MestradoData\\preprocessed\\all\\17\\34*rgb* 30\n",
      "E:\\MestradoData\\preprocessed\\all\\17\\21*rgb* 30\n",
      "E:\\MestradoData\\preprocessed\\all\\17\\41*rgb* 30\n",
      "E:\\MestradoData\\preprocessed\\all\\17\\44*rgb* 30\n",
      "E:\\MestradoData\\preprocessed\\all\\17\\11*rgb* 27\n",
      "E:\\MestradoData\\preprocessed\\all\\17\\18*rgb* 0\n",
      "E:\\MestradoData\\preprocessed\\all\\17\\32*rgb* 30\n",
      "E:\\MestradoData\\preprocessed\\all\\17\\30*rgb* 30\n",
      "E:\\MestradoData\\preprocessed\\all\\17\\14*rgb* 30\n",
      "E:\\MestradoData\\preprocessed\\all\\17\\01*rgb* 30\n",
      "E:\\MestradoData\\preprocessed\\all\\17\\45*rgb* 30\n",
      "E:\\MestradoData\\preprocessed\\all\\17\\31*rgb* 30\n",
      "E:\\MestradoData\\preprocessed\\all\\17\\28*rgb* 30\n",
      "E:\\MestradoData\\preprocessed\\all\\17\\03*rgb* 30\n",
      "E:\\MestradoData\\preprocessed\\all\\17\\37*rgb* 0\n",
      "\n"
     ]
    },
    {
     "data": {
      "application/vnd.jupyter.widget-view+json": {
       "model_id": "69c565d744454c46811dee695ce58dde",
       "version_major": 2,
       "version_minor": 0
      },
      "text/html": [
       "<p>Failed to display Jupyter Widget of type <code>HBox</code>.</p>\n",
       "<p>\n",
       "  If you're reading this message in the Jupyter Notebook or JupyterLab Notebook, it may mean\n",
       "  that the widgets JavaScript is still loading. If this message persists, it\n",
       "  likely means that the widgets JavaScript library is either not installed or\n",
       "  not enabled. See the <a href=\"https://ipywidgets.readthedocs.io/en/stable/user_install.html\">Jupyter\n",
       "  Widgets Documentation</a> for setup instructions.\n",
       "</p>\n",
       "<p>\n",
       "  If you're reading this message in another frontend (for example, a static\n",
       "  rendering on GitHub or <a href=\"https://nbviewer.jupyter.org/\">NBViewer</a>),\n",
       "  it may mean that your frontend doesn't currently support widgets.\n",
       "</p>\n"
      ],
      "text/plain": [
       "HBox(children=(IntProgress(value=0, max=9), HTML(value='')))"
      ]
     },
     "metadata": {},
     "output_type": "display_data"
    },
    {
     "name": "stdout",
     "output_type": "stream",
     "text": [
      "E:\\MestradoData\\preprocessed\\all\\17\\22*rgb* 30\n",
      "E:\\MestradoData\\preprocessed\\all\\17\\36*rgb* 0\n",
      "E:\\MestradoData\\preprocessed\\all\\17\\33*rgb* 30\n",
      "E:\\MestradoData\\preprocessed\\all\\17\\19*rgb* 30\n",
      "E:\\MestradoData\\preprocessed\\all\\17\\27*rgb* 30\n",
      "E:\\MestradoData\\preprocessed\\all\\17\\16*rgb* 30\n",
      "E:\\MestradoData\\preprocessed\\all\\17\\25*rgb* 30\n",
      "E:\\MestradoData\\preprocessed\\all\\17\\40*rgb* 30\n",
      "E:\\MestradoData\\preprocessed\\all\\17\\07*rgb* 30\n",
      "\n",
      "folders created !\n"
     ]
    },
    {
     "data": {
      "application/vnd.jupyter.widget-view+json": {
       "model_id": "5619ba9404c1420ba4d20aca67363d8a",
       "version_major": 2,
       "version_minor": 0
      },
      "text/html": [
       "<p>Failed to display Jupyter Widget of type <code>HBox</code>.</p>\n",
       "<p>\n",
       "  If you're reading this message in the Jupyter Notebook or JupyterLab Notebook, it may mean\n",
       "  that the widgets JavaScript is still loading. If this message persists, it\n",
       "  likely means that the widgets JavaScript library is either not installed or\n",
       "  not enabled. See the <a href=\"https://ipywidgets.readthedocs.io/en/stable/user_install.html\">Jupyter\n",
       "  Widgets Documentation</a> for setup instructions.\n",
       "</p>\n",
       "<p>\n",
       "  If you're reading this message in another frontend (for example, a static\n",
       "  rendering on GitHub or <a href=\"https://nbviewer.jupyter.org/\">NBViewer</a>),\n",
       "  it may mean that your frontend doesn't currently support widgets.\n",
       "</p>\n"
      ],
      "text/plain": [
       "HBox(children=(IntProgress(value=0, max=36), HTML(value='')))"
      ]
     },
     "metadata": {},
     "output_type": "display_data"
    },
    {
     "name": "stdout",
     "output_type": "stream",
     "text": [
      "E:\\MestradoData\\preprocessed\\all\\18\\23*rgb* 30\n",
      "E:\\MestradoData\\preprocessed\\all\\18\\04*rgb* 30\n",
      "E:\\MestradoData\\preprocessed\\all\\18\\38*rgb* 0\n",
      "E:\\MestradoData\\preprocessed\\all\\18\\42*rgb* 30\n",
      "E:\\MestradoData\\preprocessed\\all\\18\\17*rgb* 30\n",
      "E:\\MestradoData\\preprocessed\\all\\18\\35*rgb* 30\n",
      "E:\\MestradoData\\preprocessed\\all\\18\\29*rgb* 30\n",
      "E:\\MestradoData\\preprocessed\\all\\18\\06*rgb* 30\n",
      "E:\\MestradoData\\preprocessed\\all\\18\\15*rgb* 30\n",
      "E:\\MestradoData\\preprocessed\\all\\18\\09*rgb* 30\n",
      "E:\\MestradoData\\preprocessed\\all\\18\\10*rgb* 30\n",
      "E:\\MestradoData\\preprocessed\\all\\18\\26*rgb* 30\n",
      "E:\\MestradoData\\preprocessed\\all\\18\\13*rgb* 0\n",
      "E:\\MestradoData\\preprocessed\\all\\18\\43*rgb* 30\n",
      "E:\\MestradoData\\preprocessed\\all\\18\\20*rgb* 30\n",
      "E:\\MestradoData\\preprocessed\\all\\18\\05*rgb* 30\n",
      "E:\\MestradoData\\preprocessed\\all\\18\\39*rgb* 0\n",
      "E:\\MestradoData\\preprocessed\\all\\18\\02*rgb* 30\n",
      "E:\\MestradoData\\preprocessed\\all\\18\\12*rgb* 30\n",
      "E:\\MestradoData\\preprocessed\\all\\18\\24*rgb* 0\n",
      "E:\\MestradoData\\preprocessed\\all\\18\\08*rgb* 30\n",
      "E:\\MestradoData\\preprocessed\\all\\18\\34*rgb* 30\n",
      "E:\\MestradoData\\preprocessed\\all\\18\\21*rgb* 30\n",
      "E:\\MestradoData\\preprocessed\\all\\18\\41*rgb* 30\n",
      "E:\\MestradoData\\preprocessed\\all\\18\\44*rgb* 30\n",
      "E:\\MestradoData\\preprocessed\\all\\18\\11*rgb* 27\n",
      "E:\\MestradoData\\preprocessed\\all\\18\\18*rgb* 0\n",
      "E:\\MestradoData\\preprocessed\\all\\18\\32*rgb* 30\n",
      "E:\\MestradoData\\preprocessed\\all\\18\\30*rgb* 30\n",
      "E:\\MestradoData\\preprocessed\\all\\18\\14*rgb* 30\n",
      "E:\\MestradoData\\preprocessed\\all\\18\\01*rgb* 30\n",
      "E:\\MestradoData\\preprocessed\\all\\18\\45*rgb* 30\n",
      "E:\\MestradoData\\preprocessed\\all\\18\\31*rgb* 30\n",
      "E:\\MestradoData\\preprocessed\\all\\18\\28*rgb* 30\n",
      "E:\\MestradoData\\preprocessed\\all\\18\\03*rgb* 30\n",
      "E:\\MestradoData\\preprocessed\\all\\18\\37*rgb* 0\n",
      "\n"
     ]
    },
    {
     "data": {
      "application/vnd.jupyter.widget-view+json": {
       "model_id": "fc1612f454c045e19a5cdcef64974e28",
       "version_major": 2,
       "version_minor": 0
      },
      "text/html": [
       "<p>Failed to display Jupyter Widget of type <code>HBox</code>.</p>\n",
       "<p>\n",
       "  If you're reading this message in the Jupyter Notebook or JupyterLab Notebook, it may mean\n",
       "  that the widgets JavaScript is still loading. If this message persists, it\n",
       "  likely means that the widgets JavaScript library is either not installed or\n",
       "  not enabled. See the <a href=\"https://ipywidgets.readthedocs.io/en/stable/user_install.html\">Jupyter\n",
       "  Widgets Documentation</a> for setup instructions.\n",
       "</p>\n",
       "<p>\n",
       "  If you're reading this message in another frontend (for example, a static\n",
       "  rendering on GitHub or <a href=\"https://nbviewer.jupyter.org/\">NBViewer</a>),\n",
       "  it may mean that your frontend doesn't currently support widgets.\n",
       "</p>\n"
      ],
      "text/plain": [
       "HBox(children=(IntProgress(value=0, max=9), HTML(value='')))"
      ]
     },
     "metadata": {},
     "output_type": "display_data"
    },
    {
     "name": "stdout",
     "output_type": "stream",
     "text": [
      "E:\\MestradoData\\preprocessed\\all\\18\\22*rgb* 30\n",
      "E:\\MestradoData\\preprocessed\\all\\18\\36*rgb* 0\n",
      "E:\\MestradoData\\preprocessed\\all\\18\\33*rgb* 30\n",
      "E:\\MestradoData\\preprocessed\\all\\18\\19*rgb* 30\n",
      "E:\\MestradoData\\preprocessed\\all\\18\\27*rgb* 30\n",
      "E:\\MestradoData\\preprocessed\\all\\18\\16*rgb* 30\n",
      "E:\\MestradoData\\preprocessed\\all\\18\\25*rgb* 30\n",
      "E:\\MestradoData\\preprocessed\\all\\18\\40*rgb* 30\n",
      "E:\\MestradoData\\preprocessed\\all\\18\\07*rgb* 30\n",
      "\n",
      "folders created !\n"
     ]
    },
    {
     "data": {
      "application/vnd.jupyter.widget-view+json": {
       "model_id": "93be89ca7a494f9ebfb29efc23d6ac53",
       "version_major": 2,
       "version_minor": 0
      },
      "text/html": [
       "<p>Failed to display Jupyter Widget of type <code>HBox</code>.</p>\n",
       "<p>\n",
       "  If you're reading this message in the Jupyter Notebook or JupyterLab Notebook, it may mean\n",
       "  that the widgets JavaScript is still loading. If this message persists, it\n",
       "  likely means that the widgets JavaScript library is either not installed or\n",
       "  not enabled. See the <a href=\"https://ipywidgets.readthedocs.io/en/stable/user_install.html\">Jupyter\n",
       "  Widgets Documentation</a> for setup instructions.\n",
       "</p>\n",
       "<p>\n",
       "  If you're reading this message in another frontend (for example, a static\n",
       "  rendering on GitHub or <a href=\"https://nbviewer.jupyter.org/\">NBViewer</a>),\n",
       "  it may mean that your frontend doesn't currently support widgets.\n",
       "</p>\n"
      ],
      "text/plain": [
       "HBox(children=(IntProgress(value=0, max=36), HTML(value='')))"
      ]
     },
     "metadata": {},
     "output_type": "display_data"
    },
    {
     "name": "stdout",
     "output_type": "stream",
     "text": [
      "E:\\MestradoData\\preprocessed\\all\\19\\23*rgb* 30\n",
      "E:\\MestradoData\\preprocessed\\all\\19\\04*rgb* 30\n",
      "E:\\MestradoData\\preprocessed\\all\\19\\38*rgb* 0\n",
      "E:\\MestradoData\\preprocessed\\all\\19\\42*rgb* 30\n",
      "E:\\MestradoData\\preprocessed\\all\\19\\17*rgb* 30\n",
      "E:\\MestradoData\\preprocessed\\all\\19\\35*rgb* 30\n",
      "E:\\MestradoData\\preprocessed\\all\\19\\29*rgb* 30\n",
      "E:\\MestradoData\\preprocessed\\all\\19\\06*rgb* 30\n",
      "E:\\MestradoData\\preprocessed\\all\\19\\15*rgb* 30\n",
      "E:\\MestradoData\\preprocessed\\all\\19\\09*rgb* 30\n",
      "E:\\MestradoData\\preprocessed\\all\\19\\10*rgb* 30\n",
      "E:\\MestradoData\\preprocessed\\all\\19\\26*rgb* 30\n",
      "E:\\MestradoData\\preprocessed\\all\\19\\13*rgb* 0\n",
      "E:\\MestradoData\\preprocessed\\all\\19\\43*rgb* 30\n",
      "E:\\MestradoData\\preprocessed\\all\\19\\20*rgb* 30\n",
      "E:\\MestradoData\\preprocessed\\all\\19\\05*rgb* 30\n",
      "E:\\MestradoData\\preprocessed\\all\\19\\39*rgb* 0\n",
      "E:\\MestradoData\\preprocessed\\all\\19\\02*rgb* 30\n",
      "E:\\MestradoData\\preprocessed\\all\\19\\12*rgb* 30\n",
      "E:\\MestradoData\\preprocessed\\all\\19\\24*rgb* 0\n",
      "E:\\MestradoData\\preprocessed\\all\\19\\08*rgb* 30\n",
      "E:\\MestradoData\\preprocessed\\all\\19\\34*rgb* 30\n",
      "E:\\MestradoData\\preprocessed\\all\\19\\21*rgb* 30\n",
      "E:\\MestradoData\\preprocessed\\all\\19\\41*rgb* 30\n",
      "E:\\MestradoData\\preprocessed\\all\\19\\44*rgb* 30\n",
      "E:\\MestradoData\\preprocessed\\all\\19\\11*rgb* 27\n",
      "E:\\MestradoData\\preprocessed\\all\\19\\18*rgb* 0\n",
      "E:\\MestradoData\\preprocessed\\all\\19\\32*rgb* 30\n",
      "E:\\MestradoData\\preprocessed\\all\\19\\30*rgb* 30\n",
      "E:\\MestradoData\\preprocessed\\all\\19\\14*rgb* 30\n",
      "E:\\MestradoData\\preprocessed\\all\\19\\01*rgb* 30\n",
      "E:\\MestradoData\\preprocessed\\all\\19\\45*rgb* 30\n",
      "E:\\MestradoData\\preprocessed\\all\\19\\31*rgb* 30\n",
      "E:\\MestradoData\\preprocessed\\all\\19\\28*rgb* 30\n",
      "E:\\MestradoData\\preprocessed\\all\\19\\03*rgb* 30\n",
      "E:\\MestradoData\\preprocessed\\all\\19\\37*rgb* 0\n",
      "\n"
     ]
    },
    {
     "data": {
      "application/vnd.jupyter.widget-view+json": {
       "model_id": "76e0ab9a1a3e431fb545dea03b32a9d1",
       "version_major": 2,
       "version_minor": 0
      },
      "text/html": [
       "<p>Failed to display Jupyter Widget of type <code>HBox</code>.</p>\n",
       "<p>\n",
       "  If you're reading this message in the Jupyter Notebook or JupyterLab Notebook, it may mean\n",
       "  that the widgets JavaScript is still loading. If this message persists, it\n",
       "  likely means that the widgets JavaScript library is either not installed or\n",
       "  not enabled. See the <a href=\"https://ipywidgets.readthedocs.io/en/stable/user_install.html\">Jupyter\n",
       "  Widgets Documentation</a> for setup instructions.\n",
       "</p>\n",
       "<p>\n",
       "  If you're reading this message in another frontend (for example, a static\n",
       "  rendering on GitHub or <a href=\"https://nbviewer.jupyter.org/\">NBViewer</a>),\n",
       "  it may mean that your frontend doesn't currently support widgets.\n",
       "</p>\n"
      ],
      "text/plain": [
       "HBox(children=(IntProgress(value=0, max=9), HTML(value='')))"
      ]
     },
     "metadata": {},
     "output_type": "display_data"
    },
    {
     "name": "stdout",
     "output_type": "stream",
     "text": [
      "E:\\MestradoData\\preprocessed\\all\\19\\22*rgb* 30\n",
      "E:\\MestradoData\\preprocessed\\all\\19\\36*rgb* 0\n",
      "E:\\MestradoData\\preprocessed\\all\\19\\33*rgb* 30\n",
      "E:\\MestradoData\\preprocessed\\all\\19\\19*rgb* 30\n",
      "E:\\MestradoData\\preprocessed\\all\\19\\27*rgb* 30\n",
      "E:\\MestradoData\\preprocessed\\all\\19\\16*rgb* 30\n",
      "E:\\MestradoData\\preprocessed\\all\\19\\25*rgb* 30\n",
      "E:\\MestradoData\\preprocessed\\all\\19\\40*rgb* 30\n",
      "E:\\MestradoData\\preprocessed\\all\\19\\07*rgb* 30\n",
      "\n",
      "Data copied!\n"
     ]
    }
   ],
   "source": [
    "organize_datasets(path_to_data='E:\\\\MestradoData\\\\preprocessed', n=46, ratio=0.2)"
   ]
  },
  {
   "cell_type": "code",
   "execution_count": null,
   "metadata": {},
   "outputs": [],
   "source": []
  }
 ],
 "metadata": {
  "kernelspec": {
   "display_name": "Python 3",
   "language": "python",
   "name": "python3"
  },
  "language_info": {
   "codemirror_mode": {
    "name": "ipython",
    "version": 3
   },
   "file_extension": ".py",
   "mimetype": "text/x-python",
   "name": "python",
   "nbconvert_exporter": "python",
   "pygments_lexer": "ipython3",
   "version": "3.5.4"
  }
 },
 "nbformat": 4,
 "nbformat_minor": 2
}
