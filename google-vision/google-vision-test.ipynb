{
 "cells": [
  {
   "cell_type": "code",
   "execution_count": 3,
   "metadata": {},
   "outputs": [],
   "source": [
    "from google.cloud import vision\n",
    "from google.cloud.vision import types\n",
    "from google.protobuf import text_format\n",
    "import io"
   ]
  },
  {
   "cell_type": "code",
   "execution_count": 5,
   "metadata": {},
   "outputs": [],
   "source": [
    "import os\n",
    "os.environ[\"GOOGLE_APPLICATION_CREDENTIALS\"]='apikey.json'"
   ]
  },
  {
   "cell_type": "code",
   "execution_count": 7,
   "metadata": {},
   "outputs": [],
   "source": [
    "file_name = '41_5_rgb_286.png'"
   ]
  },
  {
   "cell_type": "code",
   "execution_count": 8,
   "metadata": {},
   "outputs": [],
   "source": [
    "with io.open(file_name, 'rb') as image_file:\n",
    "    content = image_file.read()"
   ]
  },
  {
   "cell_type": "code",
   "execution_count": 15,
   "metadata": {},
   "outputs": [],
   "source": [
    "client = vision.ImageAnnotatorClient()"
   ]
  },
  {
   "cell_type": "code",
   "execution_count": 19,
   "metadata": {},
   "outputs": [],
   "source": [
    "image = types.Image(content=content)"
   ]
  },
  {
   "cell_type": "code",
   "execution_count": 20,
   "metadata": {},
   "outputs": [],
   "source": [
    "response = client.face_detection(image=image)"
   ]
  },
  {
   "cell_type": "code",
   "execution_count": 21,
   "metadata": {},
   "outputs": [],
   "source": [
    "faces = response.face_annotations"
   ]
  },
  {
   "cell_type": "code",
   "execution_count": 23,
   "metadata": {},
   "outputs": [],
   "source": [
    "#likelihood_name = ('UNKNOWN', 'VERY_UNLIKELY', 'UNLIKELY', 'POSSIBLE',\n",
    "#                       'LIKELY', 'VERY_LIKELY')"
   ]
  },
  {
   "cell_type": "code",
   "execution_count": 24,
   "metadata": {},
   "outputs": [
    {
     "name": "stdout",
     "output_type": "stream",
     "text": [
      "anger: VERY_UNLIKELY\n",
      "joy: VERY_UNLIKELY\n",
      "surprise: VERY_UNLIKELY\n",
      "face bounds: (95,72),(194,72),(194,187),(95,187)\n"
     ]
    }
   ],
   "source": [
    "for face in faces:\n",
    "    #print('anger: {}'.format(likelihood_name[face.anger_likelihood]))\n",
    "    #print('joy: {}'.format(likelihood_name[face.joy_likelihood]))\n",
    "    #print('surprise: {}'.format(likelihood_name[face.surprise_likelihood]))\n",
    "\n",
    "    vertices = (['({},{})'.format(vertex.x, vertex.y)\n",
    "                for vertex in face.bounding_poly.vertices])\n",
    "\n",
    "    print('face bounds: {}'.format(','.join(vertices)))"
   ]
  },
  {
   "cell_type": "code",
   "execution_count": 50,
   "metadata": {},
   "outputs": [],
   "source": [
    "# Save response to file\n",
    "f = open('b.txt', 'w')\n",
    "f.write(text_format.MessageToString(response))\n",
    "f.close()"
   ]
  },
  {
   "cell_type": "code",
   "execution_count": 49,
   "metadata": {},
   "outputs": [],
   "source": [
    "# Read response file\n",
    "f = open('b.txt', 'r')\n",
    "resp = types.AnnotateImageResponse() # replace with your own message\n",
    "text_format.Parse(f.read(), resp)\n",
    "f.close()"
   ]
  },
  {
   "cell_type": "code",
   "execution_count": 6,
   "metadata": {},
   "outputs": [],
   "source": [
    "# Read response file\n",
    "f = open('E:\\\\MestradoData\\\\p002\\\\2_10_rgb_271.txt', 'r')\n",
    "resp = types.AnnotateImageResponse() # replace with your own message\n",
    "parsed_text = text_format.Parse(f.read(), resp)\n",
    "f.close()"
   ]
  },
  {
   "cell_type": "code",
   "execution_count": 8,
   "metadata": {},
   "outputs": [
    {
     "name": "stdout",
     "output_type": "stream",
     "text": [
      "face bounds: (121,53),(225,53),(225,174),(121,174)\n"
     ]
    }
   ],
   "source": [
    "faces = resp.face_annotations\n",
    "for face in faces:\n",
    "    vertices = (['({},{})'.format(vertex.x, vertex.y)\n",
    "            for vertex in face.bounding_poly.vertices])\n",
    "    print('face bounds: {}'.format(','.join(vertices)))"
   ]
  },
  {
   "cell_type": "code",
   "execution_count": 10,
   "metadata": {},
   "outputs": [
    {
     "data": {
      "text/plain": [
       "['(121,53)', '(225,53)', '(225,174)', '(121,174)']"
      ]
     },
     "execution_count": 10,
     "metadata": {},
     "output_type": "execute_result"
    }
   ],
   "source": [
    "vertices"
   ]
  },
  {
   "cell_type": "code",
   "execution_count": 72,
   "metadata": {},
   "outputs": [],
   "source": [
    "import cv2"
   ]
  },
  {
   "cell_type": "code",
   "execution_count": 79,
   "metadata": {},
   "outputs": [
    {
     "data": {
      "text/plain": [
       "google.cloud.vision_v1.types.AnnotateImageResponse"
      ]
     },
     "execution_count": 79,
     "metadata": {},
     "output_type": "execute_result"
    }
   ],
   "source": []
  },
  {
   "cell_type": "code",
   "execution_count": 77,
   "metadata": {},
   "outputs": [],
   "source": []
  },
  {
   "cell_type": "code",
   "execution_count": 78,
   "metadata": {},
   "outputs": [],
   "source": []
  },
  {
   "cell_type": "code",
   "execution_count": 80,
   "metadata": {},
   "outputs": [],
   "source": []
  },
  {
   "cell_type": "code",
   "execution_count": 9,
   "metadata": {},
   "outputs": [
    {
     "data": {
      "text/plain": [
       "face_annotations {\n",
       "  bounding_poly {\n",
       "    vertices {\n",
       "      x: 121\n",
       "      y: 53\n",
       "    }\n",
       "    vertices {\n",
       "      x: 225\n",
       "      y: 53\n",
       "    }\n",
       "    vertices {\n",
       "      x: 225\n",
       "      y: 174\n",
       "    }\n",
       "    vertices {\n",
       "      x: 121\n",
       "      y: 174\n",
       "    }\n",
       "  }\n",
       "  fd_bounding_poly {\n",
       "    vertices {\n",
       "      x: 138\n",
       "      y: 76\n",
       "    }\n",
       "    vertices {\n",
       "      x: 207\n",
       "      y: 76\n",
       "    }\n",
       "    vertices {\n",
       "      x: 207\n",
       "      y: 145\n",
       "    }\n",
       "    vertices {\n",
       "      x: 138\n",
       "      y: 145\n",
       "    }\n",
       "  }\n",
       "  landmarks {\n",
       "    type: LEFT_EYE\n",
       "    position {\n",
       "      x: 159.5374298095703\n",
       "      y: 97.91230010986328\n",
       "      z: 0.0003745220310520381\n",
       "    }\n",
       "  }\n",
       "  landmarks {\n",
       "    type: RIGHT_EYE\n",
       "    position {\n",
       "      x: 189.2528839111328\n",
       "      y: 99.26818084716797\n",
       "      z: 0.01959626004099846\n",
       "    }\n",
       "  }\n",
       "  landmarks {\n",
       "    type: LEFT_OF_LEFT_EYEBROW\n",
       "    position {\n",
       "      x: 148.84136962890625\n",
       "      y: 91.33735656738281\n",
       "      z: 5.360552787780762\n",
       "    }\n",
       "  }\n",
       "  landmarks {\n",
       "    type: RIGHT_OF_LEFT_EYEBROW\n",
       "    position {\n",
       "      x: 167.62510681152344\n",
       "      y: 89.17112731933594\n",
       "      z: -3.114988327026367\n",
       "    }\n",
       "  }\n",
       "  landmarks {\n",
       "    type: LEFT_OF_RIGHT_EYEBROW\n",
       "    position {\n",
       "      x: 182.9100799560547\n",
       "      y: 90.04766845703125\n",
       "      z: -3.1569933891296387\n",
       "    }\n",
       "  }\n",
       "  landmarks {\n",
       "    type: RIGHT_OF_RIGHT_EYEBROW\n",
       "    position {\n",
       "      x: 201.35047912597656\n",
       "      y: 94.41799926757812\n",
       "      z: 5.226406574249268\n",
       "    }\n",
       "  }\n",
       "  landmarks {\n",
       "    type: MIDPOINT_BETWEEN_EYES\n",
       "    position {\n",
       "      x: 175.0821533203125\n",
       "      y: 95.44490051269531\n",
       "      z: -5.859634876251221\n",
       "    }\n",
       "  }\n",
       "  landmarks {\n",
       "    type: NOSE_TIP\n",
       "    position {\n",
       "      x: 174.0585174560547\n",
       "      y: 109.35201263427734\n",
       "      z: -20.936878204345703\n",
       "    }\n",
       "  }\n",
       "  landmarks {\n",
       "    type: UPPER_LIP\n",
       "    position {\n",
       "      x: 173.28695678710938\n",
       "      y: 122.66783142089844\n",
       "      z: -17.989492416381836\n",
       "    }\n",
       "  }\n",
       "  landmarks {\n",
       "    type: LOWER_LIP\n",
       "    position {\n",
       "      x: 172.58084106445312\n",
       "      y: 133.511474609375\n",
       "      z: -19.59958839416504\n",
       "    }\n",
       "  }\n",
       "  landmarks {\n",
       "    type: MOUTH_LEFT\n",
       "    position {\n",
       "      x: 160.6556396484375\n",
       "      y: 129.6324462890625\n",
       "      z: -11.74671459197998\n",
       "    }\n",
       "  }\n",
       "  landmarks {\n",
       "    type: MOUTH_RIGHT\n",
       "    position {\n",
       "      x: 184.53521728515625\n",
       "      y: 130.95106506347656\n",
       "      z: -11.934120178222656\n",
       "    }\n",
       "  }\n",
       "  landmarks {\n",
       "    type: MOUTH_CENTER\n",
       "    position {\n",
       "      x: 172.97470092773438\n",
       "      y: 128.1962127685547\n",
       "      z: -17.53217315673828\n",
       "    }\n",
       "  }\n",
       "  landmarks {\n",
       "    type: NOSE_BOTTOM_RIGHT\n",
       "    position {\n",
       "      x: 182.23416137695312\n",
       "      y: 116.25186157226562\n",
       "      z: -10.398557662963867\n",
       "    }\n",
       "  }\n",
       "  landmarks {\n",
       "    type: NOSE_BOTTOM_LEFT\n",
       "    position {\n",
       "      x: 165.1362762451172\n",
       "      y: 115.3228988647461\n",
       "      z: -10.360786437988281\n",
       "    }\n",
       "  }\n",
       "  landmarks {\n",
       "    type: NOSE_BOTTOM_CENTER\n",
       "    position {\n",
       "      x: 173.66200256347656\n",
       "      y: 116.47958374023438\n",
       "      z: -15.81458854675293\n",
       "    }\n",
       "  }\n",
       "  landmarks {\n",
       "    type: LEFT_EYE_TOP_BOUNDARY\n",
       "    position {\n",
       "      x: 159.16049194335938\n",
       "      y: 95.1522216796875\n",
       "      z: -1.1974550485610962\n",
       "    }\n",
       "  }\n",
       "  landmarks {\n",
       "    type: LEFT_EYE_RIGHT_CORNER\n",
       "    position {\n",
       "      x: 165.32550048828125\n",
       "      y: 98.60543823242188\n",
       "      z: 0.020076990127563477\n",
       "    }\n",
       "  }\n",
       "  landmarks {\n",
       "    type: LEFT_EYE_BOTTOM_BOUNDARY\n",
       "    position {\n",
       "      x: 159.0447998046875\n",
       "      y: 100.07320404052734\n",
       "      z: -1.0136001110076904\n",
       "    }\n",
       "  }\n",
       "  landmarks {\n",
       "    type: LEFT_EYE_LEFT_CORNER\n",
       "    position {\n",
       "      x: 152.70826721191406\n",
       "      y: 98.6779556274414\n",
       "      z: 2.6996331214904785\n",
       "    }\n",
       "  }\n",
       "  landmarks {\n",
       "    type: LEFT_EYE_PUPIL\n",
       "    position {\n",
       "      x: 158.50405883789062\n",
       "      y: 97.65154266357422\n",
       "      z: -0.681169867515564\n",
       "    }\n",
       "  }\n",
       "  landmarks {\n",
       "    type: RIGHT_EYE_TOP_BOUNDARY\n",
       "    position {\n",
       "      x: 190.62374877929688\n",
       "      y: 97.00360107421875\n",
       "      z: -1.2767083644866943\n",
       "    }\n",
       "  }\n",
       "  landmarks {\n",
       "    type: RIGHT_EYE_RIGHT_CORNER\n",
       "    position {\n",
       "      x: 196.61766052246094\n",
       "      y: 101.4171371459961\n",
       "      z: 2.567145586013794\n",
       "    }\n",
       "  }\n",
       "  landmarks {\n",
       "    type: RIGHT_EYE_BOTTOM_BOUNDARY\n",
       "    position {\n",
       "      x: 189.9865264892578\n",
       "      y: 101.6195297241211\n",
       "      z: -1.0521814823150635\n",
       "    }\n",
       "  }\n",
       "  landmarks {\n",
       "    type: RIGHT_EYE_LEFT_CORNER\n",
       "    position {\n",
       "      x: 183.94114685058594\n",
       "      y: 99.61158752441406\n",
       "      z: -0.018496917560696602\n",
       "    }\n",
       "  }\n",
       "  landmarks {\n",
       "    type: RIGHT_EYE_PUPIL\n",
       "    position {\n",
       "      x: 190.8131866455078\n",
       "      y: 99.54652404785156\n",
       "      z: -0.7945103049278259\n",
       "    }\n",
       "  }\n",
       "  landmarks {\n",
       "    type: LEFT_EYEBROW_UPPER_MIDPOINT\n",
       "    position {\n",
       "      x: 158.3688507080078\n",
       "      y: 85.94149780273438\n",
       "      z: 0.5368298292160034\n",
       "    }\n",
       "  }\n",
       "  landmarks {\n",
       "    type: RIGHT_EYEBROW_UPPER_MIDPOINT\n",
       "    position {\n",
       "      x: 192.52777099609375\n",
       "      y: 87.9516372680664\n",
       "      z: 0.45552313327789307\n",
       "    }\n",
       "  }\n",
       "  landmarks {\n",
       "    type: LEFT_EAR_TRAGION\n",
       "    position {\n",
       "      x: 138.5857696533203\n",
       "      y: 124.73934936523438\n",
       "      z: 30.252775192260742\n",
       "    }\n",
       "  }\n",
       "  landmarks {\n",
       "    type: RIGHT_EAR_TRAGION\n",
       "    position {\n",
       "      x: 208.81814575195312\n",
       "      y: 128.96075439453125\n",
       "      z: 30.800701141357422\n",
       "    }\n",
       "  }\n",
       "  landmarks {\n",
       "    type: FOREHEAD_GLABELLA\n",
       "    position {\n",
       "      x: 175.32333374023438\n",
       "      y: 88.843017578125\n",
       "      z: -4.1077351570129395\n",
       "    }\n",
       "  }\n",
       "  landmarks {\n",
       "    type: CHIN_GNATHION\n",
       "    position {\n",
       "      x: 171.7742462158203\n",
       "      y: 148.56307983398438\n",
       "      z: -20.376882553100586\n",
       "    }\n",
       "  }\n",
       "  landmarks {\n",
       "    type: CHIN_LEFT_GONION\n",
       "    position {\n",
       "      x: 140.0304718017578\n",
       "      y: 139.37918090820312\n",
       "      z: 11.828339576721191\n",
       "    }\n",
       "  }\n",
       "  landmarks {\n",
       "    type: CHIN_RIGHT_GONION\n",
       "    position {\n",
       "      x: 204.4913330078125\n",
       "      y: 143.2310333251953\n",
       "      z: 11.613921165466309\n",
       "    }\n",
       "  }\n",
       "  roll_angle: 3.415534257888794\n",
       "  pan_angle: -0.15146665275096893\n",
       "  tilt_angle: 20.511051177978516\n",
       "  detection_confidence: 0.8728858232498169\n",
       "  landmarking_confidence: 0.25857844948768616\n",
       "  joy_likelihood: VERY_UNLIKELY\n",
       "  sorrow_likelihood: VERY_UNLIKELY\n",
       "  anger_likelihood: VERY_UNLIKELY\n",
       "  surprise_likelihood: VERY_UNLIKELY\n",
       "  under_exposed_likelihood: VERY_UNLIKELY\n",
       "  blurred_likelihood: VERY_UNLIKELY\n",
       "  headwear_likelihood: VERY_UNLIKELY\n",
       "}"
      ]
     },
     "execution_count": 9,
     "metadata": {},
     "output_type": "execute_result"
    }
   ],
   "source": [
    "resp"
   ]
  },
  {
   "cell_type": "code",
   "execution_count": null,
   "metadata": {},
   "outputs": [],
   "source": []
  }
 ],
 "metadata": {
  "kernelspec": {
   "display_name": "Python 3",
   "language": "python",
   "name": "python3"
  },
  "language_info": {
   "codemirror_mode": {
    "name": "ipython",
    "version": 3
   },
   "file_extension": ".py",
   "mimetype": "text/x-python",
   "name": "python",
   "nbconvert_exporter": "python",
   "pygments_lexer": "ipython3",
   "version": "3.6.3"
  }
 },
 "nbformat": 4,
 "nbformat_minor": 2
}
