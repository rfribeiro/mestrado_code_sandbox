{
 "cells": [
  {
   "cell_type": "code",
   "execution_count": 1,
   "metadata": {},
   "outputs": [],
   "source": [
    "%matplotlib inline\n",
    "from matplotlib import pyplot as plt\n",
    "from PIL import Image\n",
    "import numpy as np\n",
    "import os \n",
    "#import cv2\n",
    "from tqdm import tqdm_notebook\n",
    "from random import shuffle\n",
    "import shutil\n",
    "import pandas as pd"
   ]
  },
  {
   "cell_type": "code",
   "execution_count": 2,
   "metadata": {},
   "outputs": [
    {
     "name": "stderr",
     "output_type": "stream",
     "text": [
      "C:\\Users\\rafae\\Anaconda3\\envs\\tf_vggface\\lib\\site-packages\\h5py\\__init__.py:36: FutureWarning: Conversion of the second argument of issubdtype from `float` to `np.floating` is deprecated. In future, it will be treated as `np.float64 == np.dtype(float).type`.\n",
      "  from ._conv import register_converters as _register_converters\n",
      "Using TensorFlow backend.\n"
     ]
    }
   ],
   "source": [
    "import keras.applications\n",
    "from keras.preprocessing import image\n",
    "from keras.applications.resnet50 import preprocess_input, decode_predictions\n",
    "from keras.layers import Input\n",
    "from keras.layers import Dropout, Flatten, Dense, GlobalAveragePooling2D\n",
    "from keras.models import Model\n",
    "from keras import optimizers\n",
    "\n",
    "from keras_vggface.vggface import VGGFace"
   ]
  },
  {
   "cell_type": "code",
   "execution_count": 3,
   "metadata": {},
   "outputs": [],
   "source": [
    "img_width, img_height = 224, 224\n",
    "n_classes = 19"
   ]
  },
  {
   "cell_type": "code",
   "execution_count": 4,
   "metadata": {},
   "outputs": [],
   "source": [
    "from keras.models import load_model"
   ]
  },
  {
   "cell_type": "code",
   "execution_count": 5,
   "metadata": {},
   "outputs": [],
   "source": [
    "# this is the model we will train\n",
    "model = load_model('deep_transfer_19_class_vggface.h5')"
   ]
  },
  {
   "cell_type": "code",
   "execution_count": 6,
   "metadata": {},
   "outputs": [],
   "source": [
    "#model.summary()"
   ]
  },
  {
   "cell_type": "code",
   "execution_count": 7,
   "metadata": {},
   "outputs": [],
   "source": [
    "from keras.preprocessing.image import ImageDataGenerator"
   ]
  },
  {
   "cell_type": "code",
   "execution_count": 8,
   "metadata": {},
   "outputs": [],
   "source": [
    "train_data_dir = 'C:\\\\Users\\\\rafae\\\\Desktop\\\\Coleta\\\\data\\\\ir\\\\train'\n",
    "validation_data_dir = 'C:\\\\Users\\\\rafae\\\\Desktop\\\\Coleta\\\\data\\\\ir\\\\validation'\n",
    "nb_train_samples = 31576\n",
    "nb_validation_samples = 6048\n",
    "epochs = 50\n",
    "batch_size = 32\n",
    "samples_per_epoch= 5000"
   ]
  },
  {
   "cell_type": "code",
   "execution_count": null,
   "metadata": {},
   "outputs": [],
   "source": []
  },
  {
   "cell_type": "code",
   "execution_count": 9,
   "metadata": {},
   "outputs": [],
   "source": [
    "from keras.preprocessing import image\n",
    "\n",
    "#img_path = 'E:\\\\MestradoData\\\\preprocessed\\\\all\\\\01\\\\44_1_rgb_191.png'\n",
    "img_path = 'E:\\\\MestradoData\\\\preprocessed\\\\all\\\\06\\\\45_6_rgb_191.png'\n",
    "#img_path = 'E:\\\\MestradoData\\\\preprocessed\\\\all\\\\10\\\\45_10_rgb_191.png'\n",
    "\n",
    "#img_path = 'E:\\\\MestradoData\\\\preprocessed\\\\all\\\\01\\\\42_1_rgb_191.png'\n",
    "#img_path = 'E:\\\\MestradoData\\\\preprocessed\\\\all\\\\06\\\\42_6_rgb_291.png'3\n",
    "#img_path = 'E:\\\\MestradoData\\\\preprocessed\\\\all\\\\10\\\\42_10_rgb_191.png'\n",
    "\n",
    "img = image.load_img(img_path, target_size=(img_width, img_height))\n",
    "x = image.img_to_array(img)\n",
    "x = np.expand_dims(x, axis=0)"
   ]
  },
  {
   "cell_type": "code",
   "execution_count": null,
   "metadata": {},
   "outputs": [],
   "source": []
  },
  {
   "cell_type": "code",
   "execution_count": 10,
   "metadata": {},
   "outputs": [
    {
     "name": "stdout",
     "output_type": "stream",
     "text": [
      "0:00:03.988981 [[5.7671956e-10 1.1268160e-05 6.6238870e-10 9.7146840e-05 2.3118567e-10\n",
      "  4.6658805e-12 2.6781257e-04 4.4426934e-06 7.5378174e-01 9.1032962e-06\n",
      "  8.4300336e-12 7.8372437e-07 3.1107637e-11 1.7826149e-10 3.5371193e-06\n",
      "  3.7890683e-08 1.3120123e-15 2.7547049e-16 2.4582419e-01]]\n"
     ]
    }
   ],
   "source": [
    "import datetime\n",
    "a = datetime.datetime.now()\n",
    "result = model.predict(x)\n",
    "b = datetime.datetime.now()\n",
    "print(b-a, result)"
   ]
  },
  {
   "cell_type": "code",
   "execution_count": null,
   "metadata": {},
   "outputs": [],
   "source": [
    "import datetime\n",
    "a = datetime.datetime.now()\n",
    "result = model.predict(x)\n",
    "b = datetime.datetime.now()\n",
    "print(b-a, result)"
   ]
  },
  {
   "cell_type": "code",
   "execution_count": null,
   "metadata": {},
   "outputs": [],
   "source": [
    "import datetime\n",
    "a = datetime.datetime.now()\n",
    "result = model.predict(x)\n",
    "b = datetime.datetime.now()\n",
    "print(b-a, result)"
   ]
  },
  {
   "cell_type": "code",
   "execution_count": 12,
   "metadata": {},
   "outputs": [
    {
     "name": "stdout",
     "output_type": "stream",
     "text": [
      "Found 570 images belonging to 19 classes.\n"
     ]
    }
   ],
   "source": [
    "test_data_dir = 'C:\\\\Users\\\\rafae\\\\Desktop\\\\Coleta\\\\data\\\\rgb\\\\test'\n",
    "test_datagen = ImageDataGenerator(rescale=1. / 255)\n",
    "test_generator = test_datagen.flow_from_directory(\n",
    "    test_data_dir,\n",
    "    target_size=(img_height, img_width),\n",
    "    batch_size=batch_size,\n",
    "    class_mode='categorical')"
   ]
  },
  {
   "cell_type": "code",
   "execution_count": null,
   "metadata": {},
   "outputs": [],
   "source": [
    "score = model.evaluate_generator(test_generator)\n",
    "print(\"Accuracy = \", score)"
   ]
  },
  {
   "cell_type": "code",
   "execution_count": null,
   "metadata": {},
   "outputs": [],
   "source": []
  },
  {
   "cell_type": "code",
   "execution_count": 14,
   "metadata": {},
   "outputs": [],
   "source": [
    "\n",
    "predictions = model.predict_generator(\n",
    "    test_generator,\n",
    "    steps = np.math.ceil(test_generator.samples / test_generator.batch_size),\n",
    "    )"
   ]
  },
  {
   "cell_type": "code",
   "execution_count": 15,
   "metadata": {},
   "outputs": [
    {
     "name": "stderr",
     "output_type": "stream",
     "text": [
      "C:\\Users\\rafae\\Anaconda3\\envs\\tf_vggface\\lib\\site-packages\\sklearn\\metrics\\classification.py:1135: UndefinedMetricWarning: Precision and F-score are ill-defined and being set to 0.0 in labels with no predicted samples.\n",
      "  'precision', 'predicted', average, warn_for)\n"
     ]
    }
   ],
   "source": [
    "from sklearn.metrics import classification_report, accuracy_score\n",
    "\n",
    "predicted_classes = np.argmax(predictions, axis=1)\n",
    "true_classes = test_generator.classes\n",
    "class_labels = list(test_generator.class_indices.keys())\n",
    "report = classification_report(true_classes, predicted_classes, target_names=class_labels)\n",
    "accuracy = accuracy_score(true_classes, predicted_classes)"
   ]
  },
  {
   "cell_type": "code",
   "execution_count": 17,
   "metadata": {},
   "outputs": [
    {
     "name": "stdout",
     "output_type": "stream",
     "text": [
      "             precision    recall  f1-score   support\n",
      "\n",
      "         08       0.00      0.00      0.00        30\n",
      "         18       0.12      0.07      0.09        30\n",
      "         06       0.00      0.00      0.00        30\n",
      "         09       0.04      0.17      0.06        30\n",
      "         05       0.00      0.00      0.00        30\n",
      "         14       0.00      0.00      0.00        30\n",
      "         19       0.07      0.30      0.12        30\n",
      "         01       0.00      0.00      0.00        30\n",
      "         11       0.06      0.27      0.10        30\n",
      "         07       0.00      0.00      0.00        30\n",
      "         16       0.00      0.00      0.00        30\n",
      "         03       0.00      0.00      0.00        30\n",
      "         13       0.00      0.00      0.00        30\n",
      "         15       0.05      0.03      0.04        30\n",
      "         02       0.00      0.00      0.00        30\n",
      "         12       0.00      0.00      0.00        30\n",
      "         10       0.00      0.00      0.00        30\n",
      "         17       0.00      0.00      0.00        30\n",
      "         04       0.01      0.03      0.02        30\n",
      "\n",
      "avg / total       0.02      0.05      0.02       570\n",
      "\n"
     ]
    }
   ],
   "source": [
    "print(report)"
   ]
  },
  {
   "cell_type": "code",
   "execution_count": 18,
   "metadata": {},
   "outputs": [
    {
     "name": "stdout",
     "output_type": "stream",
     "text": [
      "0.0456140350877193\n"
     ]
    }
   ],
   "source": [
    "print(accuracy)"
   ]
  },
  {
   "cell_type": "code",
   "execution_count": 23,
   "metadata": {},
   "outputs": [
    {
     "data": {
      "text/plain": [
       "array([ 3, 18, 11,  3,  9,  6, 18, 18, 18, 18,  3,  8, 13,  3,  6,  1,  8,\n",
       "       14,  6, 14,  7,  8,  8,  3, 18,  3,  8, 18,  3,  6,  8,  1, 10,  8,\n",
       "        6, 18,  7, 18,  8, 14,  8, 18,  6, 18, 18,  8, 13,  3,  6,  6,  3,\n",
       "        7,  1,  6,  7,  8, 18,  8,  3,  3,  6,  7,  1,  8,  6,  6, 18,  6,\n",
       "        3,  3,  7,  7,  8,  8,  6,  3,  3,  1,  3,  6,  6,  6,  8,  6,  3,\n",
       "        8, 18,  8,  8,  3,  3,  6,  6,  3,  6,  6,  8,  6,  8,  8],\n",
       "      dtype=int64)"
      ]
     },
     "execution_count": 23,
     "metadata": {},
     "output_type": "execute_result"
    }
   ],
   "source": [
    "predicted_classes[:100]"
   ]
  },
  {
   "cell_type": "code",
   "execution_count": 22,
   "metadata": {},
   "outputs": [
    {
     "data": {
      "text/plain": [
       "array([0, 0, 0, 0, 0, 0, 0, 0, 0, 0, 0, 0, 0, 0, 0, 0, 0, 0, 0, 0, 0, 0,\n",
       "       0, 0, 0, 0, 0, 0, 0, 0, 1, 1, 1, 1, 1, 1, 1, 1, 1, 1, 1, 1, 1, 1,\n",
       "       1, 1, 1, 1, 1, 1, 1, 1, 1, 1, 1, 1, 1, 1, 1, 1, 2, 2, 2, 2, 2, 2,\n",
       "       2, 2, 2, 2, 2, 2, 2, 2, 2, 2, 2, 2, 2, 2, 2, 2, 2, 2, 2, 2, 2, 2,\n",
       "       2, 2, 3, 3, 3, 3, 3, 3, 3, 3, 3, 3])"
      ]
     },
     "execution_count": 22,
     "metadata": {},
     "output_type": "execute_result"
    }
   ],
   "source": [
    "true_classes[:100]"
   ]
  },
  {
   "cell_type": "code",
   "execution_count": 21,
   "metadata": {},
   "outputs": [
    {
     "data": {
      "text/plain": [
       "['08',\n",
       " '18',\n",
       " '06',\n",
       " '09',\n",
       " '05',\n",
       " '14',\n",
       " '19',\n",
       " '01',\n",
       " '11',\n",
       " '07',\n",
       " '16',\n",
       " '03',\n",
       " '13',\n",
       " '15',\n",
       " '02',\n",
       " '12',\n",
       " '10',\n",
       " '17',\n",
       " '04']"
      ]
     },
     "execution_count": 21,
     "metadata": {},
     "output_type": "execute_result"
    }
   ],
   "source": [
    "class_labels"
   ]
  },
  {
   "cell_type": "code",
   "execution_count": null,
   "metadata": {},
   "outputs": [],
   "source": []
  }
 ],
 "metadata": {
  "kernelspec": {
   "display_name": "Python 3",
   "language": "python",
   "name": "python3"
  },
  "language_info": {
   "codemirror_mode": {
    "name": "ipython",
    "version": 3
   },
   "file_extension": ".py",
   "mimetype": "text/x-python",
   "name": "python",
   "nbconvert_exporter": "python",
   "pygments_lexer": "ipython3",
   "version": "3.5.4"
  }
 },
 "nbformat": 4,
 "nbformat_minor": 2
}
